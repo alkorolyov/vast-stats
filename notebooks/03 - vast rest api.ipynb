{
 "cells": [
  {
   "cell_type": "code",
   "execution_count": 1,
   "outputs": [],
   "source": [
    "import os\n",
    "%load_ext autoreload\n",
    "%autoreload 2"
   ],
   "metadata": {
    "collapsed": false,
    "ExecuteTime": {
     "end_time": "2023-10-10T05:02:07.776672900Z",
     "start_time": "2023-10-10T05:02:07.649643300Z"
    }
   }
  },
  {
   "cell_type": "code",
   "execution_count": 3,
   "metadata": {
    "collapsed": true,
    "ExecuteTime": {
     "end_time": "2023-10-10T05:02:14.027404700Z",
     "start_time": "2023-10-10T05:02:12.921156900Z"
    }
   },
   "outputs": [],
   "source": [
    "import pandas as pd\n",
    "import requests\n",
    "import argparse\n",
    "import typing\n",
    "import json\n",
    "from urllib.parse import quote_plus\n",
    "from src.utils import df_na_vals, np_min_chunk, time_utc_now\n",
    "from src.fetch import _apiurl\n",
    "import os"
   ]
  },
  {
   "cell_type": "code",
   "execution_count": 5,
   "outputs": [
    {
     "data": {
      "text/plain": "Timestamp('2023-09-17 05:47:23')"
     },
     "execution_count": 5,
     "metadata": {},
     "output_type": "execute_result"
    }
   ],
   "source": [
    "time_utc_now()"
   ],
   "metadata": {
    "collapsed": false,
    "ExecuteTime": {
     "end_time": "2023-09-17T05:47:23.124114300Z",
     "start_time": "2023-09-17T05:47:22.946935100Z"
    }
   }
  },
  {
   "cell_type": "code",
   "execution_count": 9,
   "outputs": [
    {
     "ename": "AttributeError",
     "evalue": "module 'src.const' has no attribute 'VAST_API_URL'",
     "output_type": "error",
     "traceback": [
      "\u001B[1;31m---------------------------------------------------------------------------\u001B[0m",
      "\u001B[1;31mAttributeError\u001B[0m                            Traceback (most recent call last)",
      "Cell \u001B[1;32mIn[9], line 5\u001B[0m\n\u001B[0;32m      2\u001B[0m \u001B[38;5;28;01mimport\u001B[39;00m \u001B[38;5;21;01mlogging\u001B[39;00m\n\u001B[0;32m      4\u001B[0m query \u001B[38;5;241m=\u001B[39m {\u001B[38;5;124m\"\u001B[39m\u001B[38;5;124mexternal\u001B[39m\u001B[38;5;124m\"\u001B[39m: {\u001B[38;5;124m\"\u001B[39m\u001B[38;5;124meq\u001B[39m\u001B[38;5;124m\"\u001B[39m: \u001B[38;5;28;01mFalse\u001B[39;00m}, \u001B[38;5;124m\"\u001B[39m\u001B[38;5;124mdisable_bundling\u001B[39m\u001B[38;5;124m\"\u001B[39m: {\u001B[38;5;124m\"\u001B[39m\u001B[38;5;124meq\u001B[39m\u001B[38;5;124m\"\u001B[39m: \u001B[38;5;28;01mTrue\u001B[39;00m}, \u001B[38;5;124m\"\u001B[39m\u001B[38;5;124mtype\u001B[39m\u001B[38;5;124m\"\u001B[39m: \u001B[38;5;124m\"\u001B[39m\u001B[38;5;124mon-demand\u001B[39m\u001B[38;5;124m\"\u001B[39m}\n\u001B[1;32m----> 5\u001B[0m url \u001B[38;5;241m=\u001B[39m _apiurl(\u001B[43mconst\u001B[49m\u001B[38;5;241;43m.\u001B[39;49m\u001B[43mVAST_API_URL\u001B[49m, \u001B[38;5;124m\"\u001B[39m\u001B[38;5;124m/bundles\u001B[39m\u001B[38;5;124m\"\u001B[39m, {\u001B[38;5;124m\"\u001B[39m\u001B[38;5;124mq\u001B[39m\u001B[38;5;124m\"\u001B[39m: query})\n\u001B[0;32m      7\u001B[0m url \u001B[38;5;241m=\u001B[39m const\u001B[38;5;241m.\u001B[39mVAST_EXPORTER_URL \u001B[38;5;241m+\u001B[39m \u001B[38;5;124m'\u001B[39m\u001B[38;5;124m/offers\u001B[39m\u001B[38;5;124m'\u001B[39m\n\u001B[0;32m      9\u001B[0m r \u001B[38;5;241m=\u001B[39m requests\u001B[38;5;241m.\u001B[39mget(url, timeout\u001B[38;5;241m=\u001B[39m\u001B[38;5;241m20\u001B[39m)\n",
      "\u001B[1;31mAttributeError\u001B[0m: module 'src.const' has no attribute 'VAST_API_URL'"
     ]
    }
   ],
   "source": [
    "from src import const\n",
    "import logging\n",
    "\n",
    "query = {\"external\": {\"eq\": False}, \"disable_bundling\": {\"eq\": True}, \"type\": \"on-demand\"}\n",
    "url = _apiurl(const.VAST_API_BASEURL, \"/bundles\", {\"q\": query})\n",
    "\n",
    "url = const.VAST_EXPORTER_BASEURL + '/offers'\n",
    "\n",
    "r = requests.get(url, timeout=20)\n",
    "r.raise_for_status()\n",
    "\n",
    "r_dict = r.json()\n",
    "\n",
    "ts = int(pd.to_datetime(r_dict.get('timestamp', time_utc_now())).timestamp())\n",
    "raw = pd.DataFrame(r.json()[\"offers\"])\n",
    "raw['timestamp'] = ts\n",
    "raw.info()"
   ],
   "metadata": {
    "collapsed": false,
    "ExecuteTime": {
     "end_time": "2023-10-10T05:19:11.472263200Z",
     "start_time": "2023-10-10T05:19:11.314236900Z"
    }
   }
  },
  {
   "cell_type": "code",
   "execution_count": 24,
   "outputs": [
    {
     "data": {
      "text/plain": "dict_keys(['offers'])"
     },
     "execution_count": 24,
     "metadata": {},
     "output_type": "execute_result"
    }
   ],
   "source": [
    "r_dict.keys()"
   ],
   "metadata": {
    "collapsed": false,
    "ExecuteTime": {
     "end_time": "2023-09-17T06:13:36.404036200Z",
     "start_time": "2023-09-17T06:13:36.232598600Z"
    }
   }
  },
  {
   "cell_type": "code",
   "execution_count": null,
   "outputs": [],
   "source": [
    "r.text"
   ],
   "metadata": {
    "collapsed": false,
    "is_executing": true,
    "ExecuteTime": {
     "start_time": "2023-09-17T06:14:56.264061Z"
    }
   }
  },
  {
   "cell_type": "code",
   "execution_count": 20,
   "outputs": [
    {
     "name": "stdout",
     "output_type": "stream",
     "text": [
      "https://console.vast.ai/api/v0/bundles?q=%7B%22external%22%3A+%7B%22eq%22%3A+false%7D%2C+%22machine_id%22%3A+%7B%22eq%22%3A+%226312%22%7D%2C+%22order%22%3A+%5B%5B%22score%22%2C+%22desc%22%5D%5D%2C+%22type%22%3A+%22on-demand%22%7D&api_key=6bbc6e308dcf1fb7f0ead78eae9dbfc23767871bf2b8b7e1f3c9b54a99bc1579\n",
      "{'external': {'eq': False}, 'machine_id': {'eq': '6312'}, 'order': [['score', 'desc']], 'type': 'on-demand'}\n",
      "[\n",
      " {\n",
      "  \"bundle_id\": 321281227,\n",
      "  \"bundled_results\": 4,\n",
      "  \"bw_nvlink\": 56.24800109863281,\n",
      "  \"client_run_time\": 1.1,\n",
      "  \"compute_cap\": 860,\n",
      "  \"cpu_cores\": 128,\n",
      "  \"cpu_cores_effective\": 64.0,\n",
      "  \"cpu_name\": null,\n",
      "  \"cpu_ram\": 257585,\n",
      "  \"credit_balance\": null,\n",
      "  \"credit_discount\": null,\n",
      "  \"credit_discount_max\": 0.4,\n",
      "  \"cuda_max_good\": 11.8,\n",
      "  \"direct_port_count\": 1000,\n",
      "  \"discount_rate\": 0.0,\n",
      "  \"discounted_dph_total\": 0.8,\n",
      "  \"discounted_hourly\": 0.0,\n",
      "  \"disk_bw\": 933.8698507247343,\n",
      "  \"disk_name\": \"AMI Virtual\",\n",
      "  \"disk_space\": 345.15,\n",
      "  \"dlperf\": 61.523666,\n",
      "  \"dlperf_per_dphtotal\": 76.90458249999999,\n",
      "  \"dph_base\": 0.8,\n",
      "  \"dph_total\": 0.8,\n",
      "  \"driver_version\": \"520.61.05\",\n",
      "  \"duration\": null,\n",
      "  \"end_date\": null,\n",
      "  \"external\": false,\n",
      "  \"flops_per_dphtotal\": 74.83392,\n",
      "  \"geolocation\": \"New Jersey, US\",\n",
      "  \"gpu_display_active\": false,\n",
      "  \"gpu_frac\": 0.5,\n",
      "  \"gpu_lanes\": 16,\n",
      "  \"gpu_mem_bw\": 522.6,\n",
      "  \"gpu_name\": \"A40\",\n",
      "  \"gpu_ram\": 46068,\n",
      "  \"gpu_totalram\": 92136,\n",
      "  \"has_avx\": 1,\n",
      "  \"host_id\": 32241,\n",
      "  \"host_run_time\": 2592000.0,\n",
      "  \"hosting_type\": null,\n",
      "  \"id\": 5381485,\n",
      "  \"inet_down\": 609.8,\n",
      "  \"inet_down_billed\": null,\n",
      "  \"inet_down_cost\": 9.766578674316406e-05,\n",
      "  \"inet_up\": 464.1,\n",
      "  \"inet_up_billed\": null,\n",
      "  \"inet_up_cost\": 9.766578674316406e-05,\n",
      "  \"is_bid\": false,\n",
      "  \"logo\": \"/static/logos/vastai_small2.png\",\n",
      "  \"machine_id\": 6312,\n",
      "  \"min_bid\": 0.8,\n",
      "  \"mobo_name\": \"KRPG\",\n",
      "  \"num_gpus\": 2,\n",
      "  \"pci_gen\": 4.0,\n",
      "  \"pcie_bw\": 24.2,\n",
      "  \"pending_count\": 0,\n",
      "  \"public_ipaddr\": \"50.217.254.167\",\n",
      "  \"reliability2\": 0.9988652,\n",
      "  \"rentable\": false,\n",
      "  \"rented\": false,\n",
      "  \"score\": 64.96929992465728,\n",
      "  \"start_date\": null,\n",
      "  \"static_ip\": false,\n",
      "  \"storage_cost\": 0.15000000000000002,\n",
      "  \"storage_total_cost\": 0.0,\n",
      "  \"total_flops\": 59.86713600000001,\n",
      "  \"verification\": \"verified\",\n",
      "  \"vram_costperhour\": 8.682816705739342e-06,\n",
      "  \"webpage\": null\n",
      " },\n",
      " {\n",
      "  \"bundle_id\": 321279964,\n",
      "  \"bundled_results\": 8,\n",
      "  \"bw_nvlink\": 56.24800109863281,\n",
      "  \"client_run_time\": 1.1,\n",
      "  \"compute_cap\": 860,\n",
      "  \"cpu_cores\": 128,\n",
      "  \"cpu_cores_effective\": 32.0,\n",
      "  \"cpu_name\": null,\n",
      "  \"cpu_ram\": 257585,\n",
      "  \"credit_balance\": null,\n",
      "  \"credit_discount\": null,\n",
      "  \"credit_discount_max\": 0.4,\n",
      "  \"cuda_max_good\": 11.8,\n",
      "  \"direct_port_count\": 500,\n",
      "  \"discount_rate\": 0.0,\n",
      "  \"discounted_dph_total\": 0.4,\n",
      "  \"discounted_hourly\": 0.0,\n",
      "  \"disk_bw\": 933.8698507247343,\n",
      "  \"disk_name\": \"AMI Virtual\",\n",
      "  \"disk_space\": 172.575,\n",
      "  \"dlperf\": 30.760129,\n",
      "  \"dlperf_per_dphtotal\": 76.90032249999999,\n",
      "  \"dph_base\": 0.4,\n",
      "  \"dph_total\": 0.4,\n",
      "  \"driver_version\": \"520.61.05\",\n",
      "  \"duration\": null,\n",
      "  \"end_date\": null,\n",
      "  \"external\": false,\n",
      "  \"flops_per_dphtotal\": 74.83392,\n",
      "  \"geolocation\": \"New Jersey, US\",\n",
      "  \"gpu_display_active\": false,\n",
      "  \"gpu_frac\": 0.25,\n",
      "  \"gpu_lanes\": 16,\n",
      "  \"gpu_mem_bw\": 522.6,\n",
      "  \"gpu_name\": \"A40\",\n",
      "  \"gpu_ram\": 46068,\n",
      "  \"gpu_totalram\": 46068,\n",
      "  \"has_avx\": 1,\n",
      "  \"host_id\": 32241,\n",
      "  \"host_run_time\": 2592000.0,\n",
      "  \"hosting_type\": null,\n",
      "  \"id\": 5516888,\n",
      "  \"inet_down\": 609.8,\n",
      "  \"inet_down_billed\": null,\n",
      "  \"inet_down_cost\": 9.766578674316406e-05,\n",
      "  \"inet_up\": 464.1,\n",
      "  \"inet_up_billed\": null,\n",
      "  \"inet_up_cost\": 9.766578674316406e-05,\n",
      "  \"is_bid\": false,\n",
      "  \"logo\": \"/static/logos/vastai_small2.png\",\n",
      "  \"machine_id\": 6312,\n",
      "  \"min_bid\": 0.4,\n",
      "  \"mobo_name\": \"KRPG\",\n",
      "  \"num_gpus\": 1,\n",
      "  \"pci_gen\": 4.0,\n",
      "  \"pcie_bw\": 24.2,\n",
      "  \"pending_count\": 0,\n",
      "  \"public_ipaddr\": \"50.217.254.167\",\n",
      "  \"reliability2\": 0.9988652,\n",
      "  \"rentable\": false,\n",
      "  \"rented\": false,\n",
      "  \"score\": 64.87929187805886,\n",
      "  \"start_date\": null,\n",
      "  \"static_ip\": false,\n",
      "  \"storage_cost\": 0.15000000000000002,\n",
      "  \"storage_total_cost\": 0.0,\n",
      "  \"total_flops\": 29.933568000000005,\n",
      "  \"verification\": \"verified\",\n",
      "  \"vram_costperhour\": 8.682816705739342e-06,\n",
      "  \"webpage\": null\n",
      " },\n",
      " {\n",
      "  \"bundle_id\": 321280936,\n",
      "  \"bundled_results\": 2,\n",
      "  \"bw_nvlink\": 56.24800109863281,\n",
      "  \"client_run_time\": 1.1,\n",
      "  \"compute_cap\": 860,\n",
      "  \"cpu_cores\": 128,\n",
      "  \"cpu_cores_effective\": 128.0,\n",
      "  \"cpu_name\": null,\n",
      "  \"cpu_ram\": 257585,\n",
      "  \"credit_balance\": null,\n",
      "  \"credit_discount\": null,\n",
      "  \"credit_discount_max\": 0.4,\n",
      "  \"cuda_max_good\": 11.8,\n",
      "  \"direct_port_count\": 2000,\n",
      "  \"discount_rate\": 0.0,\n",
      "  \"discounted_dph_total\": 1.6,\n",
      "  \"discounted_hourly\": 0.0,\n",
      "  \"disk_bw\": 933.8698507247343,\n",
      "  \"disk_name\": \"AMI Virtual\",\n",
      "  \"disk_space\": 690.3,\n",
      "  \"dlperf\": 123.054147,\n",
      "  \"dlperf_per_dphtotal\": 76.908841875,\n",
      "  \"dph_base\": 1.6,\n",
      "  \"dph_total\": 1.6,\n",
      "  \"driver_version\": \"520.61.05\",\n",
      "  \"duration\": null,\n",
      "  \"end_date\": null,\n",
      "  \"external\": false,\n",
      "  \"flops_per_dphtotal\": 74.83392,\n",
      "  \"geolocation\": \"New Jersey, US\",\n",
      "  \"gpu_display_active\": false,\n",
      "  \"gpu_frac\": 1.0,\n",
      "  \"gpu_lanes\": 16,\n",
      "  \"gpu_mem_bw\": 522.4,\n",
      "  \"gpu_name\": \"A40\",\n",
      "  \"gpu_ram\": 46068,\n",
      "  \"gpu_totalram\": 184272,\n",
      "  \"has_avx\": 1,\n",
      "  \"host_id\": 32241,\n",
      "  \"host_run_time\": 2592000.0,\n",
      "  \"hosting_type\": null,\n",
      "  \"id\": 5381482,\n",
      "  \"inet_down\": 609.8,\n",
      "  \"inet_down_billed\": null,\n",
      "  \"inet_down_cost\": 9.766578674316406e-05,\n",
      "  \"inet_up\": 464.1,\n",
      "  \"inet_up_billed\": null,\n",
      "  \"inet_up_cost\": 9.766578674316406e-05,\n",
      "  \"is_bid\": false,\n",
      "  \"logo\": \"/static/logos/vastai_small2.png\",\n",
      "  \"machine_id\": 6312,\n",
      "  \"min_bid\": 1.6,\n",
      "  \"mobo_name\": \"KRPG\",\n",
      "  \"num_gpus\": 4,\n",
      "  \"pci_gen\": 4.0,\n",
      "  \"pcie_bw\": 15.5,\n",
      "  \"pending_count\": 0,\n",
      "  \"public_ipaddr\": \"50.217.254.167\",\n",
      "  \"reliability2\": 0.9988652,\n",
      "  \"rentable\": false,\n",
      "  \"rented\": false,\n",
      "  \"score\": 61.2904488107724,\n",
      "  \"start_date\": null,\n",
      "  \"static_ip\": false,\n",
      "  \"storage_cost\": 0.15000000000000002,\n",
      "  \"storage_total_cost\": 0.0,\n",
      "  \"total_flops\": 119.73427200000002,\n",
      "  \"verification\": \"verified\",\n",
      "  \"vram_costperhour\": 8.682816705739342e-06,\n",
      "  \"webpage\": null\n",
      " }\n",
      "]\n"
     ]
    }
   ],
   "source": [
    "# !python ../vast search offers \"rentable = any verified = any\" --raw\n",
    "# !python ../vast search offers \"machine_id = 9901 rentable = any verified = any\" --raw -i\n",
    "!python ../vast search offers \"machine_id = 6312 rentable = any verified = any\" --raw"
   ],
   "metadata": {
    "collapsed": false,
    "ExecuteTime": {
     "end_time": "2023-09-16T16:26:33.293867400Z",
     "start_time": "2023-09-16T16:26:31.171525200Z"
    }
   }
  },
  {
   "cell_type": "code",
   "execution_count": 5,
   "outputs": [
    {
     "name": "stdout",
     "output_type": "stream",
     "text": [
      "https://console.vast.ai/api/v0/bundles?q=%7B%22external%22%3A+%7B%22eq%22%3A+false%7D%2C+%22machine_id%22%3A+%7B%22eq%22%3A+%225919%22%7D%2C+%22order%22%3A+%5B%5B%22score%22%2C+%22desc%22%5D%5D%2C+%22type%22%3A+%22on-demand%22%7D&api_key=6bbc6e308dcf1fb7f0ead78eae9dbfc23767871bf2b8b7e1f3c9b54a99bc1579\n",
      "{'external': {'eq': False}, 'machine_id': {'eq': '5919'}, 'order': [['score', 'desc']], 'type': 'on-demand'}\n",
      "ID       CUDA   N  Model  PCIE  vCPUs    RAM  Disk  $/hr    DLP    DLP/$  NV Driver  Net_up  Net_down  R     Max_Days  mach_id  status    ports  country       \n",
      "5516880  11.8  2x  A40    23.8  64.0   257.6  238   0.8000  61.5   76.82  520.61.05  541.5   713.8     99.9  -         5919     verified  1000   New_Jersey,_US\n",
      "5402872  11.8  1x  A40    23.7  32.0   257.6  119   0.4000  30.7   76.78  520.61.05  541.5   713.8     99.9  -         5919     verified  500    New_Jersey,_US\n",
      "5402875  11.8  4x  A40    23.8  128.0  257.6  476   1.6000  122.9  76.83  520.61.05  541.5   713.8     99.9  -         5919     verified  2000   New_Jersey,_US\n"
     ]
    }
   ],
   "source": [
    "!python ../vast search offers \"machine_id = 5919 rentable = any verified = any\" -d\n",
    "# !python vast search offers \"machine_id = 3919\" -d"
   ],
   "metadata": {
    "collapsed": false,
    "ExecuteTime": {
     "end_time": "2023-10-10T05:04:45.505239600Z",
     "start_time": "2023-10-10T05:04:43.340856900Z"
    }
   }
  },
  {
   "cell_type": "code",
   "execution_count": 11,
   "outputs": [
    {
     "name": "stdout",
     "output_type": "stream",
     "text": [
      "https://console.vast.ai/api/v0/bundles?q=%7B%22external%22%3A+%7B%22eq%22%3A+false%7D%2C+%22rentable%22%3A+%7B%22eq%22%3A+true%7D%2C+%22machine_id%22%3A+%7B%22eq%22%3A+%225919%22%7D%2C+%22order%22%3A+%5B%5B%22score%22%2C+%22desc%22%5D%5D%2C+%22type%22%3A+%22on-demand%22%2C+%22disable_bundling%22%3A+true%7D&api_key=6bbc6e308dcf1fb7f0ead78eae9dbfc23767871bf2b8b7e1f3c9b54a99bc1579\n",
      "{'external': {'eq': False}, 'rentable': {'eq': True}, 'machine_id': {'eq': '5919'}, 'order': [['score', 'desc']], 'type': 'on-demand', 'disable_bundling': True}\n",
      "ID       CUDA   N  Model  PCIE  vCPUs    RAM  Disk  $/hr    DLP   DLP/$  NV Driver  Net_up  Net_down  R     Max_Days  mach_id  status    ports  country       \n",
      "5402876  11.8  2x  A40    24.1  64.0   257.6  238   0.8000  61.0  76.24  520.61.05  377.9   506.8     99.9  -         5919     verified  1000   New_Jersey,_US\n",
      "5516879  11.8  1x  A40    23.8  32.0   257.6  119   0.4000  30.5  76.21  520.61.05  377.9   506.8     99.9  -         5919     verified  500    New_Jersey,_US\n",
      "5402874  11.8  1x  A40    24.1  32.0   257.6  119   0.4000  30.5  76.21  520.61.05  377.9   506.8     99.9  -         5919     verified  500    New_Jersey,_US\n",
      "5516878  11.8  2x  A40    23.8  64.0   257.6  238   0.8000  61.0  76.24  520.61.05  377.9   506.8     99.9  -         5919     verified  1000   New_Jersey,_US\n",
      "5402877  11.8  1x  A40    23.8  32.0   257.6  119   0.4000  30.5  76.21  520.61.05  377.9   506.8     99.9  -         5919     verified  500    New_Jersey,_US\n",
      "5516876  11.8  1x  A40    24.1  32.0   257.6  119   0.4000  30.5  76.21  520.61.05  377.9   506.8     99.9  -         5919     verified  500    New_Jersey,_US\n"
     ]
    }
   ],
   "source": [
    "# !python vast search offers \"rentable = any verified = any\" --raw -d\n",
    "# !python vast search offers \"machine_id = 11833 rentable = any verified = any\" --raw -d\n",
    "# !python ../vast search offers \"machine_id = 5919 rentable = any verified = any\" --raw -d\n",
    "# !python ../vast search offers \"machine_id = 5919 rentable = any verified = any\" -d --disable-bundling\n",
    "!python ../vast search offers \"machine_id = 5919 verified = any\" -d --disable-bundling"
   ],
   "metadata": {
    "collapsed": false,
    "ExecuteTime": {
     "end_time": "2023-10-10T05:27:27.094032200Z",
     "start_time": "2023-10-10T05:27:24.806329800Z"
    }
   }
  },
  {
   "cell_type": "code",
   "execution_count": 4,
   "outputs": [
    {
     "data": {
      "text/plain": "'https://console.vast.ai/api/v0/bundles?q=%7B%22external%22%3A+%7B%22eq%22%3A+false%7D%2C+%22disable_bundling%22%3A+%7B%22eq%22%3A+true%7D%2C+%22type%22%3A+%22on-demand%22%7D'"
     },
     "execution_count": 4,
     "metadata": {},
     "output_type": "execute_result"
    }
   ],
   "source": [
    "# query = {\"external\": {\"eq\": False},  \"disable_bundling\" : {\"eq\": True}, \"type\": \"bid\"}\n",
    "query = {\"external\": {\"eq\": False},  \"disable_bundling\" : {\"eq\": True}, \"type\": \"on-demand\"}\n",
    "# query = {\"external\": {\"eq\": False}, \"type\": \"on-demand\"}\n",
    "\n",
    "# query = {'external': {'eq': False}, 'machine_id': {'eq': '3690'}, 'type': 'on-demand'}\n",
    "# query = {'external': {'eq': False}, 'machine_id': {'eq': '6312'}, \"disable_bundling\" : {\"eq\": True}, 'type': 'on-demand'}\n",
    "\n",
    "url = _apiurl(\"/bundles\", {\"q\": query})\n",
    "url"
   ],
   "metadata": {
    "collapsed": false,
    "ExecuteTime": {
     "end_time": "2023-09-16T14:16:27.840813100Z",
     "start_time": "2023-09-16T14:16:26.794578400Z"
    }
   }
  },
  {
   "cell_type": "code",
   "execution_count": 19,
   "outputs": [
    {
     "ename": "ImportError",
     "evalue": "cannot import name 'split_raw' from partially initialized module 'src.preprocess' (most likely due to a circular import) (C:\\Users\\ergot\\DataspellProjects\\vast-stats\\src\\preprocess.py)",
     "output_type": "error",
     "traceback": [
      "\u001B[1;31m---------------------------------------------------------------------------\u001B[0m",
      "\u001B[1;31mImportError\u001B[0m                               Traceback (most recent call last)",
      "Cell \u001B[1;32mIn[19], line 1\u001B[0m\n\u001B[1;32m----> 1\u001B[0m \u001B[38;5;28;01mfrom\u001B[39;00m \u001B[38;5;21;01msrc\u001B[39;00m\u001B[38;5;21;01m.\u001B[39;00m\u001B[38;5;21;01mpreprocess\u001B[39;00m \u001B[38;5;28;01mimport\u001B[39;00m preprocess\n\u001B[0;32m      2\u001B[0m preprocess(raw)\n",
      "File \u001B[1;32m~\\DataspellProjects\\vast-stats\\src\\preprocess.py:5\u001B[0m\n\u001B[0;32m      2\u001B[0m \u001B[38;5;28;01mimport\u001B[39;00m \u001B[38;5;21;01mpandas\u001B[39;00m \u001B[38;5;28;01mas\u001B[39;00m \u001B[38;5;21;01mpd\u001B[39;00m\n\u001B[0;32m      3\u001B[0m \u001B[38;5;28;01mfrom\u001B[39;00m \u001B[38;5;21;01mpandas\u001B[39;00m\u001B[38;5;21;01m.\u001B[39;00m\u001B[38;5;21;01mcore\u001B[39;00m\u001B[38;5;21;01m.\u001B[39;00m\u001B[38;5;21;01mdtypes\u001B[39;00m\u001B[38;5;21;01m.\u001B[39;00m\u001B[38;5;21;01mcommon\u001B[39;00m \u001B[38;5;28;01mimport\u001B[39;00m is_integer_dtype, is_float_dtype, is_string_dtype\n\u001B[1;32m----> 5\u001B[0m \u001B[38;5;28;01mfrom\u001B[39;00m \u001B[38;5;21;01msrc\u001B[39;00m \u001B[38;5;28;01mimport\u001B[39;00m tables \u001B[38;5;28;01mas\u001B[39;00m tbl\n\u001B[0;32m      6\u001B[0m \u001B[38;5;66;03m# from src.tables import INT32_COLS, STR_COLS, DROP_COLS\u001B[39;00m\n\u001B[0;32m      7\u001B[0m \u001B[38;5;28;01mfrom\u001B[39;00m \u001B[38;5;21;01msrc\u001B[39;00m\u001B[38;5;21;01m.\u001B[39;00m\u001B[38;5;21;01mutils\u001B[39;00m \u001B[38;5;28;01mimport\u001B[39;00m round_day, round_base, custom_round\n",
      "File \u001B[1;32m~\\DataspellProjects\\vast-stats\\src\\tables.py:8\u001B[0m\n\u001B[0;32m      6\u001B[0m \u001B[38;5;28;01mfrom\u001B[39;00m \u001B[38;5;21;01mpandas\u001B[39;00m \u001B[38;5;28;01mimport\u001B[39;00m DataFrame\n\u001B[0;32m      7\u001B[0m \u001B[38;5;28;01mfrom\u001B[39;00m \u001B[38;5;21;01msrc\u001B[39;00m\u001B[38;5;21;01m.\u001B[39;00m\u001B[38;5;21;01mutils\u001B[39;00m \u001B[38;5;28;01mimport\u001B[39;00m np_min_chunk\n\u001B[1;32m----> 8\u001B[0m \u001B[38;5;28;01mfrom\u001B[39;00m \u001B[38;5;21;01msrc\u001B[39;00m\u001B[38;5;21;01m.\u001B[39;00m\u001B[38;5;21;01mpreprocess\u001B[39;00m \u001B[38;5;28;01mimport\u001B[39;00m split_raw, preprocess\n\u001B[0;32m     10\u001B[0m offers_url \u001B[38;5;241m=\u001B[39m \u001B[38;5;124m'\u001B[39m\u001B[38;5;124mhttps://500.farm/vastai-exporter/offers\u001B[39m\u001B[38;5;124m'\u001B[39m\n\u001B[0;32m     11\u001B[0m machines_url \u001B[38;5;241m=\u001B[39m \u001B[38;5;124m'\u001B[39m\u001B[38;5;124mhttps://500.farm/vastai-exporter/machines\u001B[39m\u001B[38;5;124m'\u001B[39m\n",
      "\u001B[1;31mImportError\u001B[0m: cannot import name 'split_raw' from partially initialized module 'src.preprocess' (most likely due to a circular import) (C:\\Users\\ergot\\DataspellProjects\\vast-stats\\src\\preprocess.py)"
     ]
    }
   ],
   "source": [],
   "metadata": {
    "collapsed": false,
    "ExecuteTime": {
     "end_time": "2023-09-16T16:26:19.673608800Z",
     "start_time": "2023-09-16T16:26:19.360064700Z"
    }
   }
  },
  {
   "cell_type": "code",
   "execution_count": 7,
   "outputs": [
    {
     "data": {
      "text/plain": "dict_keys(['offers'])"
     },
     "execution_count": 7,
     "metadata": {},
     "output_type": "execute_result"
    }
   ],
   "source": [
    "r.json().keys()"
   ],
   "metadata": {
    "collapsed": false,
    "ExecuteTime": {
     "end_time": "2023-09-16T13:44:34.236775200Z",
     "start_time": "2023-09-16T13:44:34.215764200Z"
    }
   }
  },
  {
   "cell_type": "code",
   "execution_count": 25,
   "outputs": [
    {
     "data": {
      "text/plain": "    machine_id       id  num_gpus  rentable\n13        6312  5381479         1     False\n12        6312  5381480         1     False\n11        6312  5381481         1     False\n1         6312  5381482         4     False\n5         6312  5381483         2     False\n10        6312  5381484         1     False\n4         6312  5381485         2     False\n9         6312  5516883         1     False\n8         6312  5516884         1     False\n7         6312  5516885         1     False\n0         6312  5516886         4     False\n3         6312  5516887         2     False\n6         6312  5516888         1     False\n2         6312  5516889         2     False",
      "text/html": "<div>\n<style scoped>\n    .dataframe tbody tr th:only-of-type {\n        vertical-align: middle;\n    }\n\n    .dataframe tbody tr th {\n        vertical-align: top;\n    }\n\n    .dataframe thead th {\n        text-align: right;\n    }\n</style>\n<table border=\"1\" class=\"dataframe\">\n  <thead>\n    <tr style=\"text-align: right;\">\n      <th></th>\n      <th>machine_id</th>\n      <th>id</th>\n      <th>num_gpus</th>\n      <th>rentable</th>\n    </tr>\n  </thead>\n  <tbody>\n    <tr>\n      <th>13</th>\n      <td>6312</td>\n      <td>5381479</td>\n      <td>1</td>\n      <td>False</td>\n    </tr>\n    <tr>\n      <th>12</th>\n      <td>6312</td>\n      <td>5381480</td>\n      <td>1</td>\n      <td>False</td>\n    </tr>\n    <tr>\n      <th>11</th>\n      <td>6312</td>\n      <td>5381481</td>\n      <td>1</td>\n      <td>False</td>\n    </tr>\n    <tr>\n      <th>1</th>\n      <td>6312</td>\n      <td>5381482</td>\n      <td>4</td>\n      <td>False</td>\n    </tr>\n    <tr>\n      <th>5</th>\n      <td>6312</td>\n      <td>5381483</td>\n      <td>2</td>\n      <td>False</td>\n    </tr>\n    <tr>\n      <th>10</th>\n      <td>6312</td>\n      <td>5381484</td>\n      <td>1</td>\n      <td>False</td>\n    </tr>\n    <tr>\n      <th>4</th>\n      <td>6312</td>\n      <td>5381485</td>\n      <td>2</td>\n      <td>False</td>\n    </tr>\n    <tr>\n      <th>9</th>\n      <td>6312</td>\n      <td>5516883</td>\n      <td>1</td>\n      <td>False</td>\n    </tr>\n    <tr>\n      <th>8</th>\n      <td>6312</td>\n      <td>5516884</td>\n      <td>1</td>\n      <td>False</td>\n    </tr>\n    <tr>\n      <th>7</th>\n      <td>6312</td>\n      <td>5516885</td>\n      <td>1</td>\n      <td>False</td>\n    </tr>\n    <tr>\n      <th>0</th>\n      <td>6312</td>\n      <td>5516886</td>\n      <td>4</td>\n      <td>False</td>\n    </tr>\n    <tr>\n      <th>3</th>\n      <td>6312</td>\n      <td>5516887</td>\n      <td>2</td>\n      <td>False</td>\n    </tr>\n    <tr>\n      <th>6</th>\n      <td>6312</td>\n      <td>5516888</td>\n      <td>1</td>\n      <td>False</td>\n    </tr>\n    <tr>\n      <th>2</th>\n      <td>6312</td>\n      <td>5516889</td>\n      <td>2</td>\n      <td>False</td>\n    </tr>\n  </tbody>\n</table>\n</div>"
     },
     "execution_count": 25,
     "metadata": {},
     "output_type": "execute_result"
    }
   ],
   "source": [
    "df  = pd.DataFrame(rows)\n",
    "df[['machine_id', 'id', 'num_gpus', 'rentable']].sort_values('id')"
   ],
   "metadata": {
    "collapsed": false,
    "ExecuteTime": {
     "end_time": "2023-09-10T11:18:29.101017700Z",
     "start_time": "2023-09-10T11:18:28.852961200Z"
    }
   }
  },
  {
   "cell_type": "code",
   "execution_count": 26,
   "outputs": [
    {
     "data": {
      "text/plain": "    machine_id       id  num_gpus  rentable\n0         6312  5516886         4     False\n1         6312  5381482         4     False\n2         6312  5516889         2     False\n3         6312  5516887         2     False\n4         6312  5381485         2     False\n5         6312  5381483         2     False\n6         6312  5516888         1     False\n7         6312  5516885         1     False\n8         6312  5516884         1     False\n9         6312  5516883         1     False\n10        6312  5381484         1     False\n11        6312  5381481         1     False\n12        6312  5381480         1     False\n13        6312  5381479         1     False",
      "text/html": "<div>\n<style scoped>\n    .dataframe tbody tr th:only-of-type {\n        vertical-align: middle;\n    }\n\n    .dataframe tbody tr th {\n        vertical-align: top;\n    }\n\n    .dataframe thead th {\n        text-align: right;\n    }\n</style>\n<table border=\"1\" class=\"dataframe\">\n  <thead>\n    <tr style=\"text-align: right;\">\n      <th></th>\n      <th>machine_id</th>\n      <th>id</th>\n      <th>num_gpus</th>\n      <th>rentable</th>\n    </tr>\n  </thead>\n  <tbody>\n    <tr>\n      <th>0</th>\n      <td>6312</td>\n      <td>5516886</td>\n      <td>4</td>\n      <td>False</td>\n    </tr>\n    <tr>\n      <th>1</th>\n      <td>6312</td>\n      <td>5381482</td>\n      <td>4</td>\n      <td>False</td>\n    </tr>\n    <tr>\n      <th>2</th>\n      <td>6312</td>\n      <td>5516889</td>\n      <td>2</td>\n      <td>False</td>\n    </tr>\n    <tr>\n      <th>3</th>\n      <td>6312</td>\n      <td>5516887</td>\n      <td>2</td>\n      <td>False</td>\n    </tr>\n    <tr>\n      <th>4</th>\n      <td>6312</td>\n      <td>5381485</td>\n      <td>2</td>\n      <td>False</td>\n    </tr>\n    <tr>\n      <th>5</th>\n      <td>6312</td>\n      <td>5381483</td>\n      <td>2</td>\n      <td>False</td>\n    </tr>\n    <tr>\n      <th>6</th>\n      <td>6312</td>\n      <td>5516888</td>\n      <td>1</td>\n      <td>False</td>\n    </tr>\n    <tr>\n      <th>7</th>\n      <td>6312</td>\n      <td>5516885</td>\n      <td>1</td>\n      <td>False</td>\n    </tr>\n    <tr>\n      <th>8</th>\n      <td>6312</td>\n      <td>5516884</td>\n      <td>1</td>\n      <td>False</td>\n    </tr>\n    <tr>\n      <th>9</th>\n      <td>6312</td>\n      <td>5516883</td>\n      <td>1</td>\n      <td>False</td>\n    </tr>\n    <tr>\n      <th>10</th>\n      <td>6312</td>\n      <td>5381484</td>\n      <td>1</td>\n      <td>False</td>\n    </tr>\n    <tr>\n      <th>11</th>\n      <td>6312</td>\n      <td>5381481</td>\n      <td>1</td>\n      <td>False</td>\n    </tr>\n    <tr>\n      <th>12</th>\n      <td>6312</td>\n      <td>5381480</td>\n      <td>1</td>\n      <td>False</td>\n    </tr>\n    <tr>\n      <th>13</th>\n      <td>6312</td>\n      <td>5381479</td>\n      <td>1</td>\n      <td>False</td>\n    </tr>\n  </tbody>\n</table>\n</div>"
     },
     "execution_count": 26,
     "metadata": {},
     "output_type": "execute_result"
    }
   ],
   "source": [
    "df  = pd.DataFrame(rows)\n",
    "df[['machine_id', 'id', 'num_gpus', 'rentable']]\n",
    "# df.set_index(['machine_id', 'id']).sort_index()['num_gpus']"
   ],
   "metadata": {
    "collapsed": false,
    "ExecuteTime": {
     "end_time": "2023-09-10T11:18:35.204048400Z",
     "start_time": "2023-09-10T11:18:34.958002200Z"
    }
   }
  },
  {
   "cell_type": "code",
   "execution_count": 27,
   "outputs": [],
   "source": [
    "df = np_min_chunk(df)"
   ],
   "metadata": {
    "collapsed": false,
    "ExecuteTime": {
     "end_time": "2023-09-10T11:18:38.710011900Z",
     "start_time": "2023-09-10T11:18:38.479915900Z"
    }
   }
  },
  {
   "cell_type": "code",
   "execution_count": 28,
   "outputs": [
    {
     "name": "stdout",
     "output_type": "stream",
     "text": [
      "is_bid                    ->          Missing values: 0 (0.00%)\n",
      "inet_up_billed            ->          Missing values: 8 (100.00%)\n",
      "inet_down_billed          ->          Missing values: 8 (100.00%)\n",
      "external                  ->          Missing values: 0 (0.00%)\n",
      "webpage                   ->          Missing values: 8 (100.00%)\n",
      "logo                      ->          Missing values: 0 (0.00%)\n",
      "rentable                  ->          Missing values: 0 (0.00%)\n",
      "compute_cap               ->          Missing values: 0 (0.00%)\n",
      "credit_balance            ->          Missing values: 8 (100.00%)\n",
      "credit_discount           ->          Missing values: 8 (100.00%)\n",
      "credit_discount_max       ->          Missing values: 0 (0.00%)\n",
      "driver_version            ->          Missing values: 0 (0.00%)\n",
      "cuda_max_good             ->          Missing values: 0 (0.00%)\n",
      "machine_id                ->          Missing values: 0 (0.00%)\n",
      "hosting_type              ->          Missing values: 8 (100.00%)\n",
      "public_ipaddr             ->          Missing values: 0 (0.00%)\n",
      "geolocation               ->          Missing values: 0 (0.00%)\n",
      "flops_per_dphtotal        ->          Missing values: 0 (0.00%)\n",
      "dlperf_per_dphtotal       ->          Missing values: 0 (0.00%)\n",
      "reliability2              ->          Missing values: 0 (0.00%)\n",
      "host_run_time             ->          Missing values: 0 (0.00%)\n",
      "client_run_time           ->          Missing values: 0 (0.00%)\n",
      "host_id                   ->          Missing values: 0 (0.00%)\n",
      "id                        ->          Missing values: 0 (0.00%)\n",
      "bundle_id                 ->          Missing values: 0 (0.00%)\n",
      "num_gpus                  ->          Missing values: 0 (0.00%)\n",
      "total_flops               ->          Missing values: 0 (0.00%)\n",
      "min_bid                   ->          Missing values: 0 (0.00%)\n",
      "dph_base                  ->          Missing values: 0 (0.00%)\n",
      "dph_total                 ->          Missing values: 0 (0.00%)\n",
      "gpu_name                  ->          Missing values: 0 (0.00%)\n",
      "gpu_ram                   ->          Missing values: 0 (0.00%)\n",
      "gpu_totalram              ->          Missing values: 0 (0.00%)\n",
      "vram_costperhour          ->          Missing values: 0 (0.00%)\n",
      "gpu_display_active        ->          Missing values: 0 (0.00%)\n",
      "gpu_mem_bw                ->          Missing values: 0 (0.00%)\n",
      "bw_nvlink                 ->          Missing values: 0 (0.00%)\n",
      "direct_port_count         ->          Missing values: 0 (0.00%)\n",
      "gpu_lanes                 ->          Missing values: 0 (0.00%)\n",
      "pcie_bw                   ->          Missing values: 0 (0.00%)\n",
      "pci_gen                   ->          Missing values: 0 (0.00%)\n",
      "dlperf                    ->          Missing values: 0 (0.00%)\n",
      "cpu_name                  ->          Missing values: 8 (100.00%)\n",
      "mobo_name                 ->          Missing values: 0 (0.00%)\n",
      "cpu_ram                   ->          Missing values: 0 (0.00%)\n",
      "cpu_cores                 ->          Missing values: 0 (0.00%)\n",
      "cpu_cores_effective       ->          Missing values: 0 (0.00%)\n",
      "gpu_frac                  ->          Missing values: 0 (0.00%)\n",
      "has_avx                   ->          Missing values: 0 (0.00%)\n",
      "disk_space                ->          Missing values: 0 (0.00%)\n",
      "disk_name                 ->          Missing values: 0 (0.00%)\n",
      "disk_bw                   ->          Missing values: 0 (0.00%)\n",
      "inet_up                   ->          Missing values: 0 (0.00%)\n",
      "inet_down                 ->          Missing values: 0 (0.00%)\n",
      "start_date                ->          Missing values: 8 (100.00%)\n",
      "end_date                  ->          Missing values: 8 (100.00%)\n",
      "duration                  ->          Missing values: 8 (100.00%)\n",
      "storage_cost              ->          Missing values: 0 (0.00%)\n",
      "inet_up_cost              ->          Missing values: 0 (0.00%)\n",
      "inet_down_cost            ->          Missing values: 0 (0.00%)\n",
      "storage_total_cost        ->          Missing values: 0 (0.00%)\n",
      "verification              ->          Missing values: 0 (0.00%)\n",
      "static_ip                 ->          Missing values: 0 (0.00%)\n",
      "score                     ->          Missing values: 0 (0.00%)\n",
      "discount_rate             ->          Missing values: 0 (0.00%)\n",
      "discounted_hourly         ->          Missing values: 0 (0.00%)\n",
      "discounted_dph_total      ->          Missing values: 0 (0.00%)\n",
      "rented                    ->          Missing values: 0 (0.00%)\n",
      "pending_count             ->          Missing values: 0 (0.00%)\n"
     ]
    },
    {
     "data": {
      "text/plain": "['inet_up_billed',\n 'inet_down_billed',\n 'webpage',\n 'credit_balance',\n 'credit_discount',\n 'hosting_type',\n 'cpu_name',\n 'start_date',\n 'end_date',\n 'duration']"
     },
     "execution_count": 28,
     "metadata": {},
     "output_type": "execute_result"
    }
   ],
   "source": [
    "df_na_vals(df)"
   ],
   "metadata": {
    "collapsed": false,
    "ExecuteTime": {
     "end_time": "2023-09-10T11:18:39.827600600Z",
     "start_time": "2023-09-10T11:18:39.566541900Z"
    }
   }
  },
  {
   "cell_type": "code",
   "execution_count": 29,
   "outputs": [
    {
     "data": {
      "text/plain": "Empty DataFrame\nColumns: [start_date, end_date]\nIndex: []",
      "text/html": "<div>\n<style scoped>\n    .dataframe tbody tr th:only-of-type {\n        vertical-align: middle;\n    }\n\n    .dataframe tbody tr th {\n        vertical-align: top;\n    }\n\n    .dataframe thead th {\n        text-align: right;\n    }\n</style>\n<table border=\"1\" class=\"dataframe\">\n  <thead>\n    <tr style=\"text-align: right;\">\n      <th></th>\n      <th>start_date</th>\n      <th>end_date</th>\n    </tr>\n  </thead>\n  <tbody>\n  </tbody>\n</table>\n</div>"
     },
     "execution_count": 29,
     "metadata": {},
     "output_type": "execute_result"
    }
   ],
   "source": [
    "# df[df.machine_id == 10298]\n",
    "df[df.machine_id == 11734][['start_date', 'end_date']]"
   ],
   "metadata": {
    "collapsed": false,
    "ExecuteTime": {
     "end_time": "2023-09-10T11:18:43.345984Z",
     "start_time": "2023-09-10T11:18:43.106931500Z"
    }
   }
  },
  {
   "cell_type": "code",
   "execution_count": 30,
   "outputs": [
    {
     "name": "stdout",
     "output_type": "stream",
     "text": [
      "https://console.vast.ai/api/v0/bundles?q=%7B%22external%22%3A+%7B%22eq%22%3A+false%7D%2C+%22machine_id%22%3A+%7B%22eq%22%3A+%22162%22%7D%2C+%22order%22%3A+%5B%5B%22score%22%2C+%22desc%22%5D%5D%2C+%22type%22%3A+%22on-demand%22%7D&api_key=6bbc6e308dcf1fb7f0ead78eae9dbfc23767871bf2b8b7e1f3c9b54a99bc1579\n",
      "{'external': {'eq': False}, 'machine_id': {'eq': '162'}, 'order': [['score', 'desc']], 'type': 'on-demand'}\n",
      "ID       CUDA   N  Model        PCIE  vCPUs   RAM  Disk  $/hr    DLP   DLP/$  NV Driver  Net_up  Net_down  R     Max_Days  mach_id  status    ports  country \n",
      "6612968  11.7  4x  RTX_2080_Ti  12.5  32.0   64.4  768   0.6000  49.3  82.08  515.65.01  45.4    345.4     99.8  -         162      verified  1000   Ohio,_US\n"
     ]
    }
   ],
   "source": [
    "!python vast search offers \"machine_id = 162 rentable = any verified = any\" -d"
   ],
   "metadata": {
    "collapsed": false,
    "ExecuteTime": {
     "end_time": "2023-09-10T11:18:48.648515400Z",
     "start_time": "2023-09-10T11:18:46.460073900Z"
    }
   }
  },
  {
   "cell_type": "code",
   "execution_count": 31,
   "outputs": [
    {
     "data": {
      "text/plain": "False"
     },
     "execution_count": 31,
     "metadata": {},
     "output_type": "execute_result"
    }
   ],
   "source": [
    "df.is_bid.any()"
   ],
   "metadata": {
    "collapsed": false,
    "ExecuteTime": {
     "end_time": "2023-09-10T11:18:53.740775500Z",
     "start_time": "2023-09-10T11:18:53.501577500Z"
    }
   }
  },
  {
   "cell_type": "code",
   "execution_count": null,
   "outputs": [],
   "source": [],
   "metadata": {
    "collapsed": false
   }
  }
 ],
 "metadata": {
  "kernelspec": {
   "display_name": "Python 3",
   "language": "python",
   "name": "python3"
  },
  "language_info": {
   "codemirror_mode": {
    "name": "ipython",
    "version": 2
   },
   "file_extension": ".py",
   "mimetype": "text/x-python",
   "name": "python",
   "nbconvert_exporter": "python",
   "pygments_lexer": "ipython2",
   "version": "2.7.6"
  }
 },
 "nbformat": 4,
 "nbformat_minor": 0
}
