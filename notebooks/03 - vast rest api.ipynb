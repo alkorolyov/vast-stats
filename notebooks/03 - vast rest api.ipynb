{
 "cells": [
  {
   "cell_type": "code",
   "execution_count": 1,
   "outputs": [],
   "source": [
    "import os\n",
    "%load_ext autoreload\n",
    "%autoreload 2"
   ],
   "metadata": {
    "collapsed": false,
    "ExecuteTime": {
     "end_time": "2024-03-27T07:48:11.401464700Z",
     "start_time": "2024-03-27T07:48:11.283465300Z"
    }
   }
  },
  {
   "cell_type": "code",
   "execution_count": 2,
   "metadata": {
    "collapsed": true,
    "ExecuteTime": {
     "end_time": "2024-03-27T07:48:12.628724900Z",
     "start_time": "2024-03-27T07:48:11.402464400Z"
    }
   },
   "outputs": [],
   "source": [
    "import pandas as pd\n",
    "import requests\n",
    "import argparse\n",
    "import typing\n",
    "import json\n",
    "from urllib.parse import quote_plus\n",
    "from src.utils import df_na_vals, np_min_chunk, time_utc_now\n",
    "from src.fetch import _apiurl\n",
    "from src.preprocess import preprocess, split_raw\n",
    "from src.tables_old import get_machines, get_offers\n",
    "import os"
   ]
  },
  {
   "cell_type": "code",
   "execution_count": 3,
   "outputs": [
    {
     "data": {
      "text/plain": "Timestamp('2024-03-27 07:48:13+0000', tz='UTC')"
     },
     "execution_count": 3,
     "metadata": {},
     "output_type": "execute_result"
    }
   ],
   "source": [
    "time_utc_now()"
   ],
   "metadata": {
    "collapsed": false,
    "ExecuteTime": {
     "end_time": "2024-03-27T07:48:12.801725500Z",
     "start_time": "2024-03-27T07:48:12.630725400Z"
    }
   }
  },
  {
   "cell_type": "code",
   "execution_count": 4,
   "outputs": [
    {
     "name": "stdout",
     "output_type": "stream",
     "text": [
      "<class 'pandas.core.frame.DataFrame'>\n",
      "RangeIndex: 64 entries, 0 to 63\n",
      "Data columns (total 77 columns):\n",
      " #   Column                Non-Null Count  Dtype  \n",
      "---  ------                --------------  -----  \n",
      " 0   id                    64 non-null     int64  \n",
      " 1   ask_contract_id       64 non-null     int64  \n",
      " 2   bundle_id             64 non-null     int64  \n",
      " 3   bundled_results       23 non-null     float64\n",
      " 4   bw_nvlink             64 non-null     float64\n",
      " 5   compute_cap           64 non-null     int64  \n",
      " 6   cpu_arch              64 non-null     object \n",
      " 7   cpu_cores             64 non-null     int64  \n",
      " 8   cpu_cores_effective   64 non-null     float64\n",
      " 9   cpu_ghz               63 non-null     float64\n",
      " 10  cpu_name              63 non-null     object \n",
      " 11  cpu_ram               64 non-null     int64  \n",
      " 12  credit_discount_max   64 non-null     float64\n",
      " 13  cuda_max_good         64 non-null     float64\n",
      " 14  direct_port_count     64 non-null     int64  \n",
      " 15  disk_bw               64 non-null     float64\n",
      " 16  disk_name             64 non-null     object \n",
      " 17  disk_space            64 non-null     float64\n",
      " 18  dlperf                64 non-null     float64\n",
      " 19  dlperf_per_dphtotal   64 non-null     float64\n",
      " 20  dph_base              64 non-null     float64\n",
      " 21  dph_total             64 non-null     float64\n",
      " 22  driver_version        64 non-null     object \n",
      " 23  driver_vers           62 non-null     float64\n",
      " 24  duration              64 non-null     float64\n",
      " 25  end_date              64 non-null     float64\n",
      " 26  external              0 non-null      object \n",
      " 27  flops_per_dphtotal    64 non-null     float64\n",
      " 28  geolocation           58 non-null     object \n",
      " 29  geolocode             64 non-null     int64  \n",
      " 30  gpu_arch              64 non-null     object \n",
      " 31  gpu_display_active    64 non-null     bool   \n",
      " 32  gpu_frac              64 non-null     float64\n",
      " 33  gpu_ids               64 non-null     object \n",
      " 34  gpu_lanes             64 non-null     int64  \n",
      " 35  gpu_mem_bw            64 non-null     float64\n",
      " 36  gpu_name              64 non-null     object \n",
      " 37  gpu_ram               64 non-null     int64  \n",
      " 38  gpu_total_ram         64 non-null     int64  \n",
      " 39  has_avx               64 non-null     int64  \n",
      " 40  host_id               64 non-null     int64  \n",
      " 41  hosting_type          64 non-null     int64  \n",
      " 42  hostname              0 non-null      object \n",
      " 43  inet_down             64 non-null     float64\n",
      " 44  inet_down_cost        64 non-null     float64\n",
      " 45  inet_up               64 non-null     float64\n",
      " 46  inet_up_cost          64 non-null     float64\n",
      " 47  is_bid                64 non-null     bool   \n",
      " 48  logo                  64 non-null     object \n",
      " 49  machine_id            64 non-null     int64  \n",
      " 50  min_bid               64 non-null     float64\n",
      " 51  mobo_name             61 non-null     object \n",
      " 52  num_gpus              64 non-null     int64  \n",
      " 53  os_version            62 non-null     object \n",
      " 54  pci_gen               64 non-null     float64\n",
      " 55  pcie_bw               62 non-null     float64\n",
      " 56  public_ipaddr         64 non-null     object \n",
      " 57  reliability           64 non-null     float64\n",
      " 58  reliability_mult      64 non-null     float64\n",
      " 59  rentable              64 non-null     bool   \n",
      " 60  rented                64 non-null     bool   \n",
      " 61  score                 64 non-null     float64\n",
      " 62  start_date            6 non-null      float64\n",
      " 63  static_ip             64 non-null     bool   \n",
      " 64  storage_cost          64 non-null     float64\n",
      " 65  storage_total_cost    64 non-null     float64\n",
      " 66  total_flops           64 non-null     float64\n",
      " 67  verification          64 non-null     object \n",
      " 68  vericode              64 non-null     int64  \n",
      " 69  vram_costperhour      64 non-null     float64\n",
      " 70  webpage               0 non-null      object \n",
      " 71  rn                    64 non-null     int64  \n",
      " 72  reliability2          64 non-null     float64\n",
      " 73  discount_rate         64 non-null     float64\n",
      " 74  discounted_hourly     64 non-null     float64\n",
      " 75  discounted_dph_total  64 non-null     float64\n",
      " 76  timestamp             64 non-null     int64  \n",
      "dtypes: bool(5), float64(37), int64(19), object(16)\n",
      "memory usage: 36.4+ KB\n"
     ]
    }
   ],
   "source": [
    "from src import const\n",
    "import logging\n",
    "\n",
    "query = {\"external\": {\"eq\": False}, \"disable_bundling\": {\"eq\": True}, \"type\": \"on-demand\"}\n",
    "url = _apiurl(const.VAST_API_BASEURL, \"/bundles\", {\"q\": query})\n",
    "\n",
    "# url = const.VAST_EXPORTER_BASEURL + '/offers'\n",
    "\n",
    "r = requests.get(url, timeout=20)\n",
    "r.raise_for_status()\n",
    "\n",
    "r_dict = r.json()\n",
    "\n",
    "ts = int(pd.to_datetime(r_dict.get('timestamp', time_utc_now())).timestamp())\n",
    "raw = pd.DataFrame(r.json()[\"offers\"])\n",
    "raw['timestamp'] = ts\n",
    "raw.info()"
   ],
   "metadata": {
    "collapsed": false,
    "ExecuteTime": {
     "end_time": "2024-03-27T07:48:14.781839Z",
     "start_time": "2024-03-27T07:48:12.803727400Z"
    }
   }
  },
  {
   "cell_type": "code",
   "execution_count": 116,
   "outputs": [
    {
     "data": {
      "text/plain": "0"
     },
     "execution_count": 116,
     "metadata": {},
     "output_type": "execute_result"
    }
   ],
   "source": [
    "raw.rented.astype(int).sum()"
   ],
   "metadata": {
    "collapsed": false,
    "ExecuteTime": {
     "end_time": "2023-10-13T06:16:10.616227Z",
     "start_time": "2023-10-13T06:16:10.526206100Z"
    }
   }
  },
  {
   "cell_type": "code",
   "execution_count": 117,
   "outputs": [
    {
     "data": {
      "text/plain": "46"
     },
     "execution_count": 117,
     "metadata": {},
     "output_type": "execute_result"
    }
   ],
   "source": [
    "len(const.KEEP_COLS)"
   ],
   "metadata": {
    "collapsed": false,
    "ExecuteTime": {
     "end_time": "2023-10-13T06:16:10.720753300Z",
     "start_time": "2023-10-13T06:16:10.619228200Z"
    }
   }
  },
  {
   "cell_type": "code",
   "execution_count": 118,
   "outputs": [],
   "source": [
    "preprocess(raw)"
   ],
   "metadata": {
    "collapsed": false,
    "ExecuteTime": {
     "end_time": "2023-10-13T06:16:10.882796100Z",
     "start_time": "2023-10-13T06:16:10.710751500Z"
    }
   }
  },
  {
   "cell_type": "code",
   "execution_count": 119,
   "outputs": [
    {
     "name": "stdout",
     "output_type": "stream",
     "text": [
      "<class 'pandas.core.frame.DataFrame'>\n",
      "RangeIndex: 7766 entries, 0 to 7765\n",
      "Data columns (total 43 columns):\n",
      " #   Column               Non-Null Count  Dtype \n",
      "---  ------               --------------  ----- \n",
      " 0   rented               7766 non-null   int32 \n",
      " 1   compute_cap          7766 non-null   int32 \n",
      " 2   credit_discount_max  7766 non-null   int32 \n",
      " 3   driver_version       7766 non-null   object\n",
      " 4   cuda_max_good        7766 non-null   object\n",
      " 5   machine_id           7766 non-null   int32 \n",
      " 6   hosting_type         7766 non-null   int32 \n",
      " 7   public_ipaddr        7766 non-null   object\n",
      " 8   reliability          7766 non-null   int32 \n",
      " 9   host_id              7766 non-null   int32 \n",
      " 10  id                   7766 non-null   int32 \n",
      " 11  num_gpus             7766 non-null   int32 \n",
      " 12  total_flops          7766 non-null   int32 \n",
      " 13  min_bid              7766 non-null   int32 \n",
      " 14  dph_base             7766 non-null   int32 \n",
      " 15  gpu_name             7766 non-null   object\n",
      " 16  gpu_ram              7766 non-null   int32 \n",
      " 17  gpu_mem_bw           7766 non-null   int32 \n",
      " 18  bw_nvlink            7766 non-null   int32 \n",
      " 19  direct_port_count    7766 non-null   int32 \n",
      " 20  gpu_lanes            7766 non-null   int32 \n",
      " 21  pcie_bw              7766 non-null   int32 \n",
      " 22  pci_gen              7766 non-null   int32 \n",
      " 23  dlperf               7766 non-null   int32 \n",
      " 24  cpu_name             7766 non-null   object\n",
      " 25  mobo_name            7766 non-null   object\n",
      " 26  cpu_ram              7766 non-null   int32 \n",
      " 27  cpu_cores            7766 non-null   int32 \n",
      " 28  has_avx              7766 non-null   int32 \n",
      " 29  disk_space           7766 non-null   int32 \n",
      " 30  disk_name            7766 non-null   object\n",
      " 31  disk_bw              7766 non-null   int32 \n",
      " 32  inet_up              7766 non-null   int32 \n",
      " 33  inet_down            7766 non-null   int32 \n",
      " 34  end_date             7766 non-null   int32 \n",
      " 35  storage_cost         7766 non-null   int32 \n",
      " 36  inet_up_cost         7766 non-null   int32 \n",
      " 37  inet_down_cost       7766 non-null   int32 \n",
      " 38  verification         7766 non-null   int32 \n",
      " 39  static_ip            7766 non-null   int32 \n",
      " 40  score                7766 non-null   int32 \n",
      " 41  timestamp            7766 non-null   int32 \n",
      " 42  country              7766 non-null   object\n",
      "dtypes: int32(35), object(8)\n",
      "memory usage: 1.5+ MB\n"
     ]
    }
   ],
   "source": [
    "raw.info()"
   ],
   "metadata": {
    "collapsed": false,
    "ExecuteTime": {
     "end_time": "2023-10-13T06:16:10.988819800Z",
     "start_time": "2023-10-13T06:16:10.883796300Z"
    }
   }
  },
  {
   "cell_type": "code",
   "execution_count": 120,
   "outputs": [],
   "source": [
    "machines_exp = get_machines()"
   ],
   "metadata": {
    "collapsed": false,
    "ExecuteTime": {
     "end_time": "2023-10-13T06:16:12.687361Z",
     "start_time": "2023-10-13T06:16:10.990819800Z"
    }
   }
  },
  {
   "cell_type": "code",
   "execution_count": 121,
   "outputs": [],
   "source": [
    "machines_vast, offers = split_raw(raw)\n",
    "\n",
    "machines_vast.set_index('machine_id', inplace=True)\n",
    "machines_exp.set_index('machine_id', inplace=True)\n",
    "\n",
    "machines_vast.sort_index(axis=1, inplace=True)\n",
    "machines_exp.sort_index(inplace=True)\n",
    "machines_vast.sort_index(inplace=True)"
   ],
   "metadata": {
    "collapsed": false,
    "ExecuteTime": {
     "end_time": "2023-10-13T06:16:12.802387700Z",
     "start_time": "2023-10-13T06:16:12.689360800Z"
    }
   }
  },
  {
   "cell_type": "code",
   "execution_count": 121,
   "outputs": [],
   "source": [],
   "metadata": {
    "collapsed": false,
    "ExecuteTime": {
     "end_time": "2023-10-13T06:16:12.819390700Z",
     "start_time": "2023-10-13T06:16:12.804387200Z"
    }
   }
  },
  {
   "cell_type": "code",
   "execution_count": 122,
   "outputs": [
    {
     "data": {
      "text/plain": "            bw_nvlink  compute_cap country  cpu_cores  \\\nmachine_id                                              \n63                  0          750      US         24   \n162                 0          750      US         32   \n274                 0          610      UA         32   \n275                 0          610      UA         32   \n283                 0          610      UA         40   \n...               ...          ...     ...        ...   \n14017               0          860      ID         28   \n14018               0          890      FI        128   \n14019               0          860      FR         16   \n14020               0          860      US         16   \n14022               0          890      US        128   \n\n                                                  cpu_name  cpu_ram  \\\nmachine_id                                                            \n63                                         Xeon® E5-2630 0      354   \n162         AMD Ryzen Threadripper 1950X 16-Core Processor       63   \n274                                       Xeon® E5-2650 v2       63   \n275                                       Xeon® E5-2650 v2       63   \n283                                       Xeon® E5-2658 v2       63   \n...                                                    ...      ...   \n14017                                     Xeon® E5-2680 v4       31   \n14018                      AMD EPYC 7V12 64-Core Processor      504   \n14019                                       Core™ i9-9900K       31   \n14020                                      Xeon® E5-2680 0       31   \n14022                      AMD EPYC 7742 64-Core Processor      504   \n\n            credit_discount_max cuda_max_good  direct_port_count  disk_bw  \\\nmachine_id                                                                  \n63                          400          12.2               1000     1748   \n162                         400          11.7               1000     1767   \n274                         100          12.0               1000     1531   \n275                         100          12.0               1000     1604   \n283                         100          12.0               1000      212   \n...                         ...           ...                ...      ...   \n14017                       400          12.2                200      371   \n14018                       400          12.2               1000     1360   \n14019                       400          12.0                  0     3943   \n14020                       400          12.0                501      491   \n14022                       400          12.2                100    21932   \n\n            ... pci_gen  pcie_bw   public_ipaddr  reliability score  \\\nmachine_id  ...                                                       \n63          ...       3      110  23.245.210.159         9982    22   \n162         ...       3      125  23.245.210.159         9979    50   \n274         ...       3       58   194.44.114.10         9960    51   \n275         ...       3       58   194.44.114.10         9961    49   \n283         ...       3       57   194.44.114.10         9892    50   \n...         ...     ...      ...             ...          ...   ...   \n14017       ...       3      115      36.72.78.0         6093    24   \n14018       ...       4      127  37.136.155.159         6101     7   \n14019       ...       2        3   37.171.195.43         6150     2   \n14020       ...       3       29     98.201.7.18         6000    12   \n14022       ...       4      128    68.132.57.51         6000     6   \n\n            static_ip  storage_cost   timestamp total_flops  verification  \nmachine_id                                                                 \n63                  0           150  1697177770          15             0  \n162                 1           150  1697177770          61             1  \n274                 1           150  1697177770          49             1  \n275                 1           150  1697177770          49             2  \n283                 1           150  1697177770          37             1  \n...               ...           ...         ...         ...           ...  \n14017               1           150  1697177770          40             0  \n14018               1           150  1697177770         570             0  \n14019               1           150  1697177770         119             0  \n14020               1           150  1697177770          24             0  \n14022               1           260  1697177770         330             0  \n\n[1799 rows x 42 columns]",
      "text/html": "<div>\n<style scoped>\n    .dataframe tbody tr th:only-of-type {\n        vertical-align: middle;\n    }\n\n    .dataframe tbody tr th {\n        vertical-align: top;\n    }\n\n    .dataframe thead th {\n        text-align: right;\n    }\n</style>\n<table border=\"1\" class=\"dataframe\">\n  <thead>\n    <tr style=\"text-align: right;\">\n      <th></th>\n      <th>bw_nvlink</th>\n      <th>compute_cap</th>\n      <th>country</th>\n      <th>cpu_cores</th>\n      <th>cpu_name</th>\n      <th>cpu_ram</th>\n      <th>credit_discount_max</th>\n      <th>cuda_max_good</th>\n      <th>direct_port_count</th>\n      <th>disk_bw</th>\n      <th>...</th>\n      <th>pci_gen</th>\n      <th>pcie_bw</th>\n      <th>public_ipaddr</th>\n      <th>reliability</th>\n      <th>score</th>\n      <th>static_ip</th>\n      <th>storage_cost</th>\n      <th>timestamp</th>\n      <th>total_flops</th>\n      <th>verification</th>\n    </tr>\n    <tr>\n      <th>machine_id</th>\n      <th></th>\n      <th></th>\n      <th></th>\n      <th></th>\n      <th></th>\n      <th></th>\n      <th></th>\n      <th></th>\n      <th></th>\n      <th></th>\n      <th></th>\n      <th></th>\n      <th></th>\n      <th></th>\n      <th></th>\n      <th></th>\n      <th></th>\n      <th></th>\n      <th></th>\n      <th></th>\n      <th></th>\n    </tr>\n  </thead>\n  <tbody>\n    <tr>\n      <th>63</th>\n      <td>0</td>\n      <td>750</td>\n      <td>US</td>\n      <td>24</td>\n      <td>Xeon® E5-2630 0</td>\n      <td>354</td>\n      <td>400</td>\n      <td>12.2</td>\n      <td>1000</td>\n      <td>1748</td>\n      <td>...</td>\n      <td>3</td>\n      <td>110</td>\n      <td>23.245.210.159</td>\n      <td>9982</td>\n      <td>22</td>\n      <td>0</td>\n      <td>150</td>\n      <td>1697177770</td>\n      <td>15</td>\n      <td>0</td>\n    </tr>\n    <tr>\n      <th>162</th>\n      <td>0</td>\n      <td>750</td>\n      <td>US</td>\n      <td>32</td>\n      <td>AMD Ryzen Threadripper 1950X 16-Core Processor</td>\n      <td>63</td>\n      <td>400</td>\n      <td>11.7</td>\n      <td>1000</td>\n      <td>1767</td>\n      <td>...</td>\n      <td>3</td>\n      <td>125</td>\n      <td>23.245.210.159</td>\n      <td>9979</td>\n      <td>50</td>\n      <td>1</td>\n      <td>150</td>\n      <td>1697177770</td>\n      <td>61</td>\n      <td>1</td>\n    </tr>\n    <tr>\n      <th>274</th>\n      <td>0</td>\n      <td>610</td>\n      <td>UA</td>\n      <td>32</td>\n      <td>Xeon® E5-2650 v2</td>\n      <td>63</td>\n      <td>100</td>\n      <td>12.0</td>\n      <td>1000</td>\n      <td>1531</td>\n      <td>...</td>\n      <td>3</td>\n      <td>58</td>\n      <td>194.44.114.10</td>\n      <td>9960</td>\n      <td>51</td>\n      <td>1</td>\n      <td>150</td>\n      <td>1697177770</td>\n      <td>49</td>\n      <td>1</td>\n    </tr>\n    <tr>\n      <th>275</th>\n      <td>0</td>\n      <td>610</td>\n      <td>UA</td>\n      <td>32</td>\n      <td>Xeon® E5-2650 v2</td>\n      <td>63</td>\n      <td>100</td>\n      <td>12.0</td>\n      <td>1000</td>\n      <td>1604</td>\n      <td>...</td>\n      <td>3</td>\n      <td>58</td>\n      <td>194.44.114.10</td>\n      <td>9961</td>\n      <td>49</td>\n      <td>1</td>\n      <td>150</td>\n      <td>1697177770</td>\n      <td>49</td>\n      <td>2</td>\n    </tr>\n    <tr>\n      <th>283</th>\n      <td>0</td>\n      <td>610</td>\n      <td>UA</td>\n      <td>40</td>\n      <td>Xeon® E5-2658 v2</td>\n      <td>63</td>\n      <td>100</td>\n      <td>12.0</td>\n      <td>1000</td>\n      <td>212</td>\n      <td>...</td>\n      <td>3</td>\n      <td>57</td>\n      <td>194.44.114.10</td>\n      <td>9892</td>\n      <td>50</td>\n      <td>1</td>\n      <td>150</td>\n      <td>1697177770</td>\n      <td>37</td>\n      <td>1</td>\n    </tr>\n    <tr>\n      <th>...</th>\n      <td>...</td>\n      <td>...</td>\n      <td>...</td>\n      <td>...</td>\n      <td>...</td>\n      <td>...</td>\n      <td>...</td>\n      <td>...</td>\n      <td>...</td>\n      <td>...</td>\n      <td>...</td>\n      <td>...</td>\n      <td>...</td>\n      <td>...</td>\n      <td>...</td>\n      <td>...</td>\n      <td>...</td>\n      <td>...</td>\n      <td>...</td>\n      <td>...</td>\n      <td>...</td>\n    </tr>\n    <tr>\n      <th>14017</th>\n      <td>0</td>\n      <td>860</td>\n      <td>ID</td>\n      <td>28</td>\n      <td>Xeon® E5-2680 v4</td>\n      <td>31</td>\n      <td>400</td>\n      <td>12.2</td>\n      <td>200</td>\n      <td>371</td>\n      <td>...</td>\n      <td>3</td>\n      <td>115</td>\n      <td>36.72.78.0</td>\n      <td>6093</td>\n      <td>24</td>\n      <td>1</td>\n      <td>150</td>\n      <td>1697177770</td>\n      <td>40</td>\n      <td>0</td>\n    </tr>\n    <tr>\n      <th>14018</th>\n      <td>0</td>\n      <td>890</td>\n      <td>FI</td>\n      <td>128</td>\n      <td>AMD EPYC 7V12 64-Core Processor</td>\n      <td>504</td>\n      <td>400</td>\n      <td>12.2</td>\n      <td>1000</td>\n      <td>1360</td>\n      <td>...</td>\n      <td>4</td>\n      <td>127</td>\n      <td>37.136.155.159</td>\n      <td>6101</td>\n      <td>7</td>\n      <td>1</td>\n      <td>150</td>\n      <td>1697177770</td>\n      <td>570</td>\n      <td>0</td>\n    </tr>\n    <tr>\n      <th>14019</th>\n      <td>0</td>\n      <td>860</td>\n      <td>FR</td>\n      <td>16</td>\n      <td>Core™ i9-9900K</td>\n      <td>31</td>\n      <td>400</td>\n      <td>12.0</td>\n      <td>0</td>\n      <td>3943</td>\n      <td>...</td>\n      <td>2</td>\n      <td>3</td>\n      <td>37.171.195.43</td>\n      <td>6150</td>\n      <td>2</td>\n      <td>1</td>\n      <td>150</td>\n      <td>1697177770</td>\n      <td>119</td>\n      <td>0</td>\n    </tr>\n    <tr>\n      <th>14020</th>\n      <td>0</td>\n      <td>860</td>\n      <td>US</td>\n      <td>16</td>\n      <td>Xeon® E5-2680 0</td>\n      <td>31</td>\n      <td>400</td>\n      <td>12.0</td>\n      <td>501</td>\n      <td>491</td>\n      <td>...</td>\n      <td>3</td>\n      <td>29</td>\n      <td>98.201.7.18</td>\n      <td>6000</td>\n      <td>12</td>\n      <td>1</td>\n      <td>150</td>\n      <td>1697177770</td>\n      <td>24</td>\n      <td>0</td>\n    </tr>\n    <tr>\n      <th>14022</th>\n      <td>0</td>\n      <td>890</td>\n      <td>US</td>\n      <td>128</td>\n      <td>AMD EPYC 7742 64-Core Processor</td>\n      <td>504</td>\n      <td>400</td>\n      <td>12.2</td>\n      <td>100</td>\n      <td>21932</td>\n      <td>...</td>\n      <td>4</td>\n      <td>128</td>\n      <td>68.132.57.51</td>\n      <td>6000</td>\n      <td>6</td>\n      <td>1</td>\n      <td>260</td>\n      <td>1697177770</td>\n      <td>330</td>\n      <td>0</td>\n    </tr>\n  </tbody>\n</table>\n<p>1799 rows × 42 columns</p>\n</div>"
     },
     "execution_count": 122,
     "metadata": {},
     "output_type": "execute_result"
    }
   ],
   "source": [
    "machines_vast"
   ],
   "metadata": {
    "collapsed": false,
    "ExecuteTime": {
     "end_time": "2023-10-13T06:16:12.914411200Z",
     "start_time": "2023-10-13T06:16:12.807387900Z"
    }
   }
  },
  {
   "cell_type": "code",
   "execution_count": 123,
   "outputs": [
    {
     "data": {
      "text/plain": "            bw_nvlink  compute_cap  cpu_cores  \\\nmachine_id                                      \n63                  0          750         24   \n162                 0          750         32   \n274                 0          610         32   \n275                 0          610         32   \n283                 0          610         40   \n...               ...          ...        ...   \n14017               0          860         28   \n14018               0          890        128   \n14019               0          860         16   \n14020               0          860         16   \n14022               0          890        128   \n\n                                                  cpu_name  cpu_ram  \\\nmachine_id                                                            \n63                                         Xeon® E5-2630 0      354   \n162         AMD Ryzen Threadripper 1950X 16-Core Processor       63   \n274                                       Xeon® E5-2650 v2       63   \n275                                       Xeon® E5-2650 v2       63   \n283                                       Xeon® E5-2658 v2       63   \n...                                                    ...      ...   \n14017                                     Xeon® E5-2680 v4       31   \n14018                      AMD EPYC 7V12 64-Core Processor      504   \n14019                                       Core™ i9-9900K       31   \n14020                                      Xeon® E5-2680 0       31   \n14022                      AMD EPYC 7742 64-Core Processor      504   \n\n            credit_discount_max cuda_max_good  direct_port_count  disk_bw  \\\nmachine_id                                                                  \n63                          400          12.2               1000     1748   \n162                         400          11.7               1000     1767   \n274                         100          12.0               1000     1531   \n275                         100          12.0               1000     1604   \n283                         100          12.0               1000      212   \n...                         ...           ...                ...      ...   \n14017                       400          12.2                200      371   \n14018                       400          12.2               1000     1360   \n14019                       400          12.0                  0     3943   \n14020                       400          12.0                501      491   \n14022                       400          12.2                100    21932   \n\n                  disk_name  ...  pcie_bw   public_ipaddr  reliability score  \\\nmachine_id                   ...                                               \n63                  Samsung  ...      110  23.245.210.159         9982    23   \n162                    SATA  ...      125  23.245.210.159         9979    48   \n274                     PNY  ...       58   194.44.114.10         9960    53   \n275                     PNY  ...       58   194.44.114.10         9961    49   \n283                   SSDPR  ...       57   194.44.114.10         9892    50   \n...                     ...  ...      ...             ...          ...   ...   \n14017               OVATION  ...      115      36.72.78.0         6093    24   \n14018                  nvme  ...      127  37.136.155.159         6101     7   \n14019                  SPCC  ...        3   37.171.195.43         6150     2   \n14020               SAMSUNG  ...       29     98.201.7.18         6000    12   \n14022       CT1000MX500SSD1  ...      128    68.132.57.51         6000     6   \n\n            static_ip  storage_cost  total_flops verification   timestamp  \\\nmachine_id                                                                  \n63                  0           150           15            0  1697177746   \n162                 1           150           61            1  1697177746   \n274                 1           150           49            1  1697177746   \n275                 1           150           49            2  1697177746   \n283                 1           150           37            1  1697177746   \n...               ...           ...          ...          ...         ...   \n14017               1           150           40            0  1697177746   \n14018               1           150          570            0  1697177746   \n14019               1           150          119            0  1697177746   \n14020               1           150           24            0  1697177746   \n14022               1           260          330            0  1697177746   \n\n            country  \nmachine_id           \n63               US  \n162              US  \n274              UA  \n275              UA  \n283              UA  \n...             ...  \n14017            ID  \n14018            FI  \n14019            FR  \n14020            US  \n14022            US  \n\n[1799 rows x 42 columns]",
      "text/html": "<div>\n<style scoped>\n    .dataframe tbody tr th:only-of-type {\n        vertical-align: middle;\n    }\n\n    .dataframe tbody tr th {\n        vertical-align: top;\n    }\n\n    .dataframe thead th {\n        text-align: right;\n    }\n</style>\n<table border=\"1\" class=\"dataframe\">\n  <thead>\n    <tr style=\"text-align: right;\">\n      <th></th>\n      <th>bw_nvlink</th>\n      <th>compute_cap</th>\n      <th>cpu_cores</th>\n      <th>cpu_name</th>\n      <th>cpu_ram</th>\n      <th>credit_discount_max</th>\n      <th>cuda_max_good</th>\n      <th>direct_port_count</th>\n      <th>disk_bw</th>\n      <th>disk_name</th>\n      <th>...</th>\n      <th>pcie_bw</th>\n      <th>public_ipaddr</th>\n      <th>reliability</th>\n      <th>score</th>\n      <th>static_ip</th>\n      <th>storage_cost</th>\n      <th>total_flops</th>\n      <th>verification</th>\n      <th>timestamp</th>\n      <th>country</th>\n    </tr>\n    <tr>\n      <th>machine_id</th>\n      <th></th>\n      <th></th>\n      <th></th>\n      <th></th>\n      <th></th>\n      <th></th>\n      <th></th>\n      <th></th>\n      <th></th>\n      <th></th>\n      <th></th>\n      <th></th>\n      <th></th>\n      <th></th>\n      <th></th>\n      <th></th>\n      <th></th>\n      <th></th>\n      <th></th>\n      <th></th>\n      <th></th>\n    </tr>\n  </thead>\n  <tbody>\n    <tr>\n      <th>63</th>\n      <td>0</td>\n      <td>750</td>\n      <td>24</td>\n      <td>Xeon® E5-2630 0</td>\n      <td>354</td>\n      <td>400</td>\n      <td>12.2</td>\n      <td>1000</td>\n      <td>1748</td>\n      <td>Samsung</td>\n      <td>...</td>\n      <td>110</td>\n      <td>23.245.210.159</td>\n      <td>9982</td>\n      <td>23</td>\n      <td>0</td>\n      <td>150</td>\n      <td>15</td>\n      <td>0</td>\n      <td>1697177746</td>\n      <td>US</td>\n    </tr>\n    <tr>\n      <th>162</th>\n      <td>0</td>\n      <td>750</td>\n      <td>32</td>\n      <td>AMD Ryzen Threadripper 1950X 16-Core Processor</td>\n      <td>63</td>\n      <td>400</td>\n      <td>11.7</td>\n      <td>1000</td>\n      <td>1767</td>\n      <td>SATA</td>\n      <td>...</td>\n      <td>125</td>\n      <td>23.245.210.159</td>\n      <td>9979</td>\n      <td>48</td>\n      <td>1</td>\n      <td>150</td>\n      <td>61</td>\n      <td>1</td>\n      <td>1697177746</td>\n      <td>US</td>\n    </tr>\n    <tr>\n      <th>274</th>\n      <td>0</td>\n      <td>610</td>\n      <td>32</td>\n      <td>Xeon® E5-2650 v2</td>\n      <td>63</td>\n      <td>100</td>\n      <td>12.0</td>\n      <td>1000</td>\n      <td>1531</td>\n      <td>PNY</td>\n      <td>...</td>\n      <td>58</td>\n      <td>194.44.114.10</td>\n      <td>9960</td>\n      <td>53</td>\n      <td>1</td>\n      <td>150</td>\n      <td>49</td>\n      <td>1</td>\n      <td>1697177746</td>\n      <td>UA</td>\n    </tr>\n    <tr>\n      <th>275</th>\n      <td>0</td>\n      <td>610</td>\n      <td>32</td>\n      <td>Xeon® E5-2650 v2</td>\n      <td>63</td>\n      <td>100</td>\n      <td>12.0</td>\n      <td>1000</td>\n      <td>1604</td>\n      <td>PNY</td>\n      <td>...</td>\n      <td>58</td>\n      <td>194.44.114.10</td>\n      <td>9961</td>\n      <td>49</td>\n      <td>1</td>\n      <td>150</td>\n      <td>49</td>\n      <td>2</td>\n      <td>1697177746</td>\n      <td>UA</td>\n    </tr>\n    <tr>\n      <th>283</th>\n      <td>0</td>\n      <td>610</td>\n      <td>40</td>\n      <td>Xeon® E5-2658 v2</td>\n      <td>63</td>\n      <td>100</td>\n      <td>12.0</td>\n      <td>1000</td>\n      <td>212</td>\n      <td>SSDPR</td>\n      <td>...</td>\n      <td>57</td>\n      <td>194.44.114.10</td>\n      <td>9892</td>\n      <td>50</td>\n      <td>1</td>\n      <td>150</td>\n      <td>37</td>\n      <td>1</td>\n      <td>1697177746</td>\n      <td>UA</td>\n    </tr>\n    <tr>\n      <th>...</th>\n      <td>...</td>\n      <td>...</td>\n      <td>...</td>\n      <td>...</td>\n      <td>...</td>\n      <td>...</td>\n      <td>...</td>\n      <td>...</td>\n      <td>...</td>\n      <td>...</td>\n      <td>...</td>\n      <td>...</td>\n      <td>...</td>\n      <td>...</td>\n      <td>...</td>\n      <td>...</td>\n      <td>...</td>\n      <td>...</td>\n      <td>...</td>\n      <td>...</td>\n      <td>...</td>\n    </tr>\n    <tr>\n      <th>14017</th>\n      <td>0</td>\n      <td>860</td>\n      <td>28</td>\n      <td>Xeon® E5-2680 v4</td>\n      <td>31</td>\n      <td>400</td>\n      <td>12.2</td>\n      <td>200</td>\n      <td>371</td>\n      <td>OVATION</td>\n      <td>...</td>\n      <td>115</td>\n      <td>36.72.78.0</td>\n      <td>6093</td>\n      <td>24</td>\n      <td>1</td>\n      <td>150</td>\n      <td>40</td>\n      <td>0</td>\n      <td>1697177746</td>\n      <td>ID</td>\n    </tr>\n    <tr>\n      <th>14018</th>\n      <td>0</td>\n      <td>890</td>\n      <td>128</td>\n      <td>AMD EPYC 7V12 64-Core Processor</td>\n      <td>504</td>\n      <td>400</td>\n      <td>12.2</td>\n      <td>1000</td>\n      <td>1360</td>\n      <td>nvme</td>\n      <td>...</td>\n      <td>127</td>\n      <td>37.136.155.159</td>\n      <td>6101</td>\n      <td>7</td>\n      <td>1</td>\n      <td>150</td>\n      <td>570</td>\n      <td>0</td>\n      <td>1697177746</td>\n      <td>FI</td>\n    </tr>\n    <tr>\n      <th>14019</th>\n      <td>0</td>\n      <td>860</td>\n      <td>16</td>\n      <td>Core™ i9-9900K</td>\n      <td>31</td>\n      <td>400</td>\n      <td>12.0</td>\n      <td>0</td>\n      <td>3943</td>\n      <td>SPCC</td>\n      <td>...</td>\n      <td>3</td>\n      <td>37.171.195.43</td>\n      <td>6150</td>\n      <td>2</td>\n      <td>1</td>\n      <td>150</td>\n      <td>119</td>\n      <td>0</td>\n      <td>1697177746</td>\n      <td>FR</td>\n    </tr>\n    <tr>\n      <th>14020</th>\n      <td>0</td>\n      <td>860</td>\n      <td>16</td>\n      <td>Xeon® E5-2680 0</td>\n      <td>31</td>\n      <td>400</td>\n      <td>12.0</td>\n      <td>501</td>\n      <td>491</td>\n      <td>SAMSUNG</td>\n      <td>...</td>\n      <td>29</td>\n      <td>98.201.7.18</td>\n      <td>6000</td>\n      <td>12</td>\n      <td>1</td>\n      <td>150</td>\n      <td>24</td>\n      <td>0</td>\n      <td>1697177746</td>\n      <td>US</td>\n    </tr>\n    <tr>\n      <th>14022</th>\n      <td>0</td>\n      <td>890</td>\n      <td>128</td>\n      <td>AMD EPYC 7742 64-Core Processor</td>\n      <td>504</td>\n      <td>400</td>\n      <td>12.2</td>\n      <td>100</td>\n      <td>21932</td>\n      <td>CT1000MX500SSD1</td>\n      <td>...</td>\n      <td>128</td>\n      <td>68.132.57.51</td>\n      <td>6000</td>\n      <td>6</td>\n      <td>1</td>\n      <td>260</td>\n      <td>330</td>\n      <td>0</td>\n      <td>1697177746</td>\n      <td>US</td>\n    </tr>\n  </tbody>\n</table>\n<p>1799 rows × 42 columns</p>\n</div>"
     },
     "execution_count": 123,
     "metadata": {},
     "output_type": "execute_result"
    }
   ],
   "source": [
    "machines_exp"
   ],
   "metadata": {
    "collapsed": false,
    "ExecuteTime": {
     "end_time": "2023-10-13T06:16:13.136461200Z",
     "start_time": "2023-10-13T06:16:12.915411500Z"
    }
   }
  },
  {
   "cell_type": "code",
   "execution_count": 124,
   "outputs": [
    {
     "name": "stdout",
     "output_type": "stream",
     "text": [
      "================================================================================\n",
      "disk_space\n",
      "machine_id\n",
      "10577    5620\n",
      "12893     800\n",
      "4840      630\n",
      "13977     740\n",
      "13992    5750\n",
      "Name: disk_space, dtype: int32\n",
      "machine_id\n",
      "10577    5560\n",
      "12893     790\n",
      "4840      610\n",
      "13977     720\n",
      "13992    5730\n",
      "Name: disk_space, dtype: int32\n",
      "================================================================================\n",
      "dlperf\n",
      "machine_id\n",
      "8197     63\n",
      "8218    245\n",
      "8249     66\n",
      "8274     61\n",
      "8296    146\n",
      "       ... \n",
      "7997     32\n",
      "8024     92\n",
      "8049     34\n",
      "8120    198\n",
      "8135     96\n",
      "Name: dlperf, Length: 677, dtype: int32\n",
      "machine_id\n",
      "8197     62\n",
      "8218    295\n",
      "8249     65\n",
      "8274     65\n",
      "8296    147\n",
      "       ... \n",
      "7997     49\n",
      "8024     94\n",
      "8049     45\n",
      "8120    270\n",
      "8135     97\n",
      "Name: dlperf, Length: 677, dtype: int32\n",
      "================================================================================\n",
      "gpu_mem_bw\n",
      "machine_id\n",
      "8350      377\n",
      "8923      765\n",
      "9090      597\n",
      "9112      764\n",
      "9340     3569\n",
      "9892     3660\n",
      "10017     759\n",
      "10334     769\n",
      "10374     379\n",
      "10376     622\n",
      "10383     766\n",
      "10474     522\n",
      "10492    1007\n",
      "10577    3587\n",
      "10865    3619\n",
      "10928    3601\n",
      "11218    3518\n",
      "11775    3395\n",
      "11808    3507\n",
      "12156     502\n",
      "12206     769\n",
      "12436     751\n",
      "12505     454\n",
      "12657     511\n",
      "12836     244\n",
      "12941     321\n",
      "4869      766\n",
      "13206     625\n",
      "13342     456\n",
      "13377     453\n",
      "13417    3121\n",
      "13439    3366\n",
      "13440    1140\n",
      "13475     762\n",
      "13511    1962\n",
      "13513     765\n",
      "13542     770\n",
      "13553     627\n",
      "13584    3458\n",
      "13634     760\n",
      "13666     341\n",
      "13674     628\n",
      "13718     314\n",
      "13758    1160\n",
      "13796     377\n",
      "13822    1368\n",
      "13833    3558\n",
      "13839     630\n",
      "13851    2837\n",
      "13867    3300\n",
      "13892     628\n",
      "13896     627\n",
      "13919     633\n",
      "13926     768\n",
      "13982     634\n",
      "13999     266\n",
      "6842      765\n",
      "7256      630\n",
      "7778      768\n",
      "Name: gpu_mem_bw, dtype: int32\n",
      "machine_id\n",
      "8350      378\n",
      "8923      760\n",
      "9090      594\n",
      "9112      772\n",
      "9340     3563\n",
      "9892     3389\n",
      "10017     756\n",
      "10334     770\n",
      "10374     376\n",
      "10376     623\n",
      "10383     769\n",
      "10474     524\n",
      "10492    1000\n",
      "10577    3557\n",
      "10865    3538\n",
      "10928    2657\n",
      "11218    3469\n",
      "11775    3488\n",
      "11808    3402\n",
      "12156     512\n",
      "12206     768\n",
      "12436     745\n",
      "12505     453\n",
      "12657     510\n",
      "12836     246\n",
      "12941     378\n",
      "4869      767\n",
      "13206     623\n",
      "13342     457\n",
      "13377     437\n",
      "13417    3153\n",
      "13439    3406\n",
      "13440    1161\n",
      "13475     761\n",
      "13511    1973\n",
      "13513     770\n",
      "13542     767\n",
      "13553     628\n",
      "13584    2746\n",
      "13634     759\n",
      "13666     340\n",
      "13674     630\n",
      "13718     313\n",
      "13758    1139\n",
      "13796     368\n",
      "13822    1376\n",
      "13833    3566\n",
      "13839     631\n",
      "13851    2878\n",
      "13867    3483\n",
      "13892     629\n",
      "13896     629\n",
      "13919     632\n",
      "13926     762\n",
      "13982     632\n",
      "13999     271\n",
      "6842      766\n",
      "7256      627\n",
      "7778      767\n",
      "Name: gpu_mem_bw, dtype: int32\n",
      "================================================================================\n",
      "min_bid\n",
      "machine_id\n",
      "10577    1262\n",
      "13444     240\n",
      "13503      97\n",
      "5545      826\n",
      "Name: min_bid, dtype: int32\n",
      "machine_id\n",
      "10577    1200\n",
      "13444     270\n",
      "13503     159\n",
      "5545      577\n",
      "Name: min_bid, dtype: int32\n",
      "================================================================================\n",
      "pcie_bw\n",
      "machine_id\n",
      "8295     245\n",
      "9340     119\n",
      "10017    244\n",
      "10334    118\n",
      "10335     83\n",
      "10376     93\n",
      "10472    177\n",
      "10474    135\n",
      "10492    153\n",
      "10577    225\n",
      "10928    243\n",
      "11218    192\n",
      "12657    125\n",
      "12836    113\n",
      "12941     98\n",
      "13342    110\n",
      "13417    123\n",
      "13419     57\n",
      "13439    179\n",
      "13440    233\n",
      "13584    237\n",
      "13674     57\n",
      "13739    119\n",
      "13796    109\n",
      "13839    250\n",
      "13851    117\n",
      "13892     57\n",
      "13982    244\n",
      "13984    114\n",
      "13996    250\n",
      "Name: pcie_bw, dtype: int32\n",
      "machine_id\n",
      "8295     250\n",
      "9340     122\n",
      "10017    248\n",
      "10334    119\n",
      "10335     51\n",
      "10376     96\n",
      "10472    180\n",
      "10474    137\n",
      "10492    176\n",
      "10577    228\n",
      "10928    242\n",
      "11218    194\n",
      "12657    122\n",
      "12836    115\n",
      "12941    108\n",
      "13342    109\n",
      "13417    124\n",
      "13419     52\n",
      "13439    186\n",
      "13440    232\n",
      "13584    249\n",
      "13674     56\n",
      "13739    120\n",
      "13796    112\n",
      "13839    254\n",
      "13851    115\n",
      "13892     56\n",
      "13982    240\n",
      "13984    115\n",
      "13996    249\n",
      "Name: pcie_bw, dtype: int32\n",
      "================================================================================\n",
      "reliability\n",
      "machine_id\n",
      "8295     9597\n",
      "8365     8921\n",
      "9130     9702\n",
      "9617     7542\n",
      "10198    9909\n",
      "11446    9396\n",
      "11877    7020\n",
      "12586    9735\n",
      "4558     9848\n",
      "12893    9612\n",
      "12910    9744\n",
      "13058    9780\n",
      "13313    9632\n",
      "13560    8801\n",
      "13718    9547\n",
      "13782    9478\n",
      "13901    9407\n",
      "13941    9476\n",
      "13998    8397\n",
      "14014    7135\n",
      "14016    6934\n",
      "Name: reliability, dtype: int32\n",
      "machine_id\n",
      "8295     9595\n",
      "8365     8924\n",
      "9130     9371\n",
      "9617     7544\n",
      "10198    9908\n",
      "11446    9398\n",
      "11877    7021\n",
      "12586    9734\n",
      "4558     9847\n",
      "12893    9611\n",
      "12910    9642\n",
      "13058    9686\n",
      "13313    9631\n",
      "13560    8813\n",
      "13718    9546\n",
      "13782    9477\n",
      "13901    9406\n",
      "13941    9475\n",
      "13998    8394\n",
      "14014    7128\n",
      "14016    6926\n",
      "Name: reliability, dtype: int32\n",
      "================================================================================\n",
      "score\n",
      "machine_id\n",
      "8192     72\n",
      "8197     46\n",
      "8199     66\n",
      "8206     47\n",
      "8207    149\n",
      "       ... \n",
      "8134    150\n",
      "8135     99\n",
      "8171     83\n",
      "8176     67\n",
      "8180     92\n",
      "Name: score, Length: 1442, dtype: int32\n",
      "machine_id\n",
      "8192     75\n",
      "8197     45\n",
      "8199     67\n",
      "8206     48\n",
      "8207    153\n",
      "       ... \n",
      "8134    149\n",
      "8135    101\n",
      "8171     77\n",
      "8176     65\n",
      "8180     86\n",
      "Name: score, Length: 1442, dtype: int32\n",
      "================================================================================\n",
      "timestamp\n",
      "machine_id\n",
      "8192    1697177770\n",
      "8195    1697177770\n",
      "8197    1697177770\n",
      "8199    1697177770\n",
      "8206    1697177770\n",
      "           ...    \n",
      "8134    1697177770\n",
      "8135    1697177770\n",
      "8171    1697177770\n",
      "8176    1697177770\n",
      "8180    1697177770\n",
      "Name: timestamp, Length: 1799, dtype: int32\n",
      "machine_id\n",
      "8192    1697177746\n",
      "8195    1697177746\n",
      "8197    1697177746\n",
      "8199    1697177746\n",
      "8206    1697177746\n",
      "           ...    \n",
      "8134    1697177746\n",
      "8135    1697177746\n",
      "8171    1697177746\n",
      "8176    1697177746\n",
      "8180    1697177746\n",
      "Name: timestamp, Length: 1799, dtype: int32\n"
     ]
    }
   ],
   "source": [
    "mask_id = list(set(machines_vast.index).intersection(set(machines_exp.index)))\n",
    "for col in machines_vast:    \n",
    "    mask = machines_vast.loc[mask_id, col] != machines_exp.loc[mask_id, col]\n",
    "    if mask.any():\n",
    "        print('=' * 80)\n",
    "        print(col)\n",
    "        print(machines_vast.loc[mask_id, col][mask])\n",
    "        print(machines_exp.loc[mask_id, col][mask])"
   ],
   "metadata": {
    "collapsed": false,
    "ExecuteTime": {
     "end_time": "2023-10-13T06:16:13.243484800Z",
     "start_time": "2023-10-13T06:16:13.031437200Z"
    }
   }
  },
  {
   "cell_type": "code",
   "execution_count": 107,
   "outputs": [
    {
     "data": {
      "text/plain": "      bw_nvlink  compute_cap  cpu_cores          cpu_name  cpu_ram  \\\n1802          0          610         32  Xeon® E5-2650 v2       63   \n\n      credit_discount_max cuda_max_good  direct_port_count  disk_bw disk_name  \\\n1802                  100          12.0               1000     1550       PNY   \n\n      ...  pcie_bw  public_ipaddr  reliability score  static_ip  storage_cost  \\\n1802  ...       58  194.44.114.10         9960    53          1           150   \n\n      total_flops verification   timestamp  country  \n1802           49            1  1697173064       UA  \n\n[1 rows x 43 columns]",
      "text/html": "<div>\n<style scoped>\n    .dataframe tbody tr th:only-of-type {\n        vertical-align: middle;\n    }\n\n    .dataframe tbody tr th {\n        vertical-align: top;\n    }\n\n    .dataframe thead th {\n        text-align: right;\n    }\n</style>\n<table border=\"1\" class=\"dataframe\">\n  <thead>\n    <tr style=\"text-align: right;\">\n      <th></th>\n      <th>bw_nvlink</th>\n      <th>compute_cap</th>\n      <th>cpu_cores</th>\n      <th>cpu_name</th>\n      <th>cpu_ram</th>\n      <th>credit_discount_max</th>\n      <th>cuda_max_good</th>\n      <th>direct_port_count</th>\n      <th>disk_bw</th>\n      <th>disk_name</th>\n      <th>...</th>\n      <th>pcie_bw</th>\n      <th>public_ipaddr</th>\n      <th>reliability</th>\n      <th>score</th>\n      <th>static_ip</th>\n      <th>storage_cost</th>\n      <th>total_flops</th>\n      <th>verification</th>\n      <th>timestamp</th>\n      <th>country</th>\n    </tr>\n  </thead>\n  <tbody>\n    <tr>\n      <th>1802</th>\n      <td>0</td>\n      <td>610</td>\n      <td>32</td>\n      <td>Xeon® E5-2650 v2</td>\n      <td>63</td>\n      <td>100</td>\n      <td>12.0</td>\n      <td>1000</td>\n      <td>1550</td>\n      <td>PNY</td>\n      <td>...</td>\n      <td>58</td>\n      <td>194.44.114.10</td>\n      <td>9960</td>\n      <td>53</td>\n      <td>1</td>\n      <td>150</td>\n      <td>49</td>\n      <td>1</td>\n      <td>1697173064</td>\n      <td>UA</td>\n    </tr>\n  </tbody>\n</table>\n<p>1 rows × 43 columns</p>\n</div>"
     },
     "execution_count": 107,
     "metadata": {},
     "output_type": "execute_result"
    }
   ],
   "source": [
    "get_machines().query('machine_id == 274')"
   ],
   "metadata": {
    "collapsed": false,
    "ExecuteTime": {
     "end_time": "2023-10-13T04:58:32.502440Z",
     "start_time": "2023-10-13T04:58:30.742502600Z"
    }
   }
  },
  {
   "cell_type": "code",
   "execution_count": 92,
   "outputs": [
    {
     "data": {
      "text/plain": "      bw_nvlink  compute_cap  cpu_cores          cpu_name  cpu_ram  \\\n1879          0          860         64  Xeon® E5-2698 v3      126   \n1880          0          860         64  Xeon® E5-2698 v3      126   \n1881          0          860         64  Xeon® E5-2698 v3      126   \n1882          0          860         64  Xeon® E5-2698 v3      126   \n1883          0          860         64  Xeon® E5-2698 v3      126   \n\n      credit_discount_max cuda_max_good  direct_port_count  disk_bw disk_name  \\\n1879                  400          12.0                 20     3219      nvme   \n1880                  400          12.0                 20     3219      nvme   \n1881                  400          12.0                 20     3219      nvme   \n1882                  400          12.0                 20     3219      nvme   \n1883                  400          12.0                 20     3219      nvme   \n\n      ...  public_ipaddr  reliability  rented score  static_ip  storage_cost  \\\n1879  ...  184.67.78.114         8491       1    52          1           140   \n1880  ...  184.67.78.114         8491       0    49          1           140   \n1881  ...  184.67.78.114         8491       1    51          1           140   \n1882  ...  184.67.78.114         8491       1    50          1           140   \n1883  ...  184.67.78.114         8491       1    48          1           140   \n\n      total_flops verification   timestamp  country  \n1879           35            1  1697172957       CA  \n1880           35            1  1697172957       CA  \n1881           35            1  1697172957       CA  \n1882           35            1  1697172957       CA  \n1883           35            1  1697172957       CA  \n\n[5 rows x 43 columns]",
      "text/html": "<div>\n<style scoped>\n    .dataframe tbody tr th:only-of-type {\n        vertical-align: middle;\n    }\n\n    .dataframe tbody tr th {\n        vertical-align: top;\n    }\n\n    .dataframe thead th {\n        text-align: right;\n    }\n</style>\n<table border=\"1\" class=\"dataframe\">\n  <thead>\n    <tr style=\"text-align: right;\">\n      <th></th>\n      <th>bw_nvlink</th>\n      <th>compute_cap</th>\n      <th>cpu_cores</th>\n      <th>cpu_name</th>\n      <th>cpu_ram</th>\n      <th>credit_discount_max</th>\n      <th>cuda_max_good</th>\n      <th>direct_port_count</th>\n      <th>disk_bw</th>\n      <th>disk_name</th>\n      <th>...</th>\n      <th>public_ipaddr</th>\n      <th>reliability</th>\n      <th>rented</th>\n      <th>score</th>\n      <th>static_ip</th>\n      <th>storage_cost</th>\n      <th>total_flops</th>\n      <th>verification</th>\n      <th>timestamp</th>\n      <th>country</th>\n    </tr>\n  </thead>\n  <tbody>\n    <tr>\n      <th>1879</th>\n      <td>0</td>\n      <td>860</td>\n      <td>64</td>\n      <td>Xeon® E5-2698 v3</td>\n      <td>126</td>\n      <td>400</td>\n      <td>12.0</td>\n      <td>20</td>\n      <td>3219</td>\n      <td>nvme</td>\n      <td>...</td>\n      <td>184.67.78.114</td>\n      <td>8491</td>\n      <td>1</td>\n      <td>52</td>\n      <td>1</td>\n      <td>140</td>\n      <td>35</td>\n      <td>1</td>\n      <td>1697172957</td>\n      <td>CA</td>\n    </tr>\n    <tr>\n      <th>1880</th>\n      <td>0</td>\n      <td>860</td>\n      <td>64</td>\n      <td>Xeon® E5-2698 v3</td>\n      <td>126</td>\n      <td>400</td>\n      <td>12.0</td>\n      <td>20</td>\n      <td>3219</td>\n      <td>nvme</td>\n      <td>...</td>\n      <td>184.67.78.114</td>\n      <td>8491</td>\n      <td>0</td>\n      <td>49</td>\n      <td>1</td>\n      <td>140</td>\n      <td>35</td>\n      <td>1</td>\n      <td>1697172957</td>\n      <td>CA</td>\n    </tr>\n    <tr>\n      <th>1881</th>\n      <td>0</td>\n      <td>860</td>\n      <td>64</td>\n      <td>Xeon® E5-2698 v3</td>\n      <td>126</td>\n      <td>400</td>\n      <td>12.0</td>\n      <td>20</td>\n      <td>3219</td>\n      <td>nvme</td>\n      <td>...</td>\n      <td>184.67.78.114</td>\n      <td>8491</td>\n      <td>1</td>\n      <td>51</td>\n      <td>1</td>\n      <td>140</td>\n      <td>35</td>\n      <td>1</td>\n      <td>1697172957</td>\n      <td>CA</td>\n    </tr>\n    <tr>\n      <th>1882</th>\n      <td>0</td>\n      <td>860</td>\n      <td>64</td>\n      <td>Xeon® E5-2698 v3</td>\n      <td>126</td>\n      <td>400</td>\n      <td>12.0</td>\n      <td>20</td>\n      <td>3219</td>\n      <td>nvme</td>\n      <td>...</td>\n      <td>184.67.78.114</td>\n      <td>8491</td>\n      <td>1</td>\n      <td>50</td>\n      <td>1</td>\n      <td>140</td>\n      <td>35</td>\n      <td>1</td>\n      <td>1697172957</td>\n      <td>CA</td>\n    </tr>\n    <tr>\n      <th>1883</th>\n      <td>0</td>\n      <td>860</td>\n      <td>64</td>\n      <td>Xeon® E5-2698 v3</td>\n      <td>126</td>\n      <td>400</td>\n      <td>12.0</td>\n      <td>20</td>\n      <td>3219</td>\n      <td>nvme</td>\n      <td>...</td>\n      <td>184.67.78.114</td>\n      <td>8491</td>\n      <td>1</td>\n      <td>48</td>\n      <td>1</td>\n      <td>140</td>\n      <td>35</td>\n      <td>1</td>\n      <td>1697172957</td>\n      <td>CA</td>\n    </tr>\n  </tbody>\n</table>\n<p>5 rows × 43 columns</p>\n</div>"
     },
     "execution_count": 92,
     "metadata": {},
     "output_type": "execute_result"
    }
   ],
   "source": [
    "get_offers().query('machine_id == 274')"
   ],
   "metadata": {
    "collapsed": false,
    "ExecuteTime": {
     "end_time": "2023-10-13T04:56:54.788587100Z",
     "start_time": "2023-10-13T04:56:52.182160Z"
    }
   }
  },
  {
   "cell_type": "code",
   "execution_count": 90,
   "outputs": [
    {
     "data": {
      "text/plain": "      rented  compute_cap  credit_discount_max driver_version cuda_max_good  \\\n5293       1          860                  400     525.105.17          12.0   \n5294       0          860                  400     525.105.17          12.0   \n5295       1          860                  400     525.105.17          12.0   \n5296       1          860                  400     525.105.17          12.0   \n5297       1          860                  400     525.105.17          12.0   \n\n      machine_id  hosting_type  public_ipaddr  reliability  host_id  ...  \\\n5293       10332             0  184.67.78.114         8491    54909  ...   \n5294       10332             0  184.67.78.114         8491    54909  ...   \n5295       10332             0  184.67.78.114         8491    54909  ...   \n5296       10332             0  184.67.78.114         8491    54909  ...   \n5297       10332             0  184.67.78.114         8491    54909  ...   \n\n        end_date  storage_cost  inet_up_cost  inet_down_cost  verification  \\\n5293  1701475200           140             1               1             1   \n5294  1701475200           140             1               1             1   \n5295  1701475200           140             1               1             1   \n5296  1701475200           140             1               1             1   \n5297  1701475200           140             1               1             1   \n\n     static_ip  score   timestamp  country  num_gpus_rented  \n5293         1     50  1697172780       CA                1  \n5294         1     53  1697172780       CA                0  \n5295         1     50  1697172780       CA                1  \n5296         1     52  1697172780       CA                1  \n5297         1     49  1697172780       CA                1  \n\n[5 rows x 44 columns]",
      "text/html": "<div>\n<style scoped>\n    .dataframe tbody tr th:only-of-type {\n        vertical-align: middle;\n    }\n\n    .dataframe tbody tr th {\n        vertical-align: top;\n    }\n\n    .dataframe thead th {\n        text-align: right;\n    }\n</style>\n<table border=\"1\" class=\"dataframe\">\n  <thead>\n    <tr style=\"text-align: right;\">\n      <th></th>\n      <th>rented</th>\n      <th>compute_cap</th>\n      <th>credit_discount_max</th>\n      <th>driver_version</th>\n      <th>cuda_max_good</th>\n      <th>machine_id</th>\n      <th>hosting_type</th>\n      <th>public_ipaddr</th>\n      <th>reliability</th>\n      <th>host_id</th>\n      <th>...</th>\n      <th>end_date</th>\n      <th>storage_cost</th>\n      <th>inet_up_cost</th>\n      <th>inet_down_cost</th>\n      <th>verification</th>\n      <th>static_ip</th>\n      <th>score</th>\n      <th>timestamp</th>\n      <th>country</th>\n      <th>num_gpus_rented</th>\n    </tr>\n  </thead>\n  <tbody>\n    <tr>\n      <th>5293</th>\n      <td>1</td>\n      <td>860</td>\n      <td>400</td>\n      <td>525.105.17</td>\n      <td>12.0</td>\n      <td>10332</td>\n      <td>0</td>\n      <td>184.67.78.114</td>\n      <td>8491</td>\n      <td>54909</td>\n      <td>...</td>\n      <td>1701475200</td>\n      <td>140</td>\n      <td>1</td>\n      <td>1</td>\n      <td>1</td>\n      <td>1</td>\n      <td>50</td>\n      <td>1697172780</td>\n      <td>CA</td>\n      <td>1</td>\n    </tr>\n    <tr>\n      <th>5294</th>\n      <td>0</td>\n      <td>860</td>\n      <td>400</td>\n      <td>525.105.17</td>\n      <td>12.0</td>\n      <td>10332</td>\n      <td>0</td>\n      <td>184.67.78.114</td>\n      <td>8491</td>\n      <td>54909</td>\n      <td>...</td>\n      <td>1701475200</td>\n      <td>140</td>\n      <td>1</td>\n      <td>1</td>\n      <td>1</td>\n      <td>1</td>\n      <td>53</td>\n      <td>1697172780</td>\n      <td>CA</td>\n      <td>0</td>\n    </tr>\n    <tr>\n      <th>5295</th>\n      <td>1</td>\n      <td>860</td>\n      <td>400</td>\n      <td>525.105.17</td>\n      <td>12.0</td>\n      <td>10332</td>\n      <td>0</td>\n      <td>184.67.78.114</td>\n      <td>8491</td>\n      <td>54909</td>\n      <td>...</td>\n      <td>1701475200</td>\n      <td>140</td>\n      <td>1</td>\n      <td>1</td>\n      <td>1</td>\n      <td>1</td>\n      <td>50</td>\n      <td>1697172780</td>\n      <td>CA</td>\n      <td>1</td>\n    </tr>\n    <tr>\n      <th>5296</th>\n      <td>1</td>\n      <td>860</td>\n      <td>400</td>\n      <td>525.105.17</td>\n      <td>12.0</td>\n      <td>10332</td>\n      <td>0</td>\n      <td>184.67.78.114</td>\n      <td>8491</td>\n      <td>54909</td>\n      <td>...</td>\n      <td>1701475200</td>\n      <td>140</td>\n      <td>1</td>\n      <td>1</td>\n      <td>1</td>\n      <td>1</td>\n      <td>52</td>\n      <td>1697172780</td>\n      <td>CA</td>\n      <td>1</td>\n    </tr>\n    <tr>\n      <th>5297</th>\n      <td>1</td>\n      <td>860</td>\n      <td>400</td>\n      <td>525.105.17</td>\n      <td>12.0</td>\n      <td>10332</td>\n      <td>0</td>\n      <td>184.67.78.114</td>\n      <td>8491</td>\n      <td>54909</td>\n      <td>...</td>\n      <td>1701475200</td>\n      <td>140</td>\n      <td>1</td>\n      <td>1</td>\n      <td>1</td>\n      <td>1</td>\n      <td>49</td>\n      <td>1697172780</td>\n      <td>CA</td>\n      <td>1</td>\n    </tr>\n  </tbody>\n</table>\n<p>5 rows × 44 columns</p>\n</div>"
     },
     "execution_count": 90,
     "metadata": {},
     "output_type": "execute_result"
    }
   ],
   "source": [
    "offers.query('machine_id == 10332')"
   ],
   "metadata": {
    "collapsed": false,
    "ExecuteTime": {
     "end_time": "2023-10-13T04:55:45.585006200Z",
     "start_time": "2023-10-13T04:55:45.471980500Z"
    }
   }
  },
  {
   "cell_type": "code",
   "execution_count": 85,
   "outputs": [
    {
     "data": {
      "text/plain": "5293    1\n5294    1\n5295    1\n5296    1\n5297    1\n3354    2\n3355    2\n1384    4\n658     5\nName: num_gpus, dtype: int32"
     },
     "execution_count": 85,
     "metadata": {},
     "output_type": "execute_result"
    }
   ],
   "source": [
    "raw.query('machine_id == 10332').num_gpus"
   ],
   "metadata": {
    "collapsed": false,
    "ExecuteTime": {
     "end_time": "2023-10-13T04:53:30.639669200Z",
     "start_time": "2023-10-13T04:53:30.468631100Z"
    }
   }
  },
  {
   "cell_type": "code",
   "execution_count": 41,
   "outputs": [
    {
     "data": {
      "text/plain": "            bw_nvlink  client_run_time  compute_cap  cpu_cores  \\\nmachine_id                                                       \n6400                0              1.1          860         28   \n11764               0              1.1          890         16   \n\n                                      cpu_name  cpu_ram  credit_discount_max  \\\nmachine_id                                                                     \n6400                         Xeon® E5-2680 v4        63                  400   \n11764       AMD Ryzen 7 5700X 8-Core Processor       31                  400   \n\n           cuda_max_good  direct_port_count  disk_bw  ...   public_ipaddr  \\\nmachine_id                                            ...                   \n6400                12.0                100      632  ...  202.86.182.106   \n11764               12.0                100     4304  ...  202.86.182.106   \n\n            reliability  score  static_ip storage_cost  total_flops  \\\nmachine_id                                                            \n6400               9990    164          1          400           71   \n11764              9978    155          1          200           81   \n\n            verification  vram_costperhour   timestamp country  \nmachine_id                                                      \n6400                   1          0.000007  1697168315      MO  \n11764                  1          0.000016  1697168315      MO  \n\n[2 rows x 46 columns]",
      "text/html": "<div>\n<style scoped>\n    .dataframe tbody tr th:only-of-type {\n        vertical-align: middle;\n    }\n\n    .dataframe tbody tr th {\n        vertical-align: top;\n    }\n\n    .dataframe thead th {\n        text-align: right;\n    }\n</style>\n<table border=\"1\" class=\"dataframe\">\n  <thead>\n    <tr style=\"text-align: right;\">\n      <th></th>\n      <th>bw_nvlink</th>\n      <th>client_run_time</th>\n      <th>compute_cap</th>\n      <th>cpu_cores</th>\n      <th>cpu_name</th>\n      <th>cpu_ram</th>\n      <th>credit_discount_max</th>\n      <th>cuda_max_good</th>\n      <th>direct_port_count</th>\n      <th>disk_bw</th>\n      <th>...</th>\n      <th>public_ipaddr</th>\n      <th>reliability</th>\n      <th>score</th>\n      <th>static_ip</th>\n      <th>storage_cost</th>\n      <th>total_flops</th>\n      <th>verification</th>\n      <th>vram_costperhour</th>\n      <th>timestamp</th>\n      <th>country</th>\n    </tr>\n    <tr>\n      <th>machine_id</th>\n      <th></th>\n      <th></th>\n      <th></th>\n      <th></th>\n      <th></th>\n      <th></th>\n      <th></th>\n      <th></th>\n      <th></th>\n      <th></th>\n      <th></th>\n      <th></th>\n      <th></th>\n      <th></th>\n      <th></th>\n      <th></th>\n      <th></th>\n      <th></th>\n      <th></th>\n      <th></th>\n      <th></th>\n    </tr>\n  </thead>\n  <tbody>\n    <tr>\n      <th>6400</th>\n      <td>0</td>\n      <td>1.1</td>\n      <td>860</td>\n      <td>28</td>\n      <td>Xeon® E5-2680 v4</td>\n      <td>63</td>\n      <td>400</td>\n      <td>12.0</td>\n      <td>100</td>\n      <td>632</td>\n      <td>...</td>\n      <td>202.86.182.106</td>\n      <td>9990</td>\n      <td>164</td>\n      <td>1</td>\n      <td>400</td>\n      <td>71</td>\n      <td>1</td>\n      <td>0.000007</td>\n      <td>1697168315</td>\n      <td>MO</td>\n    </tr>\n    <tr>\n      <th>11764</th>\n      <td>0</td>\n      <td>1.1</td>\n      <td>890</td>\n      <td>16</td>\n      <td>AMD Ryzen 7 5700X 8-Core Processor</td>\n      <td>31</td>\n      <td>400</td>\n      <td>12.0</td>\n      <td>100</td>\n      <td>4304</td>\n      <td>...</td>\n      <td>202.86.182.106</td>\n      <td>9978</td>\n      <td>155</td>\n      <td>1</td>\n      <td>200</td>\n      <td>81</td>\n      <td>1</td>\n      <td>0.000016</td>\n      <td>1697168315</td>\n      <td>MO</td>\n    </tr>\n  </tbody>\n</table>\n<p>2 rows × 46 columns</p>\n</div>"
     },
     "execution_count": 41,
     "metadata": {},
     "output_type": "execute_result"
    }
   ],
   "source": [
    "machines_exp[~machines_exp.index.isin(machines_vast.index)]"
   ],
   "metadata": {
    "collapsed": false,
    "ExecuteTime": {
     "end_time": "2023-10-13T03:40:57.355733200Z",
     "start_time": "2023-10-13T03:40:57.243704300Z"
    }
   }
  },
  {
   "cell_type": "code",
   "execution_count": 57,
   "outputs": [
    {
     "data": {
      "text/plain": "(0, 0)"
     },
     "execution_count": 57,
     "metadata": {},
     "output_type": "execute_result"
    }
   ],
   "source": [
    "(~machines_vast.index.isin(machines_exp.index)).sum(), (~machines_exp.index.isin(machines_vast.index)).sum()"
   ],
   "metadata": {
    "collapsed": false,
    "ExecuteTime": {
     "end_time": "2023-10-13T04:42:47.320233200Z",
     "start_time": "2023-10-13T04:42:47.218210400Z"
    }
   }
  },
  {
   "cell_type": "code",
   "execution_count": 56,
   "outputs": [
    {
     "data": {
      "text/plain": "set()"
     },
     "execution_count": 56,
     "metadata": {},
     "output_type": "execute_result"
    }
   ],
   "source": [
    "set(machines_vast.columns).difference(set(machines_exp.columns))"
   ],
   "metadata": {
    "collapsed": false,
    "ExecuteTime": {
     "end_time": "2023-10-13T04:42:46.291875400Z",
     "start_time": "2023-10-13T04:42:46.190149500Z"
    }
   }
  },
  {
   "cell_type": "code",
   "execution_count": 39,
   "outputs": [
    {
     "data": {
      "text/plain": "set()"
     },
     "execution_count": 39,
     "metadata": {},
     "output_type": "execute_result"
    }
   ],
   "source": [
    "set(machines_exp.columns).difference(set(machines_vast.columns))"
   ],
   "metadata": {
    "collapsed": false,
    "ExecuteTime": {
     "end_time": "2023-10-13T03:40:32.559072300Z",
     "start_time": "2023-10-13T03:40:32.448048500Z"
    }
   }
  },
  {
   "cell_type": "code",
   "execution_count": 24,
   "outputs": [
    {
     "data": {
      "text/plain": "dict_keys(['offers'])"
     },
     "execution_count": 24,
     "metadata": {},
     "output_type": "execute_result"
    }
   ],
   "source": [
    "r_dict.keys()"
   ],
   "metadata": {
    "collapsed": false,
    "ExecuteTime": {
     "end_time": "2023-09-17T06:13:36.404036200Z",
     "start_time": "2023-09-17T06:13:36.232598600Z"
    }
   }
  },
  {
   "cell_type": "code",
   "execution_count": 12,
   "outputs": [],
   "source": [
    "from src.fetch import fetch_single, _get_sources\n",
    "\n",
    "sources = _get_sources()"
   ],
   "metadata": {
    "collapsed": false,
    "ExecuteTime": {
     "end_time": "2023-10-13T04:21:45.311841900Z",
     "start_time": "2023-10-13T04:21:44.445666100Z"
    }
   }
  },
  {
   "cell_type": "code",
   "execution_count": 13,
   "outputs": [],
   "source": [
    "raw = fetch_single(sources[0])"
   ],
   "metadata": {
    "collapsed": false,
    "ExecuteTime": {
     "end_time": "2023-10-13T04:22:07.472440400Z",
     "start_time": "2023-10-13T04:22:05.310389800Z"
    }
   }
  },
  {
   "cell_type": "code",
   "execution_count": 14,
   "outputs": [
    {
     "data": {
      "text/plain": "      bundle_id  bw_nvlink  client_run_time  compute_cap  cpu_cores  \\\n0     326519410        0.0              1.1          890        256   \n1     326539727        0.0              1.1          890        192   \n2     326355330        0.0              1.1          890        192   \n3     326530779        0.0              1.1          890        192   \n4     326530779        0.0              1.1          890        192   \n...         ...        ...              ...          ...        ...   \n7780  324943580        0.0              1.1          610          8   \n7781  326592017        0.0              1.1          610         12   \n7782  326040091        0.0              1.1          750          8   \n7783  326578086        0.0              1.1          750         12   \n7784  326011750        0.0              1.1          610         24   \n\n      cpu_cores_effective                               cpu_name  cpu_ram  \\\n0                   256.0        AMD EPYC 7H12 64-Core Processor   515759   \n1                   192.0        AMD EPYC 7R12 48-Core Processor   515814   \n2                   192.0        AMD EPYC 7R12 48-Core Processor   515866   \n3                   192.0        AMD EPYC 7R12 48-Core Processor  1031961   \n4                   192.0        AMD EPYC 7R12 48-Core Processor  1031961   \n...                   ...                                    ...      ...   \n7780                  8.0  AMD Ryzen 5 1500X Quad-Core Processor    15980   \n7781                  6.0                       Core™ i5-10400F     15836   \n7782                  8.0                         Core™ i7 950      11955   \n7783                 12.0     AMD Ryzen 5 5600X 6-Core Processor    15864   \n7784                 12.0     AMD Ryzen 9 3900 12-Core Processor    64209   \n\n     credit_balance credit_discount  ...  rentable      score    start_date  \\\n0              None            None  ...     False  11.919773           NaN   \n1              None            None  ...     False  63.616556           NaN   \n2              None            None  ...     False  49.435375           NaN   \n3              None            None  ...     False  52.456882           NaN   \n4              None            None  ...     False  55.897495           NaN   \n...             ...             ...  ...       ...        ...           ...   \n7780           None            None  ...     False  33.049508           NaN   \n7781           None            None  ...      True  17.062322  1.697171e+09   \n7782           None            None  ...     False  95.256475           NaN   \n7783           None            None  ...      True  22.412695  1.697171e+09   \n7784           None            None  ...      True   3.734008  1.697171e+09   \n\n      static_ip  storage_cost  total_flops  verification verified  \\\n0          True          0.15  1150.550016      verified     True   \n1          True          0.35  1145.044992    unverified    False   \n2         False          0.35  1145.044992      verified     True   \n3         False          0.35  1145.044992      verified     True   \n4         False          0.35  1145.044992      verified     True   \n...         ...           ...          ...           ...      ...   \n7780      False          0.15     3.991552    unverified    False   \n7781      False          0.15     3.991552      verified     True   \n7782       True          0.05     3.571584    unverified    False   \n7783      False          0.15     3.521280    unverified    False   \n7784      False          0.15     2.362982    unverified    False   \n\n      vram_costperhour   timestamp  \n0             0.000026  1697170880  \n1             0.000016  1697170880  \n2             0.000016  1697170880  \n3             0.000016  1697170880  \n4             0.000016  1697170880  \n...                ...         ...  \n7780          0.000008  1697170880  \n7781          0.000008  1697170880  \n7782          0.000003  1697170880  \n7783          0.000010  1697170880  \n7784          0.000034  1697170880  \n\n[7785 rows x 61 columns]",
      "text/html": "<div>\n<style scoped>\n    .dataframe tbody tr th:only-of-type {\n        vertical-align: middle;\n    }\n\n    .dataframe tbody tr th {\n        vertical-align: top;\n    }\n\n    .dataframe thead th {\n        text-align: right;\n    }\n</style>\n<table border=\"1\" class=\"dataframe\">\n  <thead>\n    <tr style=\"text-align: right;\">\n      <th></th>\n      <th>bundle_id</th>\n      <th>bw_nvlink</th>\n      <th>client_run_time</th>\n      <th>compute_cap</th>\n      <th>cpu_cores</th>\n      <th>cpu_cores_effective</th>\n      <th>cpu_name</th>\n      <th>cpu_ram</th>\n      <th>credit_balance</th>\n      <th>credit_discount</th>\n      <th>...</th>\n      <th>rentable</th>\n      <th>score</th>\n      <th>start_date</th>\n      <th>static_ip</th>\n      <th>storage_cost</th>\n      <th>total_flops</th>\n      <th>verification</th>\n      <th>verified</th>\n      <th>vram_costperhour</th>\n      <th>timestamp</th>\n    </tr>\n  </thead>\n  <tbody>\n    <tr>\n      <th>0</th>\n      <td>326519410</td>\n      <td>0.0</td>\n      <td>1.1</td>\n      <td>890</td>\n      <td>256</td>\n      <td>256.0</td>\n      <td>AMD EPYC 7H12 64-Core Processor</td>\n      <td>515759</td>\n      <td>None</td>\n      <td>None</td>\n      <td>...</td>\n      <td>False</td>\n      <td>11.919773</td>\n      <td>NaN</td>\n      <td>True</td>\n      <td>0.15</td>\n      <td>1150.550016</td>\n      <td>verified</td>\n      <td>True</td>\n      <td>0.000026</td>\n      <td>1697170880</td>\n    </tr>\n    <tr>\n      <th>1</th>\n      <td>326539727</td>\n      <td>0.0</td>\n      <td>1.1</td>\n      <td>890</td>\n      <td>192</td>\n      <td>192.0</td>\n      <td>AMD EPYC 7R12 48-Core Processor</td>\n      <td>515814</td>\n      <td>None</td>\n      <td>None</td>\n      <td>...</td>\n      <td>False</td>\n      <td>63.616556</td>\n      <td>NaN</td>\n      <td>True</td>\n      <td>0.35</td>\n      <td>1145.044992</td>\n      <td>unverified</td>\n      <td>False</td>\n      <td>0.000016</td>\n      <td>1697170880</td>\n    </tr>\n    <tr>\n      <th>2</th>\n      <td>326355330</td>\n      <td>0.0</td>\n      <td>1.1</td>\n      <td>890</td>\n      <td>192</td>\n      <td>192.0</td>\n      <td>AMD EPYC 7R12 48-Core Processor</td>\n      <td>515866</td>\n      <td>None</td>\n      <td>None</td>\n      <td>...</td>\n      <td>False</td>\n      <td>49.435375</td>\n      <td>NaN</td>\n      <td>False</td>\n      <td>0.35</td>\n      <td>1145.044992</td>\n      <td>verified</td>\n      <td>True</td>\n      <td>0.000016</td>\n      <td>1697170880</td>\n    </tr>\n    <tr>\n      <th>3</th>\n      <td>326530779</td>\n      <td>0.0</td>\n      <td>1.1</td>\n      <td>890</td>\n      <td>192</td>\n      <td>192.0</td>\n      <td>AMD EPYC 7R12 48-Core Processor</td>\n      <td>1031961</td>\n      <td>None</td>\n      <td>None</td>\n      <td>...</td>\n      <td>False</td>\n      <td>52.456882</td>\n      <td>NaN</td>\n      <td>False</td>\n      <td>0.35</td>\n      <td>1145.044992</td>\n      <td>verified</td>\n      <td>True</td>\n      <td>0.000016</td>\n      <td>1697170880</td>\n    </tr>\n    <tr>\n      <th>4</th>\n      <td>326530779</td>\n      <td>0.0</td>\n      <td>1.1</td>\n      <td>890</td>\n      <td>192</td>\n      <td>192.0</td>\n      <td>AMD EPYC 7R12 48-Core Processor</td>\n      <td>1031961</td>\n      <td>None</td>\n      <td>None</td>\n      <td>...</td>\n      <td>False</td>\n      <td>55.897495</td>\n      <td>NaN</td>\n      <td>False</td>\n      <td>0.35</td>\n      <td>1145.044992</td>\n      <td>verified</td>\n      <td>True</td>\n      <td>0.000016</td>\n      <td>1697170880</td>\n    </tr>\n    <tr>\n      <th>...</th>\n      <td>...</td>\n      <td>...</td>\n      <td>...</td>\n      <td>...</td>\n      <td>...</td>\n      <td>...</td>\n      <td>...</td>\n      <td>...</td>\n      <td>...</td>\n      <td>...</td>\n      <td>...</td>\n      <td>...</td>\n      <td>...</td>\n      <td>...</td>\n      <td>...</td>\n      <td>...</td>\n      <td>...</td>\n      <td>...</td>\n      <td>...</td>\n      <td>...</td>\n      <td>...</td>\n    </tr>\n    <tr>\n      <th>7780</th>\n      <td>324943580</td>\n      <td>0.0</td>\n      <td>1.1</td>\n      <td>610</td>\n      <td>8</td>\n      <td>8.0</td>\n      <td>AMD Ryzen 5 1500X Quad-Core Processor</td>\n      <td>15980</td>\n      <td>None</td>\n      <td>None</td>\n      <td>...</td>\n      <td>False</td>\n      <td>33.049508</td>\n      <td>NaN</td>\n      <td>False</td>\n      <td>0.15</td>\n      <td>3.991552</td>\n      <td>unverified</td>\n      <td>False</td>\n      <td>0.000008</td>\n      <td>1697170880</td>\n    </tr>\n    <tr>\n      <th>7781</th>\n      <td>326592017</td>\n      <td>0.0</td>\n      <td>1.1</td>\n      <td>610</td>\n      <td>12</td>\n      <td>6.0</td>\n      <td>Core™ i5-10400F</td>\n      <td>15836</td>\n      <td>None</td>\n      <td>None</td>\n      <td>...</td>\n      <td>True</td>\n      <td>17.062322</td>\n      <td>1.697171e+09</td>\n      <td>False</td>\n      <td>0.15</td>\n      <td>3.991552</td>\n      <td>verified</td>\n      <td>True</td>\n      <td>0.000008</td>\n      <td>1697170880</td>\n    </tr>\n    <tr>\n      <th>7782</th>\n      <td>326040091</td>\n      <td>0.0</td>\n      <td>1.1</td>\n      <td>750</td>\n      <td>8</td>\n      <td>8.0</td>\n      <td>Core™ i7 950</td>\n      <td>11955</td>\n      <td>None</td>\n      <td>None</td>\n      <td>...</td>\n      <td>False</td>\n      <td>95.256475</td>\n      <td>NaN</td>\n      <td>True</td>\n      <td>0.05</td>\n      <td>3.571584</td>\n      <td>unverified</td>\n      <td>False</td>\n      <td>0.000003</td>\n      <td>1697170880</td>\n    </tr>\n    <tr>\n      <th>7783</th>\n      <td>326578086</td>\n      <td>0.0</td>\n      <td>1.1</td>\n      <td>750</td>\n      <td>12</td>\n      <td>12.0</td>\n      <td>AMD Ryzen 5 5600X 6-Core Processor</td>\n      <td>15864</td>\n      <td>None</td>\n      <td>None</td>\n      <td>...</td>\n      <td>True</td>\n      <td>22.412695</td>\n      <td>1.697171e+09</td>\n      <td>False</td>\n      <td>0.15</td>\n      <td>3.521280</td>\n      <td>unverified</td>\n      <td>False</td>\n      <td>0.000010</td>\n      <td>1697170880</td>\n    </tr>\n    <tr>\n      <th>7784</th>\n      <td>326011750</td>\n      <td>0.0</td>\n      <td>1.1</td>\n      <td>610</td>\n      <td>24</td>\n      <td>12.0</td>\n      <td>AMD Ryzen 9 3900 12-Core Processor</td>\n      <td>64209</td>\n      <td>None</td>\n      <td>None</td>\n      <td>...</td>\n      <td>True</td>\n      <td>3.734008</td>\n      <td>1.697171e+09</td>\n      <td>False</td>\n      <td>0.15</td>\n      <td>2.362982</td>\n      <td>unverified</td>\n      <td>False</td>\n      <td>0.000034</td>\n      <td>1697170880</td>\n    </tr>\n  </tbody>\n</table>\n<p>7785 rows × 61 columns</p>\n</div>"
     },
     "execution_count": 14,
     "metadata": {},
     "output_type": "execute_result"
    }
   ],
   "source": [
    "raw"
   ],
   "metadata": {
    "collapsed": false,
    "ExecuteTime": {
     "end_time": "2023-10-13T04:22:11.086362100Z",
     "start_time": "2023-10-13T04:22:10.965334700Z"
    }
   }
  },
  {
   "cell_type": "code",
   "execution_count": 15,
   "outputs": [
    {
     "data": {
      "text/plain": "      is_bid inet_up_billed inet_down_billed  external webpage  \\\n0      False           None             None     False    None   \n1      False           None             None     False    None   \n2      False           None             None     False    None   \n3      False           None             None     False    None   \n4      False           None             None     False    None   \n...      ...            ...              ...       ...     ...   \n7780   False           None             None     False    None   \n7781   False           None             None     False    None   \n7782   False           None             None     False    None   \n7783   False           None             None     False    None   \n7784   False           None             None     False    None   \n\n                                 logo  rentable  compute_cap credit_balance  \\\n0     /static/logos/vastai_small2.png     False          890           None   \n1     /static/logos/vastai_small2.png     False          890           None   \n2     /static/logos/vastai_small2.png     False          890           None   \n3     /static/logos/vastai_small2.png     False          890           None   \n4     /static/logos/vastai_small2.png     False          890           None   \n...                               ...       ...          ...            ...   \n7780  /static/logos/vastai_small2.png     False          610           None   \n7781  /static/logos/vastai_small2.png      True          610           None   \n7782  /static/logos/vastai_small2.png     False          750           None   \n7783  /static/logos/vastai_small2.png      True          750           None   \n7784  /static/logos/vastai_small2.png      True          610           None   \n\n     credit_discount  ...  storage_total_cost verification  static_ip  \\\n0               None  ...                 0.0     verified       True   \n1               None  ...                 0.0   unverified       True   \n2               None  ...                 0.0     verified      False   \n3               None  ...                 0.0     verified      False   \n4               None  ...                 0.0     verified      False   \n...              ...  ...                 ...          ...        ...   \n7780            None  ...                 0.0   unverified      False   \n7781            None  ...                 0.0     verified      False   \n7782            None  ...                 0.0   unverified       True   \n7783            None  ...                 0.0   unverified      False   \n7784            None  ...                 0.0   unverified      False   \n\n          score  discount_rate discounted_hourly discounted_dph_total  rented  \\\n0     12.129738            0.0               0.0                 9.10   False   \n1     62.265000            0.0               0.0                 5.60   False   \n2     48.433542            0.0               0.0                 5.60   False   \n3     52.625774            0.0               0.0                 5.60   False   \n4     55.939620            0.0               0.0                 5.60   False   \n...         ...            ...               ...                  ...     ...   \n7780  33.988478            0.0               0.0                 0.05   False   \n7781  16.046945            0.0               0.0                 0.05   False   \n7782  96.756329            0.0               0.0                 0.02   False   \n7783  22.895751            0.0               0.0                 0.06   False   \n7784   3.739593            0.0               0.0                 0.14   False   \n\n      pending_count   timestamp  \n0                 0  1697170959  \n1                 0  1697170959  \n2                 0  1697170959  \n3                 0  1697170959  \n4                 0  1697170959  \n...             ...         ...  \n7780              0  1697170959  \n7781              0  1697170959  \n7782              0  1697170959  \n7783              0  1697170959  \n7784              0  1697170959  \n\n[7785 rows x 70 columns]",
      "text/html": "<div>\n<style scoped>\n    .dataframe tbody tr th:only-of-type {\n        vertical-align: middle;\n    }\n\n    .dataframe tbody tr th {\n        vertical-align: top;\n    }\n\n    .dataframe thead th {\n        text-align: right;\n    }\n</style>\n<table border=\"1\" class=\"dataframe\">\n  <thead>\n    <tr style=\"text-align: right;\">\n      <th></th>\n      <th>is_bid</th>\n      <th>inet_up_billed</th>\n      <th>inet_down_billed</th>\n      <th>external</th>\n      <th>webpage</th>\n      <th>logo</th>\n      <th>rentable</th>\n      <th>compute_cap</th>\n      <th>credit_balance</th>\n      <th>credit_discount</th>\n      <th>...</th>\n      <th>storage_total_cost</th>\n      <th>verification</th>\n      <th>static_ip</th>\n      <th>score</th>\n      <th>discount_rate</th>\n      <th>discounted_hourly</th>\n      <th>discounted_dph_total</th>\n      <th>rented</th>\n      <th>pending_count</th>\n      <th>timestamp</th>\n    </tr>\n  </thead>\n  <tbody>\n    <tr>\n      <th>0</th>\n      <td>False</td>\n      <td>None</td>\n      <td>None</td>\n      <td>False</td>\n      <td>None</td>\n      <td>/static/logos/vastai_small2.png</td>\n      <td>False</td>\n      <td>890</td>\n      <td>None</td>\n      <td>None</td>\n      <td>...</td>\n      <td>0.0</td>\n      <td>verified</td>\n      <td>True</td>\n      <td>12.129738</td>\n      <td>0.0</td>\n      <td>0.0</td>\n      <td>9.10</td>\n      <td>False</td>\n      <td>0</td>\n      <td>1697170959</td>\n    </tr>\n    <tr>\n      <th>1</th>\n      <td>False</td>\n      <td>None</td>\n      <td>None</td>\n      <td>False</td>\n      <td>None</td>\n      <td>/static/logos/vastai_small2.png</td>\n      <td>False</td>\n      <td>890</td>\n      <td>None</td>\n      <td>None</td>\n      <td>...</td>\n      <td>0.0</td>\n      <td>unverified</td>\n      <td>True</td>\n      <td>62.265000</td>\n      <td>0.0</td>\n      <td>0.0</td>\n      <td>5.60</td>\n      <td>False</td>\n      <td>0</td>\n      <td>1697170959</td>\n    </tr>\n    <tr>\n      <th>2</th>\n      <td>False</td>\n      <td>None</td>\n      <td>None</td>\n      <td>False</td>\n      <td>None</td>\n      <td>/static/logos/vastai_small2.png</td>\n      <td>False</td>\n      <td>890</td>\n      <td>None</td>\n      <td>None</td>\n      <td>...</td>\n      <td>0.0</td>\n      <td>verified</td>\n      <td>False</td>\n      <td>48.433542</td>\n      <td>0.0</td>\n      <td>0.0</td>\n      <td>5.60</td>\n      <td>False</td>\n      <td>0</td>\n      <td>1697170959</td>\n    </tr>\n    <tr>\n      <th>3</th>\n      <td>False</td>\n      <td>None</td>\n      <td>None</td>\n      <td>False</td>\n      <td>None</td>\n      <td>/static/logos/vastai_small2.png</td>\n      <td>False</td>\n      <td>890</td>\n      <td>None</td>\n      <td>None</td>\n      <td>...</td>\n      <td>0.0</td>\n      <td>verified</td>\n      <td>False</td>\n      <td>52.625774</td>\n      <td>0.0</td>\n      <td>0.0</td>\n      <td>5.60</td>\n      <td>False</td>\n      <td>0</td>\n      <td>1697170959</td>\n    </tr>\n    <tr>\n      <th>4</th>\n      <td>False</td>\n      <td>None</td>\n      <td>None</td>\n      <td>False</td>\n      <td>None</td>\n      <td>/static/logos/vastai_small2.png</td>\n      <td>False</td>\n      <td>890</td>\n      <td>None</td>\n      <td>None</td>\n      <td>...</td>\n      <td>0.0</td>\n      <td>verified</td>\n      <td>False</td>\n      <td>55.939620</td>\n      <td>0.0</td>\n      <td>0.0</td>\n      <td>5.60</td>\n      <td>False</td>\n      <td>0</td>\n      <td>1697170959</td>\n    </tr>\n    <tr>\n      <th>...</th>\n      <td>...</td>\n      <td>...</td>\n      <td>...</td>\n      <td>...</td>\n      <td>...</td>\n      <td>...</td>\n      <td>...</td>\n      <td>...</td>\n      <td>...</td>\n      <td>...</td>\n      <td>...</td>\n      <td>...</td>\n      <td>...</td>\n      <td>...</td>\n      <td>...</td>\n      <td>...</td>\n      <td>...</td>\n      <td>...</td>\n      <td>...</td>\n      <td>...</td>\n      <td>...</td>\n    </tr>\n    <tr>\n      <th>7780</th>\n      <td>False</td>\n      <td>None</td>\n      <td>None</td>\n      <td>False</td>\n      <td>None</td>\n      <td>/static/logos/vastai_small2.png</td>\n      <td>False</td>\n      <td>610</td>\n      <td>None</td>\n      <td>None</td>\n      <td>...</td>\n      <td>0.0</td>\n      <td>unverified</td>\n      <td>False</td>\n      <td>33.988478</td>\n      <td>0.0</td>\n      <td>0.0</td>\n      <td>0.05</td>\n      <td>False</td>\n      <td>0</td>\n      <td>1697170959</td>\n    </tr>\n    <tr>\n      <th>7781</th>\n      <td>False</td>\n      <td>None</td>\n      <td>None</td>\n      <td>False</td>\n      <td>None</td>\n      <td>/static/logos/vastai_small2.png</td>\n      <td>True</td>\n      <td>610</td>\n      <td>None</td>\n      <td>None</td>\n      <td>...</td>\n      <td>0.0</td>\n      <td>verified</td>\n      <td>False</td>\n      <td>16.046945</td>\n      <td>0.0</td>\n      <td>0.0</td>\n      <td>0.05</td>\n      <td>False</td>\n      <td>0</td>\n      <td>1697170959</td>\n    </tr>\n    <tr>\n      <th>7782</th>\n      <td>False</td>\n      <td>None</td>\n      <td>None</td>\n      <td>False</td>\n      <td>None</td>\n      <td>/static/logos/vastai_small2.png</td>\n      <td>False</td>\n      <td>750</td>\n      <td>None</td>\n      <td>None</td>\n      <td>...</td>\n      <td>0.0</td>\n      <td>unverified</td>\n      <td>True</td>\n      <td>96.756329</td>\n      <td>0.0</td>\n      <td>0.0</td>\n      <td>0.02</td>\n      <td>False</td>\n      <td>0</td>\n      <td>1697170959</td>\n    </tr>\n    <tr>\n      <th>7783</th>\n      <td>False</td>\n      <td>None</td>\n      <td>None</td>\n      <td>False</td>\n      <td>None</td>\n      <td>/static/logos/vastai_small2.png</td>\n      <td>True</td>\n      <td>750</td>\n      <td>None</td>\n      <td>None</td>\n      <td>...</td>\n      <td>0.0</td>\n      <td>unverified</td>\n      <td>False</td>\n      <td>22.895751</td>\n      <td>0.0</td>\n      <td>0.0</td>\n      <td>0.06</td>\n      <td>False</td>\n      <td>0</td>\n      <td>1697170959</td>\n    </tr>\n    <tr>\n      <th>7784</th>\n      <td>False</td>\n      <td>None</td>\n      <td>None</td>\n      <td>False</td>\n      <td>None</td>\n      <td>/static/logos/vastai_small2.png</td>\n      <td>True</td>\n      <td>610</td>\n      <td>None</td>\n      <td>None</td>\n      <td>...</td>\n      <td>0.0</td>\n      <td>unverified</td>\n      <td>False</td>\n      <td>3.739593</td>\n      <td>0.0</td>\n      <td>0.0</td>\n      <td>0.14</td>\n      <td>False</td>\n      <td>0</td>\n      <td>1697170959</td>\n    </tr>\n  </tbody>\n</table>\n<p>7785 rows × 70 columns</p>\n</div>"
     },
     "execution_count": 15,
     "metadata": {},
     "output_type": "execute_result"
    }
   ],
   "source": [
    "fetch_single(sources[1])"
   ],
   "metadata": {
    "collapsed": false,
    "ExecuteTime": {
     "end_time": "2023-10-13T04:22:39.590088500Z",
     "start_time": "2023-10-13T04:22:24.720494300Z"
    }
   }
  },
  {
   "cell_type": "code",
   "execution_count": null,
   "outputs": [],
   "source": [
    "r.text"
   ],
   "metadata": {
    "collapsed": false,
    "ExecuteTime": {
     "start_time": "2023-09-17T06:14:56.264061Z"
    }
   }
  },
  {
   "cell_type": "code",
   "execution_count": 4,
   "outputs": [
    {
     "name": "stdout",
     "output_type": "stream",
     "text": [
      "https://console.vast.ai/api/v0/bundles?q=%7B%22external%22%3A+%7B%22eq%22%3A+false%7D%2C+%22machine_id%22%3A+%7B%22eq%22%3A+%223056%22%7D%2C+%22order%22%3A+%5B%5B%22score%22%2C+%22desc%22%5D%5D%2C+%22type%22%3A+%22on-demand%22%7D&api_key=6bbc6e308dcf1fb7f0ead78eae9dbfc23767871bf2b8b7e1f3c9b54a99bc1579\n",
      "{'external': {'eq': False}, 'machine_id': {'eq': '3056'}, 'order': [['score', 'desc']], 'type': 'on-demand'}\n",
      "[\n",
      " {\n",
      "  \"bundle_id\": 327389754,\n",
      "  \"bundled_results\": 2,\n",
      "  \"bw_nvlink\": 0.0,\n",
      "  \"client_run_time\": 1.1,\n",
      "  \"compute_cap\": 860,\n",
      "  \"cpu_cores\": 32,\n",
      "  \"cpu_cores_effective\": 16.0,\n",
      "  \"cpu_name\": \"AMD EPYC 7302P 16-Core Processor\",\n",
      "  \"cpu_ram\": 257611,\n",
      "  \"credit_balance\": null,\n",
      "  \"credit_discount\": null,\n",
      "  \"credit_discount_max\": 0.4,\n",
      "  \"cuda_max_good\": 12.0,\n",
      "  \"direct_port_count\": 50,\n",
      "  \"discount_rate\": 0.0,\n",
      "  \"discounted_dph_total\": 0.964,\n",
      "  \"discounted_hourly\": 0.0,\n",
      "  \"disk_bw\": 1800.0,\n",
      "  \"disk_name\": \"nvme\",\n",
      "  \"disk_space\": 673.5,\n",
      "  \"dlperf\": 56.048816,\n",
      "  \"dlperf_per_dphtotal\": 58.14192531120332,\n",
      "  \"dph_base\": 0.964,\n",
      "  \"dph_total\": 0.964,\n",
      "  \"driver_version\": \"525.125.06\",\n",
      "  \"duration\": 2678083.111325264,\n",
      "  \"end_date\": 1700402274.0,\n",
      "  \"external\": false,\n",
      "  \"flops_per_dphtotal\": 73.16713692946058,\n",
      "  \"geolocation\": \"Harjumaa, EE\",\n",
      "  \"gpu_display_active\": false,\n",
      "  \"gpu_frac\": 0.5,\n",
      "  \"gpu_lanes\": 16,\n",
      "  \"gpu_mem_bw\": 760.2,\n",
      "  \"gpu_name\": \"RTX 3090\",\n",
      "  \"gpu_ram\": 24576,\n",
      "  \"gpu_totalram\": 49152,\n",
      "  \"has_avx\": 1,\n",
      "  \"host_id\": 23298,\n",
      "  \"host_run_time\": 2592000.0,\n",
      "  \"hosting_type\": null,\n",
      "  \"id\": 6754770,\n",
      "  \"inet_down\": 2758.1312667952393,\n",
      "  \"inet_down_billed\": null,\n",
      "  \"inet_down_cost\": 0.02,\n",
      "  \"inet_up\": 2748.632185579471,\n",
      "  \"inet_up_billed\": null,\n",
      "  \"inet_up_cost\": 0.02,\n",
      "  \"is_bid\": false,\n",
      "  \"logo\": \"/static/logos/vastai_small2.png\",\n",
      "  \"machine_id\": 3056,\n",
      "  \"min_bid\": 0.302,\n",
      "  \"mobo_name\": \"ROMED8\",\n",
      "  \"num_gpus\": 2,\n",
      "  \"pci_gen\": 4.0,\n",
      "  \"pcie_bw\": 22.9,\n",
      "  \"pending_count\": 0,\n",
      "  \"public_ipaddr\": \"185.158.179.210\",\n",
      "  \"reliability2\": 0.9990099,\n",
      "  \"rentable\": false,\n",
      "  \"rented\": false,\n",
      "  \"score\": 62.08198560109601,\n",
      "  \"start_date\": null,\n",
      "  \"static_ip\": true,\n",
      "  \"storage_cost\": 0.5,\n",
      "  \"storage_total_cost\": 0.0,\n",
      "  \"total_flops\": 70.53312,\n",
      "  \"verification\": \"verified\",\n",
      "  \"vram_costperhour\": 1.961263020833333e-05,\n",
      "  \"webpage\": null\n",
      " },\n",
      " {\n",
      "  \"bundle_id\": 327389752,\n",
      "  \"bundled_results\": 4,\n",
      "  \"bw_nvlink\": 0.0,\n",
      "  \"client_run_time\": 1.1,\n",
      "  \"compute_cap\": 860,\n",
      "  \"cpu_cores\": 32,\n",
      "  \"cpu_cores_effective\": 8.0,\n",
      "  \"cpu_name\": \"AMD EPYC 7302P 16-Core Processor\",\n",
      "  \"cpu_ram\": 257611,\n",
      "  \"credit_balance\": null,\n",
      "  \"credit_discount\": null,\n",
      "  \"credit_discount_max\": 0.4,\n",
      "  \"cuda_max_good\": 12.0,\n",
      "  \"direct_port_count\": 25,\n",
      "  \"discount_rate\": 0.0,\n",
      "  \"discounted_dph_total\": 0.482,\n",
      "  \"discounted_hourly\": 0.0,\n",
      "  \"disk_bw\": 1800.0,\n",
      "  \"disk_name\": \"nvme\",\n",
      "  \"disk_space\": 336.75,\n",
      "  \"dlperf\": 28.023337,\n",
      "  \"dlperf_per_dphtotal\": 58.13970331950208,\n",
      "  \"dph_base\": 0.482,\n",
      "  \"dph_total\": 0.482,\n",
      "  \"driver_version\": \"525.125.06\",\n",
      "  \"duration\": 2678083.111325264,\n",
      "  \"end_date\": 1700402274.0,\n",
      "  \"external\": false,\n",
      "  \"flops_per_dphtotal\": 73.16713692946058,\n",
      "  \"geolocation\": \"Harjumaa, EE\",\n",
      "  \"gpu_display_active\": false,\n",
      "  \"gpu_frac\": 0.25,\n",
      "  \"gpu_lanes\": 16,\n",
      "  \"gpu_mem_bw\": 769.2,\n",
      "  \"gpu_name\": \"RTX 3090\",\n",
      "  \"gpu_ram\": 24576,\n",
      "  \"gpu_totalram\": 24576,\n",
      "  \"has_avx\": 1,\n",
      "  \"host_id\": 23298,\n",
      "  \"host_run_time\": 2592000.0,\n",
      "  \"hosting_type\": null,\n",
      "  \"id\": 6754766,\n",
      "  \"inet_down\": 2758.1312667952393,\n",
      "  \"inet_down_billed\": null,\n",
      "  \"inet_down_cost\": 0.02,\n",
      "  \"inet_up\": 2748.632185579471,\n",
      "  \"inet_up_billed\": null,\n",
      "  \"inet_up_cost\": 0.02,\n",
      "  \"is_bid\": false,\n",
      "  \"logo\": \"/static/logos/vastai_small2.png\",\n",
      "  \"machine_id\": 3056,\n",
      "  \"min_bid\": 0.15,\n",
      "  \"mobo_name\": \"ROMED8\",\n",
      "  \"num_gpus\": 1,\n",
      "  \"pci_gen\": 4.0,\n",
      "  \"pcie_bw\": 23.5,\n",
      "  \"pending_count\": 0,\n",
      "  \"public_ipaddr\": \"185.158.179.210\",\n",
      "  \"reliability2\": 0.9990099,\n",
      "  \"rentable\": false,\n",
      "  \"rented\": false,\n",
      "  \"score\": 61.28892265389657,\n",
      "  \"start_date\": null,\n",
      "  \"static_ip\": true,\n",
      "  \"storage_cost\": 0.5,\n",
      "  \"storage_total_cost\": 0.0,\n",
      "  \"total_flops\": 35.26656,\n",
      "  \"verification\": \"verified\",\n",
      "  \"vram_costperhour\": 1.961263020833333e-05,\n",
      "  \"webpage\": null\n",
      " },\n",
      " {\n",
      "  \"bundle_id\": 327389753,\n",
      "  \"bundled_results\": 1,\n",
      "  \"bw_nvlink\": 0.0,\n",
      "  \"client_run_time\": 1.1,\n",
      "  \"compute_cap\": 860,\n",
      "  \"cpu_cores\": 32,\n",
      "  \"cpu_cores_effective\": 32.0,\n",
      "  \"cpu_name\": \"AMD EPYC 7302P 16-Core Processor\",\n",
      "  \"cpu_ram\": 257611,\n",
      "  \"credit_balance\": null,\n",
      "  \"credit_discount\": null,\n",
      "  \"credit_discount_max\": 0.4,\n",
      "  \"cuda_max_good\": 12.0,\n",
      "  \"direct_port_count\": 100,\n",
      "  \"discount_rate\": 0.0,\n",
      "  \"discounted_dph_total\": 1.928,\n",
      "  \"discounted_hourly\": 0.0,\n",
      "  \"disk_bw\": 1800.0,\n",
      "  \"disk_name\": \"nvme\",\n",
      "  \"disk_space\": 1347.0,\n",
      "  \"dlperf\": 112.100214,\n",
      "  \"dlperf_per_dphtotal\": 58.143264522821575,\n",
      "  \"dph_base\": 1.928,\n",
      "  \"dph_total\": 1.928,\n",
      "  \"driver_version\": \"525.125.06\",\n",
      "  \"duration\": 2678083.111325264,\n",
      "  \"end_date\": 1700402274.0,\n",
      "  \"external\": false,\n",
      "  \"flops_per_dphtotal\": 73.16713692946058,\n",
      "  \"geolocation\": \"Harjumaa, EE\",\n",
      "  \"gpu_display_active\": false,\n",
      "  \"gpu_frac\": 1.0,\n",
      "  \"gpu_lanes\": 16,\n",
      "  \"gpu_mem_bw\": 760.2,\n",
      "  \"gpu_name\": \"RTX 3090\",\n",
      "  \"gpu_ram\": 24576,\n",
      "  \"gpu_totalram\": 98304,\n",
      "  \"has_avx\": 1,\n",
      "  \"host_id\": 23298,\n",
      "  \"host_run_time\": 2592000.0,\n",
      "  \"hosting_type\": null,\n",
      "  \"id\": 6754767,\n",
      "  \"inet_down\": 2758.1312667952393,\n",
      "  \"inet_down_billed\": null,\n",
      "  \"inet_down_cost\": 0.02,\n",
      "  \"inet_up\": 2748.632185579471,\n",
      "  \"inet_up_billed\": null,\n",
      "  \"inet_up_cost\": 0.02,\n",
      "  \"is_bid\": false,\n",
      "  \"logo\": \"/static/logos/vastai_small2.png\",\n",
      "  \"machine_id\": 3056,\n",
      "  \"min_bid\": 0.604,\n",
      "  \"mobo_name\": \"ROMED8\",\n",
      "  \"num_gpus\": 4,\n",
      "  \"pci_gen\": 4.0,\n",
      "  \"pcie_bw\": 22.9,\n",
      "  \"pending_count\": 0,\n",
      "  \"public_ipaddr\": \"185.158.179.210\",\n",
      "  \"reliability2\": 0.9990099,\n",
      "  \"rentable\": false,\n",
      "  \"rented\": false,\n",
      "  \"score\": 59.79632541318841,\n",
      "  \"start_date\": null,\n",
      "  \"static_ip\": true,\n",
      "  \"storage_cost\": 0.5,\n",
      "  \"storage_total_cost\": 0.0,\n",
      "  \"total_flops\": 141.06624,\n",
      "  \"verification\": \"verified\",\n",
      "  \"vram_costperhour\": 1.961263020833333e-05,\n",
      "  \"webpage\": null\n",
      " }\n",
      "]\n"
     ]
    }
   ],
   "source": [
    "# !python ../vast search offers \"rentable = any verified = any\" --raw\n",
    "# !python ../vast search offers \"machine_id = 9901 rentable = any verified = any\" --raw -i\n",
    "!python ../vast search offers \"machine_id = 3056 rentable = any verified = any\" --raw"
   ],
   "metadata": {
    "collapsed": false,
    "ExecuteTime": {
     "end_time": "2023-10-19T14:03:10.908339700Z",
     "start_time": "2023-10-19T14:03:08.809218100Z"
    }
   }
  },
  {
   "cell_type": "code",
   "execution_count": 8,
   "outputs": [
    {
     "name": "stdout",
     "output_type": "stream",
     "text": [
      "https://console.vast.ai/api/v0/bundles?q=%7B%22external%22%3A+%7B%22eq%22%3A+false%7D%2C+%22machine_id%22%3A+%7B%22eq%22%3A+%223056%22%7D%2C+%22order%22%3A+%5B%5B%22score%22%2C+%22desc%22%5D%5D%2C+%22type%22%3A+%22on-demand%22%7D&api_key=6bbc6e308dcf1fb7f0ead78eae9dbfc23767871bf2b8b7e1f3c9b54a99bc1579\n",
      "{'external': {'eq': False}, 'machine_id': {'eq': '3056'}, 'order': [['score', 'desc']], 'type': 'on-demand'}\n",
      "ID       CUDA   N  Model     PCIE  vCPUs    RAM  Disk  $/hr    DLP    DLP/$  NV Driver   Net_up  Net_down  R     Max_Days  mach_id  status    ports  country     \n",
      "6754768  12.0  2x  RTX_3090  23.5  16.0   257.6  674   0.9640  56.0   58.14  525.125.06  2748.6  2758.1    99.9  31.0      3056     verified  50     Harjumaa,_EE\n",
      "6754764  12.0  1x  RTX_3090  23.3  8.0    257.6  337   0.4820  28.0   58.14  525.125.06  2748.6  2758.1    99.9  31.0      3056     verified  25     Harjumaa,_EE\n",
      "6754767  12.0  4x  RTX_3090  22.9  32.0   257.6  1347  1.9280  112.1  58.14  525.125.06  2748.6  2758.1    99.9  31.0      3056     verified  100    Harjumaa,_EE\n"
     ]
    }
   ],
   "source": [
    "# !python ../vast search offers \"machine_id = 10332 rentable = any verified = any\" -d\n",
    "!python ../vast search offers \"machine_id = 3056 verified = any\" -d"
   ],
   "metadata": {
    "collapsed": false,
    "ExecuteTime": {
     "end_time": "2023-10-19T14:03:59.576782600Z",
     "start_time": "2023-10-19T14:03:57.619719500Z"
    }
   }
  },
  {
   "cell_type": "code",
   "execution_count": 10,
   "outputs": [
    {
     "name": "stdout",
     "output_type": "stream",
     "text": [
      "https://console.vast.ai/api/v0/bundles?q=%7B%22external%22%3A+%7B%22eq%22%3A+false%7D%2C+%22machine_id%22%3A+%7B%22eq%22%3A+%223056%22%7D%2C+%22order%22%3A+%5B%5B%22score%22%2C+%22desc%22%5D%5D%2C+%22type%22%3A+%22on-demand%22%2C+%22disable_bundling%22%3A+true%7D&api_key=6bbc6e308dcf1fb7f0ead78eae9dbfc23767871bf2b8b7e1f3c9b54a99bc1579\n",
      "{'external': {'eq': False}, 'machine_id': {'eq': '3056'}, 'order': [['score', 'desc']], 'type': 'on-demand', 'disable_bundling': True}\n",
      "ID       CUDA   N  Model     PCIE  vCPUs    RAM  Disk  $/hr    DLP    DLP/$  NV Driver   Net_up  Net_down  R     Max_Days  mach_id  status    ports  country     \n",
      "6754764  12.0  1x  RTX_3090  23.3  8.0    257.6  337   0.4820  28.0   58.14  525.125.06  2748.6  2758.1    99.9  31.0      3056     verified  25     Harjumaa,_EE\n",
      "6754768  12.0  2x  RTX_3090  23.5  16.0   257.6  674   0.9640  56.0   58.14  525.125.06  2748.6  2758.1    99.9  31.0      3056     verified  50     Harjumaa,_EE\n",
      "6754769  12.0  1x  RTX_3090  23.2  8.0    257.6  337   0.4820  28.0   58.14  525.125.06  2748.6  2758.1    99.9  31.0      3056     verified  25     Harjumaa,_EE\n",
      "6754766  12.0  1x  RTX_3090  23.5  8.0    257.6  337   0.4820  28.0   58.14  525.125.06  2748.6  2758.1    99.9  31.0      3056     verified  25     Harjumaa,_EE\n",
      "6754765  12.0  1x  RTX_3090  22.9  8.0    257.6  337   0.4820  28.0   58.14  525.125.06  2748.6  2758.1    99.9  31.0      3056     verified  25     Harjumaa,_EE\n",
      "6754767  12.0  4x  RTX_3090  22.9  32.0   257.6  1347  1.9280  112.1  58.14  525.125.06  2748.6  2758.1    99.9  31.0      3056     verified  100    Harjumaa,_EE\n",
      "6754770  12.0  2x  RTX_3090  22.9  16.0   257.6  674   0.9640  56.0   58.14  525.125.06  2748.6  2758.1    99.9  31.0      3056     verified  50     Harjumaa,_EE\n"
     ]
    }
   ],
   "source": [
    "# !python vast search offers \"rentable = any verified = any\" --raw -d\n",
    "# !python vast search offers \"machine_id = 11833 rentable = any verified = any\" --raw -d\n",
    "# !python ../vast search offers \"machine_id = 5919 rentable = any verified = any\" --raw -d\n",
    "# !python ../vast search offers \"machine_id = 5919 rentable = any verified = any\" -d --disable-bundling\n",
    "!python ../vast search offers \"machine_id = 3056 rentable = any verified = any\" -d --disable-bundling"
   ],
   "metadata": {
    "collapsed": false,
    "ExecuteTime": {
     "end_time": "2023-10-19T14:04:33.293484400Z",
     "start_time": "2023-10-19T14:04:31.270747300Z"
    }
   }
  },
  {
   "cell_type": "code",
   "execution_count": 4,
   "outputs": [
    {
     "data": {
      "text/plain": "'https://console.vast.ai/api/v0/bundles?q=%7B%22external%22%3A+%7B%22eq%22%3A+false%7D%2C+%22disable_bundling%22%3A+%7B%22eq%22%3A+true%7D%2C+%22type%22%3A+%22on-demand%22%7D'"
     },
     "execution_count": 4,
     "metadata": {},
     "output_type": "execute_result"
    }
   ],
   "source": [
    "# query = {\"external\": {\"eq\": False},  \"disable_bundling\" : {\"eq\": True}, \"type\": \"bid\"}\n",
    "query = {\"external\": {\"eq\": False},  \"disable_bundling\" : {\"eq\": True}, \"type\": \"on-demand\"}\n",
    "# query = {\"external\": {\"eq\": False}, \"type\": \"on-demand\"}\n",
    "\n",
    "# query = {'external': {'eq': False}, 'machine_id': {'eq': '3690'}, 'type': 'on-demand'}\n",
    "# query = {'external': {'eq': False}, 'machine_id': {'eq': '6312'}, \"disable_bundling\" : {\"eq\": True}, 'type': 'on-demand'}\n",
    "\n",
    "url = _apiurl(\"/bundles\", {\"q\": query})\n",
    "url"
   ],
   "metadata": {
    "collapsed": false,
    "ExecuteTime": {
     "end_time": "2023-09-16T14:16:27.840813100Z",
     "start_time": "2023-09-16T14:16:26.794578400Z"
    }
   }
  },
  {
   "cell_type": "code",
   "execution_count": 19,
   "outputs": [
    {
     "ename": "ImportError",
     "evalue": "cannot import name 'split_raw' from partially initialized module 'src.preprocess' (most likely due to a circular import) (C:\\Users\\ergot\\DataspellProjects\\vast-stats\\src\\preprocess.py)",
     "output_type": "error",
     "traceback": [
      "\u001B[1;31m---------------------------------------------------------------------------\u001B[0m",
      "\u001B[1;31mImportError\u001B[0m                               Traceback (most recent call last)",
      "Cell \u001B[1;32mIn[19], line 1\u001B[0m\n\u001B[1;32m----> 1\u001B[0m \u001B[38;5;28;01mfrom\u001B[39;00m \u001B[38;5;21;01msrc\u001B[39;00m\u001B[38;5;21;01m.\u001B[39;00m\u001B[38;5;21;01mpreprocess\u001B[39;00m \u001B[38;5;28;01mimport\u001B[39;00m preprocess\n\u001B[0;32m      2\u001B[0m preprocess(raw)\n",
      "File \u001B[1;32m~\\DataspellProjects\\vast-stats\\src\\preprocess.py:5\u001B[0m\n\u001B[0;32m      2\u001B[0m \u001B[38;5;28;01mimport\u001B[39;00m \u001B[38;5;21;01mpandas\u001B[39;00m \u001B[38;5;28;01mas\u001B[39;00m \u001B[38;5;21;01mpd\u001B[39;00m\n\u001B[0;32m      3\u001B[0m \u001B[38;5;28;01mfrom\u001B[39;00m \u001B[38;5;21;01mpandas\u001B[39;00m\u001B[38;5;21;01m.\u001B[39;00m\u001B[38;5;21;01mcore\u001B[39;00m\u001B[38;5;21;01m.\u001B[39;00m\u001B[38;5;21;01mdtypes\u001B[39;00m\u001B[38;5;21;01m.\u001B[39;00m\u001B[38;5;21;01mcommon\u001B[39;00m \u001B[38;5;28;01mimport\u001B[39;00m is_integer_dtype, is_float_dtype, is_string_dtype\n\u001B[1;32m----> 5\u001B[0m \u001B[38;5;28;01mfrom\u001B[39;00m \u001B[38;5;21;01msrc\u001B[39;00m \u001B[38;5;28;01mimport\u001B[39;00m tables \u001B[38;5;28;01mas\u001B[39;00m tbl\n\u001B[0;32m      6\u001B[0m \u001B[38;5;66;03m# from src.tables import INT32_COLS, STR_COLS, DROP_COLS\u001B[39;00m\n\u001B[0;32m      7\u001B[0m \u001B[38;5;28;01mfrom\u001B[39;00m \u001B[38;5;21;01msrc\u001B[39;00m\u001B[38;5;21;01m.\u001B[39;00m\u001B[38;5;21;01mutils\u001B[39;00m \u001B[38;5;28;01mimport\u001B[39;00m round_day, round_base, custom_round\n",
      "File \u001B[1;32m~\\DataspellProjects\\vast-stats\\src\\tables.py:8\u001B[0m\n\u001B[0;32m      6\u001B[0m \u001B[38;5;28;01mfrom\u001B[39;00m \u001B[38;5;21;01mpandas\u001B[39;00m \u001B[38;5;28;01mimport\u001B[39;00m DataFrame\n\u001B[0;32m      7\u001B[0m \u001B[38;5;28;01mfrom\u001B[39;00m \u001B[38;5;21;01msrc\u001B[39;00m\u001B[38;5;21;01m.\u001B[39;00m\u001B[38;5;21;01mutils\u001B[39;00m \u001B[38;5;28;01mimport\u001B[39;00m np_min_chunk\n\u001B[1;32m----> 8\u001B[0m \u001B[38;5;28;01mfrom\u001B[39;00m \u001B[38;5;21;01msrc\u001B[39;00m\u001B[38;5;21;01m.\u001B[39;00m\u001B[38;5;21;01mpreprocess\u001B[39;00m \u001B[38;5;28;01mimport\u001B[39;00m split_raw, preprocess\n\u001B[0;32m     10\u001B[0m offers_url \u001B[38;5;241m=\u001B[39m \u001B[38;5;124m'\u001B[39m\u001B[38;5;124mhttps://500.farm/vastai-exporter/offers\u001B[39m\u001B[38;5;124m'\u001B[39m\n\u001B[0;32m     11\u001B[0m machines_url \u001B[38;5;241m=\u001B[39m \u001B[38;5;124m'\u001B[39m\u001B[38;5;124mhttps://500.farm/vastai-exporter/machines\u001B[39m\u001B[38;5;124m'\u001B[39m\n",
      "\u001B[1;31mImportError\u001B[0m: cannot import name 'split_raw' from partially initialized module 'src.preprocess' (most likely due to a circular import) (C:\\Users\\ergot\\DataspellProjects\\vast-stats\\src\\preprocess.py)"
     ]
    }
   ],
   "source": [],
   "metadata": {
    "collapsed": false,
    "ExecuteTime": {
     "end_time": "2023-09-16T16:26:19.673608800Z",
     "start_time": "2023-09-16T16:26:19.360064700Z"
    }
   }
  },
  {
   "cell_type": "code",
   "execution_count": 7,
   "outputs": [
    {
     "data": {
      "text/plain": "dict_keys(['offers'])"
     },
     "execution_count": 7,
     "metadata": {},
     "output_type": "execute_result"
    }
   ],
   "source": [
    "r.json().keys()"
   ],
   "metadata": {
    "collapsed": false,
    "ExecuteTime": {
     "end_time": "2023-09-16T13:44:34.236775200Z",
     "start_time": "2023-09-16T13:44:34.215764200Z"
    }
   }
  },
  {
   "cell_type": "code",
   "execution_count": 25,
   "outputs": [
    {
     "data": {
      "text/plain": "    machine_id       id  num_gpus  rentable\n13        6312  5381479         1     False\n12        6312  5381480         1     False\n11        6312  5381481         1     False\n1         6312  5381482         4     False\n5         6312  5381483         2     False\n10        6312  5381484         1     False\n4         6312  5381485         2     False\n9         6312  5516883         1     False\n8         6312  5516884         1     False\n7         6312  5516885         1     False\n0         6312  5516886         4     False\n3         6312  5516887         2     False\n6         6312  5516888         1     False\n2         6312  5516889         2     False",
      "text/html": "<div>\n<style scoped>\n    .dataframe tbody tr th:only-of-type {\n        vertical-align: middle;\n    }\n\n    .dataframe tbody tr th {\n        vertical-align: top;\n    }\n\n    .dataframe thead th {\n        text-align: right;\n    }\n</style>\n<table border=\"1\" class=\"dataframe\">\n  <thead>\n    <tr style=\"text-align: right;\">\n      <th></th>\n      <th>machine_id</th>\n      <th>id</th>\n      <th>num_gpus</th>\n      <th>rentable</th>\n    </tr>\n  </thead>\n  <tbody>\n    <tr>\n      <th>13</th>\n      <td>6312</td>\n      <td>5381479</td>\n      <td>1</td>\n      <td>False</td>\n    </tr>\n    <tr>\n      <th>12</th>\n      <td>6312</td>\n      <td>5381480</td>\n      <td>1</td>\n      <td>False</td>\n    </tr>\n    <tr>\n      <th>11</th>\n      <td>6312</td>\n      <td>5381481</td>\n      <td>1</td>\n      <td>False</td>\n    </tr>\n    <tr>\n      <th>1</th>\n      <td>6312</td>\n      <td>5381482</td>\n      <td>4</td>\n      <td>False</td>\n    </tr>\n    <tr>\n      <th>5</th>\n      <td>6312</td>\n      <td>5381483</td>\n      <td>2</td>\n      <td>False</td>\n    </tr>\n    <tr>\n      <th>10</th>\n      <td>6312</td>\n      <td>5381484</td>\n      <td>1</td>\n      <td>False</td>\n    </tr>\n    <tr>\n      <th>4</th>\n      <td>6312</td>\n      <td>5381485</td>\n      <td>2</td>\n      <td>False</td>\n    </tr>\n    <tr>\n      <th>9</th>\n      <td>6312</td>\n      <td>5516883</td>\n      <td>1</td>\n      <td>False</td>\n    </tr>\n    <tr>\n      <th>8</th>\n      <td>6312</td>\n      <td>5516884</td>\n      <td>1</td>\n      <td>False</td>\n    </tr>\n    <tr>\n      <th>7</th>\n      <td>6312</td>\n      <td>5516885</td>\n      <td>1</td>\n      <td>False</td>\n    </tr>\n    <tr>\n      <th>0</th>\n      <td>6312</td>\n      <td>5516886</td>\n      <td>4</td>\n      <td>False</td>\n    </tr>\n    <tr>\n      <th>3</th>\n      <td>6312</td>\n      <td>5516887</td>\n      <td>2</td>\n      <td>False</td>\n    </tr>\n    <tr>\n      <th>6</th>\n      <td>6312</td>\n      <td>5516888</td>\n      <td>1</td>\n      <td>False</td>\n    </tr>\n    <tr>\n      <th>2</th>\n      <td>6312</td>\n      <td>5516889</td>\n      <td>2</td>\n      <td>False</td>\n    </tr>\n  </tbody>\n</table>\n</div>"
     },
     "execution_count": 25,
     "metadata": {},
     "output_type": "execute_result"
    }
   ],
   "source": [
    "df  = pd.DataFrame(rows)\n",
    "df[['machine_id', 'id', 'num_gpus', 'rentable']].sort_values('id')"
   ],
   "metadata": {
    "collapsed": false,
    "ExecuteTime": {
     "end_time": "2023-09-10T11:18:29.101017700Z",
     "start_time": "2023-09-10T11:18:28.852961200Z"
    }
   }
  },
  {
   "cell_type": "code",
   "execution_count": 26,
   "outputs": [
    {
     "data": {
      "text/plain": "    machine_id       id  num_gpus  rentable\n0         6312  5516886         4     False\n1         6312  5381482         4     False\n2         6312  5516889         2     False\n3         6312  5516887         2     False\n4         6312  5381485         2     False\n5         6312  5381483         2     False\n6         6312  5516888         1     False\n7         6312  5516885         1     False\n8         6312  5516884         1     False\n9         6312  5516883         1     False\n10        6312  5381484         1     False\n11        6312  5381481         1     False\n12        6312  5381480         1     False\n13        6312  5381479         1     False",
      "text/html": "<div>\n<style scoped>\n    .dataframe tbody tr th:only-of-type {\n        vertical-align: middle;\n    }\n\n    .dataframe tbody tr th {\n        vertical-align: top;\n    }\n\n    .dataframe thead th {\n        text-align: right;\n    }\n</style>\n<table border=\"1\" class=\"dataframe\">\n  <thead>\n    <tr style=\"text-align: right;\">\n      <th></th>\n      <th>machine_id</th>\n      <th>id</th>\n      <th>num_gpus</th>\n      <th>rentable</th>\n    </tr>\n  </thead>\n  <tbody>\n    <tr>\n      <th>0</th>\n      <td>6312</td>\n      <td>5516886</td>\n      <td>4</td>\n      <td>False</td>\n    </tr>\n    <tr>\n      <th>1</th>\n      <td>6312</td>\n      <td>5381482</td>\n      <td>4</td>\n      <td>False</td>\n    </tr>\n    <tr>\n      <th>2</th>\n      <td>6312</td>\n      <td>5516889</td>\n      <td>2</td>\n      <td>False</td>\n    </tr>\n    <tr>\n      <th>3</th>\n      <td>6312</td>\n      <td>5516887</td>\n      <td>2</td>\n      <td>False</td>\n    </tr>\n    <tr>\n      <th>4</th>\n      <td>6312</td>\n      <td>5381485</td>\n      <td>2</td>\n      <td>False</td>\n    </tr>\n    <tr>\n      <th>5</th>\n      <td>6312</td>\n      <td>5381483</td>\n      <td>2</td>\n      <td>False</td>\n    </tr>\n    <tr>\n      <th>6</th>\n      <td>6312</td>\n      <td>5516888</td>\n      <td>1</td>\n      <td>False</td>\n    </tr>\n    <tr>\n      <th>7</th>\n      <td>6312</td>\n      <td>5516885</td>\n      <td>1</td>\n      <td>False</td>\n    </tr>\n    <tr>\n      <th>8</th>\n      <td>6312</td>\n      <td>5516884</td>\n      <td>1</td>\n      <td>False</td>\n    </tr>\n    <tr>\n      <th>9</th>\n      <td>6312</td>\n      <td>5516883</td>\n      <td>1</td>\n      <td>False</td>\n    </tr>\n    <tr>\n      <th>10</th>\n      <td>6312</td>\n      <td>5381484</td>\n      <td>1</td>\n      <td>False</td>\n    </tr>\n    <tr>\n      <th>11</th>\n      <td>6312</td>\n      <td>5381481</td>\n      <td>1</td>\n      <td>False</td>\n    </tr>\n    <tr>\n      <th>12</th>\n      <td>6312</td>\n      <td>5381480</td>\n      <td>1</td>\n      <td>False</td>\n    </tr>\n    <tr>\n      <th>13</th>\n      <td>6312</td>\n      <td>5381479</td>\n      <td>1</td>\n      <td>False</td>\n    </tr>\n  </tbody>\n</table>\n</div>"
     },
     "execution_count": 26,
     "metadata": {},
     "output_type": "execute_result"
    }
   ],
   "source": [
    "df  = pd.DataFrame(rows)\n",
    "df[['machine_id', 'id', 'num_gpus', 'rentable']]\n",
    "# df.set_index(['machine_id', 'id']).sort_index()['num_gpus']"
   ],
   "metadata": {
    "collapsed": false,
    "ExecuteTime": {
     "end_time": "2023-09-10T11:18:35.204048400Z",
     "start_time": "2023-09-10T11:18:34.958002200Z"
    }
   }
  },
  {
   "cell_type": "code",
   "execution_count": 27,
   "outputs": [],
   "source": [
    "df = np_min_chunk(df)"
   ],
   "metadata": {
    "collapsed": false,
    "ExecuteTime": {
     "end_time": "2023-09-10T11:18:38.710011900Z",
     "start_time": "2023-09-10T11:18:38.479915900Z"
    }
   }
  },
  {
   "cell_type": "code",
   "execution_count": 28,
   "outputs": [
    {
     "name": "stdout",
     "output_type": "stream",
     "text": [
      "is_bid                    ->          Missing values: 0 (0.00%)\n",
      "inet_up_billed            ->          Missing values: 8 (100.00%)\n",
      "inet_down_billed          ->          Missing values: 8 (100.00%)\n",
      "external                  ->          Missing values: 0 (0.00%)\n",
      "webpage                   ->          Missing values: 8 (100.00%)\n",
      "logo                      ->          Missing values: 0 (0.00%)\n",
      "rentable                  ->          Missing values: 0 (0.00%)\n",
      "compute_cap               ->          Missing values: 0 (0.00%)\n",
      "credit_balance            ->          Missing values: 8 (100.00%)\n",
      "credit_discount           ->          Missing values: 8 (100.00%)\n",
      "credit_discount_max       ->          Missing values: 0 (0.00%)\n",
      "driver_version            ->          Missing values: 0 (0.00%)\n",
      "cuda_max_good             ->          Missing values: 0 (0.00%)\n",
      "machine_id                ->          Missing values: 0 (0.00%)\n",
      "hosting_type              ->          Missing values: 8 (100.00%)\n",
      "public_ipaddr             ->          Missing values: 0 (0.00%)\n",
      "geolocation               ->          Missing values: 0 (0.00%)\n",
      "flops_per_dphtotal        ->          Missing values: 0 (0.00%)\n",
      "dlperf_per_dphtotal       ->          Missing values: 0 (0.00%)\n",
      "reliability2              ->          Missing values: 0 (0.00%)\n",
      "host_run_time             ->          Missing values: 0 (0.00%)\n",
      "client_run_time           ->          Missing values: 0 (0.00%)\n",
      "host_id                   ->          Missing values: 0 (0.00%)\n",
      "id                        ->          Missing values: 0 (0.00%)\n",
      "bundle_id                 ->          Missing values: 0 (0.00%)\n",
      "num_gpus                  ->          Missing values: 0 (0.00%)\n",
      "total_flops               ->          Missing values: 0 (0.00%)\n",
      "min_bid                   ->          Missing values: 0 (0.00%)\n",
      "dph_base                  ->          Missing values: 0 (0.00%)\n",
      "dph_total                 ->          Missing values: 0 (0.00%)\n",
      "gpu_name                  ->          Missing values: 0 (0.00%)\n",
      "gpu_ram                   ->          Missing values: 0 (0.00%)\n",
      "gpu_totalram              ->          Missing values: 0 (0.00%)\n",
      "vram_costperhour          ->          Missing values: 0 (0.00%)\n",
      "gpu_display_active        ->          Missing values: 0 (0.00%)\n",
      "gpu_mem_bw                ->          Missing values: 0 (0.00%)\n",
      "bw_nvlink                 ->          Missing values: 0 (0.00%)\n",
      "direct_port_count         ->          Missing values: 0 (0.00%)\n",
      "gpu_lanes                 ->          Missing values: 0 (0.00%)\n",
      "pcie_bw                   ->          Missing values: 0 (0.00%)\n",
      "pci_gen                   ->          Missing values: 0 (0.00%)\n",
      "dlperf                    ->          Missing values: 0 (0.00%)\n",
      "cpu_name                  ->          Missing values: 8 (100.00%)\n",
      "mobo_name                 ->          Missing values: 0 (0.00%)\n",
      "cpu_ram                   ->          Missing values: 0 (0.00%)\n",
      "cpu_cores                 ->          Missing values: 0 (0.00%)\n",
      "cpu_cores_effective       ->          Missing values: 0 (0.00%)\n",
      "gpu_frac                  ->          Missing values: 0 (0.00%)\n",
      "has_avx                   ->          Missing values: 0 (0.00%)\n",
      "disk_space                ->          Missing values: 0 (0.00%)\n",
      "disk_name                 ->          Missing values: 0 (0.00%)\n",
      "disk_bw                   ->          Missing values: 0 (0.00%)\n",
      "inet_up                   ->          Missing values: 0 (0.00%)\n",
      "inet_down                 ->          Missing values: 0 (0.00%)\n",
      "start_date                ->          Missing values: 8 (100.00%)\n",
      "end_date                  ->          Missing values: 8 (100.00%)\n",
      "duration                  ->          Missing values: 8 (100.00%)\n",
      "storage_cost              ->          Missing values: 0 (0.00%)\n",
      "inet_up_cost              ->          Missing values: 0 (0.00%)\n",
      "inet_down_cost            ->          Missing values: 0 (0.00%)\n",
      "storage_total_cost        ->          Missing values: 0 (0.00%)\n",
      "verification              ->          Missing values: 0 (0.00%)\n",
      "static_ip                 ->          Missing values: 0 (0.00%)\n",
      "score                     ->          Missing values: 0 (0.00%)\n",
      "discount_rate             ->          Missing values: 0 (0.00%)\n",
      "discounted_hourly         ->          Missing values: 0 (0.00%)\n",
      "discounted_dph_total      ->          Missing values: 0 (0.00%)\n",
      "rented                    ->          Missing values: 0 (0.00%)\n",
      "pending_count             ->          Missing values: 0 (0.00%)\n"
     ]
    },
    {
     "data": {
      "text/plain": "['inet_up_billed',\n 'inet_down_billed',\n 'webpage',\n 'credit_balance',\n 'credit_discount',\n 'hosting_type',\n 'cpu_name',\n 'start_date',\n 'end_date',\n 'duration']"
     },
     "execution_count": 28,
     "metadata": {},
     "output_type": "execute_result"
    }
   ],
   "source": [
    "df_na_vals(df)"
   ],
   "metadata": {
    "collapsed": false,
    "ExecuteTime": {
     "end_time": "2023-09-10T11:18:39.827600600Z",
     "start_time": "2023-09-10T11:18:39.566541900Z"
    }
   }
  },
  {
   "cell_type": "code",
   "execution_count": 29,
   "outputs": [
    {
     "data": {
      "text/plain": "Empty DataFrame\nColumns: [start_date, end_date]\nIndex: []",
      "text/html": "<div>\n<style scoped>\n    .dataframe tbody tr th:only-of-type {\n        vertical-align: middle;\n    }\n\n    .dataframe tbody tr th {\n        vertical-align: top;\n    }\n\n    .dataframe thead th {\n        text-align: right;\n    }\n</style>\n<table border=\"1\" class=\"dataframe\">\n  <thead>\n    <tr style=\"text-align: right;\">\n      <th></th>\n      <th>start_date</th>\n      <th>end_date</th>\n    </tr>\n  </thead>\n  <tbody>\n  </tbody>\n</table>\n</div>"
     },
     "execution_count": 29,
     "metadata": {},
     "output_type": "execute_result"
    }
   ],
   "source": [
    "# df[df.machine_id == 10298]\n",
    "df[df.machine_id == 11734][['start_date', 'end_date']]"
   ],
   "metadata": {
    "collapsed": false,
    "ExecuteTime": {
     "end_time": "2023-09-10T11:18:43.345984Z",
     "start_time": "2023-09-10T11:18:43.106931500Z"
    }
   }
  },
  {
   "cell_type": "code",
   "execution_count": 30,
   "outputs": [
    {
     "name": "stdout",
     "output_type": "stream",
     "text": [
      "https://console.vast.ai/api/v0/bundles?q=%7B%22external%22%3A+%7B%22eq%22%3A+false%7D%2C+%22machine_id%22%3A+%7B%22eq%22%3A+%22162%22%7D%2C+%22order%22%3A+%5B%5B%22score%22%2C+%22desc%22%5D%5D%2C+%22type%22%3A+%22on-demand%22%7D&api_key=6bbc6e308dcf1fb7f0ead78eae9dbfc23767871bf2b8b7e1f3c9b54a99bc1579\n",
      "{'external': {'eq': False}, 'machine_id': {'eq': '162'}, 'order': [['score', 'desc']], 'type': 'on-demand'}\n",
      "ID       CUDA   N  Model        PCIE  vCPUs   RAM  Disk  $/hr    DLP   DLP/$  NV Driver  Net_up  Net_down  R     Max_Days  mach_id  status    ports  country \n",
      "6612968  11.7  4x  RTX_2080_Ti  12.5  32.0   64.4  768   0.6000  49.3  82.08  515.65.01  45.4    345.4     99.8  -         162      verified  1000   Ohio,_US\n"
     ]
    }
   ],
   "source": [
    "!python vast search offers \"machine_id = 162 rentable = any verified = any\" -d"
   ],
   "metadata": {
    "collapsed": false,
    "ExecuteTime": {
     "end_time": "2023-09-10T11:18:48.648515400Z",
     "start_time": "2023-09-10T11:18:46.460073900Z"
    }
   }
  },
  {
   "cell_type": "code",
   "execution_count": 31,
   "outputs": [
    {
     "data": {
      "text/plain": "False"
     },
     "execution_count": 31,
     "metadata": {},
     "output_type": "execute_result"
    }
   ],
   "source": [
    "df.is_bid.any()"
   ],
   "metadata": {
    "collapsed": false,
    "ExecuteTime": {
     "end_time": "2023-09-10T11:18:53.740775500Z",
     "start_time": "2023-09-10T11:18:53.501577500Z"
    }
   }
  },
  {
   "cell_type": "code",
   "execution_count": 10,
   "outputs": [
    {
     "data": {
      "text/plain": "{'name': 'vast.ai',\n 'url': 'https://console.vast.ai/api/v0/bundles?q=%7B%22external%22%3A+%7B%22eq%22%3A+false%7D%2C+%22disable_bundling%22%3A+%7B%22eq%22%3A+true%7D%2C+%22type%22%3A+%22on-demand%22%7D',\n 'timeout': 25,\n 'to_split': True}"
     },
     "execution_count": 10,
     "metadata": {},
     "output_type": "execute_result"
    }
   ],
   "source": [
    "from src.fetch import fetch_single_source, _get_sources\n",
    "from src import const\n",
    "\n",
    "sources = _get_sources()\n",
    "sources[1]"
   ],
   "metadata": {
    "collapsed": false,
    "ExecuteTime": {
     "end_time": "2023-10-14T05:54:27.172651Z",
     "start_time": "2023-10-14T05:54:27.061626600Z"
    }
   }
  },
  {
   "cell_type": "code",
   "execution_count": 38,
   "outputs": [],
   "source": [
    "mach_1 = fetch_single_source(sources[0]).set_index('machine_id').sort_index()\n",
    "mach_2 = fetch_single_source(sources[1]).set_index('machine_id').sort_index()"
   ],
   "metadata": {
    "collapsed": false,
    "ExecuteTime": {
     "end_time": "2023-10-14T06:37:28.983860700Z",
     "start_time": "2023-10-14T06:37:20.046999800Z"
    }
   }
  },
  {
   "cell_type": "code",
   "execution_count": 39,
   "outputs": [
    {
     "name": "stdout",
     "output_type": "stream",
     "text": [
      "machine_id\n",
      "283       210\n",
      "1583      222\n",
      "2217     2396\n",
      "2501      387\n",
      "3467      368\n",
      "         ... \n",
      "14046    2916\n",
      "14049    1208\n",
      "14056    3620\n",
      "14065    5795\n",
      "14072    8007\n",
      "Name: disk_bw, Length: 267, dtype: int32\n",
      "machine_id\n",
      "283        47\n",
      "1583      159\n",
      "2217     2573\n",
      "2501      388\n",
      "3467      367\n",
      "         ... \n",
      "14046    3361\n",
      "14049    1293\n",
      "14056    4500\n",
      "14065    6284\n",
      "14072    4418\n",
      "Name: disk_bw, Length: 267, dtype: int32\n",
      "================================================================================\n",
      "machine_id\n",
      "8633      630\n",
      "9146     3030\n",
      "10468      70\n",
      "11208    3860\n",
      "Name: disk_space, dtype: int32\n",
      "machine_id\n",
      "8633      660\n",
      "9146     3020\n",
      "10468      50\n",
      "11208    3850\n",
      "Name: disk_space, dtype: int32\n",
      "================================================================================\n",
      "machine_id\n",
      "301       62\n",
      "700      111\n",
      "838      228\n",
      "1488     113\n",
      "1520     402\n",
      "        ... \n",
      "14046     23\n",
      "14048     50\n",
      "14050    154\n",
      "14054    147\n",
      "14065     69\n",
      "Name: dlperf, Length: 734, dtype: int32\n",
      "machine_id\n",
      "301       58\n",
      "700       89\n",
      "838      225\n",
      "1488     111\n",
      "1520     341\n",
      "        ... \n",
      "14046     24\n",
      "14048     48\n",
      "14050    172\n",
      "14054    136\n",
      "14065     73\n",
      "Name: dlperf, Length: 734, dtype: int32\n",
      "================================================================================\n",
      "machine_id\n",
      "301       340\n",
      "1326      510\n",
      "1904      763\n",
      "4202      767\n",
      "4555      767\n",
      "         ... \n",
      "14054    3356\n",
      "14057    3507\n",
      "14062     510\n",
      "14065    3233\n",
      "14072    3516\n",
      "Name: gpu_mem_bw, Length: 259, dtype: int32\n",
      "machine_id\n",
      "301       338\n",
      "1326      504\n",
      "1904      767\n",
      "4202      766\n",
      "4555      766\n",
      "         ... \n",
      "14054    3374\n",
      "14057    3534\n",
      "14062     511\n",
      "14065    3257\n",
      "14072    3550\n",
      "Name: gpu_mem_bw, Length: 259, dtype: int32\n",
      "================================================================================\n",
      "machine_id\n",
      "8958     591\n",
      "9148     793\n",
      "9414     564\n",
      "9589     549\n",
      "10626    575\n",
      "12163    575\n",
      "12164    388\n",
      "Name: inet_down, dtype: int32\n",
      "machine_id\n",
      "8958     582\n",
      "9148     801\n",
      "9414     566\n",
      "9589     539\n",
      "10626    452\n",
      "12163    570\n",
      "12164    899\n",
      "Name: inet_down, dtype: int32\n",
      "================================================================================\n",
      "machine_id\n",
      "8958     634\n",
      "9148     613\n",
      "9414     377\n",
      "9589     623\n",
      "10626    628\n",
      "11201     94\n",
      "12163    384\n",
      "12164    767\n",
      "Name: inet_up, dtype: int32\n",
      "machine_id\n",
      "8958     610\n",
      "9148     608\n",
      "9414     369\n",
      "9589     608\n",
      "10626    487\n",
      "11201     93\n",
      "12163    388\n",
      "12164    772\n",
      "Name: inet_up, dtype: int32\n",
      "================================================================================\n",
      "machine_id\n",
      "10468    0\n",
      "Name: num_gpus_rented, dtype: int32\n",
      "machine_id\n",
      "10468    8\n",
      "Name: num_gpus_rented, dtype: int32\n",
      "================================================================================\n",
      "machine_id\n",
      "2036     120\n",
      "3042     241\n",
      "4202     178\n",
      "4795     117\n",
      "4869      69\n",
      "        ... \n",
      "14045     83\n",
      "14050     70\n",
      "14053    235\n",
      "14065    243\n",
      "14072    251\n",
      "Name: pcie_bw, Length: 115, dtype: int32\n",
      "machine_id\n",
      "2036     122\n",
      "3042     240\n",
      "4202     235\n",
      "4795     118\n",
      "4869     110\n",
      "        ... \n",
      "14045     85\n",
      "14050    117\n",
      "14053    245\n",
      "14065    246\n",
      "14072    254\n",
      "Name: pcie_bw, Length: 115, dtype: int32\n",
      "================================================================================\n",
      "machine_id\n",
      "9956     171.248.247.140\n",
      "11086    171.248.248.172\n",
      "Name: public_ipaddr, dtype: object\n",
      "machine_id\n",
      "9956     171.248.248.172\n",
      "11086    171.248.247.140\n",
      "Name: public_ipaddr, dtype: object\n",
      "================================================================================\n",
      "machine_id\n",
      "1488     9373\n",
      "1520     9920\n",
      "3358     9948\n",
      "3467     9896\n",
      "3752     9179\n",
      "         ... \n",
      "14058    7588\n",
      "14060    7058\n",
      "14063    6918\n",
      "14064    6913\n",
      "14065    6033\n",
      "Name: reliability, Length: 73, dtype: int32\n",
      "machine_id\n",
      "1488     9380\n",
      "1520     9921\n",
      "3358     9949\n",
      "3467     9898\n",
      "3752     9188\n",
      "         ... \n",
      "14058    7592\n",
      "14060    7065\n",
      "14063    6926\n",
      "14064    6921\n",
      "14065    6047\n",
      "Name: reliability, Length: 73, dtype: int32\n",
      "================================================================================\n",
      "machine_id\n",
      "162      49\n",
      "274      52\n",
      "275      51\n",
      "283      50\n",
      "301      60\n",
      "         ..\n",
      "14056    27\n",
      "14057    53\n",
      "14058    42\n",
      "14059    52\n",
      "14060    54\n",
      "Name: score, Length: 1455, dtype: int32\n",
      "machine_id\n",
      "162      48\n",
      "274      54\n",
      "275      49\n",
      "283      53\n",
      "301      62\n",
      "         ..\n",
      "14056    28\n",
      "14057    56\n",
      "14058    40\n",
      "14059    54\n",
      "14060    55\n",
      "Name: score, Length: 1455, dtype: int32\n",
      "================================================================================\n",
      "machine_id\n",
      "63       1697265380\n",
      "162      1697265380\n",
      "274      1697265380\n",
      "275      1697265380\n",
      "283      1697265380\n",
      "            ...    \n",
      "14067    1697265380\n",
      "14069    1697265380\n",
      "14070    1697265380\n",
      "14071    1697265380\n",
      "14072    1697265380\n",
      "Name: timestamp, Length: 1830, dtype: int32\n",
      "machine_id\n",
      "63       1697265449\n",
      "162      1697265449\n",
      "274      1697265449\n",
      "275      1697265449\n",
      "283      1697265449\n",
      "            ...    \n",
      "14067    1697265449\n",
      "14069    1697265449\n",
      "14070    1697265449\n",
      "14071    1697265449\n",
      "14072    1697265449\n",
      "Name: timestamp, Length: 1830, dtype: int32\n",
      "================================================================================\n"
     ]
    }
   ],
   "source": [
    "for col in mach_1:\n",
    "    mask = mach_1[col] != mach_2[col] \n",
    "    if mask.any():\n",
    "        print(mach_1[mask][col])\n",
    "        print(mach_2[mask][col])\n",
    "        print('=' * 80)"
   ],
   "metadata": {
    "collapsed": false,
    "ExecuteTime": {
     "end_time": "2023-10-14T06:37:29.105898Z",
     "start_time": "2023-10-14T06:37:28.986877600Z"
    }
   }
  }
 ],
 "metadata": {
  "kernelspec": {
   "display_name": "Python 3",
   "language": "python",
   "name": "python3"
  },
  "language_info": {
   "codemirror_mode": {
    "name": "ipython",
    "version": 2
   },
   "file_extension": ".py",
   "mimetype": "text/x-python",
   "name": "python",
   "nbconvert_exporter": "python",
   "pygments_lexer": "ipython2",
   "version": "2.7.6"
  }
 },
 "nbformat": 4,
 "nbformat_minor": 0
}
