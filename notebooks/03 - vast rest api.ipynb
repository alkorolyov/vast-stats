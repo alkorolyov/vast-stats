{
 "cells": [
  {
   "cell_type": "code",
   "execution_count": 1,
   "outputs": [],
   "source": [
    "import os\n",
    "%load_ext autoreload\n",
    "%autoreload 2"
   ],
   "metadata": {
    "collapsed": false,
    "ExecuteTime": {
     "end_time": "2023-09-10T11:06:23.741658800Z",
     "start_time": "2023-09-10T11:06:23.503796500Z"
    }
   }
  },
  {
   "cell_type": "code",
   "execution_count": 15,
   "metadata": {
    "collapsed": true,
    "ExecuteTime": {
     "end_time": "2023-09-10T11:14:10.966827900Z",
     "start_time": "2023-09-10T11:14:10.734775600Z"
    }
   },
   "outputs": [],
   "source": [
    "import pandas as pd\n",
    "import requests\n",
    "import argparse\n",
    "import typing\n",
    "import json\n",
    "from urllib.parse import quote_plus\n",
    "from src.utils import df_na_vals, np_min_chunk\n",
    "import os\n",
    "os.chdir('..')\n",
    "\n",
    "server_url_default = \"https://console.vast.ai\"\n",
    "\n",
    "def apiurl(subpath: str, query_args: typing.Dict = None) -> str:\n",
    "    \"\"\"Creates the endpoint URL for a given combination of parameters.\n",
    "\n",
    "    :param str subpath: added to end of URL to further specify endpoint.\n",
    "    :param typing.Dict query_args: specifics such as API key and search parameters that complete the URL.\n",
    "    :rtype str:\n",
    "    \"\"\"\n",
    "    if query_args is None:\n",
    "        query_args = {}\n",
    "    if query_args:\n",
    "        # a_list      = [<expression> for <l-expression> in <expression>]\n",
    "        '''\n",
    "        vector result;\n",
    "        for (l_expression: expression) {\n",
    "            result.push_back(expression);\n",
    "        }\n",
    "        '''\n",
    "        # an_iterator = (<expression> for <l-expression> in <expression>)\n",
    "        return server_url_default + \"/api/v0\" + subpath + \"?\" + \"&\".join(\n",
    "            \"{x}={y}\".format(x=x, y=quote_plus(y if isinstance(y, str) else json.dumps(y))) for x, y in\n",
    "            query_args.items())\n",
    "    else:\n",
    "        return server_url_default + \"/api/v0\" + subpath"
   ]
  },
  {
   "cell_type": "code",
   "execution_count": 16,
   "outputs": [
    {
     "name": "stdout",
     "output_type": "stream",
     "text": [
      "https://console.vast.ai/api/v0/bundles?q=%7B%22external%22%3A+%7B%22eq%22%3A+false%7D%2C+%22machine_id%22%3A+%7B%22eq%22%3A+%226312%22%7D%2C+%22order%22%3A+%5B%5B%22score%22%2C+%22desc%22%5D%5D%2C+%22type%22%3A+%22on-demand%22%7D&api_key=6bbc6e308dcf1fb7f0ead78eae9dbfc23767871bf2b8b7e1f3c9b54a99bc1579\n",
      "{'external': {'eq': False}, 'machine_id': {'eq': '6312'}, 'order': [['score', 'desc']], 'type': 'on-demand'}\n",
      "[\n",
      " {\n",
      "  \"bundle_id\": 315372697,\n",
      "  \"bundled_results\": 2,\n",
      "  \"bw_nvlink\": 56.24800109863281,\n",
      "  \"client_run_time\": 1.1,\n",
      "  \"compute_cap\": 860,\n",
      "  \"cpu_cores\": 128,\n",
      "  \"cpu_cores_effective\": 128.0,\n",
      "  \"cpu_name\": null,\n",
      "  \"cpu_ram\": 257585,\n",
      "  \"credit_balance\": null,\n",
      "  \"credit_discount\": null,\n",
      "  \"credit_discount_max\": 0.4,\n",
      "  \"cuda_max_good\": 11.8,\n",
      "  \"direct_port_count\": 2000,\n",
      "  \"discount_rate\": 0.0,\n",
      "  \"discounted_dph_total\": 1.6,\n",
      "  \"discounted_hourly\": 0.0,\n",
      "  \"disk_bw\": 1023.3302476833436,\n",
      "  \"disk_name\": \"AMI Virtual\",\n",
      "  \"disk_space\": 1123.3,\n",
      "  \"dlperf\": 123.148207,\n",
      "  \"dlperf_per_dphtotal\": 76.967629375,\n",
      "  \"dph_base\": 1.6,\n",
      "  \"dph_total\": 1.6,\n",
      "  \"driver_version\": \"520.61.05\",\n",
      "  \"duration\": null,\n",
      "  \"end_date\": null,\n",
      "  \"external\": false,\n",
      "  \"flops_per_dphtotal\": 74.83392,\n",
      "  \"geolocation\": \"New Jersey, US\",\n",
      "  \"gpu_display_active\": false,\n",
      "  \"gpu_frac\": 1.0,\n",
      "  \"gpu_lanes\": 16,\n",
      "  \"gpu_mem_bw\": 522.4,\n",
      "  \"gpu_name\": \"A40\",\n",
      "  \"gpu_ram\": 46068,\n",
      "  \"gpu_totalram\": 184272,\n",
      "  \"has_avx\": 1,\n",
      "  \"host_id\": 32241,\n",
      "  \"host_run_time\": 2592000.0,\n",
      "  \"hosting_type\": null,\n",
      "  \"id\": 5381482,\n",
      "  \"inet_down\": 725.2,\n",
      "  \"inet_down_billed\": null,\n",
      "  \"inet_down_cost\": 9.766578674316406e-05,\n",
      "  \"inet_up\": 459.1,\n",
      "  \"inet_up_billed\": null,\n",
      "  \"inet_up_cost\": 9.766578674316406e-05,\n",
      "  \"is_bid\": false,\n",
      "  \"logo\": \"/static/logos/vastai_small2.png\",\n",
      "  \"machine_id\": 6312,\n",
      "  \"min_bid\": 1.6,\n",
      "  \"mobo_name\": \"KRPG\",\n",
      "  \"num_gpus\": 4,\n",
      "  \"pci_gen\": 4.0,\n",
      "  \"pcie_bw\": 15.5,\n",
      "  \"pending_count\": 0,\n",
      "  \"public_ipaddr\": \"50.217.254.167\",\n",
      "  \"reliability2\": 0.9988219,\n",
      "  \"rentable\": false,\n",
      "  \"rented\": false,\n",
      "  \"score\": 65.28900411671324,\n",
      "  \"start_date\": null,\n",
      "  \"static_ip\": false,\n",
      "  \"storage_cost\": 0.15000000000000002,\n",
      "  \"storage_total_cost\": 0.0,\n",
      "  \"total_flops\": 119.73427200000002,\n",
      "  \"verification\": \"verified\",\n",
      "  \"vram_costperhour\": 8.682816705739342e-06,\n",
      "  \"webpage\": null\n",
      " },\n",
      " {\n",
      "  \"bundle_id\": 315372698,\n",
      "  \"bundled_results\": 4,\n",
      "  \"bw_nvlink\": 56.24800109863281,\n",
      "  \"client_run_time\": 1.1,\n",
      "  \"compute_cap\": 860,\n",
      "  \"cpu_cores\": 128,\n",
      "  \"cpu_cores_effective\": 64.0,\n",
      "  \"cpu_name\": null,\n",
      "  \"cpu_ram\": 257585,\n",
      "  \"credit_balance\": null,\n",
      "  \"credit_discount\": null,\n",
      "  \"credit_discount_max\": 0.4,\n",
      "  \"cuda_max_good\": 11.8,\n",
      "  \"direct_port_count\": 1000,\n",
      "  \"discount_rate\": 0.0,\n",
      "  \"discounted_dph_total\": 0.8,\n",
      "  \"discounted_hourly\": 0.0,\n",
      "  \"disk_bw\": 1023.3302476833436,\n",
      "  \"disk_name\": \"AMI Virtual\",\n",
      "  \"disk_space\": 561.65,\n",
      "  \"dlperf\": 61.556897,\n",
      "  \"dlperf_per_dphtotal\": 76.94612124999999,\n",
      "  \"dph_base\": 0.8,\n",
      "  \"dph_total\": 0.8,\n",
      "  \"driver_version\": \"520.61.05\",\n",
      "  \"duration\": null,\n",
      "  \"end_date\": null,\n",
      "  \"external\": false,\n",
      "  \"flops_per_dphtotal\": 74.83392,\n",
      "  \"geolocation\": \"New Jersey, US\",\n",
      "  \"gpu_display_active\": false,\n",
      "  \"gpu_frac\": 0.5,\n",
      "  \"gpu_lanes\": 16,\n",
      "  \"gpu_mem_bw\": 525.6,\n",
      "  \"gpu_name\": \"A40\",\n",
      "  \"gpu_ram\": 46068,\n",
      "  \"gpu_totalram\": 92136,\n",
      "  \"has_avx\": 1,\n",
      "  \"host_id\": 32241,\n",
      "  \"host_run_time\": 2592000.0,\n",
      "  \"hosting_type\": null,\n",
      "  \"id\": 5381483,\n",
      "  \"inet_down\": 725.2,\n",
      "  \"inet_down_billed\": null,\n",
      "  \"inet_down_cost\": 9.766578674316406e-05,\n",
      "  \"inet_up\": 459.1,\n",
      "  \"inet_up_billed\": null,\n",
      "  \"inet_up_cost\": 9.766578674316406e-05,\n",
      "  \"is_bid\": false,\n",
      "  \"logo\": \"/static/logos/vastai_small2.png\",\n",
      "  \"machine_id\": 6312,\n",
      "  \"min_bid\": 0.8,\n",
      "  \"mobo_name\": \"KRPG\",\n",
      "  \"num_gpus\": 2,\n",
      "  \"pci_gen\": 4.0,\n",
      "  \"pcie_bw\": 24.2,\n",
      "  \"pending_count\": 0,\n",
      "  \"public_ipaddr\": \"50.217.254.167\",\n",
      "  \"reliability2\": 0.9988219,\n",
      "  \"rentable\": false,\n",
      "  \"rented\": false,\n",
      "  \"score\": 65.53402631737366,\n",
      "  \"start_date\": null,\n",
      "  \"static_ip\": false,\n",
      "  \"storage_cost\": 0.15000000000000002,\n",
      "  \"storage_total_cost\": 0.0,\n",
      "  \"total_flops\": 59.86713600000001,\n",
      "  \"verification\": \"verified\",\n",
      "  \"vram_costperhour\": 8.682816705739342e-06,\n",
      "  \"webpage\": null\n",
      " },\n",
      " {\n",
      "  \"bundle_id\": 318342707,\n",
      "  \"bundled_results\": 8,\n",
      "  \"bw_nvlink\": 56.24800109863281,\n",
      "  \"client_run_time\": 1.1,\n",
      "  \"compute_cap\": 860,\n",
      "  \"cpu_cores\": 128,\n",
      "  \"cpu_cores_effective\": 32.0,\n",
      "  \"cpu_name\": null,\n",
      "  \"cpu_ram\": 257585,\n",
      "  \"credit_balance\": null,\n",
      "  \"credit_discount\": null,\n",
      "  \"credit_discount_max\": 0.4,\n",
      "  \"cuda_max_good\": 11.8,\n",
      "  \"direct_port_count\": 500,\n",
      "  \"discount_rate\": 0.0,\n",
      "  \"discounted_dph_total\": 0.4,\n",
      "  \"discounted_hourly\": 0.0,\n",
      "  \"disk_bw\": 1023.3302476833436,\n",
      "  \"disk_name\": \"AMI Virtual\",\n",
      "  \"disk_space\": 280.825,\n",
      "  \"dlperf\": 30.773247,\n",
      "  \"dlperf_per_dphtotal\": 76.9331175,\n",
      "  \"dph_base\": 0.4,\n",
      "  \"dph_total\": 0.4,\n",
      "  \"driver_version\": \"520.61.05\",\n",
      "  \"duration\": null,\n",
      "  \"end_date\": null,\n",
      "  \"external\": false,\n",
      "  \"flops_per_dphtotal\": 74.83392,\n",
      "  \"geolocation\": \"New Jersey, US\",\n",
      "  \"gpu_display_active\": false,\n",
      "  \"gpu_frac\": 0.25,\n",
      "  \"gpu_lanes\": 16,\n",
      "  \"gpu_mem_bw\": 522.6,\n",
      "  \"gpu_name\": \"A40\",\n",
      "  \"gpu_ram\": 46068,\n",
      "  \"gpu_totalram\": 46068,\n",
      "  \"has_avx\": 1,\n",
      "  \"host_id\": 32241,\n",
      "  \"host_run_time\": 2592000.0,\n",
      "  \"hosting_type\": null,\n",
      "  \"id\": 5516888,\n",
      "  \"inet_down\": 725.2,\n",
      "  \"inet_down_billed\": null,\n",
      "  \"inet_down_cost\": 9.766578674316406e-05,\n",
      "  \"inet_up\": 459.1,\n",
      "  \"inet_up_billed\": null,\n",
      "  \"inet_up_cost\": 9.766578674316406e-05,\n",
      "  \"is_bid\": false,\n",
      "  \"logo\": \"/static/logos/vastai_small2.png\",\n",
      "  \"machine_id\": 6312,\n",
      "  \"min_bid\": 0.4,\n",
      "  \"mobo_name\": \"KRPG\",\n",
      "  \"num_gpus\": 1,\n",
      "  \"pci_gen\": 4.0,\n",
      "  \"pcie_bw\": 24.2,\n",
      "  \"pending_count\": 0,\n",
      "  \"public_ipaddr\": \"50.217.254.167\",\n",
      "  \"reliability2\": 0.9988219,\n",
      "  \"rentable\": false,\n",
      "  \"rented\": false,\n",
      "  \"score\": 63.06217452761004,\n",
      "  \"start_date\": null,\n",
      "  \"static_ip\": false,\n",
      "  \"storage_cost\": 0.15000000000000002,\n",
      "  \"storage_total_cost\": 0.0,\n",
      "  \"total_flops\": 29.933568000000005,\n",
      "  \"verification\": \"verified\",\n",
      "  \"vram_costperhour\": 8.682816705739342e-06,\n",
      "  \"webpage\": null\n",
      " }\n",
      "]\n"
     ]
    }
   ],
   "source": [
    "# !python vast search offers \"rentable = any verified = any\" --raw\n",
    "# !python ../vast search offers \"machine_id = 9901 rentable = any verified = any\" --raw -i\n",
    "!python vast search offers \"machine_id = 6312 rentable = any verified = any\" --raw"
   ],
   "metadata": {
    "collapsed": false,
    "ExecuteTime": {
     "end_time": "2023-09-10T11:14:15.886044600Z",
     "start_time": "2023-09-10T11:14:13.672626800Z"
    }
   }
  },
  {
   "cell_type": "code",
   "execution_count": 101,
   "outputs": [
    {
     "name": "stdout",
     "output_type": "stream",
     "text": [
      "https://console.vast.ai/api/v0/bundles?q=%7B%22external%22%3A+%7B%22eq%22%3A+false%7D%2C+%22machine_id%22%3A+%7B%22eq%22%3A+%225919%22%7D%2C+%22order%22%3A+%5B%5B%22score%22%2C+%22desc%22%5D%5D%2C+%22type%22%3A+%22on-demand%22%7D&api_key=6bbc6e308dcf1fb7f0ead78eae9dbfc23767871bf2b8b7e1f3c9b54a99bc1579\n",
      "{'external': {'eq': False}, 'machine_id': {'eq': '5919'}, 'order': [['score', 'desc']], 'type': 'on-demand'}\n",
      "ID       CUDA   N  Model  PCIE  vCPUs    RAM  Disk  $/hr    DLP    DLP/$  NV Driver  Net_up  Net_down  R     Max_Days  mach_id  status    ports  country       \n",
      "5402875  11.8  4x  A40    24.2  128.0  257.6  672   1.9600  122.5  62.48  520.61.05  503.5   667.0     99.9  -         5919     verified  2000   New_Jersey,_US\n",
      "5516880  11.8  2x  A40    24.3  64.0   257.6  336   0.9800  61.2   62.45  520.61.05  503.5   667.0     99.9  -         5919     verified  1000   New_Jersey,_US\n",
      "5516875  11.8  1x  A40    24.2  32.0   257.6  168   0.4900  30.6   62.44  520.61.05  503.5   667.0     99.9  -         5919     verified  500    New_Jersey,_US\n"
     ]
    }
   ],
   "source": [
    "!python vast search offers \"machine_id = 5919 rentable = any verified = any\" -d\n",
    "# !python vast search offers \"machine_id = 3919\" -d"
   ],
   "metadata": {
    "collapsed": false,
    "ExecuteTime": {
     "end_time": "2023-07-30T05:50:16.090256100Z",
     "start_time": "2023-07-30T05:50:14.320311700Z"
    }
   }
  },
  {
   "cell_type": "code",
   "execution_count": 97,
   "outputs": [
    {
     "name": "stdout",
     "output_type": "stream",
     "text": [
      "https://console.vast.ai/api/v0/bundles?q=%7B%22external%22%3A+%7B%22eq%22%3A+false%7D%2C+%22machine_id%22%3A+%7B%22eq%22%3A+%225919%22%7D%2C+%22order%22%3A+%5B%5B%22score%22%2C+%22desc%22%5D%5D%2C+%22type%22%3A+%22on-demand%22%7D&api_key=6bbc6e308dcf1fb7f0ead78eae9dbfc23767871bf2b8b7e1f3c9b54a99bc1579\n",
      "{'external': {'eq': False}, 'machine_id': {'eq': '5919'}, 'order': [['score', 'desc']], 'type': 'on-demand'}\n",
      "[\n",
      " {\n",
      "  \"bundle_id\": 313989942,\n",
      "  \"bundled_results\": 8,\n",
      "  \"bw_nvlink\": 56.24800109863281,\n",
      "  \"compute_cap\": 860,\n",
      "  \"cpu_cores\": 128,\n",
      "  \"cpu_cores_effective\": 32.0,\n",
      "  \"cpu_name\": null,\n",
      "  \"cpu_ram\": 257585,\n",
      "  \"credit_balance\": null,\n",
      "  \"credit_discount\": null,\n",
      "  \"credit_discount_max\": null,\n",
      "  \"cuda_max_good\": 11.8,\n",
      "  \"direct_port_count\": 500,\n",
      "  \"discount_rate\": null,\n",
      "  \"discounted_dph_total\": 0.49,\n",
      "  \"discounted_hourly\": 0,\n",
      "  \"disk_bw\": 1496.2075513316365,\n",
      "  \"disk_name\": \"AMI Virtual\",\n",
      "  \"disk_space\": 168.075,\n",
      "  \"dlperf\": 30.597611,\n",
      "  \"dlperf_per_dphtotal\": 62.44410408163265,\n",
      "  \"dph_base\": 0.49,\n",
      "  \"dph_total\": 0.49,\n",
      "  \"driver_version\": \"520.61.05\",\n",
      "  \"duration\": null,\n",
      "  \"end_date\": null,\n",
      "  \"external\": false,\n",
      "  \"flops_per_dphtotal\": 76.36114285714287,\n",
      "  \"geolocation\": \"New Jersey, US\",\n",
      "  \"gpu_display_active\": false,\n",
      "  \"gpu_frac\": 0.25,\n",
      "  \"gpu_lanes\": 16,\n",
      "  \"gpu_mem_bw\": 497.0,\n",
      "  \"gpu_name\": \"A40\",\n",
      "  \"gpu_ram\": 46068,\n",
      "  \"has_avx\": 1,\n",
      "  \"host_id\": 32241,\n",
      "  \"host_run_time\": 2592000.0,\n",
      "  \"hosting_type\": null,\n",
      "  \"id\": 5516874,\n",
      "  \"inet_down\": 667.0,\n",
      "  \"inet_down_billed\": null,\n",
      "  \"inet_down_cost\": 0.01,\n",
      "  \"inet_up\": 503.5,\n",
      "  \"inet_up_billed\": null,\n",
      "  \"inet_up_cost\": 0.01,\n",
      "  \"is_bid\": false,\n",
      "  \"logo\": \"/static/logos/vastai_small2.png\",\n",
      "  \"machine_id\": 5919,\n",
      "  \"min_bid\": 0.49,\n",
      "  \"mobo_name\": \"KRPG\",\n",
      "  \"num_gpus\": 1,\n",
      "  \"pci_gen\": 4.0,\n",
      "  \"pcie_bw\": 24.3,\n",
      "  \"pending_count\": 0,\n",
      "  \"public_ipaddr\": \"50.217.254.168\",\n",
      "  \"reliability2\": 0.999179,\n",
      "  \"rentable\": false,\n",
      "  \"rented\": false,\n",
      "  \"score\": 53.82106904866189,\n",
      "  \"start_date\": null,\n",
      "  \"static_ip\": true,\n",
      "  \"storage_cost\": 0.15000000000000002,\n",
      "  \"storage_total_cost\": 0.0,\n",
      "  \"total_flops\": 37.41696,\n",
      "  \"verification\": \"verified\",\n",
      "  \"webpage\": null\n",
      " },\n",
      " {\n",
      "  \"bundle_id\": 313989943,\n",
      "  \"bundled_results\": 2,\n",
      "  \"bw_nvlink\": 56.24800109863281,\n",
      "  \"compute_cap\": 860,\n",
      "  \"cpu_cores\": 128,\n",
      "  \"cpu_cores_effective\": 128.0,\n",
      "  \"cpu_name\": null,\n",
      "  \"cpu_ram\": 257585,\n",
      "  \"credit_balance\": null,\n",
      "  \"credit_discount\": null,\n",
      "  \"credit_discount_max\": null,\n",
      "  \"cuda_max_good\": 11.8,\n",
      "  \"direct_port_count\": 2000,\n",
      "  \"discount_rate\": null,\n",
      "  \"discounted_dph_total\": 1.96,\n",
      "  \"discounted_hourly\": 0,\n",
      "  \"disk_bw\": 1496.2075513316365,\n",
      "  \"disk_name\": \"AMI Virtual\",\n",
      "  \"disk_space\": 672.3,\n",
      "  \"dlperf\": 122.456267,\n",
      "  \"dlperf_per_dphtotal\": 62.47768724489796,\n",
      "  \"dph_base\": 1.96,\n",
      "  \"dph_total\": 1.96,\n",
      "  \"driver_version\": \"520.61.05\",\n",
      "  \"duration\": null,\n",
      "  \"end_date\": null,\n",
      "  \"external\": false,\n",
      "  \"flops_per_dphtotal\": 76.36114285714287,\n",
      "  \"geolocation\": \"New Jersey, US\",\n",
      "  \"gpu_display_active\": false,\n",
      "  \"gpu_frac\": 1.0,\n",
      "  \"gpu_lanes\": 16,\n",
      "  \"gpu_mem_bw\": 521.4,\n",
      "  \"gpu_name\": \"A40\",\n",
      "  \"gpu_ram\": 46068,\n",
      "  \"has_avx\": 1,\n",
      "  \"host_id\": 32241,\n",
      "  \"host_run_time\": 2592000.0,\n",
      "  \"hosting_type\": null,\n",
      "  \"id\": 5402875,\n",
      "  \"inet_down\": 667.0,\n",
      "  \"inet_down_billed\": null,\n",
      "  \"inet_down_cost\": 0.01,\n",
      "  \"inet_up\": 503.5,\n",
      "  \"inet_up_billed\": null,\n",
      "  \"inet_up_cost\": 0.01,\n",
      "  \"is_bid\": false,\n",
      "  \"logo\": \"/static/logos/vastai_small2.png\",\n",
      "  \"machine_id\": 5919,\n",
      "  \"min_bid\": 1.96,\n",
      "  \"mobo_name\": \"KRPG\",\n",
      "  \"num_gpus\": 4,\n",
      "  \"pci_gen\": 4.0,\n",
      "  \"pcie_bw\": 24.2,\n",
      "  \"pending_count\": 0,\n",
      "  \"public_ipaddr\": \"50.217.254.168\",\n",
      "  \"reliability2\": 0.999179,\n",
      "  \"rentable\": false,\n",
      "  \"rented\": false,\n",
      "  \"score\": 52.093729138695444,\n",
      "  \"start_date\": null,\n",
      "  \"static_ip\": true,\n",
      "  \"storage_cost\": 0.15000000000000002,\n",
      "  \"storage_total_cost\": 0.0,\n",
      "  \"total_flops\": 149.66784,\n",
      "  \"verification\": \"verified\",\n",
      "  \"webpage\": null\n",
      " },\n",
      " {\n",
      "  \"bundle_id\": 313989944,\n",
      "  \"bundled_results\": 4,\n",
      "  \"bw_nvlink\": 56.24800109863281,\n",
      "  \"compute_cap\": 860,\n",
      "  \"cpu_cores\": 128,\n",
      "  \"cpu_cores_effective\": 64.0,\n",
      "  \"cpu_name\": null,\n",
      "  \"cpu_ram\": 257585,\n",
      "  \"credit_balance\": null,\n",
      "  \"credit_discount\": null,\n",
      "  \"credit_discount_max\": null,\n",
      "  \"cuda_max_good\": 11.8,\n",
      "  \"direct_port_count\": 1000,\n",
      "  \"discount_rate\": null,\n",
      "  \"discounted_dph_total\": 0.98,\n",
      "  \"discounted_hourly\": 0,\n",
      "  \"disk_bw\": 1496.2075513316365,\n",
      "  \"disk_name\": \"AMI Virtual\",\n",
      "  \"disk_space\": 336.15,\n",
      "  \"dlperf\": 61.201489,\n",
      "  \"dlperf_per_dphtotal\": 62.45049897959184,\n",
      "  \"dph_base\": 0.98,\n",
      "  \"dph_total\": 0.98,\n",
      "  \"driver_version\": \"520.61.05\",\n",
      "  \"duration\": null,\n",
      "  \"end_date\": null,\n",
      "  \"external\": false,\n",
      "  \"flops_per_dphtotal\": 76.36114285714287,\n",
      "  \"geolocation\": \"New Jersey, US\",\n",
      "  \"gpu_display_active\": false,\n",
      "  \"gpu_frac\": 0.5,\n",
      "  \"gpu_lanes\": 16,\n",
      "  \"gpu_mem_bw\": 524.5,\n",
      "  \"gpu_name\": \"A40\",\n",
      "  \"gpu_ram\": 46068,\n",
      "  \"has_avx\": 1,\n",
      "  \"host_id\": 32241,\n",
      "  \"host_run_time\": 2592000.0,\n",
      "  \"hosting_type\": null,\n",
      "  \"id\": 5516878,\n",
      "  \"inet_down\": 667.0,\n",
      "  \"inet_down_billed\": null,\n",
      "  \"inet_down_cost\": 0.01,\n",
      "  \"inet_up\": 503.5,\n",
      "  \"inet_up_billed\": null,\n",
      "  \"inet_up_cost\": 0.01,\n",
      "  \"is_bid\": false,\n",
      "  \"logo\": \"/static/logos/vastai_small2.png\",\n",
      "  \"machine_id\": 5919,\n",
      "  \"min_bid\": 0.98,\n",
      "  \"mobo_name\": \"KRPG\",\n",
      "  \"num_gpus\": 2,\n",
      "  \"pci_gen\": 4.0,\n",
      "  \"pcie_bw\": 23.4,\n",
      "  \"pending_count\": 0,\n",
      "  \"public_ipaddr\": \"50.217.254.168\",\n",
      "  \"reliability2\": 0.999179,\n",
      "  \"rentable\": false,\n",
      "  \"rented\": false,\n",
      "  \"score\": 52.14956969899274,\n",
      "  \"start_date\": null,\n",
      "  \"static_ip\": true,\n",
      "  \"storage_cost\": 0.15000000000000002,\n",
      "  \"storage_total_cost\": 0.0,\n",
      "  \"total_flops\": 74.83392,\n",
      "  \"verification\": \"verified\",\n",
      "  \"webpage\": null\n",
      " }\n",
      "]\n"
     ]
    }
   ],
   "source": [
    "# !python vast search offers \"rentable = any verified = any\" --raw -d\n",
    "# !python vast search offers \"machine_id = 11833 rentable = any verified = any\" --raw -d\n",
    "!python vast search offers \"machine_id = 5919 rentable = any verified = any\" --raw -d"
   ],
   "metadata": {
    "collapsed": false,
    "ExecuteTime": {
     "end_time": "2023-07-30T05:48:32.366876Z",
     "start_time": "2023-07-30T05:48:30.652542600Z"
    }
   }
  },
  {
   "cell_type": "code",
   "execution_count": 23,
   "outputs": [
    {
     "data": {
      "text/plain": "'https://console.vast.ai/api/v0/bundles?q=%7B%22external%22%3A+%7B%22eq%22%3A+false%7D%2C+%22machine_id%22%3A+%7B%22eq%22%3A+%226312%22%7D%2C+%22disable_bundling%22%3A+%7B%22eq%22%3A+true%7D%2C+%22type%22%3A+%22on-demand%22%7D'"
     },
     "execution_count": 23,
     "metadata": {},
     "output_type": "execute_result"
    }
   ],
   "source": [
    "# query = {\"external\": {\"eq\": False},  \"disable_bundling\" : {\"eq\": True}, \"type\": \"bid\"}\n",
    "# query = {\"external\": {\"eq\": False},  \"disable_bundling\" : {\"eq\": True}, \"type\": \"on-demand\"}\n",
    "# query = {\"external\": {\"eq\": False}, \"type\": \"on-demand\"}\n",
    "\n",
    "# query = {'external': {'eq': False}, 'machine_id': {'eq': '3690'}, 'type': 'on-demand'}\n",
    "query = {'external': {'eq': False}, 'machine_id': {'eq': '6312'}, \"disable_bundling\" : {\"eq\": True}, 'type': 'on-demand'}\n",
    "\n",
    "url = apiurl(\"/bundles\", {\"q\": query})\n",
    "url"
   ],
   "metadata": {
    "collapsed": false,
    "ExecuteTime": {
     "end_time": "2023-09-10T11:18:22.376934400Z",
     "start_time": "2023-09-10T11:18:22.131879300Z"
    }
   }
  },
  {
   "cell_type": "code",
   "execution_count": 24,
   "outputs": [],
   "source": [
    "r = requests.get(url)\n",
    "r.raise_for_status()\n",
    "rows = r.json()[\"offers\"]"
   ],
   "metadata": {
    "collapsed": false,
    "ExecuteTime": {
     "end_time": "2023-09-10T11:18:28.849961100Z",
     "start_time": "2023-09-10T11:18:23.695253Z"
    }
   }
  },
  {
   "cell_type": "code",
   "execution_count": 25,
   "outputs": [
    {
     "data": {
      "text/plain": "    machine_id       id  num_gpus  rentable\n13        6312  5381479         1     False\n12        6312  5381480         1     False\n11        6312  5381481         1     False\n1         6312  5381482         4     False\n5         6312  5381483         2     False\n10        6312  5381484         1     False\n4         6312  5381485         2     False\n9         6312  5516883         1     False\n8         6312  5516884         1     False\n7         6312  5516885         1     False\n0         6312  5516886         4     False\n3         6312  5516887         2     False\n6         6312  5516888         1     False\n2         6312  5516889         2     False",
      "text/html": "<div>\n<style scoped>\n    .dataframe tbody tr th:only-of-type {\n        vertical-align: middle;\n    }\n\n    .dataframe tbody tr th {\n        vertical-align: top;\n    }\n\n    .dataframe thead th {\n        text-align: right;\n    }\n</style>\n<table border=\"1\" class=\"dataframe\">\n  <thead>\n    <tr style=\"text-align: right;\">\n      <th></th>\n      <th>machine_id</th>\n      <th>id</th>\n      <th>num_gpus</th>\n      <th>rentable</th>\n    </tr>\n  </thead>\n  <tbody>\n    <tr>\n      <th>13</th>\n      <td>6312</td>\n      <td>5381479</td>\n      <td>1</td>\n      <td>False</td>\n    </tr>\n    <tr>\n      <th>12</th>\n      <td>6312</td>\n      <td>5381480</td>\n      <td>1</td>\n      <td>False</td>\n    </tr>\n    <tr>\n      <th>11</th>\n      <td>6312</td>\n      <td>5381481</td>\n      <td>1</td>\n      <td>False</td>\n    </tr>\n    <tr>\n      <th>1</th>\n      <td>6312</td>\n      <td>5381482</td>\n      <td>4</td>\n      <td>False</td>\n    </tr>\n    <tr>\n      <th>5</th>\n      <td>6312</td>\n      <td>5381483</td>\n      <td>2</td>\n      <td>False</td>\n    </tr>\n    <tr>\n      <th>10</th>\n      <td>6312</td>\n      <td>5381484</td>\n      <td>1</td>\n      <td>False</td>\n    </tr>\n    <tr>\n      <th>4</th>\n      <td>6312</td>\n      <td>5381485</td>\n      <td>2</td>\n      <td>False</td>\n    </tr>\n    <tr>\n      <th>9</th>\n      <td>6312</td>\n      <td>5516883</td>\n      <td>1</td>\n      <td>False</td>\n    </tr>\n    <tr>\n      <th>8</th>\n      <td>6312</td>\n      <td>5516884</td>\n      <td>1</td>\n      <td>False</td>\n    </tr>\n    <tr>\n      <th>7</th>\n      <td>6312</td>\n      <td>5516885</td>\n      <td>1</td>\n      <td>False</td>\n    </tr>\n    <tr>\n      <th>0</th>\n      <td>6312</td>\n      <td>5516886</td>\n      <td>4</td>\n      <td>False</td>\n    </tr>\n    <tr>\n      <th>3</th>\n      <td>6312</td>\n      <td>5516887</td>\n      <td>2</td>\n      <td>False</td>\n    </tr>\n    <tr>\n      <th>6</th>\n      <td>6312</td>\n      <td>5516888</td>\n      <td>1</td>\n      <td>False</td>\n    </tr>\n    <tr>\n      <th>2</th>\n      <td>6312</td>\n      <td>5516889</td>\n      <td>2</td>\n      <td>False</td>\n    </tr>\n  </tbody>\n</table>\n</div>"
     },
     "execution_count": 25,
     "metadata": {},
     "output_type": "execute_result"
    }
   ],
   "source": [
    "df  = pd.DataFrame(rows)\n",
    "df[['machine_id', 'id', 'num_gpus', 'rentable']].sort_values('id')"
   ],
   "metadata": {
    "collapsed": false,
    "ExecuteTime": {
     "end_time": "2023-09-10T11:18:29.101017700Z",
     "start_time": "2023-09-10T11:18:28.852961200Z"
    }
   }
  },
  {
   "cell_type": "code",
   "execution_count": 26,
   "outputs": [
    {
     "data": {
      "text/plain": "    machine_id       id  num_gpus  rentable\n0         6312  5516886         4     False\n1         6312  5381482         4     False\n2         6312  5516889         2     False\n3         6312  5516887         2     False\n4         6312  5381485         2     False\n5         6312  5381483         2     False\n6         6312  5516888         1     False\n7         6312  5516885         1     False\n8         6312  5516884         1     False\n9         6312  5516883         1     False\n10        6312  5381484         1     False\n11        6312  5381481         1     False\n12        6312  5381480         1     False\n13        6312  5381479         1     False",
      "text/html": "<div>\n<style scoped>\n    .dataframe tbody tr th:only-of-type {\n        vertical-align: middle;\n    }\n\n    .dataframe tbody tr th {\n        vertical-align: top;\n    }\n\n    .dataframe thead th {\n        text-align: right;\n    }\n</style>\n<table border=\"1\" class=\"dataframe\">\n  <thead>\n    <tr style=\"text-align: right;\">\n      <th></th>\n      <th>machine_id</th>\n      <th>id</th>\n      <th>num_gpus</th>\n      <th>rentable</th>\n    </tr>\n  </thead>\n  <tbody>\n    <tr>\n      <th>0</th>\n      <td>6312</td>\n      <td>5516886</td>\n      <td>4</td>\n      <td>False</td>\n    </tr>\n    <tr>\n      <th>1</th>\n      <td>6312</td>\n      <td>5381482</td>\n      <td>4</td>\n      <td>False</td>\n    </tr>\n    <tr>\n      <th>2</th>\n      <td>6312</td>\n      <td>5516889</td>\n      <td>2</td>\n      <td>False</td>\n    </tr>\n    <tr>\n      <th>3</th>\n      <td>6312</td>\n      <td>5516887</td>\n      <td>2</td>\n      <td>False</td>\n    </tr>\n    <tr>\n      <th>4</th>\n      <td>6312</td>\n      <td>5381485</td>\n      <td>2</td>\n      <td>False</td>\n    </tr>\n    <tr>\n      <th>5</th>\n      <td>6312</td>\n      <td>5381483</td>\n      <td>2</td>\n      <td>False</td>\n    </tr>\n    <tr>\n      <th>6</th>\n      <td>6312</td>\n      <td>5516888</td>\n      <td>1</td>\n      <td>False</td>\n    </tr>\n    <tr>\n      <th>7</th>\n      <td>6312</td>\n      <td>5516885</td>\n      <td>1</td>\n      <td>False</td>\n    </tr>\n    <tr>\n      <th>8</th>\n      <td>6312</td>\n      <td>5516884</td>\n      <td>1</td>\n      <td>False</td>\n    </tr>\n    <tr>\n      <th>9</th>\n      <td>6312</td>\n      <td>5516883</td>\n      <td>1</td>\n      <td>False</td>\n    </tr>\n    <tr>\n      <th>10</th>\n      <td>6312</td>\n      <td>5381484</td>\n      <td>1</td>\n      <td>False</td>\n    </tr>\n    <tr>\n      <th>11</th>\n      <td>6312</td>\n      <td>5381481</td>\n      <td>1</td>\n      <td>False</td>\n    </tr>\n    <tr>\n      <th>12</th>\n      <td>6312</td>\n      <td>5381480</td>\n      <td>1</td>\n      <td>False</td>\n    </tr>\n    <tr>\n      <th>13</th>\n      <td>6312</td>\n      <td>5381479</td>\n      <td>1</td>\n      <td>False</td>\n    </tr>\n  </tbody>\n</table>\n</div>"
     },
     "execution_count": 26,
     "metadata": {},
     "output_type": "execute_result"
    }
   ],
   "source": [
    "df  = pd.DataFrame(rows)\n",
    "df[['machine_id', 'id', 'num_gpus', 'rentable']]\n",
    "# df.set_index(['machine_id', 'id']).sort_index()['num_gpus']"
   ],
   "metadata": {
    "collapsed": false,
    "ExecuteTime": {
     "end_time": "2023-09-10T11:18:35.204048400Z",
     "start_time": "2023-09-10T11:18:34.958002200Z"
    }
   }
  },
  {
   "cell_type": "code",
   "execution_count": 27,
   "outputs": [],
   "source": [
    "df = np_min_chunk(df)"
   ],
   "metadata": {
    "collapsed": false,
    "ExecuteTime": {
     "end_time": "2023-09-10T11:18:38.710011900Z",
     "start_time": "2023-09-10T11:18:38.479915900Z"
    }
   }
  },
  {
   "cell_type": "code",
   "execution_count": 28,
   "outputs": [
    {
     "name": "stdout",
     "output_type": "stream",
     "text": [
      "is_bid                    ->          Missing values: 0 (0.00%)\n",
      "inet_up_billed            ->          Missing values: 8 (100.00%)\n",
      "inet_down_billed          ->          Missing values: 8 (100.00%)\n",
      "external                  ->          Missing values: 0 (0.00%)\n",
      "webpage                   ->          Missing values: 8 (100.00%)\n",
      "logo                      ->          Missing values: 0 (0.00%)\n",
      "rentable                  ->          Missing values: 0 (0.00%)\n",
      "compute_cap               ->          Missing values: 0 (0.00%)\n",
      "credit_balance            ->          Missing values: 8 (100.00%)\n",
      "credit_discount           ->          Missing values: 8 (100.00%)\n",
      "credit_discount_max       ->          Missing values: 0 (0.00%)\n",
      "driver_version            ->          Missing values: 0 (0.00%)\n",
      "cuda_max_good             ->          Missing values: 0 (0.00%)\n",
      "machine_id                ->          Missing values: 0 (0.00%)\n",
      "hosting_type              ->          Missing values: 8 (100.00%)\n",
      "public_ipaddr             ->          Missing values: 0 (0.00%)\n",
      "geolocation               ->          Missing values: 0 (0.00%)\n",
      "flops_per_dphtotal        ->          Missing values: 0 (0.00%)\n",
      "dlperf_per_dphtotal       ->          Missing values: 0 (0.00%)\n",
      "reliability2              ->          Missing values: 0 (0.00%)\n",
      "host_run_time             ->          Missing values: 0 (0.00%)\n",
      "client_run_time           ->          Missing values: 0 (0.00%)\n",
      "host_id                   ->          Missing values: 0 (0.00%)\n",
      "id                        ->          Missing values: 0 (0.00%)\n",
      "bundle_id                 ->          Missing values: 0 (0.00%)\n",
      "num_gpus                  ->          Missing values: 0 (0.00%)\n",
      "total_flops               ->          Missing values: 0 (0.00%)\n",
      "min_bid                   ->          Missing values: 0 (0.00%)\n",
      "dph_base                  ->          Missing values: 0 (0.00%)\n",
      "dph_total                 ->          Missing values: 0 (0.00%)\n",
      "gpu_name                  ->          Missing values: 0 (0.00%)\n",
      "gpu_ram                   ->          Missing values: 0 (0.00%)\n",
      "gpu_totalram              ->          Missing values: 0 (0.00%)\n",
      "vram_costperhour          ->          Missing values: 0 (0.00%)\n",
      "gpu_display_active        ->          Missing values: 0 (0.00%)\n",
      "gpu_mem_bw                ->          Missing values: 0 (0.00%)\n",
      "bw_nvlink                 ->          Missing values: 0 (0.00%)\n",
      "direct_port_count         ->          Missing values: 0 (0.00%)\n",
      "gpu_lanes                 ->          Missing values: 0 (0.00%)\n",
      "pcie_bw                   ->          Missing values: 0 (0.00%)\n",
      "pci_gen                   ->          Missing values: 0 (0.00%)\n",
      "dlperf                    ->          Missing values: 0 (0.00%)\n",
      "cpu_name                  ->          Missing values: 8 (100.00%)\n",
      "mobo_name                 ->          Missing values: 0 (0.00%)\n",
      "cpu_ram                   ->          Missing values: 0 (0.00%)\n",
      "cpu_cores                 ->          Missing values: 0 (0.00%)\n",
      "cpu_cores_effective       ->          Missing values: 0 (0.00%)\n",
      "gpu_frac                  ->          Missing values: 0 (0.00%)\n",
      "has_avx                   ->          Missing values: 0 (0.00%)\n",
      "disk_space                ->          Missing values: 0 (0.00%)\n",
      "disk_name                 ->          Missing values: 0 (0.00%)\n",
      "disk_bw                   ->          Missing values: 0 (0.00%)\n",
      "inet_up                   ->          Missing values: 0 (0.00%)\n",
      "inet_down                 ->          Missing values: 0 (0.00%)\n",
      "start_date                ->          Missing values: 8 (100.00%)\n",
      "end_date                  ->          Missing values: 8 (100.00%)\n",
      "duration                  ->          Missing values: 8 (100.00%)\n",
      "storage_cost              ->          Missing values: 0 (0.00%)\n",
      "inet_up_cost              ->          Missing values: 0 (0.00%)\n",
      "inet_down_cost            ->          Missing values: 0 (0.00%)\n",
      "storage_total_cost        ->          Missing values: 0 (0.00%)\n",
      "verification              ->          Missing values: 0 (0.00%)\n",
      "static_ip                 ->          Missing values: 0 (0.00%)\n",
      "score                     ->          Missing values: 0 (0.00%)\n",
      "discount_rate             ->          Missing values: 0 (0.00%)\n",
      "discounted_hourly         ->          Missing values: 0 (0.00%)\n",
      "discounted_dph_total      ->          Missing values: 0 (0.00%)\n",
      "rented                    ->          Missing values: 0 (0.00%)\n",
      "pending_count             ->          Missing values: 0 (0.00%)\n"
     ]
    },
    {
     "data": {
      "text/plain": "['inet_up_billed',\n 'inet_down_billed',\n 'webpage',\n 'credit_balance',\n 'credit_discount',\n 'hosting_type',\n 'cpu_name',\n 'start_date',\n 'end_date',\n 'duration']"
     },
     "execution_count": 28,
     "metadata": {},
     "output_type": "execute_result"
    }
   ],
   "source": [
    "df_na_vals(df)"
   ],
   "metadata": {
    "collapsed": false,
    "ExecuteTime": {
     "end_time": "2023-09-10T11:18:39.827600600Z",
     "start_time": "2023-09-10T11:18:39.566541900Z"
    }
   }
  },
  {
   "cell_type": "code",
   "execution_count": 29,
   "outputs": [
    {
     "data": {
      "text/plain": "Empty DataFrame\nColumns: [start_date, end_date]\nIndex: []",
      "text/html": "<div>\n<style scoped>\n    .dataframe tbody tr th:only-of-type {\n        vertical-align: middle;\n    }\n\n    .dataframe tbody tr th {\n        vertical-align: top;\n    }\n\n    .dataframe thead th {\n        text-align: right;\n    }\n</style>\n<table border=\"1\" class=\"dataframe\">\n  <thead>\n    <tr style=\"text-align: right;\">\n      <th></th>\n      <th>start_date</th>\n      <th>end_date</th>\n    </tr>\n  </thead>\n  <tbody>\n  </tbody>\n</table>\n</div>"
     },
     "execution_count": 29,
     "metadata": {},
     "output_type": "execute_result"
    }
   ],
   "source": [
    "# df[df.machine_id == 10298]\n",
    "df[df.machine_id == 11734][['start_date', 'end_date']]"
   ],
   "metadata": {
    "collapsed": false,
    "ExecuteTime": {
     "end_time": "2023-09-10T11:18:43.345984Z",
     "start_time": "2023-09-10T11:18:43.106931500Z"
    }
   }
  },
  {
   "cell_type": "code",
   "execution_count": 30,
   "outputs": [
    {
     "name": "stdout",
     "output_type": "stream",
     "text": [
      "https://console.vast.ai/api/v0/bundles?q=%7B%22external%22%3A+%7B%22eq%22%3A+false%7D%2C+%22machine_id%22%3A+%7B%22eq%22%3A+%22162%22%7D%2C+%22order%22%3A+%5B%5B%22score%22%2C+%22desc%22%5D%5D%2C+%22type%22%3A+%22on-demand%22%7D&api_key=6bbc6e308dcf1fb7f0ead78eae9dbfc23767871bf2b8b7e1f3c9b54a99bc1579\n",
      "{'external': {'eq': False}, 'machine_id': {'eq': '162'}, 'order': [['score', 'desc']], 'type': 'on-demand'}\n",
      "ID       CUDA   N  Model        PCIE  vCPUs   RAM  Disk  $/hr    DLP   DLP/$  NV Driver  Net_up  Net_down  R     Max_Days  mach_id  status    ports  country \n",
      "6612968  11.7  4x  RTX_2080_Ti  12.5  32.0   64.4  768   0.6000  49.3  82.08  515.65.01  45.4    345.4     99.8  -         162      verified  1000   Ohio,_US\n"
     ]
    }
   ],
   "source": [
    "!python vast search offers \"machine_id = 162 rentable = any verified = any\" -d"
   ],
   "metadata": {
    "collapsed": false,
    "ExecuteTime": {
     "end_time": "2023-09-10T11:18:48.648515400Z",
     "start_time": "2023-09-10T11:18:46.460073900Z"
    }
   }
  },
  {
   "cell_type": "code",
   "execution_count": 31,
   "outputs": [
    {
     "data": {
      "text/plain": "False"
     },
     "execution_count": 31,
     "metadata": {},
     "output_type": "execute_result"
    }
   ],
   "source": [
    "df.is_bid.any()"
   ],
   "metadata": {
    "collapsed": false,
    "ExecuteTime": {
     "end_time": "2023-09-10T11:18:53.740775500Z",
     "start_time": "2023-09-10T11:18:53.501577500Z"
    }
   }
  },
  {
   "cell_type": "code",
   "execution_count": null,
   "outputs": [],
   "source": [],
   "metadata": {
    "collapsed": false
   }
  }
 ],
 "metadata": {
  "kernelspec": {
   "display_name": "Python 3",
   "language": "python",
   "name": "python3"
  },
  "language_info": {
   "codemirror_mode": {
    "name": "ipython",
    "version": 2
   },
   "file_extension": ".py",
   "mimetype": "text/x-python",
   "name": "python",
   "nbconvert_exporter": "python",
   "pygments_lexer": "ipython2",
   "version": "2.7.6"
  }
 },
 "nbformat": 4,
 "nbformat_minor": 0
}
