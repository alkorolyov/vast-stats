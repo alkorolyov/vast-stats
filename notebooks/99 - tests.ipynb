{
 "cells": [
  {
   "cell_type": "code",
   "execution_count": 1,
   "outputs": [],
   "source": [
    "%load_ext autoreload\n",
    "%autoreload 2"
   ],
   "metadata": {
    "collapsed": false,
    "ExecuteTime": {
     "end_time": "2023-09-19T05:35:51.851496400Z",
     "start_time": "2023-09-19T05:35:51.659899200Z"
    }
   }
  },
  {
   "cell_type": "code",
   "execution_count": 2,
   "outputs": [],
   "source": [
    "from src.database import DbManager\n",
    "import logging\n",
    "\n",
    "logger = logging.getLogger()\n",
    "logger.setLevel(logging.DEBUG)\n",
    "\n",
    "db_manager = DbManager('../data/vast.db')"
   ],
   "metadata": {
    "collapsed": false,
    "ExecuteTime": {
     "end_time": "2023-09-19T05:35:53.214412700Z",
     "start_time": "2023-09-19T05:35:51.800484800Z"
    }
   }
  },
  {
   "cell_type": "code",
   "execution_count": 3,
   "outputs": [
    {
     "name": "stderr",
     "output_type": "stream",
     "text": [
      "INFO:root:Connected to the database '../data/vast.db'\n"
     ]
    }
   ],
   "source": [
    "db_manager.connect()"
   ],
   "metadata": {
    "collapsed": false,
    "ExecuteTime": {
     "end_time": "2023-09-19T05:35:53.329759900Z",
     "start_time": "2023-09-19T05:35:53.217410300Z"
    }
   }
  },
  {
   "cell_type": "code",
   "execution_count": 4,
   "outputs": [
    {
     "data": {
      "text/plain": "['host_machine_map',\n 'online_ts',\n 'online_snp',\n 'machine_split_ts',\n 'machine_split_snp',\n 'hardware_ts',\n 'hardware_snp',\n 'cpu_ram_ts',\n 'cpu_ram_snp',\n 'disk_ts',\n 'disk_snp',\n 'eod_ts',\n 'eod_snp',\n 'reliability_ts',\n 'reliability_snp',\n 'cost_ts',\n 'cost_snp',\n 'rent_ts',\n 'rent_snp',\n 'avg_ts',\n 'avg_snp',\n 'timestamp_tbl']"
     },
     "execution_count": 4,
     "metadata": {},
     "output_type": "execute_result"
    }
   ],
   "source": [
    "db_manager.get_tables()"
   ],
   "metadata": {
    "collapsed": false,
    "ExecuteTime": {
     "end_time": "2023-09-19T05:35:53.432879100Z",
     "start_time": "2023-09-19T05:35:53.325876300Z"
    }
   }
  },
  {
   "cell_type": "code",
   "execution_count": 5,
   "outputs": [
    {
     "data": {
      "text/plain": "               name     type  notnull dflt_value  pk\ncid                                                 \n0        machine_id  INTEGER        0       None   0\n1       disk_bw_avg  INTEGER        0       None   0\n2       disk_bw_std     REAL        0       None   0\n3    gpu_mem_bw_avg  INTEGER        0       None   0\n4    gpu_mem_bw_std     REAL        0       None   0\n5       pcie_bw_avg  INTEGER        0       None   0\n6       pcie_bw_std     REAL        0       None   0\n7        dlperf_avg  INTEGER        0       None   0\n8        dlperf_std     REAL        0       None   0\n9     inet_down_avg  INTEGER        0       None   0\n10    inet_down_std     REAL        0       None   0\n11      inet_up_avg  INTEGER        0       None   0\n12      inet_up_std     REAL        0       None   0\n13        score_avg  INTEGER        0       None   0\n14        score_std     REAL        0       None   0\n15        timestamp  INTEGER        0       None   0",
      "text/html": "<div>\n<style scoped>\n    .dataframe tbody tr th:only-of-type {\n        vertical-align: middle;\n    }\n\n    .dataframe tbody tr th {\n        vertical-align: top;\n    }\n\n    .dataframe thead th {\n        text-align: right;\n    }\n</style>\n<table border=\"1\" class=\"dataframe\">\n  <thead>\n    <tr style=\"text-align: right;\">\n      <th></th>\n      <th>name</th>\n      <th>type</th>\n      <th>notnull</th>\n      <th>dflt_value</th>\n      <th>pk</th>\n    </tr>\n    <tr>\n      <th>cid</th>\n      <th></th>\n      <th></th>\n      <th></th>\n      <th></th>\n      <th></th>\n    </tr>\n  </thead>\n  <tbody>\n    <tr>\n      <th>0</th>\n      <td>machine_id</td>\n      <td>INTEGER</td>\n      <td>0</td>\n      <td>None</td>\n      <td>0</td>\n    </tr>\n    <tr>\n      <th>1</th>\n      <td>disk_bw_avg</td>\n      <td>INTEGER</td>\n      <td>0</td>\n      <td>None</td>\n      <td>0</td>\n    </tr>\n    <tr>\n      <th>2</th>\n      <td>disk_bw_std</td>\n      <td>REAL</td>\n      <td>0</td>\n      <td>None</td>\n      <td>0</td>\n    </tr>\n    <tr>\n      <th>3</th>\n      <td>gpu_mem_bw_avg</td>\n      <td>INTEGER</td>\n      <td>0</td>\n      <td>None</td>\n      <td>0</td>\n    </tr>\n    <tr>\n      <th>4</th>\n      <td>gpu_mem_bw_std</td>\n      <td>REAL</td>\n      <td>0</td>\n      <td>None</td>\n      <td>0</td>\n    </tr>\n    <tr>\n      <th>5</th>\n      <td>pcie_bw_avg</td>\n      <td>INTEGER</td>\n      <td>0</td>\n      <td>None</td>\n      <td>0</td>\n    </tr>\n    <tr>\n      <th>6</th>\n      <td>pcie_bw_std</td>\n      <td>REAL</td>\n      <td>0</td>\n      <td>None</td>\n      <td>0</td>\n    </tr>\n    <tr>\n      <th>7</th>\n      <td>dlperf_avg</td>\n      <td>INTEGER</td>\n      <td>0</td>\n      <td>None</td>\n      <td>0</td>\n    </tr>\n    <tr>\n      <th>8</th>\n      <td>dlperf_std</td>\n      <td>REAL</td>\n      <td>0</td>\n      <td>None</td>\n      <td>0</td>\n    </tr>\n    <tr>\n      <th>9</th>\n      <td>inet_down_avg</td>\n      <td>INTEGER</td>\n      <td>0</td>\n      <td>None</td>\n      <td>0</td>\n    </tr>\n    <tr>\n      <th>10</th>\n      <td>inet_down_std</td>\n      <td>REAL</td>\n      <td>0</td>\n      <td>None</td>\n      <td>0</td>\n    </tr>\n    <tr>\n      <th>11</th>\n      <td>inet_up_avg</td>\n      <td>INTEGER</td>\n      <td>0</td>\n      <td>None</td>\n      <td>0</td>\n    </tr>\n    <tr>\n      <th>12</th>\n      <td>inet_up_std</td>\n      <td>REAL</td>\n      <td>0</td>\n      <td>None</td>\n      <td>0</td>\n    </tr>\n    <tr>\n      <th>13</th>\n      <td>score_avg</td>\n      <td>INTEGER</td>\n      <td>0</td>\n      <td>None</td>\n      <td>0</td>\n    </tr>\n    <tr>\n      <th>14</th>\n      <td>score_std</td>\n      <td>REAL</td>\n      <td>0</td>\n      <td>None</td>\n      <td>0</td>\n    </tr>\n    <tr>\n      <th>15</th>\n      <td>timestamp</td>\n      <td>INTEGER</td>\n      <td>0</td>\n      <td>None</td>\n      <td>0</td>\n    </tr>\n  </tbody>\n</table>\n</div>"
     },
     "execution_count": 5,
     "metadata": {},
     "output_type": "execute_result"
    }
   ],
   "source": [
    "db_manager.get_tbl_info('avg_ts')"
   ],
   "metadata": {
    "collapsed": false,
    "ExecuteTime": {
     "end_time": "2023-09-19T05:35:53.548131700Z",
     "start_time": "2023-09-19T05:35:53.433879400Z"
    }
   }
  },
  {
   "cell_type": "code",
   "execution_count": 6,
   "outputs": [
    {
     "data": {
      "text/plain": "                 name  pages   size  percentage\n0               total   8072  31.53      100.00\n1             avg_snp   5896  23.03       73.05\n2      reliability_ts   1005   3.93       12.45\n3    machine_split_ts    346   1.35        4.29\n4             rent_ts    199   0.78        2.47\n5             cost_ts    170   0.66        2.11\n6              avg_ts     93   0.36        1.15\n7             disk_ts     69   0.27        0.85\n8              eod_ts     69   0.27        0.85\n9         hardware_ts     40   0.16        0.50\n10       hardware_snp     40   0.16        0.50\n11            eod_snp     25   0.10        0.31\n12           rent_snp     18   0.07        0.22\n13  machine_split_snp     16   0.06        0.20\n14     idx_machine_id     13   0.05        0.16\n15      timestamp_tbl     11   0.04        0.14\n16          online_ts     10   0.04        0.12\n17           cost_snp     10   0.04        0.12\n18         cpu_ram_ts      8   0.03        0.10\n19         online_snp      7   0.03        0.09\n20   host_machine_map      6   0.02        0.07\n21        cpu_ram_snp      6   0.02        0.07\n22           disk_snp      6   0.02        0.07\n23    reliability_snp      6   0.02        0.07\n24      sqlite_schema      3   0.01        0.04",
      "text/html": "<div>\n<style scoped>\n    .dataframe tbody tr th:only-of-type {\n        vertical-align: middle;\n    }\n\n    .dataframe tbody tr th {\n        vertical-align: top;\n    }\n\n    .dataframe thead th {\n        text-align: right;\n    }\n</style>\n<table border=\"1\" class=\"dataframe\">\n  <thead>\n    <tr style=\"text-align: right;\">\n      <th></th>\n      <th>name</th>\n      <th>pages</th>\n      <th>size</th>\n      <th>percentage</th>\n    </tr>\n  </thead>\n  <tbody>\n    <tr>\n      <th>0</th>\n      <td>total</td>\n      <td>8072</td>\n      <td>31.53</td>\n      <td>100.00</td>\n    </tr>\n    <tr>\n      <th>1</th>\n      <td>avg_snp</td>\n      <td>5896</td>\n      <td>23.03</td>\n      <td>73.05</td>\n    </tr>\n    <tr>\n      <th>2</th>\n      <td>reliability_ts</td>\n      <td>1005</td>\n      <td>3.93</td>\n      <td>12.45</td>\n    </tr>\n    <tr>\n      <th>3</th>\n      <td>machine_split_ts</td>\n      <td>346</td>\n      <td>1.35</td>\n      <td>4.29</td>\n    </tr>\n    <tr>\n      <th>4</th>\n      <td>rent_ts</td>\n      <td>199</td>\n      <td>0.78</td>\n      <td>2.47</td>\n    </tr>\n    <tr>\n      <th>5</th>\n      <td>cost_ts</td>\n      <td>170</td>\n      <td>0.66</td>\n      <td>2.11</td>\n    </tr>\n    <tr>\n      <th>6</th>\n      <td>avg_ts</td>\n      <td>93</td>\n      <td>0.36</td>\n      <td>1.15</td>\n    </tr>\n    <tr>\n      <th>7</th>\n      <td>disk_ts</td>\n      <td>69</td>\n      <td>0.27</td>\n      <td>0.85</td>\n    </tr>\n    <tr>\n      <th>8</th>\n      <td>eod_ts</td>\n      <td>69</td>\n      <td>0.27</td>\n      <td>0.85</td>\n    </tr>\n    <tr>\n      <th>9</th>\n      <td>hardware_ts</td>\n      <td>40</td>\n      <td>0.16</td>\n      <td>0.50</td>\n    </tr>\n    <tr>\n      <th>10</th>\n      <td>hardware_snp</td>\n      <td>40</td>\n      <td>0.16</td>\n      <td>0.50</td>\n    </tr>\n    <tr>\n      <th>11</th>\n      <td>eod_snp</td>\n      <td>25</td>\n      <td>0.10</td>\n      <td>0.31</td>\n    </tr>\n    <tr>\n      <th>12</th>\n      <td>rent_snp</td>\n      <td>18</td>\n      <td>0.07</td>\n      <td>0.22</td>\n    </tr>\n    <tr>\n      <th>13</th>\n      <td>machine_split_snp</td>\n      <td>16</td>\n      <td>0.06</td>\n      <td>0.20</td>\n    </tr>\n    <tr>\n      <th>14</th>\n      <td>idx_machine_id</td>\n      <td>13</td>\n      <td>0.05</td>\n      <td>0.16</td>\n    </tr>\n    <tr>\n      <th>15</th>\n      <td>timestamp_tbl</td>\n      <td>11</td>\n      <td>0.04</td>\n      <td>0.14</td>\n    </tr>\n    <tr>\n      <th>16</th>\n      <td>online_ts</td>\n      <td>10</td>\n      <td>0.04</td>\n      <td>0.12</td>\n    </tr>\n    <tr>\n      <th>17</th>\n      <td>cost_snp</td>\n      <td>10</td>\n      <td>0.04</td>\n      <td>0.12</td>\n    </tr>\n    <tr>\n      <th>18</th>\n      <td>cpu_ram_ts</td>\n      <td>8</td>\n      <td>0.03</td>\n      <td>0.10</td>\n    </tr>\n    <tr>\n      <th>19</th>\n      <td>online_snp</td>\n      <td>7</td>\n      <td>0.03</td>\n      <td>0.09</td>\n    </tr>\n    <tr>\n      <th>20</th>\n      <td>host_machine_map</td>\n      <td>6</td>\n      <td>0.02</td>\n      <td>0.07</td>\n    </tr>\n    <tr>\n      <th>21</th>\n      <td>cpu_ram_snp</td>\n      <td>6</td>\n      <td>0.02</td>\n      <td>0.07</td>\n    </tr>\n    <tr>\n      <th>22</th>\n      <td>disk_snp</td>\n      <td>6</td>\n      <td>0.02</td>\n      <td>0.07</td>\n    </tr>\n    <tr>\n      <th>23</th>\n      <td>reliability_snp</td>\n      <td>6</td>\n      <td>0.02</td>\n      <td>0.07</td>\n    </tr>\n    <tr>\n      <th>24</th>\n      <td>sqlite_schema</td>\n      <td>3</td>\n      <td>0.01</td>\n      <td>0.04</td>\n    </tr>\n  </tbody>\n</table>\n</div>"
     },
     "execution_count": 6,
     "metadata": {},
     "output_type": "execute_result"
    }
   ],
   "source": [
    "db_manager.get_db_stats()"
   ],
   "metadata": {
    "collapsed": false,
    "ExecuteTime": {
     "end_time": "2023-09-19T05:35:56.418542200Z",
     "start_time": "2023-09-19T05:35:55.530730500Z"
    }
   }
  },
  {
   "cell_type": "code",
   "execution_count": 7,
   "outputs": [
    {
     "data": {
      "text/plain": "[('ATOMIC_INTRINSICS=0',),\n ('COMPILER=msvc-1937',),\n ('DEFAULT_AUTOVACUUM',),\n ('DEFAULT_CACHE_SIZE=-2000',),\n ('DEFAULT_FILE_FORMAT=4',),\n ('DEFAULT_JOURNAL_SIZE_LIMIT=-1',),\n ('DEFAULT_MMAP_SIZE=0',),\n ('DEFAULT_PAGE_SIZE=4096',),\n ('DEFAULT_PCACHE_INITSZ=20',),\n ('DEFAULT_RECURSIVE_TRIGGERS',),\n ('DEFAULT_SECTOR_SIZE=4096',),\n ('DEFAULT_SYNCHRONOUS=2',),\n ('DEFAULT_WAL_AUTOCHECKPOINT=1000',),\n ('DEFAULT_WAL_SYNCHRONOUS=2',),\n ('DEFAULT_WORKER_THREADS=0',),\n ('ENABLE_BYTECODE_VTAB',),\n ('ENABLE_COLUMN_METADATA',),\n ('ENABLE_DBPAGE_VTAB',),\n ('ENABLE_DBSTAT_VTAB',),\n ('ENABLE_FTS3',),\n ('ENABLE_FTS4',),\n ('ENABLE_FTS5',),\n ('ENABLE_GEOPOLY',),\n ('ENABLE_MATH_FUNCTIONS',),\n ('ENABLE_PREUPDATE_HOOK',),\n ('ENABLE_RTREE',),\n ('ENABLE_SESSION',),\n ('ENABLE_STMTVTAB',),\n ('MALLOC_SOFT_LIMIT=1024',),\n ('MAX_ATTACHED=10',),\n ('MAX_COLUMN=2000',),\n ('MAX_COMPOUND_SELECT=500',),\n ('MAX_DEFAULT_PAGE_SIZE=8192',),\n ('MAX_EXPR_DEPTH=1000',),\n ('MAX_FUNCTION_ARG=127',),\n ('MAX_LENGTH=1000000000',),\n ('MAX_LIKE_PATTERN_LENGTH=50000',),\n ('MAX_MMAP_SIZE=0x7fff0000',),\n ('MAX_PAGE_COUNT=1073741823',),\n ('MAX_PAGE_SIZE=65536',),\n ('MAX_SQL_LENGTH=1000000000',),\n ('MAX_TRIGGER_DEPTH=100',),\n ('MAX_VARIABLE_NUMBER=32766',),\n ('MAX_VDBE_OP=250000000',),\n ('MAX_WORKER_THREADS=8',),\n ('MUTEX_W32',),\n ('SYSTEM_MALLOC',),\n ('TEMP_STORE=1',),\n ('THREADSAFE=1',)]"
     },
     "execution_count": 7,
     "metadata": {},
     "output_type": "execute_result"
    }
   ],
   "source": [
    "conn = db_manager.conn\n",
    "# conn.execute('SELECT * FROM dbstat')\n",
    "conn.execute('PRAGMA compile_options').fetchall()"
   ],
   "metadata": {
    "collapsed": false,
    "ExecuteTime": {
     "end_time": "2023-09-19T05:36:02.252133400Z",
     "start_time": "2023-09-19T05:36:02.101118700Z"
    }
   }
  }
 ],
 "metadata": {
  "kernelspec": {
   "display_name": "Python 3",
   "language": "python",
   "name": "python3"
  },
  "language_info": {
   "codemirror_mode": {
    "name": "ipython",
    "version": 2
   },
   "file_extension": ".py",
   "mimetype": "text/x-python",
   "name": "python",
   "nbconvert_exporter": "python",
   "pygments_lexer": "ipython2",
   "version": "2.7.6"
  }
 },
 "nbformat": 4,
 "nbformat_minor": 0
}
