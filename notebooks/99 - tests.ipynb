{
 "cells": [
  {
   "cell_type": "code",
   "execution_count": 1,
   "outputs": [],
   "source": [
    "import pandas as pd\n",
    "%load_ext autoreload\n",
    "%autoreload 2"
   ],
   "metadata": {
    "collapsed": false,
    "ExecuteTime": {
     "end_time": "2023-09-22T03:45:21.442521500Z",
     "start_time": "2023-09-22T03:45:20.343639500Z"
    }
   }
  },
  {
   "cell_type": "code",
   "execution_count": 2,
   "outputs": [],
   "source": [
    "from src.database import VastDB\n",
    "from src.manager import DbManager\n",
    "from src.fetch import fetch\n",
    "from src.preprocess import preprocess, split_raw\n",
    "from src import const\n",
    "import logging\n",
    "\n",
    "\n",
    "logging.basicConfig(format=const.LOG_FORMAT,\n",
    "                    level=logging.DEBUG,\n",
    "                    datefmt='%d-%m-%Y %I:%M:%S')\n",
    "\n",
    "# logger = \n",
    "# logger.setLevel(logging.DEBUG)"
   ],
   "metadata": {
    "collapsed": false,
    "ExecuteTime": {
     "end_time": "2023-09-22T03:45:21.679574600Z",
     "start_time": "2023-09-22T03:45:21.443522Z"
    }
   }
  },
  {
   "cell_type": "code",
   "execution_count": null,
   "outputs": [],
   "source": [],
   "metadata": {
    "collapsed": false
   }
  },
  {
   "cell_type": "code",
   "execution_count": 3,
   "outputs": [
    {
     "name": "stderr",
     "output_type": "stream",
     "text": [
      "[22-09-2023 05:45:49] [INFO] [API] fetching data from '500.farm'\n",
      "[22-09-2023 05:45:49] [DEBUG] Starting new HTTPS connection (1): 500.farm:443\n",
      "[22-09-2023 05:45:50] [DEBUG] https://500.farm:443 \"GET /vastai-exporter/offers HTTP/1.1\" 200 None\n"
     ]
    }
   ],
   "source": [
    "raw = fetch()\n",
    "preprocess(raw)\n",
    "machines, offers = split_raw(raw)"
   ],
   "metadata": {
    "collapsed": false,
    "ExecuteTime": {
     "end_time": "2023-09-22T03:45:51.495290500Z",
     "start_time": "2023-09-22T03:45:48.773479600Z"
    }
   }
  },
  {
   "cell_type": "code",
   "execution_count": 8,
   "outputs": [
    {
     "data": {
      "text/plain": "'(1, 2)'"
     },
     "execution_count": 8,
     "metadata": {},
     "output_type": "execute_result"
    }
   ],
   "source": [
    "str((1, 2)).strip()"
   ],
   "metadata": {
    "collapsed": false,
    "ExecuteTime": {
     "end_time": "2023-09-22T03:57:56.560282Z",
     "start_time": "2023-09-22T03:57:56.461258300Z"
    }
   }
  },
  {
   "cell_type": "code",
   "execution_count": 9,
   "outputs": [
    {
     "name": "stderr",
     "output_type": "stream",
     "text": [
      "[22-09-2023 06:12:42] [INFO] Connected to the database '../data/test.db'\n"
     ]
    }
   ],
   "source": [
    "db = VastDB('../data/test.db')\n",
    "db.connect()"
   ],
   "metadata": {
    "collapsed": false,
    "ExecuteTime": {
     "end_time": "2023-09-22T04:12:42.699213300Z",
     "start_time": "2023-09-22T04:12:42.504145500Z"
    }
   }
  },
  {
   "cell_type": "code",
   "execution_count": 10,
   "outputs": [
    {
     "data": {
      "text/plain": "['timestamp_idx',\n 'tmp_machines',\n 'tmp_offers',\n 'host_mach_map',\n 'mach_offer_map']"
     },
     "execution_count": 10,
     "metadata": {},
     "output_type": "execute_result"
    }
   ],
   "source": [
    "db.manager.get_tables()"
   ],
   "metadata": {
    "collapsed": false,
    "ExecuteTime": {
     "end_time": "2023-09-22T04:12:56.942073800Z",
     "start_time": "2023-09-22T04:12:56.844544700Z"
    }
   }
  },
  {
   "cell_type": "code",
   "execution_count": 14,
   "outputs": [
    {
     "data": {
      "text/plain": "True"
     },
     "execution_count": 14,
     "metadata": {},
     "output_type": "execute_result"
    }
   ],
   "source": [
    "info = db.manager.get_tbl_info('tmp_machines')\n",
    "'host_id' in info['name']"
   ],
   "metadata": {
    "collapsed": false,
    "ExecuteTime": {
     "end_time": "2023-09-22T04:13:34.688880100Z",
     "start_time": "2023-09-22T04:13:34.584854700Z"
    }
   }
  },
  {
   "cell_type": "code",
   "execution_count": 12,
   "outputs": [
    {
     "name": "stderr",
     "output_type": "stream",
     "text": [
      "[20-09-2023 08:38:17] [INFO] Disconnected from the database '../data/test.db'.\n"
     ]
    }
   ],
   "source": [
    "db.close()"
   ],
   "metadata": {
    "collapsed": false,
    "ExecuteTime": {
     "end_time": "2023-09-20T18:38:17.431473900Z",
     "start_time": "2023-09-20T18:38:17.341453900Z"
    }
   }
  },
  {
   "cell_type": "code",
   "execution_count": 61,
   "outputs": [
    {
     "name": "stderr",
     "output_type": "stream",
     "text": [
      "[21-09-2023 06:25:25] [INFO] Table 'tmp_machines' deleted\n",
      "[21-09-2023 06:25:25] [INFO] Table 'tmp_offers' deleted\n"
     ]
    }
   ],
   "source": [
    "db.manager.delete_table('tmp_machines')\n",
    "db.manager.delete_table('tmp_offers')\n",
    "db.manager.delete_table('host_mach_map')\n",
    "db.manager.delete_table('mach_offr_map')"
   ],
   "metadata": {
    "collapsed": false,
    "ExecuteTime": {
     "end_time": "2023-09-21T04:25:25.350351400Z",
     "start_time": "2023-09-21T04:25:25.035718300Z"
    }
   }
  },
  {
   "cell_type": "code",
   "execution_count": 31,
   "outputs": [
    {
     "data": {
      "text/plain": "[[1, 2, 16], [1, 3, 16], [2, 4, 16]]"
     },
     "execution_count": 31,
     "metadata": {},
     "output_type": "execute_result"
    }
   ],
   "source": [
    "df = db.manager.table_to_df('tmp_machines')\n",
    "df.values.tolist()"
   ],
   "metadata": {
    "collapsed": false,
    "ExecuteTime": {
     "end_time": "2023-09-21T04:08:43.398488900Z",
     "start_time": "2023-09-21T04:08:43.144431700Z"
    }
   }
  },
  {
   "cell_type": "markdown",
   "source": [],
   "metadata": {
    "collapsed": false
   }
  },
  {
   "cell_type": "code",
   "execution_count": 4,
   "outputs": [
    {
     "name": "stderr",
     "output_type": "stream",
     "text": [
      "[21-09-2023 06:28:53] [INFO] Table 'tmp_machines' created\n",
      "[21-09-2023 06:28:53] [INFO] Table 'tmp_offers' created\n"
     ]
    }
   ],
   "source": [
    "db.manager.create_table('tmp_machines', ['host_id', 'machine_id', 'timestamp'])\n",
    "db.manager.create_table('tmp_offers', ['machine_id', 'id', 'timestamp'])"
   ],
   "metadata": {
    "collapsed": false,
    "ExecuteTime": {
     "end_time": "2023-09-21T04:28:53.487052Z",
     "start_time": "2023-09-21T04:28:53.380795700Z"
    }
   }
  },
  {
   "cell_type": "code",
   "execution_count": 5,
   "outputs": [
    {
     "name": "stderr",
     "output_type": "stream",
     "text": [
      "[21-09-2023 06:28:57] [INFO] 3 Rows inserted into 'tmp_machines'\n",
      "[21-09-2023 06:28:57] [INFO] 3 Rows inserted into 'tmp_offers'\n"
     ]
    }
   ],
   "source": [
    "db.manager.insert('tmp_machines', \n",
    "                  [[1, 2, 16], \n",
    "                   [1, 3, 16], \n",
    "                   [2, 4, 16]])\n",
    "db.manager.insert('tmp_offers', \n",
    "                  [[2, 1, 16], \n",
    "                   [3, 2, 16], \n",
    "                   [4, 3, 16]])"
   ],
   "metadata": {
    "collapsed": false,
    "ExecuteTime": {
     "end_time": "2023-09-21T04:28:57.519835700Z",
     "start_time": "2023-09-21T04:28:57.418812800Z"
    }
   }
  },
  {
   "cell_type": "code",
   "execution_count": 15,
   "outputs": [
    {
     "name": "stderr",
     "output_type": "stream",
     "text": [
      "[21-09-2023 05:56:15] [INFO] Disconnected from the database '../data/test.db'.\n"
     ]
    }
   ],
   "source": [
    "db.close()"
   ],
   "metadata": {
    "collapsed": false,
    "ExecuteTime": {
     "end_time": "2023-09-21T03:56:15.523789700Z",
     "start_time": "2023-09-21T03:56:15.428263400Z"
    }
   }
  },
  {
   "cell_type": "code",
   "execution_count": 9,
   "outputs": [
    {
     "data": {
      "text/plain": "             name  pages  size  percentage\n0           total      6  0.02      100.00\n1   sqlite_schema      1  0.00       19.53\n2   timestamp_idx      1  0.00       19.53\n3    tmp_machines      1  0.00       19.53\n4      tmp_offers      1  0.00       19.53\n5   host_mach_map      1  0.00       19.53\n6  mach_offer_map      1  0.00       19.53",
      "text/html": "<div>\n<style scoped>\n    .dataframe tbody tr th:only-of-type {\n        vertical-align: middle;\n    }\n\n    .dataframe tbody tr th {\n        vertical-align: top;\n    }\n\n    .dataframe thead th {\n        text-align: right;\n    }\n</style>\n<table border=\"1\" class=\"dataframe\">\n  <thead>\n    <tr style=\"text-align: right;\">\n      <th></th>\n      <th>name</th>\n      <th>pages</th>\n      <th>size</th>\n      <th>percentage</th>\n    </tr>\n  </thead>\n  <tbody>\n    <tr>\n      <th>0</th>\n      <td>total</td>\n      <td>6</td>\n      <td>0.02</td>\n      <td>100.00</td>\n    </tr>\n    <tr>\n      <th>1</th>\n      <td>sqlite_schema</td>\n      <td>1</td>\n      <td>0.00</td>\n      <td>19.53</td>\n    </tr>\n    <tr>\n      <th>2</th>\n      <td>timestamp_idx</td>\n      <td>1</td>\n      <td>0.00</td>\n      <td>19.53</td>\n    </tr>\n    <tr>\n      <th>3</th>\n      <td>tmp_machines</td>\n      <td>1</td>\n      <td>0.00</td>\n      <td>19.53</td>\n    </tr>\n    <tr>\n      <th>4</th>\n      <td>tmp_offers</td>\n      <td>1</td>\n      <td>0.00</td>\n      <td>19.53</td>\n    </tr>\n    <tr>\n      <th>5</th>\n      <td>host_mach_map</td>\n      <td>1</td>\n      <td>0.00</td>\n      <td>19.53</td>\n    </tr>\n    <tr>\n      <th>6</th>\n      <td>mach_offer_map</td>\n      <td>1</td>\n      <td>0.00</td>\n      <td>19.53</td>\n    </tr>\n  </tbody>\n</table>\n</div>"
     },
     "execution_count": 9,
     "metadata": {},
     "output_type": "execute_result"
    }
   ],
   "source": [
    "db.create_map_tables()\n",
    "db.update_tables()\n",
    "db.manager.commit()\n",
    "db.manager.get_db_stats()"
   ],
   "metadata": {
    "collapsed": false,
    "ExecuteTime": {
     "end_time": "2023-09-21T04:31:39.292526Z",
     "start_time": "2023-09-21T04:31:39.010621100Z"
    }
   }
  },
  {
   "cell_type": "code",
   "execution_count": 8,
   "outputs": [
    {
     "data": {
      "text/plain": "   machine_id  host_id  timestamp\n0           2        1         16\n1           3        1         16\n2           4        2         16",
      "text/html": "<div>\n<style scoped>\n    .dataframe tbody tr th:only-of-type {\n        vertical-align: middle;\n    }\n\n    .dataframe tbody tr th {\n        vertical-align: top;\n    }\n\n    .dataframe thead th {\n        text-align: right;\n    }\n</style>\n<table border=\"1\" class=\"dataframe\">\n  <thead>\n    <tr style=\"text-align: right;\">\n      <th></th>\n      <th>machine_id</th>\n      <th>host_id</th>\n      <th>timestamp</th>\n    </tr>\n  </thead>\n  <tbody>\n    <tr>\n      <th>0</th>\n      <td>2</td>\n      <td>1</td>\n      <td>16</td>\n    </tr>\n    <tr>\n      <th>1</th>\n      <td>3</td>\n      <td>1</td>\n      <td>16</td>\n    </tr>\n    <tr>\n      <th>2</th>\n      <td>4</td>\n      <td>2</td>\n      <td>16</td>\n    </tr>\n  </tbody>\n</table>\n</div>"
     },
     "execution_count": 8,
     "metadata": {},
     "output_type": "execute_result"
    }
   ],
   "source": [
    "db.manager.table_to_df('host_mach_map')"
   ],
   "metadata": {
    "collapsed": false,
    "ExecuteTime": {
     "end_time": "2023-09-21T04:31:02.755649300Z",
     "start_time": "2023-09-21T04:31:02.653626100Z"
    }
   }
  },
  {
   "cell_type": "code",
   "execution_count": 14,
   "outputs": [],
   "source": [
    "db.update_tables()\n",
    "db.manager.commit()"
   ],
   "metadata": {
    "collapsed": false,
    "ExecuteTime": {
     "end_time": "2023-09-21T04:33:12.255056300Z",
     "start_time": "2023-09-21T04:33:12.164044900Z"
    }
   }
  },
  {
   "cell_type": "code",
   "execution_count": 16,
   "outputs": [],
   "source": [
    "DbManager().conn"
   ],
   "metadata": {
    "collapsed": false,
    "ExecuteTime": {
     "end_time": "2023-09-21T05:08:35.714623200Z",
     "start_time": "2023-09-21T05:08:35.608616900Z"
    }
   }
  },
  {
   "cell_type": "code",
   "execution_count": null,
   "outputs": [],
   "source": [],
   "metadata": {
    "collapsed": false
   }
  },
  {
   "cell_type": "code",
   "execution_count": null,
   "outputs": [],
   "source": [],
   "metadata": {
    "collapsed": false
   }
  },
  {
   "cell_type": "code",
   "execution_count": null,
   "outputs": [],
   "source": [],
   "metadata": {
    "collapsed": false
   }
  },
  {
   "cell_type": "code",
   "execution_count": null,
   "outputs": [],
   "source": [],
   "metadata": {
    "collapsed": false
   }
  },
  {
   "cell_type": "code",
   "execution_count": null,
   "outputs": [],
   "source": [],
   "metadata": {
    "collapsed": false
   }
  },
  {
   "cell_type": "code",
   "execution_count": 15,
   "outputs": [],
   "source": [
    "db.create_tmp_tables(machines, offers)\n",
    "db.create_map_tables()"
   ],
   "metadata": {
    "collapsed": false,
    "ExecuteTime": {
     "end_time": "2023-09-20T18:38:25.111550100Z",
     "start_time": "2023-09-20T18:38:24.962519200Z"
    }
   }
  },
  {
   "cell_type": "code",
   "execution_count": 16,
   "outputs": [
    {
     "data": {
      "text/plain": "             name  pages  size  percentage\n0           total    302  1.18      100.00\n1      tmp_offers    194  0.76       64.22\n2    tmp_machines     80  0.31       26.48\n3  offer_mach_map     18  0.07        5.96\n4   mach_host_map      8  0.03        2.65\n5   sqlite_schema      1  0.00        0.33\n6   timestamp_idx      1  0.00        0.33",
      "text/html": "<div>\n<style scoped>\n    .dataframe tbody tr th:only-of-type {\n        vertical-align: middle;\n    }\n\n    .dataframe tbody tr th {\n        vertical-align: top;\n    }\n\n    .dataframe thead th {\n        text-align: right;\n    }\n</style>\n<table border=\"1\" class=\"dataframe\">\n  <thead>\n    <tr style=\"text-align: right;\">\n      <th></th>\n      <th>name</th>\n      <th>pages</th>\n      <th>size</th>\n      <th>percentage</th>\n    </tr>\n  </thead>\n  <tbody>\n    <tr>\n      <th>0</th>\n      <td>total</td>\n      <td>302</td>\n      <td>1.18</td>\n      <td>100.00</td>\n    </tr>\n    <tr>\n      <th>1</th>\n      <td>tmp_offers</td>\n      <td>194</td>\n      <td>0.76</td>\n      <td>64.22</td>\n    </tr>\n    <tr>\n      <th>2</th>\n      <td>tmp_machines</td>\n      <td>80</td>\n      <td>0.31</td>\n      <td>26.48</td>\n    </tr>\n    <tr>\n      <th>3</th>\n      <td>offer_mach_map</td>\n      <td>18</td>\n      <td>0.07</td>\n      <td>5.96</td>\n    </tr>\n    <tr>\n      <th>4</th>\n      <td>mach_host_map</td>\n      <td>8</td>\n      <td>0.03</td>\n      <td>2.65</td>\n    </tr>\n    <tr>\n      <th>5</th>\n      <td>sqlite_schema</td>\n      <td>1</td>\n      <td>0.00</td>\n      <td>0.33</td>\n    </tr>\n    <tr>\n      <th>6</th>\n      <td>timestamp_idx</td>\n      <td>1</td>\n      <td>0.00</td>\n      <td>0.33</td>\n    </tr>\n  </tbody>\n</table>\n</div>"
     },
     "execution_count": 16,
     "metadata": {},
     "output_type": "execute_result"
    }
   ],
   "source": [
    "db.manager.commit()\n",
    "db.manager.get_db_stats()\n",
    "# db.manager.delete_table('int32')"
   ],
   "metadata": {
    "collapsed": false,
    "ExecuteTime": {
     "end_time": "2023-09-20T18:38:26.063874Z",
     "start_time": "2023-09-20T18:38:25.967853500Z"
    }
   }
  },
  {
   "cell_type": "code",
   "execution_count": 18,
   "outputs": [],
   "source": [
    "db.create_ts_index()"
   ],
   "metadata": {
    "collapsed": false,
    "ExecuteTime": {
     "end_time": "2023-09-20T18:38:37.867594900Z",
     "start_time": "2023-09-20T18:38:37.772570500Z"
    }
   }
  },
  {
   "cell_type": "code",
   "execution_count": 19,
   "outputs": [
    {
     "data": {
      "text/plain": "0"
     },
     "execution_count": 19,
     "metadata": {},
     "output_type": "execute_result"
    }
   ],
   "source": [
    "db.update_tables()"
   ],
   "metadata": {
    "collapsed": false,
    "ExecuteTime": {
     "end_time": "2023-09-20T18:38:38.722649900Z",
     "start_time": "2023-09-20T18:38:38.626629200Z"
    }
   }
  },
  {
   "cell_type": "code",
   "execution_count": 20,
   "outputs": [
    {
     "data": {
      "text/plain": "             name  pages  size  percentage\n0           total    302  1.18      100.00\n1      tmp_offers    194  0.76       64.22\n2    tmp_machines     80  0.31       26.48\n3  offer_mach_map     18  0.07        5.96\n4   mach_host_map      8  0.03        2.65\n5   sqlite_schema      1  0.00        0.33\n6   timestamp_idx      1  0.00        0.33",
      "text/html": "<div>\n<style scoped>\n    .dataframe tbody tr th:only-of-type {\n        vertical-align: middle;\n    }\n\n    .dataframe tbody tr th {\n        vertical-align: top;\n    }\n\n    .dataframe thead th {\n        text-align: right;\n    }\n</style>\n<table border=\"1\" class=\"dataframe\">\n  <thead>\n    <tr style=\"text-align: right;\">\n      <th></th>\n      <th>name</th>\n      <th>pages</th>\n      <th>size</th>\n      <th>percentage</th>\n    </tr>\n  </thead>\n  <tbody>\n    <tr>\n      <th>0</th>\n      <td>total</td>\n      <td>302</td>\n      <td>1.18</td>\n      <td>100.00</td>\n    </tr>\n    <tr>\n      <th>1</th>\n      <td>tmp_offers</td>\n      <td>194</td>\n      <td>0.76</td>\n      <td>64.22</td>\n    </tr>\n    <tr>\n      <th>2</th>\n      <td>tmp_machines</td>\n      <td>80</td>\n      <td>0.31</td>\n      <td>26.48</td>\n    </tr>\n    <tr>\n      <th>3</th>\n      <td>offer_mach_map</td>\n      <td>18</td>\n      <td>0.07</td>\n      <td>5.96</td>\n    </tr>\n    <tr>\n      <th>4</th>\n      <td>mach_host_map</td>\n      <td>8</td>\n      <td>0.03</td>\n      <td>2.65</td>\n    </tr>\n    <tr>\n      <th>5</th>\n      <td>sqlite_schema</td>\n      <td>1</td>\n      <td>0.00</td>\n      <td>0.33</td>\n    </tr>\n    <tr>\n      <th>6</th>\n      <td>timestamp_idx</td>\n      <td>1</td>\n      <td>0.00</td>\n      <td>0.33</td>\n    </tr>\n  </tbody>\n</table>\n</div>"
     },
     "execution_count": 20,
     "metadata": {},
     "output_type": "execute_result"
    }
   ],
   "source": [
    "db.manager.commit()\n",
    "db.manager.get_db_stats()"
   ],
   "metadata": {
    "collapsed": false,
    "ExecuteTime": {
     "end_time": "2023-09-20T18:38:40.376248100Z",
     "start_time": "2023-09-20T18:38:40.277226Z"
    }
   }
  },
  {
   "cell_type": "code",
   "execution_count": 8,
   "outputs": [
    {
     "data": {
      "text/plain": "           id  machine_id\n0     5120551        4454\n1     5120986        4378\n2     5120988        4379\n3     5120991        4381\n4     5120996        4458\n...       ...         ...\n3940  7058112       12769\n3941  7058113       12769\n3942  7058124        9617\n3943  7058125        9617\n3944  7058126        9617\n\n[3945 rows x 2 columns]",
      "text/html": "<div>\n<style scoped>\n    .dataframe tbody tr th:only-of-type {\n        vertical-align: middle;\n    }\n\n    .dataframe tbody tr th {\n        vertical-align: top;\n    }\n\n    .dataframe thead th {\n        text-align: right;\n    }\n</style>\n<table border=\"1\" class=\"dataframe\">\n  <thead>\n    <tr style=\"text-align: right;\">\n      <th></th>\n      <th>id</th>\n      <th>machine_id</th>\n    </tr>\n  </thead>\n  <tbody>\n    <tr>\n      <th>0</th>\n      <td>5120551</td>\n      <td>4454</td>\n    </tr>\n    <tr>\n      <th>1</th>\n      <td>5120986</td>\n      <td>4378</td>\n    </tr>\n    <tr>\n      <th>2</th>\n      <td>5120988</td>\n      <td>4379</td>\n    </tr>\n    <tr>\n      <th>3</th>\n      <td>5120991</td>\n      <td>4381</td>\n    </tr>\n    <tr>\n      <th>4</th>\n      <td>5120996</td>\n      <td>4458</td>\n    </tr>\n    <tr>\n      <th>...</th>\n      <td>...</td>\n      <td>...</td>\n    </tr>\n    <tr>\n      <th>3940</th>\n      <td>7058112</td>\n      <td>12769</td>\n    </tr>\n    <tr>\n      <th>3941</th>\n      <td>7058113</td>\n      <td>12769</td>\n    </tr>\n    <tr>\n      <th>3942</th>\n      <td>7058124</td>\n      <td>9617</td>\n    </tr>\n    <tr>\n      <th>3943</th>\n      <td>7058125</td>\n      <td>9617</td>\n    </tr>\n    <tr>\n      <th>3944</th>\n      <td>7058126</td>\n      <td>9617</td>\n    </tr>\n  </tbody>\n</table>\n<p>3945 rows × 2 columns</p>\n</div>"
     },
     "execution_count": 8,
     "metadata": {},
     "output_type": "execute_result"
    }
   ],
   "source": [
    "db.manager.table_to_df('offer_mach_map')\n",
    "# db.manager.table_to_df('mach_offer_map').sort_values(by='machine_id')"
   ],
   "metadata": {
    "collapsed": false,
    "ExecuteTime": {
     "end_time": "2023-09-20T17:22:55.527040600Z",
     "start_time": "2023-09-20T17:22:55.497035Z"
    }
   }
  }
 ],
 "metadata": {
  "kernelspec": {
   "display_name": "Python 3",
   "language": "python",
   "name": "python3"
  },
  "language_info": {
   "codemirror_mode": {
    "name": "ipython",
    "version": 2
   },
   "file_extension": ".py",
   "mimetype": "text/x-python",
   "name": "python",
   "nbconvert_exporter": "python",
   "pygments_lexer": "ipython2",
   "version": "2.7.6"
  }
 },
 "nbformat": 4,
 "nbformat_minor": 0
}
