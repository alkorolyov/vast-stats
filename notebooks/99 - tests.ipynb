{
 "cells": [
  {
   "cell_type": "code",
   "execution_count": 2,
   "outputs": [],
   "source": [
    "import numpy as np\n",
    "%load_ext autoreload\n",
    "%autoreload 2"
   ],
   "metadata": {
    "collapsed": false,
    "ExecuteTime": {
     "end_time": "2023-07-29T13:10:32.086464900Z",
     "start_time": "2023-07-29T13:10:31.896420Z"
    }
   }
  },
  {
   "cell_type": "code",
   "execution_count": 133,
   "metadata": {
    "collapsed": true,
    "ExecuteTime": {
     "end_time": "2023-07-29T17:34:35.215010800Z",
     "start_time": "2023-07-29T17:34:33.047513600Z"
    }
   },
   "outputs": [],
   "source": [
    "import sqlite3\n",
    "import os\n",
    "\n",
    "import pandas as pd\n",
    "import numpy as np\n",
    "from src.utils import get_tables, df_na_vals\n",
    "from src.vast_api import df_to_tmp_table, get_machines, get_offers, _get_raw, preprocess, np_group_by"
   ]
  },
  {
   "cell_type": "code",
   "execution_count": 140,
   "outputs": [],
   "source": [
    "raw = _get_raw('https://500.farm/vastai-exporter/offers')"
   ],
   "metadata": {
    "collapsed": false,
    "ExecuteTime": {
     "end_time": "2023-07-29T17:36:22.446624700Z",
     "start_time": "2023-07-29T17:36:18.259043900Z"
    }
   }
  },
  {
   "cell_type": "code",
   "execution_count": 142,
   "outputs": [
    {
     "data": {
      "text/plain": "(5365, 1218)"
     },
     "execution_count": 142,
     "metadata": {},
     "output_type": "execute_result"
    }
   ],
   "source": [
    "raw.machine_id.size, raw.machine_id.unique().size"
   ],
   "metadata": {
    "collapsed": false,
    "ExecuteTime": {
     "end_time": "2023-07-29T17:36:33.458078100Z",
     "start_time": "2023-07-29T17:36:33.287039100Z"
    }
   }
  },
  {
   "cell_type": "code",
   "execution_count": 97,
   "outputs": [],
   "source": [
    "offers = get_offers()"
   ],
   "metadata": {
    "collapsed": false,
    "ExecuteTime": {
     "end_time": "2023-07-29T17:20:51.802977600Z",
     "start_time": "2023-07-29T17:20:49.760584300Z"
    }
   }
  },
  {
   "cell_type": "code",
   "execution_count": 98,
   "outputs": [
    {
     "data": {
      "text/plain": "(3299, 1220)"
     },
     "execution_count": 98,
     "metadata": {},
     "output_type": "execute_result"
    }
   ],
   "source": [
    "offers.machine_id.size, offers.machine_id.unique().size"
   ],
   "metadata": {
    "collapsed": false,
    "ExecuteTime": {
     "end_time": "2023-07-29T17:20:54.577719800Z",
     "start_time": "2023-07-29T17:20:54.410682200Z"
    }
   }
  },
  {
   "cell_type": "code",
   "execution_count": 150,
   "outputs": [
    {
     "data": {
      "text/plain": "162      4\n274      8\n275      8\n283      6\n301      8\n        ..\n11834    1\n11835    1\n11836    1\n11837    1\n11840    5\nLength: 1218, dtype: int64"
     },
     "execution_count": 150,
     "metadata": {},
     "output_type": "execute_result"
    }
   ],
   "source": [
    "machine_ids, max_chunk = np_group_by(raw, 'num_gpus', np.maximum)\n",
    "max_chunk = pd.Series(max_chunk, index=machine_ids)\n",
    "max_chunk"
   ],
   "metadata": {
    "collapsed": false,
    "ExecuteTime": {
     "end_time": "2023-07-29T17:37:31.693380700Z",
     "start_time": "2023-07-29T17:37:31.521341900Z"
    }
   }
  },
  {
   "cell_type": "code",
   "execution_count": 63,
   "outputs": [
    {
     "name": "stdout",
     "output_type": "stream",
     "text": [
      "331 µs ± 7.51 µs per loop (mean ± std. dev. of 7 runs, 1,000 loops each)\n"
     ]
    }
   ],
   "source": [
    "%timeit np_group_by(raw, 'num_gpus', np.maximum)"
   ],
   "metadata": {
    "collapsed": false,
    "ExecuteTime": {
     "end_time": "2023-07-29T17:10:26.061228700Z",
     "start_time": "2023-07-29T17:10:23.185580Z"
    }
   }
  },
  {
   "cell_type": "code",
   "execution_count": 145,
   "outputs": [],
   "source": [
    "df = get_machines()"
   ],
   "metadata": {
    "collapsed": false,
    "ExecuteTime": {
     "end_time": "2023-07-29T17:37:15.258323600Z",
     "start_time": "2023-07-29T17:37:14.115469200Z"
    }
   }
  },
  {
   "cell_type": "code",
   "execution_count": 146,
   "outputs": [
    {
     "data": {
      "text/plain": "1213"
     },
     "execution_count": 146,
     "metadata": {},
     "output_type": "execute_result"
    }
   ],
   "source": [
    "df.machine_id.size"
   ],
   "metadata": {
    "collapsed": false,
    "ExecuteTime": {
     "end_time": "2023-07-29T17:37:15.448366700Z",
     "start_time": "2023-07-29T17:37:15.259323500Z"
    }
   }
  },
  {
   "cell_type": "code",
   "execution_count": 147,
   "outputs": [],
   "source": [
    "max_chunk = max_chunk[max_chunk.index.isin(df.machine_id)]"
   ],
   "metadata": {
    "collapsed": false,
    "ExecuteTime": {
     "end_time": "2023-07-29T17:37:19.882316200Z",
     "start_time": "2023-07-29T17:37:19.708167300Z"
    }
   }
  },
  {
   "cell_type": "code",
   "execution_count": 149,
   "outputs": [
    {
     "data": {
      "text/plain": "162      4\n274      8\n275      8\n283      6\n301      8\n        ..\n11834    1\n11835    1\n11836    1\n11837    1\n11840    5\nLength: 1213, dtype: int64"
     },
     "execution_count": 149,
     "metadata": {},
     "output_type": "execute_result"
    }
   ],
   "source": [
    "max_chunk.sort_index()"
   ],
   "metadata": {
    "collapsed": false,
    "ExecuteTime": {
     "end_time": "2023-07-29T17:37:25.731902200Z",
     "start_time": "2023-07-29T17:37:25.558856600Z"
    }
   }
  },
  {
   "cell_type": "code",
   "execution_count": 148,
   "outputs": [
    {
     "data": {
      "text/plain": "True"
     },
     "execution_count": 148,
     "metadata": {},
     "output_type": "execute_result"
    }
   ],
   "source": [
    "(df.set_index('machine_id').loc[max_chunk.index, 'num_gpus'] == max_chunk).all()"
   ],
   "metadata": {
    "collapsed": false,
    "ExecuteTime": {
     "end_time": "2023-07-29T17:37:23.054809500Z",
     "start_time": "2023-07-29T17:37:22.888771700Z"
    }
   }
  },
  {
   "cell_type": "code",
   "execution_count": 152,
   "outputs": [
    {
     "data": {
      "text/plain": "3690      7\n5919      4\n6312      4\n8384     11\n11693    12\ndtype: int64"
     },
     "execution_count": 152,
     "metadata": {},
     "output_type": "execute_result"
    }
   ],
   "source": [
    "max_chunk[~max_chunk.index.isin(df.machine_id)]"
   ],
   "metadata": {
    "collapsed": false,
    "ExecuteTime": {
     "end_time": "2023-07-29T17:38:00.172594Z",
     "start_time": "2023-07-29T17:37:59.987552400Z"
    }
   }
  },
  {
   "cell_type": "code",
   "execution_count": 159,
   "outputs": [
    {
     "data": {
      "text/plain": "      bundle_id  bw_nvlink  compute_cap  cpu_cores  cpu_cores_effective  \\\n250   314689779        0.0          860       32.0            32.000000   \n736   314689780        0.0          860       32.0            18.285728   \n1001  314689777        0.0          860       32.0            13.714272   \n1002  314689777        0.0          860       32.0            13.714272   \n1012  314689777        0.0          860       32.0            13.714272   \n2611  314689778        0.0          860       32.0             4.571424   \n\n                                        cpu_name  cpu_ram credit_balance  \\\n250   AMD Ryzen Threadripper PRO 3955WX 16-Cores   257566           None   \n736   AMD Ryzen Threadripper PRO 3955WX 16-Cores   257566           None   \n1001  AMD Ryzen Threadripper PRO 3955WX 16-Cores   257566           None   \n1002  AMD Ryzen Threadripper PRO 3955WX 16-Cores   257566           None   \n1012  AMD Ryzen Threadripper PRO 3955WX 16-Cores   257566           None   \n2611  AMD Ryzen Threadripper PRO 3955WX 16-Cores   257566           None   \n\n     credit_discount  credit_discount_max  ...  reliability2  rentable  \\\n250             None                  0.1  ...      0.997692     False   \n736             None                  0.1  ...      0.997692     False   \n1001            None                  0.1  ...      0.997692     False   \n1002            None                  0.1  ...      0.997692     False   \n1012            None                  0.1  ...      0.997692     False   \n2611            None                  0.1  ...      0.997692     False   \n\n          score  start_date  static_ip  storage_cost total_flops  \\\n250   64.169220         NaN       True          0.25   310.15680   \n736   84.933244         NaN       True          0.25   176.96256   \n1001  80.170319         NaN       True          0.25   133.19424   \n1002  81.377691         NaN       True          0.25   133.19424   \n1012  78.729211         NaN       True          0.25   132.24960   \n2611  76.957123         NaN       True          0.25    44.71296   \n\n      verification  verified   timestamp  \n250       verified      True  1690652116  \n736       verified      True  1690652116  \n1001      verified      True  1690652116  \n1002      verified      True  1690652116  \n1012      verified      True  1690652116  \n2611      verified      True  1690652116  \n\n[6 rows x 58 columns]",
      "text/html": "<div>\n<style scoped>\n    .dataframe tbody tr th:only-of-type {\n        vertical-align: middle;\n    }\n\n    .dataframe tbody tr th {\n        vertical-align: top;\n    }\n\n    .dataframe thead th {\n        text-align: right;\n    }\n</style>\n<table border=\"1\" class=\"dataframe\">\n  <thead>\n    <tr style=\"text-align: right;\">\n      <th></th>\n      <th>bundle_id</th>\n      <th>bw_nvlink</th>\n      <th>compute_cap</th>\n      <th>cpu_cores</th>\n      <th>cpu_cores_effective</th>\n      <th>cpu_name</th>\n      <th>cpu_ram</th>\n      <th>credit_balance</th>\n      <th>credit_discount</th>\n      <th>credit_discount_max</th>\n      <th>...</th>\n      <th>reliability2</th>\n      <th>rentable</th>\n      <th>score</th>\n      <th>start_date</th>\n      <th>static_ip</th>\n      <th>storage_cost</th>\n      <th>total_flops</th>\n      <th>verification</th>\n      <th>verified</th>\n      <th>timestamp</th>\n    </tr>\n  </thead>\n  <tbody>\n    <tr>\n      <th>250</th>\n      <td>314689779</td>\n      <td>0.0</td>\n      <td>860</td>\n      <td>32.0</td>\n      <td>32.000000</td>\n      <td>AMD Ryzen Threadripper PRO 3955WX 16-Cores</td>\n      <td>257566</td>\n      <td>None</td>\n      <td>None</td>\n      <td>0.1</td>\n      <td>...</td>\n      <td>0.997692</td>\n      <td>False</td>\n      <td>64.169220</td>\n      <td>NaN</td>\n      <td>True</td>\n      <td>0.25</td>\n      <td>310.15680</td>\n      <td>verified</td>\n      <td>True</td>\n      <td>1690652116</td>\n    </tr>\n    <tr>\n      <th>736</th>\n      <td>314689780</td>\n      <td>0.0</td>\n      <td>860</td>\n      <td>32.0</td>\n      <td>18.285728</td>\n      <td>AMD Ryzen Threadripper PRO 3955WX 16-Cores</td>\n      <td>257566</td>\n      <td>None</td>\n      <td>None</td>\n      <td>0.1</td>\n      <td>...</td>\n      <td>0.997692</td>\n      <td>False</td>\n      <td>84.933244</td>\n      <td>NaN</td>\n      <td>True</td>\n      <td>0.25</td>\n      <td>176.96256</td>\n      <td>verified</td>\n      <td>True</td>\n      <td>1690652116</td>\n    </tr>\n    <tr>\n      <th>1001</th>\n      <td>314689777</td>\n      <td>0.0</td>\n      <td>860</td>\n      <td>32.0</td>\n      <td>13.714272</td>\n      <td>AMD Ryzen Threadripper PRO 3955WX 16-Cores</td>\n      <td>257566</td>\n      <td>None</td>\n      <td>None</td>\n      <td>0.1</td>\n      <td>...</td>\n      <td>0.997692</td>\n      <td>False</td>\n      <td>80.170319</td>\n      <td>NaN</td>\n      <td>True</td>\n      <td>0.25</td>\n      <td>133.19424</td>\n      <td>verified</td>\n      <td>True</td>\n      <td>1690652116</td>\n    </tr>\n    <tr>\n      <th>1002</th>\n      <td>314689777</td>\n      <td>0.0</td>\n      <td>860</td>\n      <td>32.0</td>\n      <td>13.714272</td>\n      <td>AMD Ryzen Threadripper PRO 3955WX 16-Cores</td>\n      <td>257566</td>\n      <td>None</td>\n      <td>None</td>\n      <td>0.1</td>\n      <td>...</td>\n      <td>0.997692</td>\n      <td>False</td>\n      <td>81.377691</td>\n      <td>NaN</td>\n      <td>True</td>\n      <td>0.25</td>\n      <td>133.19424</td>\n      <td>verified</td>\n      <td>True</td>\n      <td>1690652116</td>\n    </tr>\n    <tr>\n      <th>1012</th>\n      <td>314689777</td>\n      <td>0.0</td>\n      <td>860</td>\n      <td>32.0</td>\n      <td>13.714272</td>\n      <td>AMD Ryzen Threadripper PRO 3955WX 16-Cores</td>\n      <td>257566</td>\n      <td>None</td>\n      <td>None</td>\n      <td>0.1</td>\n      <td>...</td>\n      <td>0.997692</td>\n      <td>False</td>\n      <td>78.729211</td>\n      <td>NaN</td>\n      <td>True</td>\n      <td>0.25</td>\n      <td>132.24960</td>\n      <td>verified</td>\n      <td>True</td>\n      <td>1690652116</td>\n    </tr>\n    <tr>\n      <th>2611</th>\n      <td>314689778</td>\n      <td>0.0</td>\n      <td>860</td>\n      <td>32.0</td>\n      <td>4.571424</td>\n      <td>AMD Ryzen Threadripper PRO 3955WX 16-Cores</td>\n      <td>257566</td>\n      <td>None</td>\n      <td>None</td>\n      <td>0.1</td>\n      <td>...</td>\n      <td>0.997692</td>\n      <td>False</td>\n      <td>76.957123</td>\n      <td>NaN</td>\n      <td>True</td>\n      <td>0.25</td>\n      <td>44.71296</td>\n      <td>verified</td>\n      <td>True</td>\n      <td>1690652116</td>\n    </tr>\n  </tbody>\n</table>\n<p>6 rows × 58 columns</p>\n</div>"
     },
     "execution_count": 159,
     "metadata": {},
     "output_type": "execute_result"
    }
   ],
   "source": [
    "# raw.loc[raw.machine_id == 3690, ['num_gpus', 'verified', 'rentable']]\n",
    "raw.loc[raw.machine_id == 3690]"
   ],
   "metadata": {
    "collapsed": false,
    "ExecuteTime": {
     "end_time": "2023-07-29T17:38:46.500437100Z",
     "start_time": "2023-07-29T17:38:46.308399300Z"
    }
   }
  },
  {
   "cell_type": "code",
   "execution_count": 21,
   "outputs": [
    {
     "name": "stdout",
     "output_type": "stream",
     "text": [
      "bw_nvlink                 ->          Missing values: 0 (0.00%)\n",
      "compute_cap               ->          Missing values: 0 (0.00%)\n",
      "cpu_cores                 ->          Missing values: 5 (0.41%)\n",
      "cpu_name                  ->          Missing values: 10 (0.83%)\n",
      "cpu_ram                   ->          Missing values: 0 (0.00%)\n",
      "credit_balance            ->          Missing values: 1212 (100.00%)\n",
      "credit_discount           ->          Missing values: 1212 (100.00%)\n",
      "credit_discount_max       ->          Missing values: 257 (21.20%)\n",
      "cuda_max_good             ->          Missing values: 0 (0.00%)\n",
      "direct_port_count         ->          Missing values: 0 (0.00%)\n",
      "discount_rate             ->          Missing values: 257 (21.20%)\n",
      "discounted_dph_total      ->          Missing values: 0 (0.00%)\n",
      "discounted_hourly         ->          Missing values: 0 (0.00%)\n",
      "disk_bw                   ->          Missing values: 1 (0.08%)\n",
      "disk_name                 ->          Missing values: 0 (0.00%)\n",
      "disk_space                ->          Missing values: 0 (0.00%)\n",
      "dlperf                    ->          Missing values: 0 (0.00%)\n",
      "dlperf_per_dphtotal       ->          Missing values: 0 (0.00%)\n",
      "dph_base                  ->          Missing values: 0 (0.00%)\n",
      "driver_version            ->          Missing values: 0 (0.00%)\n",
      "duration                  ->          Missing values: 417 (34.41%)\n",
      "end_date                  ->          Missing values: 417 (34.41%)\n",
      "flops_per_dphtotal        ->          Missing values: 0 (0.00%)\n",
      "geolocation               ->          Missing values: 3 (0.25%)\n",
      "gpu_display_active        ->          Missing values: 0 (0.00%)\n",
      "gpu_lanes                 ->          Missing values: 0 (0.00%)\n",
      "gpu_mem_bw                ->          Missing values: 0 (0.00%)\n",
      "gpu_name                  ->          Missing values: 0 (0.00%)\n",
      "gpu_ram                   ->          Missing values: 0 (0.00%)\n",
      "has_avx                   ->          Missing values: 5 (0.41%)\n",
      "host_id                   ->          Missing values: 0 (0.00%)\n",
      "host_run_time             ->          Missing values: 0 (0.00%)\n",
      "hosting_type              ->          Missing values: 1096 (90.43%)\n",
      "inet_down                 ->          Missing values: 0 (0.00%)\n",
      "inet_down_cost            ->          Missing values: 0 (0.00%)\n",
      "inet_up                   ->          Missing values: 0 (0.00%)\n",
      "inet_up_cost              ->          Missing values: 0 (0.00%)\n",
      "location                  ->          Missing values: 11 (0.91%)\n",
      "machine_id                ->          Missing values: 0 (0.00%)\n",
      "min_bid                   ->          Missing values: 0 (0.00%)\n",
      "min_chunk                 ->          Missing values: 0 (0.00%)\n",
      "mobo_name                 ->          Missing values: 52 (4.29%)\n",
      "num_gpus                  ->          Missing values: 0 (0.00%)\n",
      "num_gpus_rented           ->          Missing values: 0 (0.00%)\n",
      "pci_gen                   ->          Missing values: 0 (0.00%)\n",
      "pcie_bw                   ->          Missing values: 0 (0.00%)\n",
      "public_ipaddr             ->          Missing values: 0 (0.00%)\n",
      "reliability2              ->          Missing values: 0 (0.00%)\n",
      "score                     ->          Missing values: 0 (0.00%)\n",
      "start_date                ->          Missing values: 857 (70.71%)\n",
      "static_ip                 ->          Missing values: 0 (0.00%)\n",
      "storage_cost              ->          Missing values: 0 (0.00%)\n",
      "total_flops               ->          Missing values: 0 (0.00%)\n",
      "verification              ->          Missing values: 0 (0.00%)\n",
      "verified                  ->          Missing values: 0 (0.00%)\n",
      "timestamp                 ->          Missing values: 0 (0.00%)\n"
     ]
    },
    {
     "data": {
      "text/plain": "['credit_balance', 'credit_discount']"
     },
     "execution_count": 21,
     "metadata": {},
     "output_type": "execute_result"
    }
   ],
   "source": [
    "df_na_vals(df)"
   ],
   "metadata": {
    "collapsed": false,
    "ExecuteTime": {
     "end_time": "2023-07-29T14:02:25.117198700Z",
     "start_time": "2023-07-29T14:02:24.929156800Z"
    }
   }
  },
  {
   "cell_type": "code",
   "execution_count": 25,
   "outputs": [
    {
     "data": {
      "text/plain": "0               NaN\n1       1684.000000\n2       2626.785612\n3       1749.841967\n4       1220.300939\n           ...     \n1207    1933.792757\n1208     492.589678\n1209    1476.081213\n1210    1400.685966\n1211    2089.399414\nName: disk_bw, Length: 1212, dtype: float64"
     },
     "execution_count": 25,
     "metadata": {},
     "output_type": "execute_result"
    }
   ],
   "source": [
    "df.disk_bw"
   ],
   "metadata": {
    "collapsed": false,
    "ExecuteTime": {
     "end_time": "2023-07-29T15:29:14.681124200Z",
     "start_time": "2023-07-29T15:29:14.517086400Z"
    }
   }
  },
  {
   "cell_type": "code",
   "execution_count": 18,
   "outputs": [
    {
     "name": "stdout",
     "output_type": "stream",
     "text": [
      "<class 'pandas.core.frame.DataFrame'>\n",
      "RangeIndex: 1210 entries, 0 to 1209\n",
      "Data columns (total 44 columns):\n",
      " #   Column               Non-Null Count  Dtype \n",
      "---  ------               --------------  ----- \n",
      " 0   bw_nvlink            1210 non-null   int32 \n",
      " 1   compute_cap          1210 non-null   int32 \n",
      " 2   cpu_cores            1210 non-null   int32 \n",
      " 3   cpu_name             1210 non-null   object\n",
      " 4   cpu_ram              1210 non-null   int32 \n",
      " 5   credit_discount_max  1210 non-null   int32 \n",
      " 6   cuda_max_good        1210 non-null   object\n",
      " 7   direct_port_count    1210 non-null   int32 \n",
      " 8   disk_bw              1210 non-null   int32 \n",
      " 9   disk_name            1210 non-null   object\n",
      " 10  disk_space           1210 non-null   int32 \n",
      " 11  dlperf               1210 non-null   int32 \n",
      " 12  dph_base             1210 non-null   int32 \n",
      " 13  driver_version       1210 non-null   object\n",
      " 14  end_date             1210 non-null   int32 \n",
      " 15  gpu_display_active   1210 non-null   int32 \n",
      " 16  gpu_lanes            1210 non-null   int32 \n",
      " 17  gpu_mem_bw           1210 non-null   int32 \n",
      " 18  gpu_name             1210 non-null   object\n",
      " 19  gpu_ram              1210 non-null   int32 \n",
      " 20  has_avx              1210 non-null   int32 \n",
      " 21  host_id              1210 non-null   int32 \n",
      " 22  hosting_type         1210 non-null   int32 \n",
      " 23  inet_down            1210 non-null   int32 \n",
      " 24  inet_down_cost       1210 non-null   int32 \n",
      " 25  inet_up              1210 non-null   int32 \n",
      " 26  inet_up_cost         1210 non-null   int32 \n",
      " 27  machine_id           1210 non-null   int32 \n",
      " 28  min_bid              1210 non-null   int32 \n",
      " 29  min_chunk            1210 non-null   int32 \n",
      " 30  mobo_name            1210 non-null   object\n",
      " 31  num_gpus             1210 non-null   int32 \n",
      " 32  num_gpus_rented      1210 non-null   int32 \n",
      " 33  pci_gen              1210 non-null   int32 \n",
      " 34  pcie_bw              1210 non-null   int32 \n",
      " 35  public_ipaddr        1210 non-null   object\n",
      " 36  reliability          1210 non-null   int32 \n",
      " 37  score                1210 non-null   int32 \n",
      " 38  static_ip            1210 non-null   int32 \n",
      " 39  storage_cost         1210 non-null   int32 \n",
      " 40  total_flops          1210 non-null   int32 \n",
      " 41  verification         1210 non-null   int32 \n",
      " 42  timestamp            1210 non-null   int32 \n",
      " 43  country              1210 non-null   object\n",
      "dtypes: int32(36), object(8)\n",
      "memory usage: 245.9+ KB\n"
     ]
    }
   ],
   "source": [
    "df.info()"
   ],
   "metadata": {
    "collapsed": false,
    "ExecuteTime": {
     "end_time": "2023-07-29T13:38:33.330160200Z",
     "start_time": "2023-07-29T13:38:33.141113900Z"
    }
   }
  },
  {
   "cell_type": "code",
   "execution_count": 2,
   "outputs": [
    {
     "data": {
      "text/plain": "'C:\\\\Users\\\\ergot\\\\DataspellProjects\\\\vast'"
     },
     "execution_count": 2,
     "metadata": {},
     "output_type": "execute_result"
    }
   ],
   "source": [
    "os.getcwd()"
   ],
   "metadata": {
    "collapsed": false,
    "ExecuteTime": {
     "end_time": "2023-07-23T05:32:05.254946200Z",
     "start_time": "2023-07-23T05:32:05.237942200Z"
    }
   }
  },
  {
   "cell_type": "code",
   "execution_count": 3,
   "outputs": [],
   "source": [
    "conn = sqlite3.connect(f'test/test.db')\n",
    "# conn = sqlite3.connect(f'sqlite.db')\n"
   ],
   "metadata": {
    "collapsed": false,
    "ExecuteTime": {
     "end_time": "2023-07-23T05:47:20.950630900Z",
     "start_time": "2023-07-23T05:47:20.059431300Z"
    }
   }
  },
  {
   "cell_type": "code",
   "execution_count": 10,
   "outputs": [],
   "source": [
    "df = pd.DataFrame([{'id': 3, 'mid': 0}])\n",
    "df_to_tmp_table(df, 'tmp', conn)"
   ],
   "metadata": {
    "collapsed": false,
    "ExecuteTime": {
     "end_time": "2023-07-23T05:51:34.723963800Z",
     "start_time": "2023-07-23T05:51:34.593934600Z"
    }
   }
  },
  {
   "cell_type": "code",
   "execution_count": 11,
   "outputs": [
    {
     "data": {
      "text/plain": "['map_tbl', 'tmp']"
     },
     "execution_count": 11,
     "metadata": {},
     "output_type": "execute_result"
    }
   ],
   "source": [
    "get_tables(conn)"
   ],
   "metadata": {
    "collapsed": false,
    "ExecuteTime": {
     "end_time": "2023-07-23T05:51:36.884667400Z",
     "start_time": "2023-07-23T05:51:36.746840100Z"
    }
   }
  },
  {
   "cell_type": "code",
   "execution_count": 13,
   "outputs": [
    {
     "data": {
      "text/plain": "(3, 0)"
     },
     "execution_count": 13,
     "metadata": {},
     "output_type": "execute_result"
    }
   ],
   "source": [
    "conn.execute('SELECT * FROM tmp').fetchall()[0]"
   ],
   "metadata": {
    "collapsed": false,
    "ExecuteTime": {
     "end_time": "2023-07-23T05:53:11.434289600Z",
     "start_time": "2023-07-23T05:53:11.300259200Z"
    }
   }
  },
  {
   "cell_type": "code",
   "execution_count": 4,
   "outputs": [
    {
     "data": {
      "text/plain": "[('map_tbl',)]"
     },
     "execution_count": 4,
     "metadata": {},
     "output_type": "execute_result"
    }
   ],
   "source": [
    "conn.execute(f'''\n",
    "SELECT\n",
    "    name\n",
    "FROM\n",
    "    sqlite_master\n",
    "WHERE\n",
    "    type ='table' AND\n",
    "    name NOT LIKE 'sqlite_%';\n",
    "''').fetchall()"
   ],
   "metadata": {
    "collapsed": false,
    "ExecuteTime": {
     "end_time": "2023-07-23T05:47:23.015611Z",
     "start_time": "2023-07-23T05:47:22.890582300Z"
    }
   }
  },
  {
   "cell_type": "code",
   "execution_count": 65,
   "outputs": [],
   "source": [
    "conn.close()"
   ],
   "metadata": {
    "collapsed": false,
    "ExecuteTime": {
     "end_time": "2023-07-23T05:27:10.631668600Z",
     "start_time": "2023-07-23T05:27:10.618666200Z"
    }
   }
  },
  {
   "cell_type": "code",
   "execution_count": 18,
   "outputs": [
    {
     "data": {
      "text/plain": "   id  mid\n0   3    0",
      "text/html": "<div>\n<style scoped>\n    .dataframe tbody tr th:only-of-type {\n        vertical-align: middle;\n    }\n\n    .dataframe tbody tr th {\n        vertical-align: top;\n    }\n\n    .dataframe thead th {\n        text-align: right;\n    }\n</style>\n<table border=\"1\" class=\"dataframe\">\n  <thead>\n    <tr style=\"text-align: right;\">\n      <th></th>\n      <th>id</th>\n      <th>mid</th>\n    </tr>\n  </thead>\n  <tbody>\n    <tr>\n      <th>0</th>\n      <td>3</td>\n      <td>0</td>\n    </tr>\n  </tbody>\n</table>\n</div>"
     },
     "execution_count": 18,
     "metadata": {},
     "output_type": "execute_result"
    }
   ],
   "source": [
    "pd.DataFrame([{'id': 3, 'mid': 0}])"
   ],
   "metadata": {
    "collapsed": false,
    "ExecuteTime": {
     "end_time": "2023-07-23T05:40:19.339882Z",
     "start_time": "2023-07-23T05:40:19.326879300Z"
    }
   }
  },
  {
   "cell_type": "code",
   "execution_count": null,
   "outputs": [],
   "source": [
    "get_tables()"
   ],
   "metadata": {
    "collapsed": false
   }
  }
 ],
 "metadata": {
  "kernelspec": {
   "display_name": "Python 3",
   "language": "python",
   "name": "python3"
  },
  "language_info": {
   "codemirror_mode": {
    "name": "ipython",
    "version": 2
   },
   "file_extension": ".py",
   "mimetype": "text/x-python",
   "name": "python",
   "nbconvert_exporter": "python",
   "pygments_lexer": "ipython2",
   "version": "2.7.6"
  }
 },
 "nbformat": 4,
 "nbformat_minor": 0
}
