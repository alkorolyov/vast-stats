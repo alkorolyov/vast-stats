{
 "cells": [
  {
   "metadata": {
    "ExecuteTime": {
     "end_time": "2024-04-14T05:04:45.932768Z",
     "start_time": "2024-04-14T05:04:45.925768Z"
    }
   },
   "cell_type": "code",
   "source": [
    "import pandas as pd\n",
    "\n",
    "d = {}\n",
    "len(d.get('id', []))"
   ],
   "id": "d79c9a446fc3b2a3",
   "outputs": [
    {
     "data": {
      "text/plain": [
       "0"
      ]
     },
     "execution_count": 9,
     "metadata": {},
     "output_type": "execute_result"
    }
   ],
   "execution_count": 9
  },
  {
   "metadata": {
    "ExecuteTime": {
     "end_time": "2024-04-14T05:11:51.258244Z",
     "start_time": "2024-04-14T05:11:51.241248Z"
    }
   },
   "cell_type": "code",
   "source": "import pandas as pd",
   "id": "5338b98344fcbbec",
   "outputs": [],
   "execution_count": 11
  },
  {
   "metadata": {
    "ExecuteTime": {
     "end_time": "2024-04-14T05:13:21.414713Z",
     "start_time": "2024-04-14T05:13:21.406713Z"
    }
   },
   "cell_type": "code",
   "source": "int(pd.to_datetime('20200401').timestamp())",
   "id": "f1b222247a07ba33",
   "outputs": [
    {
     "data": {
      "text/plain": [
       "1585699200"
      ]
     },
     "execution_count": 24,
     "metadata": {},
     "output_type": "execute_result"
    }
   ],
   "execution_count": 24
  }
 ],
 "metadata": {
  "kernelspec": {
   "display_name": "Python 3",
   "language": "python",
   "name": "python3"
  },
  "language_info": {
   "codemirror_mode": {
    "name": "ipython",
    "version": 2
   },
   "file_extension": ".py",
   "mimetype": "text/x-python",
   "name": "python",
   "nbconvert_exporter": "python",
   "pygments_lexer": "ipython2",
   "version": "2.7.6"
  }
 },
 "nbformat": 4,
 "nbformat_minor": 5
}
