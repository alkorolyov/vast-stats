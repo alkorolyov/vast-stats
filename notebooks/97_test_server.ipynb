{
 "cells": [
  {
   "metadata": {
    "ExecuteTime": {
     "end_time": "2024-04-18T04:12:12.631907Z",
     "start_time": "2024-04-18T04:12:11.795907Z"
    }
   },
   "cell_type": "code",
   "source": [
    "import pandas as pd\n",
    "\n",
    "d = {}\n",
    "len(d.pop('id', []))"
   ],
   "id": "d79c9a446fc3b2a3",
   "outputs": [
    {
     "data": {
      "text/plain": [
       "0"
      ]
     },
     "execution_count": 1,
     "metadata": {},
     "output_type": "execute_result"
    }
   ],
   "execution_count": 1
  },
  {
   "metadata": {
    "ExecuteTime": {
     "end_time": "2024-04-18T05:27:32.148356Z",
     "start_time": "2024-04-18T05:27:31.790357Z"
    }
   },
   "cell_type": "code",
   "source": [
    "import sqlite3\n",
    "conn = sqlite3.connect('../vast.db')\n",
    "df1 = pd.read_sql(\"SELECT * FROM reliability_ts WHERE machine_id=4557\", conn)\n",
    "df2 = pd.read_sql(\"SELECT * FROM cost_ts WHERE machine_id=4557\", conn)\n",
    "conn.close()"
   ],
   "id": "46c9b9c481e9019a",
   "outputs": [],
   "execution_count": 64
  },
  {
   "metadata": {},
   "cell_type": "code",
   "outputs": [],
   "execution_count": null,
   "source": "",
   "id": "2ef2bb0e57662466"
  },
  {
   "metadata": {
    "ExecuteTime": {
     "end_time": "2024-04-18T05:27:34.234644Z",
     "start_time": "2024-04-18T05:27:34.113646Z"
    }
   },
   "cell_type": "code",
   "source": [
    "def json_to_dict(df1, df2):\n",
    "    combined = {\n",
    "        'reliability_ts': df1.to_dict(orient='records'),\n",
    "        'rent_ts': df2.to_dict(orient='records'),\n",
    "    }\n",
    "    json.dumps(combined)\n",
    "    \n",
    "def df_str_json(df1, df2):\n",
    "    data1 = df1.to_json(orient='records')\n",
    "    data2 = df2.to_json(orient='records')\n",
    "    combined_data = f'{{ \"data1\": {data1}, \"data2\": {data2} }}'\n",
    "\n",
    "%time json_to_dict(df1, df2)\n",
    "%time df_str_json(df1, df2)"
   ],
   "id": "c385dcb809a66ed4",
   "outputs": [
    {
     "name": "stdout",
     "output_type": "stream",
     "text": [
      "CPU times: total: 109 ms\n",
      "Wall time: 84 ms\n",
      "CPU times: total: 15.6 ms\n",
      "Wall time: 26 ms\n"
     ]
    }
   ],
   "execution_count": 65
  },
  {
   "metadata": {},
   "cell_type": "code",
   "outputs": [],
   "execution_count": null,
   "source": "",
   "id": "b614fb9f7de82072"
  },
  {
   "metadata": {
    "ExecuteTime": {
     "end_time": "2024-04-18T05:23:36.178784Z",
     "start_time": "2024-04-18T05:23:36.108783Z"
    }
   },
   "cell_type": "code",
   "source": [
    "%time _ = df.to_json(orient='records')\n",
    "%time _ = df.to_dict(orient='records')"
   ],
   "id": "4d5e76d9378c2da",
   "outputs": [
    {
     "name": "stdout",
     "output_type": "stream",
     "text": [
      "CPU times: total: 15.6 ms\n",
      "Wall time: 24 ms\n",
      "CPU times: total: 46.9 ms\n",
      "Wall time: 38 ms\n"
     ]
    }
   ],
   "execution_count": 56
  },
  {
   "metadata": {
    "ExecuteTime": {
     "end_time": "2024-04-18T07:51:17.686804Z",
     "start_time": "2024-04-18T07:51:17.673808Z"
    }
   },
   "cell_type": "code",
   "source": [
    "import pandas as pd\n",
    "\n",
    "def milliseconds_to_string(ms):\n",
    "    # Convert milliseconds to a pandas Timedelta object\n",
    "    duration = pd.Timedelta(milliseconds=ms)\n",
    "    \n",
    "    # Use the Timedelta object to pop days, hours, minutes, and seconds\n",
    "    days = duration.days\n",
    "    hours = duration.components.hours\n",
    "    minutes = duration.components.minutes\n",
    "    seconds = duration.components.seconds\n",
    "    \n",
    "    # Construct a readable string\n",
    "    if days > 0:\n",
    "        return f\"{days} days, {hours} hours, {minutes} minutes, {seconds} seconds\"\n",
    "    else:\n",
    "        return f\"{hours} hours, {minutes} minutes, {seconds} seconds\"\n",
    "\n",
    "# Example usage\n",
    "ms = 123456789\n",
    "duration = pd.Timedelta(milliseconds=ms)\n",
    "hours = duration.components.hours\n",
    "minutes = duration.components.minutes\n",
    "seconds = duration.components.seconds\n",
    "f\"{hours}:{minutes}:{seconds}\"\n"
   ],
   "id": "5602d856b65e809c",
   "outputs": [
    {
     "data": {
      "text/plain": [
       "'10:17:36'"
      ]
     },
     "execution_count": 77,
     "metadata": {},
     "output_type": "execute_result"
    }
   ],
   "execution_count": 77
  },
  {
   "metadata": {
    "ExecuteTime": {
     "end_time": "2024-04-18T05:09:03.975789Z",
     "start_time": "2024-04-18T05:09:03.956790Z"
    }
   },
   "cell_type": "code",
   "source": [
    "import pandas as pd\n",
    "import json\n",
    "\n",
    "# Assuming df1, df2, and df3 are your pandas DataFrames\n",
    "# For demonstration purposes, let's create some sample DataFrames\n",
    "df1 = pd.DataFrame({'A': [1, 2, 3], 'B': [4, 5, 6]})\n",
    "df2 = pd.DataFrame({'C': [7, 8, 9], 'D': [10, 11, 12]})\n",
    "df3 = pd.DataFrame({'E': [13, 14, 15], 'F': [16, 17, 18]})\n",
    "\n",
    "# Convert DataFrames to dictionaries\n",
    "data1 = df1.to_json(orient='records')\n",
    "data2 = df2.to_json(orient='records')\n",
    "data3 = df3.to_json(orient='records')\n",
    "\n",
    "# Combine dictionaries into one\n",
    "combined_data = f'{{ \"data1\": {data1}, \"data2\": {data2} }}'\n",
    "\n",
    "json.loads(combined_data)\n",
    "\n",
    "# Convert combined data to JSON\n",
    "# json_data = json.dumps(combined_data)\n",
    "\n",
    "# Output or save the JSON data\n",
    "# print(json_data)\n",
    "# Or save it to a file\n"
   ],
   "id": "61aaa77e69a62cff",
   "outputs": [
    {
     "data": {
      "text/plain": [
       "{'data1': [{'A': 1, 'B': 4}, {'A': 2, 'B': 5}, {'A': 3, 'B': 6}],\n",
       " 'data2': [{'C': 7, 'D': 10}, {'C': 8, 'D': 11}, {'C': 9, 'D': 12}]}"
      ]
     },
     "execution_count": 50,
     "metadata": {},
     "output_type": "execute_result"
    }
   ],
   "execution_count": 50
  },
  {
   "metadata": {
    "ExecuteTime": {
     "end_time": "2024-04-18T05:12:18.291621Z",
     "start_time": "2024-04-18T05:12:18.282621Z"
    }
   },
   "cell_type": "code",
   "source": [
    "result = {\n",
    "    'data1': data1,\n",
    "    'data2': data2,\n",
    "}\n",
    "json.loads('{' + ','.join([f'\"{k}\": {v}' for (k,v) in result.items()]) + '}')"
   ],
   "id": "a5f3036752b675a5",
   "outputs": [
    {
     "data": {
      "text/plain": [
       "{'data1': [{'A': 1, 'B': 4}, {'A': 2, 'B': 5}, {'A': 3, 'B': 6}],\n",
       " 'data2': [{'C': 7, 'D': 10}, {'C': 8, 'D': 11}, {'C': 9, 'D': 12}]}"
      ]
     },
     "execution_count": 54,
     "metadata": {},
     "output_type": "execute_result"
    }
   ],
   "execution_count": 54
  },
  {
   "metadata": {
    "ExecuteTime": {
     "end_time": "2024-04-18T05:05:22.405951Z",
     "start_time": "2024-04-18T05:05:22.389950Z"
    }
   },
   "cell_type": "code",
   "source": [
    "key = \"example_key\"\n",
    "value = \"example_value\"\n",
    "f'{{\"{key}\": \"{value}\"}}'"
   ],
   "id": "84bbfd5bf6365494",
   "outputs": [
    {
     "data": {
      "text/plain": [
       "'{\"example_key\": \"example_value\"}'"
      ]
     },
     "execution_count": 46,
     "metadata": {},
     "output_type": "execute_result"
    }
   ],
   "execution_count": 46
  },
  {
   "metadata": {
    "ExecuteTime": {
     "end_time": "2024-04-18T04:59:55.326910Z",
     "start_time": "2024-04-18T04:59:55.312909Z"
    }
   },
   "cell_type": "code",
   "source": "json.loads(json_data)",
   "id": "379e157720edc566",
   "outputs": [
    {
     "data": {
      "text/plain": [
       "{'data1': [{'A': 1, 'B': 4}, {'A': 2, 'B': 5}, {'A': 3, 'B': 6}],\n",
       " 'data2': [{'C': 7, 'D': 10}, {'C': 8, 'D': 11}, {'C': 9, 'D': 12}],\n",
       " 'data3': [{'E': 13, 'F': 16}, {'E': 14, 'F': 17}, {'E': 15, 'F': 18}]}"
      ]
     },
     "execution_count": 37,
     "metadata": {},
     "output_type": "execute_result"
    }
   ],
   "execution_count": 37
  },
  {
   "metadata": {
    "ExecuteTime": {
     "end_time": "2024-04-18T04:29:53.465591Z",
     "start_time": "2024-04-18T04:29:53.446541Z"
    }
   },
   "cell_type": "code",
   "source": [
    "df = pd.DataFrame([1, 2, 3, 4])\n",
    "df2 = pd.DataFrame([3, 4])\n",
    "json_b = df.to_json(orient='records').encode('UTF-8') + df2.to_json(orient='records').encode('UTF-8') \n",
    "json_b "
   ],
   "id": "598de6c188cc9508",
   "outputs": [
    {
     "data": {
      "text/plain": [
       "b'[{\"0\":1},{\"0\":2},{\"0\":3},{\"0\":4}][{\"0\":3},{\"0\":4}]'"
      ]
     },
     "execution_count": 12,
     "metadata": {},
     "output_type": "execute_result"
    }
   ],
   "execution_count": 12
  },
  {
   "metadata": {
    "ExecuteTime": {
     "end_time": "2024-04-18T04:52:19.506747Z",
     "start_time": "2024-04-18T04:52:19.492081Z"
    }
   },
   "cell_type": "code",
   "source": "%time df.to_dict(orient='records')",
   "id": "9dda73e32b8c9fcf",
   "outputs": [
    {
     "name": "stdout",
     "output_type": "stream",
     "text": [
      "CPU times: total: 0 ns\n",
      "Wall time: 1 ms\n"
     ]
    },
    {
     "data": {
      "text/plain": [
       "[{0: 1}, {0: 2}, {0: 3}, {0: 4}]"
      ]
     },
     "execution_count": 20,
     "metadata": {},
     "output_type": "execute_result"
    }
   ],
   "execution_count": 20
  },
  {
   "metadata": {
    "ExecuteTime": {
     "end_time": "2024-04-18T04:29:57.257443Z",
     "start_time": "2024-04-18T04:29:56.611416Z"
    }
   },
   "cell_type": "code",
   "source": "pd.read_json(json_b)",
   "id": "2e68b3680ccc63f4",
   "outputs": [
    {
     "ename": "TypeError",
     "evalue": "Expected file path name or file-like object, got <class 'bytes'> type",
     "output_type": "error",
     "traceback": [
      "\u001B[1;31m---------------------------------------------------------------------------\u001B[0m",
      "\u001B[1;31mTypeError\u001B[0m                                 Traceback (most recent call last)",
      "Cell \u001B[1;32mIn[13], line 1\u001B[0m\n\u001B[1;32m----> 1\u001B[0m \u001B[43mpd\u001B[49m\u001B[38;5;241;43m.\u001B[39;49m\u001B[43mread_json\u001B[49m\u001B[43m(\u001B[49m\u001B[43mjson_b\u001B[49m\u001B[43m)\u001B[49m\n",
      "File \u001B[1;32m~\\mambaforge\\envs\\ml\\lib\\site-packages\\pandas\\io\\json\\_json.py:760\u001B[0m, in \u001B[0;36mread_json\u001B[1;34m(path_or_buf, orient, typ, dtype, convert_axes, convert_dates, keep_default_dates, precise_float, date_unit, encoding, encoding_errors, lines, chunksize, compression, nrows, storage_options, dtype_backend, engine)\u001B[0m\n\u001B[0;32m    757\u001B[0m \u001B[38;5;28;01mif\u001B[39;00m convert_axes \u001B[38;5;129;01mis\u001B[39;00m \u001B[38;5;28;01mNone\u001B[39;00m \u001B[38;5;129;01mand\u001B[39;00m orient \u001B[38;5;241m!=\u001B[39m \u001B[38;5;124m\"\u001B[39m\u001B[38;5;124mtable\u001B[39m\u001B[38;5;124m\"\u001B[39m:\n\u001B[0;32m    758\u001B[0m     convert_axes \u001B[38;5;241m=\u001B[39m \u001B[38;5;28;01mTrue\u001B[39;00m\n\u001B[1;32m--> 760\u001B[0m json_reader \u001B[38;5;241m=\u001B[39m \u001B[43mJsonReader\u001B[49m\u001B[43m(\u001B[49m\n\u001B[0;32m    761\u001B[0m \u001B[43m    \u001B[49m\u001B[43mpath_or_buf\u001B[49m\u001B[43m,\u001B[49m\n\u001B[0;32m    762\u001B[0m \u001B[43m    \u001B[49m\u001B[43morient\u001B[49m\u001B[38;5;241;43m=\u001B[39;49m\u001B[43morient\u001B[49m\u001B[43m,\u001B[49m\n\u001B[0;32m    763\u001B[0m \u001B[43m    \u001B[49m\u001B[43mtyp\u001B[49m\u001B[38;5;241;43m=\u001B[39;49m\u001B[43mtyp\u001B[49m\u001B[43m,\u001B[49m\n\u001B[0;32m    764\u001B[0m \u001B[43m    \u001B[49m\u001B[43mdtype\u001B[49m\u001B[38;5;241;43m=\u001B[39;49m\u001B[43mdtype\u001B[49m\u001B[43m,\u001B[49m\n\u001B[0;32m    765\u001B[0m \u001B[43m    \u001B[49m\u001B[43mconvert_axes\u001B[49m\u001B[38;5;241;43m=\u001B[39;49m\u001B[43mconvert_axes\u001B[49m\u001B[43m,\u001B[49m\n\u001B[0;32m    766\u001B[0m \u001B[43m    \u001B[49m\u001B[43mconvert_dates\u001B[49m\u001B[38;5;241;43m=\u001B[39;49m\u001B[43mconvert_dates\u001B[49m\u001B[43m,\u001B[49m\n\u001B[0;32m    767\u001B[0m \u001B[43m    \u001B[49m\u001B[43mkeep_default_dates\u001B[49m\u001B[38;5;241;43m=\u001B[39;49m\u001B[43mkeep_default_dates\u001B[49m\u001B[43m,\u001B[49m\n\u001B[0;32m    768\u001B[0m \u001B[43m    \u001B[49m\u001B[43mprecise_float\u001B[49m\u001B[38;5;241;43m=\u001B[39;49m\u001B[43mprecise_float\u001B[49m\u001B[43m,\u001B[49m\n\u001B[0;32m    769\u001B[0m \u001B[43m    \u001B[49m\u001B[43mdate_unit\u001B[49m\u001B[38;5;241;43m=\u001B[39;49m\u001B[43mdate_unit\u001B[49m\u001B[43m,\u001B[49m\n\u001B[0;32m    770\u001B[0m \u001B[43m    \u001B[49m\u001B[43mencoding\u001B[49m\u001B[38;5;241;43m=\u001B[39;49m\u001B[43mencoding\u001B[49m\u001B[43m,\u001B[49m\n\u001B[0;32m    771\u001B[0m \u001B[43m    \u001B[49m\u001B[43mlines\u001B[49m\u001B[38;5;241;43m=\u001B[39;49m\u001B[43mlines\u001B[49m\u001B[43m,\u001B[49m\n\u001B[0;32m    772\u001B[0m \u001B[43m    \u001B[49m\u001B[43mchunksize\u001B[49m\u001B[38;5;241;43m=\u001B[39;49m\u001B[43mchunksize\u001B[49m\u001B[43m,\u001B[49m\n\u001B[0;32m    773\u001B[0m \u001B[43m    \u001B[49m\u001B[43mcompression\u001B[49m\u001B[38;5;241;43m=\u001B[39;49m\u001B[43mcompression\u001B[49m\u001B[43m,\u001B[49m\n\u001B[0;32m    774\u001B[0m \u001B[43m    \u001B[49m\u001B[43mnrows\u001B[49m\u001B[38;5;241;43m=\u001B[39;49m\u001B[43mnrows\u001B[49m\u001B[43m,\u001B[49m\n\u001B[0;32m    775\u001B[0m \u001B[43m    \u001B[49m\u001B[43mstorage_options\u001B[49m\u001B[38;5;241;43m=\u001B[39;49m\u001B[43mstorage_options\u001B[49m\u001B[43m,\u001B[49m\n\u001B[0;32m    776\u001B[0m \u001B[43m    \u001B[49m\u001B[43mencoding_errors\u001B[49m\u001B[38;5;241;43m=\u001B[39;49m\u001B[43mencoding_errors\u001B[49m\u001B[43m,\u001B[49m\n\u001B[0;32m    777\u001B[0m \u001B[43m    \u001B[49m\u001B[43mdtype_backend\u001B[49m\u001B[38;5;241;43m=\u001B[39;49m\u001B[43mdtype_backend\u001B[49m\u001B[43m,\u001B[49m\n\u001B[0;32m    778\u001B[0m \u001B[43m    \u001B[49m\u001B[43mengine\u001B[49m\u001B[38;5;241;43m=\u001B[39;49m\u001B[43mengine\u001B[49m\u001B[43m,\u001B[49m\n\u001B[0;32m    779\u001B[0m \u001B[43m\u001B[49m\u001B[43m)\u001B[49m\n\u001B[0;32m    781\u001B[0m \u001B[38;5;28;01mif\u001B[39;00m chunksize:\n\u001B[0;32m    782\u001B[0m     \u001B[38;5;28;01mreturn\u001B[39;00m json_reader\n",
      "File \u001B[1;32m~\\mambaforge\\envs\\ml\\lib\\site-packages\\pandas\\io\\json\\_json.py:861\u001B[0m, in \u001B[0;36mJsonReader.__init__\u001B[1;34m(self, filepath_or_buffer, orient, typ, dtype, convert_axes, convert_dates, keep_default_dates, precise_float, date_unit, encoding, lines, chunksize, compression, nrows, storage_options, encoding_errors, dtype_backend, engine)\u001B[0m\n\u001B[0;32m    859\u001B[0m     \u001B[38;5;28mself\u001B[39m\u001B[38;5;241m.\u001B[39mdata \u001B[38;5;241m=\u001B[39m filepath_or_buffer\n\u001B[0;32m    860\u001B[0m \u001B[38;5;28;01melif\u001B[39;00m \u001B[38;5;28mself\u001B[39m\u001B[38;5;241m.\u001B[39mengine \u001B[38;5;241m==\u001B[39m \u001B[38;5;124m\"\u001B[39m\u001B[38;5;124mujson\u001B[39m\u001B[38;5;124m\"\u001B[39m:\n\u001B[1;32m--> 861\u001B[0m     data \u001B[38;5;241m=\u001B[39m \u001B[38;5;28;43mself\u001B[39;49m\u001B[38;5;241;43m.\u001B[39;49m\u001B[43m_get_data_from_filepath\u001B[49m\u001B[43m(\u001B[49m\u001B[43mfilepath_or_buffer\u001B[49m\u001B[43m)\u001B[49m\n\u001B[0;32m    862\u001B[0m     \u001B[38;5;28mself\u001B[39m\u001B[38;5;241m.\u001B[39mdata \u001B[38;5;241m=\u001B[39m \u001B[38;5;28mself\u001B[39m\u001B[38;5;241m.\u001B[39m_preprocess_data(data)\n",
      "File \u001B[1;32m~\\mambaforge\\envs\\ml\\lib\\site-packages\\pandas\\io\\json\\_json.py:901\u001B[0m, in \u001B[0;36mJsonReader._get_data_from_filepath\u001B[1;34m(self, filepath_or_buffer)\u001B[0m\n\u001B[0;32m    894\u001B[0m filepath_or_buffer \u001B[38;5;241m=\u001B[39m stringify_path(filepath_or_buffer)\n\u001B[0;32m    895\u001B[0m \u001B[38;5;28;01mif\u001B[39;00m (\n\u001B[0;32m    896\u001B[0m     \u001B[38;5;129;01mnot\u001B[39;00m \u001B[38;5;28misinstance\u001B[39m(filepath_or_buffer, \u001B[38;5;28mstr\u001B[39m)\n\u001B[0;32m    897\u001B[0m     \u001B[38;5;129;01mor\u001B[39;00m is_url(filepath_or_buffer)\n\u001B[0;32m    898\u001B[0m     \u001B[38;5;129;01mor\u001B[39;00m is_fsspec_url(filepath_or_buffer)\n\u001B[0;32m    899\u001B[0m     \u001B[38;5;129;01mor\u001B[39;00m file_exists(filepath_or_buffer)\n\u001B[0;32m    900\u001B[0m ):\n\u001B[1;32m--> 901\u001B[0m     \u001B[38;5;28mself\u001B[39m\u001B[38;5;241m.\u001B[39mhandles \u001B[38;5;241m=\u001B[39m \u001B[43mget_handle\u001B[49m\u001B[43m(\u001B[49m\n\u001B[0;32m    902\u001B[0m \u001B[43m        \u001B[49m\u001B[43mfilepath_or_buffer\u001B[49m\u001B[43m,\u001B[49m\n\u001B[0;32m    903\u001B[0m \u001B[43m        \u001B[49m\u001B[38;5;124;43m\"\u001B[39;49m\u001B[38;5;124;43mr\u001B[39;49m\u001B[38;5;124;43m\"\u001B[39;49m\u001B[43m,\u001B[49m\n\u001B[0;32m    904\u001B[0m \u001B[43m        \u001B[49m\u001B[43mencoding\u001B[49m\u001B[38;5;241;43m=\u001B[39;49m\u001B[38;5;28;43mself\u001B[39;49m\u001B[38;5;241;43m.\u001B[39;49m\u001B[43mencoding\u001B[49m\u001B[43m,\u001B[49m\n\u001B[0;32m    905\u001B[0m \u001B[43m        \u001B[49m\u001B[43mcompression\u001B[49m\u001B[38;5;241;43m=\u001B[39;49m\u001B[38;5;28;43mself\u001B[39;49m\u001B[38;5;241;43m.\u001B[39;49m\u001B[43mcompression\u001B[49m\u001B[43m,\u001B[49m\n\u001B[0;32m    906\u001B[0m \u001B[43m        \u001B[49m\u001B[43mstorage_options\u001B[49m\u001B[38;5;241;43m=\u001B[39;49m\u001B[38;5;28;43mself\u001B[39;49m\u001B[38;5;241;43m.\u001B[39;49m\u001B[43mstorage_options\u001B[49m\u001B[43m,\u001B[49m\n\u001B[0;32m    907\u001B[0m \u001B[43m        \u001B[49m\u001B[43merrors\u001B[49m\u001B[38;5;241;43m=\u001B[39;49m\u001B[38;5;28;43mself\u001B[39;49m\u001B[38;5;241;43m.\u001B[39;49m\u001B[43mencoding_errors\u001B[49m\u001B[43m,\u001B[49m\n\u001B[0;32m    908\u001B[0m \u001B[43m    \u001B[49m\u001B[43m)\u001B[49m\n\u001B[0;32m    909\u001B[0m     filepath_or_buffer \u001B[38;5;241m=\u001B[39m \u001B[38;5;28mself\u001B[39m\u001B[38;5;241m.\u001B[39mhandles\u001B[38;5;241m.\u001B[39mhandle\n\u001B[0;32m    910\u001B[0m \u001B[38;5;28;01melif\u001B[39;00m (\n\u001B[0;32m    911\u001B[0m     \u001B[38;5;28misinstance\u001B[39m(filepath_or_buffer, \u001B[38;5;28mstr\u001B[39m)\n\u001B[0;32m    912\u001B[0m     \u001B[38;5;129;01mand\u001B[39;00m filepath_or_buffer\u001B[38;5;241m.\u001B[39mlower()\u001B[38;5;241m.\u001B[39mendswith(\n\u001B[1;32m   (...)\u001B[0m\n\u001B[0;32m    915\u001B[0m     \u001B[38;5;129;01mand\u001B[39;00m \u001B[38;5;129;01mnot\u001B[39;00m file_exists(filepath_or_buffer)\n\u001B[0;32m    916\u001B[0m ):\n",
      "File \u001B[1;32m~\\mambaforge\\envs\\ml\\lib\\site-packages\\pandas\\io\\common.py:903\u001B[0m, in \u001B[0;36mget_handle\u001B[1;34m(path_or_buf, mode, encoding, compression, memory_map, is_text, errors, storage_options)\u001B[0m\n\u001B[0;32m    898\u001B[0m     is_wrapped \u001B[38;5;241m=\u001B[39m \u001B[38;5;129;01mnot\u001B[39;00m (\n\u001B[0;32m    899\u001B[0m         \u001B[38;5;28misinstance\u001B[39m(ioargs\u001B[38;5;241m.\u001B[39mfilepath_or_buffer, \u001B[38;5;28mstr\u001B[39m) \u001B[38;5;129;01mor\u001B[39;00m ioargs\u001B[38;5;241m.\u001B[39mshould_close\n\u001B[0;32m    900\u001B[0m     )\n\u001B[0;32m    902\u001B[0m \u001B[38;5;28;01mif\u001B[39;00m \u001B[38;5;124m\"\u001B[39m\u001B[38;5;124mr\u001B[39m\u001B[38;5;124m\"\u001B[39m \u001B[38;5;129;01min\u001B[39;00m ioargs\u001B[38;5;241m.\u001B[39mmode \u001B[38;5;129;01mand\u001B[39;00m \u001B[38;5;129;01mnot\u001B[39;00m \u001B[38;5;28mhasattr\u001B[39m(handle, \u001B[38;5;124m\"\u001B[39m\u001B[38;5;124mread\u001B[39m\u001B[38;5;124m\"\u001B[39m):\n\u001B[1;32m--> 903\u001B[0m     \u001B[38;5;28;01mraise\u001B[39;00m \u001B[38;5;167;01mTypeError\u001B[39;00m(\n\u001B[0;32m    904\u001B[0m         \u001B[38;5;124m\"\u001B[39m\u001B[38;5;124mExpected file path name or file-like object, \u001B[39m\u001B[38;5;124m\"\u001B[39m\n\u001B[0;32m    905\u001B[0m         \u001B[38;5;124mf\u001B[39m\u001B[38;5;124m\"\u001B[39m\u001B[38;5;124mgot \u001B[39m\u001B[38;5;132;01m{\u001B[39;00m\u001B[38;5;28mtype\u001B[39m(ioargs\u001B[38;5;241m.\u001B[39mfilepath_or_buffer)\u001B[38;5;132;01m}\u001B[39;00m\u001B[38;5;124m type\u001B[39m\u001B[38;5;124m\"\u001B[39m\n\u001B[0;32m    906\u001B[0m     )\n\u001B[0;32m    908\u001B[0m handles\u001B[38;5;241m.\u001B[39mreverse()  \u001B[38;5;66;03m# close the most recently added buffer first\u001B[39;00m\n\u001B[0;32m    909\u001B[0m \u001B[38;5;28;01mif\u001B[39;00m ioargs\u001B[38;5;241m.\u001B[39mshould_close:\n",
      "\u001B[1;31mTypeError\u001B[0m: Expected file path name or file-like object, got <class 'bytes'> type"
     ]
    }
   ],
   "execution_count": 13
  },
  {
   "metadata": {
    "ExecuteTime": {
     "end_time": "2024-04-14T05:11:51.258244Z",
     "start_time": "2024-04-14T05:11:51.241248Z"
    }
   },
   "cell_type": "code",
   "source": "import pandas as pd",
   "id": "5338b98344fcbbec",
   "outputs": [],
   "execution_count": 11
  },
  {
   "metadata": {
    "ExecuteTime": {
     "end_time": "2024-04-14T05:13:21.414713Z",
     "start_time": "2024-04-14T05:13:21.406713Z"
    }
   },
   "cell_type": "code",
   "source": "int(pd.to_datetime('20200401').timestamp())",
   "id": "f1b222247a07ba33",
   "outputs": [
    {
     "data": {
      "text/plain": [
       "1585699200"
      ]
     },
     "execution_count": 24,
     "metadata": {},
     "output_type": "execute_result"
    }
   ],
   "execution_count": 24
  }
 ],
 "metadata": {
  "kernelspec": {
   "display_name": "Python 3",
   "language": "python",
   "name": "python3"
  },
  "language_info": {
   "codemirror_mode": {
    "name": "ipython",
    "version": 2
   },
   "file_extension": ".py",
   "mimetype": "text/x-python",
   "name": "python",
   "nbconvert_exporter": "python",
   "pygments_lexer": "ipython2",
   "version": "2.7.6"
  }
 },
 "nbformat": 4,
 "nbformat_minor": 5
}
