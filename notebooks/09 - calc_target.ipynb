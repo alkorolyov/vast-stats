{
 "cells": [
  {
   "cell_type": "code",
   "execution_count": 1,
   "metadata": {
    "collapsed": true,
    "ExecuteTime": {
     "end_time": "2023-10-22T09:22:13.238892Z",
     "start_time": "2023-10-22T09:22:13.096860900Z"
    }
   },
   "outputs": [],
   "source": [
    "import matplotlib.pyplot as plt\n",
    "import pandas as pd\n",
    "import numpy as np\n",
    "import requests\n",
    "\n",
    "import seaborn as sns\n",
    "import matplotlib.pyplot as plt"
   ]
  },
  {
   "cell_type": "code",
   "execution_count": 2,
   "outputs": [],
   "source": [
    "from src.manager import DbManager\n",
    "\n",
    "dbm = DbManager('../data/vast.db')\n",
    "dbm.connect()"
   ],
   "metadata": {
    "collapsed": false,
    "ExecuteTime": {
     "end_time": "2023-10-22T09:22:13.251895Z",
     "start_time": "2023-10-22T09:22:13.241893600Z"
    }
   }
  },
  {
   "cell_type": "code",
   "execution_count": 3,
   "outputs": [
    {
     "data": {
      "text/plain": "count    4621.000000\nmean       55.264878\nstd         8.103254\nmin        21.000000\n25%        53.000000\n50%        54.000000\n75%        56.000000\nmax       161.000000\nName: timestamp, dtype: float64"
     },
     "execution_count": 3,
     "metadata": {},
     "output_type": "execute_result"
    }
   ],
   "source": [
    "ts_idx = dbm.table_to_df('ts_idx').timestamp\n",
    "ts_idx.diff().describe()"
   ],
   "metadata": {
    "collapsed": false,
    "ExecuteTime": {
     "end_time": "2023-10-22T09:22:13.270899900Z",
     "start_time": "2023-10-22T09:22:13.247893700Z"
    }
   }
  },
  {
   "cell_type": "code",
   "execution_count": 4,
   "outputs": [
    {
     "name": "stderr",
     "output_type": "stream",
     "text": [
      "C:\\Users\\ergot\\mambaforge\\envs\\ml\\lib\\site-packages\\seaborn\\_oldcore.py:1498: FutureWarning: is_categorical_dtype is deprecated and will be removed in a future version. Use isinstance(dtype, CategoricalDtype) instead\n",
      "  if pd.api.types.is_categorical_dtype(vector):\n",
      "C:\\Users\\ergot\\mambaforge\\envs\\ml\\lib\\site-packages\\seaborn\\_oldcore.py:1119: FutureWarning: use_inf_as_na option is deprecated and will be removed in a future version. Convert inf values to NaN before operating instead.\n",
      "  with pd.option_context('mode.use_inf_as_na', True):\n"
     ]
    },
    {
     "data": {
      "text/plain": "<Figure size 640x480 with 1 Axes>",
      "image/png": "[encoded data removed]"
     },
     "metadata": {},
     "output_type": "display_data"
    }
   ],
   "source": [
    "sns.histplot(ts_idx.diff());"
   ],
   "metadata": {
    "collapsed": false,
    "ExecuteTime": {
     "end_time": "2023-10-22T09:22:14.118088500Z",
     "start_time": "2023-10-22T09:22:13.267898300Z"
    }
   }
  },
  {
   "cell_type": "code",
   "execution_count": 5,
   "outputs": [],
   "source": [
    "cost = dbm.table_to_df('cost_ts').set_index('machine_id')\n",
    "\n",
    "\n"
   ],
   "metadata": {
    "collapsed": false,
    "ExecuteTime": {
     "end_time": "2023-10-22T09:22:14.171101100Z",
     "start_time": "2023-10-22T09:22:14.110087300Z"
    }
   }
  },
  {
   "cell_type": "code",
   "execution_count": 6,
   "outputs": [
    {
     "data": {
      "text/plain": "            dph_base   timestamp\nmachine_id                      \n14096            440  1697699070",
      "text/html": "<div>\n<style scoped>\n    .dataframe tbody tr th:only-of-type {\n        vertical-align: middle;\n    }\n\n    .dataframe tbody tr th {\n        vertical-align: top;\n    }\n\n    .dataframe thead th {\n        text-align: right;\n    }\n</style>\n<table border=\"1\" class=\"dataframe\">\n  <thead>\n    <tr style=\"text-align: right;\">\n      <th></th>\n      <th>dph_base</th>\n      <th>timestamp</th>\n    </tr>\n    <tr>\n      <th>machine_id</th>\n      <th></th>\n      <th></th>\n    </tr>\n  </thead>\n  <tbody>\n    <tr>\n      <th>14096</th>\n      <td>440</td>\n      <td>1697699070</td>\n    </tr>\n  </tbody>\n</table>\n</div>"
     },
     "execution_count": 6,
     "metadata": {},
     "output_type": "execute_result"
    }
   ],
   "source": [
    "df = cost[['dph_base', 'timestamp']]\n",
    "df = df.loc[14096]\n",
    "mask = df.dph_base.shift() != df.dph_base\n",
    "df.loc[mask]"
   ],
   "metadata": {
    "collapsed": false,
    "ExecuteTime": {
     "end_time": "2023-10-22T09:22:14.186105100Z",
     "start_time": "2023-10-22T09:22:14.171101100Z"
    }
   }
  },
  {
   "cell_type": "code",
   "execution_count": 7,
   "outputs": [
    {
     "data": {
      "text/plain": "            dph_base  timestamp\nmachine_id                     \n32               100          1\n32               100          2\n32               200          3\n120              200          1\n120              250          2\n120              200          3",
      "text/html": "<div>\n<style scoped>\n    .dataframe tbody tr th:only-of-type {\n        vertical-align: middle;\n    }\n\n    .dataframe tbody tr th {\n        vertical-align: top;\n    }\n\n    .dataframe thead th {\n        text-align: right;\n    }\n</style>\n<table border=\"1\" class=\"dataframe\">\n  <thead>\n    <tr style=\"text-align: right;\">\n      <th></th>\n      <th>dph_base</th>\n      <th>timestamp</th>\n    </tr>\n    <tr>\n      <th>machine_id</th>\n      <th></th>\n      <th></th>\n    </tr>\n  </thead>\n  <tbody>\n    <tr>\n      <th>32</th>\n      <td>100</td>\n      <td>1</td>\n    </tr>\n    <tr>\n      <th>32</th>\n      <td>100</td>\n      <td>2</td>\n    </tr>\n    <tr>\n      <th>32</th>\n      <td>200</td>\n      <td>3</td>\n    </tr>\n    <tr>\n      <th>120</th>\n      <td>200</td>\n      <td>1</td>\n    </tr>\n    <tr>\n      <th>120</th>\n      <td>250</td>\n      <td>2</td>\n    </tr>\n    <tr>\n      <th>120</th>\n      <td>200</td>\n      <td>3</td>\n    </tr>\n  </tbody>\n</table>\n</div>"
     },
     "execution_count": 7,
     "metadata": {},
     "output_type": "execute_result"
    }
   ],
   "source": [
    "df = pd.DataFrame({'dph_base': [100, 100 , 200, 200, 250, 200], \n",
    "                   'timestamp': [1, 2, 3, 1, 2, 3]},\n",
    "                  # columns=['dph_base', 'timestamp'],\n",
    "                  index=[32, 32, 32, 120, 120, 120])\n",
    "df.index.name = 'machine_id'\n",
    "df"
   ],
   "metadata": {
    "collapsed": false,
    "ExecuteTime": {
     "end_time": "2023-10-22T09:22:14.222112800Z",
     "start_time": "2023-10-22T09:22:14.188104700Z"
    }
   }
  },
  {
   "cell_type": "code",
   "execution_count": 8,
   "outputs": [],
   "source": [
    "def drop_dph_duplicates(df_):\n",
    "    return df_.loc[df_.dph_base.shift() != df_.dph_base]"
   ],
   "metadata": {
    "collapsed": false,
    "ExecuteTime": {
     "end_time": "2023-10-22T09:22:14.223112700Z",
     "start_time": "2023-10-22T09:22:14.197107Z"
    }
   }
  },
  {
   "cell_type": "code",
   "execution_count": 9,
   "outputs": [
    {
     "data": {
      "text/plain": "            dph_base  timestamp\nmachine_id                     \n32               100          1\n32               200          3\n120              200          1\n120              250          2\n120              200          3",
      "text/html": "<div>\n<style scoped>\n    .dataframe tbody tr th:only-of-type {\n        vertical-align: middle;\n    }\n\n    .dataframe tbody tr th {\n        vertical-align: top;\n    }\n\n    .dataframe thead th {\n        text-align: right;\n    }\n</style>\n<table border=\"1\" class=\"dataframe\">\n  <thead>\n    <tr style=\"text-align: right;\">\n      <th></th>\n      <th>dph_base</th>\n      <th>timestamp</th>\n    </tr>\n    <tr>\n      <th>machine_id</th>\n      <th></th>\n      <th></th>\n    </tr>\n  </thead>\n  <tbody>\n    <tr>\n      <th>32</th>\n      <td>100</td>\n      <td>1</td>\n    </tr>\n    <tr>\n      <th>32</th>\n      <td>200</td>\n      <td>3</td>\n    </tr>\n    <tr>\n      <th>120</th>\n      <td>200</td>\n      <td>1</td>\n    </tr>\n    <tr>\n      <th>120</th>\n      <td>250</td>\n      <td>2</td>\n    </tr>\n    <tr>\n      <th>120</th>\n      <td>200</td>\n      <td>3</td>\n    </tr>\n  </tbody>\n</table>\n</div>"
     },
     "execution_count": 9,
     "metadata": {},
     "output_type": "execute_result"
    }
   ],
   "source": [
    "df.groupby('machine_id').apply(drop_dph_duplicates).reset_index(level=0, drop=True)"
   ],
   "metadata": {
    "collapsed": false,
    "ExecuteTime": {
     "end_time": "2023-10-22T09:22:14.273124200Z",
     "start_time": "2023-10-22T09:22:14.203107800Z"
    }
   }
  },
  {
   "cell_type": "code",
   "execution_count": 10,
   "outputs": [
    {
     "data": {
      "text/plain": "            dph_base   timestamp\nmachine_id                      \n63              1000  1697699070\n63               250  1697913955\n63               150  1697917643\n63               500  1697918554\n162              600  1697699070\n...              ...         ...\n14437            140  1697945185\n14437            110  1697947602\n14437            120  1697947709\n14438            403  1697945932\n14439             79  1697951622\n\n[5477 rows x 2 columns]",
      "text/html": "<div>\n<style scoped>\n    .dataframe tbody tr th:only-of-type {\n        vertical-align: middle;\n    }\n\n    .dataframe tbody tr th {\n        vertical-align: top;\n    }\n\n    .dataframe thead th {\n        text-align: right;\n    }\n</style>\n<table border=\"1\" class=\"dataframe\">\n  <thead>\n    <tr style=\"text-align: right;\">\n      <th></th>\n      <th>dph_base</th>\n      <th>timestamp</th>\n    </tr>\n    <tr>\n      <th>machine_id</th>\n      <th></th>\n      <th></th>\n    </tr>\n  </thead>\n  <tbody>\n    <tr>\n      <th>63</th>\n      <td>1000</td>\n      <td>1697699070</td>\n    </tr>\n    <tr>\n      <th>63</th>\n      <td>250</td>\n      <td>1697913955</td>\n    </tr>\n    <tr>\n      <th>63</th>\n      <td>150</td>\n      <td>1697917643</td>\n    </tr>\n    <tr>\n      <th>63</th>\n      <td>500</td>\n      <td>1697918554</td>\n    </tr>\n    <tr>\n      <th>162</th>\n      <td>600</td>\n      <td>1697699070</td>\n    </tr>\n    <tr>\n      <th>...</th>\n      <td>...</td>\n      <td>...</td>\n    </tr>\n    <tr>\n      <th>14437</th>\n      <td>140</td>\n      <td>1697945185</td>\n    </tr>\n    <tr>\n      <th>14437</th>\n      <td>110</td>\n      <td>1697947602</td>\n    </tr>\n    <tr>\n      <th>14437</th>\n      <td>120</td>\n      <td>1697947709</td>\n    </tr>\n    <tr>\n      <th>14438</th>\n      <td>403</td>\n      <td>1697945932</td>\n    </tr>\n    <tr>\n      <th>14439</th>\n      <td>79</td>\n      <td>1697951622</td>\n    </tr>\n  </tbody>\n</table>\n<p>5477 rows × 2 columns</p>\n</div>"
     },
     "execution_count": 10,
     "metadata": {},
     "output_type": "execute_result"
    }
   ],
   "source": [
    "cost = cost[['dph_base', 'timestamp']].groupby('machine_id').apply(drop_dph_duplicates).reset_index(level=0, drop=True)\n",
    "cost"
   ],
   "metadata": {
    "collapsed": false,
    "ExecuteTime": {
     "end_time": "2023-10-22T09:22:15.304354900Z",
     "start_time": "2023-10-22T09:22:14.218112300Z"
    }
   }
  },
  {
   "cell_type": "code",
   "execution_count": 11,
   "outputs": [
    {
     "data": {
      "text/plain": "machine_id\n13785    1390\n6160      967\n11038     787\n13672     427\n7135      313\n         ... \n12056       1\n12044       1\n12038       1\n12037       1\n14439       1\nName: timestamp, Length: 2092, dtype: int64"
     },
     "execution_count": 11,
     "metadata": {},
     "output_type": "execute_result"
    }
   ],
   "source": [
    "rent = dbm.table_to_df('rent_ts').set_index('machine_id')\n",
    "rent_count = rent.groupby('machine_id')['timestamp'].count().sort_values(ascending=False)\n",
    "rent_count"
   ],
   "metadata": {
    "collapsed": false,
    "ExecuteTime": {
     "end_time": "2023-10-22T09:22:15.399377400Z",
     "start_time": "2023-10-22T09:22:15.295352500Z"
    }
   }
  },
  {
   "cell_type": "code",
   "execution_count": 12,
   "outputs": [
    {
     "data": {
      "text/plain": "machine_id\n3059     380\n3056     380\n8960     379\n8298     353\n4383     147\n        ... \n11031      1\n11016      1\n10991      1\n10988      1\n14439      1\nName: dph_base, Length: 2092, dtype: int64"
     },
     "execution_count": 12,
     "metadata": {},
     "output_type": "execute_result"
    }
   ],
   "source": [
    "cost_count = cost.dph_base.groupby('machine_id').count().sort_values(ascending=False)\n",
    "cost_count"
   ],
   "metadata": {
    "collapsed": false,
    "ExecuteTime": {
     "end_time": "2023-10-22T09:22:15.424381800Z",
     "start_time": "2023-10-22T09:22:15.345363700Z"
    }
   }
  },
  {
   "cell_type": "code",
   "execution_count": 13,
   "outputs": [
    {
     "data": {
      "text/plain": "{3056,\n 3059,\n 4383,\n 4384,\n 8298,\n 8960,\n 9599,\n 11851,\n 12167,\n 12204,\n 13010,\n 13058,\n 13098,\n 13626,\n 13641,\n 14017,\n 14145,\n 14184,\n 14316}"
     },
     "execution_count": 13,
     "metadata": {},
     "output_type": "execute_result"
    }
   ],
   "source": [
    "set(rent_count[rent_count > 15].index) & set(cost_count[cost_count > 15].index)"
   ],
   "metadata": {
    "collapsed": false,
    "ExecuteTime": {
     "end_time": "2023-10-22T09:22:15.425381900Z",
     "start_time": "2023-10-22T09:22:15.354365800Z"
    }
   }
  },
  {
   "cell_type": "code",
   "execution_count": 14,
   "outputs": [
    {
     "data": {
      "text/plain": "timestamp\n1697699070    4\nName: num_gpus_rented, dtype: int64"
     },
     "execution_count": 14,
     "metadata": {},
     "output_type": "execute_result"
    }
   ],
   "source": [
    "mach_id = 8506\n",
    "gpus_rented = rent.loc[[mach_id]].set_index('timestamp').num_gpus_rented\n",
    "gpus_rented"
   ],
   "metadata": {
    "collapsed": false,
    "ExecuteTime": {
     "end_time": "2023-10-22T09:22:15.425381900Z",
     "start_time": "2023-10-22T09:22:15.361367500Z"
    }
   }
  },
  {
   "cell_type": "code",
   "execution_count": 15,
   "outputs": [
    {
     "data": {
      "text/plain": "            dph_base\ntimestamp           \n1697699070      2200",
      "text/html": "<div>\n<style scoped>\n    .dataframe tbody tr th:only-of-type {\n        vertical-align: middle;\n    }\n\n    .dataframe tbody tr th {\n        vertical-align: top;\n    }\n\n    .dataframe thead th {\n        text-align: right;\n    }\n</style>\n<table border=\"1\" class=\"dataframe\">\n  <thead>\n    <tr style=\"text-align: right;\">\n      <th></th>\n      <th>dph_base</th>\n    </tr>\n    <tr>\n      <th>timestamp</th>\n      <th></th>\n    </tr>\n  </thead>\n  <tbody>\n    <tr>\n      <th>1697699070</th>\n      <td>2200</td>\n    </tr>\n  </tbody>\n</table>\n</div>"
     },
     "execution_count": 15,
     "metadata": {},
     "output_type": "execute_result"
    }
   ],
   "source": [
    "costs = cost.loc[[mach_id]].set_index('timestamp', drop=True)\n",
    "costs"
   ],
   "metadata": {
    "collapsed": false,
    "ExecuteTime": {
     "end_time": "2023-10-22T09:22:15.425381900Z",
     "start_time": "2023-10-22T09:22:15.372369600Z"
    }
   }
  },
  {
   "cell_type": "code",
   "execution_count": 16,
   "outputs": [
    {
     "data": {
      "text/plain": "            num_gpus_rented  dph_base\ntimestamp                            \n1697699070                4      2200",
      "text/html": "<div>\n<style scoped>\n    .dataframe tbody tr th:only-of-type {\n        vertical-align: middle;\n    }\n\n    .dataframe tbody tr th {\n        vertical-align: top;\n    }\n\n    .dataframe thead th {\n        text-align: right;\n    }\n</style>\n<table border=\"1\" class=\"dataframe\">\n  <thead>\n    <tr style=\"text-align: right;\">\n      <th></th>\n      <th>num_gpus_rented</th>\n      <th>dph_base</th>\n    </tr>\n    <tr>\n      <th>timestamp</th>\n      <th></th>\n      <th></th>\n    </tr>\n  </thead>\n  <tbody>\n    <tr>\n      <th>1697699070</th>\n      <td>4</td>\n      <td>2200</td>\n    </tr>\n  </tbody>\n</table>\n</div>"
     },
     "execution_count": 16,
     "metadata": {},
     "output_type": "execute_result"
    }
   ],
   "source": [
    "df = pd.concat([gpus_rented, costs], axis=1)\n",
    "df"
   ],
   "metadata": {
    "collapsed": false,
    "ExecuteTime": {
     "end_time": "2023-10-22T09:22:15.426382700Z",
     "start_time": "2023-10-22T09:22:15.381372500Z"
    }
   }
  },
  {
   "cell_type": "code",
   "execution_count": 17,
   "outputs": [
    {
     "data": {
      "text/plain": "            num_gpus_rented  dph_base\ntimestamp                            \n1697699070                4      2200",
      "text/html": "<div>\n<style scoped>\n    .dataframe tbody tr th:only-of-type {\n        vertical-align: middle;\n    }\n\n    .dataframe tbody tr th {\n        vertical-align: top;\n    }\n\n    .dataframe thead th {\n        text-align: right;\n    }\n</style>\n<table border=\"1\" class=\"dataframe\">\n  <thead>\n    <tr style=\"text-align: right;\">\n      <th></th>\n      <th>num_gpus_rented</th>\n      <th>dph_base</th>\n    </tr>\n    <tr>\n      <th>timestamp</th>\n      <th></th>\n      <th></th>\n    </tr>\n  </thead>\n  <tbody>\n    <tr>\n      <th>1697699070</th>\n      <td>4</td>\n      <td>2200</td>\n    </tr>\n  </tbody>\n</table>\n</div>"
     },
     "execution_count": 17,
     "metadata": {},
     "output_type": "execute_result"
    }
   ],
   "source": [
    "df.ffill(inplace=True)\n",
    "df"
   ],
   "metadata": {
    "collapsed": false,
    "ExecuteTime": {
     "end_time": "2023-10-22T09:22:15.426382700Z",
     "start_time": "2023-10-22T09:22:15.389373700Z"
    }
   }
  },
  {
   "cell_type": "code",
   "execution_count": 18,
   "outputs": [
    {
     "data": {
      "text/plain": "Empty DataFrame\nColumns: [num_gpus_rented, dph_base]\nIndex: []",
      "text/html": "<div>\n<style scoped>\n    .dataframe tbody tr th:only-of-type {\n        vertical-align: middle;\n    }\n\n    .dataframe tbody tr th {\n        vertical-align: top;\n    }\n\n    .dataframe thead th {\n        text-align: right;\n    }\n</style>\n<table border=\"1\" class=\"dataframe\">\n  <thead>\n    <tr style=\"text-align: right;\">\n      <th></th>\n      <th>num_gpus_rented</th>\n      <th>dph_base</th>\n    </tr>\n    <tr>\n      <th>timestamp</th>\n      <th></th>\n      <th></th>\n    </tr>\n  </thead>\n  <tbody>\n  </tbody>\n</table>\n</div>"
     },
     "execution_count": 18,
     "metadata": {},
     "output_type": "execute_result"
    }
   ],
   "source": [
    "df[:-1]"
   ],
   "metadata": {
    "collapsed": false,
    "ExecuteTime": {
     "end_time": "2023-10-22T09:22:15.428383Z",
     "start_time": "2023-10-22T09:22:15.397375400Z"
    }
   }
  },
  {
   "cell_type": "code",
   "execution_count": 19,
   "outputs": [
    {
     "data": {
      "text/plain": "Index([1697699070], dtype='int64', name='timestamp')"
     },
     "execution_count": 19,
     "metadata": {},
     "output_type": "execute_result"
    }
   ],
   "source": [
    "df.index"
   ],
   "metadata": {
    "collapsed": false,
    "ExecuteTime": {
     "end_time": "2023-10-22T09:22:15.428383Z",
     "start_time": "2023-10-22T09:22:15.405377Z"
    }
   }
  },
  {
   "cell_type": "code",
   "execution_count": 20,
   "outputs": [
    {
     "data": {
      "text/plain": "Index([], dtype='float64', name='timestamp')"
     },
     "execution_count": 20,
     "metadata": {},
     "output_type": "execute_result"
    }
   ],
   "source": [
    "df.index.diff()[1:]"
   ],
   "metadata": {
    "collapsed": false,
    "ExecuteTime": {
     "end_time": "2023-10-22T09:22:15.436384600Z",
     "start_time": "2023-10-22T09:22:15.412379500Z"
    }
   }
  },
  {
   "cell_type": "code",
   "execution_count": 21,
   "outputs": [
    {
     "data": {
      "text/plain": "Empty DataFrame\nColumns: [num_gpus_rented, dph_base, duration]\nIndex: []",
      "text/html": "<div>\n<style scoped>\n    .dataframe tbody tr th:only-of-type {\n        vertical-align: middle;\n    }\n\n    .dataframe tbody tr th {\n        vertical-align: top;\n    }\n\n    .dataframe thead th {\n        text-align: right;\n    }\n</style>\n<table border=\"1\" class=\"dataframe\">\n  <thead>\n    <tr style=\"text-align: right;\">\n      <th></th>\n      <th>num_gpus_rented</th>\n      <th>dph_base</th>\n      <th>duration</th>\n    </tr>\n    <tr>\n      <th>timestamp</th>\n      <th></th>\n      <th></th>\n      <th></th>\n    </tr>\n  </thead>\n  <tbody>\n  </tbody>\n</table>\n</div>"
     },
     "execution_count": 21,
     "metadata": {},
     "output_type": "execute_result"
    }
   ],
   "source": [
    "duration = df.index.diff()[1:]\n",
    "df = df[:-1].copy()\n",
    "df['duration'] = duration\n",
    "df"
   ],
   "metadata": {
    "collapsed": false,
    "ExecuteTime": {
     "end_time": "2023-10-22T09:22:15.521403800Z",
     "start_time": "2023-10-22T09:22:15.418380100Z"
    }
   }
  },
  {
   "cell_type": "code",
   "execution_count": 22,
   "outputs": [
    {
     "data": {
      "text/plain": "0.0"
     },
     "execution_count": 22,
     "metadata": {},
     "output_type": "execute_result"
    }
   ],
   "source": [
    "num_gpus = 4\n",
    "(df.num_gpus_rented / num_gpus * df.dph_base / 1000 * df.duration / 3600).sum()"
   ],
   "metadata": {
    "collapsed": false,
    "ExecuteTime": {
     "end_time": "2023-10-22T09:22:15.543408600Z",
     "start_time": "2023-10-22T09:22:15.427382Z"
    }
   }
  },
  {
   "cell_type": "code",
   "execution_count": 23,
   "outputs": [],
   "source": [
    "dbm.close()"
   ],
   "metadata": {
    "collapsed": false,
    "ExecuteTime": {
     "end_time": "2023-10-22T09:22:15.543408600Z",
     "start_time": "2023-10-22T09:22:15.434383800Z"
    }
   }
  }
 ],
 "metadata": {
  "kernelspec": {
   "name": "ml",
   "language": "python",
   "display_name": "ml"
  },
  "language_info": {
   "codemirror_mode": {
    "name": "ipython",
    "version": 2
   },
   "file_extension": ".py",
   "mimetype": "text/x-python",
   "name": "python",
   "nbconvert_exporter": "python",
   "pygments_lexer": "ipython2",
   "version": "2.7.6"
  }
 },
 "nbformat": 4,
 "nbformat_minor": 0
}
