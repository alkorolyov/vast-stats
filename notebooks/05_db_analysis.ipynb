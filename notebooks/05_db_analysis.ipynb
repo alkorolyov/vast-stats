{
 "cells": [
  {
   "cell_type": "code",
   "execution_count": 182,
   "outputs": [
    {
     "name": "stdout",
     "output_type": "stream",
     "text": [
      "The autoreload extension is already loaded. To reload it, use:\n",
      "  %reload_ext autoreload\n"
     ]
    }
   ],
   "source": [
    "%load_ext autoreload\n",
    "%autoreload 2"
   ],
   "metadata": {
    "collapsed": false,
    "ExecuteTime": {
     "end_time": "2023-09-08T09:48:42.491950200Z",
     "start_time": "2023-09-08T09:48:42.363960500Z"
    }
   },
   "id": "28f54dde461294f8"
  },
  {
   "cell_type": "code",
   "execution_count": 183,
   "id": "initial_id",
   "metadata": {
    "collapsed": true,
    "ExecuteTime": {
     "end_time": "2023-09-08T09:48:42.615909700Z",
     "start_time": "2023-09-08T09:48:42.490950Z"
    }
   },
   "outputs": [],
   "source": [
    "import sqlite3\n",
    "import numpy as np\n",
    "import pandas as pd\n",
    "from src.tables import table_to_df\n",
    "from src.utils import reduce_mem_usage\n",
    "\n",
    "conn = sqlite3.connect('../data/vast_old.db')"
   ]
  },
  {
   "cell_type": "code",
   "execution_count": 184,
   "outputs": [
    {
     "name": "stdout",
     "output_type": "stream",
     "text": [
      "<class 'pandas.core.frame.DataFrame'>\n",
      "Int64Index: 1497207 entries, 162 to 12852\n",
      "Data columns (total 2 columns):\n",
      " #   Column       Non-Null Count    Dtype\n",
      "---  ------       --------------    -----\n",
      " 0   reliability  1497207 non-null  int16\n",
      " 1   timestamp    1497207 non-null  int32\n",
      "dtypes: int16(1), int32(1)\n",
      "memory usage: 20.0 MB\n"
     ]
    }
   ],
   "source": [
    "rel_df = table_to_df('reliability_ts', conn)\n",
    "rel_df = reduce_mem_usage(rel_df)\n",
    "\n",
    "rel_df.set_index('machine_id', inplace=True)\n",
    "rel_df.sort_index(inplace=True)\n",
    "\n",
    "rel_df.info()"
   ],
   "metadata": {
    "collapsed": false,
    "ExecuteTime": {
     "end_time": "2023-09-08T09:48:45.311216200Z",
     "start_time": "2023-09-08T09:48:42.616925500Z"
    }
   },
   "id": "c758639d5de1450f"
  },
  {
   "cell_type": "code",
   "execution_count": 185,
   "outputs": [
    {
     "name": "stdout",
     "output_type": "stream",
     "text": [
      "<class 'pandas.core.frame.DataFrame'>\n",
      "Int64Index: 26378 entries, 1691935057 to 1694165858\n",
      "Columns: 1957 entries, (162,) to (12852,)\n",
      "dtypes: UInt16(1957)\n",
      "memory usage: 147.9 MB\n"
     ]
    }
   ],
   "source": [
    "ts_idx = rel_df.timestamp.unique()\n",
    "machine_ids = rel_df.index.unique()\n",
    "\n",
    "df = pd.DataFrame(columns=[machine_ids], index=ts_idx, dtype='UInt16')\n",
    "df.sort_index(inplace=True)\n",
    "df.info()"
   ],
   "metadata": {
    "collapsed": false,
    "ExecuteTime": {
     "end_time": "2023-09-08T09:48:46.954112100Z",
     "start_time": "2023-09-08T09:48:45.313216800Z"
    }
   },
   "id": "32ede8decf4492f8"
  },
  {
   "cell_type": "code",
   "execution_count": 186,
   "outputs": [],
   "source": [
    "\n",
    "# machine_id = 12113\n",
    "# machine_id = 8506\n",
    "# ts = rel_df.loc[machine_id, 'timestamp']\n",
    "# vals = rel_df.loc[machine_id, 'reliability']\n",
    "# if ts.shape:\n",
    "#     ts = ts.values\n",
    "#     vals = vals.values\n",
    "# df.loc[ts, machine_id] = vals\n"
   ],
   "metadata": {
    "collapsed": false,
    "ExecuteTime": {
     "end_time": "2023-09-08T09:48:47.082051300Z",
     "start_time": "2023-09-08T09:48:46.954112100Z"
    }
   },
   "id": "21e423cd115af352"
  },
  {
   "cell_type": "code",
   "execution_count": 187,
   "outputs": [
    {
     "name": "stdout",
     "output_type": "stream",
     "text": [
      "CPU times: total: 1.62 s\n",
      "Wall time: 1.62 s\n"
     ]
    }
   ],
   "source": [
    "%%time\n",
    "for machine_id in machine_ids:\n",
    "    try:\n",
    "        ts = rel_df.loc[machine_id, 'timestamp']\n",
    "        vals = rel_df.loc[machine_id, 'reliability']\n",
    "        if ts.shape:\n",
    "            ts = ts.values\n",
    "            vals = vals.values\n",
    "        df.loc[ts, machine_id] = vals\n",
    "    except Exception as e:\n",
    "        print(machine_id, e)"
   ],
   "metadata": {
    "collapsed": false,
    "ExecuteTime": {
     "end_time": "2023-09-08T09:48:48.833016400Z",
     "start_time": "2023-09-08T09:48:47.082051300Z"
    }
   },
   "id": "e46545defac20aa8"
  },
  {
   "cell_type": "code",
   "execution_count": 189,
   "outputs": [
    {
     "name": "stdout",
     "output_type": "stream",
     "text": [
      "<class 'pandas.core.frame.DataFrame'>\n",
      "Int64Index: 26378 entries, 1691935057 to 1694165858\n",
      "Columns: 1957 entries, (162,) to (12852,)\n",
      "dtypes: UInt16(1957)\n",
      "memory usage: 148.9 MB\n"
     ]
    }
   ],
   "source": [
    "df.info()"
   ],
   "metadata": {
    "collapsed": false,
    "ExecuteTime": {
     "end_time": "2023-09-08T09:48:49.493988900Z",
     "start_time": "2023-09-08T09:48:49.229180200Z"
    }
   },
   "id": "63efd61455d1fe79"
  },
  {
   "cell_type": "code",
   "execution_count": 204,
   "outputs": [],
   "source": [
    "# by timestamp\n",
    "def explode_table(id_col, col, table, conn):    \n",
    "    ts_idx = pd.read_sql('SELECT timestamp FROM timestamp_tbl', conn).timestamp.values\n",
    "    raw_df = pd.read_sql(f'SELECT timestamp, {id_col}, {col} FROM {table}', conn).set_index(id_col)\n",
    "    raw_df.sort_index(inplace=True)\n",
    "    raw_df = reduce_mem_usage(raw_df)\n",
    "    raw_df[col] = raw_df[col].convert_dtypes()\n",
    "    ids = raw_df.index.unique()\n",
    "    \n",
    "    df = pd.DataFrame(columns=[ids], index=ts_idx, dtype=raw_df[col].dtype)    \n",
    "    \n",
    "    for idx in ids:\n",
    "        ts = raw_df.loc[idx, 'timestamp']\n",
    "        vals = raw_df.loc[idx, col]\n",
    "        if ts.shape:\n",
    "            ts = ts.values\n",
    "            vals = vals.values\n",
    "        df.loc[ts, idx] = vals\n",
    "        \n",
    "    df.fillna(method='ffill', inplace=True)\n",
    "    return df"
   ],
   "metadata": {
    "collapsed": false,
    "ExecuteTime": {
     "end_time": "2023-09-08T12:19:10.198707700Z",
     "start_time": "2023-09-08T12:19:10.076679900Z"
    }
   },
   "id": "f44495ada2a73970"
  },
  {
   "cell_type": "code",
   "execution_count": 205,
   "outputs": [
    {
     "name": "stdout",
     "output_type": "stream",
     "text": [
      "<class 'pandas.core.frame.DataFrame'>\n",
      "Int64Index: 26975 entries, 1691935057 to 1694165858\n",
      "Columns: 1957 entries, (162,) to (12852,)\n",
      "dtypes: Int8(1957)\n",
      "memory usage: 101.9 MB\n"
     ]
    }
   ],
   "source": [
    "df = explode_table('machine_id', 'online', 'online_ts', conn)\n",
    "df.info()"
   ],
   "metadata": {
    "collapsed": false,
    "ExecuteTime": {
     "end_time": "2023-09-08T12:19:14.179463100Z",
     "start_time": "2023-09-08T12:19:11.125611800Z"
    }
   },
   "id": "c54b3f2a58f44d31"
  },
  {
   "cell_type": "code",
   "execution_count": 201,
   "outputs": [
    {
     "name": "stdout",
     "output_type": "stream",
     "text": [
      "<class 'pandas.core.frame.DataFrame'>\n",
      "Int64Index: 26975 entries, 1691935057 to 1694165858\n",
      "Columns: 1957 entries, (162,) to (12852,)\n",
      "dtypes: uint8(1957)\n",
      "memory usage: 51.6 MB\n"
     ]
    }
   ],
   "source": [
    "df.fillna(0, inplace=True)\n",
    "df.astype(np.uint8).info()"
   ],
   "metadata": {
    "collapsed": false,
    "ExecuteTime": {
     "end_time": "2023-09-08T10:11:01.459148500Z",
     "start_time": "2023-09-08T10:11:01.002033600Z"
    }
   },
   "id": "6ef4adda49fc78ed"
  },
  {
   "cell_type": "code",
   "execution_count": null,
   "outputs": [],
   "source": [
    "ts_rent = pd.read_sql('SELECT DISTINCT timestamp FROM rent_ts', conn).timestamp\n",
    "ts_rent.shape"
   ],
   "metadata": {
    "collapsed": false,
    "ExecuteTime": {
     "start_time": "2023-09-08T09:48:50.939575Z"
    }
   },
   "id": "4326b46c667638f6"
  },
  {
   "cell_type": "code",
   "execution_count": null,
   "outputs": [],
   "source": [
    "ts_rel = pd.read_sql('SELECT DISTINCT timestamp FROM reliability_ts', conn).timestamp\n",
    "ts_rel.shape"
   ],
   "metadata": {
    "collapsed": false,
    "ExecuteTime": {
     "start_time": "2023-09-08T09:48:50.940575100Z"
    }
   },
   "id": "90b98c46ba3cbe08"
  },
  {
   "cell_type": "code",
   "execution_count": null,
   "outputs": [],
   "source": [
    "ts_rent[~ts_rent.isin(ts_rel)]"
   ],
   "metadata": {
    "collapsed": false,
    "ExecuteTime": {
     "start_time": "2023-09-08T09:48:50.942575700Z"
    }
   },
   "id": "51f5bc88daef45a4"
  },
  {
   "cell_type": "code",
   "execution_count": null,
   "outputs": [],
   "source": [
    "df = explode_table('id', 'rented', 'rent_ts', conn)\n",
    "df.info()"
   ],
   "metadata": {
    "collapsed": false,
    "ExecuteTime": {
     "end_time": "2023-09-08T09:48:50.945577500Z",
     "start_time": "2023-09-08T09:48:50.944576200Z"
    }
   },
   "id": "5c29292dcb4446b8"
  },
  {
   "cell_type": "code",
   "execution_count": null,
   "outputs": [],
   "source": [
    "df[274].dropna().eq(0).sum()"
   ],
   "metadata": {
    "collapsed": false,
    "ExecuteTime": {
     "start_time": "2023-09-08T09:48:50.946918500Z"
    }
   },
   "id": "4a881ddd82907955"
  },
  {
   "cell_type": "code",
   "execution_count": null,
   "outputs": [],
   "source": [
    "for col in df:\n",
    "    if df[col].eq(0).any():\n",
    "        print(col)"
   ],
   "metadata": {
    "collapsed": false,
    "ExecuteTime": {
     "start_time": "2023-09-08T09:48:50.948904300Z"
    }
   },
   "id": "e2c8a701974e4325"
  },
  {
   "cell_type": "code",
   "execution_count": null,
   "outputs": [],
   "source": [
    "arr = df[12760].fillna(0).values"
   ],
   "metadata": {
    "collapsed": false,
    "ExecuteTime": {
     "end_time": "2023-09-08T09:48:50.958908600Z",
     "start_time": "2023-09-08T09:48:50.950904900Z"
    }
   },
   "id": "3ab28bcf0c275914"
  },
  {
   "cell_type": "code",
   "execution_count": null,
   "outputs": [],
   "source": [
    "%timeit non_zero_idx = np.nonzero(arr); _ = arr[non_zero_idx]"
   ],
   "metadata": {
    "collapsed": false,
    "ExecuteTime": {
     "start_time": "2023-09-08T09:48:50.952905400Z"
    }
   },
   "id": "247c7cd156b4466a"
  },
  {
   "cell_type": "code",
   "execution_count": null,
   "outputs": [],
   "source": [
    "%timeit _ = arr[non_zero_idx]"
   ],
   "metadata": {
    "collapsed": false,
    "ExecuteTime": {
     "start_time": "2023-09-08T09:48:50.953905600Z"
    }
   },
   "id": "19a70d1b656b1508"
  },
  {
   "cell_type": "code",
   "execution_count": null,
   "outputs": [],
   "source": [
    "from pandas.core.dtypes.common import is_integer_dtype, is_float_dtype\n",
    "\n"
   ],
   "metadata": {
    "collapsed": false,
    "ExecuteTime": {
     "start_time": "2023-09-08T09:48:50.955905800Z"
    }
   },
   "id": "dfb7b0ceea3a89c0"
  }
 ],
 "metadata": {
  "kernelspec": {
   "display_name": "Python 3",
   "language": "python",
   "name": "python3"
  },
  "language_info": {
   "codemirror_mode": {
    "name": "ipython",
    "version": 2
   },
   "file_extension": ".py",
   "mimetype": "text/x-python",
   "name": "python",
   "nbconvert_exporter": "python",
   "pygments_lexer": "ipython2",
   "version": "2.7.6"
  }
 },
 "nbformat": 4,
 "nbformat_minor": 5
}
