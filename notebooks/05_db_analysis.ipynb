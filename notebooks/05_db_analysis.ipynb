{
 "cells": [
  {
   "cell_type": "code",
   "source": [
    "%load_ext autoreload\n",
    "%autoreload 2"
   ],
   "metadata": {
    "collapsed": false,
    "ExecuteTime": {
     "end_time": "2024-05-08T12:56:49.612944Z",
     "start_time": "2024-05-08T12:56:49.475928Z"
    }
   },
   "id": "28f54dde461294f8",
   "outputs": [],
   "execution_count": 1
  },
  {
   "cell_type": "code",
   "id": "initial_id",
   "metadata": {
    "collapsed": true,
    "ExecuteTime": {
     "end_time": "2024-05-08T12:56:49.749946Z",
     "start_time": "2024-05-08T12:56:49.613945Z"
    }
   },
   "source": [
    "import sqlite3\n",
    "import numpy as np\n",
    "import pandas as pd\n",
    "from src.manager import DbManager\n",
    "from src.utils import reduce_mem_usage\n",
    "\n",
    "dbm = DbManager('../vast.db')"
   ],
   "outputs": [],
   "execution_count": 2
  },
  {
   "metadata": {
    "ExecuteTime": {
     "end_time": "2024-05-08T12:56:49.873949Z",
     "start_time": "2024-05-08T12:56:49.751944Z"
    }
   },
   "cell_type": "code",
   "source": "dbm.connect()",
   "id": "daaf7327fda462b",
   "outputs": [],
   "execution_count": 3
  },
  {
   "metadata": {
    "ExecuteTime": {
     "end_time": "2024-05-08T13:08:22.667497Z",
     "start_time": "2024-05-08T13:08:22.540496Z"
    }
   },
   "cell_type": "code",
   "source": "dbm.close()",
   "id": "5d04ac45a624a2dd",
   "outputs": [],
   "execution_count": 16
  },
  {
   "metadata": {
    "ExecuteTime": {
     "end_time": "2024-05-08T13:05:30.799044Z",
     "start_time": "2024-05-08T13:05:29.522949Z"
    }
   },
   "cell_type": "code",
   "source": [
    "df = dbm.sql_to_df(\"SELECT avg_ts.machine_id, avg_ts.inet_down_avg, avg_ts.inet_up_avg, cost_snp.inet_down_cost, cost_snp.inet_up_cost FROM avg_ts INNER JOIN cost_snp ON avg_ts.machine_id = cost_snp.machine_id\").drop_duplicates(subset='machine_id', keep='last')\n",
    "df"
   ],
   "id": "c1661e01c0e333cf",
   "outputs": [
    {
     "data": {
      "text/plain": [
       "        machine_id  inet_down_avg  inet_up_avg  inet_down_cost  inet_up_cost\n",
       "84            4869            341          322              10            30\n",
       "1496         13618            882          474               0             0\n",
       "1577         13756            354           34               2             3\n",
       "1767         14054            159          368               2             3\n",
       "1814         14135             76           23               2             3\n",
       "...            ...            ...          ...             ...           ...\n",
       "396931       22952              0            0               0             0\n",
       "396932       22953              0            0               0             1\n",
       "396933       22954              0            0               2             3\n",
       "396934       22956              0            0              32            32\n",
       "396935       22958              0            0               2             3\n",
       "\n",
       "[8639 rows x 5 columns]"
      ],
      "text/html": [
       "<div>\n",
       "<style scoped>\n",
       "    .dataframe tbody tr th:only-of-type {\n",
       "        vertical-align: middle;\n",
       "    }\n",
       "\n",
       "    .dataframe tbody tr th {\n",
       "        vertical-align: top;\n",
       "    }\n",
       "\n",
       "    .dataframe thead th {\n",
       "        text-align: right;\n",
       "    }\n",
       "</style>\n",
       "<table border=\"1\" class=\"dataframe\">\n",
       "  <thead>\n",
       "    <tr style=\"text-align: right;\">\n",
       "      <th></th>\n",
       "      <th>machine_id</th>\n",
       "      <th>inet_down_avg</th>\n",
       "      <th>inet_up_avg</th>\n",
       "      <th>inet_down_cost</th>\n",
       "      <th>inet_up_cost</th>\n",
       "    </tr>\n",
       "  </thead>\n",
       "  <tbody>\n",
       "    <tr>\n",
       "      <th>84</th>\n",
       "      <td>4869</td>\n",
       "      <td>341</td>\n",
       "      <td>322</td>\n",
       "      <td>10</td>\n",
       "      <td>30</td>\n",
       "    </tr>\n",
       "    <tr>\n",
       "      <th>1496</th>\n",
       "      <td>13618</td>\n",
       "      <td>882</td>\n",
       "      <td>474</td>\n",
       "      <td>0</td>\n",
       "      <td>0</td>\n",
       "    </tr>\n",
       "    <tr>\n",
       "      <th>1577</th>\n",
       "      <td>13756</td>\n",
       "      <td>354</td>\n",
       "      <td>34</td>\n",
       "      <td>2</td>\n",
       "      <td>3</td>\n",
       "    </tr>\n",
       "    <tr>\n",
       "      <th>1767</th>\n",
       "      <td>14054</td>\n",
       "      <td>159</td>\n",
       "      <td>368</td>\n",
       "      <td>2</td>\n",
       "      <td>3</td>\n",
       "    </tr>\n",
       "    <tr>\n",
       "      <th>1814</th>\n",
       "      <td>14135</td>\n",
       "      <td>76</td>\n",
       "      <td>23</td>\n",
       "      <td>2</td>\n",
       "      <td>3</td>\n",
       "    </tr>\n",
       "    <tr>\n",
       "      <th>...</th>\n",
       "      <td>...</td>\n",
       "      <td>...</td>\n",
       "      <td>...</td>\n",
       "      <td>...</td>\n",
       "      <td>...</td>\n",
       "    </tr>\n",
       "    <tr>\n",
       "      <th>396931</th>\n",
       "      <td>22952</td>\n",
       "      <td>0</td>\n",
       "      <td>0</td>\n",
       "      <td>0</td>\n",
       "      <td>0</td>\n",
       "    </tr>\n",
       "    <tr>\n",
       "      <th>396932</th>\n",
       "      <td>22953</td>\n",
       "      <td>0</td>\n",
       "      <td>0</td>\n",
       "      <td>0</td>\n",
       "      <td>1</td>\n",
       "    </tr>\n",
       "    <tr>\n",
       "      <th>396933</th>\n",
       "      <td>22954</td>\n",
       "      <td>0</td>\n",
       "      <td>0</td>\n",
       "      <td>2</td>\n",
       "      <td>3</td>\n",
       "    </tr>\n",
       "    <tr>\n",
       "      <th>396934</th>\n",
       "      <td>22956</td>\n",
       "      <td>0</td>\n",
       "      <td>0</td>\n",
       "      <td>32</td>\n",
       "      <td>32</td>\n",
       "    </tr>\n",
       "    <tr>\n",
       "      <th>396935</th>\n",
       "      <td>22958</td>\n",
       "      <td>0</td>\n",
       "      <td>0</td>\n",
       "      <td>2</td>\n",
       "      <td>3</td>\n",
       "    </tr>\n",
       "  </tbody>\n",
       "</table>\n",
       "<p>8639 rows × 5 columns</p>\n",
       "</div>"
      ]
     },
     "execution_count": 11,
     "metadata": {},
     "output_type": "execute_result"
    }
   ],
   "execution_count": 11
  },
  {
   "metadata": {
    "ExecuteTime": {
     "end_time": "2024-05-08T13:07:13.652259Z",
     "start_time": "2024-05-08T13:07:13.155943Z"
    }
   },
   "cell_type": "code",
   "source": [
    "import seaborn as sns\n",
    "\n",
    "sns.scatterplot(df, x='inet_down_avg', y='inet_down_cost', alpha=0.1);"
   ],
   "id": "fed614200eb7bfc9",
   "outputs": [
    {
     "data": {
      "text/plain": [
       "<Figure size 640x480 with 1 Axes>"
      ],
      "image/png": "[encoded data removed]"
     },
     "metadata": {},
     "output_type": "display_data"
    }
   ],
   "execution_count": 14
  },
  {
   "metadata": {
    "ExecuteTime": {
     "end_time": "2024-05-08T13:07:25.420164Z",
     "start_time": "2024-05-08T13:07:24.948165Z"
    }
   },
   "cell_type": "code",
   "source": "sns.scatterplot(df, x='inet_up_avg', y='inet_up_cost', alpha=0.1);",
   "id": "5dc95fdae74c6d17",
   "outputs": [
    {
     "data": {
      "text/plain": [
       "<Figure size 640x480 with 1 Axes>"
      ],
      "image/png": "[encoded data removed]"
     },
     "metadata": {},
     "output_type": "display_data"
    }
   ],
   "execution_count": 15
  },
  {
   "metadata": {
    "ExecuteTime": {
     "end_time": "2024-05-07T17:59:32.706739Z",
     "start_time": "2024-05-07T17:59:29.801718Z"
    }
   },
   "cell_type": "code",
   "source": [
    "avg = dbm.table_to_df('avg_ts')\n",
    "avg.drop_duplicates(subset='machine_id', keep='last', inplace=True)\n",
    "avg.set_index('machine_id', inplace=True)\n"
   ],
   "id": "25ba49ac811fa1aa",
   "outputs": [],
   "execution_count": 167
  },
  {
   "metadata": {
    "ExecuteTime": {
     "end_time": "2024-05-07T17:59:32.986738Z",
     "start_time": "2024-05-07T17:59:32.708740Z"
    }
   },
   "cell_type": "code",
   "source": "hw = dbm.table_to_df('hardware_snp').set_index('machine_id')\n",
   "id": "5644b1d1881915ef",
   "outputs": [],
   "execution_count": 168
  },
  {
   "cell_type": "code",
   "source": "eod = dbm.table_to_df('eod_snp').set_index('machine_id')\n",
   "metadata": {
    "collapsed": false,
    "ExecuteTime": {
     "end_time": "2024-05-07T17:59:33.238741Z",
     "start_time": "2024-05-07T17:59:32.987738Z"
    }
   },
   "id": "c758639d5de1450f",
   "outputs": [],
   "execution_count": 169
  },
  {
   "metadata": {
    "ExecuteTime": {
     "end_time": "2024-05-07T17:59:33.500738Z",
     "start_time": "2024-05-07T17:59:33.239742Z"
    }
   },
   "cell_type": "code",
   "source": "cost = dbm.table_to_df('cost_snp').set_index('machine_id')\n",
   "id": "b62e26f9a0e0dd8",
   "outputs": [],
   "execution_count": 170
  },
  {
   "metadata": {
    "ExecuteTime": {
     "end_time": "2024-05-07T17:59:33.733737Z",
     "start_time": "2024-05-07T17:59:33.501739Z"
    }
   },
   "cell_type": "code",
   "source": "rent = dbm.table_to_df('rent_snp').set_index('machine_id')",
   "id": "1d534ecdfa3868e8",
   "outputs": [],
   "execution_count": 171
  },
  {
   "metadata": {
    "ExecuteTime": {
     "end_time": "2024-05-07T17:59:33.952741Z",
     "start_time": "2024-05-07T17:59:33.736740Z"
    }
   },
   "cell_type": "code",
   "source": "dbm.close()",
   "id": "a787d13b0368d864",
   "outputs": [],
   "execution_count": 172
  },
  {
   "metadata": {
    "ExecuteTime": {
     "end_time": "2024-05-07T17:59:34.183737Z",
     "start_time": "2024-05-07T17:59:33.953742Z"
    }
   },
   "cell_type": "code",
   "source": [
    "df1 = pd.merge(eod, hw, left_index=True, right_index=True, how='inner')\n",
    "df2 = pd.merge(cost, rent, left_index=True, right_index=True, how='inner')\n",
    "# df2 = pd.merge(df1, avg, left_index=True, right_index=True, how='inner')"
   ],
   "id": "743e285301bd50",
   "outputs": [],
   "execution_count": 173
  },
  {
   "metadata": {
    "ExecuteTime": {
     "end_time": "2024-05-07T17:59:34.421737Z",
     "start_time": "2024-05-07T17:59:34.185740Z"
    }
   },
   "cell_type": "code",
   "source": [
    "df = pd.merge(df1, df2, on='machine_id', how='inner')\n",
    "df = pd.merge(df, avg, on='machine_id', how='inner')"
   ],
   "id": "451c2a2fef9c75ec",
   "outputs": [],
   "execution_count": 174
  },
  {
   "metadata": {
    "ExecuteTime": {
     "end_time": "2024-05-07T17:59:34.653740Z",
     "start_time": "2024-05-07T17:59:34.422739Z"
    }
   },
   "cell_type": "code",
   "source": "df",
   "id": "b23aa165a1bb1153",
   "outputs": [
    {
     "data": {
      "text/plain": [
       "           cuda_max_good driver_version  direct_port_count  min_chunk  \\\n",
       "machine_id                                                              \n",
       "63                  12.2     535.104.05               1000          1   \n",
       "162                 12.4         550.76               1000          4   \n",
       "274                 12.0      525.60.11               1000          1   \n",
       "275                 12.0      525.60.11               1000          1   \n",
       "283                 12.0      525.60.11               1000          2   \n",
       "...                  ...            ...                ...        ...   \n",
       "22952               12.2     535.161.08               1000          1   \n",
       "22953               12.4      550.54.15                  0          1   \n",
       "22954               12.2     535.171.04                  0          1   \n",
       "22956               12.2     535.171.04                  2          1   \n",
       "22958               12.4         550.78                401          1   \n",
       "\n",
       "            verification    end_date country   public_ipaddr  static_ip  \\\n",
       "machine_id                                                                \n",
       "63                     1  1719792000      US  23.245.210.159          0   \n",
       "162                    1  1714953600      US  23.245.210.159          1   \n",
       "274                    1  1698796800      UA   194.44.114.10          1   \n",
       "275                    2  1709164800      UA   194.44.114.10          1   \n",
       "283                    1  1698796800      UA   194.44.114.10          1   \n",
       "...                  ...         ...     ...             ...        ...   \n",
       "22952                  0  1717372800      CZ     90.183.51.3          1   \n",
       "22953                  0  1717200000          160.202.129.99          1   \n",
       "22954                  0  1715472000      PL  188.33.248.125          0   \n",
       "22956                  0  1715385600      CA   70.70.153.119          0   \n",
       "22958                  0  2465683200      US    50.46.244.80          0   \n",
       "\n",
       "                            isp  ...  pcie_bw_std  dlperf_avg  dlperf_std  \\\n",
       "machine_id                       ...                                        \n",
       "63           Atlantic Broadband  ...          0.0           9        0.00   \n",
       "162          Atlantic Broadband  ...          0.0          33        0.00   \n",
       "274                              ...          0.5          30        0.00   \n",
       "275                              ...          0.0          28        0.15   \n",
       "283                              ...          0.0          22        0.68   \n",
       "...                         ...  ...          ...         ...         ...   \n",
       "22952         O2 Czech Republic  ...          0.0         555       10.25   \n",
       "22953                            ...          0.0         288      689.93   \n",
       "22954                      Play  ...          0.0          77       13.41   \n",
       "22956       Shaw Communications  ...          0.0           8        1.50   \n",
       "22958               Ziply Fiber  ...          0.0         333       79.46   \n",
       "\n",
       "           inet_down_avg  inet_down_std inet_up_avg  inet_up_std score_avg  \\\n",
       "machine_id                                                                   \n",
       "63                   386           5.85          47         0.00        16   \n",
       "162                  428          24.73          49         0.48        25   \n",
       "274                  451           0.00         370         0.00        51   \n",
       "275                  513           0.00         446         0.00        68   \n",
       "283                  444           0.00         398         0.00        48   \n",
       "...                  ...            ...         ...          ...       ...   \n",
       "22952                  0           0.00           0         0.00         6   \n",
       "22953                  0           0.00           0         0.00         2   \n",
       "22954                  0           0.00           0         0.00        12   \n",
       "22956                  0           0.00           0         0.00         3   \n",
       "22958                  0           0.00           0         0.00         7   \n",
       "\n",
       "           score_std   timestamp  \n",
       "machine_id                        \n",
       "63              0.49  1714694400  \n",
       "162             0.75  1714694400  \n",
       "274             1.24  1698883200  \n",
       "275             1.76  1708300800  \n",
       "283             2.22  1698883200  \n",
       "...              ...         ...  \n",
       "22952           0.64  1714694400  \n",
       "22953           3.77  1714694400  \n",
       "22954           2.12  1714694400  \n",
       "22956           0.50  1714694400  \n",
       "22958           2.43  1714694400  \n",
       "\n",
       "[8639 rows x 46 columns]"
      ],
      "text/html": [
       "<div>\n",
       "<style scoped>\n",
       "    .dataframe tbody tr th:only-of-type {\n",
       "        vertical-align: middle;\n",
       "    }\n",
       "\n",
       "    .dataframe tbody tr th {\n",
       "        vertical-align: top;\n",
       "    }\n",
       "\n",
       "    .dataframe thead th {\n",
       "        text-align: right;\n",
       "    }\n",
       "</style>\n",
       "<table border=\"1\" class=\"dataframe\">\n",
       "  <thead>\n",
       "    <tr style=\"text-align: right;\">\n",
       "      <th></th>\n",
       "      <th>cuda_max_good</th>\n",
       "      <th>driver_version</th>\n",
       "      <th>direct_port_count</th>\n",
       "      <th>min_chunk</th>\n",
       "      <th>verification</th>\n",
       "      <th>end_date</th>\n",
       "      <th>country</th>\n",
       "      <th>public_ipaddr</th>\n",
       "      <th>static_ip</th>\n",
       "      <th>isp</th>\n",
       "      <th>...</th>\n",
       "      <th>pcie_bw_std</th>\n",
       "      <th>dlperf_avg</th>\n",
       "      <th>dlperf_std</th>\n",
       "      <th>inet_down_avg</th>\n",
       "      <th>inet_down_std</th>\n",
       "      <th>inet_up_avg</th>\n",
       "      <th>inet_up_std</th>\n",
       "      <th>score_avg</th>\n",
       "      <th>score_std</th>\n",
       "      <th>timestamp</th>\n",
       "    </tr>\n",
       "    <tr>\n",
       "      <th>machine_id</th>\n",
       "      <th></th>\n",
       "      <th></th>\n",
       "      <th></th>\n",
       "      <th></th>\n",
       "      <th></th>\n",
       "      <th></th>\n",
       "      <th></th>\n",
       "      <th></th>\n",
       "      <th></th>\n",
       "      <th></th>\n",
       "      <th></th>\n",
       "      <th></th>\n",
       "      <th></th>\n",
       "      <th></th>\n",
       "      <th></th>\n",
       "      <th></th>\n",
       "      <th></th>\n",
       "      <th></th>\n",
       "      <th></th>\n",
       "      <th></th>\n",
       "      <th></th>\n",
       "    </tr>\n",
       "  </thead>\n",
       "  <tbody>\n",
       "    <tr>\n",
       "      <th>63</th>\n",
       "      <td>12.2</td>\n",
       "      <td>535.104.05</td>\n",
       "      <td>1000</td>\n",
       "      <td>1</td>\n",
       "      <td>1</td>\n",
       "      <td>1719792000</td>\n",
       "      <td>US</td>\n",
       "      <td>23.245.210.159</td>\n",
       "      <td>0</td>\n",
       "      <td>Atlantic Broadband</td>\n",
       "      <td>...</td>\n",
       "      <td>0.0</td>\n",
       "      <td>9</td>\n",
       "      <td>0.00</td>\n",
       "      <td>386</td>\n",
       "      <td>5.85</td>\n",
       "      <td>47</td>\n",
       "      <td>0.00</td>\n",
       "      <td>16</td>\n",
       "      <td>0.49</td>\n",
       "      <td>1714694400</td>\n",
       "    </tr>\n",
       "    <tr>\n",
       "      <th>162</th>\n",
       "      <td>12.4</td>\n",
       "      <td>550.76</td>\n",
       "      <td>1000</td>\n",
       "      <td>4</td>\n",
       "      <td>1</td>\n",
       "      <td>1714953600</td>\n",
       "      <td>US</td>\n",
       "      <td>23.245.210.159</td>\n",
       "      <td>1</td>\n",
       "      <td>Atlantic Broadband</td>\n",
       "      <td>...</td>\n",
       "      <td>0.0</td>\n",
       "      <td>33</td>\n",
       "      <td>0.00</td>\n",
       "      <td>428</td>\n",
       "      <td>24.73</td>\n",
       "      <td>49</td>\n",
       "      <td>0.48</td>\n",
       "      <td>25</td>\n",
       "      <td>0.75</td>\n",
       "      <td>1714694400</td>\n",
       "    </tr>\n",
       "    <tr>\n",
       "      <th>274</th>\n",
       "      <td>12.0</td>\n",
       "      <td>525.60.11</td>\n",
       "      <td>1000</td>\n",
       "      <td>1</td>\n",
       "      <td>1</td>\n",
       "      <td>1698796800</td>\n",
       "      <td>UA</td>\n",
       "      <td>194.44.114.10</td>\n",
       "      <td>1</td>\n",
       "      <td></td>\n",
       "      <td>...</td>\n",
       "      <td>0.5</td>\n",
       "      <td>30</td>\n",
       "      <td>0.00</td>\n",
       "      <td>451</td>\n",
       "      <td>0.00</td>\n",
       "      <td>370</td>\n",
       "      <td>0.00</td>\n",
       "      <td>51</td>\n",
       "      <td>1.24</td>\n",
       "      <td>1698883200</td>\n",
       "    </tr>\n",
       "    <tr>\n",
       "      <th>275</th>\n",
       "      <td>12.0</td>\n",
       "      <td>525.60.11</td>\n",
       "      <td>1000</td>\n",
       "      <td>1</td>\n",
       "      <td>2</td>\n",
       "      <td>1709164800</td>\n",
       "      <td>UA</td>\n",
       "      <td>194.44.114.10</td>\n",
       "      <td>1</td>\n",
       "      <td></td>\n",
       "      <td>...</td>\n",
       "      <td>0.0</td>\n",
       "      <td>28</td>\n",
       "      <td>0.15</td>\n",
       "      <td>513</td>\n",
       "      <td>0.00</td>\n",
       "      <td>446</td>\n",
       "      <td>0.00</td>\n",
       "      <td>68</td>\n",
       "      <td>1.76</td>\n",
       "      <td>1708300800</td>\n",
       "    </tr>\n",
       "    <tr>\n",
       "      <th>283</th>\n",
       "      <td>12.0</td>\n",
       "      <td>525.60.11</td>\n",
       "      <td>1000</td>\n",
       "      <td>2</td>\n",
       "      <td>1</td>\n",
       "      <td>1698796800</td>\n",
       "      <td>UA</td>\n",
       "      <td>194.44.114.10</td>\n",
       "      <td>1</td>\n",
       "      <td></td>\n",
       "      <td>...</td>\n",
       "      <td>0.0</td>\n",
       "      <td>22</td>\n",
       "      <td>0.68</td>\n",
       "      <td>444</td>\n",
       "      <td>0.00</td>\n",
       "      <td>398</td>\n",
       "      <td>0.00</td>\n",
       "      <td>48</td>\n",
       "      <td>2.22</td>\n",
       "      <td>1698883200</td>\n",
       "    </tr>\n",
       "    <tr>\n",
       "      <th>...</th>\n",
       "      <td>...</td>\n",
       "      <td>...</td>\n",
       "      <td>...</td>\n",
       "      <td>...</td>\n",
       "      <td>...</td>\n",
       "      <td>...</td>\n",
       "      <td>...</td>\n",
       "      <td>...</td>\n",
       "      <td>...</td>\n",
       "      <td>...</td>\n",
       "      <td>...</td>\n",
       "      <td>...</td>\n",
       "      <td>...</td>\n",
       "      <td>...</td>\n",
       "      <td>...</td>\n",
       "      <td>...</td>\n",
       "      <td>...</td>\n",
       "      <td>...</td>\n",
       "      <td>...</td>\n",
       "      <td>...</td>\n",
       "      <td>...</td>\n",
       "    </tr>\n",
       "    <tr>\n",
       "      <th>22952</th>\n",
       "      <td>12.2</td>\n",
       "      <td>535.161.08</td>\n",
       "      <td>1000</td>\n",
       "      <td>1</td>\n",
       "      <td>0</td>\n",
       "      <td>1717372800</td>\n",
       "      <td>CZ</td>\n",
       "      <td>90.183.51.3</td>\n",
       "      <td>1</td>\n",
       "      <td>O2 Czech Republic</td>\n",
       "      <td>...</td>\n",
       "      <td>0.0</td>\n",
       "      <td>555</td>\n",
       "      <td>10.25</td>\n",
       "      <td>0</td>\n",
       "      <td>0.00</td>\n",
       "      <td>0</td>\n",
       "      <td>0.00</td>\n",
       "      <td>6</td>\n",
       "      <td>0.64</td>\n",
       "      <td>1714694400</td>\n",
       "    </tr>\n",
       "    <tr>\n",
       "      <th>22953</th>\n",
       "      <td>12.4</td>\n",
       "      <td>550.54.15</td>\n",
       "      <td>0</td>\n",
       "      <td>1</td>\n",
       "      <td>0</td>\n",
       "      <td>1717200000</td>\n",
       "      <td></td>\n",
       "      <td>160.202.129.99</td>\n",
       "      <td>1</td>\n",
       "      <td></td>\n",
       "      <td>...</td>\n",
       "      <td>0.0</td>\n",
       "      <td>288</td>\n",
       "      <td>689.93</td>\n",
       "      <td>0</td>\n",
       "      <td>0.00</td>\n",
       "      <td>0</td>\n",
       "      <td>0.00</td>\n",
       "      <td>2</td>\n",
       "      <td>3.77</td>\n",
       "      <td>1714694400</td>\n",
       "    </tr>\n",
       "    <tr>\n",
       "      <th>22954</th>\n",
       "      <td>12.2</td>\n",
       "      <td>535.171.04</td>\n",
       "      <td>0</td>\n",
       "      <td>1</td>\n",
       "      <td>0</td>\n",
       "      <td>1715472000</td>\n",
       "      <td>PL</td>\n",
       "      <td>188.33.248.125</td>\n",
       "      <td>0</td>\n",
       "      <td>Play</td>\n",
       "      <td>...</td>\n",
       "      <td>0.0</td>\n",
       "      <td>77</td>\n",
       "      <td>13.41</td>\n",
       "      <td>0</td>\n",
       "      <td>0.00</td>\n",
       "      <td>0</td>\n",
       "      <td>0.00</td>\n",
       "      <td>12</td>\n",
       "      <td>2.12</td>\n",
       "      <td>1714694400</td>\n",
       "    </tr>\n",
       "    <tr>\n",
       "      <th>22956</th>\n",
       "      <td>12.2</td>\n",
       "      <td>535.171.04</td>\n",
       "      <td>2</td>\n",
       "      <td>1</td>\n",
       "      <td>0</td>\n",
       "      <td>1715385600</td>\n",
       "      <td>CA</td>\n",
       "      <td>70.70.153.119</td>\n",
       "      <td>0</td>\n",
       "      <td>Shaw Communications</td>\n",
       "      <td>...</td>\n",
       "      <td>0.0</td>\n",
       "      <td>8</td>\n",
       "      <td>1.50</td>\n",
       "      <td>0</td>\n",
       "      <td>0.00</td>\n",
       "      <td>0</td>\n",
       "      <td>0.00</td>\n",
       "      <td>3</td>\n",
       "      <td>0.50</td>\n",
       "      <td>1714694400</td>\n",
       "    </tr>\n",
       "    <tr>\n",
       "      <th>22958</th>\n",
       "      <td>12.4</td>\n",
       "      <td>550.78</td>\n",
       "      <td>401</td>\n",
       "      <td>1</td>\n",
       "      <td>0</td>\n",
       "      <td>2465683200</td>\n",
       "      <td>US</td>\n",
       "      <td>50.46.244.80</td>\n",
       "      <td>0</td>\n",
       "      <td>Ziply Fiber</td>\n",
       "      <td>...</td>\n",
       "      <td>0.0</td>\n",
       "      <td>333</td>\n",
       "      <td>79.46</td>\n",
       "      <td>0</td>\n",
       "      <td>0.00</td>\n",
       "      <td>0</td>\n",
       "      <td>0.00</td>\n",
       "      <td>7</td>\n",
       "      <td>2.43</td>\n",
       "      <td>1714694400</td>\n",
       "    </tr>\n",
       "  </tbody>\n",
       "</table>\n",
       "<p>8639 rows × 46 columns</p>\n",
       "</div>"
      ]
     },
     "execution_count": 175,
     "metadata": {},
     "output_type": "execute_result"
    }
   ],
   "execution_count": 175
  },
  {
   "metadata": {
    "ExecuteTime": {
     "end_time": "2024-05-07T17:59:34.874738Z",
     "start_time": "2024-05-07T17:59:34.654740Z"
    }
   },
   "cell_type": "code",
   "source": [
    "# preprocess\n",
    "df.dph_base = (df.dph_base / df.num_gpus)"
   ],
   "id": "82c3b70521d01932",
   "outputs": [],
   "execution_count": 176
  },
  {
   "metadata": {
    "ExecuteTime": {
     "end_time": "2024-05-07T17:59:35.106738Z",
     "start_time": "2024-05-07T17:59:34.876740Z"
    }
   },
   "cell_type": "code",
   "source": [
    "countries = df.query(\"gpu_name == 'RTX 4090'\").groupby('country')['country'].count().sort_values(ascending=False)\n",
    "countries[countries > 30]"
   ],
   "id": "7473fc1bae79ae01",
   "outputs": [
    {
     "data": {
      "text/plain": [
       "country\n",
       "US    771\n",
       "CA    242\n",
       "CN    172\n",
       "KR    163\n",
       "GB    108\n",
       "IS    104\n",
       "NO     90\n",
       "JP     88\n",
       "RU     73\n",
       "       72\n",
       "TW     68\n",
       "CZ     53\n",
       "ES     47\n",
       "PL     38\n",
       "DE     37\n",
       "FR     35\n",
       "RO     33\n",
       "NL     33\n",
       "BG     31\n",
       "Name: country, dtype: int64"
      ]
     },
     "execution_count": 177,
     "metadata": {},
     "output_type": "execute_result"
    }
   ],
   "execution_count": 177
  },
  {
   "metadata": {
    "ExecuteTime": {
     "end_time": "2024-05-07T17:59:35.339740Z",
     "start_time": "2024-05-07T17:59:35.107739Z"
    }
   },
   "cell_type": "code",
   "source": [
    "cnt = df.query(\"verification == 1 & num_gpus_rented > 0 & hosting_type == 0 & gpu_name == 'RTX 4090'\").groupby('country')['country'].count().sort_values(ascending=False)\n",
    "cnt[cnt > 10]"
   ],
   "id": "bd47fb9b8a068e6c",
   "outputs": [
    {
     "data": {
      "text/plain": [
       "country\n",
       "US    225\n",
       "CA     62\n",
       "JP     48\n",
       "TW     40\n",
       "KR     29\n",
       "NO     27\n",
       "GB     27\n",
       "RU     19\n",
       "RO     19\n",
       "ES     18\n",
       "TR     16\n",
       "PL     16\n",
       "VN     14\n",
       "FI     14\n",
       "Name: country, dtype: int64"
      ]
     },
     "execution_count": 178,
     "metadata": {},
     "output_type": "execute_result"
    }
   ],
   "execution_count": 178
  },
  {
   "metadata": {
    "ExecuteTime": {
     "end_time": "2024-05-07T17:59:35.569738Z",
     "start_time": "2024-05-07T17:59:35.340740Z"
    }
   },
   "cell_type": "code",
   "source": [
    "mask = df.country.isin(cnt[cnt > 10].index)\n",
    "mask.sum()"
   ],
   "id": "59d5d1f8c70e8679",
   "outputs": [
    {
     "data": {
      "text/plain": [
       "5628"
      ]
     },
     "execution_count": 179,
     "metadata": {},
     "output_type": "execute_result"
    }
   ],
   "execution_count": 179
  },
  {
   "metadata": {
    "ExecuteTime": {
     "end_time": "2024-05-07T18:03:17.037145Z",
     "start_time": "2024-05-07T18:03:16.791148Z"
    }
   },
   "cell_type": "code",
   "source": "df[mask].query(\"verification == 1 & num_gpus_rented > 0 & hosting_type == 0 & gpu_name == 'RTX 4090'\").groupby('country')[['dph_base', 'inet_down_avg', 'inet_up_avg', 'disk_bw_avg', 'storage_cost', 'inet_up_cost', 'inet_down_cost', 'credit_discount_max']].mean().sort_values(by='dph_base', ascending=False).round().astype(int)",
   "id": "27e4fa69b72888f9",
   "outputs": [
    {
     "data": {
      "text/plain": [
       "         dph_base  inet_down_avg  inet_up_avg  disk_bw_avg  storage_cost  \\\n",
       "country                                                                    \n",
       "JP            583           2377         1499         3706           217   \n",
       "ES            579           4880         4240         4875           171   \n",
       "FI            532            663          514         2854           326   \n",
       "US            523           1683         1224         4232           202   \n",
       "RO            511            510          481         4315           176   \n",
       "GB            489            963          536         3353           287   \n",
       "NO            482            604          537         3652           206   \n",
       "CA            448            784          721         3154           303   \n",
       "VN            438            798          781         6002           150   \n",
       "PL            433            616          286         3413           276   \n",
       "TW            432           1068          616         4032           320   \n",
       "KR            420            306          270         2088           157   \n",
       "TR            400            244          214         3431           150   \n",
       "RU            399            339          314         3967           218   \n",
       "\n",
       "         inet_up_cost  inet_down_cost  credit_discount_max  \n",
       "country                                                     \n",
       "JP                  7               7                   38  \n",
       "ES                  8               5                   29  \n",
       "FI                  5               3                  107  \n",
       "US                  5               3                   78  \n",
       "RO                  6               4                   89  \n",
       "GB                  3               2                   52  \n",
       "NO                  6               6                   89  \n",
       "CA                  8               7                   73  \n",
       "VN                  0               0                    0  \n",
       "PL                  4               2                   81  \n",
       "TW                  7               5                   25  \n",
       "KR                  3               2                   28  \n",
       "TR                  3               2                    0  \n",
       "RU                  2               1                   43  "
      ],
      "text/html": [
       "<div>\n",
       "<style scoped>\n",
       "    .dataframe tbody tr th:only-of-type {\n",
       "        vertical-align: middle;\n",
       "    }\n",
       "\n",
       "    .dataframe tbody tr th {\n",
       "        vertical-align: top;\n",
       "    }\n",
       "\n",
       "    .dataframe thead th {\n",
       "        text-align: right;\n",
       "    }\n",
       "</style>\n",
       "<table border=\"1\" class=\"dataframe\">\n",
       "  <thead>\n",
       "    <tr style=\"text-align: right;\">\n",
       "      <th></th>\n",
       "      <th>dph_base</th>\n",
       "      <th>inet_down_avg</th>\n",
       "      <th>inet_up_avg</th>\n",
       "      <th>disk_bw_avg</th>\n",
       "      <th>storage_cost</th>\n",
       "      <th>inet_up_cost</th>\n",
       "      <th>inet_down_cost</th>\n",
       "      <th>credit_discount_max</th>\n",
       "    </tr>\n",
       "    <tr>\n",
       "      <th>country</th>\n",
       "      <th></th>\n",
       "      <th></th>\n",
       "      <th></th>\n",
       "      <th></th>\n",
       "      <th></th>\n",
       "      <th></th>\n",
       "      <th></th>\n",
       "      <th></th>\n",
       "    </tr>\n",
       "  </thead>\n",
       "  <tbody>\n",
       "    <tr>\n",
       "      <th>JP</th>\n",
       "      <td>583</td>\n",
       "      <td>2377</td>\n",
       "      <td>1499</td>\n",
       "      <td>3706</td>\n",
       "      <td>217</td>\n",
       "      <td>7</td>\n",
       "      <td>7</td>\n",
       "      <td>38</td>\n",
       "    </tr>\n",
       "    <tr>\n",
       "      <th>ES</th>\n",
       "      <td>579</td>\n",
       "      <td>4880</td>\n",
       "      <td>4240</td>\n",
       "      <td>4875</td>\n",
       "      <td>171</td>\n",
       "      <td>8</td>\n",
       "      <td>5</td>\n",
       "      <td>29</td>\n",
       "    </tr>\n",
       "    <tr>\n",
       "      <th>FI</th>\n",
       "      <td>532</td>\n",
       "      <td>663</td>\n",
       "      <td>514</td>\n",
       "      <td>2854</td>\n",
       "      <td>326</td>\n",
       "      <td>5</td>\n",
       "      <td>3</td>\n",
       "      <td>107</td>\n",
       "    </tr>\n",
       "    <tr>\n",
       "      <th>US</th>\n",
       "      <td>523</td>\n",
       "      <td>1683</td>\n",
       "      <td>1224</td>\n",
       "      <td>4232</td>\n",
       "      <td>202</td>\n",
       "      <td>5</td>\n",
       "      <td>3</td>\n",
       "      <td>78</td>\n",
       "    </tr>\n",
       "    <tr>\n",
       "      <th>RO</th>\n",
       "      <td>511</td>\n",
       "      <td>510</td>\n",
       "      <td>481</td>\n",
       "      <td>4315</td>\n",
       "      <td>176</td>\n",
       "      <td>6</td>\n",
       "      <td>4</td>\n",
       "      <td>89</td>\n",
       "    </tr>\n",
       "    <tr>\n",
       "      <th>GB</th>\n",
       "      <td>489</td>\n",
       "      <td>963</td>\n",
       "      <td>536</td>\n",
       "      <td>3353</td>\n",
       "      <td>287</td>\n",
       "      <td>3</td>\n",
       "      <td>2</td>\n",
       "      <td>52</td>\n",
       "    </tr>\n",
       "    <tr>\n",
       "      <th>NO</th>\n",
       "      <td>482</td>\n",
       "      <td>604</td>\n",
       "      <td>537</td>\n",
       "      <td>3652</td>\n",
       "      <td>206</td>\n",
       "      <td>6</td>\n",
       "      <td>6</td>\n",
       "      <td>89</td>\n",
       "    </tr>\n",
       "    <tr>\n",
       "      <th>CA</th>\n",
       "      <td>448</td>\n",
       "      <td>784</td>\n",
       "      <td>721</td>\n",
       "      <td>3154</td>\n",
       "      <td>303</td>\n",
       "      <td>8</td>\n",
       "      <td>7</td>\n",
       "      <td>73</td>\n",
       "    </tr>\n",
       "    <tr>\n",
       "      <th>VN</th>\n",
       "      <td>438</td>\n",
       "      <td>798</td>\n",
       "      <td>781</td>\n",
       "      <td>6002</td>\n",
       "      <td>150</td>\n",
       "      <td>0</td>\n",
       "      <td>0</td>\n",
       "      <td>0</td>\n",
       "    </tr>\n",
       "    <tr>\n",
       "      <th>PL</th>\n",
       "      <td>433</td>\n",
       "      <td>616</td>\n",
       "      <td>286</td>\n",
       "      <td>3413</td>\n",
       "      <td>276</td>\n",
       "      <td>4</td>\n",
       "      <td>2</td>\n",
       "      <td>81</td>\n",
       "    </tr>\n",
       "    <tr>\n",
       "      <th>TW</th>\n",
       "      <td>432</td>\n",
       "      <td>1068</td>\n",
       "      <td>616</td>\n",
       "      <td>4032</td>\n",
       "      <td>320</td>\n",
       "      <td>7</td>\n",
       "      <td>5</td>\n",
       "      <td>25</td>\n",
       "    </tr>\n",
       "    <tr>\n",
       "      <th>KR</th>\n",
       "      <td>420</td>\n",
       "      <td>306</td>\n",
       "      <td>270</td>\n",
       "      <td>2088</td>\n",
       "      <td>157</td>\n",
       "      <td>3</td>\n",
       "      <td>2</td>\n",
       "      <td>28</td>\n",
       "    </tr>\n",
       "    <tr>\n",
       "      <th>TR</th>\n",
       "      <td>400</td>\n",
       "      <td>244</td>\n",
       "      <td>214</td>\n",
       "      <td>3431</td>\n",
       "      <td>150</td>\n",
       "      <td>3</td>\n",
       "      <td>2</td>\n",
       "      <td>0</td>\n",
       "    </tr>\n",
       "    <tr>\n",
       "      <th>RU</th>\n",
       "      <td>399</td>\n",
       "      <td>339</td>\n",
       "      <td>314</td>\n",
       "      <td>3967</td>\n",
       "      <td>218</td>\n",
       "      <td>2</td>\n",
       "      <td>1</td>\n",
       "      <td>43</td>\n",
       "    </tr>\n",
       "  </tbody>\n",
       "</table>\n",
       "</div>"
      ]
     },
     "execution_count": 181,
     "metadata": {},
     "output_type": "execute_result"
    }
   ],
   "execution_count": 181
  },
  {
   "cell_type": "code",
   "execution_count": 186,
   "outputs": [],
   "source": [
    "\n",
    "# machine_id = 12113\n",
    "# machine_id = 8506\n",
    "# ts = rel_df.loc[machine_id, 'timestamp']\n",
    "# vals = rel_df.loc[machine_id, 'reliability']\n",
    "# if ts.shape:\n",
    "#     ts = ts.values\n",
    "#     vals = vals.values\n",
    "# df.loc[ts, machine_id] = vals\n"
   ],
   "metadata": {
    "collapsed": false,
    "ExecuteTime": {
     "end_time": "2023-09-08T09:48:47.082051300Z",
     "start_time": "2023-09-08T09:48:46.954112100Z"
    }
   },
   "id": "21e423cd115af352"
  },
  {
   "cell_type": "code",
   "execution_count": 187,
   "outputs": [
    {
     "name": "stdout",
     "output_type": "stream",
     "text": [
      "CPU times: total: 1.62 s\n",
      "Wall time: 1.62 s\n"
     ]
    }
   ],
   "source": [
    "%%time\n",
    "for machine_id in machine_ids:\n",
    "    try:\n",
    "        ts = rel_df.loc[machine_id, 'timestamp']\n",
    "        vals = rel_df.loc[machine_id, 'reliability']\n",
    "        if ts.shape:\n",
    "            ts = ts.values\n",
    "            vals = vals.values\n",
    "        df.loc[ts, machine_id] = vals\n",
    "    except Exception as e:\n",
    "        print(machine_id, e)"
   ],
   "metadata": {
    "collapsed": false,
    "ExecuteTime": {
     "end_time": "2023-09-08T09:48:48.833016400Z",
     "start_time": "2023-09-08T09:48:47.082051300Z"
    }
   },
   "id": "e46545defac20aa8"
  },
  {
   "cell_type": "code",
   "execution_count": 189,
   "outputs": [
    {
     "name": "stdout",
     "output_type": "stream",
     "text": [
      "<class 'pandas.core.frame.DataFrame'>\n",
      "Int64Index: 26378 entries, 1691935057 to 1694165858\n",
      "Columns: 1957 entries, (162,) to (12852,)\n",
      "dtypes: UInt16(1957)\n",
      "memory usage: 148.9 MB\n"
     ]
    }
   ],
   "source": [
    "df.info()"
   ],
   "metadata": {
    "collapsed": false,
    "ExecuteTime": {
     "end_time": "2023-09-08T09:48:49.493988900Z",
     "start_time": "2023-09-08T09:48:49.229180200Z"
    }
   },
   "id": "63efd61455d1fe79"
  },
  {
   "cell_type": "code",
   "execution_count": 204,
   "outputs": [],
   "source": [
    "# by timestamp\n",
    "def explode_table(id_col, col, table, conn):    \n",
    "    ts_idx = pd.read_sql('SELECT timestamp FROM timestamp_tbl', conn).timestamp.values\n",
    "    raw_df = pd.read_sql(f'SELECT timestamp, {id_col}, {col} FROM {table}', conn).set_index(id_col)\n",
    "    raw_df.sort_index(inplace=True)\n",
    "    raw_df = reduce_mem_usage(raw_df)\n",
    "    raw_df[col] = raw_df[col].convert_dtypes()\n",
    "    ids = raw_df.index.unique()\n",
    "    \n",
    "    df = pd.DataFrame(columns=[ids], index=ts_idx, dtype=raw_df[col].dtype)    \n",
    "    \n",
    "    for idx in ids:\n",
    "        ts = raw_df.loc[idx, 'timestamp']\n",
    "        vals = raw_df.loc[idx, col]\n",
    "        if ts.shape:\n",
    "            ts = ts.values\n",
    "            vals = vals.values\n",
    "        df.loc[ts, idx] = vals\n",
    "        \n",
    "    df.fillna(method='ffill', inplace=True)\n",
    "    return df"
   ],
   "metadata": {
    "collapsed": false,
    "ExecuteTime": {
     "end_time": "2023-09-08T12:19:10.198707700Z",
     "start_time": "2023-09-08T12:19:10.076679900Z"
    }
   },
   "id": "f44495ada2a73970"
  },
  {
   "cell_type": "code",
   "execution_count": 205,
   "outputs": [
    {
     "name": "stdout",
     "output_type": "stream",
     "text": [
      "<class 'pandas.core.frame.DataFrame'>\n",
      "Int64Index: 26975 entries, 1691935057 to 1694165858\n",
      "Columns: 1957 entries, (162,) to (12852,)\n",
      "dtypes: Int8(1957)\n",
      "memory usage: 101.9 MB\n"
     ]
    }
   ],
   "source": [
    "df = explode_table('machine_id', 'online', 'online_ts', conn)\n",
    "df.info()"
   ],
   "metadata": {
    "collapsed": false,
    "ExecuteTime": {
     "end_time": "2023-09-08T12:19:14.179463100Z",
     "start_time": "2023-09-08T12:19:11.125611800Z"
    }
   },
   "id": "c54b3f2a58f44d31"
  },
  {
   "cell_type": "code",
   "execution_count": 201,
   "outputs": [
    {
     "name": "stdout",
     "output_type": "stream",
     "text": [
      "<class 'pandas.core.frame.DataFrame'>\n",
      "Int64Index: 26975 entries, 1691935057 to 1694165858\n",
      "Columns: 1957 entries, (162,) to (12852,)\n",
      "dtypes: uint8(1957)\n",
      "memory usage: 51.6 MB\n"
     ]
    }
   ],
   "source": [
    "df.fillna(0, inplace=True)\n",
    "df.astype(np.uint8).info()"
   ],
   "metadata": {
    "collapsed": false,
    "ExecuteTime": {
     "end_time": "2023-09-08T10:11:01.459148500Z",
     "start_time": "2023-09-08T10:11:01.002033600Z"
    }
   },
   "id": "6ef4adda49fc78ed"
  },
  {
   "cell_type": "code",
   "execution_count": null,
   "outputs": [],
   "source": [
    "ts_rent = pd.read_sql('SELECT DISTINCT timestamp FROM rent_ts', conn).timestamp\n",
    "ts_rent.shape"
   ],
   "metadata": {
    "collapsed": false,
    "ExecuteTime": {
     "start_time": "2023-09-08T09:48:50.939575Z"
    }
   },
   "id": "4326b46c667638f6"
  },
  {
   "cell_type": "code",
   "execution_count": null,
   "outputs": [],
   "source": [
    "ts_rel = pd.read_sql('SELECT DISTINCT timestamp FROM reliability_ts', conn).timestamp\n",
    "ts_rel.shape"
   ],
   "metadata": {
    "collapsed": false,
    "ExecuteTime": {
     "start_time": "2023-09-08T09:48:50.940575100Z"
    }
   },
   "id": "90b98c46ba3cbe08"
  },
  {
   "cell_type": "code",
   "execution_count": null,
   "outputs": [],
   "source": [
    "ts_rent[~ts_rent.isin(ts_rel)]"
   ],
   "metadata": {
    "collapsed": false,
    "ExecuteTime": {
     "start_time": "2023-09-08T09:48:50.942575700Z"
    }
   },
   "id": "51f5bc88daef45a4"
  },
  {
   "cell_type": "code",
   "execution_count": null,
   "outputs": [],
   "source": [
    "df = explode_table('id', 'rented', 'rent_ts', conn)\n",
    "df.info()"
   ],
   "metadata": {
    "collapsed": false,
    "ExecuteTime": {
     "end_time": "2023-09-08T09:48:50.945577500Z",
     "start_time": "2023-09-08T09:48:50.944576200Z"
    }
   },
   "id": "5c29292dcb4446b8"
  },
  {
   "cell_type": "code",
   "execution_count": null,
   "outputs": [],
   "source": [
    "df[274].dropna().eq(0).sum()"
   ],
   "metadata": {
    "collapsed": false,
    "ExecuteTime": {
     "start_time": "2023-09-08T09:48:50.946918500Z"
    }
   },
   "id": "4a881ddd82907955"
  },
  {
   "cell_type": "code",
   "execution_count": null,
   "outputs": [],
   "source": [
    "for col in df:\n",
    "    if df[col].eq(0).any():\n",
    "        print(col)"
   ],
   "metadata": {
    "collapsed": false,
    "ExecuteTime": {
     "start_time": "2023-09-08T09:48:50.948904300Z"
    }
   },
   "id": "e2c8a701974e4325"
  },
  {
   "cell_type": "code",
   "execution_count": null,
   "outputs": [],
   "source": [
    "arr = df[12760].fillna(0).values"
   ],
   "metadata": {
    "collapsed": false,
    "ExecuteTime": {
     "end_time": "2023-09-08T09:48:50.958908600Z",
     "start_time": "2023-09-08T09:48:50.950904900Z"
    }
   },
   "id": "3ab28bcf0c275914"
  },
  {
   "cell_type": "code",
   "execution_count": null,
   "outputs": [],
   "source": [
    "%timeit non_zero_idx = np.nonzero(arr); _ = arr[non_zero_idx]"
   ],
   "metadata": {
    "collapsed": false,
    "ExecuteTime": {
     "start_time": "2023-09-08T09:48:50.952905400Z"
    }
   },
   "id": "247c7cd156b4466a"
  },
  {
   "cell_type": "code",
   "execution_count": null,
   "outputs": [],
   "source": [
    "%timeit _ = arr[non_zero_idx]"
   ],
   "metadata": {
    "collapsed": false,
    "ExecuteTime": {
     "start_time": "2023-09-08T09:48:50.953905600Z"
    }
   },
   "id": "19a70d1b656b1508"
  },
  {
   "cell_type": "code",
   "execution_count": null,
   "outputs": [],
   "source": [
    "from pandas.core.dtypes.common import is_integer_dtype, is_float_dtype\n",
    "\n"
   ],
   "metadata": {
    "collapsed": false,
    "ExecuteTime": {
     "start_time": "2023-09-08T09:48:50.955905800Z"
    }
   },
   "id": "dfb7b0ceea3a89c0"
  }
 ],
 "metadata": {
  "kernelspec": {
   "display_name": "Python 3",
   "language": "python",
   "name": "python3"
  },
  "language_info": {
   "codemirror_mode": {
    "name": "ipython",
    "version": 2
   },
   "file_extension": ".py",
   "mimetype": "text/x-python",
   "name": "python",
   "nbconvert_exporter": "python",
   "pygments_lexer": "ipython2",
   "version": "2.7.6"
  }
 },
 "nbformat": 4,
 "nbformat_minor": 5
}
