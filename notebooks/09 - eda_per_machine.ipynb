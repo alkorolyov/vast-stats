{
 "cells": [
  {
   "cell_type": "code",
   "execution_count": 152,
   "metadata": {
    "collapsed": true,
    "ExecuteTime": {
     "end_time": "2023-10-21T04:16:04.859395Z",
     "start_time": "2023-10-21T04:16:04.725365200Z"
    }
   },
   "outputs": [],
   "source": [
    "import matplotlib.pyplot as plt\n",
    "import pandas as pd\n",
    "import numpy as np\n",
    "import requests\n",
    "\n",
    "import seaborn as sns\n",
    "import matplotlib.pyplot as plt"
   ]
  },
  {
   "cell_type": "code",
   "execution_count": 153,
   "outputs": [],
   "source": [
    "from src.manager import DbManager\n",
    "\n",
    "dbm = DbManager('../data/vast.db')\n",
    "dbm.connect()"
   ],
   "metadata": {
    "collapsed": false,
    "ExecuteTime": {
     "end_time": "2023-10-21T04:16:04.859395Z",
     "start_time": "2023-10-21T04:16:04.743369300Z"
    }
   }
  },
  {
   "cell_type": "code",
   "execution_count": 154,
   "outputs": [
    {
     "data": {
      "text/plain": "count    2851.000000\nmean       55.715889\nstd         9.041190\nmin        21.000000\n25%        53.000000\n50%        54.000000\n75%        56.000000\nmax       161.000000\nName: timestamp, dtype: float64"
     },
     "execution_count": 154,
     "metadata": {},
     "output_type": "execute_result"
    }
   ],
   "source": [
    "ts_idx = dbm.table_to_df('ts_idx').timestamp\n",
    "ts_idx.diff().describe()"
   ],
   "metadata": {
    "collapsed": false,
    "ExecuteTime": {
     "end_time": "2023-10-21T04:16:04.859395Z",
     "start_time": "2023-10-21T04:16:04.759373900Z"
    }
   }
  },
  {
   "cell_type": "code",
   "execution_count": 155,
   "outputs": [
    {
     "name": "stderr",
     "output_type": "stream",
     "text": [
      "C:\\Users\\ergot\\mambaforge\\envs\\ml\\lib\\site-packages\\seaborn\\_oldcore.py:1498: FutureWarning: is_categorical_dtype is deprecated and will be removed in a future version. Use isinstance(dtype, CategoricalDtype) instead\n",
      "  if pd.api.types.is_categorical_dtype(vector):\n",
      "C:\\Users\\ergot\\mambaforge\\envs\\ml\\lib\\site-packages\\seaborn\\_oldcore.py:1119: FutureWarning: use_inf_as_na option is deprecated and will be removed in a future version. Convert inf values to NaN before operating instead.\n",
      "  with pd.option_context('mode.use_inf_as_na', True):\n"
     ]
    },
    {
     "data": {
      "text/plain": "<Figure size 640x480 with 1 Axes>",
      "image/png": "[encoded data removed]"
     },
     "metadata": {},
     "output_type": "display_data"
    }
   ],
   "source": [
    "sns.histplot(ts_idx.diff());"
   ],
   "metadata": {
    "collapsed": false,
    "ExecuteTime": {
     "end_time": "2023-10-21T04:16:05.466533Z",
     "start_time": "2023-10-21T04:16:04.775377300Z"
    }
   }
  },
  {
   "cell_type": "code",
   "execution_count": 156,
   "outputs": [],
   "source": [
    "cost = dbm.table_to_df('cost_ts').set_index('machine_id')\n",
    "\n",
    "\n"
   ],
   "metadata": {
    "collapsed": false,
    "ExecuteTime": {
     "end_time": "2023-10-21T04:16:05.522545600Z",
     "start_time": "2023-10-21T04:16:05.460531700Z"
    }
   }
  },
  {
   "cell_type": "code",
   "execution_count": 157,
   "outputs": [
    {
     "data": {
      "text/plain": "            dph_base   timestamp\nmachine_id                      \n14096            440  1697699070",
      "text/html": "<div>\n<style scoped>\n    .dataframe tbody tr th:only-of-type {\n        vertical-align: middle;\n    }\n\n    .dataframe tbody tr th {\n        vertical-align: top;\n    }\n\n    .dataframe thead th {\n        text-align: right;\n    }\n</style>\n<table border=\"1\" class=\"dataframe\">\n  <thead>\n    <tr style=\"text-align: right;\">\n      <th></th>\n      <th>dph_base</th>\n      <th>timestamp</th>\n    </tr>\n    <tr>\n      <th>machine_id</th>\n      <th></th>\n      <th></th>\n    </tr>\n  </thead>\n  <tbody>\n    <tr>\n      <th>14096</th>\n      <td>440</td>\n      <td>1697699070</td>\n    </tr>\n  </tbody>\n</table>\n</div>"
     },
     "execution_count": 157,
     "metadata": {},
     "output_type": "execute_result"
    }
   ],
   "source": [
    "df = cost[['dph_base', 'timestamp']]\n",
    "df = df.loc[14096]\n",
    "mask = df.dph_base.shift() != df.dph_base\n",
    "df.loc[mask]"
   ],
   "metadata": {
    "collapsed": false,
    "ExecuteTime": {
     "end_time": "2023-10-21T04:16:05.523546200Z",
     "start_time": "2023-10-21T04:16:05.507543300Z"
    }
   }
  },
  {
   "cell_type": "code",
   "execution_count": 158,
   "outputs": [
    {
     "data": {
      "text/plain": "            dph_base  timestamp\nmachine_id                     \n32               100          1\n32               100          2\n32               200          3\n120              200          1\n120              250          2\n120              200          3",
      "text/html": "<div>\n<style scoped>\n    .dataframe tbody tr th:only-of-type {\n        vertical-align: middle;\n    }\n\n    .dataframe tbody tr th {\n        vertical-align: top;\n    }\n\n    .dataframe thead th {\n        text-align: right;\n    }\n</style>\n<table border=\"1\" class=\"dataframe\">\n  <thead>\n    <tr style=\"text-align: right;\">\n      <th></th>\n      <th>dph_base</th>\n      <th>timestamp</th>\n    </tr>\n    <tr>\n      <th>machine_id</th>\n      <th></th>\n      <th></th>\n    </tr>\n  </thead>\n  <tbody>\n    <tr>\n      <th>32</th>\n      <td>100</td>\n      <td>1</td>\n    </tr>\n    <tr>\n      <th>32</th>\n      <td>100</td>\n      <td>2</td>\n    </tr>\n    <tr>\n      <th>32</th>\n      <td>200</td>\n      <td>3</td>\n    </tr>\n    <tr>\n      <th>120</th>\n      <td>200</td>\n      <td>1</td>\n    </tr>\n    <tr>\n      <th>120</th>\n      <td>250</td>\n      <td>2</td>\n    </tr>\n    <tr>\n      <th>120</th>\n      <td>200</td>\n      <td>3</td>\n    </tr>\n  </tbody>\n</table>\n</div>"
     },
     "execution_count": 158,
     "metadata": {},
     "output_type": "execute_result"
    }
   ],
   "source": [
    "df = pd.DataFrame({'dph_base': [100, 100 , 200, 200, 250, 200], \n",
    "                   'timestamp': [1, 2, 3, 1, 2, 3]},\n",
    "                  # columns=['dph_base', 'timestamp'],\n",
    "                  index=[32, 32, 32, 120, 120, 120])\n",
    "df.index.name = 'machine_id'\n",
    "df"
   ],
   "metadata": {
    "collapsed": false,
    "ExecuteTime": {
     "end_time": "2023-10-21T04:16:05.547551800Z",
     "start_time": "2023-10-21T04:16:05.524545900Z"
    }
   }
  },
  {
   "cell_type": "code",
   "execution_count": 159,
   "outputs": [],
   "source": [
    "def drop_dph_duplicates(df_):\n",
    "    return df_.loc[df_.dph_base.shift() != df_.dph_base]"
   ],
   "metadata": {
    "collapsed": false,
    "ExecuteTime": {
     "end_time": "2023-10-21T04:16:05.634571200Z",
     "start_time": "2023-10-21T04:16:05.539549600Z"
    }
   }
  },
  {
   "cell_type": "code",
   "execution_count": 160,
   "outputs": [
    {
     "data": {
      "text/plain": "            dph_base  timestamp\nmachine_id                     \n32               100          1\n32               200          3\n120              200          1\n120              250          2\n120              200          3",
      "text/html": "<div>\n<style scoped>\n    .dataframe tbody tr th:only-of-type {\n        vertical-align: middle;\n    }\n\n    .dataframe tbody tr th {\n        vertical-align: top;\n    }\n\n    .dataframe thead th {\n        text-align: right;\n    }\n</style>\n<table border=\"1\" class=\"dataframe\">\n  <thead>\n    <tr style=\"text-align: right;\">\n      <th></th>\n      <th>dph_base</th>\n      <th>timestamp</th>\n    </tr>\n    <tr>\n      <th>machine_id</th>\n      <th></th>\n      <th></th>\n    </tr>\n  </thead>\n  <tbody>\n    <tr>\n      <th>32</th>\n      <td>100</td>\n      <td>1</td>\n    </tr>\n    <tr>\n      <th>32</th>\n      <td>200</td>\n      <td>3</td>\n    </tr>\n    <tr>\n      <th>120</th>\n      <td>200</td>\n      <td>1</td>\n    </tr>\n    <tr>\n      <th>120</th>\n      <td>250</td>\n      <td>2</td>\n    </tr>\n    <tr>\n      <th>120</th>\n      <td>200</td>\n      <td>3</td>\n    </tr>\n  </tbody>\n</table>\n</div>"
     },
     "execution_count": 160,
     "metadata": {},
     "output_type": "execute_result"
    }
   ],
   "source": [
    "df.groupby('machine_id').apply(drop_dph_duplicates).reset_index(level=0, drop=True)"
   ],
   "metadata": {
    "collapsed": false,
    "ExecuteTime": {
     "end_time": "2023-10-21T04:16:05.634571200Z",
     "start_time": "2023-10-21T04:16:05.555553800Z"
    }
   }
  },
  {
   "cell_type": "code",
   "execution_count": 161,
   "outputs": [
    {
     "data": {
      "text/plain": "            dph_base   timestamp\nmachine_id                      \n63              1000  1697699070\n162              600  1697699070\n274              440  1697699070\n275              440  1697699070\n283              330  1697699070\n...              ...         ...\n14385            440  1697852228\n14386           2800  1697854838\n14388            200  1697848348\n14389            140  1697851368\n14389            130  1697851421\n\n[4030 rows x 2 columns]",
      "text/html": "<div>\n<style scoped>\n    .dataframe tbody tr th:only-of-type {\n        vertical-align: middle;\n    }\n\n    .dataframe tbody tr th {\n        vertical-align: top;\n    }\n\n    .dataframe thead th {\n        text-align: right;\n    }\n</style>\n<table border=\"1\" class=\"dataframe\">\n  <thead>\n    <tr style=\"text-align: right;\">\n      <th></th>\n      <th>dph_base</th>\n      <th>timestamp</th>\n    </tr>\n    <tr>\n      <th>machine_id</th>\n      <th></th>\n      <th></th>\n    </tr>\n  </thead>\n  <tbody>\n    <tr>\n      <th>63</th>\n      <td>1000</td>\n      <td>1697699070</td>\n    </tr>\n    <tr>\n      <th>162</th>\n      <td>600</td>\n      <td>1697699070</td>\n    </tr>\n    <tr>\n      <th>274</th>\n      <td>440</td>\n      <td>1697699070</td>\n    </tr>\n    <tr>\n      <th>275</th>\n      <td>440</td>\n      <td>1697699070</td>\n    </tr>\n    <tr>\n      <th>283</th>\n      <td>330</td>\n      <td>1697699070</td>\n    </tr>\n    <tr>\n      <th>...</th>\n      <td>...</td>\n      <td>...</td>\n    </tr>\n    <tr>\n      <th>14385</th>\n      <td>440</td>\n      <td>1697852228</td>\n    </tr>\n    <tr>\n      <th>14386</th>\n      <td>2800</td>\n      <td>1697854838</td>\n    </tr>\n    <tr>\n      <th>14388</th>\n      <td>200</td>\n      <td>1697848348</td>\n    </tr>\n    <tr>\n      <th>14389</th>\n      <td>140</td>\n      <td>1697851368</td>\n    </tr>\n    <tr>\n      <th>14389</th>\n      <td>130</td>\n      <td>1697851421</td>\n    </tr>\n  </tbody>\n</table>\n<p>4030 rows × 2 columns</p>\n</div>"
     },
     "execution_count": 161,
     "metadata": {},
     "output_type": "execute_result"
    }
   ],
   "source": [
    "cost = cost[['dph_base', 'timestamp']].groupby('machine_id').apply(drop_dph_duplicates).reset_index(level=0, drop=True)\n",
    "cost"
   ],
   "metadata": {
    "collapsed": false,
    "ExecuteTime": {
     "end_time": "2023-10-21T04:16:06.548775900Z",
     "start_time": "2023-10-21T04:16:05.571556900Z"
    }
   }
  },
  {
   "cell_type": "code",
   "execution_count": 162,
   "outputs": [
    {
     "data": {
      "text/plain": "machine_id\n13785    844\n6160     571\n11038    401\n7135     189\n9459     155\n        ... \n13141      1\n13143      1\n13148      1\n13150      1\n14389      1\nName: timestamp, Length: 2037, dtype: int64"
     },
     "execution_count": 162,
     "metadata": {},
     "output_type": "execute_result"
    }
   ],
   "source": [
    "rent = dbm.table_to_df('rent_ts').set_index('machine_id')\n",
    "rent_count = rent.groupby('machine_id')['timestamp'].count().sort_values(ascending=False)\n",
    "rent_count"
   ],
   "metadata": {
    "collapsed": false,
    "ExecuteTime": {
     "end_time": "2023-10-21T04:16:06.612792Z",
     "start_time": "2023-10-21T04:16:06.545775400Z"
    }
   }
  },
  {
   "cell_type": "code",
   "execution_count": 163,
   "outputs": [
    {
     "data": {
      "text/plain": "machine_id\n3056     234\n3059     234\n8960     233\n8298     217\n4383     117\n        ... \n8297       1\n11864      1\n8308       1\n11862      1\n63         1\nName: dph_base, Length: 2037, dtype: int64"
     },
     "execution_count": 163,
     "metadata": {},
     "output_type": "execute_result"
    }
   ],
   "source": [
    "cost_count = cost.dph_base.groupby('machine_id').count().sort_values(ascending=False)\n",
    "cost_count"
   ],
   "metadata": {
    "collapsed": false,
    "ExecuteTime": {
     "end_time": "2023-10-21T04:16:06.674804700Z",
     "start_time": "2023-10-21T04:16:06.592786100Z"
    }
   }
  },
  {
   "cell_type": "code",
   "execution_count": 164,
   "outputs": [
    {
     "data": {
      "text/plain": "{3056, 3059, 4383, 4384, 8298, 8960, 11851, 12167, 13641, 14316}"
     },
     "execution_count": 164,
     "metadata": {},
     "output_type": "execute_result"
    }
   ],
   "source": [
    "set(rent_count[rent_count > 15].index) & set(cost_count[cost_count > 15].index)"
   ],
   "metadata": {
    "collapsed": false,
    "ExecuteTime": {
     "end_time": "2023-10-21T04:16:06.676806300Z",
     "start_time": "2023-10-21T04:16:06.609790100Z"
    }
   }
  },
  {
   "cell_type": "code",
   "execution_count": 165,
   "outputs": [
    {
     "data": {
      "text/plain": "timestamp\n1697699070    4\nName: num_gpus_rented, dtype: int64"
     },
     "execution_count": 165,
     "metadata": {},
     "output_type": "execute_result"
    }
   ],
   "source": [
    "mach_id = 8506\n",
    "gpus_rented = rent.loc[[mach_id]].set_index('timestamp').num_gpus_rented\n",
    "gpus_rented"
   ],
   "metadata": {
    "collapsed": false,
    "ExecuteTime": {
     "end_time": "2023-10-21T04:16:06.704811500Z",
     "start_time": "2023-10-21T04:16:06.626793900Z"
    }
   }
  },
  {
   "cell_type": "code",
   "execution_count": 166,
   "outputs": [
    {
     "data": {
      "text/plain": "            dph_base\ntimestamp           \n1697699070      2200",
      "text/html": "<div>\n<style scoped>\n    .dataframe tbody tr th:only-of-type {\n        vertical-align: middle;\n    }\n\n    .dataframe tbody tr th {\n        vertical-align: top;\n    }\n\n    .dataframe thead th {\n        text-align: right;\n    }\n</style>\n<table border=\"1\" class=\"dataframe\">\n  <thead>\n    <tr style=\"text-align: right;\">\n      <th></th>\n      <th>dph_base</th>\n    </tr>\n    <tr>\n      <th>timestamp</th>\n      <th></th>\n    </tr>\n  </thead>\n  <tbody>\n    <tr>\n      <th>1697699070</th>\n      <td>2200</td>\n    </tr>\n  </tbody>\n</table>\n</div>"
     },
     "execution_count": 166,
     "metadata": {},
     "output_type": "execute_result"
    }
   ],
   "source": [
    "costs = cost.loc[[mach_id]].set_index('timestamp', drop=True)\n",
    "costs"
   ],
   "metadata": {
    "collapsed": false,
    "ExecuteTime": {
     "end_time": "2023-10-21T04:16:06.705811700Z",
     "start_time": "2023-10-21T04:16:06.640798200Z"
    }
   }
  },
  {
   "cell_type": "code",
   "execution_count": 167,
   "outputs": [
    {
     "data": {
      "text/plain": "            num_gpus_rented  dph_base\ntimestamp                            \n1697699070                4      2200",
      "text/html": "<div>\n<style scoped>\n    .dataframe tbody tr th:only-of-type {\n        vertical-align: middle;\n    }\n\n    .dataframe tbody tr th {\n        vertical-align: top;\n    }\n\n    .dataframe thead th {\n        text-align: right;\n    }\n</style>\n<table border=\"1\" class=\"dataframe\">\n  <thead>\n    <tr style=\"text-align: right;\">\n      <th></th>\n      <th>num_gpus_rented</th>\n      <th>dph_base</th>\n    </tr>\n    <tr>\n      <th>timestamp</th>\n      <th></th>\n      <th></th>\n    </tr>\n  </thead>\n  <tbody>\n    <tr>\n      <th>1697699070</th>\n      <td>4</td>\n      <td>2200</td>\n    </tr>\n  </tbody>\n</table>\n</div>"
     },
     "execution_count": 167,
     "metadata": {},
     "output_type": "execute_result"
    }
   ],
   "source": [
    "df = pd.concat([gpus_rented, costs], axis=1)\n",
    "df"
   ],
   "metadata": {
    "collapsed": false,
    "ExecuteTime": {
     "end_time": "2023-10-21T04:16:06.706812Z",
     "start_time": "2023-10-21T04:16:06.656801700Z"
    }
   }
  },
  {
   "cell_type": "code",
   "execution_count": 168,
   "outputs": [
    {
     "data": {
      "text/plain": "            num_gpus_rented  dph_base\ntimestamp                            \n1697699070                4      2200",
      "text/html": "<div>\n<style scoped>\n    .dataframe tbody tr th:only-of-type {\n        vertical-align: middle;\n    }\n\n    .dataframe tbody tr th {\n        vertical-align: top;\n    }\n\n    .dataframe thead th {\n        text-align: right;\n    }\n</style>\n<table border=\"1\" class=\"dataframe\">\n  <thead>\n    <tr style=\"text-align: right;\">\n      <th></th>\n      <th>num_gpus_rented</th>\n      <th>dph_base</th>\n    </tr>\n    <tr>\n      <th>timestamp</th>\n      <th></th>\n      <th></th>\n    </tr>\n  </thead>\n  <tbody>\n    <tr>\n      <th>1697699070</th>\n      <td>4</td>\n      <td>2200</td>\n    </tr>\n  </tbody>\n</table>\n</div>"
     },
     "execution_count": 168,
     "metadata": {},
     "output_type": "execute_result"
    }
   ],
   "source": [
    "df.ffill(inplace=True)\n",
    "df"
   ],
   "metadata": {
    "collapsed": false,
    "ExecuteTime": {
     "end_time": "2023-10-21T04:16:06.710812800Z",
     "start_time": "2023-10-21T04:16:06.671803800Z"
    }
   }
  },
  {
   "cell_type": "code",
   "execution_count": 169,
   "outputs": [
    {
     "data": {
      "text/plain": "            num_gpus_rented  dph_base\ntimestamp                            \n1697699070                4      2200",
      "text/html": "<div>\n<style scoped>\n    .dataframe tbody tr th:only-of-type {\n        vertical-align: middle;\n    }\n\n    .dataframe tbody tr th {\n        vertical-align: top;\n    }\n\n    .dataframe thead th {\n        text-align: right;\n    }\n</style>\n<table border=\"1\" class=\"dataframe\">\n  <thead>\n    <tr style=\"text-align: right;\">\n      <th></th>\n      <th>num_gpus_rented</th>\n      <th>dph_base</th>\n    </tr>\n    <tr>\n      <th>timestamp</th>\n      <th></th>\n      <th></th>\n    </tr>\n  </thead>\n  <tbody>\n    <tr>\n      <th>1697699070</th>\n      <td>4</td>\n      <td>2200</td>\n    </tr>\n  </tbody>\n</table>\n</div>"
     },
     "execution_count": 169,
     "metadata": {},
     "output_type": "execute_result"
    }
   ],
   "source": [
    "df[:-1]"
   ],
   "metadata": {
    "collapsed": false,
    "ExecuteTime": {
     "end_time": "2023-10-21T04:16:10.231310100Z",
     "start_time": "2023-10-21T04:16:10.217307700Z"
    }
   }
  },
  {
   "cell_type": "code",
   "execution_count": 146,
   "outputs": [
    {
     "data": {
      "text/plain": "Index([], dtype='float64', name='timestamp')"
     },
     "execution_count": 146,
     "metadata": {},
     "output_type": "execute_result"
    }
   ],
   "source": [
    "df.index.diff()[1:]"
   ],
   "metadata": {
    "collapsed": false,
    "ExecuteTime": {
     "end_time": "2023-10-21T04:15:29.804440600Z",
     "start_time": "2023-10-21T04:15:29.761432Z"
    }
   }
  },
  {
   "cell_type": "code",
   "execution_count": 147,
   "outputs": [
    {
     "data": {
      "text/plain": "Empty DataFrame\nColumns: [num_gpus_rented, dph_base, duration]\nIndex: []",
      "text/html": "<div>\n<style scoped>\n    .dataframe tbody tr th:only-of-type {\n        vertical-align: middle;\n    }\n\n    .dataframe tbody tr th {\n        vertical-align: top;\n    }\n\n    .dataframe thead th {\n        text-align: right;\n    }\n</style>\n<table border=\"1\" class=\"dataframe\">\n  <thead>\n    <tr style=\"text-align: right;\">\n      <th></th>\n      <th>num_gpus_rented</th>\n      <th>dph_base</th>\n      <th>duration</th>\n    </tr>\n    <tr>\n      <th>timestamp</th>\n      <th></th>\n      <th></th>\n      <th></th>\n    </tr>\n  </thead>\n  <tbody>\n  </tbody>\n</table>\n</div>"
     },
     "execution_count": 147,
     "metadata": {},
     "output_type": "execute_result"
    }
   ],
   "source": [
    "duration = df.index.diff()[1:]\n",
    "df = df[:-1].copy()\n",
    "df['duration'] = duration\n",
    "df"
   ],
   "metadata": {
    "collapsed": false,
    "ExecuteTime": {
     "end_time": "2023-10-21T04:15:31.011814600Z",
     "start_time": "2023-10-21T04:15:30.998811500Z"
    }
   }
  },
  {
   "cell_type": "code",
   "execution_count": 149,
   "outputs": [
    {
     "data": {
      "text/plain": "0.0"
     },
     "execution_count": 149,
     "metadata": {},
     "output_type": "execute_result"
    }
   ],
   "source": [
    "num_gpus = 4\n",
    "(df.num_gpus_rented / num_gpus * df.dph_base / 1000 * df.duration / 3600).sum()"
   ],
   "metadata": {
    "collapsed": false,
    "ExecuteTime": {
     "end_time": "2023-10-21T04:15:34.947120900Z",
     "start_time": "2023-10-21T04:15:34.929115600Z"
    }
   }
  },
  {
   "cell_type": "code",
   "execution_count": null,
   "outputs": [],
   "source": [],
   "metadata": {
    "collapsed": false,
    "ExecuteTime": {
     "start_time": "2023-10-21T04:14:17.186855400Z"
    }
   }
  },
  {
   "cell_type": "code",
   "execution_count": null,
   "outputs": [],
   "source": [],
   "metadata": {
    "collapsed": false,
    "ExecuteTime": {
     "start_time": "2023-10-21T04:14:17.188855800Z"
    }
   }
  },
  {
   "cell_type": "code",
   "execution_count": null,
   "outputs": [],
   "source": [
    "dbm.close()"
   ],
   "metadata": {
    "collapsed": false,
    "ExecuteTime": {
     "start_time": "2023-10-21T04:14:17.189856300Z"
    }
   }
  }
 ],
 "metadata": {
  "kernelspec": {
   "name": "ml",
   "language": "python",
   "display_name": "ml"
  },
  "language_info": {
   "codemirror_mode": {
    "name": "ipython",
    "version": 2
   },
   "file_extension": ".py",
   "mimetype": "text/x-python",
   "name": "python",
   "nbconvert_exporter": "python",
   "pygments_lexer": "ipython2",
   "version": "2.7.6"
  }
 },
 "nbformat": 4,
 "nbformat_minor": 0
}
