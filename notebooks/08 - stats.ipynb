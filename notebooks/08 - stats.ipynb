{
 "cells": [
  {
   "cell_type": "code",
   "execution_count": 12,
   "metadata": {
    "collapsed": true,
    "ExecuteTime": {
     "end_time": "2023-07-31T10:01:43.045684200Z",
     "start_time": "2023-07-31T10:01:42.941661Z"
    }
   },
   "outputs": [],
   "source": [
    "import requests\n",
    "\n",
    "import pandas as pd\n",
    "import numpy as np\n",
    "from scipy import stats\n",
    "\n",
    "from src.utils import df_na_vals\n",
    "\n",
    "import seaborn as sns\n",
    "import matplotlib.pyplot as plt"
   ]
  },
  {
   "cell_type": "code",
   "execution_count": 13,
   "outputs": [
    {
     "name": "stdout",
     "output_type": "stream",
     "text": [
      "2023-07-31 10:00:04.305249890+00:00\n"
     ]
    },
    {
     "data": {
      "text/plain": "      bw_nvlink  compute_cap  cpu_cores  \\\n0           0.0          860       12.0   \n1           0.0          860       16.0   \n2           0.0          890       32.0   \n3           0.0          860       12.0   \n4           0.0          890       32.0   \n...         ...          ...        ...   \n1197        0.0          610       32.0   \n1198        0.0          610       40.0   \n1199        0.0          610       32.0   \n1200        0.0          610       32.0   \n1201        0.0          750       32.0   \n\n                                            cpu_name  cpu_ram credit_balance  \\\n0                AMD Ryzen 5 2600 Six-Core Processor    15910           None   \n1                     AMD EPYC 7252 8-Core Processor   128684           None   \n2                AMD Ryzen 9 7950X 16-Core Processor   127950           None   \n3                         11th Gen Core™ i5-11600KF     31933           None   \n4                AMD Ryzen 9 7950X 16-Core Processor   127950           None   \n...                                              ...      ...            ...   \n1197                               Xeon® E5-2650 v2    128889           None   \n1198                               Xeon® E5-2658 v2     64374           None   \n1199                               Xeon® E5-2650 v2     64377           None   \n1200                               Xeon® E5-2650 v2     64377           None   \n1201  AMD Ryzen Threadripper 1950X 16-Core Processor    64351           None   \n\n     credit_discount  credit_discount_max  cuda_max_good  direct_port_count  \\\n0               None                  0.4           12.2                 20   \n1               None                  0.4           12.0                100   \n2               None                  0.0           12.0               1000   \n3               None                  0.1           12.0                100   \n4               None                  0.1           12.0                100   \n...              ...                  ...            ...                ...   \n1197            None                  0.4           12.0               1000   \n1198            None                  0.4           12.0               1000   \n1199            None                  0.4           12.0               1000   \n1200            None                  0.4           12.0               1000   \n1201            None                  0.4           11.7               1000   \n\n      ...    public_ipaddr  reliability2      score    start_date static_ip  \\\n0     ...  186.128.231.251      0.599993  11.262222  1.690798e+09      True   \n1     ...     31.12.82.146      0.599993   2.706893  1.690798e+09      True   \n2     ...  134.180.176.136      0.599993  10.121820  1.690798e+09      True   \n3     ...  134.215.109.213      0.764646  51.090956           NaN      True   \n4     ...    65.130.180.38      0.765638  41.299658  1.690798e+09      True   \n...   ...              ...           ...        ...           ...       ...   \n1197  ...    194.44.114.10      0.988433  51.006263  1.690798e+09      True   \n1198  ...    194.44.114.10      0.987030  44.206970  1.690798e+09      True   \n1199  ...    194.44.114.10      0.995848  49.004512  1.690798e+09      True   \n1200  ...    194.44.114.10      0.996675  47.890165           NaN      True   \n1201  ...   23.245.210.159      0.996185  48.771947           NaN      True   \n\n      storage_cost  total_flops  verification  verified  \\\n0            0.150    30.965760    unverified     False   \n1            0.150   451.584000    unverified     False   \n2            0.270   103.710720    unverified     False   \n3            0.100    44.083200    unverified     False   \n4            0.185   203.489280    unverified     False   \n...            ...          ...           ...       ...   \n1197         0.150   115.175424    unverified     False   \n1198         0.150    45.780480      verified      True   \n1199         0.150    61.409280    deverified     False   \n1200         0.150    61.409280      verified      True   \n1201         0.150    74.810880      verified      True   \n\n                               timestamp  \n0    2023-07-31 10:00:04.305249890+00:00  \n1    2023-07-31 10:00:04.305249890+00:00  \n2    2023-07-31 10:00:04.305249890+00:00  \n3    2023-07-31 10:00:04.305249890+00:00  \n4    2023-07-31 10:00:04.305249890+00:00  \n...                                  ...  \n1197 2023-07-31 10:00:04.305249890+00:00  \n1198 2023-07-31 10:00:04.305249890+00:00  \n1199 2023-07-31 10:00:04.305249890+00:00  \n1200 2023-07-31 10:00:04.305249890+00:00  \n1201 2023-07-31 10:00:04.305249890+00:00  \n\n[1202 rows x 56 columns]",
      "text/html": "<div>\n<style scoped>\n    .dataframe tbody tr th:only-of-type {\n        vertical-align: middle;\n    }\n\n    .dataframe tbody tr th {\n        vertical-align: top;\n    }\n\n    .dataframe thead th {\n        text-align: right;\n    }\n</style>\n<table border=\"1\" class=\"dataframe\">\n  <thead>\n    <tr style=\"text-align: right;\">\n      <th></th>\n      <th>bw_nvlink</th>\n      <th>compute_cap</th>\n      <th>cpu_cores</th>\n      <th>cpu_name</th>\n      <th>cpu_ram</th>\n      <th>credit_balance</th>\n      <th>credit_discount</th>\n      <th>credit_discount_max</th>\n      <th>cuda_max_good</th>\n      <th>direct_port_count</th>\n      <th>...</th>\n      <th>public_ipaddr</th>\n      <th>reliability2</th>\n      <th>score</th>\n      <th>start_date</th>\n      <th>static_ip</th>\n      <th>storage_cost</th>\n      <th>total_flops</th>\n      <th>verification</th>\n      <th>verified</th>\n      <th>timestamp</th>\n    </tr>\n  </thead>\n  <tbody>\n    <tr>\n      <th>0</th>\n      <td>0.0</td>\n      <td>860</td>\n      <td>12.0</td>\n      <td>AMD Ryzen 5 2600 Six-Core Processor</td>\n      <td>15910</td>\n      <td>None</td>\n      <td>None</td>\n      <td>0.4</td>\n      <td>12.2</td>\n      <td>20</td>\n      <td>...</td>\n      <td>186.128.231.251</td>\n      <td>0.599993</td>\n      <td>11.262222</td>\n      <td>1.690798e+09</td>\n      <td>True</td>\n      <td>0.150</td>\n      <td>30.965760</td>\n      <td>unverified</td>\n      <td>False</td>\n      <td>2023-07-31 10:00:04.305249890+00:00</td>\n    </tr>\n    <tr>\n      <th>1</th>\n      <td>0.0</td>\n      <td>860</td>\n      <td>16.0</td>\n      <td>AMD EPYC 7252 8-Core Processor</td>\n      <td>128684</td>\n      <td>None</td>\n      <td>None</td>\n      <td>0.4</td>\n      <td>12.0</td>\n      <td>100</td>\n      <td>...</td>\n      <td>31.12.82.146</td>\n      <td>0.599993</td>\n      <td>2.706893</td>\n      <td>1.690798e+09</td>\n      <td>True</td>\n      <td>0.150</td>\n      <td>451.584000</td>\n      <td>unverified</td>\n      <td>False</td>\n      <td>2023-07-31 10:00:04.305249890+00:00</td>\n    </tr>\n    <tr>\n      <th>2</th>\n      <td>0.0</td>\n      <td>890</td>\n      <td>32.0</td>\n      <td>AMD Ryzen 9 7950X 16-Core Processor</td>\n      <td>127950</td>\n      <td>None</td>\n      <td>None</td>\n      <td>0.0</td>\n      <td>12.0</td>\n      <td>1000</td>\n      <td>...</td>\n      <td>134.180.176.136</td>\n      <td>0.599993</td>\n      <td>10.121820</td>\n      <td>1.690798e+09</td>\n      <td>True</td>\n      <td>0.270</td>\n      <td>103.710720</td>\n      <td>unverified</td>\n      <td>False</td>\n      <td>2023-07-31 10:00:04.305249890+00:00</td>\n    </tr>\n    <tr>\n      <th>3</th>\n      <td>0.0</td>\n      <td>860</td>\n      <td>12.0</td>\n      <td>11th Gen Core™ i5-11600KF</td>\n      <td>31933</td>\n      <td>None</td>\n      <td>None</td>\n      <td>0.1</td>\n      <td>12.0</td>\n      <td>100</td>\n      <td>...</td>\n      <td>134.215.109.213</td>\n      <td>0.764646</td>\n      <td>51.090956</td>\n      <td>NaN</td>\n      <td>True</td>\n      <td>0.100</td>\n      <td>44.083200</td>\n      <td>unverified</td>\n      <td>False</td>\n      <td>2023-07-31 10:00:04.305249890+00:00</td>\n    </tr>\n    <tr>\n      <th>4</th>\n      <td>0.0</td>\n      <td>890</td>\n      <td>32.0</td>\n      <td>AMD Ryzen 9 7950X 16-Core Processor</td>\n      <td>127950</td>\n      <td>None</td>\n      <td>None</td>\n      <td>0.1</td>\n      <td>12.0</td>\n      <td>100</td>\n      <td>...</td>\n      <td>65.130.180.38</td>\n      <td>0.765638</td>\n      <td>41.299658</td>\n      <td>1.690798e+09</td>\n      <td>True</td>\n      <td>0.185</td>\n      <td>203.489280</td>\n      <td>unverified</td>\n      <td>False</td>\n      <td>2023-07-31 10:00:04.305249890+00:00</td>\n    </tr>\n    <tr>\n      <th>...</th>\n      <td>...</td>\n      <td>...</td>\n      <td>...</td>\n      <td>...</td>\n      <td>...</td>\n      <td>...</td>\n      <td>...</td>\n      <td>...</td>\n      <td>...</td>\n      <td>...</td>\n      <td>...</td>\n      <td>...</td>\n      <td>...</td>\n      <td>...</td>\n      <td>...</td>\n      <td>...</td>\n      <td>...</td>\n      <td>...</td>\n      <td>...</td>\n      <td>...</td>\n      <td>...</td>\n    </tr>\n    <tr>\n      <th>1197</th>\n      <td>0.0</td>\n      <td>610</td>\n      <td>32.0</td>\n      <td>Xeon® E5-2650 v2</td>\n      <td>128889</td>\n      <td>None</td>\n      <td>None</td>\n      <td>0.4</td>\n      <td>12.0</td>\n      <td>1000</td>\n      <td>...</td>\n      <td>194.44.114.10</td>\n      <td>0.988433</td>\n      <td>51.006263</td>\n      <td>1.690798e+09</td>\n      <td>True</td>\n      <td>0.150</td>\n      <td>115.175424</td>\n      <td>unverified</td>\n      <td>False</td>\n      <td>2023-07-31 10:00:04.305249890+00:00</td>\n    </tr>\n    <tr>\n      <th>1198</th>\n      <td>0.0</td>\n      <td>610</td>\n      <td>40.0</td>\n      <td>Xeon® E5-2658 v2</td>\n      <td>64374</td>\n      <td>None</td>\n      <td>None</td>\n      <td>0.4</td>\n      <td>12.0</td>\n      <td>1000</td>\n      <td>...</td>\n      <td>194.44.114.10</td>\n      <td>0.987030</td>\n      <td>44.206970</td>\n      <td>1.690798e+09</td>\n      <td>True</td>\n      <td>0.150</td>\n      <td>45.780480</td>\n      <td>verified</td>\n      <td>True</td>\n      <td>2023-07-31 10:00:04.305249890+00:00</td>\n    </tr>\n    <tr>\n      <th>1199</th>\n      <td>0.0</td>\n      <td>610</td>\n      <td>32.0</td>\n      <td>Xeon® E5-2650 v2</td>\n      <td>64377</td>\n      <td>None</td>\n      <td>None</td>\n      <td>0.4</td>\n      <td>12.0</td>\n      <td>1000</td>\n      <td>...</td>\n      <td>194.44.114.10</td>\n      <td>0.995848</td>\n      <td>49.004512</td>\n      <td>1.690798e+09</td>\n      <td>True</td>\n      <td>0.150</td>\n      <td>61.409280</td>\n      <td>deverified</td>\n      <td>False</td>\n      <td>2023-07-31 10:00:04.305249890+00:00</td>\n    </tr>\n    <tr>\n      <th>1200</th>\n      <td>0.0</td>\n      <td>610</td>\n      <td>32.0</td>\n      <td>Xeon® E5-2650 v2</td>\n      <td>64377</td>\n      <td>None</td>\n      <td>None</td>\n      <td>0.4</td>\n      <td>12.0</td>\n      <td>1000</td>\n      <td>...</td>\n      <td>194.44.114.10</td>\n      <td>0.996675</td>\n      <td>47.890165</td>\n      <td>NaN</td>\n      <td>True</td>\n      <td>0.150</td>\n      <td>61.409280</td>\n      <td>verified</td>\n      <td>True</td>\n      <td>2023-07-31 10:00:04.305249890+00:00</td>\n    </tr>\n    <tr>\n      <th>1201</th>\n      <td>0.0</td>\n      <td>750</td>\n      <td>32.0</td>\n      <td>AMD Ryzen Threadripper 1950X 16-Core Processor</td>\n      <td>64351</td>\n      <td>None</td>\n      <td>None</td>\n      <td>0.4</td>\n      <td>11.7</td>\n      <td>1000</td>\n      <td>...</td>\n      <td>23.245.210.159</td>\n      <td>0.996185</td>\n      <td>48.771947</td>\n      <td>NaN</td>\n      <td>True</td>\n      <td>0.150</td>\n      <td>74.810880</td>\n      <td>verified</td>\n      <td>True</td>\n      <td>2023-07-31 10:00:04.305249890+00:00</td>\n    </tr>\n  </tbody>\n</table>\n<p>1202 rows × 56 columns</p>\n</div>"
     },
     "execution_count": 13,
     "metadata": {},
     "output_type": "execute_result"
    }
   ],
   "source": [
    "url = 'https://500.farm/vastai-exporter/machines'\n",
    "\n",
    "r = requests.get(url)\n",
    "r.raise_for_status()\n",
    "\n",
    "offers  = pd.DataFrame(r.json()[\"offers\"])\n",
    "offers['timestamp'] = pd.to_datetime(r.json()['timestamp'])\n",
    "print(offers.timestamp[0])\n",
    "offers"
   ],
   "metadata": {
    "collapsed": false,
    "ExecuteTime": {
     "end_time": "2023-07-31T10:01:43.732556800Z",
     "start_time": "2023-07-31T10:01:42.946662300Z"
    }
   }
  },
  {
   "cell_type": "code",
   "execution_count": 14,
   "outputs": [
    {
     "name": "stdout",
     "output_type": "stream",
     "text": [
      "bw_nvlink                 ->          Missing values: 0 (0.00%)\n",
      "compute_cap               ->          Missing values: 0 (0.00%)\n",
      "cpu_cores                 ->          Missing values: 4 (0.33%)\n",
      "cpu_name                  ->          Missing values: 9 (0.75%)\n",
      "cpu_ram                   ->          Missing values: 0 (0.00%)\n",
      "credit_balance            ->          Missing values: 1202 (100.00%)\n",
      "credit_discount           ->          Missing values: 1202 (100.00%)\n",
      "credit_discount_max       ->          Missing values: 250 (20.80%)\n",
      "cuda_max_good             ->          Missing values: 0 (0.00%)\n",
      "direct_port_count         ->          Missing values: 0 (0.00%)\n",
      "discount_rate             ->          Missing values: 250 (20.80%)\n",
      "discounted_dph_total      ->          Missing values: 0 (0.00%)\n",
      "discounted_hourly         ->          Missing values: 0 (0.00%)\n",
      "disk_bw                   ->          Missing values: 0 (0.00%)\n",
      "disk_name                 ->          Missing values: 0 (0.00%)\n",
      "disk_space                ->          Missing values: 0 (0.00%)\n",
      "dlperf                    ->          Missing values: 0 (0.00%)\n",
      "dlperf_per_dphtotal       ->          Missing values: 0 (0.00%)\n",
      "dph_base                  ->          Missing values: 0 (0.00%)\n",
      "driver_version            ->          Missing values: 0 (0.00%)\n",
      "duration                  ->          Missing values: 403 (33.53%)\n",
      "end_date                  ->          Missing values: 403 (33.53%)\n",
      "flops_per_dphtotal        ->          Missing values: 0 (0.00%)\n",
      "geolocation               ->          Missing values: 3 (0.25%)\n",
      "gpu_display_active        ->          Missing values: 0 (0.00%)\n",
      "gpu_lanes                 ->          Missing values: 0 (0.00%)\n",
      "gpu_mem_bw                ->          Missing values: 0 (0.00%)\n",
      "gpu_name                  ->          Missing values: 0 (0.00%)\n",
      "gpu_ram                   ->          Missing values: 0 (0.00%)\n",
      "has_avx                   ->          Missing values: 4 (0.33%)\n",
      "host_id                   ->          Missing values: 0 (0.00%)\n",
      "host_run_time             ->          Missing values: 0 (0.00%)\n",
      "hosting_type              ->          Missing values: 1088 (90.52%)\n",
      "inet_down                 ->          Missing values: 0 (0.00%)\n",
      "inet_down_cost            ->          Missing values: 0 (0.00%)\n",
      "inet_up                   ->          Missing values: 0 (0.00%)\n",
      "inet_up_cost              ->          Missing values: 0 (0.00%)\n",
      "location                  ->          Missing values: 10 (0.83%)\n",
      "machine_id                ->          Missing values: 0 (0.00%)\n",
      "min_bid                   ->          Missing values: 0 (0.00%)\n",
      "min_chunk                 ->          Missing values: 0 (0.00%)\n",
      "mobo_name                 ->          Missing values: 54 (4.49%)\n",
      "num_gpus                  ->          Missing values: 0 (0.00%)\n",
      "num_gpus_rented           ->          Missing values: 0 (0.00%)\n",
      "pci_gen                   ->          Missing values: 0 (0.00%)\n",
      "pcie_bw                   ->          Missing values: 0 (0.00%)\n",
      "public_ipaddr             ->          Missing values: 0 (0.00%)\n",
      "reliability2              ->          Missing values: 0 (0.00%)\n",
      "score                     ->          Missing values: 0 (0.00%)\n",
      "start_date                ->          Missing values: 875 (72.80%)\n",
      "static_ip                 ->          Missing values: 0 (0.00%)\n",
      "storage_cost              ->          Missing values: 0 (0.00%)\n",
      "total_flops               ->          Missing values: 0 (0.00%)\n",
      "verification              ->          Missing values: 0 (0.00%)\n",
      "verified                  ->          Missing values: 0 (0.00%)\n",
      "timestamp                 ->          Missing values: 0 (0.00%)\n"
     ]
    },
    {
     "data": {
      "text/plain": "['credit_balance', 'credit_discount']"
     },
     "execution_count": 14,
     "metadata": {},
     "output_type": "execute_result"
    }
   ],
   "source": [
    "df_na_vals(offers)"
   ],
   "metadata": {
    "collapsed": false,
    "ExecuteTime": {
     "end_time": "2023-07-31T10:01:43.806574200Z",
     "start_time": "2023-07-31T10:01:43.733556900Z"
    }
   }
  },
  {
   "cell_type": "code",
   "execution_count": 15,
   "outputs": [
    {
     "data": {
      "text/plain": "Index(['bw_nvlink', 'compute_cap', 'cpu_cores', 'cpu_name', 'cpu_ram',\n       'credit_balance', 'credit_discount', 'credit_discount_max',\n       'cuda_max_good', 'direct_port_count', 'discount_rate',\n       'discounted_dph_total', 'discounted_hourly', 'disk_bw', 'disk_name',\n       'disk_space', 'dlperf', 'dlperf_per_dphtotal', 'dph_base',\n       'driver_version', 'duration', 'end_date', 'flops_per_dphtotal',\n       'geolocation', 'gpu_display_active', 'gpu_lanes', 'gpu_mem_bw',\n       'gpu_name', 'gpu_ram', 'has_avx', 'host_id', 'host_run_time',\n       'hosting_type', 'inet_down', 'inet_down_cost', 'inet_up',\n       'inet_up_cost', 'location', 'machine_id', 'min_bid', 'min_chunk',\n       'mobo_name', 'num_gpus', 'num_gpus_rented', 'pci_gen', 'pcie_bw',\n       'public_ipaddr', 'reliability2', 'score', 'start_date', 'static_ip',\n       'storage_cost', 'total_flops', 'verification', 'verified', 'timestamp'],\n      dtype='object')"
     },
     "execution_count": 15,
     "metadata": {},
     "output_type": "execute_result"
    }
   ],
   "source": [
    "offers.columns"
   ],
   "metadata": {
    "collapsed": false,
    "ExecuteTime": {
     "end_time": "2023-07-31T10:01:43.806574200Z",
     "start_time": "2023-07-31T10:01:43.772565600Z"
    }
   }
  },
  {
   "cell_type": "code",
   "execution_count": 16,
   "outputs": [
    {
     "data": {
      "text/plain": "Empty DataFrame\nColumns: [bw_nvlink, compute_cap, cpu_cores, cpu_name, cpu_ram, credit_balance, credit_discount, credit_discount_max, cuda_max_good, direct_port_count, discount_rate, discounted_dph_total, discounted_hourly, disk_bw, disk_name, disk_space, dlperf, dlperf_per_dphtotal, dph_base, driver_version, duration, end_date, flops_per_dphtotal, geolocation, gpu_display_active, gpu_lanes, gpu_mem_bw, gpu_name, gpu_ram, has_avx, host_id, host_run_time, hosting_type, inet_down, inet_down_cost, inet_up, inet_up_cost, location, machine_id, min_bid, min_chunk, mobo_name, num_gpus, num_gpus_rented, pci_gen, pcie_bw, public_ipaddr, reliability2, score, start_date, static_ip, storage_cost, total_flops, verification, verified, timestamp]\nIndex: []\n\n[0 rows x 56 columns]",
      "text/html": "<div>\n<style scoped>\n    .dataframe tbody tr th:only-of-type {\n        vertical-align: middle;\n    }\n\n    .dataframe tbody tr th {\n        vertical-align: top;\n    }\n\n    .dataframe thead th {\n        text-align: right;\n    }\n</style>\n<table border=\"1\" class=\"dataframe\">\n  <thead>\n    <tr style=\"text-align: right;\">\n      <th></th>\n      <th>bw_nvlink</th>\n      <th>compute_cap</th>\n      <th>cpu_cores</th>\n      <th>cpu_name</th>\n      <th>cpu_ram</th>\n      <th>credit_balance</th>\n      <th>credit_discount</th>\n      <th>credit_discount_max</th>\n      <th>cuda_max_good</th>\n      <th>direct_port_count</th>\n      <th>...</th>\n      <th>public_ipaddr</th>\n      <th>reliability2</th>\n      <th>score</th>\n      <th>start_date</th>\n      <th>static_ip</th>\n      <th>storage_cost</th>\n      <th>total_flops</th>\n      <th>verification</th>\n      <th>verified</th>\n      <th>timestamp</th>\n    </tr>\n  </thead>\n  <tbody>\n  </tbody>\n</table>\n<p>0 rows × 56 columns</p>\n</div>"
     },
     "execution_count": 16,
     "metadata": {},
     "output_type": "execute_result"
    }
   ],
   "source": [
    "offers[offers.cpu_ram == 0]"
   ],
   "metadata": {
    "collapsed": false,
    "ExecuteTime": {
     "end_time": "2023-07-31T10:01:43.837582200Z",
     "start_time": "2023-07-31T10:01:43.780568500Z"
    }
   }
  },
  {
   "cell_type": "code",
   "execution_count": 17,
   "outputs": [
    {
     "name": "stderr",
     "output_type": "stream",
     "text": [
      "C:\\Users\\ergot\\AppData\\Local\\Temp\\ipykernel_27020\\4167680448.py:1: FutureWarning: The default value of regex will change from True to False in a future version.\n",
      "  cpu_name = offers.cpu_name.str.replace(r'^\\d\\dth Gen ','')\n",
      "C:\\Users\\ergot\\AppData\\Local\\Temp\\ipykernel_27020\\4167680448.py:2: FutureWarning: The default value of regex will change from True to False in a future version.\n",
      "  cpu_name = cpu_name.str.replace(r'^AMD','')\n",
      "C:\\Users\\ergot\\AppData\\Local\\Temp\\ipykernel_27020\\4167680448.py:4: FutureWarning: The default value of regex will change from True to False in a future version.\n",
      "  cpu_name = cpu_name.str.replace(r'Processor$','')\n"
     ]
    },
    {
     "data": {
      "text/plain": "            bw_nvlink  compute_cap  cpu_cores              cpu_name  cpu_ram  \\\nmachine_id                                                                     \n11870             0.0          860       12.0    Ryzen 5 2600 SixC     15910   \n11869             0.0          860       16.0         EPYC 7252 8C    128684   \n11867             0.0          890       32.0    Ryzen 9 7950X 16C    127950   \n11865             0.0          860       12.0     Core™ i5-11600KF     31933   \n11864             0.0          890       32.0    Ryzen 9 7950X 16C    127950   \n...               ...          ...        ...                   ...      ...   \n301               0.0          610       32.0     Xeon® E5-2650 v2    128889   \n283               0.0          610       40.0     Xeon® E5-2658 v2     64374   \n275               0.0          610       32.0     Xeon® E5-2650 v2     64377   \n274               0.0          610       32.0     Xeon® E5-2650 v2     64377   \n162               0.0          750       32.0   Ryzen TR 1950X 16C     64351   \n\n           credit_balance credit_discount  credit_discount_max  cuda_max_good  \\\nmachine_id                                                                      \n11870                None            None                  0.4           12.2   \n11869                None            None                  0.4           12.0   \n11867                None            None                  0.0           12.0   \n11865                None            None                  0.1           12.0   \n11864                None            None                  0.1           12.0   \n...                   ...             ...                  ...            ...   \n301                  None            None                  0.4           12.0   \n283                  None            None                  0.4           12.0   \n275                  None            None                  0.4           12.0   \n274                  None            None                  0.4           12.0   \n162                  None            None                  0.4           11.7   \n\n            direct_port_count  ...  verified  \\\nmachine_id                     ...             \n11870                      20  ...     False   \n11869                     100  ...     False   \n11867                    1000  ...     False   \n11865                     100  ...     False   \n11864                     100  ...     False   \n...                       ...  ...       ...   \n301                      1000  ...     False   \n283                      1000  ...      True   \n275                      1000  ...     False   \n274                      1000  ...      True   \n162                      1000  ...      True   \n\n                                     timestamp  cores  ram       dph  disk  \\\nmachine_id                                                                   \n11870      2023-07-31 10:00:04.305249890+00:00      6    8  0.040000    87   \n11869      2023-07-31 10:00:04.305249890+00:00      1   13  0.500000    81   \n11867      2023-07-31 10:00:04.305249890+00:00     32  125  1.000000  3432   \n11865      2023-07-31 10:00:04.305249890+00:00     12   31  0.150000   386   \n11864      2023-07-31 10:00:04.305249890+00:00     16   62  0.494825  3433   \n...                                        ...    ...  ...       ...   ...   \n301        2023-07-31 10:00:04.305249890+00:00      4   16  0.090000    33   \n283        2023-07-31 10:00:04.305249890+00:00      6   10  0.055000    23   \n275        2023-07-31 10:00:04.305249890+00:00      4    8  0.055000     0   \n274        2023-07-31 10:00:04.305249890+00:00      4    8  0.055000    55   \n162        2023-07-31 10:00:04.305249890+00:00      8   16  0.150000   149   \n\n            rented_fraq  country  rented  min_fraq  \nmachine_id                                          \n11870             [0/2]       AR   False  1.000000  \n11869            [0/10]       SE   False  0.100000  \n11867             [0/1]       JP   False  1.000000  \n11865             [1/1]       US    True  1.000000  \n11864             [0/2]       US   False  0.500000  \n...                 ...      ...     ...       ...  \n301               [0/8]       UA   False  0.125000  \n283               [0/6]       UA   False  0.333333  \n275               [0/8]       UA   False  0.125000  \n274               [4/8]       UA   False  0.125000  \n162               [4/4]       US    True  1.000000  \n\n[1202 rows x 63 columns]",
      "text/html": "<div>\n<style scoped>\n    .dataframe tbody tr th:only-of-type {\n        vertical-align: middle;\n    }\n\n    .dataframe tbody tr th {\n        vertical-align: top;\n    }\n\n    .dataframe thead th {\n        text-align: right;\n    }\n</style>\n<table border=\"1\" class=\"dataframe\">\n  <thead>\n    <tr style=\"text-align: right;\">\n      <th></th>\n      <th>bw_nvlink</th>\n      <th>compute_cap</th>\n      <th>cpu_cores</th>\n      <th>cpu_name</th>\n      <th>cpu_ram</th>\n      <th>credit_balance</th>\n      <th>credit_discount</th>\n      <th>credit_discount_max</th>\n      <th>cuda_max_good</th>\n      <th>direct_port_count</th>\n      <th>...</th>\n      <th>verified</th>\n      <th>timestamp</th>\n      <th>cores</th>\n      <th>ram</th>\n      <th>dph</th>\n      <th>disk</th>\n      <th>rented_fraq</th>\n      <th>country</th>\n      <th>rented</th>\n      <th>min_fraq</th>\n    </tr>\n    <tr>\n      <th>machine_id</th>\n      <th></th>\n      <th></th>\n      <th></th>\n      <th></th>\n      <th></th>\n      <th></th>\n      <th></th>\n      <th></th>\n      <th></th>\n      <th></th>\n      <th></th>\n      <th></th>\n      <th></th>\n      <th></th>\n      <th></th>\n      <th></th>\n      <th></th>\n      <th></th>\n      <th></th>\n      <th></th>\n      <th></th>\n    </tr>\n  </thead>\n  <tbody>\n    <tr>\n      <th>11870</th>\n      <td>0.0</td>\n      <td>860</td>\n      <td>12.0</td>\n      <td>Ryzen 5 2600 SixC</td>\n      <td>15910</td>\n      <td>None</td>\n      <td>None</td>\n      <td>0.4</td>\n      <td>12.2</td>\n      <td>20</td>\n      <td>...</td>\n      <td>False</td>\n      <td>2023-07-31 10:00:04.305249890+00:00</td>\n      <td>6</td>\n      <td>8</td>\n      <td>0.040000</td>\n      <td>87</td>\n      <td>[0/2]</td>\n      <td>AR</td>\n      <td>False</td>\n      <td>1.000000</td>\n    </tr>\n    <tr>\n      <th>11869</th>\n      <td>0.0</td>\n      <td>860</td>\n      <td>16.0</td>\n      <td>EPYC 7252 8C</td>\n      <td>128684</td>\n      <td>None</td>\n      <td>None</td>\n      <td>0.4</td>\n      <td>12.0</td>\n      <td>100</td>\n      <td>...</td>\n      <td>False</td>\n      <td>2023-07-31 10:00:04.305249890+00:00</td>\n      <td>1</td>\n      <td>13</td>\n      <td>0.500000</td>\n      <td>81</td>\n      <td>[0/10]</td>\n      <td>SE</td>\n      <td>False</td>\n      <td>0.100000</td>\n    </tr>\n    <tr>\n      <th>11867</th>\n      <td>0.0</td>\n      <td>890</td>\n      <td>32.0</td>\n      <td>Ryzen 9 7950X 16C</td>\n      <td>127950</td>\n      <td>None</td>\n      <td>None</td>\n      <td>0.0</td>\n      <td>12.0</td>\n      <td>1000</td>\n      <td>...</td>\n      <td>False</td>\n      <td>2023-07-31 10:00:04.305249890+00:00</td>\n      <td>32</td>\n      <td>125</td>\n      <td>1.000000</td>\n      <td>3432</td>\n      <td>[0/1]</td>\n      <td>JP</td>\n      <td>False</td>\n      <td>1.000000</td>\n    </tr>\n    <tr>\n      <th>11865</th>\n      <td>0.0</td>\n      <td>860</td>\n      <td>12.0</td>\n      <td>Core™ i5-11600KF</td>\n      <td>31933</td>\n      <td>None</td>\n      <td>None</td>\n      <td>0.1</td>\n      <td>12.0</td>\n      <td>100</td>\n      <td>...</td>\n      <td>False</td>\n      <td>2023-07-31 10:00:04.305249890+00:00</td>\n      <td>12</td>\n      <td>31</td>\n      <td>0.150000</td>\n      <td>386</td>\n      <td>[1/1]</td>\n      <td>US</td>\n      <td>True</td>\n      <td>1.000000</td>\n    </tr>\n    <tr>\n      <th>11864</th>\n      <td>0.0</td>\n      <td>890</td>\n      <td>32.0</td>\n      <td>Ryzen 9 7950X 16C</td>\n      <td>127950</td>\n      <td>None</td>\n      <td>None</td>\n      <td>0.1</td>\n      <td>12.0</td>\n      <td>100</td>\n      <td>...</td>\n      <td>False</td>\n      <td>2023-07-31 10:00:04.305249890+00:00</td>\n      <td>16</td>\n      <td>62</td>\n      <td>0.494825</td>\n      <td>3433</td>\n      <td>[0/2]</td>\n      <td>US</td>\n      <td>False</td>\n      <td>0.500000</td>\n    </tr>\n    <tr>\n      <th>...</th>\n      <td>...</td>\n      <td>...</td>\n      <td>...</td>\n      <td>...</td>\n      <td>...</td>\n      <td>...</td>\n      <td>...</td>\n      <td>...</td>\n      <td>...</td>\n      <td>...</td>\n      <td>...</td>\n      <td>...</td>\n      <td>...</td>\n      <td>...</td>\n      <td>...</td>\n      <td>...</td>\n      <td>...</td>\n      <td>...</td>\n      <td>...</td>\n      <td>...</td>\n      <td>...</td>\n    </tr>\n    <tr>\n      <th>301</th>\n      <td>0.0</td>\n      <td>610</td>\n      <td>32.0</td>\n      <td>Xeon® E5-2650 v2</td>\n      <td>128889</td>\n      <td>None</td>\n      <td>None</td>\n      <td>0.4</td>\n      <td>12.0</td>\n      <td>1000</td>\n      <td>...</td>\n      <td>False</td>\n      <td>2023-07-31 10:00:04.305249890+00:00</td>\n      <td>4</td>\n      <td>16</td>\n      <td>0.090000</td>\n      <td>33</td>\n      <td>[0/8]</td>\n      <td>UA</td>\n      <td>False</td>\n      <td>0.125000</td>\n    </tr>\n    <tr>\n      <th>283</th>\n      <td>0.0</td>\n      <td>610</td>\n      <td>40.0</td>\n      <td>Xeon® E5-2658 v2</td>\n      <td>64374</td>\n      <td>None</td>\n      <td>None</td>\n      <td>0.4</td>\n      <td>12.0</td>\n      <td>1000</td>\n      <td>...</td>\n      <td>True</td>\n      <td>2023-07-31 10:00:04.305249890+00:00</td>\n      <td>6</td>\n      <td>10</td>\n      <td>0.055000</td>\n      <td>23</td>\n      <td>[0/6]</td>\n      <td>UA</td>\n      <td>False</td>\n      <td>0.333333</td>\n    </tr>\n    <tr>\n      <th>275</th>\n      <td>0.0</td>\n      <td>610</td>\n      <td>32.0</td>\n      <td>Xeon® E5-2650 v2</td>\n      <td>64377</td>\n      <td>None</td>\n      <td>None</td>\n      <td>0.4</td>\n      <td>12.0</td>\n      <td>1000</td>\n      <td>...</td>\n      <td>False</td>\n      <td>2023-07-31 10:00:04.305249890+00:00</td>\n      <td>4</td>\n      <td>8</td>\n      <td>0.055000</td>\n      <td>0</td>\n      <td>[0/8]</td>\n      <td>UA</td>\n      <td>False</td>\n      <td>0.125000</td>\n    </tr>\n    <tr>\n      <th>274</th>\n      <td>0.0</td>\n      <td>610</td>\n      <td>32.0</td>\n      <td>Xeon® E5-2650 v2</td>\n      <td>64377</td>\n      <td>None</td>\n      <td>None</td>\n      <td>0.4</td>\n      <td>12.0</td>\n      <td>1000</td>\n      <td>...</td>\n      <td>True</td>\n      <td>2023-07-31 10:00:04.305249890+00:00</td>\n      <td>4</td>\n      <td>8</td>\n      <td>0.055000</td>\n      <td>55</td>\n      <td>[4/8]</td>\n      <td>UA</td>\n      <td>False</td>\n      <td>0.125000</td>\n    </tr>\n    <tr>\n      <th>162</th>\n      <td>0.0</td>\n      <td>750</td>\n      <td>32.0</td>\n      <td>Ryzen TR 1950X 16C</td>\n      <td>64351</td>\n      <td>None</td>\n      <td>None</td>\n      <td>0.4</td>\n      <td>11.7</td>\n      <td>1000</td>\n      <td>...</td>\n      <td>True</td>\n      <td>2023-07-31 10:00:04.305249890+00:00</td>\n      <td>8</td>\n      <td>16</td>\n      <td>0.150000</td>\n      <td>149</td>\n      <td>[4/4]</td>\n      <td>US</td>\n      <td>True</td>\n      <td>1.000000</td>\n    </tr>\n  </tbody>\n</table>\n<p>1202 rows × 63 columns</p>\n</div>"
     },
     "execution_count": 17,
     "metadata": {},
     "output_type": "execute_result"
    }
   ],
   "source": [
    "\n",
    "cpu_name = offers.cpu_name.str.replace(r'^\\d\\dth Gen ','')\n",
    "cpu_name = cpu_name.str.replace(r'^AMD','')\n",
    "cpu_name = cpu_name.str.replace(r'Threadripper','TR')\n",
    "cpu_name = cpu_name.str.replace(r'Processor$','')\n",
    "cpu_name = cpu_name.str.replace(r'-Core','C')\n",
    "cpu_name = cpu_name.str.replace(r' with Radeon Graphics','')\n",
    "# cpu_name = offers.cpu_name.str.replace('Core™', '')\n",
    "offers.cpu_name = cpu_name\n",
    "offers['cores'] = (offers.cpu_cores / offers.num_gpus).fillna(0).astype(int)\n",
    "offers['ram'] = (offers.cpu_ram / offers.num_gpus / 1024).round().astype(int)\n",
    "offers['dph'] = offers.dph_base / offers.num_gpus\n",
    "offers['disk'] = (offers.disk_space / offers.num_gpus).astype(int)\n",
    "offers['rented_fraq'] = '[' + offers.num_gpus_rented.astype(str) + \"/\" + offers.num_gpus.astype(str) + ']'\n",
    "offers['country'] = offers.location.dropna().apply(lambda loc: loc['country'])\n",
    "# offers['rented'] = offers.num_gpus_rented > 0\n",
    "offers['rented'] = offers.num_gpus_rented == offers.num_gpus\n",
    "offers['min_fraq'] = offers.min_chunk/offers.num_gpus\n",
    "\n",
    "offers.dlperf = offers.dlperf.round(1)\n",
    "offers.dlperf_per_dphtotal = offers.dlperf_per_dphtotal.round(1)\n",
    "offers.disk_bw = offers.disk_bw.round()\n",
    "offers.duration = pd.to_timedelta(offers.duration * 1e9).dt.days\n",
    "# offers.end_date = (pd.to_datetime(offers.end_date * 1e9) - pd.Timestamp.now()).dt.days\n",
    "offers.end_date = pd.to_datetime(offers.end_date * 1e9)\n",
    "offers.start_date = pd.to_datetime(offers.start_date * 1e9)\n",
    "offers.set_index('machine_id', inplace=True)\n",
    "offers"
   ],
   "metadata": {
    "collapsed": false,
    "ExecuteTime": {
     "end_time": "2023-07-31T10:01:43.948606400Z",
     "start_time": "2023-07-31T10:01:43.799571700Z"
    }
   }
  },
  {
   "cell_type": "code",
   "execution_count": 18,
   "outputs": [
    {
     "data": {
      "text/plain": "0    1202\nName: discounted_hourly, dtype: int64"
     },
     "execution_count": 18,
     "metadata": {},
     "output_type": "execute_result"
    }
   ],
   "source": [
    "offers.discounted_hourly.value_counts(dropna=False)"
   ],
   "metadata": {
    "collapsed": false,
    "ExecuteTime": {
     "end_time": "2023-07-31T10:01:43.948606400Z",
     "start_time": "2023-07-31T10:01:43.858585500Z"
    }
   }
  },
  {
   "cell_type": "code",
   "execution_count": 19,
   "outputs": [
    {
     "data": {
      "text/plain": "Index(['bw_nvlink', 'compute_cap', 'cpu_cores', 'cpu_name', 'cpu_ram',\n       'credit_balance', 'credit_discount', 'credit_discount_max',\n       'cuda_max_good', 'direct_port_count', 'discount_rate',\n       'discounted_dph_total', 'discounted_hourly', 'disk_bw', 'disk_name',\n       'disk_space', 'dlperf', 'dlperf_per_dphtotal', 'dph_base',\n       'driver_version', 'duration', 'end_date', 'flops_per_dphtotal',\n       'geolocation', 'gpu_display_active', 'gpu_lanes', 'gpu_mem_bw',\n       'gpu_name', 'gpu_ram', 'has_avx', 'host_id', 'host_run_time',\n       'hosting_type', 'inet_down', 'inet_down_cost', 'inet_up',\n       'inet_up_cost', 'location', 'min_bid', 'min_chunk', 'mobo_name',\n       'num_gpus', 'num_gpus_rented', 'pci_gen', 'pcie_bw', 'public_ipaddr',\n       'reliability2', 'score', 'start_date', 'static_ip', 'storage_cost',\n       'total_flops', 'verification', 'verified', 'timestamp', 'cores', 'ram',\n       'dph', 'disk', 'rented_fraq', 'country', 'rented', 'min_fraq'],\n      dtype='object')"
     },
     "execution_count": 19,
     "metadata": {},
     "output_type": "execute_result"
    }
   ],
   "source": [
    "offers.columns"
   ],
   "metadata": {
    "collapsed": false,
    "ExecuteTime": {
     "end_time": "2023-07-31T10:01:43.949606100Z",
     "start_time": "2023-07-31T10:01:43.875590500Z"
    }
   }
  },
  {
   "cell_type": "code",
   "execution_count": 20,
   "outputs": [
    {
     "data": {
      "text/plain": "A40          67\nRTX A5000    32\nRTX A6000    14\nRTX A4000     1\nName: gpu_name, dtype: int64"
     },
     "execution_count": 20,
     "metadata": {},
     "output_type": "execute_result"
    }
   ],
   "source": [
    "offers[offers.hosting_type == 1].gpu_name.value_counts()"
   ],
   "metadata": {
    "collapsed": false,
    "ExecuteTime": {
     "end_time": "2023-07-31T10:01:43.949606100Z",
     "start_time": "2023-07-31T10:01:43.888592500Z"
    }
   }
  },
  {
   "cell_type": "code",
   "execution_count": 23,
   "outputs": [
    {
     "data": {
      "text/plain": "             gpu_name rented_fraq  cuda_max_good driver_version    dph  \\\nmachine_id                                                               \n11305        RTX 3090       [1/1]           12.1      530.41.03  13.00   \n6767        RTX A6000       [0/2]           12.0     525.125.06   5.01   \n11027        RTX 4090       [1/2]           12.0     525.125.06   5.00   \n6063        A100 SXM4       [0/8]           12.0      525.85.12   2.00   \n11486       A100 SXM4       [0/8]           12.2      535.54.03   1.85   \n...               ...         ...            ...            ...    ...   \n9897         RTX 4090       [6/6]           12.0     525.105.17   0.50   \n9901         RTX 4090       [1/1]           12.2      535.54.03   0.50   \n10069        RTX 4090       [1/1]           12.0     525.125.06   0.50   \n10170       RTX A6000       [3/4]           12.0     525.105.17   0.50   \n10116        RTX 4090       [8/8]           12.0     525.105.17   0.50   \n\n            credit_discount_max  dlperf_per_dphtotal  cores  ram  disk  ...  \\\nmachine_id                                                              ...   \n11305                       0.4                  2.5     16   31   827  ...   \n6767                        0.4                  7.1     10  126  1215  ...   \n11027                       0.0                 14.9      8   63   828  ...   \n6063                        0.4                 27.7     32  126   188  ...   \n11486                       0.1                 32.1     32  250  1571  ...   \n...                         ...                  ...    ...  ...   ...  ...   \n9897                        0.1                112.5      5   42   106  ...   \n9901                        0.4                157.4     36  126   528  ...   \n10069                       0.4                161.5     32  126   987  ...   \n10170                       0.4                 74.9     16   63   539  ...   \n10116                       0.4                 89.0     32   63   791  ...   \n\n            reliability2  duration inet_up  inet_down  pci_gen  hosting_type  \\\nmachine_id                                                                     \n11305           0.997321      13.0    91.0       87.5        4           NaN   \n6767            0.998859      32.0    45.5       42.1        3           NaN   \n11027           0.996586      23.0   220.1     1666.6        4           NaN   \n6063            0.991568      30.0   301.6      342.3        4           NaN   \n11486           0.990799      20.0   541.9      671.8        4           NaN   \n...                  ...       ...     ...        ...      ...           ...   \n9897            0.998461      17.0    24.1      104.3        4           NaN   \n9901            0.989345     153.0    86.3      498.8        3           NaN   \n10069           0.994792      31.0   896.9      892.6        3           NaN   \n10170           0.990241      31.0   258.2      259.7        4           NaN   \n10116           0.988489       NaN   337.1      648.9        4           NaN   \n\n            pcie_bw                   cpu_name      mobo_name  \\\nmachine_id                                                      \n11305          23.3            Core™ i5-12600K    B760 Pro RS   \n6767           11.7           Core™ i9-10900X    WS X299 SAGE   \n11027           6.3            Core™ i5-12600K    Z690 Pro RS   \n6063           25.1             EPYC 7763 64C          H12DGO   \n11486          14.6             EPYC 7763 64C          H12DGO   \n...             ...                        ...            ...   \n9897           24.1   Ryzen TR PRO 3955WX 16Cs  Pro WS WRX80E   \n9901           11.7          Xeon® E5-2696 v3             X99   \n10069          11.7          Xeon® E5-2698 v3             X99   \n10170          24.1             EPYC 7502 32C          ROMED8   \n10116          18.9             EPYC 7B12 64C      ROME2D32GM   \n\n                                                     location  \nmachine_id                                                     \n11305       {'country': 'US', 'location': 'Moses Lake, Was...  \n6767        {'country': 'CA', 'location': 'Vancouver, Brit...  \n11027       {'country': 'US', 'location': 'Bellevue, Washi...  \n6063        {'country': 'US', 'lat': 37.751, 'long': -97.8...  \n11486       {'country': 'SI', 'location': 'Ljubljana', 'la...  \n...                                                       ...  \n9897        {'country': 'NL', 'location': 'The Hague, Sout...  \n9901        {'country': 'SI', 'location': 'Kamnik', 'lat':...  \n10069       {'country': 'NO', 'location': 'Tromsø, Troms o...  \n10170       {'country': 'US', 'location': 'Salt Lake City,...  \n10116       {'country': 'TW', 'location': 'Taipei, Taipei ...  \n\n[301 rows x 24 columns]",
      "text/html": "<div>\n<style scoped>\n    .dataframe tbody tr th:only-of-type {\n        vertical-align: middle;\n    }\n\n    .dataframe tbody tr th {\n        vertical-align: top;\n    }\n\n    .dataframe thead th {\n        text-align: right;\n    }\n</style>\n<table border=\"1\" class=\"dataframe\">\n  <thead>\n    <tr style=\"text-align: right;\">\n      <th></th>\n      <th>gpu_name</th>\n      <th>rented_fraq</th>\n      <th>cuda_max_good</th>\n      <th>driver_version</th>\n      <th>dph</th>\n      <th>credit_discount_max</th>\n      <th>dlperf_per_dphtotal</th>\n      <th>cores</th>\n      <th>ram</th>\n      <th>disk</th>\n      <th>...</th>\n      <th>reliability2</th>\n      <th>duration</th>\n      <th>inet_up</th>\n      <th>inet_down</th>\n      <th>pci_gen</th>\n      <th>hosting_type</th>\n      <th>pcie_bw</th>\n      <th>cpu_name</th>\n      <th>mobo_name</th>\n      <th>location</th>\n    </tr>\n    <tr>\n      <th>machine_id</th>\n      <th></th>\n      <th></th>\n      <th></th>\n      <th></th>\n      <th></th>\n      <th></th>\n      <th></th>\n      <th></th>\n      <th></th>\n      <th></th>\n      <th></th>\n      <th></th>\n      <th></th>\n      <th></th>\n      <th></th>\n      <th></th>\n      <th></th>\n      <th></th>\n      <th></th>\n      <th></th>\n      <th></th>\n    </tr>\n  </thead>\n  <tbody>\n    <tr>\n      <th>11305</th>\n      <td>RTX 3090</td>\n      <td>[1/1]</td>\n      <td>12.1</td>\n      <td>530.41.03</td>\n      <td>13.00</td>\n      <td>0.4</td>\n      <td>2.5</td>\n      <td>16</td>\n      <td>31</td>\n      <td>827</td>\n      <td>...</td>\n      <td>0.997321</td>\n      <td>13.0</td>\n      <td>91.0</td>\n      <td>87.5</td>\n      <td>4</td>\n      <td>NaN</td>\n      <td>23.3</td>\n      <td>Core™ i5-12600K</td>\n      <td>B760 Pro RS</td>\n      <td>{'country': 'US', 'location': 'Moses Lake, Was...</td>\n    </tr>\n    <tr>\n      <th>6767</th>\n      <td>RTX A6000</td>\n      <td>[0/2]</td>\n      <td>12.0</td>\n      <td>525.125.06</td>\n      <td>5.01</td>\n      <td>0.4</td>\n      <td>7.1</td>\n      <td>10</td>\n      <td>126</td>\n      <td>1215</td>\n      <td>...</td>\n      <td>0.998859</td>\n      <td>32.0</td>\n      <td>45.5</td>\n      <td>42.1</td>\n      <td>3</td>\n      <td>NaN</td>\n      <td>11.7</td>\n      <td>Core™ i9-10900X</td>\n      <td>WS X299 SAGE</td>\n      <td>{'country': 'CA', 'location': 'Vancouver, Brit...</td>\n    </tr>\n    <tr>\n      <th>11027</th>\n      <td>RTX 4090</td>\n      <td>[1/2]</td>\n      <td>12.0</td>\n      <td>525.125.06</td>\n      <td>5.00</td>\n      <td>0.0</td>\n      <td>14.9</td>\n      <td>8</td>\n      <td>63</td>\n      <td>828</td>\n      <td>...</td>\n      <td>0.996586</td>\n      <td>23.0</td>\n      <td>220.1</td>\n      <td>1666.6</td>\n      <td>4</td>\n      <td>NaN</td>\n      <td>6.3</td>\n      <td>Core™ i5-12600K</td>\n      <td>Z690 Pro RS</td>\n      <td>{'country': 'US', 'location': 'Bellevue, Washi...</td>\n    </tr>\n    <tr>\n      <th>6063</th>\n      <td>A100 SXM4</td>\n      <td>[0/8]</td>\n      <td>12.0</td>\n      <td>525.85.12</td>\n      <td>2.00</td>\n      <td>0.4</td>\n      <td>27.7</td>\n      <td>32</td>\n      <td>126</td>\n      <td>188</td>\n      <td>...</td>\n      <td>0.991568</td>\n      <td>30.0</td>\n      <td>301.6</td>\n      <td>342.3</td>\n      <td>4</td>\n      <td>NaN</td>\n      <td>25.1</td>\n      <td>EPYC 7763 64C</td>\n      <td>H12DGO</td>\n      <td>{'country': 'US', 'lat': 37.751, 'long': -97.8...</td>\n    </tr>\n    <tr>\n      <th>11486</th>\n      <td>A100 SXM4</td>\n      <td>[0/8]</td>\n      <td>12.2</td>\n      <td>535.54.03</td>\n      <td>1.85</td>\n      <td>0.1</td>\n      <td>32.1</td>\n      <td>32</td>\n      <td>250</td>\n      <td>1571</td>\n      <td>...</td>\n      <td>0.990799</td>\n      <td>20.0</td>\n      <td>541.9</td>\n      <td>671.8</td>\n      <td>4</td>\n      <td>NaN</td>\n      <td>14.6</td>\n      <td>EPYC 7763 64C</td>\n      <td>H12DGO</td>\n      <td>{'country': 'SI', 'location': 'Ljubljana', 'la...</td>\n    </tr>\n    <tr>\n      <th>...</th>\n      <td>...</td>\n      <td>...</td>\n      <td>...</td>\n      <td>...</td>\n      <td>...</td>\n      <td>...</td>\n      <td>...</td>\n      <td>...</td>\n      <td>...</td>\n      <td>...</td>\n      <td>...</td>\n      <td>...</td>\n      <td>...</td>\n      <td>...</td>\n      <td>...</td>\n      <td>...</td>\n      <td>...</td>\n      <td>...</td>\n      <td>...</td>\n      <td>...</td>\n      <td>...</td>\n    </tr>\n    <tr>\n      <th>9897</th>\n      <td>RTX 4090</td>\n      <td>[6/6]</td>\n      <td>12.0</td>\n      <td>525.105.17</td>\n      <td>0.50</td>\n      <td>0.1</td>\n      <td>112.5</td>\n      <td>5</td>\n      <td>42</td>\n      <td>106</td>\n      <td>...</td>\n      <td>0.998461</td>\n      <td>17.0</td>\n      <td>24.1</td>\n      <td>104.3</td>\n      <td>4</td>\n      <td>NaN</td>\n      <td>24.1</td>\n      <td>Ryzen TR PRO 3955WX 16Cs</td>\n      <td>Pro WS WRX80E</td>\n      <td>{'country': 'NL', 'location': 'The Hague, Sout...</td>\n    </tr>\n    <tr>\n      <th>9901</th>\n      <td>RTX 4090</td>\n      <td>[1/1]</td>\n      <td>12.2</td>\n      <td>535.54.03</td>\n      <td>0.50</td>\n      <td>0.4</td>\n      <td>157.4</td>\n      <td>36</td>\n      <td>126</td>\n      <td>528</td>\n      <td>...</td>\n      <td>0.989345</td>\n      <td>153.0</td>\n      <td>86.3</td>\n      <td>498.8</td>\n      <td>3</td>\n      <td>NaN</td>\n      <td>11.7</td>\n      <td>Xeon® E5-2696 v3</td>\n      <td>X99</td>\n      <td>{'country': 'SI', 'location': 'Kamnik', 'lat':...</td>\n    </tr>\n    <tr>\n      <th>10069</th>\n      <td>RTX 4090</td>\n      <td>[1/1]</td>\n      <td>12.0</td>\n      <td>525.125.06</td>\n      <td>0.50</td>\n      <td>0.4</td>\n      <td>161.5</td>\n      <td>32</td>\n      <td>126</td>\n      <td>987</td>\n      <td>...</td>\n      <td>0.994792</td>\n      <td>31.0</td>\n      <td>896.9</td>\n      <td>892.6</td>\n      <td>3</td>\n      <td>NaN</td>\n      <td>11.7</td>\n      <td>Xeon® E5-2698 v3</td>\n      <td>X99</td>\n      <td>{'country': 'NO', 'location': 'Tromsø, Troms o...</td>\n    </tr>\n    <tr>\n      <th>10170</th>\n      <td>RTX A6000</td>\n      <td>[3/4]</td>\n      <td>12.0</td>\n      <td>525.105.17</td>\n      <td>0.50</td>\n      <td>0.4</td>\n      <td>74.9</td>\n      <td>16</td>\n      <td>63</td>\n      <td>539</td>\n      <td>...</td>\n      <td>0.990241</td>\n      <td>31.0</td>\n      <td>258.2</td>\n      <td>259.7</td>\n      <td>4</td>\n      <td>NaN</td>\n      <td>24.1</td>\n      <td>EPYC 7502 32C</td>\n      <td>ROMED8</td>\n      <td>{'country': 'US', 'location': 'Salt Lake City,...</td>\n    </tr>\n    <tr>\n      <th>10116</th>\n      <td>RTX 4090</td>\n      <td>[8/8]</td>\n      <td>12.0</td>\n      <td>525.105.17</td>\n      <td>0.50</td>\n      <td>0.4</td>\n      <td>89.0</td>\n      <td>32</td>\n      <td>63</td>\n      <td>791</td>\n      <td>...</td>\n      <td>0.988489</td>\n      <td>NaN</td>\n      <td>337.1</td>\n      <td>648.9</td>\n      <td>4</td>\n      <td>NaN</td>\n      <td>18.9</td>\n      <td>EPYC 7B12 64C</td>\n      <td>ROME2D32GM</td>\n      <td>{'country': 'TW', 'location': 'Taipei, Taipei ...</td>\n    </tr>\n  </tbody>\n</table>\n<p>301 rows × 24 columns</p>\n</div>"
     },
     "execution_count": 23,
     "metadata": {},
     "output_type": "execute_result"
    }
   ],
   "source": [
    "categorical = ['cpu_name', 'disk_name', 'gpu_name', 'driver_version', 'cuda_max_good', 'country',\n",
    "               'has_avx', 'pci_gen', 'gpu_display_active', 'gpu_lanes', 'hosting_type', 'min_chunk',\n",
    "               'num_gpus', 'verification', 'verified', 'compute_cap']\n",
    "\n",
    "numerical = ['cpu_cores', 'cpu_ram', 'credit_discount_max', 'direct_port_count', 'disk_bw', 'disk_space', 'dlperf',\n",
    "             'dlperf_per_dphtotal', 'dph_base', 'duration', 'flops_per_dphtotal', 'gpu_mem_bw', 'inet_down', 'inet_down_cost', 'inet_up',\n",
    "             'inet_up_cost', 'min_bid', 'pcie_bw', 'reliability2', 'storage_cost', 'total_flops', 'cores', 'ram', 'dph', 'disk'\n",
    "             ]\n",
    "\n",
    "\n",
    "cols = [ 'gpu_name',  'rented_fraq', 'cuda_max_good', 'driver_version', 'dph', 'credit_discount_max', 'dlperf_per_dphtotal', 'cores', 'ram', 'disk', 'disk_bw',\n",
    "        'min_chunk', 'country', 'storage_cost', 'reliability2', 'duration', 'inet_up', 'inet_down', 'pci_gen', 'hosting_type',  'pcie_bw', 'cpu_name', 'mobo_name',  'location']\n",
    "\n",
    "offers.query('dph >= 0.5')[cols].sort_values(by='dph', ascending=False)\n"
   ],
   "metadata": {
    "collapsed": false,
    "ExecuteTime": {
     "end_time": "2023-07-31T10:03:35.967143100Z",
     "start_time": "2023-07-31T10:03:35.922133700Z"
    }
   }
  },
  {
   "cell_type": "code",
   "execution_count": 28,
   "outputs": [
    {
     "data": {
      "text/plain": "            bw_nvlink  compute_cap  cpu_cores              cpu_name  cpu_ram  \\\nmachine_id                                                                     \n11392             0.0          860       64.0   Ryzen TR 3970X 32C    257580   \n\n           credit_balance credit_discount  credit_discount_max  cuda_max_good  \\\nmachine_id                                                                      \n11392                None            None                  0.4           12.0   \n\n            direct_port_count  ...  verified  \\\nmachine_id                     ...             \n11392                     251  ...      True   \n\n                                     timestamp  cores  ram     dph  disk  \\\nmachine_id                                                                 \n11392      2023-07-23 05:03:40.951691755+00:00      6   25  0.3293   157   \n\n            rented_fraq  country  rented min_fraq  \nmachine_id                                         \n11392            [0/10]       DE   False      0.8  \n\n[1 rows x 62 columns]",
      "text/html": "<div>\n<style scoped>\n    .dataframe tbody tr th:only-of-type {\n        vertical-align: middle;\n    }\n\n    .dataframe tbody tr th {\n        vertical-align: top;\n    }\n\n    .dataframe thead th {\n        text-align: right;\n    }\n</style>\n<table border=\"1\" class=\"dataframe\">\n  <thead>\n    <tr style=\"text-align: right;\">\n      <th></th>\n      <th>bw_nvlink</th>\n      <th>compute_cap</th>\n      <th>cpu_cores</th>\n      <th>cpu_name</th>\n      <th>cpu_ram</th>\n      <th>credit_balance</th>\n      <th>credit_discount</th>\n      <th>credit_discount_max</th>\n      <th>cuda_max_good</th>\n      <th>direct_port_count</th>\n      <th>...</th>\n      <th>verified</th>\n      <th>timestamp</th>\n      <th>cores</th>\n      <th>ram</th>\n      <th>dph</th>\n      <th>disk</th>\n      <th>rented_fraq</th>\n      <th>country</th>\n      <th>rented</th>\n      <th>min_fraq</th>\n    </tr>\n    <tr>\n      <th>machine_id</th>\n      <th></th>\n      <th></th>\n      <th></th>\n      <th></th>\n      <th></th>\n      <th></th>\n      <th></th>\n      <th></th>\n      <th></th>\n      <th></th>\n      <th></th>\n      <th></th>\n      <th></th>\n      <th></th>\n      <th></th>\n      <th></th>\n      <th></th>\n      <th></th>\n      <th></th>\n      <th></th>\n      <th></th>\n    </tr>\n  </thead>\n  <tbody>\n    <tr>\n      <th>11392</th>\n      <td>0.0</td>\n      <td>860</td>\n      <td>64.0</td>\n      <td>Ryzen TR 3970X 32C</td>\n      <td>257580</td>\n      <td>None</td>\n      <td>None</td>\n      <td>0.4</td>\n      <td>12.0</td>\n      <td>251</td>\n      <td>...</td>\n      <td>True</td>\n      <td>2023-07-23 05:03:40.951691755+00:00</td>\n      <td>6</td>\n      <td>25</td>\n      <td>0.3293</td>\n      <td>157</td>\n      <td>[0/10]</td>\n      <td>DE</td>\n      <td>False</td>\n      <td>0.8</td>\n    </tr>\n  </tbody>\n</table>\n<p>1 rows × 62 columns</p>\n</div>"
     },
     "execution_count": 28,
     "metadata": {},
     "output_type": "execute_result"
    }
   ],
   "source": [
    "offers.location.dropna().apply(lambda x: x['isp']).unique()"
   ],
   "metadata": {
    "collapsed": false,
    "ExecuteTime": {
     "end_time": "2023-07-23T05:06:37.554364500Z",
     "start_time": "2023-07-23T05:06:37.531359300Z"
    }
   }
  },
  {
   "cell_type": "code",
   "execution_count": 13,
   "outputs": [
    {
     "data": {
      "text/plain": "            discounted_dph_total  dph_base\nmachine_id                                \n11490                       0.08      0.08\n11489                       0.10      0.10\n11488                       0.04      0.04\n11487                       0.29      0.29\n11486                      16.00     16.00\n...                          ...       ...\n530                         0.80      0.80\n301                         0.72      0.72\n283                         0.33      0.33\n275                         0.44      0.44\n274                         0.44      0.44\n\n[1161 rows x 2 columns]",
      "text/html": "<div>\n<style scoped>\n    .dataframe tbody tr th:only-of-type {\n        vertical-align: middle;\n    }\n\n    .dataframe tbody tr th {\n        vertical-align: top;\n    }\n\n    .dataframe thead th {\n        text-align: right;\n    }\n</style>\n<table border=\"1\" class=\"dataframe\">\n  <thead>\n    <tr style=\"text-align: right;\">\n      <th></th>\n      <th>discounted_dph_total</th>\n      <th>dph_base</th>\n    </tr>\n    <tr>\n      <th>machine_id</th>\n      <th></th>\n      <th></th>\n    </tr>\n  </thead>\n  <tbody>\n    <tr>\n      <th>11490</th>\n      <td>0.08</td>\n      <td>0.08</td>\n    </tr>\n    <tr>\n      <th>11489</th>\n      <td>0.10</td>\n      <td>0.10</td>\n    </tr>\n    <tr>\n      <th>11488</th>\n      <td>0.04</td>\n      <td>0.04</td>\n    </tr>\n    <tr>\n      <th>11487</th>\n      <td>0.29</td>\n      <td>0.29</td>\n    </tr>\n    <tr>\n      <th>11486</th>\n      <td>16.00</td>\n      <td>16.00</td>\n    </tr>\n    <tr>\n      <th>...</th>\n      <td>...</td>\n      <td>...</td>\n    </tr>\n    <tr>\n      <th>530</th>\n      <td>0.80</td>\n      <td>0.80</td>\n    </tr>\n    <tr>\n      <th>301</th>\n      <td>0.72</td>\n      <td>0.72</td>\n    </tr>\n    <tr>\n      <th>283</th>\n      <td>0.33</td>\n      <td>0.33</td>\n    </tr>\n    <tr>\n      <th>275</th>\n      <td>0.44</td>\n      <td>0.44</td>\n    </tr>\n    <tr>\n      <th>274</th>\n      <td>0.44</td>\n      <td>0.44</td>\n    </tr>\n  </tbody>\n</table>\n<p>1161 rows × 2 columns</p>\n</div>"
     },
     "execution_count": 13,
     "metadata": {},
     "output_type": "execute_result"
    }
   ],
   "source": [
    "offers[['discounted_dph_total', 'dph_base']]"
   ],
   "metadata": {
    "collapsed": false,
    "ExecuteTime": {
     "end_time": "2023-07-10T10:30:41.362228600Z",
     "start_time": "2023-07-10T10:30:41.337222600Z"
    }
   }
  },
  {
   "cell_type": "code",
   "execution_count": 6,
   "outputs": [],
   "source": [
    "offers[numerical] = offers[numerical].astype(float)"
   ],
   "metadata": {
    "collapsed": false,
    "ExecuteTime": {
     "end_time": "2023-07-07T04:32:03.786173300Z",
     "start_time": "2023-07-07T04:32:03.775171200Z"
    }
   }
  },
  {
   "cell_type": "code",
   "execution_count": null,
   "outputs": [],
   "source": [
    "import scipy\n",
    "\n",
    "scipy.special.seterr(all='raise')\n",
    "np.seterr(all='raise')"
   ],
   "metadata": {
    "collapsed": false
   }
  },
  {
   "cell_type": "code",
   "execution_count": null,
   "outputs": [],
   "source": [
    "data = offers.query('dph >= 0.6 & gpu_name == \"RTX 4090\"')\n",
    "\n",
    "print('Sample size N:', len(data))\n",
    "print(data.rented.value_counts())\n",
    "\n",
    "corr = pd.DataFrame(index=numerical)\n",
    "for feat in numerical:\n",
    "    try:\n",
    "        # print(feat, data[feat].var())\n",
    "        pbs = stats.pointbiserialr(data.rented, data[feat])\n",
    "        corr.loc[feat, 'corr'] = pbs.statistic\n",
    "        corr.loc[feat, 'pval'] = pbs.pvalue\n",
    "    except Exception as e:\n",
    "        print(e, feat)"
   ],
   "metadata": {
    "collapsed": false
   }
  },
  {
   "cell_type": "code",
   "execution_count": null,
   "outputs": [],
   "source": [
    "corr"
   ],
   "metadata": {
    "collapsed": false
   }
  },
  {
   "cell_type": "code",
   "execution_count": null,
   "outputs": [],
   "source": [
    "sns.heatmap(corr,\n",
    "            square=True,\n",
    "            cmap=\"coolwarm\");"
   ],
   "metadata": {
    "collapsed": false
   }
  },
  {
   "cell_type": "code",
   "execution_count": null,
   "outputs": [],
   "source": [
    "data[cols]"
   ],
   "metadata": {
    "collapsed": false
   }
  },
  {
   "cell_type": "code",
   "execution_count": null,
   "outputs": [],
   "source": [
    "corr.sort_values(by='pval')"
   ],
   "metadata": {
    "collapsed": false
   }
  },
  {
   "cell_type": "code",
   "execution_count": null,
   "outputs": [],
   "source": [
    "plt.rcParams[\"figure.figsize\"] = (5, 5)\n",
    "data = offers.query('dph >= 0.6 & gpu_name == \"RTX 4090\"')\n",
    "\n",
    "var = 'num_gpus'\n",
    "\n",
    "print('Sample size N:', len(data))\n",
    "print(data.rented.value_counts())\n",
    "print(stats.pointbiserialr(data.rented, data[var]))\n",
    "\n",
    "# mask = np.abs(stats.zscore(data.inet_up)) < 2\n",
    "mask = stats.zscore(data[var]) < 2\n",
    "q_low = data[var].quantile(0.05)\n",
    "q_high = data[var].quantile(0.95)\n",
    "\n",
    "mask = data[var].between(0, q_high)\n",
    "\n",
    "# sns.boxplot(data[mask], x='rented', y=var);\n",
    "sns.boxplot(data, x='rented', y=var);\n",
    "# plt.yscale('log')"
   ],
   "metadata": {
    "collapsed": false
   }
  },
  {
   "cell_type": "code",
   "execution_count": null,
   "outputs": [],
   "source": [
    "df = pd.DataFrame(offers.query('dph >= 0.8').corr()['rented'])\n",
    "\n",
    "plt.rcParams[\"figure.figsize\"] = (15, 15)\n",
    "\n",
    "sns.heatmap(df,\n",
    "            square=True,\n",
    "            cmap=\"coolwarm\"\n",
    "            );"
   ],
   "metadata": {
    "collapsed": false
   }
  },
  {
   "cell_type": "code",
   "execution_count": null,
   "outputs": [],
   "source": [
    "# contingency tables\n",
    "data = offers.query('dph >= 0.5 & gpu_name == \"RTX 4090\"')\n",
    "\n",
    "tab = pd.crosstab(data.rented, data.num_gpus)\n",
    "tab"
   ],
   "metadata": {
    "collapsed": false
   }
  },
  {
   "cell_type": "code",
   "execution_count": null,
   "outputs": [],
   "source": [
    "data = offers.query('dph >= 0.6 & gpu_name == \"RTX 4090\"')\n",
    "\n",
    "print('Sample size N:', len(data))\n",
    "print(data.rented.value_counts())\n",
    "\n",
    "corr_cat = pd.DataFrame(index=categorical)\n",
    "for feat in categorical:\n",
    "    try:\n",
    "        # print(feat, data[feat].var())\n",
    "        tab = pd.crosstab(data.rented, data[feat])\n",
    "        chi2 = stats.chi2_contingency(tab)\n",
    "        corr_cat.loc[feat, 'corr'] = chi2.statistic\n",
    "        corr_cat.loc[feat, 'pval'] = chi2.pvalue\n",
    "    except Exception as e:\n",
    "        print(e, feat)"
   ],
   "metadata": {
    "collapsed": false
   }
  },
  {
   "cell_type": "code",
   "execution_count": null,
   "outputs": [],
   "source": [
    "corr_cat"
   ],
   "metadata": {
    "collapsed": false
   }
  },
  {
   "cell_type": "code",
   "execution_count": null,
   "outputs": [],
   "source": [
    "sns.displot(data,\n",
    "            x='num_gpus',\n",
    "            # multiple='fill',\n",
    "            multiple='stack',\n",
    "            hue='rented').set_xticklabels(rotation=90);"
   ],
   "metadata": {
    "collapsed": false
   }
  },
  {
   "cell_type": "code",
   "execution_count": null,
   "outputs": [],
   "source": [
    "stats.chi2_contingency(tab).statistic, stats.chi2_contingency(tab).pvalue"
   ],
   "metadata": {
    "collapsed": false
   }
  },
  {
   "cell_type": "code",
   "execution_count": null,
   "outputs": [],
   "source": [
    "df = offers.query('dph >= 0.8')"
   ],
   "metadata": {
    "collapsed": false
   }
  },
  {
   "cell_type": "code",
   "execution_count": null,
   "outputs": [],
   "source": [
    "sns.displot(data=df,\n",
    "            x='country',\n",
    "            hue='rented',\n",
    "            # multiple='fill',\n",
    "            multiple='stack',\n",
    "            alpha=0.5,\n",
    "            aspect=2,\n",
    "            ).set_xticklabels(rotation=90);"
   ],
   "metadata": {
    "collapsed": false
   }
  },
  {
   "cell_type": "code",
   "execution_count": null,
   "outputs": [],
   "source": [
    "sns.displot(data=df,\n",
    "            x='cores',\n",
    "            kind='hist',\n",
    "            hue='rented',\n",
    "            # multiple='fill',\n",
    "            multiple='stack',\n",
    "            bins=64,\n",
    "            alpha=0.5,\n",
    "            aspect=2,\n",
    "            ).set_xticklabels(rotation=90);"
   ],
   "metadata": {
    "collapsed": false
   }
  },
  {
   "cell_type": "code",
   "execution_count": null,
   "outputs": [],
   "source": [
    "def round_power_two(s: pd.Series):\n",
    "    return np.log2(df.cpu_ram / 1024).round().astype(int).pow(2)\n",
    "\n",
    "\n",
    "sns.displot(data=df,\n",
    "            x='ram',\n",
    "            kind='hist',\n",
    "            hue='rented',\n",
    "            # multiple='fill',\n",
    "            multiple='stack',\n",
    "            bins=64,\n",
    "            alpha=0.5,\n",
    "            aspect=2,\n",
    "            ).set_xticklabels(rotation=90);"
   ],
   "metadata": {
    "collapsed": false
   }
  },
  {
   "cell_type": "code",
   "execution_count": null,
   "outputs": [],
   "source": [
    "sns.displot(data=df.query('dph > 0.6'),\n",
    "            x='dph',\n",
    "            kind='hist',\n",
    "            hue='rented',\n",
    "            bins=64,\n",
    "            multiple='stack',\n",
    "            # multiple='fill',\n",
    "            alpha=0.5,\n",
    "            aspect=2,\n",
    "            ).set_xticklabels(rotation=90);"
   ],
   "metadata": {
    "collapsed": false
   }
  },
  {
   "cell_type": "code",
   "execution_count": null,
   "outputs": [],
   "source": [
    "sns.displot(\n",
    "    df.query('dph > 0.6'),\n",
    "    x='min_chunk',\n",
    "    hue='rented',\n",
    "    multiple='stack',\n",
    "    bins=8,\n",
    ").set_xticklabels(rotation=90);"
   ],
   "metadata": {
    "collapsed": false
   }
  },
  {
   "cell_type": "code",
   "execution_count": null,
   "outputs": [],
   "source": [
    "sns.relplot(\n",
    "    df.query('dph > 0.5'),\n",
    "    x='dph',\n",
    "    y='ram',\n",
    "    hue='rented',\n",
    "    alpha=0.5\n",
    ")"
   ],
   "metadata": {
    "collapsed": false
   }
  },
  {
   "cell_type": "code",
   "execution_count": null,
   "outputs": [],
   "source": [
    "sns.relplot(\n",
    "    df.query('dph > 0.5'),\n",
    "    x='dph',\n",
    "    y='cores',\n",
    "    hue='rented',\n",
    "    alpha=0.5\n",
    ")"
   ],
   "metadata": {
    "collapsed": false
   }
  },
  {
   "cell_type": "code",
   "execution_count": null,
   "outputs": [],
   "source": [
    "sns.pairplot(\n",
    "    df.query('dph > 0.6'),\n",
    "    vars=['dph', 'ram', 'cores', 'reliability2'],\n",
    "    corner=True,\n",
    "    hue='rented',\n",
    ");"
   ],
   "metadata": {
    "collapsed": false
   }
  },
  {
   "cell_type": "code",
   "execution_count": null,
   "outputs": [],
   "source": [
    "sns.catplot(\n",
    "    df.query('dph < 2'),\n",
    "    x='cpu',\n",
    "    y='dph',\n",
    "    hue='rented',\n",
    "    aspect=4,\n",
    ").set_xticklabels(rotation=90);"
   ],
   "metadata": {
    "collapsed": false
   }
  },
  {
   "cell_type": "code",
   "execution_count": null,
   "outputs": [],
   "source": [],
   "metadata": {
    "collapsed": false
   }
  },
  {
   "cell_type": "code",
   "execution_count": null,
   "outputs": [],
   "source": [
    "offers['rented'] = offers.num_gpus_rented > 0\n",
    "\n",
    "sns.relplot(\n",
    "    offers.query('dph > 0.6 and dph < 2'),\n",
    "    x='cpu',\n",
    "    y='dph',\n",
    "    hue='rented',\n",
    "    size='num_gpus_rented',\n",
    "    aspect=2,\n",
    "    alpha=0.5,\n",
    ").set_xticklabels(rotation=90);"
   ],
   "metadata": {
    "collapsed": false
   }
  },
  {
   "cell_type": "code",
   "execution_count": null,
   "outputs": [],
   "source": [
    "sns.relplot(\n",
    "    offers.query('dph > 0.6 and dph < 2'),\n",
    "    x='cores',\n",
    "    y='dph',\n",
    "    hue='rented',\n",
    "    size='num_gpus_rented',\n",
    "    aspect=2,\n",
    "    alpha=0.5,\n",
    ").set_xticklabels(rotation=90);"
   ],
   "metadata": {
    "collapsed": false
   }
  },
  {
   "cell_type": "code",
   "execution_count": null,
   "outputs": [],
   "source": [
    "sns.relplot(\n",
    "    offers.query('dph > 0.4 and dph < 2 and ram < 1000'),\n",
    "    x='ram',\n",
    "    y='dph',\n",
    "    hue='rented',\n",
    "    size='num_gpus_rented',\n",
    "    aspect=1,\n",
    "    alpha=0.5,\n",
    ").set_xticklabels(rotation=90);"
   ],
   "metadata": {
    "collapsed": false
   }
  },
  {
   "cell_type": "code",
   "execution_count": null,
   "outputs": [],
   "source": [
    "sns.relplot(\n",
    "    offers.query('dph > 0.6 and dph < 2 and ram < 1000'),\n",
    "    x='dlperf_per_dphtotal',\n",
    "    y='dph',\n",
    "    # hue='rented',\n",
    "    col='rented',\n",
    "    size='num_gpus_rented',\n",
    "    aspect=1,\n",
    "    alpha=0.5,\n",
    ").set_xticklabels(rotation=90);"
   ],
   "metadata": {
    "collapsed": false
   }
  },
  {
   "cell_type": "code",
   "execution_count": null,
   "outputs": [],
   "source": [
    "sns.relplot(\n",
    "    offers.query('dph > 0.4 and dph < 2 and ram < 1000'),\n",
    "    x='min_fraq',\n",
    "    y='dph',\n",
    "    hue='rented',\n",
    "    size='num_gpus_rented',\n",
    "    aspect=1,\n",
    "    alpha=0.5,\n",
    ").set_xticklabels(rotation=90);"
   ],
   "metadata": {
    "collapsed": false
   }
  },
  {
   "cell_type": "code",
   "execution_count": null,
   "outputs": [],
   "source": [
    "cols = ['rented_fraq', 'num_gpus_rented','dph', 'dlperf_per_dphtotal', 'cores', 'ram', 'disk', 'disk_bw',\n",
    "        'min_chunk', 'reliability2', 'start_date','end_date', 'duration', 'inet_up', 'inet_down', 'pci_gen', 'pcie_bw', 'cpu', 'mobo_name', 'country', 'storage_cost', 'location']\n",
    "\n",
    "offers.query('num_gpus_rented > 0 and dph > 0.6')[cols]"
   ],
   "metadata": {
    "collapsed": false
   }
  },
  {
   "cell_type": "code",
   "execution_count": null,
   "outputs": [],
   "source": [
    "offers.columns"
   ],
   "metadata": {
    "collapsed": false
   }
  },
  {
   "cell_type": "code",
   "execution_count": null,
   "outputs": [],
   "source": [
    "# offers.query('dph_per_gpu > 0.6')[cols]\n",
    "offers.query('num_gpus_rented > 0 and dph >= 0.8')[cols].sort_values(by='dph', ascending=False)"
   ],
   "metadata": {
    "collapsed": false
   }
  },
  {
   "cell_type": "code",
   "execution_count": null,
   "outputs": [],
   "source": [
    "offers.query('dph >= 0.8')[cols].sort_values(by='dph', ascending=False)"
   ],
   "metadata": {
    "collapsed": false
   }
  }
 ],
 "metadata": {
  "kernelspec": {
   "display_name": "Python 3",
   "language": "python",
   "name": "python3"
  },
  "language_info": {
   "codemirror_mode": {
    "name": "ipython",
    "version": 2
   },
   "file_extension": ".py",
   "mimetype": "text/x-python",
   "name": "python",
   "nbconvert_exporter": "python",
   "pygments_lexer": "ipython2",
   "version": "2.7.6"
  }
 },
 "nbformat": 4,
 "nbformat_minor": 0
}
