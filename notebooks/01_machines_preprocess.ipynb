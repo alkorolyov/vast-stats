{
 "cells": [
  {
   "cell_type": "code",
   "execution_count": 5,
   "outputs": [
    {
     "name": "stdout",
     "output_type": "stream",
     "text": [
      "The autoreload extension is already loaded. To reload it, use:\n",
      "  %reload_ext autoreload\n"
     ]
    }
   ],
   "source": [
    "%load_ext autoreload\n",
    "%autoreload 2"
   ],
   "metadata": {
    "collapsed": false,
    "ExecuteTime": {
     "end_time": "2023-08-18T05:51:16.007998300Z",
     "start_time": "2023-08-18T05:51:15.887972800Z"
    }
   }
  },
  {
   "cell_type": "code",
   "execution_count": 50,
   "metadata": {
    "collapsed": true,
    "ExecuteTime": {
     "end_time": "2023-07-31T04:05:13.318048200Z",
     "start_time": "2023-07-31T04:05:13.120001Z"
    }
   },
   "outputs": [],
   "source": [
    "import requests\n",
    "import pandas as pd\n",
    "import numpy as np\n",
    "from pandas.api.types import is_integer_dtype, is_float_dtype, is_string_dtype\n",
    "\n",
    "from src.preprocess import preprocess\n",
    "from src.utils import df_na_vals, np_min_chunk"
   ]
  },
  {
   "cell_type": "code",
   "execution_count": 49,
   "outputs": [
    {
     "name": "stdout",
     "output_type": "stream",
     "text": [
      "2023-07-31 04:03:43.142564204+00:00\n"
     ]
    },
    {
     "data": {
      "text/plain": "      bundle_id  bw_nvlink  compute_cap  cpu_cores  cpu_cores_effective  \\\n0     314697833        0.0          890      256.0                256.0   \n1     314697840        0.0          890      256.0                256.0   \n2     314525846        0.0          890      192.0                192.0   \n3     314697828        0.0          890      256.0                256.0   \n4     314704005        0.0          890      112.0                112.0   \n...         ...        ...          ...        ...                  ...   \n5371  313990227        0.0          750        8.0                  8.0   \n5372  313990227        0.0          750        8.0                  8.0   \n5373  313990241        0.0          750        8.0                  8.0   \n5374  314716154        0.0          750       20.0                 20.0   \n5375  314665121        0.0          750       64.0                 64.0   \n\n                                        cpu_name  cpu_ram credit_balance  \\\n0                AMD EPYC 7H12 64-Core Processor   515762           None   \n1                AMD EPYC 7662 64-Core Processor   515762           None   \n2                AMD EPYC 7R12 48-Core Processor   515814           None   \n3                AMD EPYC 7742 64-Core Processor   515841           None   \n4                AMD EPYC 7663 56-Core Processor   515632           None   \n...                                          ...      ...            ...   \n5371                              Core™ i7 930      15987           None   \n5372                              Core™ i7 930      15987           None   \n5373                              Core™ i7 950      11955           None   \n5374                           Xeon® E5-2690 v2     48090           None   \n5375  AMD Ryzen Threadripper PRO 5975WX 32-Cores   193113           None   \n\n     credit_discount  credit_discount_max  ...  reliability2  rentable  \\\n0               None                  0.4  ...      0.982502     False   \n1               None                  0.4  ...      0.982373     False   \n2               None                  0.4  ...      0.991838     False   \n3               None                  0.4  ...      0.984646     False   \n4               None                  0.2  ...      0.994753     False   \n...              ...                  ...  ...           ...       ...   \n5371            None                  NaN  ...      0.997656     False   \n5372            None                  NaN  ...      0.998317     False   \n5373            None                  NaN  ...      0.998444     False   \n5374            None                  NaN  ...      0.982533      True   \n5375            None                  0.2  ...      0.996858      True   \n\n           score    start_date  static_ip  storage_cost total_flops  \\\n0      16.586195           NaN       True          0.15  1438.18752   \n1      16.618894           NaN       True          0.15  1436.22144   \n2      24.657660           NaN       True          0.35  1431.30624   \n3      23.022774           NaN       True          0.15  1227.81696   \n4      37.747514           NaN      False          0.15  1220.93568   \n...          ...           ...        ...           ...         ...   \n5371  123.207980           NaN       True          0.05     6.63552   \n5372  118.437761           NaN       True          0.05     6.63552   \n5373   94.509620           NaN       True          0.05     4.46448   \n5374    8.011469  1.690776e+09       True          1.50     3.81696   \n5375    1.798192  1.690776e+09       True          0.20     2.46144   \n\n      verification  verified                           timestamp  \n0         verified      True 2023-07-31 04:03:43.142564204+00:00  \n1         verified      True 2023-07-31 04:03:43.142564204+00:00  \n2         verified      True 2023-07-31 04:03:43.142564204+00:00  \n3         verified      True 2023-07-31 04:03:43.142564204+00:00  \n4         verified      True 2023-07-31 04:03:43.142564204+00:00  \n...            ...       ...                                 ...  \n5371    unverified     False 2023-07-31 04:03:43.142564204+00:00  \n5372    unverified     False 2023-07-31 04:03:43.142564204+00:00  \n5373    unverified     False 2023-07-31 04:03:43.142564204+00:00  \n5374    unverified     False 2023-07-31 04:03:43.142564204+00:00  \n5375    unverified     False 2023-07-31 04:03:43.142564204+00:00  \n\n[5376 rows x 58 columns]",
      "text/html": "<div>\n<style scoped>\n    .dataframe tbody tr th:only-of-type {\n        vertical-align: middle;\n    }\n\n    .dataframe tbody tr th {\n        vertical-align: top;\n    }\n\n    .dataframe thead th {\n        text-align: right;\n    }\n</style>\n<table border=\"1\" class=\"dataframe\">\n  <thead>\n    <tr style=\"text-align: right;\">\n      <th></th>\n      <th>bundle_id</th>\n      <th>bw_nvlink</th>\n      <th>compute_cap</th>\n      <th>cpu_cores</th>\n      <th>cpu_cores_effective</th>\n      <th>cpu_name</th>\n      <th>cpu_ram</th>\n      <th>credit_balance</th>\n      <th>credit_discount</th>\n      <th>credit_discount_max</th>\n      <th>...</th>\n      <th>reliability2</th>\n      <th>rentable</th>\n      <th>score</th>\n      <th>start_date</th>\n      <th>static_ip</th>\n      <th>storage_cost</th>\n      <th>total_flops</th>\n      <th>verification</th>\n      <th>verified</th>\n      <th>timestamp</th>\n    </tr>\n  </thead>\n  <tbody>\n    <tr>\n      <th>0</th>\n      <td>314697833</td>\n      <td>0.0</td>\n      <td>890</td>\n      <td>256.0</td>\n      <td>256.0</td>\n      <td>AMD EPYC 7H12 64-Core Processor</td>\n      <td>515762</td>\n      <td>None</td>\n      <td>None</td>\n      <td>0.4</td>\n      <td>...</td>\n      <td>0.982502</td>\n      <td>False</td>\n      <td>16.586195</td>\n      <td>NaN</td>\n      <td>True</td>\n      <td>0.15</td>\n      <td>1438.18752</td>\n      <td>verified</td>\n      <td>True</td>\n      <td>2023-07-31 04:03:43.142564204+00:00</td>\n    </tr>\n    <tr>\n      <th>1</th>\n      <td>314697840</td>\n      <td>0.0</td>\n      <td>890</td>\n      <td>256.0</td>\n      <td>256.0</td>\n      <td>AMD EPYC 7662 64-Core Processor</td>\n      <td>515762</td>\n      <td>None</td>\n      <td>None</td>\n      <td>0.4</td>\n      <td>...</td>\n      <td>0.982373</td>\n      <td>False</td>\n      <td>16.618894</td>\n      <td>NaN</td>\n      <td>True</td>\n      <td>0.15</td>\n      <td>1436.22144</td>\n      <td>verified</td>\n      <td>True</td>\n      <td>2023-07-31 04:03:43.142564204+00:00</td>\n    </tr>\n    <tr>\n      <th>2</th>\n      <td>314525846</td>\n      <td>0.0</td>\n      <td>890</td>\n      <td>192.0</td>\n      <td>192.0</td>\n      <td>AMD EPYC 7R12 48-Core Processor</td>\n      <td>515814</td>\n      <td>None</td>\n      <td>None</td>\n      <td>0.4</td>\n      <td>...</td>\n      <td>0.991838</td>\n      <td>False</td>\n      <td>24.657660</td>\n      <td>NaN</td>\n      <td>True</td>\n      <td>0.35</td>\n      <td>1431.30624</td>\n      <td>verified</td>\n      <td>True</td>\n      <td>2023-07-31 04:03:43.142564204+00:00</td>\n    </tr>\n    <tr>\n      <th>3</th>\n      <td>314697828</td>\n      <td>0.0</td>\n      <td>890</td>\n      <td>256.0</td>\n      <td>256.0</td>\n      <td>AMD EPYC 7742 64-Core Processor</td>\n      <td>515841</td>\n      <td>None</td>\n      <td>None</td>\n      <td>0.4</td>\n      <td>...</td>\n      <td>0.984646</td>\n      <td>False</td>\n      <td>23.022774</td>\n      <td>NaN</td>\n      <td>True</td>\n      <td>0.15</td>\n      <td>1227.81696</td>\n      <td>verified</td>\n      <td>True</td>\n      <td>2023-07-31 04:03:43.142564204+00:00</td>\n    </tr>\n    <tr>\n      <th>4</th>\n      <td>314704005</td>\n      <td>0.0</td>\n      <td>890</td>\n      <td>112.0</td>\n      <td>112.0</td>\n      <td>AMD EPYC 7663 56-Core Processor</td>\n      <td>515632</td>\n      <td>None</td>\n      <td>None</td>\n      <td>0.2</td>\n      <td>...</td>\n      <td>0.994753</td>\n      <td>False</td>\n      <td>37.747514</td>\n      <td>NaN</td>\n      <td>False</td>\n      <td>0.15</td>\n      <td>1220.93568</td>\n      <td>verified</td>\n      <td>True</td>\n      <td>2023-07-31 04:03:43.142564204+00:00</td>\n    </tr>\n    <tr>\n      <th>...</th>\n      <td>...</td>\n      <td>...</td>\n      <td>...</td>\n      <td>...</td>\n      <td>...</td>\n      <td>...</td>\n      <td>...</td>\n      <td>...</td>\n      <td>...</td>\n      <td>...</td>\n      <td>...</td>\n      <td>...</td>\n      <td>...</td>\n      <td>...</td>\n      <td>...</td>\n      <td>...</td>\n      <td>...</td>\n      <td>...</td>\n      <td>...</td>\n      <td>...</td>\n      <td>...</td>\n    </tr>\n    <tr>\n      <th>5371</th>\n      <td>313990227</td>\n      <td>0.0</td>\n      <td>750</td>\n      <td>8.0</td>\n      <td>8.0</td>\n      <td>Core™ i7 930</td>\n      <td>15987</td>\n      <td>None</td>\n      <td>None</td>\n      <td>NaN</td>\n      <td>...</td>\n      <td>0.997656</td>\n      <td>False</td>\n      <td>123.207980</td>\n      <td>NaN</td>\n      <td>True</td>\n      <td>0.05</td>\n      <td>6.63552</td>\n      <td>unverified</td>\n      <td>False</td>\n      <td>2023-07-31 04:03:43.142564204+00:00</td>\n    </tr>\n    <tr>\n      <th>5372</th>\n      <td>313990227</td>\n      <td>0.0</td>\n      <td>750</td>\n      <td>8.0</td>\n      <td>8.0</td>\n      <td>Core™ i7 930</td>\n      <td>15987</td>\n      <td>None</td>\n      <td>None</td>\n      <td>NaN</td>\n      <td>...</td>\n      <td>0.998317</td>\n      <td>False</td>\n      <td>118.437761</td>\n      <td>NaN</td>\n      <td>True</td>\n      <td>0.05</td>\n      <td>6.63552</td>\n      <td>unverified</td>\n      <td>False</td>\n      <td>2023-07-31 04:03:43.142564204+00:00</td>\n    </tr>\n    <tr>\n      <th>5373</th>\n      <td>313990241</td>\n      <td>0.0</td>\n      <td>750</td>\n      <td>8.0</td>\n      <td>8.0</td>\n      <td>Core™ i7 950</td>\n      <td>11955</td>\n      <td>None</td>\n      <td>None</td>\n      <td>NaN</td>\n      <td>...</td>\n      <td>0.998444</td>\n      <td>False</td>\n      <td>94.509620</td>\n      <td>NaN</td>\n      <td>True</td>\n      <td>0.05</td>\n      <td>4.46448</td>\n      <td>unverified</td>\n      <td>False</td>\n      <td>2023-07-31 04:03:43.142564204+00:00</td>\n    </tr>\n    <tr>\n      <th>5374</th>\n      <td>314716154</td>\n      <td>0.0</td>\n      <td>750</td>\n      <td>20.0</td>\n      <td>20.0</td>\n      <td>Xeon® E5-2690 v2</td>\n      <td>48090</td>\n      <td>None</td>\n      <td>None</td>\n      <td>NaN</td>\n      <td>...</td>\n      <td>0.982533</td>\n      <td>True</td>\n      <td>8.011469</td>\n      <td>1.690776e+09</td>\n      <td>True</td>\n      <td>1.50</td>\n      <td>3.81696</td>\n      <td>unverified</td>\n      <td>False</td>\n      <td>2023-07-31 04:03:43.142564204+00:00</td>\n    </tr>\n    <tr>\n      <th>5375</th>\n      <td>314665121</td>\n      <td>0.0</td>\n      <td>750</td>\n      <td>64.0</td>\n      <td>64.0</td>\n      <td>AMD Ryzen Threadripper PRO 5975WX 32-Cores</td>\n      <td>193113</td>\n      <td>None</td>\n      <td>None</td>\n      <td>0.2</td>\n      <td>...</td>\n      <td>0.996858</td>\n      <td>True</td>\n      <td>1.798192</td>\n      <td>1.690776e+09</td>\n      <td>True</td>\n      <td>0.20</td>\n      <td>2.46144</td>\n      <td>unverified</td>\n      <td>False</td>\n      <td>2023-07-31 04:03:43.142564204+00:00</td>\n    </tr>\n  </tbody>\n</table>\n<p>5376 rows × 58 columns</p>\n</div>"
     },
     "execution_count": 49,
     "metadata": {},
     "output_type": "execute_result"
    }
   ],
   "source": [
    "url = 'https://500.farm/vastai-exporter/offers'\n",
    "\n",
    "r = requests.pop(url)\n",
    "r.raise_for_status()\n",
    "\n",
    "raw  = pd.DataFrame(r.json()[\"offers\"])\n",
    "raw['timestamp'] = pd.to_datetime(r.json()['timestamp'])\n",
    "print(raw.timestamp[0])\n",
    "# raw.set_index('machine_id', inplace=True)\n",
    "raw"
   ],
   "metadata": {
    "collapsed": false,
    "ExecuteTime": {
     "end_time": "2023-07-31T04:05:03.941827600Z",
     "start_time": "2023-07-31T04:05:02.314130400Z"
    }
   }
  },
  {
   "cell_type": "code",
   "execution_count": 45,
   "outputs": [
    {
     "data": {
      "text/plain": "0          Oklahoma, US\n1          Oklahoma, US\n2       Taipei City, TW\n3           Taoyuan, TW\n4          Oklahoma, US\n             ...       \n5372          Tokyo, JP\n5373          Japan, JP\n5374          Japan, JP\n5375          Hanoi, VN\n5376          Viken, NO\nName: geolocation, Length: 5377, dtype: object"
     },
     "execution_count": 45,
     "metadata": {},
     "output_type": "execute_result"
    }
   ],
   "source": [
    "raw.geolocation"
   ],
   "metadata": {
    "collapsed": false,
    "ExecuteTime": {
     "end_time": "2023-07-30T07:52:29.758186100Z",
     "start_time": "2023-07-30T07:52:29.570143400Z"
    }
   }
  },
  {
   "cell_type": "code",
   "execution_count": 62,
   "outputs": [],
   "source": [
    "df = np_min_chunk(raw).set_index('machine_id')\n"
   ],
   "metadata": {
    "collapsed": false,
    "ExecuteTime": {
     "end_time": "2023-07-31T04:12:43.673712400Z",
     "start_time": "2023-07-31T04:12:43.483669600Z"
    }
   }
  },
  {
   "cell_type": "code",
   "execution_count": 64,
   "outputs": [
    {
     "data": {
      "text/plain": "'machine_id'"
     },
     "execution_count": 64,
     "metadata": {},
     "output_type": "execute_result"
    }
   ],
   "source": [
    "df.index.name"
   ],
   "metadata": {
    "collapsed": false,
    "ExecuteTime": {
     "end_time": "2023-07-31T04:12:51.816110900Z",
     "start_time": "2023-07-31T04:12:51.630069200Z"
    }
   }
  },
  {
   "cell_type": "code",
   "execution_count": 69,
   "outputs": [
    {
     "data": {
      "text/plain": "False"
     },
     "execution_count": 69,
     "metadata": {},
     "output_type": "execute_result"
    }
   ],
   "source": [
    "df.id.duplicated().any()"
   ],
   "metadata": {
    "collapsed": false,
    "ExecuteTime": {
     "end_time": "2023-07-31T05:05:20.290974400Z",
     "start_time": "2023-07-31T05:05:20.099870300Z"
    }
   }
  },
  {
   "cell_type": "code",
   "execution_count": 46,
   "outputs": [
    {
     "name": "stdout",
     "output_type": "stream",
     "text": [
      "bundle_id                 ->          Missing values: 0 (0.00%)\n",
      "bw_nvlink                 ->          Missing values: 0 (0.00%)\n",
      "compute_cap               ->          Missing values: 0 (0.00%)\n",
      "cpu_cores                 ->          Missing values: 26 (0.48%)\n",
      "cpu_cores_effective       ->          Missing values: 26 (0.48%)\n",
      "cpu_name                  ->          Missing values: 83 (1.54%)\n",
      "cpu_ram                   ->          Missing values: 0 (0.00%)\n",
      "credit_balance            ->          Missing values: 5377 (100.00%)\n",
      "credit_discount           ->          Missing values: 5377 (100.00%)\n",
      "credit_discount_max       ->          Missing values: 1304 (24.25%)\n",
      "cuda_max_good             ->          Missing values: 0 (0.00%)\n",
      "direct_port_count         ->          Missing values: 0 (0.00%)\n",
      "discount_rate             ->          Missing values: 1304 (24.25%)\n",
      "discounted_dph_total      ->          Missing values: 0 (0.00%)\n",
      "discounted_hourly         ->          Missing values: 0 (0.00%)\n",
      "disk_bw                   ->          Missing values: 0 (0.00%)\n",
      "disk_name                 ->          Missing values: 0 (0.00%)\n",
      "disk_space                ->          Missing values: 0 (0.00%)\n",
      "dlperf                    ->          Missing values: 0 (0.00%)\n",
      "dlperf_per_dphtotal       ->          Missing values: 0 (0.00%)\n",
      "dph_base                  ->          Missing values: 0 (0.00%)\n",
      "driver_version            ->          Missing values: 0 (0.00%)\n",
      "duration                  ->          Missing values: 1767 (32.86%)\n",
      "end_date                  ->          Missing values: 1767 (32.86%)\n",
      "flops_per_dphtotal        ->          Missing values: 0 (0.00%)\n",
      "geolocation               ->          Missing values: 7 (0.13%)\n",
      "gpu_display_active        ->          Missing values: 0 (0.00%)\n",
      "gpu_frac                  ->          Missing values: 0 (0.00%)\n",
      "gpu_lanes                 ->          Missing values: 0 (0.00%)\n",
      "gpu_mem_bw                ->          Missing values: 0 (0.00%)\n",
      "gpu_name                  ->          Missing values: 0 (0.00%)\n",
      "gpu_ram                   ->          Missing values: 0 (0.00%)\n",
      "has_avx                   ->          Missing values: 26 (0.48%)\n",
      "host_id                   ->          Missing values: 0 (0.00%)\n",
      "host_run_time             ->          Missing values: 0 (0.00%)\n",
      "hosting_type              ->          Missing values: 4195 (78.02%)\n",
      "id                        ->          Missing values: 0 (0.00%)\n",
      "inet_down                 ->          Missing values: 0 (0.00%)\n",
      "inet_down_cost            ->          Missing values: 0 (0.00%)\n",
      "inet_up                   ->          Missing values: 0 (0.00%)\n",
      "inet_up_cost              ->          Missing values: 0 (0.00%)\n",
      "machine_id                ->          Missing values: 0 (0.00%)\n",
      "min_bid                   ->          Missing values: 0 (0.00%)\n",
      "mobo_name                 ->          Missing values: 221 (4.11%)\n",
      "num_gpus                  ->          Missing values: 0 (0.00%)\n",
      "pci_gen                   ->          Missing values: 0 (0.00%)\n",
      "pcie_bw                   ->          Missing values: 0 (0.00%)\n",
      "public_ipaddr             ->          Missing values: 0 (0.00%)\n",
      "reliability2              ->          Missing values: 0 (0.00%)\n",
      "rentable                  ->          Missing values: 0 (0.00%)\n",
      "score                     ->          Missing values: 0 (0.00%)\n",
      "start_date                ->          Missing values: 3473 (64.59%)\n",
      "static_ip                 ->          Missing values: 0 (0.00%)\n",
      "storage_cost              ->          Missing values: 0 (0.00%)\n",
      "total_flops               ->          Missing values: 0 (0.00%)\n",
      "verification              ->          Missing values: 0 (0.00%)\n",
      "verified                  ->          Missing values: 0 (0.00%)\n",
      "timestamp                 ->          Missing values: 0 (0.00%)\n"
     ]
    },
    {
     "data": {
      "text/plain": "['credit_balance', 'credit_discount']"
     },
     "execution_count": 46,
     "metadata": {},
     "output_type": "execute_result"
    }
   ],
   "source": [
    "df_na_vals(raw)"
   ],
   "metadata": {
    "collapsed": false,
    "ExecuteTime": {
     "end_time": "2023-07-30T07:52:31.308330700Z",
     "start_time": "2023-07-30T07:52:31.100277900Z"
    }
   }
  },
  {
   "cell_type": "markdown",
   "source": [
    "### 1. Country"
   ],
   "metadata": {
    "collapsed": false
   }
  },
  {
   "cell_type": "code",
   "execution_count": 32,
   "outputs": [
    {
     "data": {
      "text/plain": "SE      1343\nUS      1003\nCA       757\nNO       281\nRO       191\nJP       190\nFI       127\nTW       104\nVN        98\nAR        95\nRU        87\nHR        80\nNL        73\nUA        68\nES        65\nFR        61\nCN        61\nKR        61\nCZ        53\nPL        53\nZA        49\nEE        49\nGB        45\nIL        43\nTR        35\nIS        34\nPT        34\nDE        30\nSI        24\nDK        22\nKZ        13\nIN        13\nBG        10\nBE         8\nBR         8\nLT         8\nNone       7\nCH         7\nHU         7\nNZ         6\nKW         5\nMY         5\nTT         4\nMK         3\nMO         3\nSG         3\nUZ         2\nID         2\nIT         1\nAT         1\nName: geolocation, dtype: int64"
     },
     "execution_count": 32,
     "metadata": {},
     "output_type": "execute_result"
    }
   ],
   "source": [
    "country_geoloc = raw.geolocation.str.split(',').apply(lambda x: x[-1] if x else None).str.strip().replace('Sweden', 'SE')\n",
    "country_geoloc.value_counts(dropna=False)"
   ],
   "metadata": {
    "collapsed": false,
    "ExecuteTime": {
     "end_time": "2023-07-29T05:48:35.981755600Z",
     "start_time": "2023-07-29T05:48:35.680687900Z"
    }
   }
  },
  {
   "cell_type": "code",
   "execution_count": 33,
   "outputs": [
    {
     "ename": "AttributeError",
     "evalue": "'DataFrame' object has no attribute 'location'",
     "output_type": "error",
     "traceback": [
      "\u001B[1;31m---------------------------------------------------------------------------\u001B[0m",
      "\u001B[1;31mAttributeError\u001B[0m                            Traceback (most recent call last)",
      "Cell \u001B[1;32mIn[33], line 1\u001B[0m\n\u001B[1;32m----> 1\u001B[0m raw\u001B[38;5;241m.\u001B[39mloc[\u001B[43mraw\u001B[49m\u001B[38;5;241;43m.\u001B[39;49m\u001B[43mlocation\u001B[49m\u001B[38;5;241m.\u001B[39misna(), \u001B[38;5;124m'\u001B[39m\u001B[38;5;124mlocation\u001B[39m\u001B[38;5;124m'\u001B[39m] \u001B[38;5;241m=\u001B[39m \u001B[38;5;28;01mNone\u001B[39;00m\n",
      "File \u001B[1;32m~\\mambaforge\\envs\\ml\\lib\\site-packages\\pandas\\core\\generic.py:5902\u001B[0m, in \u001B[0;36mNDFrame.__getattr__\u001B[1;34m(self, name)\u001B[0m\n\u001B[0;32m   5895\u001B[0m \u001B[38;5;28;01mif\u001B[39;00m (\n\u001B[0;32m   5896\u001B[0m     name \u001B[38;5;129;01mnot\u001B[39;00m \u001B[38;5;129;01min\u001B[39;00m \u001B[38;5;28mself\u001B[39m\u001B[38;5;241m.\u001B[39m_internal_names_set\n\u001B[0;32m   5897\u001B[0m     \u001B[38;5;129;01mand\u001B[39;00m name \u001B[38;5;129;01mnot\u001B[39;00m \u001B[38;5;129;01min\u001B[39;00m \u001B[38;5;28mself\u001B[39m\u001B[38;5;241m.\u001B[39m_metadata\n\u001B[0;32m   5898\u001B[0m     \u001B[38;5;129;01mand\u001B[39;00m name \u001B[38;5;129;01mnot\u001B[39;00m \u001B[38;5;129;01min\u001B[39;00m \u001B[38;5;28mself\u001B[39m\u001B[38;5;241m.\u001B[39m_accessors\n\u001B[0;32m   5899\u001B[0m     \u001B[38;5;129;01mand\u001B[39;00m \u001B[38;5;28mself\u001B[39m\u001B[38;5;241m.\u001B[39m_info_axis\u001B[38;5;241m.\u001B[39m_can_hold_identifiers_and_holds_name(name)\n\u001B[0;32m   5900\u001B[0m ):\n\u001B[0;32m   5901\u001B[0m     \u001B[38;5;28;01mreturn\u001B[39;00m \u001B[38;5;28mself\u001B[39m[name]\n\u001B[1;32m-> 5902\u001B[0m \u001B[38;5;28;01mreturn\u001B[39;00m \u001B[38;5;28;43mobject\u001B[39;49m\u001B[38;5;241;43m.\u001B[39;49m\u001B[38;5;21;43m__getattribute__\u001B[39;49m\u001B[43m(\u001B[49m\u001B[38;5;28;43mself\u001B[39;49m\u001B[43m,\u001B[49m\u001B[43m \u001B[49m\u001B[43mname\u001B[49m\u001B[43m)\u001B[49m\n",
      "\u001B[1;31mAttributeError\u001B[0m: 'DataFrame' object has no attribute 'location'"
     ]
    }
   ],
   "source": [
    "raw.loc[raw.location.isna(), 'location'] = None"
   ],
   "metadata": {
    "collapsed": false,
    "ExecuteTime": {
     "end_time": "2023-07-29T05:48:36.202220300Z",
     "start_time": "2023-07-29T05:48:35.984756100Z"
    }
   }
  },
  {
   "cell_type": "code",
   "execution_count": null,
   "outputs": [],
   "source": [
    "country_loc = raw.location.apply(lambda x: x['country'] if x else None)"
   ],
   "metadata": {
    "collapsed": false
   }
  },
  {
   "cell_type": "code",
   "execution_count": null,
   "outputs": [],
   "source": [
    "raw[['geolocation', 'location', 'public_ipaddr']][country_loc != country_geoloc]"
   ],
   "metadata": {
    "collapsed": false
   }
  },
  {
   "cell_type": "code",
   "execution_count": null,
   "outputs": [],
   "source": [
    "\"\"\" `location` is more accurate then `geolocation`\n",
    "    set country based on `location` then for missing add from `geolocation`\n",
    "\"\"\"\n",
    "\n",
    "raw['country'] = country_loc"
   ],
   "metadata": {
    "collapsed": false
   }
  },
  {
   "cell_type": "code",
   "execution_count": null,
   "outputs": [],
   "source": [
    "mask = raw.country.isna()\n",
    "raw.loc[mask, 'country'] = country_geoloc[mask]"
   ],
   "metadata": {
    "collapsed": false
   }
  },
  {
   "cell_type": "code",
   "execution_count": null,
   "outputs": [],
   "source": [],
   "metadata": {
    "collapsed": false
   }
  },
  {
   "cell_type": "code",
   "execution_count": null,
   "outputs": [],
   "source": [
    "raw.end_date.value_counts(dropna=False)"
   ],
   "metadata": {
    "collapsed": false
   }
  },
  {
   "cell_type": "code",
   "execution_count": null,
   "outputs": [],
   "source": [
    "def _fillna(raw: pd.DataFrame):\n",
    "    \"\"\" Fill NA's:  -1 for numerical types\n",
    "                    '' for string types\n",
    "    \"\"\"\n",
    "    raw.credit_discount_max.fillna(0, inplace=True)\n",
    "    raw.hosting_type.fillna(0, inplace=True)\n",
    "    # raw.end_date.fillna(0, inplace=True)\n",
    "    # raw.disk_bw.fillna(0, inplace=True)\n",
    "\n",
    "    for col in raw.columns:\n",
    "        dtype = raw[col].dtype\n",
    "        if is_integer_dtype(dtype) or is_float_dtype(dtype):\n",
    "            raw[col].fillna(-1, inplace=True)\n",
    "        elif is_string_dtype(dtype):\n",
    "            raw[col].fillna('', inplace=True)"
   ],
   "metadata": {
    "collapsed": false
   }
  },
  {
   "cell_type": "markdown",
   "source": [
    "### 2. Data types"
   ],
   "metadata": {
    "collapsed": false
   }
  },
  {
   "cell_type": "code",
   "execution_count": 34,
   "outputs": [
    {
     "name": "stdout",
     "output_type": "stream",
     "text": [
      "<class 'pandas.core.frame.DataFrame'>\n",
      "Int64Index: 5332 entries, 11446 to 10914\n",
      "Data columns (total 57 columns):\n",
      " #   Column                Non-Null Count  Dtype              \n",
      "---  ------                --------------  -----              \n",
      " 0   bundle_id             5332 non-null   int64              \n",
      " 1   bw_nvlink             5332 non-null   float64            \n",
      " 2   compute_cap           5332 non-null   int64              \n",
      " 3   cpu_cores             5306 non-null   float64            \n",
      " 4   cpu_cores_effective   5306 non-null   float64            \n",
      " 5   cpu_name              5249 non-null   object             \n",
      " 6   cpu_ram               5332 non-null   int64              \n",
      " 7   credit_balance        0 non-null      object             \n",
      " 8   credit_discount       0 non-null      object             \n",
      " 9   credit_discount_max   3999 non-null   float64            \n",
      " 10  cuda_max_good         5332 non-null   float64            \n",
      " 11  direct_port_count     5332 non-null   int64              \n",
      " 12  discount_rate         3999 non-null   float64            \n",
      " 13  discounted_dph_total  5332 non-null   float64            \n",
      " 14  discounted_hourly     5332 non-null   int64              \n",
      " 15  disk_bw               5332 non-null   float64            \n",
      " 16  disk_name             5332 non-null   object             \n",
      " 17  disk_space            5332 non-null   float64            \n",
      " 18  dlperf                5332 non-null   float64            \n",
      " 19  dlperf_per_dphtotal   5332 non-null   float64            \n",
      " 20  dph_base              5332 non-null   float64            \n",
      " 21  driver_version        5332 non-null   object             \n",
      " 22  duration              3536 non-null   float64            \n",
      " 23  end_date              3536 non-null   float64            \n",
      " 24  flops_per_dphtotal    5332 non-null   float64            \n",
      " 25  geolocation           5325 non-null   object             \n",
      " 26  gpu_display_active    5332 non-null   bool               \n",
      " 27  gpu_frac              5332 non-null   float64            \n",
      " 28  gpu_lanes             5332 non-null   int64              \n",
      " 29  gpu_mem_bw            5332 non-null   float64            \n",
      " 30  gpu_name              5332 non-null   object             \n",
      " 31  gpu_ram               5332 non-null   int64              \n",
      " 32  has_avx               5306 non-null   float64            \n",
      " 33  host_id               5332 non-null   int64              \n",
      " 34  host_run_time         5332 non-null   int64              \n",
      " 35  hosting_type          1182 non-null   float64            \n",
      " 36  id                    5332 non-null   int64              \n",
      " 37  inet_down             5332 non-null   float64            \n",
      " 38  inet_down_cost        5332 non-null   float64            \n",
      " 39  inet_up               5332 non-null   float64            \n",
      " 40  inet_up_cost          5332 non-null   float64            \n",
      " 41  min_bid               5332 non-null   float64            \n",
      " 42  mobo_name             5120 non-null   object             \n",
      " 43  num_gpus              5332 non-null   int64              \n",
      " 44  pci_gen               5332 non-null   int64              \n",
      " 45  pcie_bw               5332 non-null   float64            \n",
      " 46  public_ipaddr         5332 non-null   object             \n",
      " 47  reliability2          5332 non-null   float64            \n",
      " 48  rentable              5332 non-null   bool               \n",
      " 49  score                 5332 non-null   float64            \n",
      " 50  start_date            1943 non-null   float64            \n",
      " 51  static_ip             5332 non-null   bool               \n",
      " 52  storage_cost          5332 non-null   float64            \n",
      " 53  total_flops           5332 non-null   float64            \n",
      " 54  verification          5332 non-null   object             \n",
      " 55  verified              5332 non-null   bool               \n",
      " 56  timestamp             5332 non-null   datetime64[ns, UTC]\n",
      "dtypes: bool(4), datetime64[ns, UTC](1), float64(30), int64(12), object(10)\n",
      "memory usage: 2.2+ MB\n"
     ]
    }
   ],
   "source": [
    "raw.info()"
   ],
   "metadata": {
    "collapsed": false,
    "ExecuteTime": {
     "end_time": "2023-07-29T05:52:02.446282800Z",
     "start_time": "2023-07-29T05:52:01.639102800Z"
    }
   }
  },
  {
   "cell_type": "code",
   "execution_count": 35,
   "outputs": [
    {
     "data": {
      "text/plain": "machine_id\n11446     14.608709\n11441     16.849042\n10298     24.248312\n10163     27.155582\n11580     22.734187\n            ...    \n9532     122.977727\n11511     54.554066\n9528      91.495069\n11250      8.019109\n10914      1.802470\nName: score, Length: 5332, dtype: float64"
     },
     "execution_count": 35,
     "metadata": {},
     "output_type": "execute_result"
    }
   ],
   "source": [
    "raw.score"
   ],
   "metadata": {
    "collapsed": false,
    "ExecuteTime": {
     "end_time": "2023-07-29T05:52:56.819430700Z",
     "start_time": "2023-07-29T05:52:55.739179200Z"
    }
   }
  }
 ],
 "metadata": {
  "kernelspec": {
   "display_name": "Python 3",
   "language": "python",
   "name": "python3"
  },
  "language_info": {
   "codemirror_mode": {
    "name": "ipython",
    "version": 2
   },
   "file_extension": ".py",
   "mimetype": "text/x-python",
   "name": "python",
   "nbconvert_exporter": "python",
   "pygments_lexer": "ipython2",
   "version": "2.7.6"
  }
 },
 "nbformat": 4,
 "nbformat_minor": 0
}
