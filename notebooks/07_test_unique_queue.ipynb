{
 "cells": [
  {
   "cell_type": "code",
   "id": "initial_id",
   "metadata": {
    "collapsed": true,
    "ExecuteTime": {
     "end_time": "2024-04-29T07:02:51.558740Z",
     "start_time": "2024-04-29T07:02:51.422225Z"
    }
   },
   "source": [
    "%load_ext autoreload\n",
    "%autoreload 2"
   ],
   "outputs": [],
   "execution_count": 1
  },
  {
   "metadata": {
    "ExecuteTime": {
     "end_time": "2024-04-29T07:03:33.192988Z",
     "start_time": "2024-04-29T07:03:33.076987Z"
    }
   },
   "cell_type": "code",
   "source": [
    "d = {'a': 1, 'b': 2, 'c': 3, 'd': 4, 'e': 5, 'f': 6}\n",
    "for k in d.values():\n",
    "    print(k)"
   ],
   "id": "25dc46ab04ad55b2",
   "outputs": [
    {
     "name": "stdout",
     "output_type": "stream",
     "text": [
      "1\n",
      "2\n",
      "3\n",
      "4\n",
      "5\n",
      "6\n"
     ]
    }
   ],
   "execution_count": 8
  },
  {
   "metadata": {
    "ExecuteTime": {
     "end_time": "2024-04-29T11:43:43.922677Z",
     "start_time": "2024-04-29T11:43:43.797676Z"
    }
   },
   "cell_type": "code",
   "source": [
    "from src.utils import setqueue\n",
    "\n",
    "q = setqueue([1], maxlen=2)\n",
    "q"
   ],
   "id": "393d566f4bdfef4f",
   "outputs": [
    {
     "data": {
      "text/plain": [
       "[1]"
      ]
     },
     "execution_count": 10,
     "metadata": {},
     "output_type": "execute_result"
    }
   ],
   "execution_count": 10
  },
  {
   "metadata": {
    "ExecuteTime": {
     "end_time": "2024-04-29T11:44:28.769653Z",
     "start_time": "2024-04-29T11:44:28.650652Z"
    }
   },
   "cell_type": "code",
   "source": [
    "import pandas as pd\n",
    "import sqlite3\n",
    "\n"
   ],
   "id": "ec07ca55dbc265aa",
   "outputs": [
    {
     "data": {
      "text/plain": [
       "<sqlite3.Connection at 0x2085b5304e0>"
      ]
     },
     "execution_count": 13,
     "metadata": {},
     "output_type": "execute_result"
    }
   ],
   "execution_count": 13
  },
  {
   "metadata": {
    "ExecuteTime": {
     "end_time": "2024-04-29T11:51:28.195160Z",
     "start_time": "2024-04-29T11:51:28.072163Z"
    }
   },
   "cell_type": "code",
   "source": [
    "q = setqueue('disk', maxlen=2)\n",
    "q"
   ],
   "id": "55856f9fb9dc9f63",
   "outputs": [
    {
     "data": {
      "text/plain": [
       "['disk']"
      ]
     },
     "execution_count": 41,
     "metadata": {},
     "output_type": "execute_result"
    }
   ],
   "execution_count": 41
  },
  {
   "metadata": {
    "ExecuteTime": {
     "end_time": "2024-04-29T11:52:17.174362Z",
     "start_time": "2024-04-29T11:52:17.054350Z"
    }
   },
   "cell_type": "code",
   "source": "pd.DataFrame(['disk'], columns=['name'])",
   "id": "49f7429673314538",
   "outputs": [
    {
     "data": {
      "text/plain": [
       "   name\n",
       "0  disk"
      ],
      "text/html": [
       "<div>\n",
       "<style scoped>\n",
       "    .dataframe tbody tr th:only-of-type {\n",
       "        vertical-align: middle;\n",
       "    }\n",
       "\n",
       "    .dataframe tbody tr th {\n",
       "        vertical-align: top;\n",
       "    }\n",
       "\n",
       "    .dataframe thead th {\n",
       "        text-align: right;\n",
       "    }\n",
       "</style>\n",
       "<table border=\"1\" class=\"dataframe\">\n",
       "  <thead>\n",
       "    <tr style=\"text-align: right;\">\n",
       "      <th></th>\n",
       "      <th>name</th>\n",
       "    </tr>\n",
       "  </thead>\n",
       "  <tbody>\n",
       "    <tr>\n",
       "      <th>0</th>\n",
       "      <td>disk</td>\n",
       "    </tr>\n",
       "  </tbody>\n",
       "</table>\n",
       "</div>"
      ]
     },
     "execution_count": 45,
     "metadata": {},
     "output_type": "execute_result"
    }
   ],
   "execution_count": 45
  },
  {
   "metadata": {
    "ExecuteTime": {
     "end_time": "2024-04-29T11:51:30.138924Z",
     "start_time": "2024-04-29T11:51:30.016924Z"
    }
   },
   "cell_type": "code",
   "source": [
    "df = pd.DataFrame([q], columns=['name'])\n",
    "df.iat[0, 0]"
   ],
   "id": "75ffa5550bc4f3fb",
   "outputs": [
    {
     "data": {
      "text/plain": [
       "['disk']"
      ]
     },
     "execution_count": 42,
     "metadata": {},
     "output_type": "execute_result"
    }
   ],
   "execution_count": 42
  },
  {
   "metadata": {
    "ExecuteTime": {
     "end_time": "2024-04-29T11:51:37.294599Z",
     "start_time": "2024-04-29T11:51:37.160600Z"
    }
   },
   "cell_type": "code",
   "source": [
    "df = pd.DataFrame([q]).astype(str)\n",
    "\n",
    "with sqlite3.connect(\":memory:\") as conn:    \n",
    "    df.to_sql('df', conn, if_exists='replace')\n",
    "    res = conn.execute('SELECT * FROM df').fetchall()\n",
    "    df = pd.read_sql_query('SELECT * FROM df', conn)\n",
    "res"
   ],
   "id": "edaa90b41a951512",
   "outputs": [
    {
     "data": {
      "text/plain": [
       "[(0, \"['disk']\")]"
      ]
     },
     "execution_count": 43,
     "metadata": {},
     "output_type": "execute_result"
    }
   ],
   "execution_count": 43
  },
  {
   "metadata": {
    "ExecuteTime": {
     "end_time": "2024-04-29T11:51:40.655640Z",
     "start_time": "2024-04-29T11:51:40.526640Z"
    }
   },
   "cell_type": "code",
   "source": "df['0'].apply(eval).apply(setqueue)",
   "id": "fa5874bb2eff94ad",
   "outputs": [
    {
     "data": {
      "text/plain": [
       "0    ['disk']\n",
       "Name: 0, dtype: object"
      ]
     },
     "execution_count": 44,
     "metadata": {},
     "output_type": "execute_result"
    }
   ],
   "execution_count": 44
  },
  {
   "metadata": {
    "ExecuteTime": {
     "end_time": "2024-04-29T12:06:59.420548Z",
     "start_time": "2024-04-29T12:06:59.294547Z"
    }
   },
   "cell_type": "code",
   "source": "eval(\"'disk'\")",
   "id": "ac17058466bf2a87",
   "outputs": [
    {
     "data": {
      "text/plain": [
       "'disk'"
      ]
     },
     "execution_count": 48,
     "metadata": {},
     "output_type": "execute_result"
    }
   ],
   "execution_count": 48
  },
  {
   "metadata": {
    "ExecuteTime": {
     "end_time": "2024-04-29T12:08:09.453574Z",
     "start_time": "2024-04-29T12:08:09.328574Z"
    }
   },
   "cell_type": "code",
   "source": [
    "def eval_setqueue(x):\n",
    "    try:\n",
    "        return setqueue(eval(x))\n",
    "    except:\n",
    "        return setqueue([x])\n"
   ],
   "id": "3e26deda809721b",
   "outputs": [],
   "execution_count": 49
  },
  {
   "metadata": {
    "ExecuteTime": {
     "end_time": "2024-04-29T12:08:59.912683Z",
     "start_time": "2024-04-29T12:08:59.789683Z"
    }
   },
   "cell_type": "code",
   "source": "eval_setqueue(\"['disk']\")",
   "id": "f4ff5eb6cb43a9b7",
   "outputs": [
    {
     "data": {
      "text/plain": [
       "['disk']"
      ]
     },
     "execution_count": 57,
     "metadata": {},
     "output_type": "execute_result"
    }
   ],
   "execution_count": 57
  }
 ],
 "metadata": {
  "kernelspec": {
   "display_name": "Python 3",
   "language": "python",
   "name": "python3"
  },
  "language_info": {
   "codemirror_mode": {
    "name": "ipython",
    "version": 2
   },
   "file_extension": ".py",
   "mimetype": "text/x-python",
   "name": "python",
   "nbconvert_exporter": "python",
   "pygments_lexer": "ipython2",
   "version": "2.7.6"
  }
 },
 "nbformat": 4,
 "nbformat_minor": 5
}
