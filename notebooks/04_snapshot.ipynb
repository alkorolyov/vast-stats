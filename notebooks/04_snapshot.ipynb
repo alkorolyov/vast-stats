{
 "cells": [
  {
   "cell_type": "code",
   "execution_count": 29,
   "metadata": {
    "collapsed": true,
    "ExecuteTime": {
     "end_time": "2023-08-03T03:58:31.054440100Z",
     "start_time": "2023-08-03T03:58:30.787380100Z"
    }
   },
   "outputs": [
    {
     "name": "stdout",
     "output_type": "stream",
     "text": [
      "The autoreload extension is already loaded. To reload it, use:\n",
      "  %reload_ext autoreload\n"
     ]
    }
   ],
   "source": [
    "%load_ext autoreload\n",
    "%autoreload 2"
   ]
  },
  {
   "cell_type": "code",
   "execution_count": 30,
   "outputs": [],
   "source": [
    "import requests\n",
    "import pandas as pd\n",
    "from src.tables import get_machines\n",
    "from src.utils import df_na_vals"
   ],
   "metadata": {
    "collapsed": false,
    "ExecuteTime": {
     "end_time": "2023-08-03T03:58:31.289493100Z",
     "start_time": "2023-08-03T03:58:31.056440100Z"
    }
   }
  },
  {
   "cell_type": "code",
   "execution_count": 31,
   "outputs": [],
   "source": [
    "raw = get_machines()"
   ],
   "metadata": {
    "collapsed": false,
    "ExecuteTime": {
     "end_time": "2023-08-03T03:58:32.541231400Z",
     "start_time": "2023-08-03T03:58:31.291494100Z"
    }
   }
  },
  {
   "cell_type": "code",
   "execution_count": 32,
   "outputs": [
    {
     "name": "stdout",
     "output_type": "stream",
     "text": [
      "bw_nvlink                 ->          Missing values: 0 (0.00%)\n",
      "compute_cap               ->          Missing values: 0 (0.00%)\n",
      "cpu_cores                 ->          Missing values: 6 (0.48%)\n",
      "cpu_name                  ->          Missing values: 11 (0.88%)\n",
      "cpu_ram                   ->          Missing values: 0 (0.00%)\n",
      "credit_balance            ->          Missing values: 1246 (100.00%)\n",
      "credit_discount           ->          Missing values: 1246 (100.00%)\n",
      "credit_discount_max       ->          Missing values: 213 (17.09%)\n",
      "cuda_max_good             ->          Missing values: 0 (0.00%)\n",
      "direct_port_count         ->          Missing values: 0 (0.00%)\n",
      "discount_rate             ->          Missing values: 213 (17.09%)\n",
      "discounted_dph_total      ->          Missing values: 0 (0.00%)\n",
      "discounted_hourly         ->          Missing values: 0 (0.00%)\n",
      "disk_bw                   ->          Missing values: 1 (0.08%)\n",
      "disk_name                 ->          Missing values: 0 (0.00%)\n",
      "disk_space                ->          Missing values: 0 (0.00%)\n",
      "dlperf                    ->          Missing values: 0 (0.00%)\n",
      "dlperf_per_dphtotal       ->          Missing values: 0 (0.00%)\n",
      "dph_base                  ->          Missing values: 0 (0.00%)\n",
      "driver_version            ->          Missing values: 0 (0.00%)\n",
      "duration                  ->          Missing values: 368 (29.53%)\n",
      "end_date                  ->          Missing values: 368 (29.53%)\n",
      "flops_per_dphtotal        ->          Missing values: 0 (0.00%)\n",
      "geolocation               ->          Missing values: 3 (0.24%)\n",
      "gpu_display_active        ->          Missing values: 0 (0.00%)\n",
      "gpu_lanes                 ->          Missing values: 0 (0.00%)\n",
      "gpu_mem_bw                ->          Missing values: 0 (0.00%)\n",
      "gpu_name                  ->          Missing values: 0 (0.00%)\n",
      "gpu_ram                   ->          Missing values: 0 (0.00%)\n",
      "has_avx                   ->          Missing values: 6 (0.48%)\n",
      "host_id                   ->          Missing values: 0 (0.00%)\n",
      "host_run_time             ->          Missing values: 0 (0.00%)\n",
      "hosting_type              ->          Missing values: 1131 (90.77%)\n",
      "inet_down                 ->          Missing values: 0 (0.00%)\n",
      "inet_down_cost            ->          Missing values: 0 (0.00%)\n",
      "inet_up                   ->          Missing values: 0 (0.00%)\n",
      "inet_up_cost              ->          Missing values: 0 (0.00%)\n",
      "location                  ->          Missing values: 9 (0.72%)\n",
      "machine_id                ->          Missing values: 0 (0.00%)\n",
      "min_bid                   ->          Missing values: 1 (0.08%)\n",
      "min_chunk                 ->          Missing values: 0 (0.00%)\n",
      "mobo_name                 ->          Missing values: 40 (3.21%)\n",
      "num_gpus                  ->          Missing values: 0 (0.00%)\n",
      "num_gpus_rented           ->          Missing values: 0 (0.00%)\n",
      "pci_gen                   ->          Missing values: 0 (0.00%)\n",
      "pcie_bw                   ->          Missing values: 0 (0.00%)\n",
      "public_ipaddr             ->          Missing values: 0 (0.00%)\n",
      "reliability2              ->          Missing values: 0 (0.00%)\n",
      "score                     ->          Missing values: 0 (0.00%)\n",
      "start_date                ->          Missing values: 888 (71.27%)\n",
      "static_ip                 ->          Missing values: 0 (0.00%)\n",
      "storage_cost              ->          Missing values: 0 (0.00%)\n",
      "total_flops               ->          Missing values: 0 (0.00%)\n",
      "verification              ->          Missing values: 0 (0.00%)\n",
      "verified                  ->          Missing values: 0 (0.00%)\n",
      "timestamp                 ->          Missing values: 0 (0.00%)\n"
     ]
    },
    {
     "data": {
      "text/plain": "['credit_balance', 'credit_discount']"
     },
     "execution_count": 32,
     "metadata": {},
     "output_type": "execute_result"
    }
   ],
   "source": [
    "df_na_vals(raw)"
   ],
   "metadata": {
    "collapsed": false,
    "ExecuteTime": {
     "end_time": "2023-08-03T03:58:32.795289Z",
     "start_time": "2023-08-03T03:58:32.541231400Z"
    }
   }
  },
  {
   "cell_type": "code",
   "execution_count": 33,
   "outputs": [
    {
     "name": "stderr",
     "output_type": "stream",
     "text": [
      "C:\\Users\\ergot\\AppData\\Local\\Temp\\ipykernel_34192\\1583430346.py:1: FutureWarning: The default value of regex will change from True to False in a future version.\n",
      "  cpu_name = raw.cpu_name.str.replace(r'^\\d\\dth Gen ','')\n",
      "C:\\Users\\ergot\\AppData\\Local\\Temp\\ipykernel_34192\\1583430346.py:2: FutureWarning: The default value of regex will change from True to False in a future version.\n",
      "  cpu_name = cpu_name.str.replace(r'^AMD','')\n",
      "C:\\Users\\ergot\\AppData\\Local\\Temp\\ipykernel_34192\\1583430346.py:4: FutureWarning: The default value of regex will change from True to False in a future version.\n",
      "  cpu_name = cpu_name.str.replace(r'Processor$','')\n"
     ]
    }
   ],
   "source": [
    "cpu_name = raw.cpu_name.str.replace(r'^\\d\\dth Gen ','')\n",
    "cpu_name = cpu_name.str.replace(r'^AMD','')\n",
    "cpu_name = cpu_name.str.replace(r'Threadripper','TR')\n",
    "cpu_name = cpu_name.str.replace(r'Processor$','')\n",
    "cpu_name = cpu_name.str.replace(r'-Core','C')\n",
    "cpu_name = cpu_name.str.replace(r' with Radeon Graphics','')\n",
    "# cpu_name = raw.cpu_name.str.replace('Core™', '')\n",
    "raw.cpu_name = cpu_name\n",
    "raw['cores'] = (raw.cpu_cores / raw.num_gpus).fillna(0).astype(int)\n",
    "raw['ram'] = (raw.cpu_ram / raw.num_gpus / 1024).round().astype(int)\n",
    "raw['dph'] = raw.dph_base / raw.num_gpus\n",
    "raw['disk'] = (raw.disk_space / raw.num_gpus).astype(int)\n",
    "raw['rented_fraq'] = '[' + raw.num_gpus_rented.astype(str) + \"/\" + raw.num_gpus.astype(str) + ']'\n",
    "raw['country'] = raw.location.dropna().apply(lambda loc: loc['country'])\n",
    "# raw['rented'] = raw.num_gpus_rented > 0\n",
    "raw['rented'] = raw.num_gpus_rented == raw.num_gpus\n",
    "raw['min_fraq'] = raw.min_chunk/raw.num_gpus\n",
    "\n",
    "raw.dlperf = raw.dlperf.round(1)\n",
    "raw.dlperf_per_dphtotal = raw.dlperf_per_dphtotal.round(1)\n",
    "raw.disk_bw = raw.disk_bw.round()\n",
    "raw.duration = pd.to_timedelta(raw.duration * 1e9).dt.days\n",
    "# raw.end_date = (pd.to_datetime(raw.end_date * 1e9) - pd.Timestamp.now()).dt.days\n",
    "raw.end_date = pd.to_datetime(raw.end_date * 1e9)\n",
    "raw.start_date = pd.to_datetime(raw.start_date * 1e9)\n",
    "raw.set_index('machine_id', inplace=True)"
   ],
   "metadata": {
    "collapsed": false,
    "ExecuteTime": {
     "end_time": "2023-08-03T03:58:33.064357Z",
     "start_time": "2023-08-03T03:58:32.801289500Z"
    }
   }
  },
  {
   "cell_type": "code",
   "execution_count": 36,
   "outputs": [
    {
     "data": {
      "text/plain": "             gpu_name rented_fraq    dph  credit_discount_max  \\\nmachine_id                                                      \n11305        RTX 3090       [1/1]  13.00                 0.40   \n6767        RTX A6000       [0/2]   5.01                 0.40   \n6063        A100 SXM4       [0/8]   2.00                 0.40   \n11877        RTX 4090       [0/1]   2.00                 0.15   \n11880       A100 SXM4       [1/1]   2.00                 0.50   \n...               ...         ...    ...                  ...   \n9077         RTX 4090       [8/8]   0.50                 0.40   \n9101         RTX 4090       [2/2]   0.50                 0.10   \n10391        RTX 4090       [2/2]   0.50                 0.40   \n9148         RTX 4090       [4/4]   0.50                 0.10   \n11908        RTX 4090       [0/1]   0.50                 0.10   \n\n            dlperf_per_dphtotal  cores  ram  disk  disk_bw  min_chunk  ...  \\\nmachine_id                                                             ...   \n11305                       2.5     16   31   827   2742.0          1  ...   \n6767                        5.2     10  126  1215   2395.0          1  ...   \n6063                       10.4     32  126   188    546.0          4  ...   \n11877                      39.5     96   63  6642   2595.0          1  ...   \n11880                      19.5     16   63   548   3349.0          1  ...   \n...                         ...    ...  ...   ...      ...        ...  ...   \n9077                       86.2     32   63   175   2189.0          4  ...   \n9101                      131.0     12   63  1665   1305.0          1  ...   \n10391                     138.0     12   63   715   3472.0          1  ...   \n9148                       94.2     16   63   184   1958.0          4  ...   \n11908                     141.5     32  126  1716   3457.0          1  ...   \n\n           inet_down  cuda_max_good  driver_version  pci_gen  gpu_lanes  \\\nmachine_id                                                                \n11305           87.0           12.1       530.41.03        4         16   \n6767            40.9           12.0      525.125.06        3         16   \n6063           329.4           12.0       525.85.12        4         16   \n11877          180.7           12.0      525.125.06        4         16   \n11880          868.3           12.2       535.54.03        4         16   \n...              ...            ...             ...      ...        ...   \n9077           463.2           12.0      525.105.17        4         16   \n9101           759.4           12.0      525.116.04        3         16   \n10391          305.9           12.0      525.105.17        4          8   \n9148           680.9           12.0      525.116.04        3         16   \n11908          332.8           12.2       535.86.05        4         16   \n\n            hosting_type  pcie_bw              cpu_name  \\\nmachine_id                                                \n11305                NaN     23.3       Core™ i5-12600K   \n6767                 NaN     11.7      Core™ i9-10900X    \n6063                 NaN     25.1        EPYC 7763 64C    \n11877                NaN     22.0        EPYC 7642 48C    \n11880                NaN     25.4     Ryzen 7 5800X 8C    \n...                  ...      ...                   ...   \n9077                 NaN     22.6        EPYC 7742 64C    \n9101                 NaN     12.5   Ryzen TR 1920X 12C    \n10391                NaN     12.7    Ryzen 9 7900X 12C    \n9148                 NaN     12.5       EPYC 7551P 32C    \n11908                NaN     25.0    Ryzen 9 3950X 16C    \n\n                        mobo_name  \\\nmachine_id                          \n11305                 B760 Pro RS   \n6767                 WS X299 SAGE   \n6063                       H12DGO   \n11877                  S8030GM2NE   \n11880       B550 Phantom Gaming 4   \n...                           ...   \n9077                   ROME2D32GM   \n9101               X399 AORUS PRO   \n10391                 ProArt B650   \n9148                       H11SSL   \n11908                 X570 Taichi   \n\n                                                     location  \nmachine_id                                                     \n11305       {'country': 'US', 'location': 'Moses Lake, Was...  \n6767        {'country': 'CA', 'location': 'Vancouver, Brit...  \n6063        {'country': 'US', 'lat': 37.751, 'long': -97.8...  \n11877       {'country': 'CZ', 'location': 'Drasov, Okres B...  \n11880       {'country': 'CA', 'location': 'Quebec', 'lat':...  \n...                                                       ...  \n9077        {'country': 'TW', 'location': 'Taipei, Taipei ...  \n9101        {'country': 'RO', 'location': 'Bucharest, Bucu...  \n10391       {'country': 'JP', 'location': 'Tokyo', 'lat': ...  \n9148        {'country': 'RO', 'location': 'Bucharest, Bucu...  \n11908       {'country': 'JP', 'location': 'Okayama', 'lat'...  \n\n[275 rows x 25 columns]",
      "text/html": "<div>\n<style scoped>\n    .dataframe tbody tr th:only-of-type {\n        vertical-align: middle;\n    }\n\n    .dataframe tbody tr th {\n        vertical-align: top;\n    }\n\n    .dataframe thead th {\n        text-align: right;\n    }\n</style>\n<table border=\"1\" class=\"dataframe\">\n  <thead>\n    <tr style=\"text-align: right;\">\n      <th></th>\n      <th>gpu_name</th>\n      <th>rented_fraq</th>\n      <th>dph</th>\n      <th>credit_discount_max</th>\n      <th>dlperf_per_dphtotal</th>\n      <th>cores</th>\n      <th>ram</th>\n      <th>disk</th>\n      <th>disk_bw</th>\n      <th>min_chunk</th>\n      <th>...</th>\n      <th>inet_down</th>\n      <th>cuda_max_good</th>\n      <th>driver_version</th>\n      <th>pci_gen</th>\n      <th>gpu_lanes</th>\n      <th>hosting_type</th>\n      <th>pcie_bw</th>\n      <th>cpu_name</th>\n      <th>mobo_name</th>\n      <th>location</th>\n    </tr>\n    <tr>\n      <th>machine_id</th>\n      <th></th>\n      <th></th>\n      <th></th>\n      <th></th>\n      <th></th>\n      <th></th>\n      <th></th>\n      <th></th>\n      <th></th>\n      <th></th>\n      <th></th>\n      <th></th>\n      <th></th>\n      <th></th>\n      <th></th>\n      <th></th>\n      <th></th>\n      <th></th>\n      <th></th>\n      <th></th>\n      <th></th>\n    </tr>\n  </thead>\n  <tbody>\n    <tr>\n      <th>11305</th>\n      <td>RTX 3090</td>\n      <td>[1/1]</td>\n      <td>13.00</td>\n      <td>0.40</td>\n      <td>2.5</td>\n      <td>16</td>\n      <td>31</td>\n      <td>827</td>\n      <td>2742.0</td>\n      <td>1</td>\n      <td>...</td>\n      <td>87.0</td>\n      <td>12.1</td>\n      <td>530.41.03</td>\n      <td>4</td>\n      <td>16</td>\n      <td>NaN</td>\n      <td>23.3</td>\n      <td>Core™ i5-12600K</td>\n      <td>B760 Pro RS</td>\n      <td>{'country': 'US', 'location': 'Moses Lake, Was...</td>\n    </tr>\n    <tr>\n      <th>6767</th>\n      <td>RTX A6000</td>\n      <td>[0/2]</td>\n      <td>5.01</td>\n      <td>0.40</td>\n      <td>5.2</td>\n      <td>10</td>\n      <td>126</td>\n      <td>1215</td>\n      <td>2395.0</td>\n      <td>1</td>\n      <td>...</td>\n      <td>40.9</td>\n      <td>12.0</td>\n      <td>525.125.06</td>\n      <td>3</td>\n      <td>16</td>\n      <td>NaN</td>\n      <td>11.7</td>\n      <td>Core™ i9-10900X</td>\n      <td>WS X299 SAGE</td>\n      <td>{'country': 'CA', 'location': 'Vancouver, Brit...</td>\n    </tr>\n    <tr>\n      <th>6063</th>\n      <td>A100 SXM4</td>\n      <td>[0/8]</td>\n      <td>2.00</td>\n      <td>0.40</td>\n      <td>10.4</td>\n      <td>32</td>\n      <td>126</td>\n      <td>188</td>\n      <td>546.0</td>\n      <td>4</td>\n      <td>...</td>\n      <td>329.4</td>\n      <td>12.0</td>\n      <td>525.85.12</td>\n      <td>4</td>\n      <td>16</td>\n      <td>NaN</td>\n      <td>25.1</td>\n      <td>EPYC 7763 64C</td>\n      <td>H12DGO</td>\n      <td>{'country': 'US', 'lat': 37.751, 'long': -97.8...</td>\n    </tr>\n    <tr>\n      <th>11877</th>\n      <td>RTX 4090</td>\n      <td>[0/1]</td>\n      <td>2.00</td>\n      <td>0.15</td>\n      <td>39.5</td>\n      <td>96</td>\n      <td>63</td>\n      <td>6642</td>\n      <td>2595.0</td>\n      <td>1</td>\n      <td>...</td>\n      <td>180.7</td>\n      <td>12.0</td>\n      <td>525.125.06</td>\n      <td>4</td>\n      <td>16</td>\n      <td>NaN</td>\n      <td>22.0</td>\n      <td>EPYC 7642 48C</td>\n      <td>S8030GM2NE</td>\n      <td>{'country': 'CZ', 'location': 'Drasov, Okres B...</td>\n    </tr>\n    <tr>\n      <th>11880</th>\n      <td>A100 SXM4</td>\n      <td>[1/1]</td>\n      <td>2.00</td>\n      <td>0.50</td>\n      <td>19.5</td>\n      <td>16</td>\n      <td>63</td>\n      <td>548</td>\n      <td>3349.0</td>\n      <td>1</td>\n      <td>...</td>\n      <td>868.3</td>\n      <td>12.2</td>\n      <td>535.54.03</td>\n      <td>4</td>\n      <td>16</td>\n      <td>NaN</td>\n      <td>25.4</td>\n      <td>Ryzen 7 5800X 8C</td>\n      <td>B550 Phantom Gaming 4</td>\n      <td>{'country': 'CA', 'location': 'Quebec', 'lat':...</td>\n    </tr>\n    <tr>\n      <th>...</th>\n      <td>...</td>\n      <td>...</td>\n      <td>...</td>\n      <td>...</td>\n      <td>...</td>\n      <td>...</td>\n      <td>...</td>\n      <td>...</td>\n      <td>...</td>\n      <td>...</td>\n      <td>...</td>\n      <td>...</td>\n      <td>...</td>\n      <td>...</td>\n      <td>...</td>\n      <td>...</td>\n      <td>...</td>\n      <td>...</td>\n      <td>...</td>\n      <td>...</td>\n      <td>...</td>\n    </tr>\n    <tr>\n      <th>9077</th>\n      <td>RTX 4090</td>\n      <td>[8/8]</td>\n      <td>0.50</td>\n      <td>0.40</td>\n      <td>86.2</td>\n      <td>32</td>\n      <td>63</td>\n      <td>175</td>\n      <td>2189.0</td>\n      <td>4</td>\n      <td>...</td>\n      <td>463.2</td>\n      <td>12.0</td>\n      <td>525.105.17</td>\n      <td>4</td>\n      <td>16</td>\n      <td>NaN</td>\n      <td>22.6</td>\n      <td>EPYC 7742 64C</td>\n      <td>ROME2D32GM</td>\n      <td>{'country': 'TW', 'location': 'Taipei, Taipei ...</td>\n    </tr>\n    <tr>\n      <th>9101</th>\n      <td>RTX 4090</td>\n      <td>[2/2]</td>\n      <td>0.50</td>\n      <td>0.10</td>\n      <td>131.0</td>\n      <td>12</td>\n      <td>63</td>\n      <td>1665</td>\n      <td>1305.0</td>\n      <td>1</td>\n      <td>...</td>\n      <td>759.4</td>\n      <td>12.0</td>\n      <td>525.116.04</td>\n      <td>3</td>\n      <td>16</td>\n      <td>NaN</td>\n      <td>12.5</td>\n      <td>Ryzen TR 1920X 12C</td>\n      <td>X399 AORUS PRO</td>\n      <td>{'country': 'RO', 'location': 'Bucharest, Bucu...</td>\n    </tr>\n    <tr>\n      <th>10391</th>\n      <td>RTX 4090</td>\n      <td>[2/2]</td>\n      <td>0.50</td>\n      <td>0.40</td>\n      <td>138.0</td>\n      <td>12</td>\n      <td>63</td>\n      <td>715</td>\n      <td>3472.0</td>\n      <td>1</td>\n      <td>...</td>\n      <td>305.9</td>\n      <td>12.0</td>\n      <td>525.105.17</td>\n      <td>4</td>\n      <td>8</td>\n      <td>NaN</td>\n      <td>12.7</td>\n      <td>Ryzen 9 7900X 12C</td>\n      <td>ProArt B650</td>\n      <td>{'country': 'JP', 'location': 'Tokyo', 'lat': ...</td>\n    </tr>\n    <tr>\n      <th>9148</th>\n      <td>RTX 4090</td>\n      <td>[4/4]</td>\n      <td>0.50</td>\n      <td>0.10</td>\n      <td>94.2</td>\n      <td>16</td>\n      <td>63</td>\n      <td>184</td>\n      <td>1958.0</td>\n      <td>4</td>\n      <td>...</td>\n      <td>680.9</td>\n      <td>12.0</td>\n      <td>525.116.04</td>\n      <td>3</td>\n      <td>16</td>\n      <td>NaN</td>\n      <td>12.5</td>\n      <td>EPYC 7551P 32C</td>\n      <td>H11SSL</td>\n      <td>{'country': 'RO', 'location': 'Bucharest, Bucu...</td>\n    </tr>\n    <tr>\n      <th>11908</th>\n      <td>RTX 4090</td>\n      <td>[0/1]</td>\n      <td>0.50</td>\n      <td>0.10</td>\n      <td>141.5</td>\n      <td>32</td>\n      <td>126</td>\n      <td>1716</td>\n      <td>3457.0</td>\n      <td>1</td>\n      <td>...</td>\n      <td>332.8</td>\n      <td>12.2</td>\n      <td>535.86.05</td>\n      <td>4</td>\n      <td>16</td>\n      <td>NaN</td>\n      <td>25.0</td>\n      <td>Ryzen 9 3950X 16C</td>\n      <td>X570 Taichi</td>\n      <td>{'country': 'JP', 'location': 'Okayama', 'lat'...</td>\n    </tr>\n  </tbody>\n</table>\n<p>275 rows × 25 columns</p>\n</div>"
     },
     "execution_count": 36,
     "metadata": {},
     "output_type": "execute_result"
    }
   ],
   "source": [
    "cols = ['gpu_name',  'rented_fraq', 'dph', 'credit_discount_max', 'dlperf_per_dphtotal', 'cores', 'ram', 'disk', 'disk_bw',\n",
    "         'min_chunk', 'country', 'storage_cost', 'reliability2', 'duration', 'inet_up', 'inet_down', 'cuda_max_good', 'driver_version',  'pci_gen', 'gpu_lanes', 'hosting_type',  'pcie_bw', 'cpu_name', 'mobo_name',  'location']\n",
    "\n",
    "raw.query('dph >= 0.5')[cols].sort_values(by='dph', ascending=False)"
   ],
   "metadata": {
    "collapsed": false,
    "ExecuteTime": {
     "end_time": "2023-08-03T03:59:53.378705500Z",
     "start_time": "2023-08-03T03:59:53.116645100Z"
    }
   }
  },
  {
   "cell_type": "code",
   "execution_count": 35,
   "outputs": [
    {
     "data": {
      "text/plain": "               gpu_name rented_fraq  cuda_max_good driver_version    dph  \\\nmachine_id                                                                 \n11637       RTX 3080 Ti       [3/3]           12.0     525.125.06  0.150   \n11613       RTX 3080 Ti       [1/2]           12.0     525.125.06  0.150   \n11536          RTX 3090       [4/4]           12.0     525.105.17  0.230   \n11480          RTX 3090       [2/2]           12.0     525.125.06  0.175   \n11395          RTX 3090       [4/4]           12.0     525.125.06  0.230   \n11385          RTX 4090       [6/6]           12.0     525.105.17  0.395   \n11230          RTX 4090       [2/2]           12.0     525.105.17  0.400   \n10891         A100 PCIE       [0/8]           12.0     525.105.17  0.800   \n10794          RTX 3090       [8/8]           12.0     525.116.04  0.400   \n8560           RTX 4090       [2/2]           12.0     525.105.17  0.352   \n8319           RTX 4090       [1/1]           12.0     525.105.17  0.354   \n6161           RTX 3090       [8/8]           11.7         515.76  0.450   \n5567           RTX 3090       [4/4]           12.0     525.125.06  0.230   \n5566           RTX 3090       [4/4]           12.0      525.60.13  0.230   \n5565           RTX 3090       [4/4]           11.7      515.48.07  0.230   \n5564           RTX 3090       [4/4]           12.0     525.125.06  0.230   \n5563           RTX 3090       [3/4]           12.0     525.105.17  0.230   \n5562           RTX 3090       [4/4]           12.0     525.105.17  0.230   \n5561           RTX 3090       [3/4]           12.0     525.125.06  0.230   \n5560           RTX 3090       [3/4]           11.7      515.48.07  0.230   \n5553           RTX 3090       [4/4]           12.0     525.125.06  0.230   \n5550           RTX 3090       [2/4]           12.0     525.125.06  0.230   \n5548           RTX 3090       [2/4]           12.0     525.125.06  0.230   \n5547           RTX 3090       [2/4]           12.0     525.125.06  0.230   \n5546           RTX 3090       [4/4]           12.0     525.105.17  0.230   \n5545           RTX 3090       [4/4]           12.0      525.60.13  0.230   \n4132           RTX 3090       [3/4]           12.0     525.105.17  0.230   \n\n            credit_discount_max  dlperf_per_dphtotal  cores  ram  disk  ...  \\\nmachine_id                                                              ...   \n11637                       0.0                165.0     10   21   521  ...   \n11613                       0.0                166.2     18   16   677  ...   \n11536                       0.1                128.6     14   63   361  ...   \n11480                       0.0                165.9     16   63   209  ...   \n11395                       0.1                129.5     14   63   243  ...   \n11385                       0.4                150.2     10   42   191  ...   \n11230                       0.2                201.9     64   63   818  ...   \n10891                       0.4                 14.5      1  118    13  ...   \n10794                       0.4                 73.0     12   63   440  ...   \n8560                        NaN                185.2     16   31   216  ...   \n8319                        NaN                226.4     32   63  1087  ...   \n6161                        NaN                 61.0     16   31   603  ...   \n5567                        0.1                141.3      8   31   265  ...   \n5566                        0.1                142.3      8   31   287  ...   \n5565                        0.1                141.3      8   31   327  ...   \n5564                        0.1                142.3      8   31   325  ...   \n5563                        0.1                142.3      8   31   338  ...   \n5562                        0.1                129.5     14   63   290  ...   \n5561                        0.1                130.9     14   31   285  ...   \n5560                        0.1                129.5     14   63   199  ...   \n5553                        0.1                106.6     14   63   171  ...   \n5550                        0.1                131.2     14   16   270  ...   \n5548                        0.1                141.3      8   31   219  ...   \n5547                        0.1                141.3      8   31   286  ...   \n5546                        0.1                143.4      6   31   336  ...   \n5545                        0.1                141.3      8   63   498  ...   \n4132                        0.1                142.2      8   31   761  ...   \n\n            reliability2  duration inet_up  inet_down  pci_gen  hosting_type  \\\nmachine_id                                                                     \n11637           0.941792      29.0   401.0      437.4        4           NaN   \n11613           0.966970      29.0   406.7      430.4        3           NaN   \n11536           0.994424       NaN   699.9      753.6        3           NaN   \n11480           0.991865      28.0   189.8      205.0        3           NaN   \n11395           0.994547      24.0   674.0      709.9        3           NaN   \n11385           0.966162       3.0   419.7      535.5        4           NaN   \n11230           0.993515       1.0   539.7      480.3        4           NaN   \n10891           0.971270       NaN   469.6      671.6        4           NaN   \n10794           0.997459     660.0   529.4      652.3        4           NaN   \n8560            0.995299       NaN    80.6       65.7        4           NaN   \n8319            0.997166     154.0    82.6       60.0        4           NaN   \n6161            0.999446     659.0   442.6      601.9        4           NaN   \n5567            0.999346      24.0   793.1      834.1        4           NaN   \n5566            0.998818      24.0   755.7      810.1        4           NaN   \n5565            0.999206      24.0   804.2      823.8        4           NaN   \n5564            0.999251      24.0   735.8      806.9        4           NaN   \n5563            0.999303      24.0   712.6      806.2        4           NaN   \n5562            0.999446      24.0   712.9      744.0        3           NaN   \n5561            0.998902      24.0   768.8      825.0        3           NaN   \n5560            0.999339      24.0   708.4      817.7        3           NaN   \n5553            0.997069      24.0   754.8      829.0        3           NaN   \n5550            0.999398      24.0   805.2      811.6        3           NaN   \n5548            0.996701      24.0   754.3      811.4        4           NaN   \n5547            0.999357      24.0   721.4      733.9        4           NaN   \n5546            0.999502      24.0   703.1      761.5        4           NaN   \n5545            0.999218      24.0   617.2      691.1        4           NaN   \n4132            0.998370      24.0   770.7      810.3        4           NaN   \n\n            pcie_bw             cpu_name                         mobo_name  \\\nmachine_id                                                                   \n11637           6.0   Ryzen 9 5950X 16C                     ROG STRIX X570   \n11613          11.7    Xeon® E5-2696 v3                                X99   \n11536          10.2    Xeon® E5-2680 v4                              Z10PG   \n11480           6.4   Ryzen 9 5950X 16C                     ROG STRIX X570   \n11395          10.6    Xeon® E5-2680 v4                              Z10PG   \n11385          23.3       EPYC 7532 32C                             ROMED8   \n11230          23.1       EPYC 7B13 64C                             ROMED8   \n10891          15.3       EPYC 7H12 64C   440BX Desktop Reference Platform   \n10794          24.2       EPYC 7402 24C                             H12DSG   \n8560           12.7   Ryzen 9 5950X 16C                        B550 Taichi   \n8319           25.0   Ryzen 9 5950X 16C                 B550M AORUS PRO AX   \n6161           22.7       EPYC 7502 32C                             H12DSG   \n5567           23.8       EPYC 7282 16C                               KRPG   \n5566           24.1      EPYC 7302P 16C                               KRPG   \n5565           23.7       EPYC 7282 16C                               KRPG   \n5564           23.7      EPYC 7302P 16C                               KRPG   \n5563           24.1      EPYC 7302P 16C                               KRPG   \n5562           10.3    Xeon® E5-2680 v4                              Z10PG   \n5561           11.1    Xeon® E5-2680 v4                              Z10PG   \n5560           10.6    Xeon® E5-2680 v4                              Z10PG   \n5553           10.8    Xeon® E5-2680 v4                              Z10PG   \n5550           11.2    Xeon® E5-2680 v4                              Z10PG   \n5548           24.1       EPYC 7282 16C                               KRPG   \n5547           24.5       EPYC 7282 16C                             H12SSL   \n5546           24.2       EPYC 7272 12C                             H12SSL   \n5545           23.5       EPYC 7282 16C                             ROMED8   \n4132           24.2       EPYC 7282 16C                             H12SSL   \n\n                                                     location  \nmachine_id                                                     \n11637       {'country': 'RU', 'location': 'Maslyaninskiy, ...  \n11613       {'country': 'RU', 'location': 'Maslyaninskiy, ...  \n11536       {'country': 'RU', 'location': 'Moscow Oblast',...  \n11480       {'country': 'RU', 'location': 'Maslyaninskiy, ...  \n11395       {'country': 'RU', 'location': 'Moscow Oblast',...  \n11385       {'country': 'RU', 'location': 'Moscow', 'lat':...  \n11230       {'country': 'RU', 'location': 'Fryazino, Mosco...  \n10891       {'country': 'RU', 'lat': 55.7386, 'long': 37.6...  \n10794       {'country': 'RU', 'lat': 55.7386, 'long': 37.6...  \n8560        {'country': 'RU', 'location': 'Krasnodar, Kras...  \n8319        {'country': 'RU', 'location': 'Krasnodar, Kras...  \n6161        {'country': 'RU', 'lat': 55.7386, 'long': 37.6...  \n5567        {'country': 'RU', 'location': 'Moscow Oblast',...  \n5566        {'country': 'RU', 'location': 'Moscow Oblast',...  \n5565        {'country': 'RU', 'location': 'Moscow Oblast',...  \n5564        {'country': 'RU', 'location': 'Moscow Oblast',...  \n5563        {'country': 'RU', 'location': 'Moscow Oblast',...  \n5562        {'country': 'RU', 'location': 'Moscow Oblast',...  \n5561        {'country': 'RU', 'location': 'Moscow Oblast',...  \n5560        {'country': 'RU', 'location': 'Moscow Oblast',...  \n5553        {'country': 'RU', 'location': 'Moscow Oblast',...  \n5550        {'country': 'RU', 'location': 'Moscow Oblast',...  \n5548        {'country': 'RU', 'location': 'Moscow Oblast',...  \n5547        {'country': 'RU', 'location': 'Moscow Oblast',...  \n5546        {'country': 'RU', 'location': 'Moscow Oblast',...  \n5545        {'country': 'RU', 'location': 'Moscow Oblast',...  \n4132        {'country': 'RU', 'location': 'Moscow', 'lat':...  \n\n[27 rows x 24 columns]",
      "text/html": "<div>\n<style scoped>\n    .dataframe tbody tr th:only-of-type {\n        vertical-align: middle;\n    }\n\n    .dataframe tbody tr th {\n        vertical-align: top;\n    }\n\n    .dataframe thead th {\n        text-align: right;\n    }\n</style>\n<table border=\"1\" class=\"dataframe\">\n  <thead>\n    <tr style=\"text-align: right;\">\n      <th></th>\n      <th>gpu_name</th>\n      <th>rented_fraq</th>\n      <th>cuda_max_good</th>\n      <th>driver_version</th>\n      <th>dph</th>\n      <th>credit_discount_max</th>\n      <th>dlperf_per_dphtotal</th>\n      <th>cores</th>\n      <th>ram</th>\n      <th>disk</th>\n      <th>...</th>\n      <th>reliability2</th>\n      <th>duration</th>\n      <th>inet_up</th>\n      <th>inet_down</th>\n      <th>pci_gen</th>\n      <th>hosting_type</th>\n      <th>pcie_bw</th>\n      <th>cpu_name</th>\n      <th>mobo_name</th>\n      <th>location</th>\n    </tr>\n    <tr>\n      <th>machine_id</th>\n      <th></th>\n      <th></th>\n      <th></th>\n      <th></th>\n      <th></th>\n      <th></th>\n      <th></th>\n      <th></th>\n      <th></th>\n      <th></th>\n      <th></th>\n      <th></th>\n      <th></th>\n      <th></th>\n      <th></th>\n      <th></th>\n      <th></th>\n      <th></th>\n      <th></th>\n      <th></th>\n      <th></th>\n    </tr>\n  </thead>\n  <tbody>\n    <tr>\n      <th>11637</th>\n      <td>RTX 3080 Ti</td>\n      <td>[3/3]</td>\n      <td>12.0</td>\n      <td>525.125.06</td>\n      <td>0.150</td>\n      <td>0.0</td>\n      <td>165.0</td>\n      <td>10</td>\n      <td>21</td>\n      <td>521</td>\n      <td>...</td>\n      <td>0.941792</td>\n      <td>29.0</td>\n      <td>401.0</td>\n      <td>437.4</td>\n      <td>4</td>\n      <td>NaN</td>\n      <td>6.0</td>\n      <td>Ryzen 9 5950X 16C</td>\n      <td>ROG STRIX X570</td>\n      <td>{'country': 'RU', 'location': 'Maslyaninskiy, ...</td>\n    </tr>\n    <tr>\n      <th>11613</th>\n      <td>RTX 3080 Ti</td>\n      <td>[1/2]</td>\n      <td>12.0</td>\n      <td>525.125.06</td>\n      <td>0.150</td>\n      <td>0.0</td>\n      <td>166.2</td>\n      <td>18</td>\n      <td>16</td>\n      <td>677</td>\n      <td>...</td>\n      <td>0.966970</td>\n      <td>29.0</td>\n      <td>406.7</td>\n      <td>430.4</td>\n      <td>3</td>\n      <td>NaN</td>\n      <td>11.7</td>\n      <td>Xeon® E5-2696 v3</td>\n      <td>X99</td>\n      <td>{'country': 'RU', 'location': 'Maslyaninskiy, ...</td>\n    </tr>\n    <tr>\n      <th>11536</th>\n      <td>RTX 3090</td>\n      <td>[4/4]</td>\n      <td>12.0</td>\n      <td>525.105.17</td>\n      <td>0.230</td>\n      <td>0.1</td>\n      <td>128.6</td>\n      <td>14</td>\n      <td>63</td>\n      <td>361</td>\n      <td>...</td>\n      <td>0.994424</td>\n      <td>NaN</td>\n      <td>699.9</td>\n      <td>753.6</td>\n      <td>3</td>\n      <td>NaN</td>\n      <td>10.2</td>\n      <td>Xeon® E5-2680 v4</td>\n      <td>Z10PG</td>\n      <td>{'country': 'RU', 'location': 'Moscow Oblast',...</td>\n    </tr>\n    <tr>\n      <th>11480</th>\n      <td>RTX 3090</td>\n      <td>[2/2]</td>\n      <td>12.0</td>\n      <td>525.125.06</td>\n      <td>0.175</td>\n      <td>0.0</td>\n      <td>165.9</td>\n      <td>16</td>\n      <td>63</td>\n      <td>209</td>\n      <td>...</td>\n      <td>0.991865</td>\n      <td>28.0</td>\n      <td>189.8</td>\n      <td>205.0</td>\n      <td>3</td>\n      <td>NaN</td>\n      <td>6.4</td>\n      <td>Ryzen 9 5950X 16C</td>\n      <td>ROG STRIX X570</td>\n      <td>{'country': 'RU', 'location': 'Maslyaninskiy, ...</td>\n    </tr>\n    <tr>\n      <th>11395</th>\n      <td>RTX 3090</td>\n      <td>[4/4]</td>\n      <td>12.0</td>\n      <td>525.125.06</td>\n      <td>0.230</td>\n      <td>0.1</td>\n      <td>129.5</td>\n      <td>14</td>\n      <td>63</td>\n      <td>243</td>\n      <td>...</td>\n      <td>0.994547</td>\n      <td>24.0</td>\n      <td>674.0</td>\n      <td>709.9</td>\n      <td>3</td>\n      <td>NaN</td>\n      <td>10.6</td>\n      <td>Xeon® E5-2680 v4</td>\n      <td>Z10PG</td>\n      <td>{'country': 'RU', 'location': 'Moscow Oblast',...</td>\n    </tr>\n    <tr>\n      <th>11385</th>\n      <td>RTX 4090</td>\n      <td>[6/6]</td>\n      <td>12.0</td>\n      <td>525.105.17</td>\n      <td>0.395</td>\n      <td>0.4</td>\n      <td>150.2</td>\n      <td>10</td>\n      <td>42</td>\n      <td>191</td>\n      <td>...</td>\n      <td>0.966162</td>\n      <td>3.0</td>\n      <td>419.7</td>\n      <td>535.5</td>\n      <td>4</td>\n      <td>NaN</td>\n      <td>23.3</td>\n      <td>EPYC 7532 32C</td>\n      <td>ROMED8</td>\n      <td>{'country': 'RU', 'location': 'Moscow', 'lat':...</td>\n    </tr>\n    <tr>\n      <th>11230</th>\n      <td>RTX 4090</td>\n      <td>[2/2]</td>\n      <td>12.0</td>\n      <td>525.105.17</td>\n      <td>0.400</td>\n      <td>0.2</td>\n      <td>201.9</td>\n      <td>64</td>\n      <td>63</td>\n      <td>818</td>\n      <td>...</td>\n      <td>0.993515</td>\n      <td>1.0</td>\n      <td>539.7</td>\n      <td>480.3</td>\n      <td>4</td>\n      <td>NaN</td>\n      <td>23.1</td>\n      <td>EPYC 7B13 64C</td>\n      <td>ROMED8</td>\n      <td>{'country': 'RU', 'location': 'Fryazino, Mosco...</td>\n    </tr>\n    <tr>\n      <th>10891</th>\n      <td>A100 PCIE</td>\n      <td>[0/8]</td>\n      <td>12.0</td>\n      <td>525.105.17</td>\n      <td>0.800</td>\n      <td>0.4</td>\n      <td>14.5</td>\n      <td>1</td>\n      <td>118</td>\n      <td>13</td>\n      <td>...</td>\n      <td>0.971270</td>\n      <td>NaN</td>\n      <td>469.6</td>\n      <td>671.6</td>\n      <td>4</td>\n      <td>NaN</td>\n      <td>15.3</td>\n      <td>EPYC 7H12 64C</td>\n      <td>440BX Desktop Reference Platform</td>\n      <td>{'country': 'RU', 'lat': 55.7386, 'long': 37.6...</td>\n    </tr>\n    <tr>\n      <th>10794</th>\n      <td>RTX 3090</td>\n      <td>[8/8]</td>\n      <td>12.0</td>\n      <td>525.116.04</td>\n      <td>0.400</td>\n      <td>0.4</td>\n      <td>73.0</td>\n      <td>12</td>\n      <td>63</td>\n      <td>440</td>\n      <td>...</td>\n      <td>0.997459</td>\n      <td>660.0</td>\n      <td>529.4</td>\n      <td>652.3</td>\n      <td>4</td>\n      <td>NaN</td>\n      <td>24.2</td>\n      <td>EPYC 7402 24C</td>\n      <td>H12DSG</td>\n      <td>{'country': 'RU', 'lat': 55.7386, 'long': 37.6...</td>\n    </tr>\n    <tr>\n      <th>8560</th>\n      <td>RTX 4090</td>\n      <td>[2/2]</td>\n      <td>12.0</td>\n      <td>525.105.17</td>\n      <td>0.352</td>\n      <td>NaN</td>\n      <td>185.2</td>\n      <td>16</td>\n      <td>31</td>\n      <td>216</td>\n      <td>...</td>\n      <td>0.995299</td>\n      <td>NaN</td>\n      <td>80.6</td>\n      <td>65.7</td>\n      <td>4</td>\n      <td>NaN</td>\n      <td>12.7</td>\n      <td>Ryzen 9 5950X 16C</td>\n      <td>B550 Taichi</td>\n      <td>{'country': 'RU', 'location': 'Krasnodar, Kras...</td>\n    </tr>\n    <tr>\n      <th>8319</th>\n      <td>RTX 4090</td>\n      <td>[1/1]</td>\n      <td>12.0</td>\n      <td>525.105.17</td>\n      <td>0.354</td>\n      <td>NaN</td>\n      <td>226.4</td>\n      <td>32</td>\n      <td>63</td>\n      <td>1087</td>\n      <td>...</td>\n      <td>0.997166</td>\n      <td>154.0</td>\n      <td>82.6</td>\n      <td>60.0</td>\n      <td>4</td>\n      <td>NaN</td>\n      <td>25.0</td>\n      <td>Ryzen 9 5950X 16C</td>\n      <td>B550M AORUS PRO AX</td>\n      <td>{'country': 'RU', 'location': 'Krasnodar, Kras...</td>\n    </tr>\n    <tr>\n      <th>6161</th>\n      <td>RTX 3090</td>\n      <td>[8/8]</td>\n      <td>11.7</td>\n      <td>515.76</td>\n      <td>0.450</td>\n      <td>NaN</td>\n      <td>61.0</td>\n      <td>16</td>\n      <td>31</td>\n      <td>603</td>\n      <td>...</td>\n      <td>0.999446</td>\n      <td>659.0</td>\n      <td>442.6</td>\n      <td>601.9</td>\n      <td>4</td>\n      <td>NaN</td>\n      <td>22.7</td>\n      <td>EPYC 7502 32C</td>\n      <td>H12DSG</td>\n      <td>{'country': 'RU', 'lat': 55.7386, 'long': 37.6...</td>\n    </tr>\n    <tr>\n      <th>5567</th>\n      <td>RTX 3090</td>\n      <td>[4/4]</td>\n      <td>12.0</td>\n      <td>525.125.06</td>\n      <td>0.230</td>\n      <td>0.1</td>\n      <td>141.3</td>\n      <td>8</td>\n      <td>31</td>\n      <td>265</td>\n      <td>...</td>\n      <td>0.999346</td>\n      <td>24.0</td>\n      <td>793.1</td>\n      <td>834.1</td>\n      <td>4</td>\n      <td>NaN</td>\n      <td>23.8</td>\n      <td>EPYC 7282 16C</td>\n      <td>KRPG</td>\n      <td>{'country': 'RU', 'location': 'Moscow Oblast',...</td>\n    </tr>\n    <tr>\n      <th>5566</th>\n      <td>RTX 3090</td>\n      <td>[4/4]</td>\n      <td>12.0</td>\n      <td>525.60.13</td>\n      <td>0.230</td>\n      <td>0.1</td>\n      <td>142.3</td>\n      <td>8</td>\n      <td>31</td>\n      <td>287</td>\n      <td>...</td>\n      <td>0.998818</td>\n      <td>24.0</td>\n      <td>755.7</td>\n      <td>810.1</td>\n      <td>4</td>\n      <td>NaN</td>\n      <td>24.1</td>\n      <td>EPYC 7302P 16C</td>\n      <td>KRPG</td>\n      <td>{'country': 'RU', 'location': 'Moscow Oblast',...</td>\n    </tr>\n    <tr>\n      <th>5565</th>\n      <td>RTX 3090</td>\n      <td>[4/4]</td>\n      <td>11.7</td>\n      <td>515.48.07</td>\n      <td>0.230</td>\n      <td>0.1</td>\n      <td>141.3</td>\n      <td>8</td>\n      <td>31</td>\n      <td>327</td>\n      <td>...</td>\n      <td>0.999206</td>\n      <td>24.0</td>\n      <td>804.2</td>\n      <td>823.8</td>\n      <td>4</td>\n      <td>NaN</td>\n      <td>23.7</td>\n      <td>EPYC 7282 16C</td>\n      <td>KRPG</td>\n      <td>{'country': 'RU', 'location': 'Moscow Oblast',...</td>\n    </tr>\n    <tr>\n      <th>5564</th>\n      <td>RTX 3090</td>\n      <td>[4/4]</td>\n      <td>12.0</td>\n      <td>525.125.06</td>\n      <td>0.230</td>\n      <td>0.1</td>\n      <td>142.3</td>\n      <td>8</td>\n      <td>31</td>\n      <td>325</td>\n      <td>...</td>\n      <td>0.999251</td>\n      <td>24.0</td>\n      <td>735.8</td>\n      <td>806.9</td>\n      <td>4</td>\n      <td>NaN</td>\n      <td>23.7</td>\n      <td>EPYC 7302P 16C</td>\n      <td>KRPG</td>\n      <td>{'country': 'RU', 'location': 'Moscow Oblast',...</td>\n    </tr>\n    <tr>\n      <th>5563</th>\n      <td>RTX 3090</td>\n      <td>[3/4]</td>\n      <td>12.0</td>\n      <td>525.105.17</td>\n      <td>0.230</td>\n      <td>0.1</td>\n      <td>142.3</td>\n      <td>8</td>\n      <td>31</td>\n      <td>338</td>\n      <td>...</td>\n      <td>0.999303</td>\n      <td>24.0</td>\n      <td>712.6</td>\n      <td>806.2</td>\n      <td>4</td>\n      <td>NaN</td>\n      <td>24.1</td>\n      <td>EPYC 7302P 16C</td>\n      <td>KRPG</td>\n      <td>{'country': 'RU', 'location': 'Moscow Oblast',...</td>\n    </tr>\n    <tr>\n      <th>5562</th>\n      <td>RTX 3090</td>\n      <td>[4/4]</td>\n      <td>12.0</td>\n      <td>525.105.17</td>\n      <td>0.230</td>\n      <td>0.1</td>\n      <td>129.5</td>\n      <td>14</td>\n      <td>63</td>\n      <td>290</td>\n      <td>...</td>\n      <td>0.999446</td>\n      <td>24.0</td>\n      <td>712.9</td>\n      <td>744.0</td>\n      <td>3</td>\n      <td>NaN</td>\n      <td>10.3</td>\n      <td>Xeon® E5-2680 v4</td>\n      <td>Z10PG</td>\n      <td>{'country': 'RU', 'location': 'Moscow Oblast',...</td>\n    </tr>\n    <tr>\n      <th>5561</th>\n      <td>RTX 3090</td>\n      <td>[3/4]</td>\n      <td>12.0</td>\n      <td>525.125.06</td>\n      <td>0.230</td>\n      <td>0.1</td>\n      <td>130.9</td>\n      <td>14</td>\n      <td>31</td>\n      <td>285</td>\n      <td>...</td>\n      <td>0.998902</td>\n      <td>24.0</td>\n      <td>768.8</td>\n      <td>825.0</td>\n      <td>3</td>\n      <td>NaN</td>\n      <td>11.1</td>\n      <td>Xeon® E5-2680 v4</td>\n      <td>Z10PG</td>\n      <td>{'country': 'RU', 'location': 'Moscow Oblast',...</td>\n    </tr>\n    <tr>\n      <th>5560</th>\n      <td>RTX 3090</td>\n      <td>[3/4]</td>\n      <td>11.7</td>\n      <td>515.48.07</td>\n      <td>0.230</td>\n      <td>0.1</td>\n      <td>129.5</td>\n      <td>14</td>\n      <td>63</td>\n      <td>199</td>\n      <td>...</td>\n      <td>0.999339</td>\n      <td>24.0</td>\n      <td>708.4</td>\n      <td>817.7</td>\n      <td>3</td>\n      <td>NaN</td>\n      <td>10.6</td>\n      <td>Xeon® E5-2680 v4</td>\n      <td>Z10PG</td>\n      <td>{'country': 'RU', 'location': 'Moscow Oblast',...</td>\n    </tr>\n    <tr>\n      <th>5553</th>\n      <td>RTX 3090</td>\n      <td>[4/4]</td>\n      <td>12.0</td>\n      <td>525.125.06</td>\n      <td>0.230</td>\n      <td>0.1</td>\n      <td>106.6</td>\n      <td>14</td>\n      <td>63</td>\n      <td>171</td>\n      <td>...</td>\n      <td>0.997069</td>\n      <td>24.0</td>\n      <td>754.8</td>\n      <td>829.0</td>\n      <td>3</td>\n      <td>NaN</td>\n      <td>10.8</td>\n      <td>Xeon® E5-2680 v4</td>\n      <td>Z10PG</td>\n      <td>{'country': 'RU', 'location': 'Moscow Oblast',...</td>\n    </tr>\n    <tr>\n      <th>5550</th>\n      <td>RTX 3090</td>\n      <td>[2/4]</td>\n      <td>12.0</td>\n      <td>525.125.06</td>\n      <td>0.230</td>\n      <td>0.1</td>\n      <td>131.2</td>\n      <td>14</td>\n      <td>16</td>\n      <td>270</td>\n      <td>...</td>\n      <td>0.999398</td>\n      <td>24.0</td>\n      <td>805.2</td>\n      <td>811.6</td>\n      <td>3</td>\n      <td>NaN</td>\n      <td>11.2</td>\n      <td>Xeon® E5-2680 v4</td>\n      <td>Z10PG</td>\n      <td>{'country': 'RU', 'location': 'Moscow Oblast',...</td>\n    </tr>\n    <tr>\n      <th>5548</th>\n      <td>RTX 3090</td>\n      <td>[2/4]</td>\n      <td>12.0</td>\n      <td>525.125.06</td>\n      <td>0.230</td>\n      <td>0.1</td>\n      <td>141.3</td>\n      <td>8</td>\n      <td>31</td>\n      <td>219</td>\n      <td>...</td>\n      <td>0.996701</td>\n      <td>24.0</td>\n      <td>754.3</td>\n      <td>811.4</td>\n      <td>4</td>\n      <td>NaN</td>\n      <td>24.1</td>\n      <td>EPYC 7282 16C</td>\n      <td>KRPG</td>\n      <td>{'country': 'RU', 'location': 'Moscow Oblast',...</td>\n    </tr>\n    <tr>\n      <th>5547</th>\n      <td>RTX 3090</td>\n      <td>[2/4]</td>\n      <td>12.0</td>\n      <td>525.125.06</td>\n      <td>0.230</td>\n      <td>0.1</td>\n      <td>141.3</td>\n      <td>8</td>\n      <td>31</td>\n      <td>286</td>\n      <td>...</td>\n      <td>0.999357</td>\n      <td>24.0</td>\n      <td>721.4</td>\n      <td>733.9</td>\n      <td>4</td>\n      <td>NaN</td>\n      <td>24.5</td>\n      <td>EPYC 7282 16C</td>\n      <td>H12SSL</td>\n      <td>{'country': 'RU', 'location': 'Moscow Oblast',...</td>\n    </tr>\n    <tr>\n      <th>5546</th>\n      <td>RTX 3090</td>\n      <td>[4/4]</td>\n      <td>12.0</td>\n      <td>525.105.17</td>\n      <td>0.230</td>\n      <td>0.1</td>\n      <td>143.4</td>\n      <td>6</td>\n      <td>31</td>\n      <td>336</td>\n      <td>...</td>\n      <td>0.999502</td>\n      <td>24.0</td>\n      <td>703.1</td>\n      <td>761.5</td>\n      <td>4</td>\n      <td>NaN</td>\n      <td>24.2</td>\n      <td>EPYC 7272 12C</td>\n      <td>H12SSL</td>\n      <td>{'country': 'RU', 'location': 'Moscow Oblast',...</td>\n    </tr>\n    <tr>\n      <th>5545</th>\n      <td>RTX 3090</td>\n      <td>[4/4]</td>\n      <td>12.0</td>\n      <td>525.60.13</td>\n      <td>0.230</td>\n      <td>0.1</td>\n      <td>141.3</td>\n      <td>8</td>\n      <td>63</td>\n      <td>498</td>\n      <td>...</td>\n      <td>0.999218</td>\n      <td>24.0</td>\n      <td>617.2</td>\n      <td>691.1</td>\n      <td>4</td>\n      <td>NaN</td>\n      <td>23.5</td>\n      <td>EPYC 7282 16C</td>\n      <td>ROMED8</td>\n      <td>{'country': 'RU', 'location': 'Moscow Oblast',...</td>\n    </tr>\n    <tr>\n      <th>4132</th>\n      <td>RTX 3090</td>\n      <td>[3/4]</td>\n      <td>12.0</td>\n      <td>525.105.17</td>\n      <td>0.230</td>\n      <td>0.1</td>\n      <td>142.2</td>\n      <td>8</td>\n      <td>31</td>\n      <td>761</td>\n      <td>...</td>\n      <td>0.998370</td>\n      <td>24.0</td>\n      <td>770.7</td>\n      <td>810.3</td>\n      <td>4</td>\n      <td>NaN</td>\n      <td>24.2</td>\n      <td>EPYC 7282 16C</td>\n      <td>H12SSL</td>\n      <td>{'country': 'RU', 'location': 'Moscow', 'lat':...</td>\n    </tr>\n  </tbody>\n</table>\n<p>27 rows × 24 columns</p>\n</div>"
     },
     "execution_count": 35,
     "metadata": {},
     "output_type": "execute_result"
    }
   ],
   "source": [
    "raw[cols].query('country == \"RU\"')"
   ],
   "metadata": {
    "collapsed": false,
    "ExecuteTime": {
     "end_time": "2023-08-03T03:58:33.634487100Z",
     "start_time": "2023-08-03T03:58:33.337416700Z"
    }
   }
  }
 ],
 "metadata": {
  "kernelspec": {
   "display_name": "Python 3",
   "language": "python",
   "name": "python3"
  },
  "language_info": {
   "codemirror_mode": {
    "name": "ipython",
    "version": 2
   },
   "file_extension": ".py",
   "mimetype": "text/x-python",
   "name": "python",
   "nbconvert_exporter": "python",
   "pygments_lexer": "ipython2",
   "version": "2.7.6"
  }
 },
 "nbformat": 4,
 "nbformat_minor": 0
}
