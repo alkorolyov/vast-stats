{
 "cells": [
  {
   "cell_type": "code",
   "execution_count": 1,
   "outputs": [],
   "source": [
    "%load_ext autoreload\n",
    "%autoreload 2"
   ],
   "metadata": {
    "collapsed": false,
    "ExecuteTime": {
     "end_time": "2023-09-13T04:29:34.178511400Z",
     "start_time": "2023-09-13T04:29:34.037480Z"
    }
   }
  },
  {
   "cell_type": "code",
   "execution_count": 2,
   "metadata": {
    "collapsed": true,
    "ExecuteTime": {
     "end_time": "2023-09-13T04:29:34.456573900Z",
     "start_time": "2023-09-13T04:29:34.179511200Z"
    }
   },
   "outputs": [],
   "source": [
    "import sqlite3\n",
    "import numpy as np\n",
    "import pandas as pd\n",
    "from src.tables import MapTable, df_to_tmp_table, df_to_table, get_machines, get_offers, AVG_COLS, get_tables, get_tbl_info, table_to_df, get_tbl_timespan\n",
    "from src.preprocess import preprocess\n",
    "from src.utils import  time_utc_now, np_min_chunk, df_na_vals, reduce_mem_usage\n",
    "import seaborn as sns\n",
    "import matplotlib.pyplot as plt\n",
    "import logging\n",
    "\n",
    "import warnings\n",
    "\n",
    "# Filter out all warnings related to pandas\n",
    "warnings.filterwarnings(\"ignore\", category=FutureWarning)\n",
    "warnings.filterwarnings(\"ignore\", category=DeprecationWarning)"
   ]
  },
  {
   "cell_type": "code",
   "execution_count": 4,
   "outputs": [],
   "source": [
    "conn = sqlite3.connect('../vast.db')\n",
    "df = table_to_df('disk_bw_snp', conn)\n",
    "conn.close()"
   ],
   "metadata": {
    "collapsed": false,
    "ExecuteTime": {
     "end_time": "2023-09-13T04:39:41.882200800Z",
     "start_time": "2023-09-13T04:39:41.731166200Z"
    }
   }
  },
  {
   "cell_type": "code",
   "execution_count": 18,
   "outputs": [
    {
     "data": {
      "text/plain": "<Figure size 640x480 with 1 Axes>",
      "image/png": "[encoded data removed]"
     },
     "metadata": {},
     "output_type": "display_data"
    }
   ],
   "source": [
    "sns.histplot(df.query('disk_bw < 5000').disk_bw, bins=32);\n",
    "# sns.histplot(df.disk_bw, bins=32);"
   ],
   "metadata": {
    "collapsed": false,
    "ExecuteTime": {
     "end_time": "2023-09-13T05:09:32.647735800Z",
     "start_time": "2023-09-13T05:09:32.218600700Z"
    }
   }
  },
  {
   "cell_type": "code",
   "execution_count": 38,
   "outputs": [],
   "source": [
    "conn = sqlite3.connect('../vast.db')\n",
    "disk_bw = table_to_df('disk_bw_ts', conn)\n",
    "conn.close()"
   ],
   "metadata": {
    "collapsed": false,
    "ExecuteTime": {
     "end_time": "2023-09-13T05:31:03.852504100Z",
     "start_time": "2023-09-13T05:31:03.697540700Z"
    }
   }
  },
  {
   "cell_type": "code",
   "execution_count": 34,
   "outputs": [
    {
     "data": {
      "text/plain": "      machine_id  disk_bw   timestamp\n0            162     2000  1694581313\n1            162     2000  1694581313\n2           1831     5000  1694581313\n3           2107     6000  1694581313\n4           2107     6000  1694581313\n...          ...      ...         ...\n2777       12964      800  1694582772\n2778       12974     1000  1694582772\n2779       12981     2000  1694582772\n2780       12985     2500  1694582772\n2781       12985     2500  1694582772\n\n[2782 rows x 3 columns]",
      "text/html": "<div>\n<style scoped>\n    .dataframe tbody tr th:only-of-type {\n        vertical-align: middle;\n    }\n\n    .dataframe tbody tr th {\n        vertical-align: top;\n    }\n\n    .dataframe thead th {\n        text-align: right;\n    }\n</style>\n<table border=\"1\" class=\"dataframe\">\n  <thead>\n    <tr style=\"text-align: right;\">\n      <th></th>\n      <th>machine_id</th>\n      <th>disk_bw</th>\n      <th>timestamp</th>\n    </tr>\n  </thead>\n  <tbody>\n    <tr>\n      <th>0</th>\n      <td>162</td>\n      <td>2000</td>\n      <td>1694581313</td>\n    </tr>\n    <tr>\n      <th>1</th>\n      <td>162</td>\n      <td>2000</td>\n      <td>1694581313</td>\n    </tr>\n    <tr>\n      <th>2</th>\n      <td>1831</td>\n      <td>5000</td>\n      <td>1694581313</td>\n    </tr>\n    <tr>\n      <th>3</th>\n      <td>2107</td>\n      <td>6000</td>\n      <td>1694581313</td>\n    </tr>\n    <tr>\n      <th>4</th>\n      <td>2107</td>\n      <td>6000</td>\n      <td>1694581313</td>\n    </tr>\n    <tr>\n      <th>...</th>\n      <td>...</td>\n      <td>...</td>\n      <td>...</td>\n    </tr>\n    <tr>\n      <th>2777</th>\n      <td>12964</td>\n      <td>800</td>\n      <td>1694582772</td>\n    </tr>\n    <tr>\n      <th>2778</th>\n      <td>12974</td>\n      <td>1000</td>\n      <td>1694582772</td>\n    </tr>\n    <tr>\n      <th>2779</th>\n      <td>12981</td>\n      <td>2000</td>\n      <td>1694582772</td>\n    </tr>\n    <tr>\n      <th>2780</th>\n      <td>12985</td>\n      <td>2500</td>\n      <td>1694582772</td>\n    </tr>\n    <tr>\n      <th>2781</th>\n      <td>12985</td>\n      <td>2500</td>\n      <td>1694582772</td>\n    </tr>\n  </tbody>\n</table>\n<p>2782 rows × 3 columns</p>\n</div>"
     },
     "execution_count": 34,
     "metadata": {},
     "output_type": "execute_result"
    }
   ],
   "source": [
    "disk_bw = pd.read_sql('''WITH t AS (\n",
    "    SELECT *, COUNT() FROM disk_bw_ts\n",
    "    GROUP BY machine_id, disk_bw\n",
    "    HAVING COUNT() > 1\n",
    ")\n",
    "SELECT disk_bw_ts.*\n",
    "FROM disk_bw_ts\n",
    "INNER JOIN t ON disk_bw_ts.machine_id = t.machine_id''', conn)\n",
    "disk_bw"
   ],
   "metadata": {
    "collapsed": false,
    "ExecuteTime": {
     "end_time": "2023-09-13T05:29:03.265781700Z",
     "start_time": "2023-09-13T05:29:03.108745800Z"
    }
   }
  },
  {
   "cell_type": "code",
   "execution_count": 37,
   "outputs": [
    {
     "data": {
      "text/plain": "<Figure size 640x480 with 1 Axes>",
      "image/png": "[encoded data removed]"
     },
     "metadata": {},
     "output_type": "display_data"
    }
   ],
   "source": [
    "sns.histplot(disk_bw.query('disk_bw < 6000').disk_bw);"
   ],
   "metadata": {
    "collapsed": false,
    "ExecuteTime": {
     "end_time": "2023-09-13T05:29:37.169424100Z",
     "start_time": "2023-09-13T05:29:36.764332800Z"
    }
   }
  },
  {
   "cell_type": "code",
   "execution_count": 3,
   "outputs": [],
   "source": [
    "from src.utils import round_base\n",
    "\n",
    "df = get_machines()"
   ],
   "metadata": {
    "collapsed": false,
    "ExecuteTime": {
     "end_time": "2023-09-12T17:18:29.398549600Z",
     "start_time": "2023-09-12T17:18:27.252748Z"
    }
   }
  },
  {
   "cell_type": "code",
   "execution_count": 15,
   "outputs": [
    {
     "data": {
      "text/plain": "Index(['bw_nvlink', 'chunks', 'client_run_time', 'compute_cap', 'cpu_cores',\n       'cpu_name', 'cpu_ram', 'credit_balance', 'credit_discount',\n       'credit_discount_max', 'cuda_max_good', 'direct_port_count',\n       'discount_rate', 'discounted_dph_total', 'discounted_hourly', 'disk_bw',\n       'disk_name', 'disk_space', 'dlperf', 'dlperf_per_dphtotal', 'dph_base',\n       'driver_version', 'duration', 'end_date', 'flops_per_dphtotal',\n       'geolocation', 'gpu_display_active', 'gpu_lanes', 'gpu_mem_bw',\n       'gpu_name', 'gpu_ram', 'gpu_totalram', 'has_avx', 'host_id',\n       'host_run_time', 'hosting_type', 'inet_down', 'inet_down_cost',\n       'inet_up', 'inet_up_cost', 'location', 'machine_id', 'min_bid',\n       'min_chunk', 'mobo_name', 'num_gpus', 'num_gpus_rented', 'pci_gen',\n       'pcie_bw', 'public_ipaddr', 'reliability2', 'score', 'start_date',\n       'static_ip', 'storage_cost', 'total_flops', 'verification', 'verified',\n       'vram_costperhour', 'timestamp'],\n      dtype='object')"
     },
     "execution_count": 15,
     "metadata": {},
     "output_type": "execute_result"
    }
   ],
   "source": [
    "df.columns"
   ],
   "metadata": {
    "collapsed": false,
    "ExecuteTime": {
     "end_time": "2023-09-12T17:21:04.524636100Z",
     "start_time": "2023-09-12T17:21:04.390605700Z"
    }
   }
  },
  {
   "cell_type": "code",
   "execution_count": 8,
   "outputs": [
    {
     "data": {
      "text/plain": "2592000    1491\nName: host_run_time, dtype: int64"
     },
     "execution_count": 8,
     "metadata": {},
     "output_type": "execute_result"
    }
   ],
   "source": [
    "df.host_run_time.value_counts()"
   ],
   "metadata": {
    "collapsed": false,
    "ExecuteTime": {
     "end_time": "2023-09-12T17:19:06.889031500Z",
     "start_time": "2023-09-12T17:19:06.760002500Z"
    }
   }
  },
  {
   "cell_type": "code",
   "execution_count": 86,
   "outputs": [
    {
     "data": {
      "text/plain": "0       125\n1       125\n2        65\n3       110\n4        15\n       ... \n1477     55\n1478     60\n1479     55\n1480     55\n1481    125\nName: pcie_bw, Length: 1482, dtype: int32"
     },
     "execution_count": 86,
     "metadata": {},
     "output_type": "execute_result"
    }
   ],
   "source": [
    "round_base(df.pcie_bw * 10, base=5)"
   ],
   "metadata": {
    "collapsed": false,
    "ExecuteTime": {
     "end_time": "2023-09-11T18:18:34.123384200Z",
     "start_time": "2023-09-11T18:18:33.982352700Z"
    }
   }
  },
  {
   "cell_type": "code",
   "execution_count": 3,
   "outputs": [
    {
     "name": "stdout",
     "output_type": "stream",
     "text": [
      "25 days 19:40:01\n"
     ]
    }
   ],
   "source": [
    "conn = sqlite3.connect('../data/vast_old.db')\n",
    "print(get_tbl_timespan('reliability_ts', conn))\n",
    "conn.close()"
   ],
   "metadata": {
    "collapsed": false,
    "ExecuteTime": {
     "end_time": "2023-09-11T04:47:57.099163600Z",
     "start_time": "2023-09-11T04:47:56.953130700Z"
    }
   }
  },
  {
   "cell_type": "code",
   "execution_count": 4,
   "outputs": [
    {
     "name": "stdout",
     "output_type": "stream",
     "text": [
      "Timespan: 25 days 19:40:01\n",
      "Size per day:  1.89 mb\n",
      "Size per year:  690.10 mb\n"
     ]
    }
   ],
   "source": [
    "import sqlite3\n",
    "import os\n",
    "import pandas as pd\n",
    "\n",
    "db_path = '../data/vast_old.db'\n",
    "\n",
    "conn = sqlite3.connect(db_path)\n",
    "timespan = get_tbl_timespan('reliability_ts', conn)\n",
    "total_days = timespan.total_seconds() / (3600 * 24)\n",
    "\n",
    "print('Timespan:', timespan)\n",
    "\n",
    "conn.execute('VACUUM')\n",
    "size = os.path.getsize(db_path) / (1024 * 1024) # Size in Mb\n",
    "\n",
    "print(f'Size per day: {size / total_days: .2f} mb')\n",
    "print(f'Size per year: {size / total_days * 365: .2f} mb')\n",
    "\n",
    "conn.close()"
   ],
   "metadata": {
    "collapsed": false,
    "ExecuteTime": {
     "end_time": "2023-09-11T04:47:58.436238900Z",
     "start_time": "2023-09-11T04:47:57.095162700Z"
    }
   }
  },
  {
   "cell_type": "code",
   "execution_count": 5,
   "outputs": [],
   "source": [
    "conn = sqlite3.connect(db_path)\n",
    "rel_df = table_to_df('reliability_ts', conn)"
   ],
   "metadata": {
    "collapsed": false,
    "ExecuteTime": {
     "end_time": "2023-09-11T04:48:00.921800300Z",
     "start_time": "2023-09-11T04:47:58.438239300Z"
    }
   }
  },
  {
   "cell_type": "code",
   "execution_count": 6,
   "outputs": [
    {
     "name": "stdout",
     "output_type": "stream",
     "text": [
      "<class 'pandas.core.frame.DataFrame'>\n",
      "RangeIndex: 1497207 entries, 0 to 1497206\n",
      "Data columns (total 3 columns):\n",
      " #   Column       Non-Null Count    Dtype\n",
      "---  ------       --------------    -----\n",
      " 0   machine_id   1497207 non-null  int64\n",
      " 1   reliability  1497207 non-null  int64\n",
      " 2   timestamp    1497207 non-null  int64\n",
      "dtypes: int64(3)\n",
      "memory usage: 34.3 MB\n"
     ]
    }
   ],
   "source": [
    "rel_df.info()"
   ],
   "metadata": {
    "collapsed": false,
    "ExecuteTime": {
     "end_time": "2023-09-11T04:48:01.082837600Z",
     "start_time": "2023-09-11T04:48:00.922799100Z"
    }
   }
  },
  {
   "cell_type": "code",
   "execution_count": 7,
   "outputs": [],
   "source": [
    "rel_df = reduce_mem_usage(rel_df)\n",
    "# rel_df.info()"
   ],
   "metadata": {
    "collapsed": false,
    "ExecuteTime": {
     "end_time": "2023-09-11T04:48:01.254878900Z",
     "start_time": "2023-09-11T04:48:01.081836700Z"
    }
   }
  },
  {
   "cell_type": "code",
   "execution_count": 8,
   "outputs": [
    {
     "data": {
      "text/plain": "'C:\\\\Users\\\\ergot\\\\DataspellProjects\\\\vast-stats\\\\notebooks'"
     },
     "execution_count": 8,
     "metadata": {},
     "output_type": "execute_result"
    }
   ],
   "source": [
    "import os\n",
    "os.getcwd()"
   ],
   "metadata": {
    "collapsed": false,
    "ExecuteTime": {
     "end_time": "2023-09-11T04:48:01.400910200Z",
     "start_time": "2023-09-11T04:48:01.258879300Z"
    }
   }
  },
  {
   "cell_type": "code",
   "execution_count": 9,
   "outputs": [],
   "source": [
    "import requests \n",
    "r = requests.get('https://500.farm/vastai-exporter/machines', timeout=5)\n",
    "\n",
    "# ts = int(pd.to_datetime(r.json()['timestamp']).timestamp())\n",
    "# raw = pd.DataFrame(r.json()[\"offers\"])\n",
    "# raw['timestamp'] = ts"
   ],
   "metadata": {
    "collapsed": false,
    "ExecuteTime": {
     "end_time": "2023-09-11T04:48:02.960307400Z",
     "start_time": "2023-09-11T04:48:01.399911100Z"
    }
   }
  },
  {
   "cell_type": "code",
   "execution_count": 10,
   "outputs": [
    {
     "data": {
      "text/plain": "4457419"
     },
     "execution_count": 10,
     "metadata": {},
     "output_type": "execute_result"
    }
   ],
   "source": [
    "len(r.text)"
   ],
   "metadata": {
    "collapsed": false,
    "ExecuteTime": {
     "end_time": "2023-09-11T04:48:03.104330300Z",
     "start_time": "2023-09-11T04:48:02.961307700Z"
    }
   }
  },
  {
   "cell_type": "code",
   "execution_count": 11,
   "outputs": [
    {
     "name": "stdout",
     "output_type": "stream",
     "text": [
      "CPU times: total: 0 ns\n",
      "Wall time: 3 ms\n"
     ]
    },
    {
     "data": {
      "text/plain": "4457419"
     },
     "execution_count": 11,
     "metadata": {},
     "output_type": "execute_result"
    }
   ],
   "source": [
    "%%time\n",
    "len(r.text)"
   ],
   "metadata": {
    "collapsed": false,
    "ExecuteTime": {
     "end_time": "2023-09-11T04:48:03.248363900Z",
     "start_time": "2023-09-11T04:48:03.103330100Z"
    }
   }
  },
  {
   "cell_type": "code",
   "execution_count": 12,
   "outputs": [],
   "source": [
    "df = get_offers()"
   ],
   "metadata": {
    "collapsed": false,
    "ExecuteTime": {
     "end_time": "2023-09-11T04:48:05.663699900Z",
     "start_time": "2023-09-11T04:48:03.247363900Z"
    }
   }
  },
  {
   "cell_type": "code",
   "execution_count": 13,
   "outputs": [
    {
     "data": {
      "text/plain": "      machine_id       id  num_gpus\n0          11446  6876831        14\n1          12109  6931083        14\n2          12195  6891180        14\n3          12129  6857985        14\n4          12171  6804463        14\n...          ...      ...       ...\n6005       12902  6970220         1\n6006       10903  6778940         1\n6007       10903  6778938         1\n6008        9528  6751513         1\n6009       12598  6869065         1\n\n[6010 rows x 3 columns]",
      "text/html": "<div>\n<style scoped>\n    .dataframe tbody tr th:only-of-type {\n        vertical-align: middle;\n    }\n\n    .dataframe tbody tr th {\n        vertical-align: top;\n    }\n\n    .dataframe thead th {\n        text-align: right;\n    }\n</style>\n<table border=\"1\" class=\"dataframe\">\n  <thead>\n    <tr style=\"text-align: right;\">\n      <th></th>\n      <th>machine_id</th>\n      <th>id</th>\n      <th>num_gpus</th>\n    </tr>\n  </thead>\n  <tbody>\n    <tr>\n      <th>0</th>\n      <td>11446</td>\n      <td>6876831</td>\n      <td>14</td>\n    </tr>\n    <tr>\n      <th>1</th>\n      <td>12109</td>\n      <td>6931083</td>\n      <td>14</td>\n    </tr>\n    <tr>\n      <th>2</th>\n      <td>12195</td>\n      <td>6891180</td>\n      <td>14</td>\n    </tr>\n    <tr>\n      <th>3</th>\n      <td>12129</td>\n      <td>6857985</td>\n      <td>14</td>\n    </tr>\n    <tr>\n      <th>4</th>\n      <td>12171</td>\n      <td>6804463</td>\n      <td>14</td>\n    </tr>\n    <tr>\n      <th>...</th>\n      <td>...</td>\n      <td>...</td>\n      <td>...</td>\n    </tr>\n    <tr>\n      <th>6005</th>\n      <td>12902</td>\n      <td>6970220</td>\n      <td>1</td>\n    </tr>\n    <tr>\n      <th>6006</th>\n      <td>10903</td>\n      <td>6778940</td>\n      <td>1</td>\n    </tr>\n    <tr>\n      <th>6007</th>\n      <td>10903</td>\n      <td>6778938</td>\n      <td>1</td>\n    </tr>\n    <tr>\n      <th>6008</th>\n      <td>9528</td>\n      <td>6751513</td>\n      <td>1</td>\n    </tr>\n    <tr>\n      <th>6009</th>\n      <td>12598</td>\n      <td>6869065</td>\n      <td>1</td>\n    </tr>\n  </tbody>\n</table>\n<p>6010 rows × 3 columns</p>\n</div>"
     },
     "execution_count": 13,
     "metadata": {},
     "output_type": "execute_result"
    }
   ],
   "source": [
    "from src.tables import _get_raw, offers_url\n",
    "from src.utils import np_group_by\n",
    "\n",
    "raw = _get_raw(offers_url)\n",
    "\n",
    "cols = ['machine_id', 'id', 'num_gpus']\n",
    "# \n",
    "raw[cols]\n",
    "# df[cols].sort_values(by=['machine_id', 'num_gpus'])"
   ],
   "metadata": {
    "collapsed": false,
    "ExecuteTime": {
     "end_time": "2023-09-11T04:48:07.884630300Z",
     "start_time": "2023-09-11T04:48:05.665782500Z"
    }
   }
  },
  {
   "cell_type": "code",
   "execution_count": 14,
   "outputs": [
    {
     "data": {
      "text/plain": "array([[11446,    14],\n       [12109,    14],\n       [12195,    14],\n       [12129,    14],\n       [12171,    14],\n       [10298,    14],\n       [11795,    14],\n       [10163,    14],\n       [12803,    12],\n       [12639,    12]], dtype=int64)"
     },
     "execution_count": 14,
     "metadata": {},
     "output_type": "execute_result"
    }
   ],
   "source": [
    "arr = np.array([raw.machine_id, raw.num_gpus]).T\n",
    "arr[:10]"
   ],
   "metadata": {
    "collapsed": false,
    "ExecuteTime": {
     "end_time": "2023-09-11T04:48:08.049666600Z",
     "start_time": "2023-09-11T04:48:07.880629700Z"
    }
   }
  },
  {
   "cell_type": "code",
   "execution_count": 15,
   "outputs": [],
   "source": [
    "# arr = np.array([\n",
    "#                 [274, 1], \n",
    "#                 [274, 2],\n",
    "#                 [274, 1],\n",
    "#                 [5601, 1],\n",
    "#                 [5601, 2],\n",
    "#                 [8506, 4],\n",
    "#                 [8506, 2],\n",
    "#                 ],)\n",
    "# arr"
   ],
   "metadata": {
    "collapsed": false,
    "ExecuteTime": {
     "end_time": "2023-09-11T04:48:08.167693500Z",
     "start_time": "2023-09-11T04:48:08.024661Z"
    }
   }
  },
  {
   "cell_type": "code",
   "execution_count": 16,
   "outputs": [
    {
     "data": {
      "text/plain": "array([11446, 12109, 12195, ..., 10903,  9528, 12598], dtype=int64)"
     },
     "execution_count": 16,
     "metadata": {},
     "output_type": "execute_result"
    }
   ],
   "source": [
    "arr[:, 0]"
   ],
   "metadata": {
    "collapsed": false,
    "ExecuteTime": {
     "end_time": "2023-09-11T04:48:08.308725400Z",
     "start_time": "2023-09-11T04:48:08.167693500Z"
    }
   }
  },
  {
   "cell_type": "code",
   "execution_count": 17,
   "outputs": [],
   "source": [
    "ids = arr[:, 0]\n",
    "vals = arr[:, 1]\n",
    "\n",
    "sort_idx = np.argsort(ids)\n",
    "ids = ids[sort_idx]\n",
    "vals = vals[sort_idx]\n",
    "\n",
    "slice_idx = np.diff(ids).nonzero()[0] + 1\n",
    "slice_idx = np.hstack([0, slice_idx])"
   ],
   "metadata": {
    "collapsed": false,
    "ExecuteTime": {
     "end_time": "2023-09-11T04:48:08.458759300Z",
     "start_time": "2023-09-11T04:48:08.311725700Z"
    }
   }
  },
  {
   "cell_type": "code",
   "execution_count": 18,
   "outputs": [
    {
     "data": {
      "text/plain": "(True, True)"
     },
     "execution_count": 18,
     "metadata": {},
     "output_type": "execute_result"
    }
   ],
   "source": [
    "np.all(np.r_[0, slice_idx] == np.insert(slice_idx, 0, 0)), \\\n",
    "np.all(np.hstack([0, slice_idx]) == np.insert(slice_idx, 0, 0))"
   ],
   "metadata": {
    "collapsed": false,
    "ExecuteTime": {
     "end_time": "2023-09-11T04:48:08.603794700Z",
     "start_time": "2023-09-11T04:48:08.455759100Z"
    }
   }
  },
  {
   "cell_type": "code",
   "execution_count": 19,
   "outputs": [
    {
     "data": {
      "text/plain": "array([   0,    0,    1, ..., 6005, 6008, 6009], dtype=int64)"
     },
     "execution_count": 19,
     "metadata": {},
     "output_type": "execute_result"
    }
   ],
   "source": [
    "np.hstack([0, slice_idx])"
   ],
   "metadata": {
    "collapsed": false,
    "ExecuteTime": {
     "end_time": "2023-09-11T04:48:08.740822800Z",
     "start_time": "2023-09-11T04:48:08.598792200Z"
    }
   }
  },
  {
   "cell_type": "code",
   "execution_count": 20,
   "outputs": [
    {
     "name": "stdout",
     "output_type": "stream",
     "text": [
      "10.9 µs ± 413 ns per loop (mean ± std. dev. of 7 runs, 100,000 loops each)\n",
      "15.2 µs ± 20.2 ns per loop (mean ± std. dev. of 7 runs, 100,000 loops each)\n",
      "5.89 µs ± 42.2 ns per loop (mean ± std. dev. of 7 runs, 100,000 loops each)\n"
     ]
    }
   ],
   "source": [
    "%timeit np.r_[0, slice_idx]\n",
    "%timeit np.insert(slice_idx, 0, 0)\n",
    "%timeit np.hstack([0, slice_idx])"
   ],
   "metadata": {
    "collapsed": false,
    "ExecuteTime": {
     "end_time": "2023-09-11T04:48:35.203794800Z",
     "start_time": "2023-09-11T04:48:08.743823500Z"
    }
   }
  },
  {
   "cell_type": "code",
   "execution_count": 21,
   "outputs": [
    {
     "name": "stdout",
     "output_type": "stream",
     "text": [
      "32.1 µs ± 158 ns per loop (mean ± std. dev. of 7 runs, 10,000 loops each)\n",
      "35.2 µs ± 149 ns per loop (mean ± std. dev. of 7 runs, 10,000 loops each)\n"
     ]
    }
   ],
   "source": [
    "%timeit np.diff(ids).nonzero()[0]\n",
    "%timeit np.flatnonzero(np.diff(ids))"
   ],
   "metadata": {
    "collapsed": false,
    "ExecuteTime": {
     "end_time": "2023-09-11T04:48:40.813065900Z",
     "start_time": "2023-09-11T04:48:35.206794400Z"
    }
   }
  },
  {
   "cell_type": "code",
   "execution_count": 22,
   "outputs": [
    {
     "data": {
      "text/plain": "15"
     },
     "execution_count": 22,
     "metadata": {},
     "output_type": "execute_result"
    }
   ],
   "source": [
    "n = vals.max() + 1\n",
    "n"
   ],
   "metadata": {
    "collapsed": false,
    "ExecuteTime": {
     "end_time": "2023-09-11T04:48:40.959100Z",
     "start_time": "2023-09-11T04:48:40.814066200Z"
    }
   }
  },
  {
   "cell_type": "code",
   "execution_count": 23,
   "outputs": [
    {
     "data": {
      "text/plain": "array([1, 1, 0, ..., 0, 1, 1])"
     },
     "execution_count": 23,
     "metadata": {},
     "output_type": "execute_result"
    }
   ],
   "source": [
    "idx_arr = np.zeros(vals.size,dtype=int)\n",
    "idx_arr[slice_idx] = 1\n",
    "idx_arr"
   ],
   "metadata": {
    "collapsed": false,
    "ExecuteTime": {
     "end_time": "2023-09-11T04:48:41.099132100Z",
     "start_time": "2023-09-11T04:48:40.957099900Z"
    }
   }
  },
  {
   "cell_type": "code",
   "execution_count": 24,
   "outputs": [
    {
     "data": {
      "text/plain": "array([   15,    30,    30, ..., 22230, 22245, 22260])"
     },
     "execution_count": 24,
     "metadata": {},
     "output_type": "execute_result"
    }
   ],
   "source": [
    "offset = n * idx_arr.cumsum()\n",
    "offset"
   ],
   "metadata": {
    "collapsed": false,
    "ExecuteTime": {
     "end_time": "2023-09-11T04:48:41.243164Z",
     "start_time": "2023-09-11T04:48:41.100132900Z"
    }
   }
  },
  {
   "cell_type": "code",
   "execution_count": 25,
   "outputs": [
    {
     "data": {
      "text/plain": "array([   0,   12,    7, ..., 6007, 6008, 6009], dtype=int64)"
     },
     "execution_count": 25,
     "metadata": {},
     "output_type": "execute_result"
    }
   ],
   "source": [
    "argidx = np.argsort(vals + offset)\n",
    "argidx"
   ],
   "metadata": {
    "collapsed": false,
    "ExecuteTime": {
     "end_time": "2023-09-11T04:48:41.384195200Z",
     "start_time": "2023-09-11T04:48:41.242163100Z"
    }
   }
  },
  {
   "cell_type": "code",
   "execution_count": 26,
   "outputs": [
    {
     "data": {
      "text/plain": "array([4, 1, 1, ..., 2, 1, 1], dtype=int64)"
     },
     "execution_count": 26,
     "metadata": {},
     "output_type": "execute_result"
    }
   ],
   "source": [
    "vals[argidx]"
   ],
   "metadata": {
    "collapsed": false,
    "ExecuteTime": {
     "end_time": "2023-09-11T04:48:41.525228400Z",
     "start_time": "2023-09-11T04:48:41.389197Z"
    }
   }
  },
  {
   "cell_type": "code",
   "execution_count": 27,
   "outputs": [
    {
     "data": {
      "text/plain": "array([   0,   15,   30, ..., 6007, 6008, 6009], dtype=int64)"
     },
     "execution_count": 27,
     "metadata": {},
     "output_type": "execute_result"
    }
   ],
   "source": [
    "last_grp_idx = np.append(slice_idx[1:], vals.size) - 1\n",
    "last_grp_idx"
   ],
   "metadata": {
    "collapsed": false,
    "ExecuteTime": {
     "end_time": "2023-09-11T04:48:41.669260400Z",
     "start_time": "2023-09-11T04:48:41.525228400Z"
    }
   }
  },
  {
   "cell_type": "code",
   "execution_count": 28,
   "outputs": [
    {
     "data": {
      "text/plain": "array([4, 8, 8, ..., 2, 1, 1], dtype=int64)"
     },
     "execution_count": 28,
     "metadata": {},
     "output_type": "execute_result"
    }
   ],
   "source": [
    "max_grp = vals[argidx[last_grp_idx]]\n",
    "max_grp"
   ],
   "metadata": {
    "collapsed": false,
    "ExecuteTime": {
     "end_time": "2023-09-11T04:48:41.813291900Z",
     "start_time": "2023-09-11T04:48:41.669260400Z"
    }
   }
  },
  {
   "cell_type": "code",
   "execution_count": 29,
   "outputs": [
    {
     "data": {
      "text/plain": "array([2, 4])"
     },
     "execution_count": 29,
     "metadata": {},
     "output_type": "execute_result"
    }
   ],
   "source": [
    "from src.utils import np_argmax_reduceat\n",
    "\n",
    "arr = np.array([\n",
    "    [8506, 4],\n",
    "    [274,  2],\n",
    "    [8506, 2],\n",
    "    [274,  1],    \n",
    "],)\n",
    "\n",
    "ids = arr[:, 0]\n",
    "vals = arr[:, 1]\n",
    "\n",
    "sort_idx = np.argsort(ids)\n",
    "ids = ids[sort_idx]\n",
    "vals = vals[sort_idx]\n",
    "\n",
    "slice_idx = np.diff(ids).nonzero()[0] + 1\n",
    "slice_idx = np.hstack([0, slice_idx])\n",
    "\n",
    "vals[np_argmax_reduceat(vals, slice_idx)]"
   ],
   "metadata": {
    "collapsed": false,
    "ExecuteTime": {
     "end_time": "2023-09-11T04:48:41.957325600Z",
     "start_time": "2023-09-11T04:48:41.814291700Z"
    }
   }
  },
  {
   "cell_type": "code",
   "execution_count": 30,
   "outputs": [
    {
     "data": {
      "text/plain": "array([ 274, 8506])"
     },
     "execution_count": 30,
     "metadata": {},
     "output_type": "execute_result"
    }
   ],
   "source": [
    "ids[slice_idx]"
   ],
   "metadata": {
    "collapsed": false,
    "ExecuteTime": {
     "end_time": "2023-09-11T04:48:42.101356500Z",
     "start_time": "2023-09-11T04:48:41.957325600Z"
    }
   }
  },
  {
   "cell_type": "code",
   "execution_count": 31,
   "outputs": [],
   "source": [
    "_raw = _get_raw(offers_url)"
   ],
   "metadata": {
    "collapsed": false,
    "ExecuteTime": {
     "end_time": "2023-09-11T04:48:44.383398200Z",
     "start_time": "2023-09-11T04:48:42.102356800Z"
    }
   }
  },
  {
   "cell_type": "code",
   "execution_count": 32,
   "outputs": [],
   "source": [
    "def test_lexsort(raw):    \n",
    "    lexidx = np.lexsort((raw.num_gpus.values, raw.machine_id.values))\n",
    "    return raw.iloc[lexidx]\n",
    "\n",
    "def test_pd_sort(raw):\n",
    "    return raw.sort_values(by=['machine_id', 'num_gpus'])"
   ],
   "metadata": {
    "collapsed": false,
    "ExecuteTime": {
     "end_time": "2023-09-11T04:48:44.530432500Z",
     "start_time": "2023-09-11T04:48:44.384398Z"
    }
   }
  },
  {
   "cell_type": "code",
   "execution_count": 33,
   "outputs": [
    {
     "name": "stdout",
     "output_type": "stream",
     "text": [
      "2.32 ms ± 279 µs per loop (mean ± std. dev. of 7 runs, 100 loops each)\n",
      "3.32 ms ± 80.4 µs per loop (mean ± std. dev. of 7 runs, 100 loops each)\n"
     ]
    }
   ],
   "source": [
    "%timeit test_lexsort(raw)\n",
    "%timeit test_pd_sort(raw)"
   ],
   "metadata": {
    "collapsed": false,
    "ExecuteTime": {
     "end_time": "2023-09-11T04:48:49.208487300Z",
     "start_time": "2023-09-11T04:48:44.527431900Z"
    }
   }
  },
  {
   "cell_type": "code",
   "execution_count": 64,
   "outputs": [],
   "source": [
    "_raw = _get_raw(offers_url)"
   ],
   "metadata": {
    "collapsed": false,
    "ExecuteTime": {
     "end_time": "2023-09-11T05:21:57.685239800Z",
     "start_time": "2023-09-11T05:21:55.194677800Z"
    }
   }
  },
  {
   "cell_type": "code",
   "execution_count": 71,
   "outputs": [],
   "source": [
    "raw = _raw.copy()"
   ],
   "metadata": {
    "collapsed": false,
    "ExecuteTime": {
     "end_time": "2023-09-11T05:22:31.156142500Z",
     "start_time": "2023-09-11T05:22:31.012814500Z"
    }
   }
  },
  {
   "cell_type": "code",
   "execution_count": 78,
   "outputs": [
    {
     "name": "stdout",
     "output_type": "stream",
     "text": [
      "CPU times: total: 62.5 ms\n",
      "Wall time: 63 ms\n"
     ]
    }
   ],
   "source": [
    "%%time\n",
    "def _get_slices(raw: pd.DataFrame):\n",
    "    # raw.sort_values(by=['machine_id', 'num_gpus'], inplace=True)\n",
    "    # lexidx = np.lexsort((raw.num_gpus.values, raw.machine_id.values))\n",
    "    # raw = raw.iloc[lexidx]\n",
    "\n",
    "    machine_ids, num_gpus = raw.machine_id.values, raw.num_gpus.values\n",
    "\n",
    "    slice_idx = np.diff(machine_ids).nonzero()[0] + 1\n",
    "    slice_idx = np.hstack([0, slice_idx])    # insert zero at the beginning of slice_idx\n",
    "\n",
    "    group_count = np.diff(np.concatenate([slice_idx, [machine_ids.size]]))  # groupby('machine_id').count()\n",
    "    return slice_idx, group_count    \n",
    "\n",
    "\n",
    "def _gpu_min_chunk(raw, slice_idx, group_count):\n",
    "    machine_ids, num_gpus = raw.machine_id.values, raw.num_gpus.values\n",
    "    \n",
    "    min_chunk_machines = num_gpus[slice_idx]\n",
    "    min_chunk = np.repeat(min_chunk_machines, group_count)    # expanded min_chunk for each offer\n",
    "    min_chunk_count = np.add.reduceat((min_chunk == num_gpus), slice_idx)\n",
    "    \n",
    "    # correction for the case where whole machine size is not a multiple of min_chunk\n",
    "    # in this case, there is always a single remainder chunk which is smaller than actual min_chunk\n",
    "    # examples: [1 2 2 2 3 4 7], actual min_chunk is 2\n",
    "    #           [3 4 7], actual min_chunk is 4\n",
    "    \n",
    "    idx = (min_chunk_count == 1) & (group_count >= 3)\n",
    "    \n",
    "    # get second minimum, correct for last index\n",
    "    second_min_idx = slice_idx + 1\n",
    "    if second_min_idx[-1] == machine_ids.size:\n",
    "        second_min_idx[-1] -= 1\n",
    "    \n",
    "    min_chunk_machines[idx] = num_gpus[second_min_idx][idx]\n",
    "    \n",
    "    # update min_chunk\n",
    "    min_chunk = np.repeat(min_chunk_machines, group_count)\n",
    "    return min_chunk\n",
    "\n",
    "\n",
    "def _get_offers(raw, min_chunk):\n",
    "    # filter offers only \n",
    "    return raw[raw.num_gpus <= min_chunk].copy()\n",
    "\n",
    "def _get_machines(raw, slice_idx):\n",
    "    # machines = only offers with max gpu\n",
    "    machine_ids = raw.machine_id.values\n",
    "    max_chunk_idx = np.append(slice_idx[1:], machine_ids.size) - 1\n",
    "    machines = raw.iloc[max_chunk_idx].copy()\n",
    "    return machines\n",
    "\n",
    "def split_raw(raw: pd.DataFrame):\n",
    "    raw.sort_values(by=['machine_id', 'num_gpus'], inplace=True)        \n",
    "    \n",
    "    slice_idx, group_count = _get_slices(raw)\n",
    "    min_chunk = _gpu_min_chunk(raw, slice_idx, group_count)\n",
    "    \n",
    "    offers = _get_offers(raw, min_chunk)\n",
    "    machines = _get_machines(raw, slice_idx)\n",
    "    return machines, offers\n",
    "\n",
    "\n",
    "preprocess(raw)\n",
    "machines, offers = split_raw(raw)"
   ],
   "metadata": {
    "collapsed": false,
    "ExecuteTime": {
     "end_time": "2023-09-11T05:23:28.212569900Z",
     "start_time": "2023-09-11T05:23:27.998521Z"
    }
   }
  },
  {
   "cell_type": "code",
   "execution_count": 80,
   "outputs": [
    {
     "name": "stderr",
     "output_type": "stream",
     "text": [
      "[autoreload of src.tables failed: Traceback (most recent call last):\n",
      "  File \"C:\\Users\\ergot\\mambaforge\\envs\\ml\\lib\\site-packages\\IPython\\extensions\\autoreload.py\", line 273, in check\n",
      "    superreload(m, reload, self.old_objects)\n",
      "  File \"C:\\Users\\ergot\\mambaforge\\envs\\ml\\lib\\site-packages\\IPython\\extensions\\autoreload.py\", line 471, in superreload\n",
      "    module = reload(module)\n",
      "  File \"C:\\Users\\ergot\\mambaforge\\envs\\ml\\lib\\importlib\\__init__.py\", line 169, in reload\n",
      "    _bootstrap._exec(spec, module)\n",
      "  File \"<frozen importlib._bootstrap>\", line 619, in _exec\n",
      "  File \"<frozen importlib._bootstrap_external>\", line 883, in exec_module\n",
      "  File \"<frozen importlib._bootstrap>\", line 241, in _call_with_frames_removed\n",
      "  File \"C:\\Users\\ergot\\DataspellProjects\\vast-stats\\src\\tables.py\", line 8, in <module>\n",
      "    from src.preprocess import split_raw, preprocess\n",
      "ImportError: cannot import name 'split_raw' from 'src.preprocess' (C:\\Users\\ergot\\DataspellProjects\\vast-stats\\src\\preprocess.py)\n",
      "]\n"
     ]
    }
   ],
   "source": [],
   "metadata": {
    "collapsed": false,
    "ExecuteTime": {
     "end_time": "2023-09-11T18:17:03.054554900Z",
     "start_time": "2023-09-11T18:17:02.834505600Z"
    }
   }
  },
  {
   "cell_type": "code",
   "execution_count": 79,
   "outputs": [
    {
     "data": {
      "text/plain": "      bw_nvlink  client_run_time  compute_cap  cpu_cores  \\\n2887          0              1.1          750         32   \n3348          0              1.1          610         32   \n3349          0              1.1          610         32   \n3516          0              1.1          610         40   \n1470          0              1.1          610         32   \n...         ...              ...          ...        ...   \n4961          0              1.1          860         12   \n5335          0              1.1          860         28   \n3940          0              1.1          860         16   \n4960          0              1.1          860         16   \n1077          0              1.1          860          0   \n\n                                            cpu_name  cpu_ram  \\\n2887  AMD Ryzen Threadripper 1950X 16-Core Processor       63   \n3348                               Xeon® E5-2650 v2        63   \n3349                               Xeon® E5-2650 v2        63   \n3516                               Xeon® E5-2658 v2        63   \n1470                               Xeon® E5-2650 v2       126   \n...                                              ...      ...   \n4961               AMD Ryzen 5 3600 6-Core Processor       16   \n5335                                Xeon® E5-2690 0        85   \n3940             AMD Ryzen 9 5950X 16-Core Processor       31   \n4960              AMD Ryzen 7 5800X 8-Core Processor       16   \n1077                                                        0   \n\n      credit_discount_max cuda_max_good  direct_port_count  disk_bw  ...  \\\n2887                  400          11.7               1000     1862  ...   \n3348                  100          12.0               1000     1589  ...   \n3349                  100          12.0               1000     1653  ...   \n3516                  100          12.0               1000      487  ...   \n1470                  100          12.0               1000     2882  ...   \n...                   ...           ...                ...      ...  ...   \n4961                  400          12.0                101     3280  ...   \n5335                  400          12.2                999     1801  ...   \n3940                  250          12.2                 20      519  ...   \n4960                  400          12.2                100      542  ...   \n1077                  100          12.2                  0        0  ...   \n\n     reliability  rented  score  static_ip storage_cost  total_flops  \\\n2887        9975       0   4644          1          150           61   \n3348        9942       0   5615          1          150           49   \n3349        9961       0   5028          1          150           49   \n3516        9889       0   5149          1          150           37   \n1470        9896       0   4698          1          150           92   \n...          ...     ...    ...        ...          ...          ...   \n4961        6000       0   1076          1          150           29   \n5335        6000       0    752          1          101           25   \n3940        5727       0   1952          1          150           35   \n4960        6000       0   1333          1          150           29   \n1077        6000       0      0          0          150          141   \n\n      verification  vram_costperhour   timestamp country  \n2887             1          0.000013  1694409656      US  \n3348             1          0.000007  1694409656      UA  \n3349             2          0.000007  1694409656      UA  \n3516             1          0.000007  1694409656      UA  \n1470             2          0.000008  1694409656      UA  \n...            ...               ...         ...     ...  \n4961             0          0.000012  1694409656      US  \n5335             0          0.000007  1694409656      CA  \n3940             0          0.000004  1694409656      US  \n4960             0          0.000010  1694409656      US  \n1077             0          0.000016  1694409656          \n\n[1483 rows x 47 columns]",
      "text/html": "<div>\n<style scoped>\n    .dataframe tbody tr th:only-of-type {\n        vertical-align: middle;\n    }\n\n    .dataframe tbody tr th {\n        vertical-align: top;\n    }\n\n    .dataframe thead th {\n        text-align: right;\n    }\n</style>\n<table border=\"1\" class=\"dataframe\">\n  <thead>\n    <tr style=\"text-align: right;\">\n      <th></th>\n      <th>bw_nvlink</th>\n      <th>client_run_time</th>\n      <th>compute_cap</th>\n      <th>cpu_cores</th>\n      <th>cpu_name</th>\n      <th>cpu_ram</th>\n      <th>credit_discount_max</th>\n      <th>cuda_max_good</th>\n      <th>direct_port_count</th>\n      <th>disk_bw</th>\n      <th>...</th>\n      <th>reliability</th>\n      <th>rented</th>\n      <th>score</th>\n      <th>static_ip</th>\n      <th>storage_cost</th>\n      <th>total_flops</th>\n      <th>verification</th>\n      <th>vram_costperhour</th>\n      <th>timestamp</th>\n      <th>country</th>\n    </tr>\n  </thead>\n  <tbody>\n    <tr>\n      <th>2887</th>\n      <td>0</td>\n      <td>1.1</td>\n      <td>750</td>\n      <td>32</td>\n      <td>AMD Ryzen Threadripper 1950X 16-Core Processor</td>\n      <td>63</td>\n      <td>400</td>\n      <td>11.7</td>\n      <td>1000</td>\n      <td>1862</td>\n      <td>...</td>\n      <td>9975</td>\n      <td>0</td>\n      <td>4644</td>\n      <td>1</td>\n      <td>150</td>\n      <td>61</td>\n      <td>1</td>\n      <td>0.000013</td>\n      <td>1694409656</td>\n      <td>US</td>\n    </tr>\n    <tr>\n      <th>3348</th>\n      <td>0</td>\n      <td>1.1</td>\n      <td>610</td>\n      <td>32</td>\n      <td>Xeon® E5-2650 v2</td>\n      <td>63</td>\n      <td>100</td>\n      <td>12.0</td>\n      <td>1000</td>\n      <td>1589</td>\n      <td>...</td>\n      <td>9942</td>\n      <td>0</td>\n      <td>5615</td>\n      <td>1</td>\n      <td>150</td>\n      <td>49</td>\n      <td>1</td>\n      <td>0.000007</td>\n      <td>1694409656</td>\n      <td>UA</td>\n    </tr>\n    <tr>\n      <th>3349</th>\n      <td>0</td>\n      <td>1.1</td>\n      <td>610</td>\n      <td>32</td>\n      <td>Xeon® E5-2650 v2</td>\n      <td>63</td>\n      <td>100</td>\n      <td>12.0</td>\n      <td>1000</td>\n      <td>1653</td>\n      <td>...</td>\n      <td>9961</td>\n      <td>0</td>\n      <td>5028</td>\n      <td>1</td>\n      <td>150</td>\n      <td>49</td>\n      <td>2</td>\n      <td>0.000007</td>\n      <td>1694409656</td>\n      <td>UA</td>\n    </tr>\n    <tr>\n      <th>3516</th>\n      <td>0</td>\n      <td>1.1</td>\n      <td>610</td>\n      <td>40</td>\n      <td>Xeon® E5-2658 v2</td>\n      <td>63</td>\n      <td>100</td>\n      <td>12.0</td>\n      <td>1000</td>\n      <td>487</td>\n      <td>...</td>\n      <td>9889</td>\n      <td>0</td>\n      <td>5149</td>\n      <td>1</td>\n      <td>150</td>\n      <td>37</td>\n      <td>1</td>\n      <td>0.000007</td>\n      <td>1694409656</td>\n      <td>UA</td>\n    </tr>\n    <tr>\n      <th>1470</th>\n      <td>0</td>\n      <td>1.1</td>\n      <td>610</td>\n      <td>32</td>\n      <td>Xeon® E5-2650 v2</td>\n      <td>126</td>\n      <td>100</td>\n      <td>12.0</td>\n      <td>1000</td>\n      <td>2882</td>\n      <td>...</td>\n      <td>9896</td>\n      <td>0</td>\n      <td>4698</td>\n      <td>1</td>\n      <td>150</td>\n      <td>92</td>\n      <td>2</td>\n      <td>0.000008</td>\n      <td>1694409656</td>\n      <td>UA</td>\n    </tr>\n    <tr>\n      <th>...</th>\n      <td>...</td>\n      <td>...</td>\n      <td>...</td>\n      <td>...</td>\n      <td>...</td>\n      <td>...</td>\n      <td>...</td>\n      <td>...</td>\n      <td>...</td>\n      <td>...</td>\n      <td>...</td>\n      <td>...</td>\n      <td>...</td>\n      <td>...</td>\n      <td>...</td>\n      <td>...</td>\n      <td>...</td>\n      <td>...</td>\n      <td>...</td>\n      <td>...</td>\n      <td>...</td>\n    </tr>\n    <tr>\n      <th>4961</th>\n      <td>0</td>\n      <td>1.1</td>\n      <td>860</td>\n      <td>12</td>\n      <td>AMD Ryzen 5 3600 6-Core Processor</td>\n      <td>16</td>\n      <td>400</td>\n      <td>12.0</td>\n      <td>101</td>\n      <td>3280</td>\n      <td>...</td>\n      <td>6000</td>\n      <td>0</td>\n      <td>1076</td>\n      <td>1</td>\n      <td>150</td>\n      <td>29</td>\n      <td>0</td>\n      <td>0.000012</td>\n      <td>1694409656</td>\n      <td>US</td>\n    </tr>\n    <tr>\n      <th>5335</th>\n      <td>0</td>\n      <td>1.1</td>\n      <td>860</td>\n      <td>28</td>\n      <td>Xeon® E5-2690 0</td>\n      <td>85</td>\n      <td>400</td>\n      <td>12.2</td>\n      <td>999</td>\n      <td>1801</td>\n      <td>...</td>\n      <td>6000</td>\n      <td>0</td>\n      <td>752</td>\n      <td>1</td>\n      <td>101</td>\n      <td>25</td>\n      <td>0</td>\n      <td>0.000007</td>\n      <td>1694409656</td>\n      <td>CA</td>\n    </tr>\n    <tr>\n      <th>3940</th>\n      <td>0</td>\n      <td>1.1</td>\n      <td>860</td>\n      <td>16</td>\n      <td>AMD Ryzen 9 5950X 16-Core Processor</td>\n      <td>31</td>\n      <td>250</td>\n      <td>12.2</td>\n      <td>20</td>\n      <td>519</td>\n      <td>...</td>\n      <td>5727</td>\n      <td>0</td>\n      <td>1952</td>\n      <td>1</td>\n      <td>150</td>\n      <td>35</td>\n      <td>0</td>\n      <td>0.000004</td>\n      <td>1694409656</td>\n      <td>US</td>\n    </tr>\n    <tr>\n      <th>4960</th>\n      <td>0</td>\n      <td>1.1</td>\n      <td>860</td>\n      <td>16</td>\n      <td>AMD Ryzen 7 5800X 8-Core Processor</td>\n      <td>16</td>\n      <td>400</td>\n      <td>12.2</td>\n      <td>100</td>\n      <td>542</td>\n      <td>...</td>\n      <td>6000</td>\n      <td>0</td>\n      <td>1333</td>\n      <td>1</td>\n      <td>150</td>\n      <td>29</td>\n      <td>0</td>\n      <td>0.000010</td>\n      <td>1694409656</td>\n      <td>US</td>\n    </tr>\n    <tr>\n      <th>1077</th>\n      <td>0</td>\n      <td>1.1</td>\n      <td>860</td>\n      <td>0</td>\n      <td></td>\n      <td>0</td>\n      <td>100</td>\n      <td>12.2</td>\n      <td>0</td>\n      <td>0</td>\n      <td>...</td>\n      <td>6000</td>\n      <td>0</td>\n      <td>0</td>\n      <td>0</td>\n      <td>150</td>\n      <td>141</td>\n      <td>0</td>\n      <td>0.000016</td>\n      <td>1694409656</td>\n      <td></td>\n    </tr>\n  </tbody>\n</table>\n<p>1483 rows × 47 columns</p>\n</div>"
     },
     "execution_count": 79,
     "metadata": {},
     "output_type": "execute_result"
    }
   ],
   "source": [
    "machines"
   ],
   "metadata": {
    "collapsed": false,
    "ExecuteTime": {
     "end_time": "2023-09-11T05:23:29.759356800Z",
     "start_time": "2023-09-11T05:23:29.603321200Z"
    }
   }
  },
  {
   "cell_type": "code",
   "execution_count": 38,
   "outputs": [],
   "source": [
    "from src.tables import machines_url\n",
    "\n",
    "vast_exported = _get_raw(machines_url).machine_id"
   ],
   "metadata": {
    "collapsed": false,
    "ExecuteTime": {
     "end_time": "2023-09-11T04:48:53.663772Z",
     "start_time": "2023-09-11T04:48:51.968940100Z"
    }
   }
  },
  {
   "cell_type": "code",
   "execution_count": 39,
   "outputs": [
    {
     "data": {
      "text/plain": "1309    5919\n1310    6312\nName: machine_id, dtype: int32"
     },
     "execution_count": 39,
     "metadata": {},
     "output_type": "execute_result"
    }
   ],
   "source": [
    "machines[~machines.machine_id.isin(vast_exported)].machine_id"
   ],
   "metadata": {
    "collapsed": false,
    "ExecuteTime": {
     "end_time": "2023-09-11T04:48:53.809804200Z",
     "start_time": "2023-09-11T04:48:53.664771700Z"
    }
   }
  },
  {
   "cell_type": "code",
   "execution_count": 40,
   "outputs": [
    {
     "data": {
      "text/plain": "Index(['bw_nvlink', 'client_run_time', 'compute_cap', 'cpu_cores', 'cpu_name',\n       'cpu_ram', 'credit_discount_max', 'cuda_max_good', 'direct_port_count',\n       'disk_bw', 'disk_name', 'disk_space', 'dlperf', 'dph_base',\n       'driver_version', 'end_date', 'gpu_display_active', 'gpu_lanes',\n       'gpu_mem_bw', 'gpu_name', 'gpu_ram', 'gpu_totalram', 'has_avx',\n       'host_id', 'hosting_type', 'id', 'inet_down', 'inet_down_cost',\n       'inet_up', 'inet_up_cost', 'machine_id', 'min_bid', 'mobo_name',\n       'num_gpus', 'pci_gen', 'pcie_bw', 'public_ipaddr', 'reliability',\n       'rented', 'score', 'static_ip', 'storage_cost', 'total_flops',\n       'verification', 'vram_costperhour', 'timestamp', 'country'],\n      dtype='object')"
     },
     "execution_count": 40,
     "metadata": {},
     "output_type": "execute_result"
    }
   ],
   "source": [
    "offers.columns"
   ],
   "metadata": {
    "collapsed": false,
    "ExecuteTime": {
     "end_time": "2023-09-11T04:48:53.958839900Z",
     "start_time": "2023-09-11T04:48:53.807803700Z"
    }
   }
  },
  {
   "cell_type": "code",
   "execution_count": 41,
   "outputs": [
    {
     "data": {
      "text/plain": "           id  num_gpus  rented\n1306  5516886         4       1\n1310  5381482         4       1\n3102  5516889         2       1\n3103  5516887         2       1\n3110  5381485         2       1\n3111  5381483         2       1\n4923  5516888         1       1\n4924  5516885         1       1\n4925  5516884         1       1\n4926  5516883         1       1\n4940  5381484         1       1\n4941  5381481         1       1\n4942  5381480         1       1\n4943  5381479         1       1",
      "text/html": "<div>\n<style scoped>\n    .dataframe tbody tr th:only-of-type {\n        vertical-align: middle;\n    }\n\n    .dataframe tbody tr th {\n        vertical-align: top;\n    }\n\n    .dataframe thead th {\n        text-align: right;\n    }\n</style>\n<table border=\"1\" class=\"dataframe\">\n  <thead>\n    <tr style=\"text-align: right;\">\n      <th></th>\n      <th>id</th>\n      <th>num_gpus</th>\n      <th>rented</th>\n    </tr>\n  </thead>\n  <tbody>\n    <tr>\n      <th>1306</th>\n      <td>5516886</td>\n      <td>4</td>\n      <td>1</td>\n    </tr>\n    <tr>\n      <th>1310</th>\n      <td>5381482</td>\n      <td>4</td>\n      <td>1</td>\n    </tr>\n    <tr>\n      <th>3102</th>\n      <td>5516889</td>\n      <td>2</td>\n      <td>1</td>\n    </tr>\n    <tr>\n      <th>3103</th>\n      <td>5516887</td>\n      <td>2</td>\n      <td>1</td>\n    </tr>\n    <tr>\n      <th>3110</th>\n      <td>5381485</td>\n      <td>2</td>\n      <td>1</td>\n    </tr>\n    <tr>\n      <th>3111</th>\n      <td>5381483</td>\n      <td>2</td>\n      <td>1</td>\n    </tr>\n    <tr>\n      <th>4923</th>\n      <td>5516888</td>\n      <td>1</td>\n      <td>1</td>\n    </tr>\n    <tr>\n      <th>4924</th>\n      <td>5516885</td>\n      <td>1</td>\n      <td>1</td>\n    </tr>\n    <tr>\n      <th>4925</th>\n      <td>5516884</td>\n      <td>1</td>\n      <td>1</td>\n    </tr>\n    <tr>\n      <th>4926</th>\n      <td>5516883</td>\n      <td>1</td>\n      <td>1</td>\n    </tr>\n    <tr>\n      <th>4940</th>\n      <td>5381484</td>\n      <td>1</td>\n      <td>1</td>\n    </tr>\n    <tr>\n      <th>4941</th>\n      <td>5381481</td>\n      <td>1</td>\n      <td>1</td>\n    </tr>\n    <tr>\n      <th>4942</th>\n      <td>5381480</td>\n      <td>1</td>\n      <td>1</td>\n    </tr>\n    <tr>\n      <th>4943</th>\n      <td>5381479</td>\n      <td>1</td>\n      <td>1</td>\n    </tr>\n  </tbody>\n</table>\n</div>"
     },
     "execution_count": 41,
     "metadata": {},
     "output_type": "execute_result"
    }
   ],
   "source": [
    "raw.query('machine_id == 6312')[['id', 'num_gpus', 'rented']]"
   ],
   "metadata": {
    "collapsed": false,
    "ExecuteTime": {
     "end_time": "2023-09-11T04:48:54.092867500Z",
     "start_time": "2023-09-11T04:48:53.950836400Z"
    }
   }
  },
  {
   "cell_type": "code",
   "execution_count": 42,
   "outputs": [
    {
     "data": {
      "text/plain": "           id  num_gpus  rented\n4923  5516888         1       1\n4924  5516885         1       1\n4925  5516884         1       1\n4926  5516883         1       1\n4940  5381484         1       1\n4941  5381481         1       1\n4942  5381480         1       1\n4943  5381479         1       1",
      "text/html": "<div>\n<style scoped>\n    .dataframe tbody tr th:only-of-type {\n        vertical-align: middle;\n    }\n\n    .dataframe tbody tr th {\n        vertical-align: top;\n    }\n\n    .dataframe thead th {\n        text-align: right;\n    }\n</style>\n<table border=\"1\" class=\"dataframe\">\n  <thead>\n    <tr style=\"text-align: right;\">\n      <th></th>\n      <th>id</th>\n      <th>num_gpus</th>\n      <th>rented</th>\n    </tr>\n  </thead>\n  <tbody>\n    <tr>\n      <th>4923</th>\n      <td>5516888</td>\n      <td>1</td>\n      <td>1</td>\n    </tr>\n    <tr>\n      <th>4924</th>\n      <td>5516885</td>\n      <td>1</td>\n      <td>1</td>\n    </tr>\n    <tr>\n      <th>4925</th>\n      <td>5516884</td>\n      <td>1</td>\n      <td>1</td>\n    </tr>\n    <tr>\n      <th>4926</th>\n      <td>5516883</td>\n      <td>1</td>\n      <td>1</td>\n    </tr>\n    <tr>\n      <th>4940</th>\n      <td>5381484</td>\n      <td>1</td>\n      <td>1</td>\n    </tr>\n    <tr>\n      <th>4941</th>\n      <td>5381481</td>\n      <td>1</td>\n      <td>1</td>\n    </tr>\n    <tr>\n      <th>4942</th>\n      <td>5381480</td>\n      <td>1</td>\n      <td>1</td>\n    </tr>\n    <tr>\n      <th>4943</th>\n      <td>5381479</td>\n      <td>1</td>\n      <td>1</td>\n    </tr>\n  </tbody>\n</table>\n</div>"
     },
     "execution_count": 42,
     "metadata": {},
     "output_type": "execute_result"
    }
   ],
   "source": [
    "offers.query('machine_id == 6312')[['id', 'num_gpus', 'rented']]"
   ],
   "metadata": {
    "collapsed": false,
    "ExecuteTime": {
     "end_time": "2023-09-11T04:48:54.243901600Z",
     "start_time": "2023-09-11T04:48:54.093867700Z"
    }
   }
  },
  {
   "cell_type": "code",
   "execution_count": 43,
   "outputs": [
    {
     "data": {
      "text/plain": "      num_gpus\n1310         4",
      "text/html": "<div>\n<style scoped>\n    .dataframe tbody tr th:only-of-type {\n        vertical-align: middle;\n    }\n\n    .dataframe tbody tr th {\n        vertical-align: top;\n    }\n\n    .dataframe thead th {\n        text-align: right;\n    }\n</style>\n<table border=\"1\" class=\"dataframe\">\n  <thead>\n    <tr style=\"text-align: right;\">\n      <th></th>\n      <th>num_gpus</th>\n    </tr>\n  </thead>\n  <tbody>\n    <tr>\n      <th>1310</th>\n      <td>4</td>\n    </tr>\n  </tbody>\n</table>\n</div>"
     },
     "execution_count": 43,
     "metadata": {},
     "output_type": "execute_result"
    }
   ],
   "source": [
    "machines.query('machine_id == 6312')[['num_gpus']]"
   ],
   "metadata": {
    "collapsed": false,
    "ExecuteTime": {
     "end_time": "2023-09-11T04:48:54.416942200Z",
     "start_time": "2023-09-11T04:48:54.237900400Z"
    }
   }
  },
  {
   "cell_type": "code",
   "execution_count": 44,
   "outputs": [
    {
     "data": {
      "text/plain": "      machine_id  num_gpus\n0          11446        14\n1          12109        14\n2          12195        14\n3          12129        14\n4          12171        14\n...          ...       ...\n6005       12902         1\n6006       10903         1\n6007       10903         1\n6008        9528         1\n6009       12598         1\n\n[6010 rows x 2 columns]",
      "text/html": "<div>\n<style scoped>\n    .dataframe tbody tr th:only-of-type {\n        vertical-align: middle;\n    }\n\n    .dataframe tbody tr th {\n        vertical-align: top;\n    }\n\n    .dataframe thead th {\n        text-align: right;\n    }\n</style>\n<table border=\"1\" class=\"dataframe\">\n  <thead>\n    <tr style=\"text-align: right;\">\n      <th></th>\n      <th>machine_id</th>\n      <th>num_gpus</th>\n    </tr>\n  </thead>\n  <tbody>\n    <tr>\n      <th>0</th>\n      <td>11446</td>\n      <td>14</td>\n    </tr>\n    <tr>\n      <th>1</th>\n      <td>12109</td>\n      <td>14</td>\n    </tr>\n    <tr>\n      <th>2</th>\n      <td>12195</td>\n      <td>14</td>\n    </tr>\n    <tr>\n      <th>3</th>\n      <td>12129</td>\n      <td>14</td>\n    </tr>\n    <tr>\n      <th>4</th>\n      <td>12171</td>\n      <td>14</td>\n    </tr>\n    <tr>\n      <th>...</th>\n      <td>...</td>\n      <td>...</td>\n    </tr>\n    <tr>\n      <th>6005</th>\n      <td>12902</td>\n      <td>1</td>\n    </tr>\n    <tr>\n      <th>6006</th>\n      <td>10903</td>\n      <td>1</td>\n    </tr>\n    <tr>\n      <th>6007</th>\n      <td>10903</td>\n      <td>1</td>\n    </tr>\n    <tr>\n      <th>6008</th>\n      <td>9528</td>\n      <td>1</td>\n    </tr>\n    <tr>\n      <th>6009</th>\n      <td>12598</td>\n      <td>1</td>\n    </tr>\n  </tbody>\n</table>\n<p>6010 rows × 2 columns</p>\n</div>"
     },
     "execution_count": 44,
     "metadata": {},
     "output_type": "execute_result"
    }
   ],
   "source": [
    "raw[['machine_id', 'num_gpus']]"
   ],
   "metadata": {
    "collapsed": false,
    "ExecuteTime": {
     "end_time": "2023-09-11T04:48:54.549972Z",
     "start_time": "2023-09-11T04:48:54.379933Z"
    }
   }
  },
  {
   "cell_type": "code",
   "execution_count": 44,
   "outputs": [],
   "source": [],
   "metadata": {
    "collapsed": false,
    "ExecuteTime": {
     "end_time": "2023-09-11T04:48:54.549972Z",
     "start_time": "2023-09-11T04:48:54.521964900Z"
    }
   }
  },
  {
   "cell_type": "code",
   "execution_count": 45,
   "outputs": [],
   "source": [
    "import sqlite3\n",
    "\n",
    "# Connect to the database\n",
    "conn = sqlite3.connect('../vast.db')\n",
    "cursor = conn.cursor()\n",
    "\n",
    "# Get list of table names\n",
    "tables = cursor.execute(\"SELECT name FROM sqlite_master WHERE type='table'\").fetchall()\n",
    "\n",
    "# Iterate through tables and check for NULL values\n",
    "for table in tables:\n",
    "    table_name = table[0]\n",
    "\n",
    "    # Get list of column names in the table\n",
    "    columns = cursor.execute(f\"PRAGMA table_info({table_name})\").fetchall()\n",
    "\n",
    "    for column in columns:\n",
    "        column_name = column[1]\n",
    "        query = f\"SELECT * FROM {table_name} WHERE {column_name} IS NULL\"\n",
    "        null_rows = cursor.execute(query).fetchall()\n",
    "        if len(null_rows) > 0:\n",
    "            print(f\"Table '{table_name}', Column '{column_name}' has NULL values.\")\n",
    "\n",
    "# Close the connection\n",
    "conn.close()"
   ],
   "metadata": {
    "collapsed": false,
    "ExecuteTime": {
     "end_time": "2023-09-11T04:48:54.725010300Z",
     "start_time": "2023-09-11T04:48:54.538968700Z"
    }
   }
  },
  {
   "cell_type": "code",
   "execution_count": 46,
   "outputs": [],
   "source": [
    "df = pd.DataFrame()"
   ],
   "metadata": {
    "collapsed": false,
    "ExecuteTime": {
     "end_time": "2023-09-11T04:48:54.822033100Z",
     "start_time": "2023-09-11T04:48:54.681001900Z"
    }
   }
  },
  {
   "cell_type": "code",
   "execution_count": 47,
   "outputs": [
    {
     "name": "stdout",
     "output_type": "stream",
     "text": [
      "Database 'integer_db.sqlite' size: 96.00 KB\n",
      "Database 'integer_non_null_db.sqlite' size: 96.00 KB\n",
      "Database 'real_db.sqlite' size: 156.00 KB\n",
      "Database 'real_non_null_db.sqlite' size: 156.00 KB\n"
     ]
    }
   ],
   "source": [
    "import sqlite3\n",
    "import os\n",
    "import numpy as np\n",
    "\n",
    "DB_PATH = '../data'\n",
    "\n",
    "# Create directories for databases if they don't exist\n",
    "if not os.path.exists(DB_PATH):\n",
    "    os.makedirs(DB_PATH)\n",
    "\n",
    "# Function to create and populate a database with the specified data type and range\n",
    "def create_and_populate_db(db_name, data_type, value_range, size=10000):\n",
    "    db_path = os.path.join(DB_PATH, db_name)\n",
    "\n",
    "    conn = sqlite3.connect(db_path)\n",
    "\n",
    "    conn.execute(f\"CREATE TABLE data (value {data_type})\")\n",
    "\n",
    "\n",
    "    # Generate and insert values within the specified range\n",
    "    values = None\n",
    "    if 'INTEGER' in data_type:\n",
    "        values = np.random.randint(*value_range, size=size)\n",
    "    elif 'REAL' in data_type:\n",
    "        values = np.random.uniform(*value_range, size=size)\n",
    "    else:\n",
    "        raise ValueError('Unknown type')        \n",
    "        \n",
    "    rows = [(value,) for value in values]\n",
    "    \n",
    "    \n",
    "    try:\n",
    "        # print(rows[:3])\n",
    "        # conn.executemany(\"INSERT INTO data (value) VALUES (?)\", rows)\n",
    "\n",
    "        for value in values:\n",
    "            conn.execute(f\"INSERT INTO data (value) VALUES ({value})\")\n",
    "\n",
    "        conn.commit()  \n",
    "        conn.execute(\"VACUUM\")    \n",
    "    \n",
    "    except Exception as e:\n",
    "        print(e)\n",
    "    \n",
    "    conn.close()\n",
    "\n",
    "# delete exiting db's\n",
    "for db_name in [f for f in os.listdir(DB_PATH) if f.endswith('.sqlite')]:\n",
    "    db_path = os.path.join(DB_PATH, db_name)\n",
    "    os.remove(db_path)\n",
    "\n",
    "\n",
    "# Create and populate the databases\n",
    "create_and_populate_db('integer_db.sqlite', 'INTEGER', (0, 1000))  \n",
    "create_and_populate_db('integer_non_null_db.sqlite', 'INTEGER NOT NULL', (0, 1000))\n",
    "create_and_populate_db('real_db.sqlite', 'REAL', (0, 1000))            \n",
    "create_and_populate_db('real_non_null_db.sqlite', 'REAL NOT NULL', (0, 1000))            \n",
    "# Print database sizes\n",
    "for db_name in [f for f in os.listdir(DB_PATH) if f.endswith('.sqlite')]:\n",
    "    db_path = os.path.join(DB_PATH, db_name)\n",
    "    db_size = os.path.getsize(db_path) / (1024)  # Size in KB\n",
    "    print(f\"Database '{db_name}' size: {db_size:.2f} KB\")"
   ],
   "metadata": {
    "collapsed": false,
    "ExecuteTime": {
     "end_time": "2023-09-11T04:48:55.330120400Z",
     "start_time": "2023-09-11T04:48:54.830034400Z"
    }
   }
  },
  {
   "cell_type": "code",
   "execution_count": 47,
   "outputs": [],
   "source": [],
   "metadata": {
    "collapsed": false,
    "ExecuteTime": {
     "end_time": "2023-09-11T04:48:55.375131Z",
     "start_time": "2023-09-11T04:48:55.332122600Z"
    }
   }
  },
  {
   "cell_type": "code",
   "execution_count": 48,
   "outputs": [],
   "source": [
    "import os\n",
    "import psutil"
   ],
   "metadata": {
    "collapsed": false,
    "ExecuteTime": {
     "end_time": "2023-09-11T04:48:55.488530200Z",
     "start_time": "2023-09-11T04:48:55.347124400Z"
    }
   }
  },
  {
   "cell_type": "code",
   "execution_count": 49,
   "outputs": [
    {
     "name": "stdout",
     "output_type": "stream",
     "text": [
      "The CPU usage is :  0.0\n"
     ]
    }
   ],
   "source": [
    "# Getting loadover15 minutes\n",
    "load1, load5, load15 = psutil.getloadavg()\n",
    "\n",
    "cpu_usage = (load15/os.cpu_count()) * 100\n",
    "\n",
    "print(\"The CPU usage is : \", load1)"
   ],
   "metadata": {
    "collapsed": false,
    "ExecuteTime": {
     "end_time": "2023-09-11T04:48:56.224697200Z",
     "start_time": "2023-09-11T04:48:55.490532Z"
    }
   }
  },
  {
   "cell_type": "code",
   "execution_count": 50,
   "outputs": [
    {
     "data": {
      "text/plain": "'AMD64 Family 23 Model 113 Stepping 0, AuthenticAMD'"
     },
     "execution_count": 50,
     "metadata": {},
     "output_type": "execute_result"
    }
   ],
   "source": [
    "import platform\n",
    "platform.processor()"
   ],
   "metadata": {
    "collapsed": false,
    "ExecuteTime": {
     "end_time": "2023-09-11T04:48:56.371729100Z",
     "start_time": "2023-09-11T04:48:56.224697200Z"
    }
   }
  },
  {
   "cell_type": "code",
   "execution_count": 51,
   "outputs": [
    {
     "data": {
      "text/plain": "scpufreq(current=3593.0, min=0.0, max=3593.0)"
     },
     "execution_count": 51,
     "metadata": {},
     "output_type": "execute_result"
    }
   ],
   "source": [
    "psutil.cpu_freq()"
   ],
   "metadata": {
    "collapsed": false,
    "ExecuteTime": {
     "end_time": "2023-09-11T04:48:56.508760300Z",
     "start_time": "2023-09-11T04:48:56.366729100Z"
    }
   }
  },
  {
   "cell_type": "code",
   "execution_count": 52,
   "outputs": [
    {
     "data": {
      "text/plain": "12.2"
     },
     "execution_count": 52,
     "metadata": {},
     "output_type": "execute_result"
    }
   ],
   "source": [
    "psutil.cpu_percent(interval=1)"
   ],
   "metadata": {
    "collapsed": false,
    "ExecuteTime": {
     "end_time": "2023-09-11T04:48:57.665768300Z",
     "start_time": "2023-09-11T04:48:56.508760300Z"
    }
   }
  },
  {
   "cell_type": "code",
   "execution_count": 53,
   "outputs": [
    {
     "data": {
      "text/plain": "24"
     },
     "execution_count": 53,
     "metadata": {},
     "output_type": "execute_result"
    }
   ],
   "source": [
    "os.cpu_count()"
   ],
   "metadata": {
    "collapsed": false,
    "ExecuteTime": {
     "end_time": "2023-09-11T04:48:57.811801100Z",
     "start_time": "2023-09-11T04:48:57.666769800Z"
    }
   }
  },
  {
   "cell_type": "code",
   "execution_count": 53,
   "outputs": [],
   "source": [],
   "metadata": {
    "collapsed": false,
    "ExecuteTime": {
     "end_time": "2023-09-11T04:48:57.852499700Z",
     "start_time": "2023-09-11T04:48:57.808800500Z"
    }
   }
  },
  {
   "cell_type": "code",
   "execution_count": 53,
   "outputs": [],
   "source": [],
   "metadata": {
    "collapsed": false,
    "ExecuteTime": {
     "end_time": "2023-09-11T04:48:57.865504500Z",
     "start_time": "2023-09-11T04:48:57.825805500Z"
    }
   }
  },
  {
   "cell_type": "code",
   "execution_count": 53,
   "outputs": [],
   "source": [],
   "metadata": {
    "collapsed": false,
    "ExecuteTime": {
     "end_time": "2023-09-11T04:48:57.867504500Z",
     "start_time": "2023-09-11T04:48:57.840809100Z"
    }
   }
  },
  {
   "cell_type": "code",
   "execution_count": 53,
   "outputs": [],
   "source": [],
   "metadata": {
    "collapsed": false,
    "ExecuteTime": {
     "end_time": "2023-09-11T04:48:57.885508100Z",
     "start_time": "2023-09-11T04:48:57.855502200Z"
    }
   }
  },
  {
   "cell_type": "code",
   "execution_count": 54,
   "outputs": [
    {
     "ename": "ProgrammingError",
     "evalue": "Cannot operate on a closed database.",
     "output_type": "error",
     "traceback": [
      "\u001B[1;31m---------------------------------------------------------------------------\u001B[0m",
      "\u001B[1;31mProgrammingError\u001B[0m                          Traceback (most recent call last)",
      "Cell \u001B[1;32mIn[54], line 1\u001B[0m\n\u001B[1;32m----> 1\u001B[0m \u001B[43mconn\u001B[49m\u001B[38;5;241;43m.\u001B[39;49m\u001B[43mexecute\u001B[49m\u001B[43m(\u001B[49m\u001B[38;5;124;43m'\u001B[39;49m\u001B[38;5;124;43mCREATE TABLE tmp (id, mid)\u001B[39;49m\u001B[38;5;124;43m'\u001B[39;49m\u001B[43m)\u001B[49m\n",
      "\u001B[1;31mProgrammingError\u001B[0m: Cannot operate on a closed database."
     ]
    }
   ],
   "source": [
    "conn.execute('CREATE TABLE tmp (id, mid)')"
   ],
   "metadata": {
    "collapsed": false,
    "ExecuteTime": {
     "end_time": "2023-09-11T04:48:59.282533400Z",
     "start_time": "2023-09-11T04:48:57.872506900Z"
    }
   }
  },
  {
   "cell_type": "code",
   "execution_count": null,
   "outputs": [],
   "source": [
    "conn.execute('INSERT INTO tmp VALUES (1, 2)').fetchall()\n",
    "# conn.close()"
   ],
   "metadata": {
    "collapsed": false,
    "ExecuteTime": {
     "end_time": "2023-09-11T04:48:59.285534Z",
     "start_time": "2023-09-11T04:48:59.284534400Z"
    }
   }
  },
  {
   "cell_type": "code",
   "execution_count": null,
   "outputs": [],
   "source": [
    "conn.execute('DROP TABLE IF EXISTS map_tbl').fetchall()"
   ],
   "metadata": {
    "collapsed": false,
    "ExecuteTime": {
     "end_time": "2023-09-11T04:48:59.286535500Z",
     "start_time": "2023-09-11T04:48:59.285534Z"
    }
   }
  },
  {
   "cell_type": "code",
   "execution_count": null,
   "outputs": [],
   "source": [
    "conn.commit()\n",
    "get_tables(conn)"
   ],
   "metadata": {
    "collapsed": false,
    "ExecuteTime": {
     "end_time": "2023-09-11T04:48:59.302539400Z",
     "start_time": "2023-09-11T04:48:59.287535600Z"
    }
   }
  },
  {
   "cell_type": "code",
   "execution_count": null,
   "outputs": [],
   "source": [
    "conn.close()"
   ],
   "metadata": {
    "collapsed": false,
    "ExecuteTime": {
     "start_time": "2023-09-11T04:48:59.289534800Z"
    }
   }
  },
  {
   "cell_type": "code",
   "execution_count": null,
   "outputs": [],
   "source": [
    "conn.execute('DROP TABLE IF EXISTS map_tbl')\n",
    "map_tbl = MapTable(\n",
    "    'map_tbl',\n",
    "    'tmp',\n",
    "    ['id', 'mid']\n",
    ")\n",
    "map_tbl.init_db(conn)\n",
    "assert 'map_tbl' in get_tables(conn)\n",
    "info = get_tbl_info('map_tbl', conn)\n",
    "assert info.loc[info.name == 'id', 'pk'].all()\n",
    "assert (info.name == 'mid').any()"
   ],
   "metadata": {
    "collapsed": false,
    "ExecuteTime": {
     "start_time": "2023-09-11T04:48:59.291535400Z"
    }
   }
  },
  {
   "cell_type": "code",
   "execution_count": null,
   "outputs": [],
   "source": [
    "(info.name == 'mid').any()"
   ],
   "metadata": {
    "collapsed": false,
    "ExecuteTime": {
     "start_time": "2023-09-11T04:48:59.293535500Z"
    }
   }
  },
  {
   "cell_type": "code",
   "execution_count": null,
   "outputs": [],
   "source": [
    "all(info.loc[info.name == 'id', 'pk'])"
   ],
   "metadata": {
    "collapsed": false,
    "ExecuteTime": {
     "start_time": "2023-09-11T04:48:59.295536600Z"
    }
   }
  },
  {
   "cell_type": "code",
   "execution_count": null,
   "outputs": [],
   "source": [
    "get_tables(conn)"
   ],
   "metadata": {
    "collapsed": false,
    "ExecuteTime": {
     "start_time": "2023-09-11T04:48:59.297537Z"
    }
   }
  },
  {
   "cell_type": "code",
   "execution_count": null,
   "outputs": [],
   "source": [
    "table_to_df('reliability_ts', conn)"
   ],
   "metadata": {
    "collapsed": false,
    "ExecuteTime": {
     "start_time": "2023-09-11T04:48:59.299538400Z"
    }
   }
  },
  {
   "cell_type": "code",
   "execution_count": null,
   "outputs": [],
   "source": [
    "conn.close()"
   ],
   "metadata": {
    "collapsed": false,
    "ExecuteTime": {
     "start_time": "2023-09-11T04:48:59.301539300Z"
    }
   }
  },
  {
   "cell_type": "code",
   "execution_count": null,
   "outputs": [],
   "source": [
    "machines = get_machines()\n",
    "preprocess(machines)\n",
    "df_to_tmp_table(machines, 'tmp_machines', conn)"
   ],
   "metadata": {
    "collapsed": false,
    "ExecuteTime": {
     "end_time": "2023-09-11T04:48:59.303539100Z",
     "start_time": "2023-09-11T04:48:59.302539400Z"
    }
   }
  },
  {
   "cell_type": "code",
   "execution_count": null,
   "outputs": [],
   "source": [
    "machines.info()"
   ],
   "metadata": {
    "collapsed": false,
    "ExecuteTime": {
     "start_time": "2023-09-11T04:48:59.304538300Z"
    }
   }
  },
  {
   "cell_type": "code",
   "execution_count": null,
   "outputs": [],
   "source": [
    "table.init_db(conn)"
   ],
   "metadata": {
    "collapsed": false,
    "ExecuteTime": {
     "start_time": "2023-09-11T04:48:59.306539700Z"
    }
   }
  },
  {
   "cell_type": "code",
   "execution_count": null,
   "outputs": [],
   "source": [
    "conn = sqlite3.connect('../data/vast.db')"
   ],
   "metadata": {
    "collapsed": false,
    "ExecuteTime": {
     "end_time": "2023-09-11T04:48:59.339546400Z",
     "start_time": "2023-09-11T04:48:59.308540500Z"
    }
   }
  },
  {
   "cell_type": "code",
   "execution_count": null,
   "outputs": [],
   "source": [
    "df = table_to_df('rent_ts', conn)"
   ],
   "metadata": {
    "collapsed": false,
    "ExecuteTime": {
     "start_time": "2023-09-11T04:48:59.309540500Z"
    }
   }
  },
  {
   "cell_type": "code",
   "execution_count": null,
   "outputs": [],
   "source": [
    "df['date'] = (df.timestamp * 1e9).apply(pd.to_datetime)"
   ],
   "metadata": {
    "collapsed": false,
    "ExecuteTime": {
     "start_time": "2023-09-11T04:48:59.311540100Z"
    }
   }
  },
  {
   "cell_type": "code",
   "execution_count": null,
   "outputs": [],
   "source": [
    "df[df.machine_id == 8506]"
   ],
   "metadata": {
    "collapsed": false,
    "ExecuteTime": {
     "start_time": "2023-09-11T04:48:59.312540300Z"
    }
   }
  },
  {
   "cell_type": "code",
   "execution_count": null,
   "outputs": [],
   "source": [
    "\n",
    "sns.lineplot(df.query('machine_id == 8506'), x='date', y='rented');\n",
    "plt.xticks(rotation=90);"
   ],
   "metadata": {
    "collapsed": false,
    "ExecuteTime": {
     "start_time": "2023-09-11T04:48:59.313540500Z"
    }
   }
  }
 ],
 "metadata": {
  "kernelspec": {
   "display_name": "Python 3",
   "language": "python",
   "name": "python3"
  },
  "language_info": {
   "codemirror_mode": {
    "name": "ipython",
    "version": 2
   },
   "file_extension": ".py",
   "mimetype": "text/x-python",
   "name": "python",
   "nbconvert_exporter": "python",
   "pygments_lexer": "ipython2",
   "version": "2.7.6"
  }
 },
 "nbformat": 4,
 "nbformat_minor": 0
}
