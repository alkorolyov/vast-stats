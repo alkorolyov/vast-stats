{
 "cells": [
  {
   "cell_type": "code",
   "source": [
    "%load_ext autoreload\n",
    "%autoreload 2"
   ],
   "metadata": {
    "collapsed": false,
    "ExecuteTime": {
     "end_time": "2024-04-20T07:39:27.549727Z",
     "start_time": "2024-04-20T07:39:27.327727Z"
    }
   },
   "outputs": [],
   "execution_count": 1
  },
  {
   "cell_type": "code",
   "metadata": {
    "collapsed": true,
    "ExecuteTime": {
     "end_time": "2024-04-20T07:39:27.931727Z",
     "start_time": "2024-04-20T07:39:27.551727Z"
    }
   },
   "source": [
    "import sqlite3\n",
    "import gzip\n",
    "import numpy as np\n",
    "import pandas as pd\n",
    "from src.tables_old import MapTable, df_to_tmp_table, df_to_table, get_machines, get_offers, get_tables, get_tbl_info, table_to_df, get_tbl_timespan\n",
    "from src.preprocess import preprocess\n",
    "from src.utils import  time_utc_now, np_min_chunk, df_na_vals, reduce_mem_usage\n",
    "import seaborn as sns\n",
    "import matplotlib.pyplot as plt\n",
    "import logging\n",
    "\n",
    "import warnings\n",
    "\n",
    "# Filter out all warnings related to pandas\n",
    "warnings.filterwarnings(\"ignore\", category=FutureWarning)\n",
    "warnings.filterwarnings(\"ignore\", category=DeprecationWarning)"
   ],
   "outputs": [],
   "execution_count": 2
  },
  {
   "metadata": {
    "ExecuteTime": {
     "end_time": "2024-04-20T07:39:28.167727Z",
     "start_time": "2024-04-20T07:39:27.932727Z"
    }
   },
   "cell_type": "code",
   "source": [
    "import sqlite3\n",
    "import json\n",
    "\n",
    "db_path = '../vast.db'\n",
    "\n",
    "def query_db(query, args=(), one=False):\n",
    "    \n",
    "    # Connect to the SQLite database\n",
    "    conn = sqlite3.connect(db_path)\n",
    "    cursor = conn.cursor()\n",
    "    \n",
    "    # Execute your query     \n",
    "    # Fetch all rows from the result set\n",
    "    rows = cursor.execute(query).fetchall()\n",
    "\n",
    "    # rows = cursor.fetchall()\n",
    "\n",
    "    # Convert rows to a list of dictionaries\n",
    "    result = []\n",
    "    for row in rows:\n",
    "        result.append(dict(zip([column[0] for column in cursor.description], row)))\n",
    "    \n",
    "    # Serialize the result to JSON\n",
    "    json_data = json.dumps(result).encode('utf-8')\n",
    "    \n",
    "    # Close the cursor and the connection\n",
    "    cursor.close()\n",
    "    conn.close()\n",
    "    \n",
    "    return json_data"
   ],
   "outputs": [],
   "execution_count": 3
  },
  {
   "metadata": {
    "ExecuteTime": {
     "end_time": "2024-04-11T06:30:20.531742Z",
     "start_time": "2024-04-11T06:30:14.876741Z"
    }
   },
   "cell_type": "code",
   "source": [
    "conn = sqlite3.connect(db_path)\n",
    "data = pd.read_sql_query('SELECT * FROM reliability_ts WHERE machine_id=14326', conn).to_json(orient='records').encode('utf-8')\n",
    "%timeit gzip.compress(data, compresslevel=9)\n",
    "compressed_data = gzip.compress(data, compresslevel=1)\n",
    "print((len(compressed_data) / len(data)) * 100)\n",
    "conn.close()"
   ],
   "outputs": [
    {
     "name": "stdout",
     "output_type": "stream",
     "text": [
      "5.98 ms ± 149 µs per loop (mean ± std. dev. of 7 runs, 100 loops each)\n",
      "12.162065410390056\n"
     ]
    }
   ],
   "execution_count": 24
  },
  {
   "metadata": {
    "ExecuteTime": {
     "end_time": "2024-04-11T06:09:53.235122Z",
     "start_time": "2024-04-11T06:09:52.455476Z"
    }
   },
   "cell_type": "code",
   "source": "query_db('SELECT * FROM reliability_ts WHERE machine_id=12630')[:100]",
   "outputs": [
    {
     "data": {
      "text/plain": [
       "b'[{\"machine_id\": 12630, \"reliability\": 9877, \"timestamp\": 1705811014}, {\"machine_id\": 12630, \"reliabi'"
      ]
     },
     "execution_count": 2,
     "metadata": {},
     "output_type": "execute_result"
    }
   ],
   "execution_count": 2
  },
  {
   "cell_type": "code",
   "source": [
    "from src.manager import DbManager\n",
    "\n",
    "# dbm = DbManager('../data/vast.db')\n",
    "dbm = DbManager('../vast.db')\n",
    "\n",
    "dbm.connect()\n",
    "ts = dbm.table_to_df('ts_idx').timestamp\n",
    "dbm.close()\n",
    "\n",
    "sec = pd.to_datetime(ts * 1e9).diff().dt.seconds\n",
    "sec.describe()\n",
    "\n",
    "# sec"
   ],
   "metadata": {
    "collapsed": false,
    "ExecuteTime": {
     "end_time": "2024-04-20T07:39:33.474595Z",
     "start_time": "2024-04-20T07:39:31.945598Z"
    }
   },
   "outputs": [
    {
     "data": {
      "text/plain": [
       "count    142826.000000\n",
       "mean         60.128590\n",
       "std         282.391361\n",
       "min           1.000000\n",
       "25%          54.000000\n",
       "50%          56.000000\n",
       "75%          59.000000\n",
       "max       84261.000000\n",
       "Name: timestamp, dtype: float64"
      ]
     },
     "execution_count": 4,
     "metadata": {},
     "output_type": "execute_result"
    }
   ],
   "execution_count": 4
  },
  {
   "cell_type": "code",
   "source": [
    "import seaborn as sns\n",
    "print('Mode:', sec.mode()[0])\n",
    "sns.histplot(sec[sec < 200], bins=100);\n",
    "plt.yscale('log');"
   ],
   "metadata": {
    "collapsed": false,
    "ExecuteTime": {
     "end_time": "2024-04-20T07:39:36.549595Z",
     "start_time": "2024-04-20T07:39:35.393597Z"
    }
   },
   "outputs": [
    {
     "name": "stdout",
     "output_type": "stream",
     "text": [
      "Mode: 54.0\n"
     ]
    },
    {
     "data": {
      "text/plain": [
       "<Figure size 640x480 with 1 Axes>"
      ],
      "image/png": "[encoded data removed]"
     },
     "metadata": {},
     "output_type": "display_data"
    }
   ],
   "execution_count": 5
  },
  {
   "cell_type": "code",
   "source": [
    "dbm.close()"
   ],
   "metadata": {
    "collapsed": false,
    "ExecuteTime": {
     "end_time": "2024-04-20T07:39:39.535507Z",
     "start_time": "2024-04-20T07:39:39.309507Z"
    }
   },
   "outputs": [],
   "execution_count": 6
  },
  {
   "cell_type": "code",
   "source": [
    "import sqlite3\n",
    "import os\n",
    "import pandas as pd\n",
    "from src.manager import DbManager\n",
    "\n",
    "# db_path = '../data/vast.db'\n",
    "db_path = '../vast.db'\n",
    "\n",
    "dbm = DbManager(db_path)\n",
    "dbm.connect()\n",
    "timespan = dbm.get_tbl_timespan('ts_idx')\n",
    "total_days = timespan.total_seconds() / (3600 * 24)\n",
    "\n",
    "print('Timespan:', timespan)\n",
    "\n",
    "# dbm.execute('VACUUM')\n",
    "size = os.path.getsize(db_path) / (1024 * 1024) # Size in Mb\n",
    "\n",
    "try:\n",
    "    print(f'Size: {size: .2f} mb')\n",
    "    print(f'Size per day: {size / total_days: .2f} mb')\n",
    "    print(f'Size per year: {size / total_days * 365: .0f} mb')\n",
    "except:\n",
    "    pass\n",
    "\n",
    "dbm.close()"
   ],
   "metadata": {
    "collapsed": false,
    "ExecuteTime": {
     "end_time": "2024-04-20T07:40:53.544270Z",
     "start_time": "2024-04-20T07:40:53.309272Z"
    }
   },
   "outputs": [
    {
     "name": "stdout",
     "output_type": "stream",
     "text": [
      "Timespan: 171 days 09:32:06\n",
      "Size:  741.16 mb\n",
      "Size per day:  4.32 mb\n",
      "Size per year:  1578 mb\n"
     ]
    }
   ],
   "execution_count": 9
  },
  {
   "cell_type": "code",
   "source": [
    "dbm.connect()\n",
    "dbm.get_db_stats()"
   ],
   "metadata": {
    "collapsed": false,
    "ExecuteTime": {
     "end_time": "2024-04-20T07:41:01.042351Z",
     "start_time": "2024-04-20T07:40:57.218968Z"
    }
   },
   "outputs": [
    {
     "data": {
      "text/plain": [
       "                          name   pages    size  percentage\n",
       "0                        total  240455  939.28      100.00\n",
       "1                      avg_snp   82213  321.14       34.19\n",
       "2               reliability_ts   58467  228.39       24.32\n",
       "3        idx_machine_timestamp   50686  197.99       21.08\n",
       "4                      cost_ts    7481   29.22        3.11\n",
       "5                      rent_ts    6236   24.36        2.59\n",
       "6   idx_machine_timestamp_rent    6020   23.52        2.50\n",
       "7                    online_ts    5977   23.35        2.49\n",
       "8                       avg_ts    5799   22.65        2.41\n",
       "9                      disk_ts    4626   18.07        1.92\n",
       "10                      eod_ts    4587   17.92        1.91\n",
       "11  idx_machine_timestamp_cost    4110   16.05        1.71\n",
       "12                 hardware_ts    3365   13.14        1.40\n",
       "13                      ts_idx     352    1.38        0.15\n",
       "14                hardware_snp     161    0.63        0.07\n",
       "15                  cpu_ram_ts      94    0.37        0.04\n",
       "16                     eod_snp      98    0.38        0.04\n",
       "17                    cost_snp      42    0.16        0.02\n",
       "18            machine_host_map      23    0.09        0.01\n",
       "19                  online_snp      28    0.11        0.01\n",
       "20                 cpu_ram_snp      21    0.08        0.01\n",
       "21                    disk_snp      22    0.09        0.01\n",
       "22             reliability_snp      22    0.09        0.01\n",
       "23                    rent_snp      22    0.09        0.01\n",
       "24               sqlite_schema       3    0.01        0.00"
      ],
      "text/html": [
       "<div>\n",
       "<style scoped>\n",
       "    .dataframe tbody tr th:only-of-type {\n",
       "        vertical-align: middle;\n",
       "    }\n",
       "\n",
       "    .dataframe tbody tr th {\n",
       "        vertical-align: top;\n",
       "    }\n",
       "\n",
       "    .dataframe thead th {\n",
       "        text-align: right;\n",
       "    }\n",
       "</style>\n",
       "<table border=\"1\" class=\"dataframe\">\n",
       "  <thead>\n",
       "    <tr style=\"text-align: right;\">\n",
       "      <th></th>\n",
       "      <th>name</th>\n",
       "      <th>pages</th>\n",
       "      <th>size</th>\n",
       "      <th>percentage</th>\n",
       "    </tr>\n",
       "  </thead>\n",
       "  <tbody>\n",
       "    <tr>\n",
       "      <th>0</th>\n",
       "      <td>total</td>\n",
       "      <td>240455</td>\n",
       "      <td>939.28</td>\n",
       "      <td>100.00</td>\n",
       "    </tr>\n",
       "    <tr>\n",
       "      <th>1</th>\n",
       "      <td>avg_snp</td>\n",
       "      <td>82213</td>\n",
       "      <td>321.14</td>\n",
       "      <td>34.19</td>\n",
       "    </tr>\n",
       "    <tr>\n",
       "      <th>2</th>\n",
       "      <td>reliability_ts</td>\n",
       "      <td>58467</td>\n",
       "      <td>228.39</td>\n",
       "      <td>24.32</td>\n",
       "    </tr>\n",
       "    <tr>\n",
       "      <th>3</th>\n",
       "      <td>idx_machine_timestamp</td>\n",
       "      <td>50686</td>\n",
       "      <td>197.99</td>\n",
       "      <td>21.08</td>\n",
       "    </tr>\n",
       "    <tr>\n",
       "      <th>4</th>\n",
       "      <td>cost_ts</td>\n",
       "      <td>7481</td>\n",
       "      <td>29.22</td>\n",
       "      <td>3.11</td>\n",
       "    </tr>\n",
       "    <tr>\n",
       "      <th>5</th>\n",
       "      <td>rent_ts</td>\n",
       "      <td>6236</td>\n",
       "      <td>24.36</td>\n",
       "      <td>2.59</td>\n",
       "    </tr>\n",
       "    <tr>\n",
       "      <th>6</th>\n",
       "      <td>idx_machine_timestamp_rent</td>\n",
       "      <td>6020</td>\n",
       "      <td>23.52</td>\n",
       "      <td>2.50</td>\n",
       "    </tr>\n",
       "    <tr>\n",
       "      <th>7</th>\n",
       "      <td>online_ts</td>\n",
       "      <td>5977</td>\n",
       "      <td>23.35</td>\n",
       "      <td>2.49</td>\n",
       "    </tr>\n",
       "    <tr>\n",
       "      <th>8</th>\n",
       "      <td>avg_ts</td>\n",
       "      <td>5799</td>\n",
       "      <td>22.65</td>\n",
       "      <td>2.41</td>\n",
       "    </tr>\n",
       "    <tr>\n",
       "      <th>9</th>\n",
       "      <td>disk_ts</td>\n",
       "      <td>4626</td>\n",
       "      <td>18.07</td>\n",
       "      <td>1.92</td>\n",
       "    </tr>\n",
       "    <tr>\n",
       "      <th>10</th>\n",
       "      <td>eod_ts</td>\n",
       "      <td>4587</td>\n",
       "      <td>17.92</td>\n",
       "      <td>1.91</td>\n",
       "    </tr>\n",
       "    <tr>\n",
       "      <th>11</th>\n",
       "      <td>idx_machine_timestamp_cost</td>\n",
       "      <td>4110</td>\n",
       "      <td>16.05</td>\n",
       "      <td>1.71</td>\n",
       "    </tr>\n",
       "    <tr>\n",
       "      <th>12</th>\n",
       "      <td>hardware_ts</td>\n",
       "      <td>3365</td>\n",
       "      <td>13.14</td>\n",
       "      <td>1.40</td>\n",
       "    </tr>\n",
       "    <tr>\n",
       "      <th>13</th>\n",
       "      <td>ts_idx</td>\n",
       "      <td>352</td>\n",
       "      <td>1.38</td>\n",
       "      <td>0.15</td>\n",
       "    </tr>\n",
       "    <tr>\n",
       "      <th>14</th>\n",
       "      <td>hardware_snp</td>\n",
       "      <td>161</td>\n",
       "      <td>0.63</td>\n",
       "      <td>0.07</td>\n",
       "    </tr>\n",
       "    <tr>\n",
       "      <th>15</th>\n",
       "      <td>cpu_ram_ts</td>\n",
       "      <td>94</td>\n",
       "      <td>0.37</td>\n",
       "      <td>0.04</td>\n",
       "    </tr>\n",
       "    <tr>\n",
       "      <th>16</th>\n",
       "      <td>eod_snp</td>\n",
       "      <td>98</td>\n",
       "      <td>0.38</td>\n",
       "      <td>0.04</td>\n",
       "    </tr>\n",
       "    <tr>\n",
       "      <th>17</th>\n",
       "      <td>cost_snp</td>\n",
       "      <td>42</td>\n",
       "      <td>0.16</td>\n",
       "      <td>0.02</td>\n",
       "    </tr>\n",
       "    <tr>\n",
       "      <th>18</th>\n",
       "      <td>machine_host_map</td>\n",
       "      <td>23</td>\n",
       "      <td>0.09</td>\n",
       "      <td>0.01</td>\n",
       "    </tr>\n",
       "    <tr>\n",
       "      <th>19</th>\n",
       "      <td>online_snp</td>\n",
       "      <td>28</td>\n",
       "      <td>0.11</td>\n",
       "      <td>0.01</td>\n",
       "    </tr>\n",
       "    <tr>\n",
       "      <th>20</th>\n",
       "      <td>cpu_ram_snp</td>\n",
       "      <td>21</td>\n",
       "      <td>0.08</td>\n",
       "      <td>0.01</td>\n",
       "    </tr>\n",
       "    <tr>\n",
       "      <th>21</th>\n",
       "      <td>disk_snp</td>\n",
       "      <td>22</td>\n",
       "      <td>0.09</td>\n",
       "      <td>0.01</td>\n",
       "    </tr>\n",
       "    <tr>\n",
       "      <th>22</th>\n",
       "      <td>reliability_snp</td>\n",
       "      <td>22</td>\n",
       "      <td>0.09</td>\n",
       "      <td>0.01</td>\n",
       "    </tr>\n",
       "    <tr>\n",
       "      <th>23</th>\n",
       "      <td>rent_snp</td>\n",
       "      <td>22</td>\n",
       "      <td>0.09</td>\n",
       "      <td>0.01</td>\n",
       "    </tr>\n",
       "    <tr>\n",
       "      <th>24</th>\n",
       "      <td>sqlite_schema</td>\n",
       "      <td>3</td>\n",
       "      <td>0.01</td>\n",
       "      <td>0.00</td>\n",
       "    </tr>\n",
       "  </tbody>\n",
       "</table>\n",
       "</div>"
      ]
     },
     "execution_count": 10,
     "metadata": {},
     "output_type": "execute_result"
    }
   ],
   "execution_count": 10
  },
  {
   "cell_type": "code",
   "source": [
    "dbm.close()"
   ],
   "metadata": {
    "collapsed": false,
    "ExecuteTime": {
     "end_time": "2024-04-20T07:41:01.282352Z",
     "start_time": "2024-04-20T07:41:01.045351Z"
    }
   },
   "outputs": [],
   "execution_count": 11
  },
  {
   "cell_type": "code",
   "source": [
    "dbm.get_tbl_timespan('ts_idx')"
   ],
   "metadata": {
    "collapsed": false,
    "ExecuteTime": {
     "end_time": "2024-04-06T07:30:51.349807Z",
     "start_time": "2024-04-06T07:30:51.334535Z"
    }
   },
   "outputs": [
    {
     "data": {
      "text/plain": [
       "Timedelta('168 days 03:28:47')"
      ]
     },
     "execution_count": 11,
     "metadata": {},
     "output_type": "execute_result"
    }
   ],
   "execution_count": 11
  },
  {
   "metadata": {
    "ExecuteTime": {
     "end_time": "2024-04-07T10:56:52.865742Z",
     "start_time": "2024-04-07T10:56:52.722742Z"
    }
   },
   "cell_type": "code",
   "source": "",
   "outputs": [],
   "execution_count": 10
  },
  {
   "cell_type": "code",
   "source": [
    "dbm.connect()\n",
    "df = pd.read_sql('SELECT * FROM reliability_ts WHERE machine_id=12630', con=dbm.conn)\n",
    "dbm.close()\n",
    "df"
   ],
   "metadata": {
    "collapsed": false,
    "ExecuteTime": {
     "end_time": "2024-04-07T11:01:21.730406Z",
     "start_time": "2024-04-07T11:01:20.806411Z"
    }
   },
   "outputs": [
    {
     "data": {
      "text/plain": [
       "     machine_id  reliability   timestamp\n",
       "0         12630         9877  1705811014\n",
       "1         12630         9878  1705877388\n",
       "2         12630         9879  1705997407\n",
       "3         12630         9880  1706008409\n",
       "4         12630         9881  1706021668\n",
       "..          ...          ...         ...\n",
       "190       12630         7021  1712222211\n",
       "191       12630         8357  1712222372\n",
       "192       12630         7021  1712222425\n",
       "193       12630         8357  1712222533\n",
       "194       12630         9400  1712226353\n",
       "\n",
       "[195 rows x 3 columns]"
      ],
      "text/html": [
       "<div>\n",
       "<style scoped>\n",
       "    .dataframe tbody tr th:only-of-type {\n",
       "        vertical-align: middle;\n",
       "    }\n",
       "\n",
       "    .dataframe tbody tr th {\n",
       "        vertical-align: top;\n",
       "    }\n",
       "\n",
       "    .dataframe thead th {\n",
       "        text-align: right;\n",
       "    }\n",
       "</style>\n",
       "<table border=\"1\" class=\"dataframe\">\n",
       "  <thead>\n",
       "    <tr style=\"text-align: right;\">\n",
       "      <th></th>\n",
       "      <th>machine_id</th>\n",
       "      <th>reliability</th>\n",
       "      <th>timestamp</th>\n",
       "    </tr>\n",
       "  </thead>\n",
       "  <tbody>\n",
       "    <tr>\n",
       "      <th>0</th>\n",
       "      <td>12630</td>\n",
       "      <td>9877</td>\n",
       "      <td>1705811014</td>\n",
       "    </tr>\n",
       "    <tr>\n",
       "      <th>1</th>\n",
       "      <td>12630</td>\n",
       "      <td>9878</td>\n",
       "      <td>1705877388</td>\n",
       "    </tr>\n",
       "    <tr>\n",
       "      <th>2</th>\n",
       "      <td>12630</td>\n",
       "      <td>9879</td>\n",
       "      <td>1705997407</td>\n",
       "    </tr>\n",
       "    <tr>\n",
       "      <th>3</th>\n",
       "      <td>12630</td>\n",
       "      <td>9880</td>\n",
       "      <td>1706008409</td>\n",
       "    </tr>\n",
       "    <tr>\n",
       "      <th>4</th>\n",
       "      <td>12630</td>\n",
       "      <td>9881</td>\n",
       "      <td>1706021668</td>\n",
       "    </tr>\n",
       "    <tr>\n",
       "      <th>...</th>\n",
       "      <td>...</td>\n",
       "      <td>...</td>\n",
       "      <td>...</td>\n",
       "    </tr>\n",
       "    <tr>\n",
       "      <th>190</th>\n",
       "      <td>12630</td>\n",
       "      <td>7021</td>\n",
       "      <td>1712222211</td>\n",
       "    </tr>\n",
       "    <tr>\n",
       "      <th>191</th>\n",
       "      <td>12630</td>\n",
       "      <td>8357</td>\n",
       "      <td>1712222372</td>\n",
       "    </tr>\n",
       "    <tr>\n",
       "      <th>192</th>\n",
       "      <td>12630</td>\n",
       "      <td>7021</td>\n",
       "      <td>1712222425</td>\n",
       "    </tr>\n",
       "    <tr>\n",
       "      <th>193</th>\n",
       "      <td>12630</td>\n",
       "      <td>8357</td>\n",
       "      <td>1712222533</td>\n",
       "    </tr>\n",
       "    <tr>\n",
       "      <th>194</th>\n",
       "      <td>12630</td>\n",
       "      <td>9400</td>\n",
       "      <td>1712226353</td>\n",
       "    </tr>\n",
       "  </tbody>\n",
       "</table>\n",
       "<p>195 rows × 3 columns</p>\n",
       "</div>"
      ]
     },
     "execution_count": 25,
     "metadata": {},
     "output_type": "execute_result"
    }
   ],
   "execution_count": 25
  },
  {
   "metadata": {
    "ExecuteTime": {
     "end_time": "2024-04-07T11:32:11.524445Z",
     "start_time": "2024-04-07T11:32:11.388443Z"
    }
   },
   "cell_type": "code",
   "source": [
    "# df.set_index(pd.to_datetime(df.timestamp * 1e9), inplace=True)\n",
    "# df"
   ],
   "outputs": [],
   "execution_count": 45
  },
  {
   "metadata": {
    "ExecuteTime": {
     "end_time": "2024-04-07T16:44:02.321677Z",
     "start_time": "2024-04-07T16:44:01.023677Z"
    }
   },
   "cell_type": "code",
   "source": [
    "machine_id = 8506\n",
    "# machine_id = 12630\n",
    "\n",
    "dbm.connect()\n",
    "df1 = pd.read_sql(\n",
    "    f'SELECT * FROM reliability_ts WHERE machine_id={machine_id}', con=dbm.conn,\n",
    "    # index_col='timestamp'\n",
    ")\n",
    "df2 = pd.read_sql(\n",
    "    f'SELECT * FROM rent_ts WHERE machine_id={machine_id}', con=dbm.conn,\n",
    "    # index_col='timestamp'    \n",
    ")\n",
    "ts = pd.read_sql(\n",
    "    'SELECT * FROM ts_idx', con=dbm.conn,\n",
    ")\n",
    "\n",
    "df3 = pd.read_sql(\n",
    "    f'SELECT dph_base,timestamp,machine_id FROM cost_ts WHERE machine_id={machine_id}', con=dbm.conn,\n",
    "    # index_col='timestamp'\n",
    ")\n",
    "\n",
    "df1.drop(columns=['machine_id'], inplace=True)\n",
    "df2.drop(columns=['machine_id'], inplace=True)\n",
    "df3.drop(columns=['machine_id'], inplace=True)\n",
    "\n",
    "dbm.close()\n",
    "\n",
    "df = pd.merge(ts, df1, how='left', on='timestamp').fillna(method='ffill')\n",
    "df.dropna(subset=['reliability'], inplace=True)\n",
    "df = pd.merge(df, df2, how='left', on='timestamp').fillna(method='ffill')\n",
    "df = pd.merge(df, df3, how='left', on='timestamp').fillna(method='ffill')\n",
    "\n",
    "df.reliability = df.reliability.astype('int')\n",
    "df.num_gpus_rented = df.num_gpus_rented.astype('int')\n",
    "df.dph_base = df.dph_base.astype('int')\n",
    "df.drop_duplicates(subset=['reliability', 'num_gpus_rented', 'dph_base'], inplace=True)\n",
    "df.timestamp = pd.to_datetime(df.timestamp, unit='s')\n",
    "df"
   ],
   "outputs": [
    {
     "data": {
      "text/plain": [
       "                timestamp  reliability  num_gpus_rented  dph_base\n",
       "0     2023-10-19 07:04:30         9988                4      2200\n",
       "7909  2023-10-24 08:00:40         9989                4      2200\n",
       "13737 2023-10-28 02:24:51         9989                0      2200\n",
       "26478 2023-11-05 09:58:10         9989                0      2400\n",
       "26479 2023-11-05 09:59:06         9989                4      2400\n",
       "...                   ...          ...              ...       ...\n",
       "58109 2023-11-26 09:51:59         9987                4      2000\n",
       "58126 2023-11-26 10:07:28         9988                4      2000\n",
       "58160 2023-11-26 10:39:41         9989                4      2000\n",
       "66953 2023-12-11 11:12:44         9991                4      4000\n",
       "67113 2023-12-11 13:53:26         9991                0      4000\n",
       "\n",
       "[125 rows x 4 columns]"
      ],
      "text/html": [
       "<div>\n",
       "<style scoped>\n",
       "    .dataframe tbody tr th:only-of-type {\n",
       "        vertical-align: middle;\n",
       "    }\n",
       "\n",
       "    .dataframe tbody tr th {\n",
       "        vertical-align: top;\n",
       "    }\n",
       "\n",
       "    .dataframe thead th {\n",
       "        text-align: right;\n",
       "    }\n",
       "</style>\n",
       "<table border=\"1\" class=\"dataframe\">\n",
       "  <thead>\n",
       "    <tr style=\"text-align: right;\">\n",
       "      <th></th>\n",
       "      <th>timestamp</th>\n",
       "      <th>reliability</th>\n",
       "      <th>num_gpus_rented</th>\n",
       "      <th>dph_base</th>\n",
       "    </tr>\n",
       "  </thead>\n",
       "  <tbody>\n",
       "    <tr>\n",
       "      <th>0</th>\n",
       "      <td>2023-10-19 07:04:30</td>\n",
       "      <td>9988</td>\n",
       "      <td>4</td>\n",
       "      <td>2200</td>\n",
       "    </tr>\n",
       "    <tr>\n",
       "      <th>7909</th>\n",
       "      <td>2023-10-24 08:00:40</td>\n",
       "      <td>9989</td>\n",
       "      <td>4</td>\n",
       "      <td>2200</td>\n",
       "    </tr>\n",
       "    <tr>\n",
       "      <th>13737</th>\n",
       "      <td>2023-10-28 02:24:51</td>\n",
       "      <td>9989</td>\n",
       "      <td>0</td>\n",
       "      <td>2200</td>\n",
       "    </tr>\n",
       "    <tr>\n",
       "      <th>26478</th>\n",
       "      <td>2023-11-05 09:58:10</td>\n",
       "      <td>9989</td>\n",
       "      <td>0</td>\n",
       "      <td>2400</td>\n",
       "    </tr>\n",
       "    <tr>\n",
       "      <th>26479</th>\n",
       "      <td>2023-11-05 09:59:06</td>\n",
       "      <td>9989</td>\n",
       "      <td>4</td>\n",
       "      <td>2400</td>\n",
       "    </tr>\n",
       "    <tr>\n",
       "      <th>...</th>\n",
       "      <td>...</td>\n",
       "      <td>...</td>\n",
       "      <td>...</td>\n",
       "      <td>...</td>\n",
       "    </tr>\n",
       "    <tr>\n",
       "      <th>58109</th>\n",
       "      <td>2023-11-26 09:51:59</td>\n",
       "      <td>9987</td>\n",
       "      <td>4</td>\n",
       "      <td>2000</td>\n",
       "    </tr>\n",
       "    <tr>\n",
       "      <th>58126</th>\n",
       "      <td>2023-11-26 10:07:28</td>\n",
       "      <td>9988</td>\n",
       "      <td>4</td>\n",
       "      <td>2000</td>\n",
       "    </tr>\n",
       "    <tr>\n",
       "      <th>58160</th>\n",
       "      <td>2023-11-26 10:39:41</td>\n",
       "      <td>9989</td>\n",
       "      <td>4</td>\n",
       "      <td>2000</td>\n",
       "    </tr>\n",
       "    <tr>\n",
       "      <th>66953</th>\n",
       "      <td>2023-12-11 11:12:44</td>\n",
       "      <td>9991</td>\n",
       "      <td>4</td>\n",
       "      <td>4000</td>\n",
       "    </tr>\n",
       "    <tr>\n",
       "      <th>67113</th>\n",
       "      <td>2023-12-11 13:53:26</td>\n",
       "      <td>9991</td>\n",
       "      <td>0</td>\n",
       "      <td>4000</td>\n",
       "    </tr>\n",
       "  </tbody>\n",
       "</table>\n",
       "<p>125 rows × 4 columns</p>\n",
       "</div>"
      ]
     },
     "execution_count": 86,
     "metadata": {},
     "output_type": "execute_result"
    }
   ],
   "execution_count": 86
  },
  {
   "metadata": {
    "ExecuteTime": {
     "end_time": "2024-04-07T11:52:15.134087Z",
     "start_time": "2024-04-07T11:52:15.001088Z"
    }
   },
   "cell_type": "code",
   "source": [
    "df.timestamp = pd.to_datetime(df.timestamp, unit='s')\n",
    "df"
   ],
   "outputs": [
    {
     "data": {
      "text/plain": [
       "                timestamp  reliability  num_gpus_rented\n",
       "0     2024-01-21 04:23:34         9877                0\n",
       "1063  2024-01-21 22:49:48         9878                0\n",
       "1985  2024-01-22 15:24:33         9878                1\n",
       "2946  2024-01-23 08:10:07         9879                1\n",
       "3000  2024-01-23 09:09:11         9879                0\n",
       "...                   ...          ...              ...\n",
       "52100 2024-04-04 06:12:47         7050                1\n",
       "52168 2024-04-04 07:18:22         7032                1\n",
       "52228 2024-04-04 08:18:32         7021                1\n",
       "52286 2024-04-04 09:13:03         8357                1\n",
       "52360 2024-04-04 10:25:53         9400                1\n",
       "\n",
       "[123 rows x 3 columns]"
      ],
      "text/html": [
       "<div>\n",
       "<style scoped>\n",
       "    .dataframe tbody tr th:only-of-type {\n",
       "        vertical-align: middle;\n",
       "    }\n",
       "\n",
       "    .dataframe tbody tr th {\n",
       "        vertical-align: top;\n",
       "    }\n",
       "\n",
       "    .dataframe thead th {\n",
       "        text-align: right;\n",
       "    }\n",
       "</style>\n",
       "<table border=\"1\" class=\"dataframe\">\n",
       "  <thead>\n",
       "    <tr style=\"text-align: right;\">\n",
       "      <th></th>\n",
       "      <th>timestamp</th>\n",
       "      <th>reliability</th>\n",
       "      <th>num_gpus_rented</th>\n",
       "    </tr>\n",
       "  </thead>\n",
       "  <tbody>\n",
       "    <tr>\n",
       "      <th>0</th>\n",
       "      <td>2024-01-21 04:23:34</td>\n",
       "      <td>9877</td>\n",
       "      <td>0</td>\n",
       "    </tr>\n",
       "    <tr>\n",
       "      <th>1063</th>\n",
       "      <td>2024-01-21 22:49:48</td>\n",
       "      <td>9878</td>\n",
       "      <td>0</td>\n",
       "    </tr>\n",
       "    <tr>\n",
       "      <th>1985</th>\n",
       "      <td>2024-01-22 15:24:33</td>\n",
       "      <td>9878</td>\n",
       "      <td>1</td>\n",
       "    </tr>\n",
       "    <tr>\n",
       "      <th>2946</th>\n",
       "      <td>2024-01-23 08:10:07</td>\n",
       "      <td>9879</td>\n",
       "      <td>1</td>\n",
       "    </tr>\n",
       "    <tr>\n",
       "      <th>3000</th>\n",
       "      <td>2024-01-23 09:09:11</td>\n",
       "      <td>9879</td>\n",
       "      <td>0</td>\n",
       "    </tr>\n",
       "    <tr>\n",
       "      <th>...</th>\n",
       "      <td>...</td>\n",
       "      <td>...</td>\n",
       "      <td>...</td>\n",
       "    </tr>\n",
       "    <tr>\n",
       "      <th>52100</th>\n",
       "      <td>2024-04-04 06:12:47</td>\n",
       "      <td>7050</td>\n",
       "      <td>1</td>\n",
       "    </tr>\n",
       "    <tr>\n",
       "      <th>52168</th>\n",
       "      <td>2024-04-04 07:18:22</td>\n",
       "      <td>7032</td>\n",
       "      <td>1</td>\n",
       "    </tr>\n",
       "    <tr>\n",
       "      <th>52228</th>\n",
       "      <td>2024-04-04 08:18:32</td>\n",
       "      <td>7021</td>\n",
       "      <td>1</td>\n",
       "    </tr>\n",
       "    <tr>\n",
       "      <th>52286</th>\n",
       "      <td>2024-04-04 09:13:03</td>\n",
       "      <td>8357</td>\n",
       "      <td>1</td>\n",
       "    </tr>\n",
       "    <tr>\n",
       "      <th>52360</th>\n",
       "      <td>2024-04-04 10:25:53</td>\n",
       "      <td>9400</td>\n",
       "      <td>1</td>\n",
       "    </tr>\n",
       "  </tbody>\n",
       "</table>\n",
       "<p>123 rows × 3 columns</p>\n",
       "</div>"
      ]
     },
     "execution_count": 75,
     "metadata": {},
     "output_type": "execute_result"
    }
   ],
   "execution_count": 75
  },
  {
   "metadata": {
    "ExecuteTime": {
     "end_time": "2024-04-07T14:51:02.015799Z",
     "start_time": "2024-04-07T14:51:01.890811Z"
    }
   },
   "cell_type": "code",
   "source": "dbm.close()",
   "outputs": [],
   "execution_count": 83
  },
  {
   "metadata": {
    "ExecuteTime": {
     "end_time": "2024-04-07T11:03:16.908669Z",
     "start_time": "2024-04-07T11:03:16.413672Z"
    }
   },
   "cell_type": "code",
   "source": "sns.scatterplot(df.reliability)",
   "outputs": [
    {
     "data": {
      "text/plain": [
       "<Axes: xlabel='timestamp', ylabel='reliability'>"
      ]
     },
     "execution_count": 30,
     "metadata": {},
     "output_type": "execute_result"
    },
    {
     "data": {
      "text/plain": [
       "<Figure size 640x480 with 1 Axes>"
      ],
      "image/png": "[encoded data removed]"
     },
     "metadata": {},
     "output_type": "display_data"
    }
   ],
   "execution_count": 30
  },
  {
   "cell_type": "code",
   "source": "df.groupby('machine_id')['disk_bw'].resample('1D').mean().round().astype(np.uint16).reset_index().to_sql('disk_bw_avg', conn, if_exists='replace', index=False)",
   "metadata": {
    "collapsed": false,
    "ExecuteTime": {
     "end_time": "2024-04-06T07:52:39.446769Z",
     "start_time": "2024-04-06T07:52:39.201389Z"
    }
   },
   "outputs": [
    {
     "ename": "KeyError",
     "evalue": "'machine_id'",
     "output_type": "error",
     "traceback": [
      "\u001B[0;31m---------------------------------------------------------------------------\u001B[0m",
      "\u001B[0;31mKeyError\u001B[0m                                  Traceback (most recent call last)",
      "Cell \u001B[0;32mIn[83], line 1\u001B[0m\n\u001B[0;32m----> 1\u001B[0m \u001B[43mdf\u001B[49m\u001B[38;5;241;43m.\u001B[39;49m\u001B[43mgroupby\u001B[49m\u001B[43m(\u001B[49m\u001B[38;5;124;43m'\u001B[39;49m\u001B[38;5;124;43mmachine_id\u001B[39;49m\u001B[38;5;124;43m'\u001B[39;49m\u001B[43m)\u001B[49m[\u001B[38;5;124m'\u001B[39m\u001B[38;5;124mdisk_bw\u001B[39m\u001B[38;5;124m'\u001B[39m]\u001B[38;5;241m.\u001B[39mresample(\u001B[38;5;124m'\u001B[39m\u001B[38;5;124m1D\u001B[39m\u001B[38;5;124m'\u001B[39m)\u001B[38;5;241m.\u001B[39mmean()\u001B[38;5;241m.\u001B[39mround()\u001B[38;5;241m.\u001B[39mastype(np\u001B[38;5;241m.\u001B[39muint16)\u001B[38;5;241m.\u001B[39mreset_index()\u001B[38;5;241m.\u001B[39mto_sql(\u001B[38;5;124m'\u001B[39m\u001B[38;5;124mdisk_bw_avg\u001B[39m\u001B[38;5;124m'\u001B[39m, dbm\u001B[38;5;241m.\u001B[39mconn, if_exists\u001B[38;5;241m=\u001B[39m\u001B[38;5;124m'\u001B[39m\u001B[38;5;124mreplace\u001B[39m\u001B[38;5;124m'\u001B[39m, index\u001B[38;5;241m=\u001B[39m\u001B[38;5;28;01mFalse\u001B[39;00m)\n",
      "File \u001B[0;32m~/.local/lib/python3.10/site-packages/pandas/core/frame.py:9170\u001B[0m, in \u001B[0;36mDataFrame.groupby\u001B[0;34m(self, by, axis, level, as_index, sort, group_keys, observed, dropna)\u001B[0m\n\u001B[1;32m   9167\u001B[0m \u001B[38;5;28;01mif\u001B[39;00m level \u001B[38;5;129;01mis\u001B[39;00m \u001B[38;5;28;01mNone\u001B[39;00m \u001B[38;5;129;01mand\u001B[39;00m by \u001B[38;5;129;01mis\u001B[39;00m \u001B[38;5;28;01mNone\u001B[39;00m:\n\u001B[1;32m   9168\u001B[0m     \u001B[38;5;28;01mraise\u001B[39;00m \u001B[38;5;167;01mTypeError\u001B[39;00m(\u001B[38;5;124m\"\u001B[39m\u001B[38;5;124mYou have to supply one of \u001B[39m\u001B[38;5;124m'\u001B[39m\u001B[38;5;124mby\u001B[39m\u001B[38;5;124m'\u001B[39m\u001B[38;5;124m and \u001B[39m\u001B[38;5;124m'\u001B[39m\u001B[38;5;124mlevel\u001B[39m\u001B[38;5;124m'\u001B[39m\u001B[38;5;124m\"\u001B[39m)\n\u001B[0;32m-> 9170\u001B[0m \u001B[38;5;28;01mreturn\u001B[39;00m \u001B[43mDataFrameGroupBy\u001B[49m\u001B[43m(\u001B[49m\n\u001B[1;32m   9171\u001B[0m \u001B[43m    \u001B[49m\u001B[43mobj\u001B[49m\u001B[38;5;241;43m=\u001B[39;49m\u001B[38;5;28;43mself\u001B[39;49m\u001B[43m,\u001B[49m\n\u001B[1;32m   9172\u001B[0m \u001B[43m    \u001B[49m\u001B[43mkeys\u001B[49m\u001B[38;5;241;43m=\u001B[39;49m\u001B[43mby\u001B[49m\u001B[43m,\u001B[49m\n\u001B[1;32m   9173\u001B[0m \u001B[43m    \u001B[49m\u001B[43maxis\u001B[49m\u001B[38;5;241;43m=\u001B[39;49m\u001B[43maxis\u001B[49m\u001B[43m,\u001B[49m\n\u001B[1;32m   9174\u001B[0m \u001B[43m    \u001B[49m\u001B[43mlevel\u001B[49m\u001B[38;5;241;43m=\u001B[39;49m\u001B[43mlevel\u001B[49m\u001B[43m,\u001B[49m\n\u001B[1;32m   9175\u001B[0m \u001B[43m    \u001B[49m\u001B[43mas_index\u001B[49m\u001B[38;5;241;43m=\u001B[39;49m\u001B[43mas_index\u001B[49m\u001B[43m,\u001B[49m\n\u001B[1;32m   9176\u001B[0m \u001B[43m    \u001B[49m\u001B[43msort\u001B[49m\u001B[38;5;241;43m=\u001B[39;49m\u001B[43msort\u001B[49m\u001B[43m,\u001B[49m\n\u001B[1;32m   9177\u001B[0m \u001B[43m    \u001B[49m\u001B[43mgroup_keys\u001B[49m\u001B[38;5;241;43m=\u001B[39;49m\u001B[43mgroup_keys\u001B[49m\u001B[43m,\u001B[49m\n\u001B[1;32m   9178\u001B[0m \u001B[43m    \u001B[49m\u001B[43mobserved\u001B[49m\u001B[38;5;241;43m=\u001B[39;49m\u001B[43mobserved\u001B[49m\u001B[43m,\u001B[49m\n\u001B[1;32m   9179\u001B[0m \u001B[43m    \u001B[49m\u001B[43mdropna\u001B[49m\u001B[38;5;241;43m=\u001B[39;49m\u001B[43mdropna\u001B[49m\u001B[43m,\u001B[49m\n\u001B[1;32m   9180\u001B[0m \u001B[43m\u001B[49m\u001B[43m)\u001B[49m\n",
      "File \u001B[0;32m~/.local/lib/python3.10/site-packages/pandas/core/groupby/groupby.py:1329\u001B[0m, in \u001B[0;36mGroupBy.__init__\u001B[0;34m(self, obj, keys, axis, level, grouper, exclusions, selection, as_index, sort, group_keys, observed, dropna)\u001B[0m\n\u001B[1;32m   1326\u001B[0m \u001B[38;5;28mself\u001B[39m\u001B[38;5;241m.\u001B[39mdropna \u001B[38;5;241m=\u001B[39m dropna\n\u001B[1;32m   1328\u001B[0m \u001B[38;5;28;01mif\u001B[39;00m grouper \u001B[38;5;129;01mis\u001B[39;00m \u001B[38;5;28;01mNone\u001B[39;00m:\n\u001B[0;32m-> 1329\u001B[0m     grouper, exclusions, obj \u001B[38;5;241m=\u001B[39m \u001B[43mget_grouper\u001B[49m\u001B[43m(\u001B[49m\n\u001B[1;32m   1330\u001B[0m \u001B[43m        \u001B[49m\u001B[43mobj\u001B[49m\u001B[43m,\u001B[49m\n\u001B[1;32m   1331\u001B[0m \u001B[43m        \u001B[49m\u001B[43mkeys\u001B[49m\u001B[43m,\u001B[49m\n\u001B[1;32m   1332\u001B[0m \u001B[43m        \u001B[49m\u001B[43maxis\u001B[49m\u001B[38;5;241;43m=\u001B[39;49m\u001B[43maxis\u001B[49m\u001B[43m,\u001B[49m\n\u001B[1;32m   1333\u001B[0m \u001B[43m        \u001B[49m\u001B[43mlevel\u001B[49m\u001B[38;5;241;43m=\u001B[39;49m\u001B[43mlevel\u001B[49m\u001B[43m,\u001B[49m\n\u001B[1;32m   1334\u001B[0m \u001B[43m        \u001B[49m\u001B[43msort\u001B[49m\u001B[38;5;241;43m=\u001B[39;49m\u001B[43msort\u001B[49m\u001B[43m,\u001B[49m\n\u001B[1;32m   1335\u001B[0m \u001B[43m        \u001B[49m\u001B[43mobserved\u001B[49m\u001B[38;5;241;43m=\u001B[39;49m\u001B[38;5;28;43;01mFalse\u001B[39;49;00m\u001B[43m \u001B[49m\u001B[38;5;28;43;01mif\u001B[39;49;00m\u001B[43m \u001B[49m\u001B[43mobserved\u001B[49m\u001B[43m \u001B[49m\u001B[38;5;129;43;01mis\u001B[39;49;00m\u001B[43m \u001B[49m\u001B[43mlib\u001B[49m\u001B[38;5;241;43m.\u001B[39;49m\u001B[43mno_default\u001B[49m\u001B[43m \u001B[49m\u001B[38;5;28;43;01melse\u001B[39;49;00m\u001B[43m \u001B[49m\u001B[43mobserved\u001B[49m\u001B[43m,\u001B[49m\n\u001B[1;32m   1336\u001B[0m \u001B[43m        \u001B[49m\u001B[43mdropna\u001B[49m\u001B[38;5;241;43m=\u001B[39;49m\u001B[38;5;28;43mself\u001B[39;49m\u001B[38;5;241;43m.\u001B[39;49m\u001B[43mdropna\u001B[49m\u001B[43m,\u001B[49m\n\u001B[1;32m   1337\u001B[0m \u001B[43m    \u001B[49m\u001B[43m)\u001B[49m\n\u001B[1;32m   1339\u001B[0m \u001B[38;5;28;01mif\u001B[39;00m observed \u001B[38;5;129;01mis\u001B[39;00m lib\u001B[38;5;241m.\u001B[39mno_default:\n\u001B[1;32m   1340\u001B[0m     \u001B[38;5;28;01mif\u001B[39;00m \u001B[38;5;28many\u001B[39m(ping\u001B[38;5;241m.\u001B[39m_passed_categorical \u001B[38;5;28;01mfor\u001B[39;00m ping \u001B[38;5;129;01min\u001B[39;00m grouper\u001B[38;5;241m.\u001B[39mgroupings):\n",
      "File \u001B[0;32m~/.local/lib/python3.10/site-packages/pandas/core/groupby/grouper.py:1043\u001B[0m, in \u001B[0;36mget_grouper\u001B[0;34m(obj, key, axis, level, sort, observed, validate, dropna)\u001B[0m\n\u001B[1;32m   1041\u001B[0m         in_axis, level, gpr \u001B[38;5;241m=\u001B[39m \u001B[38;5;28;01mFalse\u001B[39;00m, gpr, \u001B[38;5;28;01mNone\u001B[39;00m\n\u001B[1;32m   1042\u001B[0m     \u001B[38;5;28;01melse\u001B[39;00m:\n\u001B[0;32m-> 1043\u001B[0m         \u001B[38;5;28;01mraise\u001B[39;00m \u001B[38;5;167;01mKeyError\u001B[39;00m(gpr)\n\u001B[1;32m   1044\u001B[0m \u001B[38;5;28;01melif\u001B[39;00m \u001B[38;5;28misinstance\u001B[39m(gpr, Grouper) \u001B[38;5;129;01mand\u001B[39;00m gpr\u001B[38;5;241m.\u001B[39mkey \u001B[38;5;129;01mis\u001B[39;00m \u001B[38;5;129;01mnot\u001B[39;00m \u001B[38;5;28;01mNone\u001B[39;00m:\n\u001B[1;32m   1045\u001B[0m     \u001B[38;5;66;03m# Add key to exclusions\u001B[39;00m\n\u001B[1;32m   1046\u001B[0m     exclusions\u001B[38;5;241m.\u001B[39madd(gpr\u001B[38;5;241m.\u001B[39mkey)\n",
      "\u001B[0;31mKeyError\u001B[0m: 'machine_id'"
     ]
    }
   ],
   "execution_count": 83
  },
  {
   "cell_type": "code",
   "execution_count": 41,
   "outputs": [
    {
     "data": {
      "text/plain": "4553"
     },
     "execution_count": 41,
     "metadata": {},
     "output_type": "execute_result"
    }
   ],
   "source": [
    "df.groupby('machine_id')['disk_bw'].resample('1D').std().fillna(0).astype(np.uint16).reset_index().to_sql('disk_bw_std', conn, if_exists='replace', index=False)"
   ],
   "metadata": {
    "collapsed": false,
    "ExecuteTime": {
     "end_time": "2023-09-15T16:47:41.514924800Z",
     "start_time": "2023-09-15T16:47:39.750527600Z"
    }
   }
  },
  {
   "cell_type": "code",
   "execution_count": 115,
   "outputs": [],
   "source": [
    "conn.close()"
   ],
   "metadata": {
    "collapsed": false,
    "ExecuteTime": {
     "end_time": "2023-10-19T13:02:51.840267Z",
     "start_time": "2023-10-19T13:02:51.707235400Z"
    }
   }
  },
  {
   "cell_type": "code",
   "execution_count": 23,
   "outputs": [
    {
     "name": "stdout",
     "output_type": "stream",
     "text": [
      "Database 'integer_db.sqlite' size: 932.00 KB\n",
      "Database 'real_db.sqlite' size: 1564.00 KB\n"
     ]
    }
   ],
   "source": [
    "import sqlite3\n",
    "import os\n",
    "import numpy as np\n",
    "\n",
    "DB_PATH = '../data'\n",
    "\n",
    "# Create directories for databases if they don't exist\n",
    "if not os.path.exists(DB_PATH):\n",
    "    os.makedirs(DB_PATH)\n",
    "\n",
    "# Function to create and populate a database with the specified data type and range\n",
    "def create_and_populate_db(db_name, data_type, value_range, size=100000):\n",
    "    db_path = os.path.join(DB_PATH, db_name)\n",
    "\n",
    "    conn = sqlite3.connect(db_path)\n",
    "\n",
    "    conn.execute(f\"CREATE TABLE data (value {data_type})\")\n",
    "\n",
    "\n",
    "    # Generate and insert values within the specified range\n",
    "    values = None\n",
    "    if 'INTEGER' in data_type:\n",
    "        values = np.random.randint(*value_range, size=size, dtype=np.uint32)\n",
    "    elif 'REAL' in data_type:\n",
    "        values = np.random.uniform(*value_range, size=size).astype(np.float32)\n",
    "    else:\n",
    "        raise ValueError('Unknown type')        \n",
    "        \n",
    "    rows = [(value,) for value in values]\n",
    "    \n",
    "    \n",
    "    try:\n",
    "        # print(rows[:3])\n",
    "        # conn.executemany(\"INSERT INTO data (value) VALUES (?)\", rows)\n",
    "\n",
    "        for value in values:\n",
    "            conn.execute(f\"INSERT INTO data (value) VALUES ({value})\")\n",
    "\n",
    "        conn.commit()  \n",
    "        conn.execute(\"VACUUM\")    \n",
    "    \n",
    "    except Exception as e:\n",
    "        print(e)\n",
    "    \n",
    "    conn.close()\n",
    "\n",
    "# delete exiting db's\n",
    "for db_name in [f for f in os.listdir(DB_PATH) if f.endswith('.sqlite')]:\n",
    "    db_path = os.path.join(DB_PATH, db_name)\n",
    "    os.remove(db_path)\n",
    "\n",
    "\n",
    "# Create and populate the databases\n",
    "create_and_populate_db('integer_db.sqlite', 'INTEGER', (0, 300))  \n",
    "# create_and_populate_db('integer_non_null_db.sqlite', 'INTEGER NOT NULL', (0, 1000))\n",
    "create_and_populate_db('real_db.sqlite', 'REAL', (0, 1))            \n",
    "# create_and_populate_db('real_non_null_db.sqlite', 'REAL NOT NULL', (0, 1000))            \n",
    "# Print database sizes\n",
    "for db_name in [f for f in os.listdir(DB_PATH) if f.endswith('.sqlite')]:\n",
    "    db_path = os.path.join(DB_PATH, db_name)\n",
    "    db_size = os.path.getsize(db_path) / (1024)  # Size in KB\n",
    "    print(f\"Database '{db_name}' size: {db_size:.2f} KB\")"
   ],
   "metadata": {
    "collapsed": false,
    "ExecuteTime": {
     "end_time": "2023-09-18T05:10:03.254904Z",
     "start_time": "2023-09-18T05:10:01.639601200Z"
    }
   }
  },
  {
   "cell_type": "code",
   "execution_count": 47,
   "outputs": [],
   "source": [],
   "metadata": {
    "collapsed": false,
    "ExecuteTime": {
     "end_time": "2023-09-11T04:48:55.375131Z",
     "start_time": "2023-09-11T04:48:55.332122600Z"
    }
   }
  },
  {
   "cell_type": "code",
   "execution_count": 48,
   "outputs": [],
   "source": [
    "import os\n",
    "import psutil"
   ],
   "metadata": {
    "collapsed": false,
    "ExecuteTime": {
     "end_time": "2023-09-11T04:48:55.488530200Z",
     "start_time": "2023-09-11T04:48:55.347124400Z"
    }
   }
  },
  {
   "cell_type": "code",
   "execution_count": 49,
   "outputs": [
    {
     "name": "stdout",
     "output_type": "stream",
     "text": [
      "The CPU usage is :  0.0\n"
     ]
    }
   ],
   "source": [
    "# Getting loadover15 minutes\n",
    "load1, load5, load15 = psutil.getloadavg()\n",
    "\n",
    "cpu_usage = (load15/os.cpu_count()) * 100\n",
    "\n",
    "print(\"The CPU usage is : \", load1)"
   ],
   "metadata": {
    "collapsed": false,
    "ExecuteTime": {
     "end_time": "2023-09-11T04:48:56.224697200Z",
     "start_time": "2023-09-11T04:48:55.490532Z"
    }
   }
  }
 ],
 "metadata": {
  "kernelspec": {
   "name": "ml",
   "language": "python",
   "display_name": "ml"
  },
  "language_info": {
   "codemirror_mode": {
    "name": "ipython",
    "version": 2
   },
   "file_extension": ".py",
   "mimetype": "text/x-python",
   "name": "python",
   "nbconvert_exporter": "python",
   "pygments_lexer": "ipython2",
   "version": "2.7.6"
  }
 },
 "nbformat": 4,
 "nbformat_minor": 0
}
