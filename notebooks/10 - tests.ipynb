{
 "cells": [
  {
   "cell_type": "code",
   "execution_count": 1,
   "outputs": [],
   "source": [
    "%load_ext autoreload\n",
    "%autoreload 2"
   ],
   "metadata": {
    "collapsed": false,
    "ExecuteTime": {
     "end_time": "2023-08-31T04:40:52.434364700Z",
     "start_time": "2023-08-31T04:40:52.292332300Z"
    }
   }
  },
  {
   "cell_type": "code",
   "execution_count": 2,
   "metadata": {
    "collapsed": true,
    "ExecuteTime": {
     "end_time": "2023-08-31T04:40:52.722429200Z",
     "start_time": "2023-08-31T04:40:52.435364700Z"
    }
   },
   "outputs": [],
   "source": [
    "import sqlite3\n",
    "import pandas as pd\n",
    "from src.tables import MapTable, df_to_tmp_table, df_to_table, get_machines, get_offers, AVG_COLS\n",
    "from src.preprocess import preprocess\n",
    "from src.utils import get_tables, get_tbl_info, table_to_df, time_utc_now, np_min_chunk, df_na_vals\n",
    "import seaborn as sns\n",
    "import matplotlib.pyplot as plt\n",
    "import logging"
   ]
  },
  {
   "cell_type": "code",
   "execution_count": 11,
   "outputs": [
    {
     "name": "stdout",
     "output_type": "stream",
     "text": [
      "Timespan: 17 days 14:40:29\n",
      "Size per day:  1.65 mb\n",
      "Size per year:  603.46 mb\n"
     ]
    }
   ],
   "source": [
    "import sqlite3\n",
    "import os\n",
    "import pandas as pd\n",
    "\n",
    "db_path = '../data/vast.db'\n",
    "\n",
    "conn = sqlite3.connect(db_path)\n",
    "first = conn.execute('SELECT timestamp FROM reliability_ts LIMIT 1').fetchall()[0][0]\n",
    "last = conn.execute('SELECT timestamp FROM reliability_ts ORDER BY ROWID DESC LIMIT 1').fetchall()[0][0]\n",
    "timespan = pd.to_timedelta((last - first) * 1e9)\n",
    "total_days = timespan.total_seconds() / (3600 * 24)\n",
    "\n",
    "print('Timespan:', timespan)\n",
    "\n",
    "conn.execute('VACUUM')\n",
    "size = os.path.getsize(db_path) / (1024 * 1024) # Size in Mb\n",
    "\n",
    "print(f'Size per day: {size / total_days: .2f} mb')\n",
    "print(f'Size per year: {size / total_days * 365: .2f} mb')\n",
    "\n",
    "conn.close()"
   ],
   "metadata": {
    "collapsed": false,
    "ExecuteTime": {
     "end_time": "2023-08-31T04:47:40.142025500Z",
     "start_time": "2023-08-31T04:47:39.192879700Z"
    }
   }
  },
  {
   "cell_type": "code",
   "execution_count": 4,
   "outputs": [],
   "source": [
    "df = get_machines().set_index('machine_id')"
   ],
   "metadata": {
    "collapsed": false,
    "ExecuteTime": {
     "end_time": "2023-08-26T04:47:55.135808300Z",
     "start_time": "2023-08-26T04:47:53.395340400Z"
    }
   }
  },
  {
   "cell_type": "code",
   "execution_count": 5,
   "outputs": [
    {
     "name": "stdout",
     "output_type": "stream",
     "text": [
      "disk_bw         ->       Missing values: 1 (0.07%)\n",
      "gpu_mem_bw      ->       Missing values: 0 (0.00%)\n",
      "pcie_bw         ->       Missing values: 0 (0.00%)\n",
      "dlperf          ->       Missing values: 0 (0.00%)\n",
      "score           ->       Missing values: 0 (0.00%)\n"
     ]
    },
    {
     "data": {
      "text/plain": "[]"
     },
     "execution_count": 5,
     "metadata": {},
     "output_type": "execute_result"
    }
   ],
   "source": [
    "df_na_vals(df[AVG_COLS])"
   ],
   "metadata": {
    "collapsed": false,
    "ExecuteTime": {
     "end_time": "2023-08-26T04:47:55.285842700Z",
     "start_time": "2023-08-26T04:47:55.136808500Z"
    }
   }
  },
  {
   "cell_type": "code",
   "execution_count": 6,
   "outputs": [
    {
     "data": {
      "text/plain": "machine_id\n12423    19.7\n12422    25.0\n12421    12.5\n12420    19.5\n12418    19.7\n         ... \n301       5.8\n283       5.7\n275       5.8\n274       5.5\n162      12.5\nName: pcie_bw, Length: 1357, dtype: float64"
     },
     "execution_count": 6,
     "metadata": {},
     "output_type": "execute_result"
    }
   ],
   "source": [
    "df.pcie_bw"
   ],
   "metadata": {
    "collapsed": false,
    "ExecuteTime": {
     "end_time": "2023-08-26T04:47:57.066402600Z",
     "start_time": "2023-08-26T04:47:55.952151900Z"
    }
   }
  },
  {
   "cell_type": "code",
   "execution_count": 7,
   "outputs": [
    {
     "data": {
      "text/plain": "                disk_bw  gpu_mem_bw  pcie_bw     dlperf      score\nmachine_id                                                        \n12423               NaN       767.0     19.7   0.000000   0.000000\n12422       1124.130830       745.5     25.0  25.029561  11.237007\n12421        321.000000       632.6     12.5  39.872396  22.283248\n12420       2951.859325       768.4     19.5  28.110301  11.724895\n12418       4348.290033       844.9     19.7  29.536090  12.308916\n...                 ...         ...      ...        ...        ...\n301         3017.759248       337.8      5.8  50.409591  55.132643\n283          177.000000       187.2      5.7  19.623176  41.764369\n275         1661.000000       213.0      5.8  27.921954  49.994712\n274         1615.817000       187.0      5.5  29.808745  52.711858\n162         1676.834000       511.3     12.5  49.250439  45.646531\n\n[1357 rows x 5 columns]",
      "text/html": "<div>\n<style scoped>\n    .dataframe tbody tr th:only-of-type {\n        vertical-align: middle;\n    }\n\n    .dataframe tbody tr th {\n        vertical-align: top;\n    }\n\n    .dataframe thead th {\n        text-align: right;\n    }\n</style>\n<table border=\"1\" class=\"dataframe\">\n  <thead>\n    <tr style=\"text-align: right;\">\n      <th></th>\n      <th>disk_bw</th>\n      <th>gpu_mem_bw</th>\n      <th>pcie_bw</th>\n      <th>dlperf</th>\n      <th>score</th>\n    </tr>\n    <tr>\n      <th>machine_id</th>\n      <th></th>\n      <th></th>\n      <th></th>\n      <th></th>\n      <th></th>\n    </tr>\n  </thead>\n  <tbody>\n    <tr>\n      <th>12423</th>\n      <td>NaN</td>\n      <td>767.0</td>\n      <td>19.7</td>\n      <td>0.000000</td>\n      <td>0.000000</td>\n    </tr>\n    <tr>\n      <th>12422</th>\n      <td>1124.130830</td>\n      <td>745.5</td>\n      <td>25.0</td>\n      <td>25.029561</td>\n      <td>11.237007</td>\n    </tr>\n    <tr>\n      <th>12421</th>\n      <td>321.000000</td>\n      <td>632.6</td>\n      <td>12.5</td>\n      <td>39.872396</td>\n      <td>22.283248</td>\n    </tr>\n    <tr>\n      <th>12420</th>\n      <td>2951.859325</td>\n      <td>768.4</td>\n      <td>19.5</td>\n      <td>28.110301</td>\n      <td>11.724895</td>\n    </tr>\n    <tr>\n      <th>12418</th>\n      <td>4348.290033</td>\n      <td>844.9</td>\n      <td>19.7</td>\n      <td>29.536090</td>\n      <td>12.308916</td>\n    </tr>\n    <tr>\n      <th>...</th>\n      <td>...</td>\n      <td>...</td>\n      <td>...</td>\n      <td>...</td>\n      <td>...</td>\n    </tr>\n    <tr>\n      <th>301</th>\n      <td>3017.759248</td>\n      <td>337.8</td>\n      <td>5.8</td>\n      <td>50.409591</td>\n      <td>55.132643</td>\n    </tr>\n    <tr>\n      <th>283</th>\n      <td>177.000000</td>\n      <td>187.2</td>\n      <td>5.7</td>\n      <td>19.623176</td>\n      <td>41.764369</td>\n    </tr>\n    <tr>\n      <th>275</th>\n      <td>1661.000000</td>\n      <td>213.0</td>\n      <td>5.8</td>\n      <td>27.921954</td>\n      <td>49.994712</td>\n    </tr>\n    <tr>\n      <th>274</th>\n      <td>1615.817000</td>\n      <td>187.0</td>\n      <td>5.5</td>\n      <td>29.808745</td>\n      <td>52.711858</td>\n    </tr>\n    <tr>\n      <th>162</th>\n      <td>1676.834000</td>\n      <td>511.3</td>\n      <td>12.5</td>\n      <td>49.250439</td>\n      <td>45.646531</td>\n    </tr>\n  </tbody>\n</table>\n<p>1357 rows × 5 columns</p>\n</div>"
     },
     "execution_count": 7,
     "metadata": {},
     "output_type": "execute_result"
    }
   ],
   "source": [
    "df.query('gpu_name == \"RTX 4090\"')[AVG_COLS]\n",
    "df[AVG_COLS]"
   ],
   "metadata": {
    "collapsed": false,
    "ExecuteTime": {
     "end_time": "2023-08-26T04:48:03.062097800Z",
     "start_time": "2023-08-26T04:48:02.912063500Z"
    }
   }
  },
  {
   "cell_type": "code",
   "execution_count": 18,
   "outputs": [
    {
     "data": {
      "text/plain": "<Figure size 640x480 with 1 Axes>",
      "image/png": "[encoded data removed]"
     },
     "metadata": {},
     "output_type": "display_data"
    }
   ],
   "source": [
    "# sns.histplot(df.query('gpu_name == \"RTX 4090\"'), x='pcie_bw', bins=24);\n",
    "# sns.histplot(df.query('gpu_name == \"RTX 4090\"'), x='disk_bw');\n",
    "sns.histplot(df.query('gpu_name == \"RTX 4090\"'), x='gpu_mem_bw', bins=24);\n",
    "# df.query('gpu_name == \"RTX 4090\"').disk_bw.hist();"
   ],
   "metadata": {
    "collapsed": false,
    "ExecuteTime": {
     "end_time": "2023-08-26T04:50:40.016756300Z",
     "start_time": "2023-08-26T04:50:39.613666100Z"
    }
   }
  },
  {
   "cell_type": "code",
   "execution_count": 23,
   "outputs": [
    {
     "data": {
      "text/plain": "machine_id\n12388     364\n12387     308\n12386    1230\n12385    6618\n12384     792\n         ... \n301      3193\n283       168\n275      1563\n274      1641\n162      1710\nName: disk_bw, Length: 1337, dtype: int32"
     },
     "execution_count": 23,
     "metadata": {},
     "output_type": "execute_result"
    }
   ],
   "source": [
    "df.disk_bw.astype(int)"
   ],
   "metadata": {
    "collapsed": false,
    "ExecuteTime": {
     "end_time": "2023-08-25T04:15:52.984246200Z",
     "start_time": "2023-08-25T04:15:52.883225100Z"
    }
   }
  },
  {
   "cell_type": "code",
   "execution_count": 4,
   "outputs": [
    {
     "data": {
      "text/plain": "'C:\\\\Users\\\\ergot\\\\DataspellProjects\\\\vast-stats\\\\notebooks'"
     },
     "execution_count": 4,
     "metadata": {},
     "output_type": "execute_result"
    }
   ],
   "source": [
    "import os\n",
    "os.getcwd()"
   ],
   "metadata": {
    "collapsed": false,
    "ExecuteTime": {
     "end_time": "2023-08-25T04:05:03.369828200Z",
     "start_time": "2023-08-25T04:05:03.258805300Z"
    }
   }
  },
  {
   "cell_type": "code",
   "execution_count": 40,
   "outputs": [],
   "source": [
    "_ = get_offers()"
   ],
   "metadata": {
    "collapsed": false,
    "ExecuteTime": {
     "end_time": "2023-08-10T06:13:41.897563900Z",
     "start_time": "2023-08-10T06:13:39.525237200Z"
    }
   }
  },
  {
   "cell_type": "code",
   "execution_count": 20,
   "outputs": [],
   "source": [
    "df = get_machines()\n",
    "# preprocess(df)"
   ],
   "metadata": {
    "collapsed": false,
    "ExecuteTime": {
     "end_time": "2023-08-10T05:54:34.866657400Z",
     "start_time": "2023-08-10T05:54:33.258642700Z"
    }
   }
  },
  {
   "cell_type": "code",
   "execution_count": 27,
   "outputs": [
    {
     "data": {
      "text/plain": "30      [{'size': 2, 'offerId': 6703581, 'rentable': T...\n44      [{'size': 1, 'offerId': 6701408, 'rentable': F...\n71      [{'size': 1, 'offerId': 6684674, 'rentable': F...\n92      [{'size': 1, 'offerId': 6649884, 'rentable': F...\n116     [{'size': 1, 'offerId': 6719275, 'rentable': T...\n                              ...                        \n1232    [{'size': 1, 'offerId': 6499199, 'rentable': F...\n1241    [{'size': 1, 'offerId': 5743626, 'rentable': F...\n1244    [{'size': 1, 'offerId': 6620807, 'rentable': F...\n1245    [{'size': 1, 'offerId': 6553529, 'rentable': F...\n1247    [{'size': 1, 'offerId': 6570104, 'rentable': F...\nName: chunks, Length: 169, dtype: object"
     },
     "execution_count": 27,
     "metadata": {},
     "output_type": "execute_result"
    }
   ],
   "source": [
    "df.chunks[df.chunks.apply(len) == 7]"
   ],
   "metadata": {
    "collapsed": false,
    "ExecuteTime": {
     "end_time": "2023-08-10T06:07:01.876049Z",
     "start_time": "2023-08-10T06:07:01.767024800Z"
    }
   }
  },
  {
   "cell_type": "code",
   "execution_count": 36,
   "outputs": [
    {
     "data": {
      "text/plain": "[{'size': 2, 'offerId': 6592467, 'rentable': True},\n {'size': 2, 'offerId': 6592468, 'rentable': True},\n {'size': 2, 'offerId': 6592470, 'rentable': True},\n {'size': 2, 'offerId': 6592473, 'rentable': True},\n {'size': 4, 'offerId': 6592469, 'rentable': True},\n {'size': 4, 'offerId': 6592471, 'rentable': True},\n {'size': 8, 'offerId': 6592472, 'rentable': True}]"
     },
     "execution_count": 36,
     "metadata": {},
     "output_type": "execute_result"
    }
   ],
   "source": [
    "df.chunks[331]"
   ],
   "metadata": {
    "collapsed": false,
    "ExecuteTime": {
     "end_time": "2023-08-10T06:13:04.644823400Z",
     "start_time": "2023-08-10T06:13:04.546320600Z"
    }
   }
  },
  {
   "cell_type": "code",
   "execution_count": null,
   "outputs": [],
   "source": [],
   "metadata": {
    "collapsed": false
   }
  },
  {
   "cell_type": "code",
   "execution_count": 43,
   "outputs": [],
   "source": [
    "def pd_min_chunks(chunks):        \n",
    "    gpu_chunks = [d['size'] for d in chunks]\n",
    "    min_chunk = gpu_chunks[0]\n",
    "    \n",
    "    # correction for the case where whole machine size is not a multiple of min_chunk\n",
    "    # in this case, there is always a single remainder chunk which is smaller than actual min_chunk\n",
    "    # examples: [1 2 2 2 3 4 7] [1 2 3], actual min_chunk is 2\n",
    "    #           [3 4 7], actual min_chunk is 4\n",
    "    if gpu_chunks.count(min_chunk) == 1 and len(gpu_chunks) >= 3:\n",
    "        min_chunk = gpu_chunks[1]\n",
    "    \n",
    "    chunks = [c for c in chunks if c['size'] <= min_chunk]\n",
    "    return chunks"
   ],
   "metadata": {
    "collapsed": false,
    "ExecuteTime": {
     "end_time": "2023-08-10T10:52:59.510769Z",
     "start_time": "2023-08-10T10:52:59.411763100Z"
    }
   }
  },
  {
   "cell_type": "code",
   "execution_count": 62,
   "outputs": [
    {
     "data": {
      "text/plain": "888    True\nName: static_ip, dtype: bool"
     },
     "execution_count": 62,
     "metadata": {},
     "output_type": "execute_result"
    }
   ],
   "source": [
    "df.query('machine_id == 8506').static_ip"
   ],
   "metadata": {
    "collapsed": false,
    "ExecuteTime": {
     "end_time": "2023-08-10T10:57:02.595794900Z",
     "start_time": "2023-08-10T10:57:02.494773400Z"
    }
   }
  },
  {
   "cell_type": "code",
   "execution_count": 57,
   "outputs": [
    {
     "data": {
      "text/plain": "888    [{'size': 4, 'offerId': 6716663, 'rentable': F...\nName: chunks, dtype: object"
     },
     "execution_count": 57,
     "metadata": {},
     "output_type": "execute_result"
    }
   ],
   "source": [
    "df.query('machine_id == 8506').chunks.apply(pd_min_chunks)"
   ],
   "metadata": {
    "collapsed": false,
    "ExecuteTime": {
     "end_time": "2023-08-10T10:56:02.161550500Z",
     "start_time": "2023-08-10T10:56:02.057526Z"
    }
   }
  },
  {
   "cell_type": "code",
   "execution_count": 53,
   "outputs": [
    {
     "data": {
      "text/plain": "[{'size': 1, 'offerId': 6677215, 'rentable': True},\n {'size': 1, 'offerId': 6677216, 'rentable': True},\n {'size': 1, 'offerId': 6677217, 'rentable': True},\n {'size': 1, 'offerId': 6677218, 'rentable': True},\n {'size': 1, 'offerId': 6677222, 'rentable': True},\n {'size': 1, 'offerId': 6677223, 'rentable': True},\n {'size': 1, 'offerId': 6677224, 'rentable': True},\n {'size': 1, 'offerId': 6677228, 'rentable': True},\n {'size': 2, 'offerId': 6677219, 'rentable': True},\n {'size': 2, 'offerId': 6677220, 'rentable': True},\n {'size': 2, 'offerId': 6677226, 'rentable': True},\n {'size': 2, 'offerId': 6677229, 'rentable': True},\n {'size': 4, 'offerId': 6677221, 'rentable': True},\n {'size': 4, 'offerId': 6677225, 'rentable': True},\n {'size': 8, 'offerId': 6677227, 'rentable': True}]"
     },
     "execution_count": 53,
     "metadata": {},
     "output_type": "execute_result"
    }
   ],
   "source": [
    "df.chunks[66]"
   ],
   "metadata": {
    "collapsed": false,
    "ExecuteTime": {
     "end_time": "2023-08-10T10:55:03.474201800Z",
     "start_time": "2023-08-10T10:55:03.379180900Z"
    }
   }
  },
  {
   "cell_type": "code",
   "execution_count": 49,
   "outputs": [
    {
     "data": {
      "text/plain": "0        1\n1        1\n2        5\n3        1\n4        1\n        ..\n1248     1\n1249    15\n1250    15\n1251    15\n1252     1\nName: chunks, Length: 1253, dtype: int64"
     },
     "execution_count": 49,
     "metadata": {},
     "output_type": "execute_result"
    }
   ],
   "source": [
    "df.chunks.apply(len)"
   ],
   "metadata": {
    "collapsed": false,
    "ExecuteTime": {
     "end_time": "2023-08-10T10:53:53.750806400Z",
     "start_time": "2023-08-10T10:53:53.646783800Z"
    }
   }
  },
  {
   "cell_type": "code",
   "execution_count": 25,
   "outputs": [
    {
     "data": {
      "text/plain": "[{'size': 1, 'offerId': 6719455, 'rentable': True},\n {'size': 1, 'offerId': 6719457, 'rentable': True},\n {'size': 1, 'offerId': 6719460, 'rentable': True},\n {'size': 1, 'offerId': 6719461, 'rentable': True},\n {'size': 1, 'offerId': 6719463, 'rentable': True},\n {'size': 1, 'offerId': 6719464, 'rentable': True},\n {'size': 1, 'offerId': 6719468, 'rentable': True},\n {'size': 1, 'offerId': 6719470, 'rentable': True},\n {'size': 1, 'offerId': 6719471, 'rentable': True},\n {'size': 1, 'offerId': 6719472, 'rentable': True},\n {'size': 1, 'offerId': 6719474, 'rentable': True},\n {'size': 1, 'offerId': 6719475, 'rentable': True},\n {'size': 1, 'offerId': 6719479, 'rentable': True},\n {'size': 1, 'offerId': 6719480, 'rentable': True},\n {'size': 2, 'offerId': 6719458, 'rentable': True},\n {'size': 2, 'offerId': 6719465, 'rentable': True},\n {'size': 2, 'offerId': 6719466, 'rentable': True},\n {'size': 2, 'offerId': 6719469, 'rentable': True},\n {'size': 2, 'offerId': 6719476, 'rentable': True},\n {'size': 2, 'offerId': 6719477, 'rentable': True},\n {'size': 2, 'offerId': 6719481, 'rentable': True},\n {'size': 4, 'offerId': 6719456, 'rentable': True},\n {'size': 4, 'offerId': 6719467, 'rentable': True},\n {'size': 4, 'offerId': 6719478, 'rentable': True},\n {'size': 6, 'offerId': 6719462, 'rentable': True},\n {'size': 8, 'offerId': 6719473, 'rentable': True},\n {'size': 14, 'offerId': 6719459, 'rentable': True}]"
     },
     "execution_count": 25,
     "metadata": {},
     "output_type": "execute_result"
    }
   ],
   "source": [
    "df.chunks[280]"
   ],
   "metadata": {
    "collapsed": false,
    "ExecuteTime": {
     "end_time": "2023-08-10T06:01:49.954160600Z",
     "start_time": "2023-08-10T06:01:49.852139400Z"
    }
   }
  },
  {
   "cell_type": "code",
   "execution_count": 8,
   "outputs": [],
   "source": [
    "conn = sqlite3.connect('../test/test.db')"
   ],
   "metadata": {
    "collapsed": false,
    "ExecuteTime": {
     "end_time": "2023-08-10T05:50:51.805387400Z",
     "start_time": "2023-08-10T05:50:51.703475800Z"
    }
   }
  },
  {
   "cell_type": "code",
   "execution_count": 13,
   "outputs": [
    {
     "name": "stdout",
     "output_type": "stream",
     "text": [
      "[[0, [{'size': 1, 'offerId': 6719359, 'rentable': True}], 750, 32, 'Xeon® E5-2683 v4 ', 15, 100, '12.0', 100, 197, 'Western WDC', 6651, 672, 100, '525.125.06', 1696032000, 1, 16, 368, 'RTX 2070S', 8192, 1, 3483, 0, 0, 20, 0, 29, 12042, 80, 1, 'X99', 1, 0, 3, 114, '174.95.185.54', 9890, 1881, 1, 450, 11, 0, 1691646537, 'CA'], [0, [{'size': 1, 'offerId': 6719237, 'rentable': True}], 860, 12, '11th Gen Core™ i5-11600K ', 31, 100, '12.0', 100, 2172, 'nvme', 372, 3278, 190, '525.125.06', 1694822400, 0, 16, 768, 'RTX 3090', 24576, 1, 74292, 0, 0, 2, 0, 3, 12041, 172, 1, 'PRIME Z590', 1, 0, 3, 118, '134.215.109.213', 5727, 1053, 1, 150, 44, 0, 1691646537, 'US']]\n"
     ]
    },
    {
     "ename": "InterfaceError",
     "evalue": "Error binding parameter 1 - probably unsupported type.",
     "output_type": "error",
     "traceback": [
      "\u001B[1;31m---------------------------------------------------------------------------\u001B[0m",
      "\u001B[1;31mInterfaceError\u001B[0m                            Traceback (most recent call last)",
      "Cell \u001B[1;32mIn[13], line 1\u001B[0m\n\u001B[1;32m----> 1\u001B[0m \u001B[43mdf_to_tmp_table\u001B[49m\u001B[43m(\u001B[49m\u001B[43mdf\u001B[49m\u001B[43m[\u001B[49m\u001B[43m:\u001B[49m\u001B[38;5;241;43m2\u001B[39;49m\u001B[43m]\u001B[49m\u001B[43m,\u001B[49m\u001B[43m \u001B[49m\u001B[38;5;124;43m'\u001B[39;49m\u001B[38;5;124;43mmachines\u001B[39;49m\u001B[38;5;124;43m'\u001B[39;49m\u001B[43m,\u001B[49m\u001B[43m \u001B[49m\u001B[43mconn\u001B[49m\u001B[43m)\u001B[49m\n",
      "File \u001B[1;32m~\\DataspellProjects\\vast-stats\\src\\tables.py:76\u001B[0m, in \u001B[0;36mdf_to_tmp_table\u001B[1;34m(df, tbl_name, conn)\u001B[0m\n\u001B[0;32m     74\u001B[0m conn\u001B[38;5;241m.\u001B[39mexecute(\u001B[38;5;124mf\u001B[39m\u001B[38;5;124m'\u001B[39m\u001B[38;5;124mCREATE TEMP TABLE IF NOT EXISTS \u001B[39m\u001B[38;5;132;01m{\u001B[39;00mtbl_name\u001B[38;5;132;01m}\u001B[39;00m\u001B[38;5;124m (\u001B[39m\u001B[38;5;132;01m{\u001B[39;00mcols\u001B[38;5;132;01m}\u001B[39;00m\u001B[38;5;124m);\u001B[39m\u001B[38;5;124m'\u001B[39m)\n\u001B[0;32m     75\u001B[0m \u001B[38;5;28mprint\u001B[39m(df\u001B[38;5;241m.\u001B[39mvalues\u001B[38;5;241m.\u001B[39mtolist())\n\u001B[1;32m---> 76\u001B[0m \u001B[43mconn\u001B[49m\u001B[38;5;241;43m.\u001B[39;49m\u001B[43mexecutemany\u001B[49m\u001B[43m(\u001B[49m\u001B[38;5;124;43mf\u001B[39;49m\u001B[38;5;124;43m\"\u001B[39;49m\u001B[38;5;124;43mINSERT INTO \u001B[39;49m\u001B[38;5;132;43;01m{\u001B[39;49;00m\u001B[43mtbl_name\u001B[49m\u001B[38;5;132;43;01m}\u001B[39;49;00m\u001B[38;5;124;43m VALUES (\u001B[39;49m\u001B[38;5;132;43;01m{\u001B[39;49;00m\u001B[43mvalues\u001B[49m\u001B[38;5;132;43;01m}\u001B[39;49;00m\u001B[38;5;124;43m)\u001B[39;49m\u001B[38;5;124;43m\"\u001B[39;49m\u001B[43m,\u001B[49m\u001B[43m \u001B[49m\u001B[43mdf\u001B[49m\u001B[38;5;241;43m.\u001B[39;49m\u001B[43mvalues\u001B[49m\u001B[38;5;241;43m.\u001B[39;49m\u001B[43mtolist\u001B[49m\u001B[43m(\u001B[49m\u001B[43m)\u001B[49m\u001B[43m)\u001B[49m\n",
      "\u001B[1;31mInterfaceError\u001B[0m: Error binding parameter 1 - probably unsupported type."
     ]
    }
   ],
   "source": [
    "df_to_tmp_table(df[:2], 'machines', conn)"
   ],
   "metadata": {
    "collapsed": false,
    "ExecuteTime": {
     "end_time": "2023-08-10T05:52:10.156775700Z",
     "start_time": "2023-08-10T05:52:10.036748900Z"
    }
   }
  },
  {
   "cell_type": "code",
   "execution_count": 1,
   "outputs": [
    {
     "name": "stdout",
     "output_type": "stream",
     "text": [
      "Table 'avg_ts', Column 'disk_bw_std' has NULL values.\n",
      "Table 'avg_ts', Column 'gpu_mem_bw_std' has NULL values.\n",
      "Table 'avg_ts', Column 'pcie_bw_std' has NULL values.\n",
      "Table 'avg_ts', Column 'dlperf_std' has NULL values.\n",
      "Table 'avg_ts', Column 'score_std' has NULL values.\n"
     ]
    }
   ],
   "source": [
    "import sqlite3\n",
    "\n",
    "# Connect to the database\n",
    "conn = sqlite3.connect('../vast.db')\n",
    "cursor = conn.cursor()\n",
    "\n",
    "# Get list of table names\n",
    "tables = cursor.execute(\"SELECT name FROM sqlite_master WHERE type='table'\").fetchall()\n",
    "\n",
    "# Iterate through tables and check for NULL values\n",
    "for table in tables:\n",
    "    table_name = table[0]\n",
    "\n",
    "    # Get list of column names in the table\n",
    "    columns = cursor.execute(f\"PRAGMA table_info({table_name})\").fetchall()\n",
    "\n",
    "    for column in columns:\n",
    "        column_name = column[1]\n",
    "        query = f\"SELECT * FROM {table_name} WHERE {column_name} IS NULL\"\n",
    "        null_rows = cursor.execute(query).fetchall()\n",
    "        if len(null_rows) > 0:\n",
    "            print(f\"Table '{table_name}', Column '{column_name}' has NULL values.\")\n",
    "\n",
    "# Close the connection\n",
    "conn.close()"
   ],
   "metadata": {
    "collapsed": false,
    "ExecuteTime": {
     "end_time": "2023-08-29T03:58:22.999071500Z",
     "start_time": "2023-08-29T03:58:22.663995700Z"
    }
   }
  },
  {
   "cell_type": "code",
   "execution_count": null,
   "outputs": [],
   "source": [
    "df = pd.DataFrame()"
   ],
   "metadata": {
    "collapsed": false
   }
  },
  {
   "cell_type": "code",
   "execution_count": 5,
   "outputs": [
    {
     "name": "stdout",
     "output_type": "stream",
     "text": [
      "Database 'integer_db.sqlite' size: 0.09 MB\n",
      "Database 'integer_non_null_db.sqlite' size: 0.15 MB\n",
      "Database 'real_db.sqlite' size: 0.14 MB\n",
      "Database 'real_non_null_db.sqlite' size: 0.14 MB\n"
     ]
    }
   ],
   "source": [
    "import sqlite3\n",
    "import os\n",
    "import numpy as np\n",
    "\n",
    "DB_PATH = '../data'\n",
    "\n",
    "# Create directories for databases if they don't exist\n",
    "if not os.path.exists(DB_PATH):\n",
    "    os.makedirs(DB_PATH)\n",
    "\n",
    "# Function to create and populate a database with the specified data type and range\n",
    "def create_and_populate_db(db_name, data_type, value_range, size=10000):\n",
    "    db_path = os.path.join(DB_PATH, db_name)\n",
    "\n",
    "    conn = sqlite3.connect(db_path)\n",
    "\n",
    "    conn.execute(f\"CREATE TABLE data (value {data_type})\")\n",
    "\n",
    "    # Generate and insert values within the specified range\n",
    "    values = np.random.randint(*value_range, size=size) if data_type == 'INTEGER' else np.random.uniform(*value_range, size=size).round(1)\n",
    "    rows = [(value,) for value in values]\n",
    "    \n",
    "    # print(rows[:3])\n",
    "    # conn.executemany(\"INSERT INTO data (value) VALUES (?)\", rows)\n",
    "    \n",
    "    for value in values:\n",
    "        conn.execute(f\"INSERT INTO data (value) VALUES ({value})\")\n",
    "\n",
    "    conn.commit()  \n",
    "    conn.execute(\"VACUUM\")          \n",
    "    conn.close()\n",
    "\n",
    "# delete exiting db's\n",
    "for db_name in [f for f in os.listdir(DB_PATH) if f.endswith('.sqlite')]:\n",
    "    db_path = os.path.join(DB_PATH, db_name)\n",
    "    os.remove(db_path)\n",
    "\n",
    "\n",
    "# Create and populate the databases\n",
    "create_and_populate_db('integer_db.sqlite', 'INTEGER', (0, 1000))  \n",
    "create_and_populate_db('integer_non_null_db.sqlite', 'INTEGER NOT NULL', (0, 1000))\n",
    "create_and_populate_db('real_db.sqlite', 'REAL', (0, 100))            \n",
    "create_and_populate_db('real_non_null_db.sqlite', 'REAL NOT NULL', (0, 100))            \n",
    "\n",
    "# Print database sizes\n",
    "for db_name in [f for f in os.listdir(DB_PATH) if f.endswith('.sqlite')]:\n",
    "    db_path = os.path.join(DB_PATH, db_name)\n",
    "    db_size = os.path.getsize(db_path) / (1024 * 1024)  # Size in MB\n",
    "    print(f\"Database '{db_name}' size: {db_size:.2f} MB\")"
   ],
   "metadata": {
    "collapsed": false,
    "ExecuteTime": {
     "end_time": "2023-08-28T15:28:30.782769700Z",
     "start_time": "2023-08-28T15:28:30.352800800Z"
    }
   }
  },
  {
   "cell_type": "code",
   "execution_count": null,
   "outputs": [],
   "source": [],
   "metadata": {
    "collapsed": false
   }
  },
  {
   "cell_type": "code",
   "execution_count": 80,
   "outputs": [
    {
     "name": "stdout",
     "output_type": "stream",
     "text": [
      "The CPU usage is :  0.16666666666666669\n"
     ]
    }
   ],
   "source": [
    "import os\n",
    "import psutil"
   ],
   "metadata": {
    "collapsed": false,
    "ExecuteTime": {
     "end_time": "2023-08-01T06:51:08.978966900Z",
     "start_time": "2023-08-01T06:51:08.811929100Z"
    }
   }
  },
  {
   "cell_type": "code",
   "execution_count": 88,
   "outputs": [
    {
     "name": "stdout",
     "output_type": "stream",
     "text": [
      "The CPU usage is :  0.05\n"
     ]
    }
   ],
   "source": [
    "# Getting loadover15 minutes\n",
    "load1, load5, load15 = psutil.getloadavg()\n",
    "\n",
    "cpu_usage = (load15/os.cpu_count()) * 100\n",
    "\n",
    "print(\"The CPU usage is : \", load1)"
   ],
   "metadata": {
    "collapsed": false,
    "ExecuteTime": {
     "end_time": "2023-08-01T06:53:23.318249900Z",
     "start_time": "2023-08-01T06:53:23.123205300Z"
    }
   }
  },
  {
   "cell_type": "code",
   "execution_count": 89,
   "outputs": [
    {
     "data": {
      "text/plain": "'AMD64 Family 23 Model 113 Stepping 0, AuthenticAMD'"
     },
     "execution_count": 89,
     "metadata": {},
     "output_type": "execute_result"
    }
   ],
   "source": [
    "import platform\n",
    "platform.processor()"
   ],
   "metadata": {
    "collapsed": false,
    "ExecuteTime": {
     "end_time": "2023-08-01T06:54:23.384854200Z",
     "start_time": "2023-08-01T06:54:23.209005Z"
    }
   }
  },
  {
   "cell_type": "code",
   "execution_count": 91,
   "outputs": [
    {
     "data": {
      "text/plain": "scpufreq(current=3593.0, min=0.0, max=3593.0)"
     },
     "execution_count": 91,
     "metadata": {},
     "output_type": "execute_result"
    }
   ],
   "source": [
    "psutil.cpu_freq()"
   ],
   "metadata": {
    "collapsed": false,
    "ExecuteTime": {
     "end_time": "2023-08-01T06:55:48.030286Z",
     "start_time": "2023-08-01T06:55:47.857247600Z"
    }
   }
  },
  {
   "cell_type": "code",
   "execution_count": 93,
   "outputs": [
    {
     "data": {
      "text/plain": "6.1"
     },
     "execution_count": 93,
     "metadata": {},
     "output_type": "execute_result"
    }
   ],
   "source": [
    "psutil.cpu_percent(interval=1)"
   ],
   "metadata": {
    "collapsed": false,
    "ExecuteTime": {
     "end_time": "2023-08-01T06:56:22.699455600Z",
     "start_time": "2023-08-01T06:56:21.520224500Z"
    }
   }
  },
  {
   "cell_type": "code",
   "execution_count": 76,
   "outputs": [
    {
     "data": {
      "text/plain": "24"
     },
     "execution_count": 76,
     "metadata": {},
     "output_type": "execute_result"
    }
   ],
   "source": [
    "os.cpu_count()"
   ],
   "metadata": {
    "collapsed": false,
    "ExecuteTime": {
     "end_time": "2023-08-01T06:50:49.029126700Z",
     "start_time": "2023-08-01T06:50:48.852081700Z"
    }
   }
  },
  {
   "cell_type": "code",
   "execution_count": null,
   "outputs": [],
   "source": [],
   "metadata": {
    "collapsed": false
   }
  },
  {
   "cell_type": "code",
   "execution_count": null,
   "outputs": [],
   "source": [],
   "metadata": {
    "collapsed": false
   }
  },
  {
   "cell_type": "code",
   "execution_count": null,
   "outputs": [],
   "source": [],
   "metadata": {
    "collapsed": false
   }
  },
  {
   "cell_type": "code",
   "execution_count": null,
   "outputs": [],
   "source": [],
   "metadata": {
    "collapsed": false
   }
  },
  {
   "cell_type": "code",
   "execution_count": 28,
   "outputs": [
    {
     "ename": "OperationalError",
     "evalue": "table tmp already exists",
     "output_type": "error",
     "traceback": [
      "\u001B[1;31m---------------------------------------------------------------------------\u001B[0m",
      "\u001B[1;31mOperationalError\u001B[0m                          Traceback (most recent call last)",
      "Cell \u001B[1;32mIn[28], line 1\u001B[0m\n\u001B[1;32m----> 1\u001B[0m \u001B[43mconn\u001B[49m\u001B[38;5;241;43m.\u001B[39;49m\u001B[43mexecute\u001B[49m\u001B[43m(\u001B[49m\u001B[38;5;124;43m'\u001B[39;49m\u001B[38;5;124;43mCREATE TABLE tmp (id, mid)\u001B[39;49m\u001B[38;5;124;43m'\u001B[39;49m\u001B[43m)\u001B[49m\n",
      "\u001B[1;31mOperationalError\u001B[0m: table tmp already exists"
     ]
    }
   ],
   "source": [
    "conn.execute('CREATE TABLE tmp (id, mid)')"
   ],
   "metadata": {
    "collapsed": false,
    "ExecuteTime": {
     "end_time": "2023-07-27T04:06:06.273169200Z",
     "start_time": "2023-07-27T04:06:06.130417900Z"
    }
   }
  },
  {
   "cell_type": "code",
   "execution_count": 32,
   "outputs": [
    {
     "data": {
      "text/plain": "[]"
     },
     "execution_count": 32,
     "metadata": {},
     "output_type": "execute_result"
    }
   ],
   "source": [
    "conn.execute('INSERT INTO tmp VALUES (1, 2)').fetchall()\n",
    "# conn.close()"
   ],
   "metadata": {
    "collapsed": false,
    "ExecuteTime": {
     "end_time": "2023-07-27T04:06:45.319224600Z",
     "start_time": "2023-07-27T04:06:45.185545500Z"
    }
   }
  },
  {
   "cell_type": "code",
   "execution_count": 35,
   "outputs": [
    {
     "data": {
      "text/plain": "[]"
     },
     "execution_count": 35,
     "metadata": {},
     "output_type": "execute_result"
    }
   ],
   "source": [
    "conn.execute('DROP TABLE IF EXISTS map_tbl').fetchall()"
   ],
   "metadata": {
    "collapsed": false,
    "ExecuteTime": {
     "end_time": "2023-07-27T04:07:12.176281300Z",
     "start_time": "2023-07-27T04:07:12.043238800Z"
    }
   }
  },
  {
   "cell_type": "code",
   "execution_count": 37,
   "outputs": [
    {
     "data": {
      "text/plain": "[]"
     },
     "execution_count": 37,
     "metadata": {},
     "output_type": "execute_result"
    }
   ],
   "source": [
    "conn.commit()\n",
    "get_tables(conn)"
   ],
   "metadata": {
    "collapsed": false,
    "ExecuteTime": {
     "end_time": "2023-07-27T04:07:34.758860300Z",
     "start_time": "2023-07-27T04:07:34.631491500Z"
    }
   }
  },
  {
   "cell_type": "code",
   "execution_count": 42,
   "outputs": [],
   "source": [
    "conn.close()"
   ],
   "metadata": {
    "collapsed": false,
    "ExecuteTime": {
     "end_time": "2023-07-27T05:07:23.391626Z",
     "start_time": "2023-07-27T05:07:22.893512700Z"
    }
   }
  },
  {
   "cell_type": "code",
   "execution_count": 9,
   "outputs": [],
   "source": [
    "conn.execute('DROP TABLE IF EXISTS map_tbl')\n",
    "map_tbl = MapTable(\n",
    "    'map_tbl',\n",
    "    'tmp',\n",
    "    ['id', 'mid']\n",
    ")\n",
    "map_tbl.init_db(conn)\n",
    "assert 'map_tbl' in get_tables(conn)\n",
    "info = get_tbl_info('map_tbl', conn)\n",
    "assert info.loc[info.name == 'id', 'pk'].all()\n",
    "assert (info.name == 'mid').any()"
   ],
   "metadata": {
    "collapsed": false,
    "ExecuteTime": {
     "end_time": "2023-07-27T03:40:07.858681700Z",
     "start_time": "2023-07-27T03:40:07.726645600Z"
    }
   }
  },
  {
   "cell_type": "code",
   "execution_count": 54,
   "outputs": [
    {
     "data": {
      "text/plain": "True"
     },
     "execution_count": 54,
     "metadata": {},
     "output_type": "execute_result"
    }
   ],
   "source": [
    "(info.name == 'mid').any()"
   ],
   "metadata": {
    "collapsed": false,
    "ExecuteTime": {
     "end_time": "2023-07-26T06:12:16.719455800Z",
     "start_time": "2023-07-26T06:12:16.585425400Z"
    }
   }
  },
  {
   "cell_type": "code",
   "execution_count": 46,
   "outputs": [
    {
     "data": {
      "text/plain": "True"
     },
     "execution_count": 46,
     "metadata": {},
     "output_type": "execute_result"
    }
   ],
   "source": [
    "all(info.loc[info.name == 'id', 'pk'])"
   ],
   "metadata": {
    "collapsed": false,
    "ExecuteTime": {
     "end_time": "2023-07-26T06:06:26.213082100Z",
     "start_time": "2023-07-26T06:06:26.077052300Z"
    }
   }
  },
  {
   "cell_type": "code",
   "execution_count": 69,
   "outputs": [
    {
     "data": {
      "text/plain": "['host_machine_map',\n 'online_ts',\n 'online_snp',\n 'reliability_ts',\n 'reliability_snp',\n 'hosting_type_ts',\n 'hosting_type_snp',\n 'static_ip_ts',\n 'static_ip_snp',\n 'end_date_ts',\n 'end_date_snp',\n 'compute_cap_ts',\n 'compute_cap_snp',\n 'total_flops_ts',\n 'total_flops_snp',\n 'has_avx_ts',\n 'has_avx_snp',\n 'cpu_cores_ts',\n 'cpu_cores_snp',\n 'cpu_ram_ts',\n 'cpu_ram_snp',\n 'disk_space_ts',\n 'disk_space_snp',\n 'num_gpus_ts',\n 'num_gpus_snp',\n 'pci_gen_ts',\n 'pci_gen_snp',\n 'gpu_lanes_ts',\n 'gpu_lanes_snp',\n 'gpu_ram_ts',\n 'gpu_ram_snp',\n 'bw_nvlink_ts',\n 'bw_nvlink_snp',\n 'verification_ts',\n 'verification_snp',\n 'storage_cost_ts',\n 'storage_cost_snp',\n 'inet_up_cost_ts',\n 'inet_up_cost_snp',\n 'inet_down_cost_ts',\n 'inet_down_cost_snp',\n 'credit_discount_max_ts',\n 'credit_discount_max_snp',\n 'cpu_name_ts',\n 'cpu_name_snp',\n 'disk_name_ts',\n 'disk_name_snp',\n 'mobo_name_ts',\n 'mobo_name_snp',\n 'gpu_name_ts',\n 'gpu_name_snp',\n 'cuda_max_good_ts',\n 'cuda_max_good_snp',\n 'driver_version_ts',\n 'driver_version_snp',\n 'public_ipaddr_ts',\n 'public_ipaddr_snp',\n 'geolocation_ts',\n 'geolocation_snp',\n 'rented_ts',\n 'rented_snp',\n 'dph_base_ts',\n 'dph_base_snp',\n 'min_bid_ts',\n 'min_bid_snp']"
     },
     "execution_count": 69,
     "metadata": {},
     "output_type": "execute_result"
    }
   ],
   "source": [
    "get_tables(conn)"
   ],
   "metadata": {
    "collapsed": false,
    "ExecuteTime": {
     "end_time": "2023-07-28T05:32:52.259013500Z",
     "start_time": "2023-07-28T05:32:52.122979100Z"
    }
   }
  },
  {
   "cell_type": "code",
   "execution_count": 70,
   "outputs": [
    {
     "data": {
      "text/plain": "name   machine_id  reliability   timestamp\n0           11815         6000  1690464352\n1           11814         6000  1690464352\n2           11813         5727  1690464352\n3           11812         9026  1690464352\n4           11811         7779  1690464352\n...           ...          ...         ...\n37259        5456         8515  1690522270\n37260        4795         8063  1690522270\n37261        4558         9821  1690522270\n37262        4557         9848  1690522270\n37263        3792         9180  1690522270\n\n[37264 rows x 3 columns]",
      "text/html": "<div>\n<style scoped>\n    .dataframe tbody tr th:only-of-type {\n        vertical-align: middle;\n    }\n\n    .dataframe tbody tr th {\n        vertical-align: top;\n    }\n\n    .dataframe thead th {\n        text-align: right;\n    }\n</style>\n<table border=\"1\" class=\"dataframe\">\n  <thead>\n    <tr style=\"text-align: right;\">\n      <th>name</th>\n      <th>machine_id</th>\n      <th>reliability</th>\n      <th>timestamp</th>\n    </tr>\n  </thead>\n  <tbody>\n    <tr>\n      <th>0</th>\n      <td>11815</td>\n      <td>6000</td>\n      <td>1690464352</td>\n    </tr>\n    <tr>\n      <th>1</th>\n      <td>11814</td>\n      <td>6000</td>\n      <td>1690464352</td>\n    </tr>\n    <tr>\n      <th>2</th>\n      <td>11813</td>\n      <td>5727</td>\n      <td>1690464352</td>\n    </tr>\n    <tr>\n      <th>3</th>\n      <td>11812</td>\n      <td>9026</td>\n      <td>1690464352</td>\n    </tr>\n    <tr>\n      <th>4</th>\n      <td>11811</td>\n      <td>7779</td>\n      <td>1690464352</td>\n    </tr>\n    <tr>\n      <th>...</th>\n      <td>...</td>\n      <td>...</td>\n      <td>...</td>\n    </tr>\n    <tr>\n      <th>37259</th>\n      <td>5456</td>\n      <td>8515</td>\n      <td>1690522270</td>\n    </tr>\n    <tr>\n      <th>37260</th>\n      <td>4795</td>\n      <td>8063</td>\n      <td>1690522270</td>\n    </tr>\n    <tr>\n      <th>37261</th>\n      <td>4558</td>\n      <td>9821</td>\n      <td>1690522270</td>\n    </tr>\n    <tr>\n      <th>37262</th>\n      <td>4557</td>\n      <td>9848</td>\n      <td>1690522270</td>\n    </tr>\n    <tr>\n      <th>37263</th>\n      <td>3792</td>\n      <td>9180</td>\n      <td>1690522270</td>\n    </tr>\n  </tbody>\n</table>\n<p>37264 rows × 3 columns</p>\n</div>"
     },
     "execution_count": 70,
     "metadata": {},
     "output_type": "execute_result"
    }
   ],
   "source": [
    "table_to_df('reliability_ts', conn)"
   ],
   "metadata": {
    "collapsed": false,
    "ExecuteTime": {
     "end_time": "2023-07-28T05:33:00.845632500Z",
     "start_time": "2023-07-28T05:33:00.647459100Z"
    }
   }
  },
  {
   "cell_type": "code",
   "execution_count": 71,
   "outputs": [],
   "source": [
    "conn.close()"
   ],
   "metadata": {
    "collapsed": false,
    "ExecuteTime": {
     "end_time": "2023-07-28T05:33:29.287728800Z",
     "start_time": "2023-07-28T05:33:29.158700700Z"
    }
   }
  },
  {
   "cell_type": "code",
   "execution_count": 57,
   "outputs": [],
   "source": [
    "machines = get_machines()\n",
    "preprocess(machines)\n",
    "df_to_tmp_table(machines, 'tmp_machines', conn)"
   ],
   "metadata": {
    "collapsed": false,
    "ExecuteTime": {
     "end_time": "2023-07-27T10:04:23.062375700Z",
     "start_time": "2023-07-27T10:04:21.349046800Z"
    }
   }
  },
  {
   "cell_type": "code",
   "execution_count": 61,
   "outputs": [
    {
     "name": "stdout",
     "output_type": "stream",
     "text": [
      "<class 'pandas.core.frame.DataFrame'>\n",
      "RangeIndex: 1209 entries, 0 to 1208\n",
      "Data columns (total 57 columns):\n",
      " #   Column                Non-Null Count  Dtype  \n",
      "---  ------                --------------  -----  \n",
      " 0   bw_nvlink             1209 non-null   int32  \n",
      " 1   compute_cap           1209 non-null   int64  \n",
      " 2   cpu_cores             1209 non-null   int32  \n",
      " 3   cpu_name              1209 non-null   object \n",
      " 4   cpu_ram               1209 non-null   int32  \n",
      " 5   credit_balance        1209 non-null   object \n",
      " 6   credit_discount       1209 non-null   object \n",
      " 7   credit_discount_max   1209 non-null   int32  \n",
      " 8   cuda_max_good         1209 non-null   object \n",
      " 9   direct_port_count     1209 non-null   int64  \n",
      " 10  discount_rate         1209 non-null   float64\n",
      " 11  discounted_dph_total  1209 non-null   float64\n",
      " 12  discounted_hourly     1209 non-null   int64  \n",
      " 13  disk_bw               1209 non-null   float64\n",
      " 14  disk_name             1209 non-null   object \n",
      " 15  disk_space            1209 non-null   int32  \n",
      " 16  dlperf                1209 non-null   float64\n",
      " 17  dlperf_per_dphtotal   1209 non-null   float64\n",
      " 18  dph_base              1209 non-null   int32  \n",
      " 19  driver_version        1209 non-null   object \n",
      " 20  duration              1209 non-null   float64\n",
      " 21  end_date              1209 non-null   int64  \n",
      " 22  flops_per_dphtotal    1209 non-null   float64\n",
      " 23  geolocation           1209 non-null   object \n",
      " 24  gpu_display_active    1209 non-null   bool   \n",
      " 25  gpu_lanes             1209 non-null   int64  \n",
      " 26  gpu_mem_bw            1209 non-null   float64\n",
      " 27  gpu_name              1209 non-null   object \n",
      " 28  gpu_ram               1209 non-null   int64  \n",
      " 29  has_avx               1209 non-null   int32  \n",
      " 30  host_id               1209 non-null   int64  \n",
      " 31  host_run_time         1209 non-null   int64  \n",
      " 32  hosting_type          1209 non-null   int32  \n",
      " 33  inet_down             1209 non-null   float64\n",
      " 34  inet_down_cost        1209 non-null   int32  \n",
      " 35  inet_up               1209 non-null   float64\n",
      " 36  inet_up_cost          1209 non-null   int32  \n",
      " 37  machine_id            1209 non-null   int64  \n",
      " 38  min_bid               1209 non-null   int32  \n",
      " 39  min_chunk             1209 non-null   int64  \n",
      " 40  mobo_name             1209 non-null   object \n",
      " 41  num_gpus              1209 non-null   int64  \n",
      " 42  num_gpus_rented       1209 non-null   int64  \n",
      " 43  pci_gen               1209 non-null   int64  \n",
      " 44  pcie_bw               1209 non-null   float64\n",
      " 45  public_ipaddr         1209 non-null   object \n",
      " 46  reliability           1209 non-null   int32  \n",
      " 47  score                 1209 non-null   float64\n",
      " 48  start_date            1209 non-null   float64\n",
      " 49  static_ip             1209 non-null   object \n",
      " 50  storage_cost          1209 non-null   int32  \n",
      " 51  total_flops           1209 non-null   int32  \n",
      " 52  verification          1209 non-null   int64  \n",
      " 53  verified              1209 non-null   bool   \n",
      " 54  timestamp             1209 non-null   int64  \n",
      " 55  cpu_ram_rnd           1209 non-null   int32  \n",
      " 56  disk_space_rnd        1209 non-null   int32  \n",
      "dtypes: bool(2), float64(13), int32(16), int64(15), object(11)\n",
      "memory usage: 446.4+ KB\n"
     ]
    }
   ],
   "source": [
    "machines.info()"
   ],
   "metadata": {
    "collapsed": false,
    "ExecuteTime": {
     "end_time": "2023-07-28T05:25:09.309068300Z",
     "start_time": "2023-07-28T05:25:09.169036400Z"
    }
   }
  },
  {
   "cell_type": "code",
   "execution_count": 47,
   "outputs": [],
   "source": [
    "name = 'reliability2'\n",
    "table = NewTS(\n",
    "    name,\n",
    "    'tmp_machines',\n",
    "    ['machine_id', name]\n",
    ")"
   ],
   "metadata": {
    "collapsed": false,
    "ExecuteTime": {
     "end_time": "2023-07-27T05:20:34.432613500Z",
     "start_time": "2023-07-27T05:20:34.306584600Z"
    }
   }
  },
  {
   "cell_type": "code",
   "execution_count": 48,
   "outputs": [],
   "source": [
    "table.init_db(conn)"
   ],
   "metadata": {
    "collapsed": false,
    "ExecuteTime": {
     "end_time": "2023-07-27T05:20:37.012718300Z",
     "start_time": "2023-07-27T05:20:36.880688500Z"
    }
   }
  },
  {
   "cell_type": "code",
   "execution_count": 4,
   "outputs": [],
   "source": [
    "conn = sqlite3.connect('../data/vast.db')"
   ],
   "metadata": {
    "collapsed": false,
    "ExecuteTime": {
     "end_time": "2023-08-30T18:21:26.440287900Z",
     "start_time": "2023-08-30T18:21:26.429287700Z"
    }
   }
  },
  {
   "cell_type": "code",
   "execution_count": 5,
   "outputs": [],
   "source": [
    "df = table_to_df('rent_ts', conn)"
   ],
   "metadata": {
    "collapsed": false,
    "ExecuteTime": {
     "end_time": "2023-08-30T18:21:28.274888900Z",
     "start_time": "2023-08-30T18:21:27.808788300Z"
    }
   }
  },
  {
   "cell_type": "code",
   "execution_count": 6,
   "outputs": [],
   "source": [
    "df['date'] = (df.timestamp * 1e9).apply(pd.to_datetime)"
   ],
   "metadata": {
    "collapsed": false,
    "ExecuteTime": {
     "end_time": "2023-08-30T18:21:46.337715400Z",
     "start_time": "2023-08-30T18:21:31.664924500Z"
    }
   }
  },
  {
   "cell_type": "code",
   "execution_count": 14,
   "outputs": [
    {
     "data": {
      "text/plain": "name         id  machine_id  rented   timestamp                date\n989     6723258        8506       0  1691935057 2023-08-13 13:57:37\n67497   6723258        8506       1  1692431140 2023-08-19 07:45:40\n67512   6723258        8506       0  1692431222 2023-08-19 07:47:02\n93397   6723258        8506       1  1692576540 2023-08-21 00:09:00\n93408   6723258        8506       0  1692576621 2023-08-21 00:10:21\n99644   6723258        8506       1  1692622066 2023-08-21 12:47:46\n99880   6723258        8506       0  1692622838 2023-08-21 13:00:38\n144829  6818026        8506       0  1692854475 2023-08-24 05:21:15\n151754  6818026        8506       1  1692901717 2023-08-24 18:28:37\n152158  6818026        8506       0  1692904732 2023-08-24 19:18:52\n152399  6818026        8506       1  1692906994 2023-08-24 19:56:34\n152545  6818026        8506       0  1692907673 2023-08-24 20:07:53\n169380  6818026        8506       1  1693085738 2023-08-26 21:35:38\n172276  6818026        8506       0  1693122884 2023-08-27 07:54:44\n190824  6818026        8506       1  1693331593 2023-08-29 17:53:13\n190971  6818026        8506       0  1693332586 2023-08-29 18:09:46",
      "text/html": "<div>\n<style scoped>\n    .dataframe tbody tr th:only-of-type {\n        vertical-align: middle;\n    }\n\n    .dataframe tbody tr th {\n        vertical-align: top;\n    }\n\n    .dataframe thead th {\n        text-align: right;\n    }\n</style>\n<table border=\"1\" class=\"dataframe\">\n  <thead>\n    <tr style=\"text-align: right;\">\n      <th>name</th>\n      <th>id</th>\n      <th>machine_id</th>\n      <th>rented</th>\n      <th>timestamp</th>\n      <th>date</th>\n    </tr>\n  </thead>\n  <tbody>\n    <tr>\n      <th>989</th>\n      <td>6723258</td>\n      <td>8506</td>\n      <td>0</td>\n      <td>1691935057</td>\n      <td>2023-08-13 13:57:37</td>\n    </tr>\n    <tr>\n      <th>67497</th>\n      <td>6723258</td>\n      <td>8506</td>\n      <td>1</td>\n      <td>1692431140</td>\n      <td>2023-08-19 07:45:40</td>\n    </tr>\n    <tr>\n      <th>67512</th>\n      <td>6723258</td>\n      <td>8506</td>\n      <td>0</td>\n      <td>1692431222</td>\n      <td>2023-08-19 07:47:02</td>\n    </tr>\n    <tr>\n      <th>93397</th>\n      <td>6723258</td>\n      <td>8506</td>\n      <td>1</td>\n      <td>1692576540</td>\n      <td>2023-08-21 00:09:00</td>\n    </tr>\n    <tr>\n      <th>93408</th>\n      <td>6723258</td>\n      <td>8506</td>\n      <td>0</td>\n      <td>1692576621</td>\n      <td>2023-08-21 00:10:21</td>\n    </tr>\n    <tr>\n      <th>99644</th>\n      <td>6723258</td>\n      <td>8506</td>\n      <td>1</td>\n      <td>1692622066</td>\n      <td>2023-08-21 12:47:46</td>\n    </tr>\n    <tr>\n      <th>99880</th>\n      <td>6723258</td>\n      <td>8506</td>\n      <td>0</td>\n      <td>1692622838</td>\n      <td>2023-08-21 13:00:38</td>\n    </tr>\n    <tr>\n      <th>144829</th>\n      <td>6818026</td>\n      <td>8506</td>\n      <td>0</td>\n      <td>1692854475</td>\n      <td>2023-08-24 05:21:15</td>\n    </tr>\n    <tr>\n      <th>151754</th>\n      <td>6818026</td>\n      <td>8506</td>\n      <td>1</td>\n      <td>1692901717</td>\n      <td>2023-08-24 18:28:37</td>\n    </tr>\n    <tr>\n      <th>152158</th>\n      <td>6818026</td>\n      <td>8506</td>\n      <td>0</td>\n      <td>1692904732</td>\n      <td>2023-08-24 19:18:52</td>\n    </tr>\n    <tr>\n      <th>152399</th>\n      <td>6818026</td>\n      <td>8506</td>\n      <td>1</td>\n      <td>1692906994</td>\n      <td>2023-08-24 19:56:34</td>\n    </tr>\n    <tr>\n      <th>152545</th>\n      <td>6818026</td>\n      <td>8506</td>\n      <td>0</td>\n      <td>1692907673</td>\n      <td>2023-08-24 20:07:53</td>\n    </tr>\n    <tr>\n      <th>169380</th>\n      <td>6818026</td>\n      <td>8506</td>\n      <td>1</td>\n      <td>1693085738</td>\n      <td>2023-08-26 21:35:38</td>\n    </tr>\n    <tr>\n      <th>172276</th>\n      <td>6818026</td>\n      <td>8506</td>\n      <td>0</td>\n      <td>1693122884</td>\n      <td>2023-08-27 07:54:44</td>\n    </tr>\n    <tr>\n      <th>190824</th>\n      <td>6818026</td>\n      <td>8506</td>\n      <td>1</td>\n      <td>1693331593</td>\n      <td>2023-08-29 17:53:13</td>\n    </tr>\n    <tr>\n      <th>190971</th>\n      <td>6818026</td>\n      <td>8506</td>\n      <td>0</td>\n      <td>1693332586</td>\n      <td>2023-08-29 18:09:46</td>\n    </tr>\n  </tbody>\n</table>\n</div>"
     },
     "execution_count": 14,
     "metadata": {},
     "output_type": "execute_result"
    }
   ],
   "source": [
    "df[df.machine_id == 8506]"
   ],
   "metadata": {
    "collapsed": false,
    "ExecuteTime": {
     "end_time": "2023-08-30T18:24:13.355798400Z",
     "start_time": "2023-08-30T18:24:13.327928900Z"
    }
   }
  },
  {
   "cell_type": "code",
   "execution_count": 22,
   "outputs": [
    {
     "data": {
      "text/plain": "<Figure size 640x480 with 1 Axes>",
      "image/png": "[encoded data removed]"
     },
     "metadata": {},
     "output_type": "display_data"
    }
   ],
   "source": [
    "\n",
    "sns.lineplot(df.query('machine_id == 8506'), x='date', y='rented');\n",
    "plt.xticks(rotation=90);"
   ],
   "metadata": {
    "collapsed": false,
    "ExecuteTime": {
     "end_time": "2023-08-30T18:29:16.918298400Z",
     "start_time": "2023-08-30T18:29:16.503338Z"
    }
   }
  }
 ],
 "metadata": {
  "kernelspec": {
   "display_name": "Python 3",
   "language": "python",
   "name": "python3"
  },
  "language_info": {
   "codemirror_mode": {
    "name": "ipython",
    "version": 2
   },
   "file_extension": ".py",
   "mimetype": "text/x-python",
   "name": "python",
   "nbconvert_exporter": "python",
   "pygments_lexer": "ipython2",
   "version": "2.7.6"
  }
 },
 "nbformat": 4,
 "nbformat_minor": 0
}
