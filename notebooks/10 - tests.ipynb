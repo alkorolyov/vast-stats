{
 "cells": [
  {
   "cell_type": "code",
   "execution_count": 1,
   "outputs": [],
   "source": [
    "%load_ext autoreload\n",
    "%autoreload 2"
   ],
   "metadata": {
    "collapsed": false,
    "ExecuteTime": {
     "end_time": "2023-10-20T03:31:48.802914800Z",
     "start_time": "2023-10-20T03:31:48.543856300Z"
    }
   }
  },
  {
   "cell_type": "code",
   "execution_count": 2,
   "metadata": {
    "collapsed": true,
    "ExecuteTime": {
     "end_time": "2023-10-20T03:31:49.207475600Z",
     "start_time": "2023-10-20T03:31:48.799914500Z"
    }
   },
   "outputs": [],
   "source": [
    "import sqlite3\n",
    "import numpy as np\n",
    "import pandas as pd\n",
    "from src.tables_old import MapTable, df_to_tmp_table, df_to_table, get_machines, get_offers, get_tables, get_tbl_info, table_to_df, get_tbl_timespan\n",
    "from src.preprocess import preprocess\n",
    "from src.utils import  time_utc_now, np_min_chunk, df_na_vals, reduce_mem_usage\n",
    "import seaborn as sns\n",
    "import matplotlib.pyplot as plt\n",
    "import logging\n",
    "\n",
    "import warnings\n",
    "\n",
    "# Filter out all warnings related to pandas\n",
    "warnings.filterwarnings(\"ignore\", category=FutureWarning)\n",
    "warnings.filterwarnings(\"ignore\", category=DeprecationWarning)"
   ]
  },
  {
   "cell_type": "code",
   "execution_count": 4,
   "outputs": [
    {
     "data": {
      "text/plain": "0        NaN\n1       56.0\n2       53.0\n3       53.0\n4       53.0\n        ... \n1323    60.0\n1324    54.0\n1325    53.0\n1326    53.0\n1327    55.0\nName: timestamp, Length: 1328, dtype: float64"
     },
     "execution_count": 4,
     "metadata": {},
     "output_type": "execute_result"
    }
   ],
   "source": [
    "from src.manager import DbManager\n",
    "\n",
    "dbm = DbManager('../data/vast.db')\n",
    "# dbm = DbManager('../vast.db')\n",
    "\n",
    "dbm.connect()\n",
    "ts = dbm.table_to_df('ts_idx').timestamp\n",
    "dbm.close()\n",
    "\n",
    "sec = pd.to_datetime(ts * 1e9).diff().dt.seconds\n",
    "# sec.describe()\n",
    "\n",
    "sec"
   ],
   "metadata": {
    "collapsed": false,
    "ExecuteTime": {
     "end_time": "2023-10-20T03:32:01.259182500Z",
     "start_time": "2023-10-20T03:31:59.650920200Z"
    }
   }
  },
  {
   "cell_type": "code",
   "execution_count": 5,
   "outputs": [
    {
     "data": {
      "text/plain": "<Figure size 640x480 with 1 Axes>",
      "image/png": "[encoded data removed]"
     },
     "metadata": {},
     "output_type": "display_data"
    }
   ],
   "source": [
    "import seaborn as sns\n",
    "sns.histplot(sec);"
   ],
   "metadata": {
    "collapsed": false,
    "ExecuteTime": {
     "end_time": "2023-10-20T03:32:12.452455200Z",
     "start_time": "2023-10-20T03:32:11.471670300Z"
    }
   }
  },
  {
   "cell_type": "code",
   "execution_count": 3,
   "outputs": [],
   "source": [
    "from src.utils import round_base\n",
    "df = get_machines()"
   ],
   "metadata": {
    "collapsed": false,
    "ExecuteTime": {
     "end_time": "2023-09-12T17:18:29.398549600Z",
     "start_time": "2023-09-12T17:18:27.252748Z"
    }
   }
  },
  {
   "cell_type": "code",
   "execution_count": 2,
   "outputs": [
    {
     "name": "stdout",
     "output_type": "stream",
     "text": [
      "Timespan: 1 days 20:07:26\n",
      "Size:  19.86 mb\n",
      "Size per day:  10.80 mb\n",
      "Size per year:  3943 mb\n"
     ]
    }
   ],
   "source": [
    "import sqlite3\n",
    "import os\n",
    "import pandas as pd\n",
    "from src.manager import DbManager\n",
    "\n",
    "db_path = '../data/vast.db'\n",
    "# db_path = '../vast.db'\n",
    "\n",
    "dbm = DbManager(db_path)\n",
    "dbm.connect()\n",
    "timespan = dbm.get_tbl_timespan('ts_idx')\n",
    "total_days = timespan.total_seconds() / (3600 * 24)\n",
    "\n",
    "print('Timespan:', timespan)\n",
    "\n",
    "dbm.execute('VACUUM')\n",
    "size = os.path.getsize(db_path) / (1024 * 1024) # Size in Mb\n",
    "\n",
    "try:\n",
    "    print(f'Size: {size: .2f} mb')\n",
    "    print(f'Size per day: {size / total_days: .2f} mb')\n",
    "    print(f'Size per year: {size / total_days * 365: .0f} mb')\n",
    "except:\n",
    "    pass\n",
    "\n",
    "dbm.close()"
   ],
   "metadata": {
    "collapsed": false,
    "ExecuteTime": {
     "end_time": "2023-10-21T04:07:35.218438100Z",
     "start_time": "2023-10-21T04:07:34.730638200Z"
    }
   }
  },
  {
   "cell_type": "code",
   "execution_count": 11,
   "outputs": [
    {
     "data": {
      "text/plain": "0     2023-10-21 00:00:50\n1     2023-10-21 00:01:46\n2     2023-10-21 00:02:39\n3     2023-10-21 00:03:33\n4     2023-10-21 00:04:27\n              ...        \n208   2023-10-21 03:08:24\n209   2023-10-21 03:09:17\n210   2023-10-21 03:10:09\n211   2023-10-21 03:11:02\n212   2023-10-21 03:11:56\nLength: 213, dtype: datetime64[ns]"
     },
     "execution_count": 11,
     "metadata": {},
     "output_type": "execute_result"
    }
   ],
   "source": [
    "dbm.connect()\n",
    "ts = [x[0] for x in dbm.execute('SELECT DISTINCT timestamp FROM avg_snp').fetchall()]\n",
    "pd.to_datetime(pd.Series(ts), unit='s')"
   ],
   "metadata": {
    "collapsed": false,
    "ExecuteTime": {
     "end_time": "2023-10-21T05:38:28.354935500Z",
     "start_time": "2023-10-21T05:38:28.293921400Z"
    }
   }
  },
  {
   "cell_type": "code",
   "execution_count": 13,
   "outputs": [
    {
     "data": {
      "text/plain": "[(1697699070,), (1697760000,), (1697846400,)]"
     },
     "execution_count": 13,
     "metadata": {},
     "output_type": "execute_result"
    }
   ],
   "source": [
    "dbm.execute('SELECT DISTINCT timestamp FROM avg_ts').fetchall()"
   ],
   "metadata": {
    "collapsed": false,
    "ExecuteTime": {
     "end_time": "2023-10-21T05:38:51.186328300Z",
     "start_time": "2023-10-21T05:38:51.179325100Z"
    }
   }
  },
  {
   "cell_type": "code",
   "execution_count": 25,
   "outputs": [
    {
     "name": "stdout",
     "output_type": "stream",
     "text": [
      "2023-10-22 00:00:00 1697932800\n"
     ]
    }
   ],
   "source": [
    "import math\n",
    "period = pd.to_timedelta('1 day').total_seconds()\n",
    "end = int(math.ceil(dbm.get_last_ts('avg_snp') / period) * period)\n",
    "print(pd.to_datetime(end, unit='s'), end)"
   ],
   "metadata": {
    "collapsed": false,
    "ExecuteTime": {
     "end_time": "2023-10-21T05:45:45.832485Z",
     "start_time": "2023-10-21T05:45:45.814481100Z"
    }
   }
  },
  {
   "cell_type": "code",
   "execution_count": 17,
   "outputs": [
    {
     "data": {
      "text/plain": "DatetimeIndex(['2023-10-19 07:04:30', '2023-10-20 00:00:00',\n               '2023-10-21 00:00:00'],\n              dtype='datetime64[ns]', freq=None)"
     },
     "execution_count": 17,
     "metadata": {},
     "output_type": "execute_result"
    }
   ],
   "source": [
    "pd.to_datetime(dbm.table_to_df('avg_ts').timestamp.unique(), unit='s')"
   ],
   "metadata": {
    "collapsed": false,
    "ExecuteTime": {
     "end_time": "2023-10-21T05:42:54.124800500Z",
     "start_time": "2023-10-21T05:42:54.065787Z"
    }
   }
  },
  {
   "cell_type": "code",
   "execution_count": 111,
   "outputs": [
    {
     "data": {
      "text/plain": "                name  pages   size  percentage\n0              total  19431  75.90      100.00\n1     reliability_ts  12681  49.54       65.26\n2            rent_ts   2441   9.54       12.56\n3            cost_ts   1239   4.84        6.38\n4             avg_ts   1113   4.35        5.73\n5             eod_ts    834   3.26        4.29\n6            disk_ts    673   2.63        3.46\n7      timestamp_tbl     96   0.38        0.49\n8        hardware_ts     93   0.36        0.48\n9       hardware_snp     55   0.21        0.28\n10          rent_snp     53   0.21        0.27\n11         online_ts     43   0.17        0.22\n12           eod_snp     33   0.13        0.17\n13        cpu_ram_ts     15   0.06        0.08\n14          cost_snp     16   0.06        0.08\n15  host_machine_map      9   0.04        0.05\n16        online_snp     10   0.04        0.05\n17       cpu_ram_snp      8   0.03        0.04\n18          disk_snp      8   0.03        0.04\n19   reliability_snp      8   0.03        0.04\n20     sqlite_schema      3   0.01        0.02",
      "text/html": "<div>\n<style scoped>\n    .dataframe tbody tr th:only-of-type {\n        vertical-align: middle;\n    }\n\n    .dataframe tbody tr th {\n        vertical-align: top;\n    }\n\n    .dataframe thead th {\n        text-align: right;\n    }\n</style>\n<table border=\"1\" class=\"dataframe\">\n  <thead>\n    <tr style=\"text-align: right;\">\n      <th></th>\n      <th>name</th>\n      <th>pages</th>\n      <th>size</th>\n      <th>percentage</th>\n    </tr>\n  </thead>\n  <tbody>\n    <tr>\n      <th>0</th>\n      <td>total</td>\n      <td>19431</td>\n      <td>75.90</td>\n      <td>100.00</td>\n    </tr>\n    <tr>\n      <th>1</th>\n      <td>reliability_ts</td>\n      <td>12681</td>\n      <td>49.54</td>\n      <td>65.26</td>\n    </tr>\n    <tr>\n      <th>2</th>\n      <td>rent_ts</td>\n      <td>2441</td>\n      <td>9.54</td>\n      <td>12.56</td>\n    </tr>\n    <tr>\n      <th>3</th>\n      <td>cost_ts</td>\n      <td>1239</td>\n      <td>4.84</td>\n      <td>6.38</td>\n    </tr>\n    <tr>\n      <th>4</th>\n      <td>avg_ts</td>\n      <td>1113</td>\n      <td>4.35</td>\n      <td>5.73</td>\n    </tr>\n    <tr>\n      <th>5</th>\n      <td>eod_ts</td>\n      <td>834</td>\n      <td>3.26</td>\n      <td>4.29</td>\n    </tr>\n    <tr>\n      <th>6</th>\n      <td>disk_ts</td>\n      <td>673</td>\n      <td>2.63</td>\n      <td>3.46</td>\n    </tr>\n    <tr>\n      <th>7</th>\n      <td>timestamp_tbl</td>\n      <td>96</td>\n      <td>0.38</td>\n      <td>0.49</td>\n    </tr>\n    <tr>\n      <th>8</th>\n      <td>hardware_ts</td>\n      <td>93</td>\n      <td>0.36</td>\n      <td>0.48</td>\n    </tr>\n    <tr>\n      <th>9</th>\n      <td>hardware_snp</td>\n      <td>55</td>\n      <td>0.21</td>\n      <td>0.28</td>\n    </tr>\n    <tr>\n      <th>10</th>\n      <td>rent_snp</td>\n      <td>53</td>\n      <td>0.21</td>\n      <td>0.27</td>\n    </tr>\n    <tr>\n      <th>11</th>\n      <td>online_ts</td>\n      <td>43</td>\n      <td>0.17</td>\n      <td>0.22</td>\n    </tr>\n    <tr>\n      <th>12</th>\n      <td>eod_snp</td>\n      <td>33</td>\n      <td>0.13</td>\n      <td>0.17</td>\n    </tr>\n    <tr>\n      <th>13</th>\n      <td>cpu_ram_ts</td>\n      <td>15</td>\n      <td>0.06</td>\n      <td>0.08</td>\n    </tr>\n    <tr>\n      <th>14</th>\n      <td>cost_snp</td>\n      <td>16</td>\n      <td>0.06</td>\n      <td>0.08</td>\n    </tr>\n    <tr>\n      <th>15</th>\n      <td>host_machine_map</td>\n      <td>9</td>\n      <td>0.04</td>\n      <td>0.05</td>\n    </tr>\n    <tr>\n      <th>16</th>\n      <td>online_snp</td>\n      <td>10</td>\n      <td>0.04</td>\n      <td>0.05</td>\n    </tr>\n    <tr>\n      <th>17</th>\n      <td>cpu_ram_snp</td>\n      <td>8</td>\n      <td>0.03</td>\n      <td>0.04</td>\n    </tr>\n    <tr>\n      <th>18</th>\n      <td>disk_snp</td>\n      <td>8</td>\n      <td>0.03</td>\n      <td>0.04</td>\n    </tr>\n    <tr>\n      <th>19</th>\n      <td>reliability_snp</td>\n      <td>8</td>\n      <td>0.03</td>\n      <td>0.04</td>\n    </tr>\n    <tr>\n      <th>20</th>\n      <td>sqlite_schema</td>\n      <td>3</td>\n      <td>0.01</td>\n      <td>0.02</td>\n    </tr>\n  </tbody>\n</table>\n</div>"
     },
     "execution_count": 111,
     "metadata": {},
     "output_type": "execute_result"
    }
   ],
   "source": [
    "from src.manager import DbManager\n",
    "dbm = DbManager(db_path)\n",
    "dbm.connect()\n",
    "dbm.get_db_stats()"
   ],
   "metadata": {
    "collapsed": false,
    "ExecuteTime": {
     "end_time": "2023-10-19T09:58:50.737402800Z",
     "start_time": "2023-10-19T09:58:50.220286500Z"
    }
   }
  },
  {
   "cell_type": "code",
   "execution_count": 112,
   "outputs": [
    {
     "data": {
      "text/plain": "Timedelta('33 days 11:21:17')"
     },
     "execution_count": 112,
     "metadata": {},
     "output_type": "execute_result"
    }
   ],
   "source": [
    "dbm.get_tbl_timespan('timestamp_tbl')"
   ],
   "metadata": {
    "collapsed": false,
    "ExecuteTime": {
     "end_time": "2023-10-19T10:01:49.792349700Z",
     "start_time": "2023-10-19T10:01:49.650317400Z"
    }
   }
  },
  {
   "cell_type": "code",
   "execution_count": 113,
   "outputs": [],
   "source": [
    "df = dbm.table_to_df('timestamp_tbl')"
   ],
   "metadata": {
    "collapsed": false,
    "ExecuteTime": {
     "end_time": "2023-10-19T10:01:53.952971300Z",
     "start_time": "2023-10-19T10:01:53.793934500Z"
    }
   }
  },
  {
   "cell_type": "code",
   "execution_count": 114,
   "outputs": [
    {
     "data": {
      "text/plain": "count    38694.000000\nmean        74.742260\nstd         36.997593\nmin         49.000000\n25%         52.000000\n50%         54.000000\n75%        103.000000\nmax       3471.000000\nName: timestamp, dtype: float64"
     },
     "execution_count": 114,
     "metadata": {},
     "output_type": "execute_result"
    }
   ],
   "source": [
    "df.timestamp.diff().describe()"
   ],
   "metadata": {
    "collapsed": false,
    "ExecuteTime": {
     "end_time": "2023-10-19T10:01:54.987995Z",
     "start_time": "2023-10-19T10:01:54.834002700Z"
    }
   }
  },
  {
   "cell_type": "code",
   "execution_count": 45,
   "outputs": [
    {
     "data": {
      "text/plain": "<Figure size 640x480 with 1 Axes>",
      "image/png": "[encoded data removed]"
     },
     "metadata": {},
     "output_type": "display_data"
    }
   ],
   "source": [
    "import seaborn as sns\n",
    "import matplotlib.pyplot as plt\n",
    "\n",
    "sns.histplot(df.diff().query('timestamp < 200'))\n",
    "plt.yscale('log');"
   ],
   "metadata": {
    "collapsed": false,
    "ExecuteTime": {
     "end_time": "2023-10-10T07:25:02.418235100Z",
     "start_time": "2023-10-10T07:25:01.564532700Z"
    }
   }
  },
  {
   "cell_type": "code",
   "execution_count": 19,
   "outputs": [],
   "source": [
    "dbm.disconnect()"
   ],
   "metadata": {
    "collapsed": false,
    "ExecuteTime": {
     "end_time": "2023-10-10T04:53:30.821626600Z",
     "start_time": "2023-10-10T04:53:30.663591800Z"
    }
   }
  },
  {
   "cell_type": "code",
   "execution_count": 40,
   "outputs": [
    {
     "data": {
      "text/plain": "4553"
     },
     "execution_count": 40,
     "metadata": {},
     "output_type": "execute_result"
    }
   ],
   "source": [
    "df.groupby('machine_id')['disk_bw'].resample('1D').mean().round().astype(np.uint16).reset_index().to_sql('disk_bw_avg', conn, if_exists='replace', index=False)"
   ],
   "metadata": {
    "collapsed": false
   }
  },
  {
   "cell_type": "code",
   "execution_count": 41,
   "outputs": [
    {
     "data": {
      "text/plain": "4553"
     },
     "execution_count": 41,
     "metadata": {},
     "output_type": "execute_result"
    }
   ],
   "source": [
    "df.groupby('machine_id')['disk_bw'].resample('1D').std().fillna(0).astype(np.uint16).reset_index().to_sql('disk_bw_std', conn, if_exists='replace', index=False)"
   ],
   "metadata": {
    "collapsed": false,
    "ExecuteTime": {
     "end_time": "2023-09-15T16:47:41.514924800Z",
     "start_time": "2023-09-15T16:47:39.750527600Z"
    }
   }
  },
  {
   "cell_type": "code",
   "execution_count": 115,
   "outputs": [],
   "source": [
    "conn.close()"
   ],
   "metadata": {
    "collapsed": false,
    "ExecuteTime": {
     "end_time": "2023-10-19T13:02:51.840267Z",
     "start_time": "2023-10-19T13:02:51.707235400Z"
    }
   }
  },
  {
   "cell_type": "code",
   "execution_count": 23,
   "outputs": [
    {
     "name": "stdout",
     "output_type": "stream",
     "text": [
      "Database 'integer_db.sqlite' size: 932.00 KB\n",
      "Database 'real_db.sqlite' size: 1564.00 KB\n"
     ]
    }
   ],
   "source": [
    "import sqlite3\n",
    "import os\n",
    "import numpy as np\n",
    "\n",
    "DB_PATH = '../data'\n",
    "\n",
    "# Create directories for databases if they don't exist\n",
    "if not os.path.exists(DB_PATH):\n",
    "    os.makedirs(DB_PATH)\n",
    "\n",
    "# Function to create and populate a database with the specified data type and range\n",
    "def create_and_populate_db(db_name, data_type, value_range, size=100000):\n",
    "    db_path = os.path.join(DB_PATH, db_name)\n",
    "\n",
    "    conn = sqlite3.connect(db_path)\n",
    "\n",
    "    conn.execute(f\"CREATE TABLE data (value {data_type})\")\n",
    "\n",
    "\n",
    "    # Generate and insert values within the specified range\n",
    "    values = None\n",
    "    if 'INTEGER' in data_type:\n",
    "        values = np.random.randint(*value_range, size=size, dtype=np.uint32)\n",
    "    elif 'REAL' in data_type:\n",
    "        values = np.random.uniform(*value_range, size=size).astype(np.float32)\n",
    "    else:\n",
    "        raise ValueError('Unknown type')        \n",
    "        \n",
    "    rows = [(value,) for value in values]\n",
    "    \n",
    "    \n",
    "    try:\n",
    "        # print(rows[:3])\n",
    "        # conn.executemany(\"INSERT INTO data (value) VALUES (?)\", rows)\n",
    "\n",
    "        for value in values:\n",
    "            conn.execute(f\"INSERT INTO data (value) VALUES ({value})\")\n",
    "\n",
    "        conn.commit()  \n",
    "        conn.execute(\"VACUUM\")    \n",
    "    \n",
    "    except Exception as e:\n",
    "        print(e)\n",
    "    \n",
    "    conn.close()\n",
    "\n",
    "# delete exiting db's\n",
    "for db_name in [f for f in os.listdir(DB_PATH) if f.endswith('.sqlite')]:\n",
    "    db_path = os.path.join(DB_PATH, db_name)\n",
    "    os.remove(db_path)\n",
    "\n",
    "\n",
    "# Create and populate the databases\n",
    "create_and_populate_db('integer_db.sqlite', 'INTEGER', (0, 300))  \n",
    "# create_and_populate_db('integer_non_null_db.sqlite', 'INTEGER NOT NULL', (0, 1000))\n",
    "create_and_populate_db('real_db.sqlite', 'REAL', (0, 1))            \n",
    "# create_and_populate_db('real_non_null_db.sqlite', 'REAL NOT NULL', (0, 1000))            \n",
    "# Print database sizes\n",
    "for db_name in [f for f in os.listdir(DB_PATH) if f.endswith('.sqlite')]:\n",
    "    db_path = os.path.join(DB_PATH, db_name)\n",
    "    db_size = os.path.getsize(db_path) / (1024)  # Size in KB\n",
    "    print(f\"Database '{db_name}' size: {db_size:.2f} KB\")"
   ],
   "metadata": {
    "collapsed": false,
    "ExecuteTime": {
     "end_time": "2023-09-18T05:10:03.254904Z",
     "start_time": "2023-09-18T05:10:01.639601200Z"
    }
   }
  },
  {
   "cell_type": "code",
   "execution_count": 47,
   "outputs": [],
   "source": [],
   "metadata": {
    "collapsed": false,
    "ExecuteTime": {
     "end_time": "2023-09-11T04:48:55.375131Z",
     "start_time": "2023-09-11T04:48:55.332122600Z"
    }
   }
  },
  {
   "cell_type": "code",
   "execution_count": 48,
   "outputs": [],
   "source": [
    "import os\n",
    "import psutil"
   ],
   "metadata": {
    "collapsed": false,
    "ExecuteTime": {
     "end_time": "2023-09-11T04:48:55.488530200Z",
     "start_time": "2023-09-11T04:48:55.347124400Z"
    }
   }
  },
  {
   "cell_type": "code",
   "execution_count": 49,
   "outputs": [
    {
     "name": "stdout",
     "output_type": "stream",
     "text": [
      "The CPU usage is :  0.0\n"
     ]
    }
   ],
   "source": [
    "# Getting loadover15 minutes\n",
    "load1, load5, load15 = psutil.getloadavg()\n",
    "\n",
    "cpu_usage = (load15/os.cpu_count()) * 100\n",
    "\n",
    "print(\"The CPU usage is : \", load1)"
   ],
   "metadata": {
    "collapsed": false,
    "ExecuteTime": {
     "end_time": "2023-09-11T04:48:56.224697200Z",
     "start_time": "2023-09-11T04:48:55.490532Z"
    }
   }
  }
 ],
 "metadata": {
  "kernelspec": {
   "name": "ml",
   "language": "python",
   "display_name": "ml"
  },
  "language_info": {
   "codemirror_mode": {
    "name": "ipython",
    "version": 2
   },
   "file_extension": ".py",
   "mimetype": "text/x-python",
   "name": "python",
   "nbconvert_exporter": "python",
   "pygments_lexer": "ipython2",
   "version": "2.7.6"
  }
 },
 "nbformat": 4,
 "nbformat_minor": 0
}
