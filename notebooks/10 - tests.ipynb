{
 "cells": [
  {
   "cell_type": "code",
   "execution_count": 2,
   "outputs": [
    {
     "name": "stdout",
     "output_type": "stream",
     "text": [
      "The autoreload extension is already loaded. To reload it, use:\n",
      "  %reload_ext autoreload\n"
     ]
    }
   ],
   "source": [
    "%load_ext autoreload\n",
    "%autoreload 2"
   ],
   "metadata": {
    "collapsed": false,
    "ExecuteTime": {
     "end_time": "2023-10-22T05:47:49.856452900Z",
     "start_time": "2023-10-22T05:47:49.716420300Z"
    }
   }
  },
  {
   "cell_type": "code",
   "execution_count": 1,
   "metadata": {
    "collapsed": true,
    "ExecuteTime": {
     "end_time": "2023-10-23T04:40:07.182030800Z",
     "start_time": "2023-10-23T04:40:07.014993800Z"
    }
   },
   "outputs": [],
   "source": [
    "import sqlite3\n",
    "import numpy as np\n",
    "import pandas as pd\n",
    "from src.tables_old import MapTable, df_to_tmp_table, df_to_table, get_machines, get_offers, get_tables, get_tbl_info, table_to_df, get_tbl_timespan\n",
    "from src.preprocess import preprocess\n",
    "from src.utils import  time_utc_now, np_min_chunk, df_na_vals, reduce_mem_usage\n",
    "import seaborn as sns\n",
    "import matplotlib.pyplot as plt\n",
    "import logging\n",
    "\n",
    "import warnings\n",
    "\n",
    "# Filter out all warnings related to pandas\n",
    "warnings.filterwarnings(\"ignore\", category=FutureWarning)\n",
    "warnings.filterwarnings(\"ignore\", category=DeprecationWarning)"
   ]
  },
  {
   "cell_type": "code",
   "execution_count": 2,
   "outputs": [
    {
     "data": {
      "text/plain": "0        NaN\n1       56.0\n2       53.0\n3       53.0\n4       53.0\n        ... \n6108    54.0\n6109    56.0\n6110    53.0\n6111    54.0\n6112    52.0\nName: timestamp, Length: 6113, dtype: float64"
     },
     "execution_count": 2,
     "metadata": {},
     "output_type": "execute_result"
    }
   ],
   "source": [
    "from src.manager import DbManager\n",
    "\n",
    "dbm = DbManager('../data/vast.db')\n",
    "# dbm = DbManager('../vast.db')\n",
    "\n",
    "dbm.connect()\n",
    "ts = dbm.table_to_df('ts_idx').timestamp\n",
    "dbm.close()\n",
    "\n",
    "sec = pd.to_datetime(ts * 1e9).diff().dt.seconds\n",
    "# sec.describe()\n",
    "\n",
    "sec"
   ],
   "metadata": {
    "collapsed": false,
    "ExecuteTime": {
     "end_time": "2023-10-23T04:40:07.207037200Z",
     "start_time": "2023-10-23T04:40:07.159026200Z"
    }
   }
  },
  {
   "cell_type": "code",
   "execution_count": 3,
   "outputs": [
    {
     "data": {
      "text/plain": "<Figure size 640x480 with 1 Axes>",
      "image/png": "[encoded data removed]"
     },
     "metadata": {},
     "output_type": "display_data"
    }
   ],
   "source": [
    "import seaborn as sns\n",
    "sns.histplot(sec);"
   ],
   "metadata": {
    "collapsed": false,
    "ExecuteTime": {
     "end_time": "2023-10-23T04:40:08.338289600Z",
     "start_time": "2023-10-23T04:40:07.207037200Z"
    }
   }
  },
  {
   "cell_type": "code",
   "execution_count": 4,
   "outputs": [],
   "source": [
    "dbm.close()"
   ],
   "metadata": {
    "collapsed": false,
    "ExecuteTime": {
     "end_time": "2023-10-23T04:40:12.679251900Z",
     "start_time": "2023-10-23T04:40:12.654247Z"
    }
   }
  },
  {
   "cell_type": "code",
   "execution_count": 3,
   "outputs": [],
   "source": [
    "from src.utils import round_base\n",
    "df = get_machines()"
   ],
   "metadata": {
    "collapsed": false,
    "ExecuteTime": {
     "end_time": "2023-09-12T17:18:29.398549600Z",
     "start_time": "2023-09-12T17:18:27.252748Z"
    }
   }
  },
  {
   "cell_type": "code",
   "execution_count": 9,
   "outputs": [
    {
     "name": "stdout",
     "output_type": "stream",
     "text": [
      "Timespan: 3 days 21:34:05\n",
      "Size:  12.13 mb\n",
      "Size per day:  3.11 mb\n",
      "Size per year:  1136 mb\n"
     ]
    }
   ],
   "source": [
    "import sqlite3\n",
    "import os\n",
    "import pandas as pd\n",
    "from src.manager import DbManager\n",
    "\n",
    "db_path = '../data/vast.db'\n",
    "# db_path = '../vast.db'\n",
    "\n",
    "dbm = DbManager(db_path)\n",
    "dbm.connect()\n",
    "timespan = dbm.get_tbl_timespan('ts_idx')\n",
    "total_days = timespan.total_seconds() / (3600 * 24)\n",
    "\n",
    "print('Timespan:', timespan)\n",
    "\n",
    "dbm.execute('VACUUM')\n",
    "size = os.path.getsize(db_path) / (1024 * 1024) # Size in Mb\n",
    "\n",
    "try:\n",
    "    print(f'Size: {size: .2f} mb')\n",
    "    print(f'Size per day: {size / total_days: .2f} mb')\n",
    "    print(f'Size per year: {size / total_days * 365: .0f} mb')\n",
    "except:\n",
    "    pass\n",
    "\n",
    "dbm.close()"
   ],
   "metadata": {
    "collapsed": false,
    "ExecuteTime": {
     "end_time": "2023-10-23T04:41:27.272253500Z",
     "start_time": "2023-10-23T04:41:26.970708200Z"
    }
   }
  },
  {
   "cell_type": "code",
   "execution_count": 8,
   "outputs": [],
   "source": [
    "dbm.close()"
   ],
   "metadata": {
    "collapsed": false,
    "ExecuteTime": {
     "end_time": "2023-10-22T05:48:39.963176500Z",
     "start_time": "2023-10-22T05:48:39.814142200Z"
    }
   }
  },
  {
   "cell_type": "code",
   "execution_count": 10,
   "outputs": [
    {
     "name": "stdout",
     "output_type": "stream",
     "text": [
      "0     2023-10-22 00:00:37\n",
      "1     2023-10-22 00:01:30\n",
      "2     2023-10-22 00:02:23\n",
      "3     2023-10-22 00:03:16\n",
      "4     2023-10-22 00:04:08\n",
      "              ...        \n",
      "390   2023-10-22 05:57:18\n",
      "391   2023-10-22 05:58:11\n",
      "392   2023-10-22 05:59:04\n",
      "393   2023-10-22 05:59:56\n",
      "394   2023-10-22 06:00:49\n",
      "Length: 395, dtype: datetime64[ns]\n"
     ]
    }
   ],
   "source": [
    "dbm.connect()\n",
    "ts = [x[0] for x in dbm.execute('SELECT DISTINCT timestamp FROM avg_snp').fetchall()]\n",
    "print(pd.to_datetime(pd.Series(ts), unit='s'))\n"
   ],
   "metadata": {
    "collapsed": false,
    "ExecuteTime": {
     "end_time": "2023-10-22T06:02:08.655110800Z",
     "start_time": "2023-10-22T06:02:08.562090900Z"
    }
   }
  },
  {
   "cell_type": "code",
   "execution_count": 11,
   "outputs": [
    {
     "data": {
      "text/plain": "[(1697760000,), (1697846400,), (1697932800,)]"
     },
     "execution_count": 11,
     "metadata": {},
     "output_type": "execute_result"
    }
   ],
   "source": [
    "dbm.execute('SELECT DISTINCT timestamp FROM avg_ts').fetchall()"
   ],
   "metadata": {
    "collapsed": false,
    "ExecuteTime": {
     "end_time": "2023-10-22T06:02:11.324115100Z",
     "start_time": "2023-10-22T06:02:11.314112500Z"
    }
   }
  },
  {
   "cell_type": "code",
   "execution_count": 12,
   "outputs": [
    {
     "name": "stdout",
     "output_type": "stream",
     "text": [
      "2023-10-23 00:00:00 1698019200\n"
     ]
    }
   ],
   "source": [
    "import math\n",
    "period = pd.to_timedelta('1 day').total_seconds()\n",
    "end = int(math.ceil(dbm.get_last_ts('avg_snp') / period) * period)\n",
    "print(pd.to_datetime(end, unit='s'), end)"
   ],
   "metadata": {
    "collapsed": false,
    "ExecuteTime": {
     "end_time": "2023-10-22T06:02:14.748521700Z",
     "start_time": "2023-10-22T06:02:14.722516600Z"
    }
   }
  },
  {
   "cell_type": "code",
   "execution_count": 26,
   "outputs": [
    {
     "data": {
      "text/plain": "1697932800"
     },
     "execution_count": 26,
     "metadata": {},
     "output_type": "execute_result"
    }
   ],
   "source": [
    "ts = 1697932800\n",
    "int(math.ceil(ts / period) * period)"
   ],
   "metadata": {
    "collapsed": false,
    "ExecuteTime": {
     "end_time": "2023-10-21T05:55:08.250741100Z",
     "start_time": "2023-10-21T05:55:08.229736700Z"
    }
   }
  },
  {
   "cell_type": "code",
   "execution_count": 13,
   "outputs": [
    {
     "data": {
      "text/plain": "DatetimeIndex(['2023-10-20', '2023-10-21', '2023-10-22'], dtype='datetime64[ns]', freq=None)"
     },
     "execution_count": 13,
     "metadata": {},
     "output_type": "execute_result"
    }
   ],
   "source": [
    "pd.to_datetime(dbm.table_to_df('avg_ts').timestamp.unique(), unit='s')"
   ],
   "metadata": {
    "collapsed": false,
    "ExecuteTime": {
     "end_time": "2023-10-22T06:02:18.069106900Z",
     "start_time": "2023-10-22T06:02:18.020096Z"
    }
   }
  },
  {
   "cell_type": "code",
   "execution_count": 14,
   "outputs": [],
   "source": [
    "dbm.close()"
   ],
   "metadata": {
    "collapsed": false,
    "ExecuteTime": {
     "end_time": "2023-10-22T06:02:28.460457500Z",
     "start_time": "2023-10-22T06:02:28.447455Z"
    }
   }
  },
  {
   "cell_type": "code",
   "execution_count": 8,
   "outputs": [
    {
     "data": {
      "text/plain": "                name  pages   size  percentage\n0              total   3105  12.13      100.00\n1     reliability_ts   2041   7.97       65.73\n2             eod_ts    302   1.18        9.73\n3             avg_ts    161   0.63        5.18\n4            cost_ts    152   0.59        4.89\n5            rent_ts    141   0.55        4.54\n6            disk_ts     86   0.34        2.77\n7        hardware_ts     51   0.20        1.64\n8       hardware_snp     44   0.17        1.42\n9            eod_snp     28   0.11        0.90\n10            ts_idx     16   0.06        0.52\n11         online_ts     14   0.05        0.45\n12          cost_snp     13   0.05        0.42\n13        cpu_ram_ts     12   0.05        0.39\n14        online_snp      8   0.03        0.26\n15  machine_host_map      7   0.03        0.23\n16          disk_snp      7   0.03        0.23\n17   reliability_snp      7   0.03        0.23\n18       cpu_ram_snp      6   0.02        0.19\n19          rent_snp      6   0.02        0.19\n20     sqlite_schema      3   0.01        0.10",
      "text/html": "<div>\n<style scoped>\n    .dataframe tbody tr th:only-of-type {\n        vertical-align: middle;\n    }\n\n    .dataframe tbody tr th {\n        vertical-align: top;\n    }\n\n    .dataframe thead th {\n        text-align: right;\n    }\n</style>\n<table border=\"1\" class=\"dataframe\">\n  <thead>\n    <tr style=\"text-align: right;\">\n      <th></th>\n      <th>name</th>\n      <th>pages</th>\n      <th>size</th>\n      <th>percentage</th>\n    </tr>\n  </thead>\n  <tbody>\n    <tr>\n      <th>0</th>\n      <td>total</td>\n      <td>3105</td>\n      <td>12.13</td>\n      <td>100.00</td>\n    </tr>\n    <tr>\n      <th>1</th>\n      <td>reliability_ts</td>\n      <td>2041</td>\n      <td>7.97</td>\n      <td>65.73</td>\n    </tr>\n    <tr>\n      <th>2</th>\n      <td>eod_ts</td>\n      <td>302</td>\n      <td>1.18</td>\n      <td>9.73</td>\n    </tr>\n    <tr>\n      <th>3</th>\n      <td>avg_ts</td>\n      <td>161</td>\n      <td>0.63</td>\n      <td>5.18</td>\n    </tr>\n    <tr>\n      <th>4</th>\n      <td>cost_ts</td>\n      <td>152</td>\n      <td>0.59</td>\n      <td>4.89</td>\n    </tr>\n    <tr>\n      <th>5</th>\n      <td>rent_ts</td>\n      <td>141</td>\n      <td>0.55</td>\n      <td>4.54</td>\n    </tr>\n    <tr>\n      <th>6</th>\n      <td>disk_ts</td>\n      <td>86</td>\n      <td>0.34</td>\n      <td>2.77</td>\n    </tr>\n    <tr>\n      <th>7</th>\n      <td>hardware_ts</td>\n      <td>51</td>\n      <td>0.20</td>\n      <td>1.64</td>\n    </tr>\n    <tr>\n      <th>8</th>\n      <td>hardware_snp</td>\n      <td>44</td>\n      <td>0.17</td>\n      <td>1.42</td>\n    </tr>\n    <tr>\n      <th>9</th>\n      <td>eod_snp</td>\n      <td>28</td>\n      <td>0.11</td>\n      <td>0.90</td>\n    </tr>\n    <tr>\n      <th>10</th>\n      <td>ts_idx</td>\n      <td>16</td>\n      <td>0.06</td>\n      <td>0.52</td>\n    </tr>\n    <tr>\n      <th>11</th>\n      <td>online_ts</td>\n      <td>14</td>\n      <td>0.05</td>\n      <td>0.45</td>\n    </tr>\n    <tr>\n      <th>12</th>\n      <td>cost_snp</td>\n      <td>13</td>\n      <td>0.05</td>\n      <td>0.42</td>\n    </tr>\n    <tr>\n      <th>13</th>\n      <td>cpu_ram_ts</td>\n      <td>12</td>\n      <td>0.05</td>\n      <td>0.39</td>\n    </tr>\n    <tr>\n      <th>14</th>\n      <td>online_snp</td>\n      <td>8</td>\n      <td>0.03</td>\n      <td>0.26</td>\n    </tr>\n    <tr>\n      <th>15</th>\n      <td>machine_host_map</td>\n      <td>7</td>\n      <td>0.03</td>\n      <td>0.23</td>\n    </tr>\n    <tr>\n      <th>16</th>\n      <td>disk_snp</td>\n      <td>7</td>\n      <td>0.03</td>\n      <td>0.23</td>\n    </tr>\n    <tr>\n      <th>17</th>\n      <td>reliability_snp</td>\n      <td>7</td>\n      <td>0.03</td>\n      <td>0.23</td>\n    </tr>\n    <tr>\n      <th>18</th>\n      <td>cpu_ram_snp</td>\n      <td>6</td>\n      <td>0.02</td>\n      <td>0.19</td>\n    </tr>\n    <tr>\n      <th>19</th>\n      <td>rent_snp</td>\n      <td>6</td>\n      <td>0.02</td>\n      <td>0.19</td>\n    </tr>\n    <tr>\n      <th>20</th>\n      <td>sqlite_schema</td>\n      <td>3</td>\n      <td>0.01</td>\n      <td>0.10</td>\n    </tr>\n  </tbody>\n</table>\n</div>"
     },
     "execution_count": 8,
     "metadata": {},
     "output_type": "execute_result"
    }
   ],
   "source": [
    "from src.manager import DbManager\n",
    "dbm = DbManager(db_path)\n",
    "dbm.connect()\n",
    "dbm.get_db_stats()"
   ],
   "metadata": {
    "collapsed": false,
    "ExecuteTime": {
     "end_time": "2023-10-23T04:41:22.183690Z",
     "start_time": "2023-10-23T04:41:22.108673400Z"
    }
   }
  },
  {
   "cell_type": "code",
   "execution_count": 7,
   "outputs": [
    {
     "data": {
      "text/plain": "Timedelta('3 days 21:34:05')"
     },
     "execution_count": 7,
     "metadata": {},
     "output_type": "execute_result"
    }
   ],
   "source": [
    "dbm.get_tbl_timespan('ts_idx')"
   ],
   "metadata": {
    "collapsed": false,
    "ExecuteTime": {
     "end_time": "2023-10-23T04:41:02.987683Z",
     "start_time": "2023-10-23T04:41:02.938681900Z"
    }
   }
  },
  {
   "cell_type": "code",
   "execution_count": 113,
   "outputs": [],
   "source": [
    "df = dbm.table_to_df('timestamp_tbl')"
   ],
   "metadata": {
    "collapsed": false,
    "ExecuteTime": {
     "end_time": "2023-10-19T10:01:53.952971300Z",
     "start_time": "2023-10-19T10:01:53.793934500Z"
    }
   }
  },
  {
   "cell_type": "code",
   "execution_count": 114,
   "outputs": [
    {
     "data": {
      "text/plain": "count    38694.000000\nmean        74.742260\nstd         36.997593\nmin         49.000000\n25%         52.000000\n50%         54.000000\n75%        103.000000\nmax       3471.000000\nName: timestamp, dtype: float64"
     },
     "execution_count": 114,
     "metadata": {},
     "output_type": "execute_result"
    }
   ],
   "source": [
    "df.timestamp.diff().describe()"
   ],
   "metadata": {
    "collapsed": false,
    "ExecuteTime": {
     "end_time": "2023-10-19T10:01:54.987995Z",
     "start_time": "2023-10-19T10:01:54.834002700Z"
    }
   }
  },
  {
   "cell_type": "code",
   "execution_count": 45,
   "outputs": [
    {
     "data": {
      "text/plain": "<Figure size 640x480 with 1 Axes>",
      "image/png": "[encoded data removed]"
     },
     "metadata": {},
     "output_type": "display_data"
    }
   ],
   "source": [
    "import seaborn as sns\n",
    "import matplotlib.pyplot as plt\n",
    "\n",
    "sns.histplot(df.diff().query('timestamp < 200'))\n",
    "plt.yscale('log');"
   ],
   "metadata": {
    "collapsed": false,
    "ExecuteTime": {
     "end_time": "2023-10-10T07:25:02.418235100Z",
     "start_time": "2023-10-10T07:25:01.564532700Z"
    }
   }
  },
  {
   "cell_type": "code",
   "execution_count": 19,
   "outputs": [],
   "source": [
    "dbm.disconnect()"
   ],
   "metadata": {
    "collapsed": false,
    "ExecuteTime": {
     "end_time": "2023-10-10T04:53:30.821626600Z",
     "start_time": "2023-10-10T04:53:30.663591800Z"
    }
   }
  },
  {
   "cell_type": "code",
   "execution_count": 40,
   "outputs": [
    {
     "data": {
      "text/plain": "4553"
     },
     "execution_count": 40,
     "metadata": {},
     "output_type": "execute_result"
    }
   ],
   "source": [
    "df.groupby('machine_id')['disk_bw'].resample('1D').mean().round().astype(np.uint16).reset_index().to_sql('disk_bw_avg', conn, if_exists='replace', index=False)"
   ],
   "metadata": {
    "collapsed": false
   }
  },
  {
   "cell_type": "code",
   "execution_count": 41,
   "outputs": [
    {
     "data": {
      "text/plain": "4553"
     },
     "execution_count": 41,
     "metadata": {},
     "output_type": "execute_result"
    }
   ],
   "source": [
    "df.groupby('machine_id')['disk_bw'].resample('1D').std().fillna(0).astype(np.uint16).reset_index().to_sql('disk_bw_std', conn, if_exists='replace', index=False)"
   ],
   "metadata": {
    "collapsed": false,
    "ExecuteTime": {
     "end_time": "2023-09-15T16:47:41.514924800Z",
     "start_time": "2023-09-15T16:47:39.750527600Z"
    }
   }
  },
  {
   "cell_type": "code",
   "execution_count": 115,
   "outputs": [],
   "source": [
    "conn.close()"
   ],
   "metadata": {
    "collapsed": false,
    "ExecuteTime": {
     "end_time": "2023-10-19T13:02:51.840267Z",
     "start_time": "2023-10-19T13:02:51.707235400Z"
    }
   }
  },
  {
   "cell_type": "code",
   "execution_count": 23,
   "outputs": [
    {
     "name": "stdout",
     "output_type": "stream",
     "text": [
      "Database 'integer_db.sqlite' size: 932.00 KB\n",
      "Database 'real_db.sqlite' size: 1564.00 KB\n"
     ]
    }
   ],
   "source": [
    "import sqlite3\n",
    "import os\n",
    "import numpy as np\n",
    "\n",
    "DB_PATH = '../data'\n",
    "\n",
    "# Create directories for databases if they don't exist\n",
    "if not os.path.exists(DB_PATH):\n",
    "    os.makedirs(DB_PATH)\n",
    "\n",
    "# Function to create and populate a database with the specified data type and range\n",
    "def create_and_populate_db(db_name, data_type, value_range, size=100000):\n",
    "    db_path = os.path.join(DB_PATH, db_name)\n",
    "\n",
    "    conn = sqlite3.connect(db_path)\n",
    "\n",
    "    conn.execute(f\"CREATE TABLE data (value {data_type})\")\n",
    "\n",
    "\n",
    "    # Generate and insert values within the specified range\n",
    "    values = None\n",
    "    if 'INTEGER' in data_type:\n",
    "        values = np.random.randint(*value_range, size=size, dtype=np.uint32)\n",
    "    elif 'REAL' in data_type:\n",
    "        values = np.random.uniform(*value_range, size=size).astype(np.float32)\n",
    "    else:\n",
    "        raise ValueError('Unknown type')        \n",
    "        \n",
    "    rows = [(value,) for value in values]\n",
    "    \n",
    "    \n",
    "    try:\n",
    "        # print(rows[:3])\n",
    "        # conn.executemany(\"INSERT INTO data (value) VALUES (?)\", rows)\n",
    "\n",
    "        for value in values:\n",
    "            conn.execute(f\"INSERT INTO data (value) VALUES ({value})\")\n",
    "\n",
    "        conn.commit()  \n",
    "        conn.execute(\"VACUUM\")    \n",
    "    \n",
    "    except Exception as e:\n",
    "        print(e)\n",
    "    \n",
    "    conn.close()\n",
    "\n",
    "# delete exiting db's\n",
    "for db_name in [f for f in os.listdir(DB_PATH) if f.endswith('.sqlite')]:\n",
    "    db_path = os.path.join(DB_PATH, db_name)\n",
    "    os.remove(db_path)\n",
    "\n",
    "\n",
    "# Create and populate the databases\n",
    "create_and_populate_db('integer_db.sqlite', 'INTEGER', (0, 300))  \n",
    "# create_and_populate_db('integer_non_null_db.sqlite', 'INTEGER NOT NULL', (0, 1000))\n",
    "create_and_populate_db('real_db.sqlite', 'REAL', (0, 1))            \n",
    "# create_and_populate_db('real_non_null_db.sqlite', 'REAL NOT NULL', (0, 1000))            \n",
    "# Print database sizes\n",
    "for db_name in [f for f in os.listdir(DB_PATH) if f.endswith('.sqlite')]:\n",
    "    db_path = os.path.join(DB_PATH, db_name)\n",
    "    db_size = os.path.getsize(db_path) / (1024)  # Size in KB\n",
    "    print(f\"Database '{db_name}' size: {db_size:.2f} KB\")"
   ],
   "metadata": {
    "collapsed": false,
    "ExecuteTime": {
     "end_time": "2023-09-18T05:10:03.254904Z",
     "start_time": "2023-09-18T05:10:01.639601200Z"
    }
   }
  },
  {
   "cell_type": "code",
   "execution_count": 47,
   "outputs": [],
   "source": [],
   "metadata": {
    "collapsed": false,
    "ExecuteTime": {
     "end_time": "2023-09-11T04:48:55.375131Z",
     "start_time": "2023-09-11T04:48:55.332122600Z"
    }
   }
  },
  {
   "cell_type": "code",
   "execution_count": 48,
   "outputs": [],
   "source": [
    "import os\n",
    "import psutil"
   ],
   "metadata": {
    "collapsed": false,
    "ExecuteTime": {
     "end_time": "2023-09-11T04:48:55.488530200Z",
     "start_time": "2023-09-11T04:48:55.347124400Z"
    }
   }
  },
  {
   "cell_type": "code",
   "execution_count": 49,
   "outputs": [
    {
     "name": "stdout",
     "output_type": "stream",
     "text": [
      "The CPU usage is :  0.0\n"
     ]
    }
   ],
   "source": [
    "# Getting loadover15 minutes\n",
    "load1, load5, load15 = psutil.getloadavg()\n",
    "\n",
    "cpu_usage = (load15/os.cpu_count()) * 100\n",
    "\n",
    "print(\"The CPU usage is : \", load1)"
   ],
   "metadata": {
    "collapsed": false,
    "ExecuteTime": {
     "end_time": "2023-09-11T04:48:56.224697200Z",
     "start_time": "2023-09-11T04:48:55.490532Z"
    }
   }
  }
 ],
 "metadata": {
  "kernelspec": {
   "name": "ml",
   "language": "python",
   "display_name": "ml"
  },
  "language_info": {
   "codemirror_mode": {
    "name": "ipython",
    "version": 2
   },
   "file_extension": ".py",
   "mimetype": "text/x-python",
   "name": "python",
   "nbconvert_exporter": "python",
   "pygments_lexer": "ipython2",
   "version": "2.7.6"
  }
 },
 "nbformat": 4,
 "nbformat_minor": 0
}
