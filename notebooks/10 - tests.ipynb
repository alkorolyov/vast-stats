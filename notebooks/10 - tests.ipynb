{
 "cells": [
  {
   "cell_type": "code",
   "execution_count": 1,
   "outputs": [],
   "source": [
    "%load_ext autoreload\n",
    "%autoreload 2"
   ],
   "metadata": {
    "collapsed": false,
    "ExecuteTime": {
     "end_time": "2023-08-04T17:30:33.446883600Z",
     "start_time": "2023-08-04T17:30:33.368112900Z"
    }
   }
  },
  {
   "cell_type": "code",
   "execution_count": 2,
   "metadata": {
    "collapsed": true,
    "ExecuteTime": {
     "end_time": "2023-08-04T17:30:40.292980200Z",
     "start_time": "2023-08-04T17:30:38.747626800Z"
    }
   },
   "outputs": [],
   "source": [
    "import sqlite3\n",
    "import pandas as pd\n",
    "from src.tables import MapTable, df_to_tmp_table, df_to_table, get_machines\n",
    "from src.preprocess import preprocess\n",
    "from src.utils import get_tables, get_tbl_info, table_to_df, time_utc_now, np_min_chunk"
   ]
  },
  {
   "cell_type": "code",
   "execution_count": 10,
   "outputs": [
    {
     "name": "stdout",
     "output_type": "stream",
     "text": [
      "1 days 12:30:21\n"
     ]
    }
   ],
   "source": [
    "conn = sqlite3.connect('../data/vast.db')\n",
    "first = conn.execute('SELECT timestamp FROM reliability_ts LIMIT 1').fetchall()[0][0]\n",
    "last = conn.execute('SELECT timestamp FROM reliability_ts ORDER BY ROWID DESC LIMIT 1').fetchall()[0][0]\n",
    "print(pd.to_timedelta((last - first) * 1e9))\n",
    "conn.close()"
   ],
   "metadata": {
    "collapsed": false,
    "ExecuteTime": {
     "end_time": "2023-08-04T17:33:10.819884300Z",
     "start_time": "2023-08-04T17:33:10.723057900Z"
    }
   }
  },
  {
   "cell_type": "code",
   "execution_count": 11,
   "outputs": [
    {
     "data": {
      "text/plain": "'C:\\\\Users\\\\ergot\\\\DataspellProjects\\\\vast\\\\notebooks'"
     },
     "execution_count": 11,
     "metadata": {},
     "output_type": "execute_result"
    }
   ],
   "source": [
    "import os\n",
    "os.getcwd()"
   ],
   "metadata": {
    "collapsed": false,
    "ExecuteTime": {
     "end_time": "2023-08-04T17:33:13.574972600Z",
     "start_time": "2023-08-04T17:33:13.472956200Z"
    }
   }
  },
  {
   "cell_type": "code",
   "execution_count": 6,
   "outputs": [],
   "source": [
    "df = get_machines()\n",
    "preprocess(df)"
   ],
   "metadata": {
    "collapsed": false,
    "ExecuteTime": {
     "end_time": "2023-08-04T17:32:53.438532Z",
     "start_time": "2023-08-04T17:32:52.522337800Z"
    }
   }
  },
  {
   "cell_type": "code",
   "execution_count": 7,
   "outputs": [
    {
     "ename": "OperationalError",
     "evalue": "unable to open database file",
     "output_type": "error",
     "traceback": [
      "\u001B[1;31m---------------------------------------------------------------------------\u001B[0m",
      "\u001B[1;31mOperationalError\u001B[0m                          Traceback (most recent call last)",
      "Cell \u001B[1;32mIn[7], line 1\u001B[0m\n\u001B[1;32m----> 1\u001B[0m conn \u001B[38;5;241m=\u001B[39m \u001B[43msqlite3\u001B[49m\u001B[38;5;241;43m.\u001B[39;49m\u001B[43mconnect\u001B[49m\u001B[43m(\u001B[49m\u001B[38;5;124;43m'\u001B[39;49m\u001B[38;5;124;43mtest/test.db\u001B[39;49m\u001B[38;5;124;43m'\u001B[39;49m\u001B[43m)\u001B[49m\n",
      "\u001B[1;31mOperationalError\u001B[0m: unable to open database file"
     ]
    }
   ],
   "source": [
    "conn = sqlite3.connect('test/test.db')"
   ],
   "metadata": {
    "collapsed": false,
    "ExecuteTime": {
     "end_time": "2023-08-04T17:32:57.146531900Z",
     "start_time": "2023-08-04T17:32:57.033750600Z"
    }
   }
  },
  {
   "cell_type": "code",
   "execution_count": 8,
   "outputs": [
    {
     "ename": "NameError",
     "evalue": "name 'conn' is not defined",
     "output_type": "error",
     "traceback": [
      "\u001B[1;31m---------------------------------------------------------------------------\u001B[0m",
      "\u001B[1;31mNameError\u001B[0m                                 Traceback (most recent call last)",
      "Cell \u001B[1;32mIn[8], line 1\u001B[0m\n\u001B[1;32m----> 1\u001B[0m \u001B[43mconn\u001B[49m\u001B[38;5;241m.\u001B[39mexecute(\u001B[38;5;124m'\u001B[39m\u001B[38;5;124mDROP TABLE tmp_machines\u001B[39m\u001B[38;5;124m'\u001B[39m)\n\u001B[0;32m      2\u001B[0m df_to_table(df, \u001B[38;5;124m'\u001B[39m\u001B[38;5;124mtmp_machines\u001B[39m\u001B[38;5;124m'\u001B[39m, conn)\n\u001B[0;32m      3\u001B[0m conn\u001B[38;5;241m.\u001B[39mcommit()\n",
      "\u001B[1;31mNameError\u001B[0m: name 'conn' is not defined"
     ]
    }
   ],
   "source": [
    "conn.execute('DROP TABLE tmp_machines')\n",
    "df_to_table(df, 'tmp_machines', conn)\n",
    "conn.commit()"
   ],
   "metadata": {
    "collapsed": false,
    "ExecuteTime": {
     "end_time": "2023-08-04T17:32:59.713783400Z",
     "start_time": "2023-08-04T17:32:59.602084400Z"
    }
   }
  },
  {
   "cell_type": "code",
   "execution_count": 55,
   "outputs": [],
   "source": [
    "conn.commit()"
   ],
   "metadata": {
    "collapsed": false,
    "ExecuteTime": {
     "end_time": "2023-08-01T04:39:43.738819300Z",
     "start_time": "2023-08-01T04:39:43.565781400Z"
    }
   }
  },
  {
   "cell_type": "code",
   "execution_count": null,
   "outputs": [],
   "source": [],
   "metadata": {
    "collapsed": false
   }
  },
  {
   "cell_type": "code",
   "execution_count": 80,
   "outputs": [
    {
     "name": "stdout",
     "output_type": "stream",
     "text": [
      "The CPU usage is :  0.16666666666666669\n"
     ]
    }
   ],
   "source": [
    "import os\n",
    "import psutil"
   ],
   "metadata": {
    "collapsed": false,
    "ExecuteTime": {
     "end_time": "2023-08-01T06:51:08.978966900Z",
     "start_time": "2023-08-01T06:51:08.811929100Z"
    }
   }
  },
  {
   "cell_type": "code",
   "execution_count": 88,
   "outputs": [
    {
     "name": "stdout",
     "output_type": "stream",
     "text": [
      "The CPU usage is :  0.05\n"
     ]
    }
   ],
   "source": [
    "# Getting loadover15 minutes\n",
    "load1, load5, load15 = psutil.getloadavg()\n",
    "\n",
    "cpu_usage = (load15/os.cpu_count()) * 100\n",
    "\n",
    "print(\"The CPU usage is : \", load1)"
   ],
   "metadata": {
    "collapsed": false,
    "ExecuteTime": {
     "end_time": "2023-08-01T06:53:23.318249900Z",
     "start_time": "2023-08-01T06:53:23.123205300Z"
    }
   }
  },
  {
   "cell_type": "code",
   "execution_count": 89,
   "outputs": [
    {
     "data": {
      "text/plain": "'AMD64 Family 23 Model 113 Stepping 0, AuthenticAMD'"
     },
     "execution_count": 89,
     "metadata": {},
     "output_type": "execute_result"
    }
   ],
   "source": [
    "import platform\n",
    "platform.processor()"
   ],
   "metadata": {
    "collapsed": false,
    "ExecuteTime": {
     "end_time": "2023-08-01T06:54:23.384854200Z",
     "start_time": "2023-08-01T06:54:23.209005Z"
    }
   }
  },
  {
   "cell_type": "code",
   "execution_count": 91,
   "outputs": [
    {
     "data": {
      "text/plain": "scpufreq(current=3593.0, min=0.0, max=3593.0)"
     },
     "execution_count": 91,
     "metadata": {},
     "output_type": "execute_result"
    }
   ],
   "source": [
    "psutil.cpu_freq()"
   ],
   "metadata": {
    "collapsed": false,
    "ExecuteTime": {
     "end_time": "2023-08-01T06:55:48.030286Z",
     "start_time": "2023-08-01T06:55:47.857247600Z"
    }
   }
  },
  {
   "cell_type": "code",
   "execution_count": 93,
   "outputs": [
    {
     "data": {
      "text/plain": "6.1"
     },
     "execution_count": 93,
     "metadata": {},
     "output_type": "execute_result"
    }
   ],
   "source": [
    "psutil.cpu_percent(interval=1)"
   ],
   "metadata": {
    "collapsed": false,
    "ExecuteTime": {
     "end_time": "2023-08-01T06:56:22.699455600Z",
     "start_time": "2023-08-01T06:56:21.520224500Z"
    }
   }
  },
  {
   "cell_type": "code",
   "execution_count": 76,
   "outputs": [
    {
     "data": {
      "text/plain": "24"
     },
     "execution_count": 76,
     "metadata": {},
     "output_type": "execute_result"
    }
   ],
   "source": [
    "os.cpu_count()"
   ],
   "metadata": {
    "collapsed": false,
    "ExecuteTime": {
     "end_time": "2023-08-01T06:50:49.029126700Z",
     "start_time": "2023-08-01T06:50:48.852081700Z"
    }
   }
  },
  {
   "cell_type": "code",
   "execution_count": null,
   "outputs": [],
   "source": [],
   "metadata": {
    "collapsed": false
   }
  },
  {
   "cell_type": "code",
   "execution_count": null,
   "outputs": [],
   "source": [],
   "metadata": {
    "collapsed": false
   }
  },
  {
   "cell_type": "code",
   "execution_count": null,
   "outputs": [],
   "source": [],
   "metadata": {
    "collapsed": false
   }
  },
  {
   "cell_type": "code",
   "execution_count": null,
   "outputs": [],
   "source": [],
   "metadata": {
    "collapsed": false
   }
  },
  {
   "cell_type": "code",
   "execution_count": 28,
   "outputs": [
    {
     "ename": "OperationalError",
     "evalue": "table tmp already exists",
     "output_type": "error",
     "traceback": [
      "\u001B[1;31m---------------------------------------------------------------------------\u001B[0m",
      "\u001B[1;31mOperationalError\u001B[0m                          Traceback (most recent call last)",
      "Cell \u001B[1;32mIn[28], line 1\u001B[0m\n\u001B[1;32m----> 1\u001B[0m \u001B[43mconn\u001B[49m\u001B[38;5;241;43m.\u001B[39;49m\u001B[43mexecute\u001B[49m\u001B[43m(\u001B[49m\u001B[38;5;124;43m'\u001B[39;49m\u001B[38;5;124;43mCREATE TABLE tmp (id, mid)\u001B[39;49m\u001B[38;5;124;43m'\u001B[39;49m\u001B[43m)\u001B[49m\n",
      "\u001B[1;31mOperationalError\u001B[0m: table tmp already exists"
     ]
    }
   ],
   "source": [
    "conn.execute('CREATE TABLE tmp (id, mid)')"
   ],
   "metadata": {
    "collapsed": false,
    "ExecuteTime": {
     "end_time": "2023-07-27T04:06:06.273169200Z",
     "start_time": "2023-07-27T04:06:06.130417900Z"
    }
   }
  },
  {
   "cell_type": "code",
   "execution_count": 32,
   "outputs": [
    {
     "data": {
      "text/plain": "[]"
     },
     "execution_count": 32,
     "metadata": {},
     "output_type": "execute_result"
    }
   ],
   "source": [
    "conn.execute('INSERT INTO tmp VALUES (1, 2)').fetchall()\n",
    "# conn.close()"
   ],
   "metadata": {
    "collapsed": false,
    "ExecuteTime": {
     "end_time": "2023-07-27T04:06:45.319224600Z",
     "start_time": "2023-07-27T04:06:45.185545500Z"
    }
   }
  },
  {
   "cell_type": "code",
   "execution_count": 35,
   "outputs": [
    {
     "data": {
      "text/plain": "[]"
     },
     "execution_count": 35,
     "metadata": {},
     "output_type": "execute_result"
    }
   ],
   "source": [
    "conn.execute('DROP TABLE IF EXISTS map_tbl').fetchall()"
   ],
   "metadata": {
    "collapsed": false,
    "ExecuteTime": {
     "end_time": "2023-07-27T04:07:12.176281300Z",
     "start_time": "2023-07-27T04:07:12.043238800Z"
    }
   }
  },
  {
   "cell_type": "code",
   "execution_count": 37,
   "outputs": [
    {
     "data": {
      "text/plain": "[]"
     },
     "execution_count": 37,
     "metadata": {},
     "output_type": "execute_result"
    }
   ],
   "source": [
    "conn.commit()\n",
    "get_tables(conn)"
   ],
   "metadata": {
    "collapsed": false,
    "ExecuteTime": {
     "end_time": "2023-07-27T04:07:34.758860300Z",
     "start_time": "2023-07-27T04:07:34.631491500Z"
    }
   }
  },
  {
   "cell_type": "code",
   "execution_count": 42,
   "outputs": [],
   "source": [
    "conn.close()"
   ],
   "metadata": {
    "collapsed": false,
    "ExecuteTime": {
     "end_time": "2023-07-27T05:07:23.391626Z",
     "start_time": "2023-07-27T05:07:22.893512700Z"
    }
   }
  },
  {
   "cell_type": "code",
   "execution_count": 9,
   "outputs": [],
   "source": [
    "conn.execute('DROP TABLE IF EXISTS map_tbl')\n",
    "map_tbl = MapTable(\n",
    "    'map_tbl',\n",
    "    'tmp',\n",
    "    ['id', 'mid']\n",
    ")\n",
    "map_tbl.init_db(conn)\n",
    "assert 'map_tbl' in get_tables(conn)\n",
    "info = get_tbl_info('map_tbl', conn)\n",
    "assert info.loc[info.name == 'id', 'pk'].all()\n",
    "assert (info.name == 'mid').any()"
   ],
   "metadata": {
    "collapsed": false,
    "ExecuteTime": {
     "end_time": "2023-07-27T03:40:07.858681700Z",
     "start_time": "2023-07-27T03:40:07.726645600Z"
    }
   }
  },
  {
   "cell_type": "code",
   "execution_count": 54,
   "outputs": [
    {
     "data": {
      "text/plain": "True"
     },
     "execution_count": 54,
     "metadata": {},
     "output_type": "execute_result"
    }
   ],
   "source": [
    "(info.name == 'mid').any()"
   ],
   "metadata": {
    "collapsed": false,
    "ExecuteTime": {
     "end_time": "2023-07-26T06:12:16.719455800Z",
     "start_time": "2023-07-26T06:12:16.585425400Z"
    }
   }
  },
  {
   "cell_type": "code",
   "execution_count": 46,
   "outputs": [
    {
     "data": {
      "text/plain": "True"
     },
     "execution_count": 46,
     "metadata": {},
     "output_type": "execute_result"
    }
   ],
   "source": [
    "all(info.loc[info.name == 'id', 'pk'])"
   ],
   "metadata": {
    "collapsed": false,
    "ExecuteTime": {
     "end_time": "2023-07-26T06:06:26.213082100Z",
     "start_time": "2023-07-26T06:06:26.077052300Z"
    }
   }
  },
  {
   "cell_type": "code",
   "execution_count": 69,
   "outputs": [
    {
     "data": {
      "text/plain": "['host_machine_map',\n 'online_ts',\n 'online_snp',\n 'reliability_ts',\n 'reliability_snp',\n 'hosting_type_ts',\n 'hosting_type_snp',\n 'static_ip_ts',\n 'static_ip_snp',\n 'end_date_ts',\n 'end_date_snp',\n 'compute_cap_ts',\n 'compute_cap_snp',\n 'total_flops_ts',\n 'total_flops_snp',\n 'has_avx_ts',\n 'has_avx_snp',\n 'cpu_cores_ts',\n 'cpu_cores_snp',\n 'cpu_ram_ts',\n 'cpu_ram_snp',\n 'disk_space_ts',\n 'disk_space_snp',\n 'num_gpus_ts',\n 'num_gpus_snp',\n 'pci_gen_ts',\n 'pci_gen_snp',\n 'gpu_lanes_ts',\n 'gpu_lanes_snp',\n 'gpu_ram_ts',\n 'gpu_ram_snp',\n 'bw_nvlink_ts',\n 'bw_nvlink_snp',\n 'verification_ts',\n 'verification_snp',\n 'storage_cost_ts',\n 'storage_cost_snp',\n 'inet_up_cost_ts',\n 'inet_up_cost_snp',\n 'inet_down_cost_ts',\n 'inet_down_cost_snp',\n 'credit_discount_max_ts',\n 'credit_discount_max_snp',\n 'cpu_name_ts',\n 'cpu_name_snp',\n 'disk_name_ts',\n 'disk_name_snp',\n 'mobo_name_ts',\n 'mobo_name_snp',\n 'gpu_name_ts',\n 'gpu_name_snp',\n 'cuda_max_good_ts',\n 'cuda_max_good_snp',\n 'driver_version_ts',\n 'driver_version_snp',\n 'public_ipaddr_ts',\n 'public_ipaddr_snp',\n 'geolocation_ts',\n 'geolocation_snp',\n 'rented_ts',\n 'rented_snp',\n 'dph_base_ts',\n 'dph_base_snp',\n 'min_bid_ts',\n 'min_bid_snp']"
     },
     "execution_count": 69,
     "metadata": {},
     "output_type": "execute_result"
    }
   ],
   "source": [
    "get_tables(conn)"
   ],
   "metadata": {
    "collapsed": false,
    "ExecuteTime": {
     "end_time": "2023-07-28T05:32:52.259013500Z",
     "start_time": "2023-07-28T05:32:52.122979100Z"
    }
   }
  },
  {
   "cell_type": "code",
   "execution_count": 70,
   "outputs": [
    {
     "data": {
      "text/plain": "name   machine_id  reliability   timestamp\n0           11815         6000  1690464352\n1           11814         6000  1690464352\n2           11813         5727  1690464352\n3           11812         9026  1690464352\n4           11811         7779  1690464352\n...           ...          ...         ...\n37259        5456         8515  1690522270\n37260        4795         8063  1690522270\n37261        4558         9821  1690522270\n37262        4557         9848  1690522270\n37263        3792         9180  1690522270\n\n[37264 rows x 3 columns]",
      "text/html": "<div>\n<style scoped>\n    .dataframe tbody tr th:only-of-type {\n        vertical-align: middle;\n    }\n\n    .dataframe tbody tr th {\n        vertical-align: top;\n    }\n\n    .dataframe thead th {\n        text-align: right;\n    }\n</style>\n<table border=\"1\" class=\"dataframe\">\n  <thead>\n    <tr style=\"text-align: right;\">\n      <th>name</th>\n      <th>machine_id</th>\n      <th>reliability</th>\n      <th>timestamp</th>\n    </tr>\n  </thead>\n  <tbody>\n    <tr>\n      <th>0</th>\n      <td>11815</td>\n      <td>6000</td>\n      <td>1690464352</td>\n    </tr>\n    <tr>\n      <th>1</th>\n      <td>11814</td>\n      <td>6000</td>\n      <td>1690464352</td>\n    </tr>\n    <tr>\n      <th>2</th>\n      <td>11813</td>\n      <td>5727</td>\n      <td>1690464352</td>\n    </tr>\n    <tr>\n      <th>3</th>\n      <td>11812</td>\n      <td>9026</td>\n      <td>1690464352</td>\n    </tr>\n    <tr>\n      <th>4</th>\n      <td>11811</td>\n      <td>7779</td>\n      <td>1690464352</td>\n    </tr>\n    <tr>\n      <th>...</th>\n      <td>...</td>\n      <td>...</td>\n      <td>...</td>\n    </tr>\n    <tr>\n      <th>37259</th>\n      <td>5456</td>\n      <td>8515</td>\n      <td>1690522270</td>\n    </tr>\n    <tr>\n      <th>37260</th>\n      <td>4795</td>\n      <td>8063</td>\n      <td>1690522270</td>\n    </tr>\n    <tr>\n      <th>37261</th>\n      <td>4558</td>\n      <td>9821</td>\n      <td>1690522270</td>\n    </tr>\n    <tr>\n      <th>37262</th>\n      <td>4557</td>\n      <td>9848</td>\n      <td>1690522270</td>\n    </tr>\n    <tr>\n      <th>37263</th>\n      <td>3792</td>\n      <td>9180</td>\n      <td>1690522270</td>\n    </tr>\n  </tbody>\n</table>\n<p>37264 rows × 3 columns</p>\n</div>"
     },
     "execution_count": 70,
     "metadata": {},
     "output_type": "execute_result"
    }
   ],
   "source": [
    "table_to_df('reliability_ts', conn)"
   ],
   "metadata": {
    "collapsed": false,
    "ExecuteTime": {
     "end_time": "2023-07-28T05:33:00.845632500Z",
     "start_time": "2023-07-28T05:33:00.647459100Z"
    }
   }
  },
  {
   "cell_type": "code",
   "execution_count": 71,
   "outputs": [],
   "source": [
    "conn.close()"
   ],
   "metadata": {
    "collapsed": false,
    "ExecuteTime": {
     "end_time": "2023-07-28T05:33:29.287728800Z",
     "start_time": "2023-07-28T05:33:29.158700700Z"
    }
   }
  },
  {
   "cell_type": "code",
   "execution_count": 57,
   "outputs": [],
   "source": [
    "machines = get_machines()\n",
    "preprocess(machines)\n",
    "df_to_tmp_table(machines, 'tmp_machines', conn)"
   ],
   "metadata": {
    "collapsed": false,
    "ExecuteTime": {
     "end_time": "2023-07-27T10:04:23.062375700Z",
     "start_time": "2023-07-27T10:04:21.349046800Z"
    }
   }
  },
  {
   "cell_type": "code",
   "execution_count": 61,
   "outputs": [
    {
     "name": "stdout",
     "output_type": "stream",
     "text": [
      "<class 'pandas.core.frame.DataFrame'>\n",
      "RangeIndex: 1209 entries, 0 to 1208\n",
      "Data columns (total 57 columns):\n",
      " #   Column                Non-Null Count  Dtype  \n",
      "---  ------                --------------  -----  \n",
      " 0   bw_nvlink             1209 non-null   int32  \n",
      " 1   compute_cap           1209 non-null   int64  \n",
      " 2   cpu_cores             1209 non-null   int32  \n",
      " 3   cpu_name              1209 non-null   object \n",
      " 4   cpu_ram               1209 non-null   int32  \n",
      " 5   credit_balance        1209 non-null   object \n",
      " 6   credit_discount       1209 non-null   object \n",
      " 7   credit_discount_max   1209 non-null   int32  \n",
      " 8   cuda_max_good         1209 non-null   object \n",
      " 9   direct_port_count     1209 non-null   int64  \n",
      " 10  discount_rate         1209 non-null   float64\n",
      " 11  discounted_dph_total  1209 non-null   float64\n",
      " 12  discounted_hourly     1209 non-null   int64  \n",
      " 13  disk_bw               1209 non-null   float64\n",
      " 14  disk_name             1209 non-null   object \n",
      " 15  disk_space            1209 non-null   int32  \n",
      " 16  dlperf                1209 non-null   float64\n",
      " 17  dlperf_per_dphtotal   1209 non-null   float64\n",
      " 18  dph_base              1209 non-null   int32  \n",
      " 19  driver_version        1209 non-null   object \n",
      " 20  duration              1209 non-null   float64\n",
      " 21  end_date              1209 non-null   int64  \n",
      " 22  flops_per_dphtotal    1209 non-null   float64\n",
      " 23  geolocation           1209 non-null   object \n",
      " 24  gpu_display_active    1209 non-null   bool   \n",
      " 25  gpu_lanes             1209 non-null   int64  \n",
      " 26  gpu_mem_bw            1209 non-null   float64\n",
      " 27  gpu_name              1209 non-null   object \n",
      " 28  gpu_ram               1209 non-null   int64  \n",
      " 29  has_avx               1209 non-null   int32  \n",
      " 30  host_id               1209 non-null   int64  \n",
      " 31  host_run_time         1209 non-null   int64  \n",
      " 32  hosting_type          1209 non-null   int32  \n",
      " 33  inet_down             1209 non-null   float64\n",
      " 34  inet_down_cost        1209 non-null   int32  \n",
      " 35  inet_up               1209 non-null   float64\n",
      " 36  inet_up_cost          1209 non-null   int32  \n",
      " 37  machine_id            1209 non-null   int64  \n",
      " 38  min_bid               1209 non-null   int32  \n",
      " 39  min_chunk             1209 non-null   int64  \n",
      " 40  mobo_name             1209 non-null   object \n",
      " 41  num_gpus              1209 non-null   int64  \n",
      " 42  num_gpus_rented       1209 non-null   int64  \n",
      " 43  pci_gen               1209 non-null   int64  \n",
      " 44  pcie_bw               1209 non-null   float64\n",
      " 45  public_ipaddr         1209 non-null   object \n",
      " 46  reliability           1209 non-null   int32  \n",
      " 47  score                 1209 non-null   float64\n",
      " 48  start_date            1209 non-null   float64\n",
      " 49  static_ip             1209 non-null   object \n",
      " 50  storage_cost          1209 non-null   int32  \n",
      " 51  total_flops           1209 non-null   int32  \n",
      " 52  verification          1209 non-null   int64  \n",
      " 53  verified              1209 non-null   bool   \n",
      " 54  timestamp             1209 non-null   int64  \n",
      " 55  cpu_ram_rnd           1209 non-null   int32  \n",
      " 56  disk_space_rnd        1209 non-null   int32  \n",
      "dtypes: bool(2), float64(13), int32(16), int64(15), object(11)\n",
      "memory usage: 446.4+ KB\n"
     ]
    }
   ],
   "source": [
    "machines.info()"
   ],
   "metadata": {
    "collapsed": false,
    "ExecuteTime": {
     "end_time": "2023-07-28T05:25:09.309068300Z",
     "start_time": "2023-07-28T05:25:09.169036400Z"
    }
   }
  },
  {
   "cell_type": "code",
   "execution_count": 47,
   "outputs": [],
   "source": [
    "name = 'reliability2'\n",
    "table = NewTS(\n",
    "    name,\n",
    "    'tmp_machines',\n",
    "    ['machine_id', name]\n",
    ")"
   ],
   "metadata": {
    "collapsed": false,
    "ExecuteTime": {
     "end_time": "2023-07-27T05:20:34.432613500Z",
     "start_time": "2023-07-27T05:20:34.306584600Z"
    }
   }
  },
  {
   "cell_type": "code",
   "execution_count": 48,
   "outputs": [],
   "source": [
    "table.init_db(conn)"
   ],
   "metadata": {
    "collapsed": false,
    "ExecuteTime": {
     "end_time": "2023-07-27T05:20:37.012718300Z",
     "start_time": "2023-07-27T05:20:36.880688500Z"
    }
   }
  },
  {
   "cell_type": "code",
   "execution_count": 52,
   "outputs": [
    {
     "name": "stderr",
     "output_type": "stream",
     "text": [
      "[autoreload of _pydevd_bundle.pydevd_frame failed: Traceback (most recent call last):\n",
      "  File \"C:\\Users\\ergot\\mambaforge\\envs\\ml\\lib\\site-packages\\IPython\\extensions\\autoreload.py\", line 273, in check\n",
      "    superreload(m, reload, self.old_objects)\n",
      "  File \"C:\\Users\\ergot\\mambaforge\\envs\\ml\\lib\\site-packages\\IPython\\extensions\\autoreload.py\", line 471, in superreload\n",
      "    module = reload(module)\n",
      "  File \"C:\\Users\\ergot\\mambaforge\\envs\\ml\\lib\\importlib\\__init__.py\", line 169, in reload\n",
      "    _bootstrap._exec(spec, module)\n",
      "  File \"<frozen importlib._bootstrap>\", line 612, in _exec\n",
      "  File \"<frozen importlib._bootstrap>\", line 556, in _init_module_attrs\n",
      "  File \"<frozen importlib._bootstrap>\", line 397, in cached\n",
      "  File \"<frozen importlib._bootstrap_external>\", line 513, in _get_cached\n",
      "  File \"<frozen importlib._bootstrap_external>\", line 406, in cache_from_source\n",
      "  File \"<frozen importlib._bootstrap_external>\", line 134, in _path_split\n",
      "  File \"<frozen importlib._bootstrap_external>\", line 134, in <genexpr>\n",
      "NameError: name 'NO_FTRACE' is not defined\n",
      "]\n",
      "[autoreload of pydevd failed: Traceback (most recent call last):\n",
      "  File \"C:\\Users\\ergot\\mambaforge\\envs\\ml\\lib\\site-packages\\IPython\\extensions\\autoreload.py\", line 273, in check\n",
      "    superreload(m, reload, self.old_objects)\n",
      "  File \"C:\\Users\\ergot\\mambaforge\\envs\\ml\\lib\\site-packages\\IPython\\extensions\\autoreload.py\", line 496, in superreload\n",
      "    update_generic(old_obj, new_obj)\n",
      "  File \"C:\\Users\\ergot\\mambaforge\\envs\\ml\\lib\\site-packages\\IPython\\extensions\\autoreload.py\", line 393, in update_generic\n",
      "    update(a, b)\n",
      "  File \"C:\\Users\\ergot\\mambaforge\\envs\\ml\\lib\\site-packages\\IPython\\extensions\\autoreload.py\", line 361, in update_class\n",
      "    update_instances(old, new)\n",
      "  File \"C:\\Users\\ergot\\mambaforge\\envs\\ml\\lib\\site-packages\\IPython\\extensions\\autoreload.py\", line 319, in update_instances\n",
      "    object.__setattr__(ref, \"__class__\", new)\n",
      "TypeError: __class__ assignment: 'ThreadsSuspendedSingleNotification' object layout differs from 'ThreadsSuspendedSingleNotification'\n",
      "]\n"
     ]
    }
   ],
   "source": [
    "table.write_db(conn)"
   ],
   "metadata": {
    "collapsed": false
   }
  }
 ],
 "metadata": {
  "kernelspec": {
   "display_name": "Python 3",
   "language": "python",
   "name": "python3"
  },
  "language_info": {
   "codemirror_mode": {
    "name": "ipython",
    "version": 2
   },
   "file_extension": ".py",
   "mimetype": "text/x-python",
   "name": "python",
   "nbconvert_exporter": "python",
   "pygments_lexer": "ipython2",
   "version": "2.7.6"
  }
 },
 "nbformat": 4,
 "nbformat_minor": 0
}
