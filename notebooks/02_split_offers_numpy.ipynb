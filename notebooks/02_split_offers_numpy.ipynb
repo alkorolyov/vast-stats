{
 "cells": [
  {
   "cell_type": "code",
   "execution_count": 11,
   "metadata": {
    "collapsed": true,
    "ExecuteTime": {
     "end_time": "2023-07-30T04:36:30.106847200Z",
     "start_time": "2023-07-30T04:36:30.093843900Z"
    }
   },
   "outputs": [],
   "source": [
    "import requests\n",
    "import pandas as pd\n",
    "import numpy as np"
   ]
  },
  {
   "cell_type": "code",
   "execution_count": 62,
   "outputs": [
    {
     "name": "stdout",
     "output_type": "stream",
     "text": [
      "2023-07-30T05:57:03.144732606Z\n"
     ]
    },
    {
     "data": {
      "text/plain": "   bundle_id  bw_nvlink  compute_cap  cpu_cores  cpu_cores_effective  \\\n0  314697833        0.0          890      256.0                256.0   \n1  314697840        0.0          890      256.0                256.0   \n2  314525846        0.0          890      192.0                192.0   \n3  314696316        0.0          890      256.0                256.0   \n4  314697828        0.0          890      256.0                256.0   \n\n                          cpu_name  cpu_ram credit_balance credit_discount  \\\n0  AMD EPYC 7H12 64-Core Processor   515762           None            None   \n1  AMD EPYC 7662 64-Core Processor   515762           None            None   \n2  AMD EPYC 7R12 48-Core Processor   515814           None            None   \n3  AMD EPYC 7742 64-Core Processor   515776           None            None   \n4  AMD EPYC 7742 64-Core Processor   515841           None            None   \n\n   credit_discount_max  ...  reliability2  rentable      score  start_date  \\\n0                  0.4  ...      0.979890     False  16.504390         NaN   \n1                  0.4  ...      0.979650     False  16.138499         NaN   \n2                  0.4  ...      0.991366     False  25.629089         NaN   \n3                  0.2  ...      0.996083     False  27.217322         NaN   \n4                  0.4  ...      0.982960     False  21.980601         NaN   \n\n   static_ip  storage_cost total_flops  verification  verified  \\\n0       True          0.15  1438.18752      verified      True   \n1       True          0.15  1436.22144      verified      True   \n2       True          0.35  1431.30624      verified      True   \n3       True          0.25  1429.34016      verified      True   \n4       True          0.15  1227.81696      verified      True   \n\n                        timestamp  \n0  2023-07-30T05:57:03.144732606Z  \n1  2023-07-30T05:57:03.144732606Z  \n2  2023-07-30T05:57:03.144732606Z  \n3  2023-07-30T05:57:03.144732606Z  \n4  2023-07-30T05:57:03.144732606Z  \n\n[5 rows x 58 columns]",
      "text/html": "<div>\n<style scoped>\n    .dataframe tbody tr th:only-of-type {\n        vertical-align: middle;\n    }\n\n    .dataframe tbody tr th {\n        vertical-align: top;\n    }\n\n    .dataframe thead th {\n        text-align: right;\n    }\n</style>\n<table border=\"1\" class=\"dataframe\">\n  <thead>\n    <tr style=\"text-align: right;\">\n      <th></th>\n      <th>bundle_id</th>\n      <th>bw_nvlink</th>\n      <th>compute_cap</th>\n      <th>cpu_cores</th>\n      <th>cpu_cores_effective</th>\n      <th>cpu_name</th>\n      <th>cpu_ram</th>\n      <th>credit_balance</th>\n      <th>credit_discount</th>\n      <th>credit_discount_max</th>\n      <th>...</th>\n      <th>reliability2</th>\n      <th>rentable</th>\n      <th>score</th>\n      <th>start_date</th>\n      <th>static_ip</th>\n      <th>storage_cost</th>\n      <th>total_flops</th>\n      <th>verification</th>\n      <th>verified</th>\n      <th>timestamp</th>\n    </tr>\n  </thead>\n  <tbody>\n    <tr>\n      <th>0</th>\n      <td>314697833</td>\n      <td>0.0</td>\n      <td>890</td>\n      <td>256.0</td>\n      <td>256.0</td>\n      <td>AMD EPYC 7H12 64-Core Processor</td>\n      <td>515762</td>\n      <td>None</td>\n      <td>None</td>\n      <td>0.4</td>\n      <td>...</td>\n      <td>0.979890</td>\n      <td>False</td>\n      <td>16.504390</td>\n      <td>NaN</td>\n      <td>True</td>\n      <td>0.15</td>\n      <td>1438.18752</td>\n      <td>verified</td>\n      <td>True</td>\n      <td>2023-07-30T05:57:03.144732606Z</td>\n    </tr>\n    <tr>\n      <th>1</th>\n      <td>314697840</td>\n      <td>0.0</td>\n      <td>890</td>\n      <td>256.0</td>\n      <td>256.0</td>\n      <td>AMD EPYC 7662 64-Core Processor</td>\n      <td>515762</td>\n      <td>None</td>\n      <td>None</td>\n      <td>0.4</td>\n      <td>...</td>\n      <td>0.979650</td>\n      <td>False</td>\n      <td>16.138499</td>\n      <td>NaN</td>\n      <td>True</td>\n      <td>0.15</td>\n      <td>1436.22144</td>\n      <td>verified</td>\n      <td>True</td>\n      <td>2023-07-30T05:57:03.144732606Z</td>\n    </tr>\n    <tr>\n      <th>2</th>\n      <td>314525846</td>\n      <td>0.0</td>\n      <td>890</td>\n      <td>192.0</td>\n      <td>192.0</td>\n      <td>AMD EPYC 7R12 48-Core Processor</td>\n      <td>515814</td>\n      <td>None</td>\n      <td>None</td>\n      <td>0.4</td>\n      <td>...</td>\n      <td>0.991366</td>\n      <td>False</td>\n      <td>25.629089</td>\n      <td>NaN</td>\n      <td>True</td>\n      <td>0.35</td>\n      <td>1431.30624</td>\n      <td>verified</td>\n      <td>True</td>\n      <td>2023-07-30T05:57:03.144732606Z</td>\n    </tr>\n    <tr>\n      <th>3</th>\n      <td>314696316</td>\n      <td>0.0</td>\n      <td>890</td>\n      <td>256.0</td>\n      <td>256.0</td>\n      <td>AMD EPYC 7742 64-Core Processor</td>\n      <td>515776</td>\n      <td>None</td>\n      <td>None</td>\n      <td>0.2</td>\n      <td>...</td>\n      <td>0.996083</td>\n      <td>False</td>\n      <td>27.217322</td>\n      <td>NaN</td>\n      <td>True</td>\n      <td>0.25</td>\n      <td>1429.34016</td>\n      <td>verified</td>\n      <td>True</td>\n      <td>2023-07-30T05:57:03.144732606Z</td>\n    </tr>\n    <tr>\n      <th>4</th>\n      <td>314697828</td>\n      <td>0.0</td>\n      <td>890</td>\n      <td>256.0</td>\n      <td>256.0</td>\n      <td>AMD EPYC 7742 64-Core Processor</td>\n      <td>515841</td>\n      <td>None</td>\n      <td>None</td>\n      <td>0.4</td>\n      <td>...</td>\n      <td>0.982960</td>\n      <td>False</td>\n      <td>21.980601</td>\n      <td>NaN</td>\n      <td>True</td>\n      <td>0.15</td>\n      <td>1227.81696</td>\n      <td>verified</td>\n      <td>True</td>\n      <td>2023-07-30T05:57:03.144732606Z</td>\n    </tr>\n  </tbody>\n</table>\n<p>5 rows × 58 columns</p>\n</div>"
     },
     "execution_count": 62,
     "metadata": {},
     "output_type": "execute_result"
    }
   ],
   "source": [
    "url = 'https://500.farm/vastai-exporter/offers'\n",
    "\n",
    "r = requests.pop(url)\n",
    "r.raise_for_status()\n",
    "rows = r.json()[\"offers\"]\n",
    "\n",
    "print(r.json()['timestamp'])\n",
    "\n",
    "raw  = pd.DataFrame(rows)\n",
    "raw['timestamp'] = r.json()['timestamp']\n",
    "\n",
    "raw.head()"
   ],
   "metadata": {
    "collapsed": false,
    "ExecuteTime": {
     "end_time": "2023-07-30T05:57:44.387302700Z",
     "start_time": "2023-07-30T05:57:42.352177700Z"
    }
   }
  },
  {
   "cell_type": "code",
   "execution_count": 3,
   "outputs": [],
   "source": [
    "# raw.duration = raw.duration.apply(lambda x: pd.to_timedelta(x * 1e9).days)\n",
    "# raw[['start_date', 'end_date']] = raw[['start_date', 'end_date']].apply(lambda x: pd.to_datetime(x * 1e9))"
   ],
   "metadata": {
    "collapsed": false,
    "ExecuteTime": {
     "end_time": "2023-07-29T03:53:39.012827600Z",
     "start_time": "2023-07-29T03:53:38.972834400Z"
    }
   }
  },
  {
   "cell_type": "code",
   "execution_count": 4,
   "outputs": [
    {
     "data": {
      "text/plain": "Index(['bundle_id', 'bw_nvlink', 'compute_cap', 'cpu_cores',\n       'cpu_cores_effective', 'cpu_name', 'cpu_ram', 'credit_balance',\n       'credit_discount', 'credit_discount_max', 'cuda_max_good',\n       'direct_port_count', 'discount_rate', 'discounted_dph_total',\n       'discounted_hourly', 'disk_bw', 'disk_name', 'disk_space', 'dlperf',\n       'dlperf_per_dphtotal', 'dph_base', 'driver_version', 'duration',\n       'end_date', 'flops_per_dphtotal', 'geolocation', 'gpu_display_active',\n       'gpu_frac', 'gpu_lanes', 'gpu_mem_bw', 'gpu_name', 'gpu_ram', 'has_avx',\n       'host_id', 'host_run_time', 'hosting_type', 'id', 'inet_down',\n       'inet_down_cost', 'inet_up', 'inet_up_cost', 'machine_id', 'min_bid',\n       'mobo_name', 'num_gpus', 'pci_gen', 'pcie_bw', 'public_ipaddr',\n       'reliability2', 'rentable', 'score', 'start_date', 'static_ip',\n       'storage_cost', 'total_flops', 'verification', 'verified', 'timestamp'],\n      dtype='object')"
     },
     "execution_count": 4,
     "metadata": {},
     "output_type": "execute_result"
    }
   ],
   "source": [
    "raw.columns"
   ],
   "metadata": {
    "collapsed": false,
    "ExecuteTime": {
     "end_time": "2023-07-29T03:53:39.079612300Z",
     "start_time": "2023-07-29T03:53:38.989822200Z"
    }
   }
  },
  {
   "cell_type": "code",
   "execution_count": 5,
   "outputs": [
    {
     "data": {
      "text/plain": "                            bw_nvlink  compute_cap  cpu_cores  \\\nhost_id machine_id id                                           \n18      1569       6293285   0.000000          890      256.0   \n        2744       6582981   0.000000          890      128.0   \n                   6582982   0.000000          890      128.0   \n                   6582983   0.000000          890      128.0   \n        2980       6334086  56.248001          860      128.0   \n...                               ...          ...        ...   \n75261   11823      6637010   0.000000          860       56.0   \n                   6637011   0.000000          860       56.0   \n                   6637012   0.000000          860       56.0   \n                   6637013   0.000000          860       56.0   \n                   6637014   0.000000          860       56.0   \n\n                            cpu_cores_effective  \\\nhost_id machine_id id                             \n18      1569       6293285           256.000000   \n        2744       6582981           128.000000   \n                   6582982            64.000000   \n                   6582983            64.000000   \n        2980       6334086           128.000000   \n...                                         ...   \n75261   11823      6637010            18.666648   \n                   6637011            56.000000   \n                   6637012            18.666648   \n                   6637013            37.333352   \n                   6637014            18.666648   \n\n                                                   cpu_name  cpu_ram  \\\nhost_id machine_id id                                                  \n18      1569       6293285  AMD EPYC 7B13 64-Core Processor   515771   \n        2744       6582981  AMD EPYC 7452 32-Core Processor   515820   \n                   6582982  AMD EPYC 7452 32-Core Processor   515820   \n                   6582983  AMD EPYC 7452 32-Core Processor   515820   \n        2980       6334086  AMD EPYC 7452 32-Core Processor   515818   \n...                                                     ...      ...   \n75261   11823      6637010                Xeon® E5-2680 v4    257810   \n                   6637011                Xeon® E5-2680 v4    257810   \n                   6637012                Xeon® E5-2680 v4    257810   \n                   6637013                Xeon® E5-2680 v4    257810   \n                   6637014                Xeon® E5-2680 v4    257810   \n\n                           credit_balance credit_discount  \\\nhost_id machine_id id                                       \n18      1569       6293285           None            None   \n        2744       6582981           None            None   \n                   6582982           None            None   \n                   6582983           None            None   \n        2980       6334086           None            None   \n...                                   ...             ...   \n75261   11823      6637010           None            None   \n                   6637011           None            None   \n                   6637012           None            None   \n                   6637013           None            None   \n                   6637014           None            None   \n\n                            credit_discount_max  cuda_max_good  ...  \\\nhost_id machine_id id                                           ...   \n18      1569       6293285                  NaN           12.0  ...   \n        2744       6582981                  0.2           12.0  ...   \n                   6582982                  0.2           12.0  ...   \n                   6582983                  0.2           12.0  ...   \n        2980       6334086                  NaN           12.0  ...   \n...                                         ...            ...  ...   \n75261   11823      6637010                  0.4           12.0  ...   \n                   6637011                  0.4           12.0  ...   \n                   6637012                  0.4           12.0  ...   \n                   6637013                  0.4           12.0  ...   \n                   6637014                  0.4           12.0  ...   \n\n                            reliability2  rentable       score    start_date  \\\nhost_id machine_id id                                                          \n18      1569       6293285      0.999085     False   82.040973           NaN   \n        2744       6582981      0.999059     False   78.018678           NaN   \n                   6582982      0.999059     False   98.026879           NaN   \n                   6582983      0.999059     False  102.623585           NaN   \n        2980       6334086      0.997181     False   97.757072           NaN   \n...                                  ...       ...         ...           ...   \n75261   11823      6637010      0.893432      True   27.042260  1.690603e+09   \n                   6637011      0.893432      True   25.384895  1.690603e+09   \n                   6637012      0.893432      True   27.795922  1.690603e+09   \n                   6637013      0.893432      True   29.008388  1.690603e+09   \n                   6637014      0.893432      True   28.194994  1.690603e+09   \n\n                            static_ip storage_cost  total_flops  verification  \\\nhost_id machine_id id                                                           \n18      1569       6293285       True         0.15    817.88928      verified   \n        2744       6582981       True         0.15    817.88928      verified   \n                   6582982       True         0.15    408.94464      verified   \n                   6582983       True         0.15    408.94464      verified   \n        2980       6334086       True         0.15    352.66560      verified   \n...                               ...          ...          ...           ...   \n75261   11823      6637010       True         0.15     49.45920    unverified   \n                   6637011       True         0.15    148.37760    unverified   \n                   6637012       True         0.15     49.45920    unverified   \n                   6637013       True         0.15     98.91840    unverified   \n                   6637014       True         0.15     49.45920    unverified   \n\n                            verified                       timestamp  \nhost_id machine_id id                                                 \n18      1569       6293285      True  2023-07-29T03:52:56.741748072Z  \n        2744       6582981      True  2023-07-29T03:52:56.741748072Z  \n                   6582982      True  2023-07-29T03:52:56.741748072Z  \n                   6582983      True  2023-07-29T03:52:56.741748072Z  \n        2980       6334086      True  2023-07-29T03:52:56.741748072Z  \n...                              ...                             ...  \n75261   11823      6637010     False  2023-07-29T03:52:56.741748072Z  \n                   6637011     False  2023-07-29T03:52:56.741748072Z  \n                   6637012     False  2023-07-29T03:52:56.741748072Z  \n                   6637013     False  2023-07-29T03:52:56.741748072Z  \n                   6637014     False  2023-07-29T03:52:56.741748072Z  \n\n[5330 rows x 54 columns]",
      "text/html": "<div>\n<style scoped>\n    .dataframe tbody tr th:only-of-type {\n        vertical-align: middle;\n    }\n\n    .dataframe tbody tr th {\n        vertical-align: top;\n    }\n\n    .dataframe thead th {\n        text-align: right;\n    }\n</style>\n<table border=\"1\" class=\"dataframe\">\n  <thead>\n    <tr style=\"text-align: right;\">\n      <th></th>\n      <th></th>\n      <th></th>\n      <th>bw_nvlink</th>\n      <th>compute_cap</th>\n      <th>cpu_cores</th>\n      <th>cpu_cores_effective</th>\n      <th>cpu_name</th>\n      <th>cpu_ram</th>\n      <th>credit_balance</th>\n      <th>credit_discount</th>\n      <th>credit_discount_max</th>\n      <th>cuda_max_good</th>\n      <th>...</th>\n      <th>reliability2</th>\n      <th>rentable</th>\n      <th>score</th>\n      <th>start_date</th>\n      <th>static_ip</th>\n      <th>storage_cost</th>\n      <th>total_flops</th>\n      <th>verification</th>\n      <th>verified</th>\n      <th>timestamp</th>\n    </tr>\n    <tr>\n      <th>host_id</th>\n      <th>machine_id</th>\n      <th>id</th>\n      <th></th>\n      <th></th>\n      <th></th>\n      <th></th>\n      <th></th>\n      <th></th>\n      <th></th>\n      <th></th>\n      <th></th>\n      <th></th>\n      <th></th>\n      <th></th>\n      <th></th>\n      <th></th>\n      <th></th>\n      <th></th>\n      <th></th>\n      <th></th>\n      <th></th>\n      <th></th>\n      <th></th>\n    </tr>\n  </thead>\n  <tbody>\n    <tr>\n      <th rowspan=\"5\" valign=\"top\">18</th>\n      <th>1569</th>\n      <th>6293285</th>\n      <td>0.000000</td>\n      <td>890</td>\n      <td>256.0</td>\n      <td>256.000000</td>\n      <td>AMD EPYC 7B13 64-Core Processor</td>\n      <td>515771</td>\n      <td>None</td>\n      <td>None</td>\n      <td>NaN</td>\n      <td>12.0</td>\n      <td>...</td>\n      <td>0.999085</td>\n      <td>False</td>\n      <td>82.040973</td>\n      <td>NaN</td>\n      <td>True</td>\n      <td>0.15</td>\n      <td>817.88928</td>\n      <td>verified</td>\n      <td>True</td>\n      <td>2023-07-29T03:52:56.741748072Z</td>\n    </tr>\n    <tr>\n      <th rowspan=\"3\" valign=\"top\">2744</th>\n      <th>6582981</th>\n      <td>0.000000</td>\n      <td>890</td>\n      <td>128.0</td>\n      <td>128.000000</td>\n      <td>AMD EPYC 7452 32-Core Processor</td>\n      <td>515820</td>\n      <td>None</td>\n      <td>None</td>\n      <td>0.2</td>\n      <td>12.0</td>\n      <td>...</td>\n      <td>0.999059</td>\n      <td>False</td>\n      <td>78.018678</td>\n      <td>NaN</td>\n      <td>True</td>\n      <td>0.15</td>\n      <td>817.88928</td>\n      <td>verified</td>\n      <td>True</td>\n      <td>2023-07-29T03:52:56.741748072Z</td>\n    </tr>\n    <tr>\n      <th>6582982</th>\n      <td>0.000000</td>\n      <td>890</td>\n      <td>128.0</td>\n      <td>64.000000</td>\n      <td>AMD EPYC 7452 32-Core Processor</td>\n      <td>515820</td>\n      <td>None</td>\n      <td>None</td>\n      <td>0.2</td>\n      <td>12.0</td>\n      <td>...</td>\n      <td>0.999059</td>\n      <td>False</td>\n      <td>98.026879</td>\n      <td>NaN</td>\n      <td>True</td>\n      <td>0.15</td>\n      <td>408.94464</td>\n      <td>verified</td>\n      <td>True</td>\n      <td>2023-07-29T03:52:56.741748072Z</td>\n    </tr>\n    <tr>\n      <th>6582983</th>\n      <td>0.000000</td>\n      <td>890</td>\n      <td>128.0</td>\n      <td>64.000000</td>\n      <td>AMD EPYC 7452 32-Core Processor</td>\n      <td>515820</td>\n      <td>None</td>\n      <td>None</td>\n      <td>0.2</td>\n      <td>12.0</td>\n      <td>...</td>\n      <td>0.999059</td>\n      <td>False</td>\n      <td>102.623585</td>\n      <td>NaN</td>\n      <td>True</td>\n      <td>0.15</td>\n      <td>408.94464</td>\n      <td>verified</td>\n      <td>True</td>\n      <td>2023-07-29T03:52:56.741748072Z</td>\n    </tr>\n    <tr>\n      <th>2980</th>\n      <th>6334086</th>\n      <td>56.248001</td>\n      <td>860</td>\n      <td>128.0</td>\n      <td>128.000000</td>\n      <td>AMD EPYC 7452 32-Core Processor</td>\n      <td>515818</td>\n      <td>None</td>\n      <td>None</td>\n      <td>NaN</td>\n      <td>12.0</td>\n      <td>...</td>\n      <td>0.997181</td>\n      <td>False</td>\n      <td>97.757072</td>\n      <td>NaN</td>\n      <td>True</td>\n      <td>0.15</td>\n      <td>352.66560</td>\n      <td>verified</td>\n      <td>True</td>\n      <td>2023-07-29T03:52:56.741748072Z</td>\n    </tr>\n    <tr>\n      <th>...</th>\n      <th>...</th>\n      <th>...</th>\n      <td>...</td>\n      <td>...</td>\n      <td>...</td>\n      <td>...</td>\n      <td>...</td>\n      <td>...</td>\n      <td>...</td>\n      <td>...</td>\n      <td>...</td>\n      <td>...</td>\n      <td>...</td>\n      <td>...</td>\n      <td>...</td>\n      <td>...</td>\n      <td>...</td>\n      <td>...</td>\n      <td>...</td>\n      <td>...</td>\n      <td>...</td>\n      <td>...</td>\n      <td>...</td>\n    </tr>\n    <tr>\n      <th rowspan=\"5\" valign=\"top\">75261</th>\n      <th rowspan=\"5\" valign=\"top\">11823</th>\n      <th>6637010</th>\n      <td>0.000000</td>\n      <td>860</td>\n      <td>56.0</td>\n      <td>18.666648</td>\n      <td>Xeon® E5-2680 v4</td>\n      <td>257810</td>\n      <td>None</td>\n      <td>None</td>\n      <td>0.4</td>\n      <td>12.0</td>\n      <td>...</td>\n      <td>0.893432</td>\n      <td>True</td>\n      <td>27.042260</td>\n      <td>1.690603e+09</td>\n      <td>True</td>\n      <td>0.15</td>\n      <td>49.45920</td>\n      <td>unverified</td>\n      <td>False</td>\n      <td>2023-07-29T03:52:56.741748072Z</td>\n    </tr>\n    <tr>\n      <th>6637011</th>\n      <td>0.000000</td>\n      <td>860</td>\n      <td>56.0</td>\n      <td>56.000000</td>\n      <td>Xeon® E5-2680 v4</td>\n      <td>257810</td>\n      <td>None</td>\n      <td>None</td>\n      <td>0.4</td>\n      <td>12.0</td>\n      <td>...</td>\n      <td>0.893432</td>\n      <td>True</td>\n      <td>25.384895</td>\n      <td>1.690603e+09</td>\n      <td>True</td>\n      <td>0.15</td>\n      <td>148.37760</td>\n      <td>unverified</td>\n      <td>False</td>\n      <td>2023-07-29T03:52:56.741748072Z</td>\n    </tr>\n    <tr>\n      <th>6637012</th>\n      <td>0.000000</td>\n      <td>860</td>\n      <td>56.0</td>\n      <td>18.666648</td>\n      <td>Xeon® E5-2680 v4</td>\n      <td>257810</td>\n      <td>None</td>\n      <td>None</td>\n      <td>0.4</td>\n      <td>12.0</td>\n      <td>...</td>\n      <td>0.893432</td>\n      <td>True</td>\n      <td>27.795922</td>\n      <td>1.690603e+09</td>\n      <td>True</td>\n      <td>0.15</td>\n      <td>49.45920</td>\n      <td>unverified</td>\n      <td>False</td>\n      <td>2023-07-29T03:52:56.741748072Z</td>\n    </tr>\n    <tr>\n      <th>6637013</th>\n      <td>0.000000</td>\n      <td>860</td>\n      <td>56.0</td>\n      <td>37.333352</td>\n      <td>Xeon® E5-2680 v4</td>\n      <td>257810</td>\n      <td>None</td>\n      <td>None</td>\n      <td>0.4</td>\n      <td>12.0</td>\n      <td>...</td>\n      <td>0.893432</td>\n      <td>True</td>\n      <td>29.008388</td>\n      <td>1.690603e+09</td>\n      <td>True</td>\n      <td>0.15</td>\n      <td>98.91840</td>\n      <td>unverified</td>\n      <td>False</td>\n      <td>2023-07-29T03:52:56.741748072Z</td>\n    </tr>\n    <tr>\n      <th>6637014</th>\n      <td>0.000000</td>\n      <td>860</td>\n      <td>56.0</td>\n      <td>18.666648</td>\n      <td>Xeon® E5-2680 v4</td>\n      <td>257810</td>\n      <td>None</td>\n      <td>None</td>\n      <td>0.4</td>\n      <td>12.0</td>\n      <td>...</td>\n      <td>0.893432</td>\n      <td>True</td>\n      <td>28.194994</td>\n      <td>1.690603e+09</td>\n      <td>True</td>\n      <td>0.15</td>\n      <td>49.45920</td>\n      <td>unverified</td>\n      <td>False</td>\n      <td>2023-07-29T03:52:56.741748072Z</td>\n    </tr>\n  </tbody>\n</table>\n<p>5330 rows × 54 columns</p>\n</div>"
     },
     "execution_count": 5,
     "metadata": {},
     "output_type": "execute_result"
    }
   ],
   "source": [
    "to_drop = ['bundle_id']\n",
    "cols = [c for c in raw.columns.tolist() if c not in to_drop]\n",
    "# cols = raw.columns.tolist()\n",
    "\n",
    "raw[cols]\\\n",
    "    .set_index(['host_id', 'machine_id', 'id'])\\\n",
    "    .sort_index()"
   ],
   "metadata": {
    "collapsed": false,
    "ExecuteTime": {
     "end_time": "2023-07-29T03:53:39.127962200Z",
     "start_time": "2023-07-29T03:53:39.012827600Z"
    }
   }
  },
  {
   "cell_type": "code",
   "execution_count": 6,
   "outputs": [
    {
     "data": {
      "text/plain": "                            bundle_id  bw_nvlink  compute_cap  cpu_cores  \\\nhost_id machine_id id                                                      \n18      1569       6293285  313990899   0.000000          890      256.0   \n        2744       6582982  314494521   0.000000          890      128.0   \n                   6582983  314494521   0.000000          890      128.0   \n        2980       6334086  314545753  56.248001          860      128.0   \n        3090       5763835  313990052   0.000000          860       96.0   \n...                               ...        ...          ...        ...   \n75192   11818      6634416  314693442   0.000000          890       64.0   \n                   6634419  314693442   0.000000          890       64.0   \n75261   11823      6637010  314707395   0.000000          860       56.0   \n                   6637012  314707395   0.000000          860       56.0   \n                   6637014  314707395   0.000000          860       56.0   \n\n                            cpu_cores_effective  \\\nhost_id machine_id id                             \n18      1569       6293285           256.000000   \n        2744       6582982            64.000000   \n                   6582983            64.000000   \n        2980       6334086           128.000000   \n        3090       5763835            96.000000   \n...                                         ...   \n75192   11818      6634416            10.666688   \n                   6634419            10.666688   \n75261   11823      6637010            18.666648   \n                   6637012            18.666648   \n                   6637014            18.666648   \n\n                                                   cpu_name  cpu_ram  \\\nhost_id machine_id id                                                  \n18      1569       6293285  AMD EPYC 7B13 64-Core Processor   515771   \n        2744       6582982  AMD EPYC 7452 32-Core Processor   515820   \n                   6582983  AMD EPYC 7452 32-Core Processor   515820   \n        2980       6334086  AMD EPYC 7452 32-Core Processor   515818   \n        3090       5763835  AMD EPYC 7402 24-Core Processor   515837   \n...                                                     ...      ...   \n75192   11818      6634416  AMD EPYC 7542 32-Core Processor   515667   \n                   6634419  AMD EPYC 7542 32-Core Processor   515667   \n75261   11823      6637010                Xeon® E5-2680 v4    257810   \n                   6637012                Xeon® E5-2680 v4    257810   \n                   6637014                Xeon® E5-2680 v4    257810   \n\n                           credit_balance credit_discount  \\\nhost_id machine_id id                                       \n18      1569       6293285           None            None   \n        2744       6582982           None            None   \n                   6582983           None            None   \n        2980       6334086           None            None   \n        3090       5763835           None            None   \n...                                   ...             ...   \n75192   11818      6634416           None            None   \n                   6634419           None            None   \n75261   11823      6637010           None            None   \n                   6637012           None            None   \n                   6637014           None            None   \n\n                            credit_discount_max  ...  reliability2  rentable  \\\nhost_id machine_id id                            ...                           \n18      1569       6293285                  NaN  ...      0.999085     False   \n        2744       6582982                  0.2  ...      0.999059     False   \n                   6582983                  0.2  ...      0.999059     False   \n        2980       6334086                  NaN  ...      0.997181     False   \n        3090       5763835                  NaN  ...      0.993133     False   \n...                                         ...  ...           ...       ...   \n75192   11818      6634416                  0.1  ...      0.911494      True   \n                   6634419                  0.1  ...      0.911494      True   \n75261   11823      6637010                  0.4  ...      0.893432      True   \n                   6637012                  0.4  ...      0.893432      True   \n                   6637014                  0.4  ...      0.893432      True   \n\n                                 score    start_date  static_ip  storage_cost  \\\nhost_id machine_id id                                                           \n18      1569       6293285   82.040973           NaN       True          0.15   \n        2744       6582982   98.026879           NaN       True          0.15   \n                   6582983  102.623585           NaN       True          0.15   \n        2980       6334086   97.757072           NaN       True          0.15   \n        3090       5763835   91.149476           NaN       True          0.20   \n...                                ...           ...        ...           ...   \n75192   11818      6634416   42.865104  1.690603e+09       True          0.15   \n                   6634419   40.209412  1.690603e+09       True          0.15   \n75261   11823      6637010   27.042260  1.690603e+09       True          0.15   \n                   6637012   27.795922  1.690603e+09       True          0.15   \n                   6637014   28.194994  1.690603e+09       True          0.15   \n\n                           total_flops  verification  verified  \\\nhost_id machine_id id                                            \n18      1569       6293285   817.88928      verified      True   \n        2744       6582982   408.94464      verified      True   \n                   6582983   408.94464      verified      True   \n        2980       6334086   352.66560      verified      True   \n        3090       5763835   352.66560      verified      True   \n...                                ...           ...       ...   \n75192   11818      6634416   101.74464    unverified     False   \n                   6634419   102.72768    unverified     False   \n75261   11823      6637010    49.45920    unverified     False   \n                   6637012    49.45920    unverified     False   \n                   6637014    49.45920    unverified     False   \n\n                                                 timestamp  \nhost_id machine_id id                                       \n18      1569       6293285  2023-07-29T03:52:56.741748072Z  \n        2744       6582982  2023-07-29T03:52:56.741748072Z  \n                   6582983  2023-07-29T03:52:56.741748072Z  \n        2980       6334086  2023-07-29T03:52:56.741748072Z  \n        3090       5763835  2023-07-29T03:52:56.741748072Z  \n...                                                    ...  \n75192   11818      6634416  2023-07-29T03:52:56.741748072Z  \n                   6634419  2023-07-29T03:52:56.741748072Z  \n75261   11823      6637010  2023-07-29T03:52:56.741748072Z  \n                   6637012  2023-07-29T03:52:56.741748072Z  \n                   6637014  2023-07-29T03:52:56.741748072Z  \n\n[3276 rows x 55 columns]",
      "text/html": "<div>\n<style scoped>\n    .dataframe tbody tr th:only-of-type {\n        vertical-align: middle;\n    }\n\n    .dataframe tbody tr th {\n        vertical-align: top;\n    }\n\n    .dataframe thead th {\n        text-align: right;\n    }\n</style>\n<table border=\"1\" class=\"dataframe\">\n  <thead>\n    <tr style=\"text-align: right;\">\n      <th></th>\n      <th></th>\n      <th></th>\n      <th>bundle_id</th>\n      <th>bw_nvlink</th>\n      <th>compute_cap</th>\n      <th>cpu_cores</th>\n      <th>cpu_cores_effective</th>\n      <th>cpu_name</th>\n      <th>cpu_ram</th>\n      <th>credit_balance</th>\n      <th>credit_discount</th>\n      <th>credit_discount_max</th>\n      <th>...</th>\n      <th>reliability2</th>\n      <th>rentable</th>\n      <th>score</th>\n      <th>start_date</th>\n      <th>static_ip</th>\n      <th>storage_cost</th>\n      <th>total_flops</th>\n      <th>verification</th>\n      <th>verified</th>\n      <th>timestamp</th>\n    </tr>\n    <tr>\n      <th>host_id</th>\n      <th>machine_id</th>\n      <th>id</th>\n      <th></th>\n      <th></th>\n      <th></th>\n      <th></th>\n      <th></th>\n      <th></th>\n      <th></th>\n      <th></th>\n      <th></th>\n      <th></th>\n      <th></th>\n      <th></th>\n      <th></th>\n      <th></th>\n      <th></th>\n      <th></th>\n      <th></th>\n      <th></th>\n      <th></th>\n      <th></th>\n      <th></th>\n    </tr>\n  </thead>\n  <tbody>\n    <tr>\n      <th rowspan=\"5\" valign=\"top\">18</th>\n      <th>1569</th>\n      <th>6293285</th>\n      <td>313990899</td>\n      <td>0.000000</td>\n      <td>890</td>\n      <td>256.0</td>\n      <td>256.000000</td>\n      <td>AMD EPYC 7B13 64-Core Processor</td>\n      <td>515771</td>\n      <td>None</td>\n      <td>None</td>\n      <td>NaN</td>\n      <td>...</td>\n      <td>0.999085</td>\n      <td>False</td>\n      <td>82.040973</td>\n      <td>NaN</td>\n      <td>True</td>\n      <td>0.15</td>\n      <td>817.88928</td>\n      <td>verified</td>\n      <td>True</td>\n      <td>2023-07-29T03:52:56.741748072Z</td>\n    </tr>\n    <tr>\n      <th rowspan=\"2\" valign=\"top\">2744</th>\n      <th>6582982</th>\n      <td>314494521</td>\n      <td>0.000000</td>\n      <td>890</td>\n      <td>128.0</td>\n      <td>64.000000</td>\n      <td>AMD EPYC 7452 32-Core Processor</td>\n      <td>515820</td>\n      <td>None</td>\n      <td>None</td>\n      <td>0.2</td>\n      <td>...</td>\n      <td>0.999059</td>\n      <td>False</td>\n      <td>98.026879</td>\n      <td>NaN</td>\n      <td>True</td>\n      <td>0.15</td>\n      <td>408.94464</td>\n      <td>verified</td>\n      <td>True</td>\n      <td>2023-07-29T03:52:56.741748072Z</td>\n    </tr>\n    <tr>\n      <th>6582983</th>\n      <td>314494521</td>\n      <td>0.000000</td>\n      <td>890</td>\n      <td>128.0</td>\n      <td>64.000000</td>\n      <td>AMD EPYC 7452 32-Core Processor</td>\n      <td>515820</td>\n      <td>None</td>\n      <td>None</td>\n      <td>0.2</td>\n      <td>...</td>\n      <td>0.999059</td>\n      <td>False</td>\n      <td>102.623585</td>\n      <td>NaN</td>\n      <td>True</td>\n      <td>0.15</td>\n      <td>408.94464</td>\n      <td>verified</td>\n      <td>True</td>\n      <td>2023-07-29T03:52:56.741748072Z</td>\n    </tr>\n    <tr>\n      <th>2980</th>\n      <th>6334086</th>\n      <td>314545753</td>\n      <td>56.248001</td>\n      <td>860</td>\n      <td>128.0</td>\n      <td>128.000000</td>\n      <td>AMD EPYC 7452 32-Core Processor</td>\n      <td>515818</td>\n      <td>None</td>\n      <td>None</td>\n      <td>NaN</td>\n      <td>...</td>\n      <td>0.997181</td>\n      <td>False</td>\n      <td>97.757072</td>\n      <td>NaN</td>\n      <td>True</td>\n      <td>0.15</td>\n      <td>352.66560</td>\n      <td>verified</td>\n      <td>True</td>\n      <td>2023-07-29T03:52:56.741748072Z</td>\n    </tr>\n    <tr>\n      <th>3090</th>\n      <th>5763835</th>\n      <td>313990052</td>\n      <td>0.000000</td>\n      <td>860</td>\n      <td>96.0</td>\n      <td>96.000000</td>\n      <td>AMD EPYC 7402 24-Core Processor</td>\n      <td>515837</td>\n      <td>None</td>\n      <td>None</td>\n      <td>NaN</td>\n      <td>...</td>\n      <td>0.993133</td>\n      <td>False</td>\n      <td>91.149476</td>\n      <td>NaN</td>\n      <td>True</td>\n      <td>0.20</td>\n      <td>352.66560</td>\n      <td>verified</td>\n      <td>True</td>\n      <td>2023-07-29T03:52:56.741748072Z</td>\n    </tr>\n    <tr>\n      <th>...</th>\n      <th>...</th>\n      <th>...</th>\n      <td>...</td>\n      <td>...</td>\n      <td>...</td>\n      <td>...</td>\n      <td>...</td>\n      <td>...</td>\n      <td>...</td>\n      <td>...</td>\n      <td>...</td>\n      <td>...</td>\n      <td>...</td>\n      <td>...</td>\n      <td>...</td>\n      <td>...</td>\n      <td>...</td>\n      <td>...</td>\n      <td>...</td>\n      <td>...</td>\n      <td>...</td>\n      <td>...</td>\n      <td>...</td>\n    </tr>\n    <tr>\n      <th rowspan=\"2\" valign=\"top\">75192</th>\n      <th rowspan=\"2\" valign=\"top\">11818</th>\n      <th>6634416</th>\n      <td>314693442</td>\n      <td>0.000000</td>\n      <td>890</td>\n      <td>64.0</td>\n      <td>10.666688</td>\n      <td>AMD EPYC 7542 32-Core Processor</td>\n      <td>515667</td>\n      <td>None</td>\n      <td>None</td>\n      <td>0.1</td>\n      <td>...</td>\n      <td>0.911494</td>\n      <td>True</td>\n      <td>42.865104</td>\n      <td>1.690603e+09</td>\n      <td>True</td>\n      <td>0.15</td>\n      <td>101.74464</td>\n      <td>unverified</td>\n      <td>False</td>\n      <td>2023-07-29T03:52:56.741748072Z</td>\n    </tr>\n    <tr>\n      <th>6634419</th>\n      <td>314693442</td>\n      <td>0.000000</td>\n      <td>890</td>\n      <td>64.0</td>\n      <td>10.666688</td>\n      <td>AMD EPYC 7542 32-Core Processor</td>\n      <td>515667</td>\n      <td>None</td>\n      <td>None</td>\n      <td>0.1</td>\n      <td>...</td>\n      <td>0.911494</td>\n      <td>True</td>\n      <td>40.209412</td>\n      <td>1.690603e+09</td>\n      <td>True</td>\n      <td>0.15</td>\n      <td>102.72768</td>\n      <td>unverified</td>\n      <td>False</td>\n      <td>2023-07-29T03:52:56.741748072Z</td>\n    </tr>\n    <tr>\n      <th rowspan=\"3\" valign=\"top\">75261</th>\n      <th rowspan=\"3\" valign=\"top\">11823</th>\n      <th>6637010</th>\n      <td>314707395</td>\n      <td>0.000000</td>\n      <td>860</td>\n      <td>56.0</td>\n      <td>18.666648</td>\n      <td>Xeon® E5-2680 v4</td>\n      <td>257810</td>\n      <td>None</td>\n      <td>None</td>\n      <td>0.4</td>\n      <td>...</td>\n      <td>0.893432</td>\n      <td>True</td>\n      <td>27.042260</td>\n      <td>1.690603e+09</td>\n      <td>True</td>\n      <td>0.15</td>\n      <td>49.45920</td>\n      <td>unverified</td>\n      <td>False</td>\n      <td>2023-07-29T03:52:56.741748072Z</td>\n    </tr>\n    <tr>\n      <th>6637012</th>\n      <td>314707395</td>\n      <td>0.000000</td>\n      <td>860</td>\n      <td>56.0</td>\n      <td>18.666648</td>\n      <td>Xeon® E5-2680 v4</td>\n      <td>257810</td>\n      <td>None</td>\n      <td>None</td>\n      <td>0.4</td>\n      <td>...</td>\n      <td>0.893432</td>\n      <td>True</td>\n      <td>27.795922</td>\n      <td>1.690603e+09</td>\n      <td>True</td>\n      <td>0.15</td>\n      <td>49.45920</td>\n      <td>unverified</td>\n      <td>False</td>\n      <td>2023-07-29T03:52:56.741748072Z</td>\n    </tr>\n    <tr>\n      <th>6637014</th>\n      <td>314707395</td>\n      <td>0.000000</td>\n      <td>860</td>\n      <td>56.0</td>\n      <td>18.666648</td>\n      <td>Xeon® E5-2680 v4</td>\n      <td>257810</td>\n      <td>None</td>\n      <td>None</td>\n      <td>0.4</td>\n      <td>...</td>\n      <td>0.893432</td>\n      <td>True</td>\n      <td>28.194994</td>\n      <td>1.690603e+09</td>\n      <td>True</td>\n      <td>0.15</td>\n      <td>49.45920</td>\n      <td>unverified</td>\n      <td>False</td>\n      <td>2023-07-29T03:52:56.741748072Z</td>\n    </tr>\n  </tbody>\n</table>\n<p>3276 rows × 55 columns</p>\n</div>"
     },
     "execution_count": 6,
     "metadata": {},
     "output_type": "execute_result"
    }
   ],
   "source": [
    "def pd_min_chunk(df):\n",
    "    gpu_chunks = list(df.num_gpus)\n",
    "    gpu_chunks.sort()\n",
    "    min_chunk = min(gpu_chunks)\n",
    "\n",
    "    # correction for the case where whole machine size is not a multiple of min_chunk\n",
    "    # in this case, there is always a single remainder chunk which is smaller than actual min_chunk\n",
    "    # examples: [1 2 2 2 3 4 7] [1 2 3], actual min_chunk is 2\n",
    "    #           [3 4 7], actual min_chunk is 4\n",
    "    if gpu_chunks.count(min_chunk) == 1 and len(gpu_chunks) >= 3:\n",
    "        min_chunk = gpu_chunks[1]\n",
    "\n",
    "    # filter undivided chunks\n",
    "    undivided = df[df.num_gpus <= min_chunk]\n",
    "    return undivided\n",
    "\n",
    "df = raw.groupby('machine_id')\\\n",
    "    .apply(pd_min_chunk)\\\n",
    "    .set_index(['host_id', 'machine_id', 'id']) \\\n",
    "    .sort_index()\n",
    "df"
   ],
   "metadata": {
    "collapsed": false,
    "ExecuteTime": {
     "end_time": "2023-07-29T03:54:11.784249900Z",
     "start_time": "2023-07-29T03:54:09.380851Z"
    }
   }
  },
  {
   "cell_type": "code",
   "execution_count": 10,
   "outputs": [
    {
     "data": {
      "text/plain": "host_id  machine_id  id     \n18       1569        6293285    8\n         2744        6582981    8\n                     6582982    4\n                     6582983    4\n         2980        6334086    8\n                               ..\n75261    11823       6637010    2\n                     6637011    6\n                     6637012    2\n                     6637013    4\n                     6637014    2\nName: num_gpus, Length: 5330, dtype: int64"
     },
     "execution_count": 10,
     "metadata": {},
     "output_type": "execute_result"
    }
   ],
   "source": [
    "raw.set_index(['host_id', 'machine_id', 'id']).sort_index()['num_gpus']"
   ],
   "metadata": {
    "collapsed": false,
    "ExecuteTime": {
     "end_time": "2023-07-29T03:56:28.098846200Z",
     "start_time": "2023-07-29T03:56:28.056139Z"
    }
   }
  },
  {
   "cell_type": "code",
   "execution_count": 8,
   "outputs": [
    {
     "data": {
      "text/plain": "host_id  machine_id  id     \n18       1569        6293285    8\n         2744        6582982    4\n                     6582983    4\n         2980        6334086    8\n         3090        5763835    8\n                               ..\n75192    11818       6634416    1\n                     6634419    1\n75261    11823       6637010    2\n                     6637012    2\n                     6637014    2\nName: num_gpus, Length: 3276, dtype: int64"
     },
     "execution_count": 8,
     "metadata": {},
     "output_type": "execute_result"
    }
   ],
   "source": [
    "df['num_gpus']"
   ],
   "metadata": {
    "collapsed": false,
    "ExecuteTime": {
     "end_time": "2023-07-29T03:56:14.171304900Z",
     "start_time": "2023-07-29T03:56:14.153066400Z"
    }
   }
  },
  {
   "cell_type": "code",
   "execution_count": 318,
   "outputs": [],
   "source": [
    "def group_by_min(values, ids):\n",
    "    argidx = np.argsort(ids)\n",
    "    ids_sort, values_sort = ids[argidx], values[argidx]\n",
    "    slice_ids = np.r_[0, np.flatnonzero(np.diff(ids_sort)) + 1]\n",
    "    return np.minimum.reduceat(values_sort, slice_ids)"
   ],
   "metadata": {
    "collapsed": false,
    "ExecuteTime": {
     "end_time": "2023-07-08T14:03:48.670559900Z",
     "start_time": "2023-07-08T14:03:48.648556400Z"
    }
   }
  },
  {
   "cell_type": "code",
   "execution_count": 319,
   "outputs": [
    {
     "data": {
      "text/plain": "True"
     },
     "execution_count": 319,
     "metadata": {},
     "output_type": "execute_result"
    }
   ],
   "source": [
    "min_gpus = raw.groupby('machine_id')['num_gpus'].min()\n",
    "np.all(min_gpus == group_by_min(raw.num_gpus.values, raw.machine_id.values))"
   ],
   "metadata": {
    "collapsed": false,
    "ExecuteTime": {
     "end_time": "2023-07-08T14:03:50.125886Z",
     "start_time": "2023-07-08T14:03:50.103882500Z"
    }
   }
  },
  {
   "cell_type": "code",
   "execution_count": 320,
   "outputs": [
    {
     "name": "stdout",
     "output_type": "stream",
     "text": [
      "448 µs ± 1.15 µs per loop (mean ± std. dev. of 7 runs, 1,000 loops each)\n",
      "170 µs ± 1.02 µs per loop (mean ± std. dev. of 7 runs, 10,000 loops each)\n"
     ]
    }
   ],
   "source": [
    "%timeit raw.groupby('machine_id')['num_gpus'].min()\n",
    "%timeit group_by_min(raw.num_gpus.values, raw.machine_id.values)"
   ],
   "metadata": {
    "collapsed": false,
    "ExecuteTime": {
     "end_time": "2023-07-08T14:04:09.398596800Z",
     "start_time": "2023-07-08T14:03:51.874158900Z"
    }
   }
  },
  {
   "cell_type": "code",
   "execution_count": 321,
   "outputs": [
    {
     "name": "stdout",
     "output_type": "stream",
     "text": [
      "2.32 ms ± 171 µs per loop (mean ± std. dev. of 7 runs, 100 loops each)\n",
      "245 µs ± 852 ns per loop (mean ± std. dev. of 7 runs, 1,000 loops each)\n"
     ]
    }
   ],
   "source": [
    "%timeit raw.sort_values(by=['machine_id', 'num_gpus'])\n",
    "%timeit np.lexsort((raw.num_gpus.values, raw.machine_id.values))"
   ],
   "metadata": {
    "collapsed": false,
    "ExecuteTime": {
     "end_time": "2023-07-08T14:04:13.281466400Z",
     "start_time": "2023-07-08T14:04:09.402598200Z"
    }
   }
  },
  {
   "cell_type": "code",
   "execution_count": 308,
   "outputs": [
    {
     "data": {
      "text/plain": "True"
     },
     "execution_count": 308,
     "metadata": {},
     "output_type": "execute_result"
    }
   ],
   "source": [
    "# raw.sort_values(by='machine_id', inplace=True)\n",
    "# slice_idx = np.r_[0, np.flatnonzero(np.diff(raw.machine_id.values)) + 1]\n",
    "# np.all(np.minimum.reduceat(raw.num_gpus.values, slice_idx) == raw.groupby('machine_id')['num_gpus'].min())"
   ],
   "metadata": {
    "collapsed": false,
    "ExecuteTime": {
     "end_time": "2023-07-08T14:00:26.805797600Z",
     "start_time": "2023-07-08T14:00:26.783793300Z"
    }
   }
  },
  {
   "cell_type": "code",
   "execution_count": 322,
   "outputs": [
    {
     "data": {
      "text/plain": "array([[  274,     1],\n       [  274,     1],\n       [  274,     1],\n       ...,\n       [11462,     1],\n       [11462,     2],\n       [11463,     1]], dtype=int64)"
     },
     "execution_count": 322,
     "metadata": {},
     "output_type": "execute_result"
    }
   ],
   "source": [
    "lexidx = np.lexsort((raw.num_gpus.values, raw.machine_id.values))\n",
    "np.hstack([raw.machine_id.values[lexidx][:, np.newaxis], raw.num_gpus.values[lexidx][:, np.newaxis]])"
   ],
   "metadata": {
    "collapsed": false,
    "ExecuteTime": {
     "end_time": "2023-07-08T14:04:28.086843800Z",
     "start_time": "2023-07-08T14:04:28.061838100Z"
    }
   }
  },
  {
   "cell_type": "code",
   "execution_count": 323,
   "outputs": [],
   "source": [
    "def hstack(a, b):\n",
    "    return np.hstack([a[:, np.newaxis], b[:, np.newaxis]])"
   ],
   "metadata": {
    "collapsed": false,
    "ExecuteTime": {
     "end_time": "2023-07-08T14:04:32.902063400Z",
     "start_time": "2023-07-08T14:04:32.892060200Z"
    }
   }
  },
  {
   "cell_type": "code",
   "execution_count": 340,
   "outputs": [
    {
     "data": {
      "text/plain": "      machine_id  num_gpus\n5277         274         1\n5275         274         1\n4415         274         8\n5027         274         4\n5199         274         2\n...          ...       ...\n5086       11461         1\n4244       11462         2\n4692       11462         1\n4693       11462         1\n5207       11463         1\n\n[5310 rows x 2 columns]",
      "text/html": "<div>\n<style scoped>\n    .dataframe tbody tr th:only-of-type {\n        vertical-align: middle;\n    }\n\n    .dataframe tbody tr th {\n        vertical-align: top;\n    }\n\n    .dataframe thead th {\n        text-align: right;\n    }\n</style>\n<table border=\"1\" class=\"dataframe\">\n  <thead>\n    <tr style=\"text-align: right;\">\n      <th></th>\n      <th>machine_id</th>\n      <th>num_gpus</th>\n    </tr>\n  </thead>\n  <tbody>\n    <tr>\n      <th>5277</th>\n      <td>274</td>\n      <td>1</td>\n    </tr>\n    <tr>\n      <th>5275</th>\n      <td>274</td>\n      <td>1</td>\n    </tr>\n    <tr>\n      <th>4415</th>\n      <td>274</td>\n      <td>8</td>\n    </tr>\n    <tr>\n      <th>5027</th>\n      <td>274</td>\n      <td>4</td>\n    </tr>\n    <tr>\n      <th>5199</th>\n      <td>274</td>\n      <td>2</td>\n    </tr>\n    <tr>\n      <th>...</th>\n      <td>...</td>\n      <td>...</td>\n    </tr>\n    <tr>\n      <th>5086</th>\n      <td>11461</td>\n      <td>1</td>\n    </tr>\n    <tr>\n      <th>4244</th>\n      <td>11462</td>\n      <td>2</td>\n    </tr>\n    <tr>\n      <th>4692</th>\n      <td>11462</td>\n      <td>1</td>\n    </tr>\n    <tr>\n      <th>4693</th>\n      <td>11462</td>\n      <td>1</td>\n    </tr>\n    <tr>\n      <th>5207</th>\n      <td>11463</td>\n      <td>1</td>\n    </tr>\n  </tbody>\n</table>\n<p>5310 rows × 2 columns</p>\n</div>"
     },
     "execution_count": 340,
     "metadata": {},
     "output_type": "execute_result"
    }
   ],
   "source": [
    "raw[['machine_id', 'num_gpus']]"
   ],
   "metadata": {
    "collapsed": false,
    "ExecuteTime": {
     "end_time": "2023-07-08T14:08:46.615084700Z",
     "start_time": "2023-07-08T14:08:46.589079300Z"
    }
   }
  },
  {
   "cell_type": "code",
   "execution_count": 334,
   "outputs": [
    {
     "data": {
      "text/plain": "array([   0,    1,    5, ..., 5308, 5306, 5309], dtype=int64)"
     },
     "execution_count": 334,
     "metadata": {},
     "output_type": "execute_result"
    }
   ],
   "source": [
    "lexidx"
   ],
   "metadata": {
    "collapsed": false,
    "ExecuteTime": {
     "end_time": "2023-07-08T14:06:56.885332Z",
     "start_time": "2023-07-08T14:06:56.861325500Z"
    }
   }
  },
  {
   "cell_type": "code",
   "execution_count": 333,
   "outputs": [
    {
     "data": {
      "text/plain": "      machine_id  num_gpus\n0          10298        14\n1          10163        14\n5           7075         8\n8          10184         8\n9          10116         8\n...          ...       ...\n5304        7630         1\n5307        9528         1\n5308       11250         1\n5306        7630         1\n5309       10914         1\n\n[5310 rows x 2 columns]",
      "text/html": "<div>\n<style scoped>\n    .dataframe tbody tr th:only-of-type {\n        vertical-align: middle;\n    }\n\n    .dataframe tbody tr th {\n        vertical-align: top;\n    }\n\n    .dataframe thead th {\n        text-align: right;\n    }\n</style>\n<table border=\"1\" class=\"dataframe\">\n  <thead>\n    <tr style=\"text-align: right;\">\n      <th></th>\n      <th>machine_id</th>\n      <th>num_gpus</th>\n    </tr>\n  </thead>\n  <tbody>\n    <tr>\n      <th>0</th>\n      <td>10298</td>\n      <td>14</td>\n    </tr>\n    <tr>\n      <th>1</th>\n      <td>10163</td>\n      <td>14</td>\n    </tr>\n    <tr>\n      <th>5</th>\n      <td>7075</td>\n      <td>8</td>\n    </tr>\n    <tr>\n      <th>8</th>\n      <td>10184</td>\n      <td>8</td>\n    </tr>\n    <tr>\n      <th>9</th>\n      <td>10116</td>\n      <td>8</td>\n    </tr>\n    <tr>\n      <th>...</th>\n      <td>...</td>\n      <td>...</td>\n    </tr>\n    <tr>\n      <th>5304</th>\n      <td>7630</td>\n      <td>1</td>\n    </tr>\n    <tr>\n      <th>5307</th>\n      <td>9528</td>\n      <td>1</td>\n    </tr>\n    <tr>\n      <th>5308</th>\n      <td>11250</td>\n      <td>1</td>\n    </tr>\n    <tr>\n      <th>5306</th>\n      <td>7630</td>\n      <td>1</td>\n    </tr>\n    <tr>\n      <th>5309</th>\n      <td>10914</td>\n      <td>1</td>\n    </tr>\n  </tbody>\n</table>\n<p>5310 rows × 2 columns</p>\n</div>"
     },
     "execution_count": 333,
     "metadata": {},
     "output_type": "execute_result"
    }
   ],
   "source": [
    "raw.loc[lexidx, ['machine_id', 'num_gpus']]"
   ],
   "metadata": {
    "collapsed": false,
    "ExecuteTime": {
     "end_time": "2023-07-08T14:06:45.912053800Z",
     "start_time": "2023-07-08T14:06:45.883047500Z"
    }
   }
  },
  {
   "cell_type": "code",
   "execution_count": 354,
   "outputs": [
    {
     "data": {
      "text/plain": "      machine_id  num_gpus\n5274         274         1\n5275         274         1\n5276         274         1\n5277         274         1\n5278         274         1\n...          ...       ...\n4465       11461         2\n4694       11462         1\n4695       11462         1\n4246       11462         2\n5208       11463         1\n\n[5311 rows x 2 columns]",
      "text/html": "<div>\n<style scoped>\n    .dataframe tbody tr th:only-of-type {\n        vertical-align: middle;\n    }\n\n    .dataframe tbody tr th {\n        vertical-align: top;\n    }\n\n    .dataframe thead th {\n        text-align: right;\n    }\n</style>\n<table border=\"1\" class=\"dataframe\">\n  <thead>\n    <tr style=\"text-align: right;\">\n      <th></th>\n      <th>machine_id</th>\n      <th>num_gpus</th>\n    </tr>\n  </thead>\n  <tbody>\n    <tr>\n      <th>5274</th>\n      <td>274</td>\n      <td>1</td>\n    </tr>\n    <tr>\n      <th>5275</th>\n      <td>274</td>\n      <td>1</td>\n    </tr>\n    <tr>\n      <th>5276</th>\n      <td>274</td>\n      <td>1</td>\n    </tr>\n    <tr>\n      <th>5277</th>\n      <td>274</td>\n      <td>1</td>\n    </tr>\n    <tr>\n      <th>5278</th>\n      <td>274</td>\n      <td>1</td>\n    </tr>\n    <tr>\n      <th>...</th>\n      <td>...</td>\n      <td>...</td>\n    </tr>\n    <tr>\n      <th>4465</th>\n      <td>11461</td>\n      <td>2</td>\n    </tr>\n    <tr>\n      <th>4694</th>\n      <td>11462</td>\n      <td>1</td>\n    </tr>\n    <tr>\n      <th>4695</th>\n      <td>11462</td>\n      <td>1</td>\n    </tr>\n    <tr>\n      <th>4246</th>\n      <td>11462</td>\n      <td>2</td>\n    </tr>\n    <tr>\n      <th>5208</th>\n      <td>11463</td>\n      <td>1</td>\n    </tr>\n  </tbody>\n</table>\n<p>5311 rows × 2 columns</p>\n</div>"
     },
     "execution_count": 354,
     "metadata": {},
     "output_type": "execute_result"
    }
   ],
   "source": [
    "raw.loc[lexidx][['machine_id', 'num_gpus']]"
   ],
   "metadata": {
    "collapsed": false,
    "ExecuteTime": {
     "end_time": "2023-07-08T14:37:03.949467100Z",
     "start_time": "2023-07-08T14:37:03.934463100Z"
    }
   }
  },
  {
   "cell_type": "code",
   "execution_count": 350,
   "outputs": [
    {
     "data": {
      "text/plain": "array([[  274,     1],\n       [  275,     1],\n       [  283,     2],\n       ...,\n       [11461,     1],\n       [11462,     1],\n       [11463,     1]], dtype=int64)"
     },
     "execution_count": 350,
     "metadata": {},
     "output_type": "execute_result"
    }
   ],
   "source": [
    "lexidx = np.lexsort((raw.num_gpus.values, raw.machine_id.values))\n",
    "machine_ids, num_gpus = raw.machine_id.values[lexidx], raw.num_gpus.values[lexidx]\n",
    "slice_idx =  np.r_[0, np.flatnonzero(np.diff(machine_ids)) + 1]\n",
    "min_chunk = num_gpus[slice_idx]\n",
    "\n",
    "hstack(machine_ids[slice_idx], min_chunk)\n",
    "# min_chunks = np.minimum.reduceat(num_gpus, slice_idx)\n",
    "# min_chunks"
   ],
   "metadata": {
    "collapsed": false,
    "ExecuteTime": {
     "end_time": "2023-07-08T14:36:23.880569200Z",
     "start_time": "2023-07-08T14:36:23.872567Z"
    }
   }
  },
  {
   "cell_type": "code",
   "execution_count": 355,
   "outputs": [],
   "source": [
    "group_count = np.diff(np.concatenate([slice_idx, [len(machine_ids)]])) # groupby('machine_id').count()\n",
    "\n",
    "min_chunk_ex = np.repeat(min_chunk, group_count) # expanded min_chunk for each machine_id\n",
    "\n",
    "min_chunk_count = np.add.reduceat((min_chunk_ex == num_gpus), slice_idx)\n",
    "\n",
    "# hstack(machine_ids[slice_idx], min_chunk_count)"
   ],
   "metadata": {
    "collapsed": false,
    "ExecuteTime": {
     "end_time": "2023-07-08T14:37:13.558850300Z",
     "start_time": "2023-07-08T14:37:13.549848500Z"
    }
   }
  },
  {
   "cell_type": "code",
   "execution_count": 395,
   "outputs": [
    {
     "data": {
      "text/plain": "array([[ 3690,     3],\n       [ 4555,     2],\n       [ 4708,     2],\n       [ 7067,     2],\n       [ 7448,     2],\n       [ 7471,     2],\n       [ 8384,     3],\n       [ 8754,     2],\n       [ 8888,     2],\n       [ 9232,     2],\n       [10298,     4],\n       [10330,     2],\n       [10456,     2],\n       [10457,     2],\n       [10469,     4],\n       [11163,     4],\n       [11309,     2],\n       [11362,     2],\n       [11397,     2],\n       [11441,     4],\n       [11446,     4]], dtype=int64)"
     },
     "execution_count": 395,
     "metadata": {},
     "output_type": "execute_result"
    }
   ],
   "source": [
    "# calculate second_min_chunk: second-smallest value\n",
    "# python loop:\n",
    "# if gpu_chunks.count(min_chunk) == 1 and len(gpu_chunks) >= 3:\n",
    "#     min_chunk = gpu_chunks[1]\n",
    "#\n",
    "# vectorized:\n",
    "# second_min_idx = num_gpus[slice_idx + 1]\n",
    "\n",
    "idx = (min_chunk_count == 1) & (group_count >= 3)\n",
    "second_min_idx = slice_idx + 1\n",
    "if second_min_idx[-1] == machine_ids.size:\n",
    "    second_min_idx[-1] -= 1\n",
    "min_chunk[idx] = num_gpus[second_min_idx][idx]\n",
    "\n",
    "hstack(machine_ids[slice_idx][idx], min_chunk[idx])"
   ],
   "metadata": {
    "collapsed": false,
    "ExecuteTime": {
     "end_time": "2023-07-08T15:01:23.146874900Z",
     "start_time": "2023-07-08T15:01:23.126229600Z"
    }
   }
  },
  {
   "cell_type": "code",
   "execution_count": 358,
   "outputs": [
    {
     "data": {
      "text/plain": "array([1, 1, 1, ..., 1, 1, 1], dtype=int64)"
     },
     "execution_count": 358,
     "metadata": {},
     "output_type": "execute_result"
    }
   ],
   "source": [
    "# update min_chunk_ex\n",
    "min_chunk_ex = np.repeat(min_chunk, group_count)\n",
    "min_chunk_ex"
   ],
   "metadata": {
    "collapsed": false,
    "ExecuteTime": {
     "end_time": "2023-07-08T14:37:36.253105600Z",
     "start_time": "2023-07-08T14:37:36.244104100Z"
    }
   }
  },
  {
   "cell_type": "code",
   "execution_count": 379,
   "outputs": [
    {
     "data": {
      "text/plain": "      machine_id  num_gpus\n5274         274         1\n5275         274         1\n5276         274         1\n5277         274         1\n5278         274         1\n...          ...       ...\n5086       11461         1\n5087       11461         1\n4694       11462         1\n4695       11462         1\n5208       11463         1\n\n[3245 rows x 2 columns]",
      "text/html": "<div>\n<style scoped>\n    .dataframe tbody tr th:only-of-type {\n        vertical-align: middle;\n    }\n\n    .dataframe tbody tr th {\n        vertical-align: top;\n    }\n\n    .dataframe thead th {\n        text-align: right;\n    }\n</style>\n<table border=\"1\" class=\"dataframe\">\n  <thead>\n    <tr style=\"text-align: right;\">\n      <th></th>\n      <th>machine_id</th>\n      <th>num_gpus</th>\n    </tr>\n  </thead>\n  <tbody>\n    <tr>\n      <th>5274</th>\n      <td>274</td>\n      <td>1</td>\n    </tr>\n    <tr>\n      <th>5275</th>\n      <td>274</td>\n      <td>1</td>\n    </tr>\n    <tr>\n      <th>5276</th>\n      <td>274</td>\n      <td>1</td>\n    </tr>\n    <tr>\n      <th>5277</th>\n      <td>274</td>\n      <td>1</td>\n    </tr>\n    <tr>\n      <th>5278</th>\n      <td>274</td>\n      <td>1</td>\n    </tr>\n    <tr>\n      <th>...</th>\n      <td>...</td>\n      <td>...</td>\n    </tr>\n    <tr>\n      <th>5086</th>\n      <td>11461</td>\n      <td>1</td>\n    </tr>\n    <tr>\n      <th>5087</th>\n      <td>11461</td>\n      <td>1</td>\n    </tr>\n    <tr>\n      <th>4694</th>\n      <td>11462</td>\n      <td>1</td>\n    </tr>\n    <tr>\n      <th>4695</th>\n      <td>11462</td>\n      <td>1</td>\n    </tr>\n    <tr>\n      <th>5208</th>\n      <td>11463</td>\n      <td>1</td>\n    </tr>\n  </tbody>\n</table>\n<p>3245 rows × 2 columns</p>\n</div>"
     },
     "execution_count": 379,
     "metadata": {},
     "output_type": "execute_result"
    }
   ],
   "source": [
    "\n",
    "np_arr = raw.loc[lexidx][num_gpus <= min_chunk_ex][['machine_id', 'num_gpus']]\n",
    "np_arr"
   ],
   "metadata": {
    "collapsed": false,
    "ExecuteTime": {
     "end_time": "2023-07-08T14:43:22.160546Z",
     "start_time": "2023-07-08T14:43:22.116537100Z"
    }
   }
  },
  {
   "cell_type": "code",
   "execution_count": 369,
   "outputs": [
    {
     "data": {
      "text/plain": "      machine_id  num_gpus\n5274         274         1\n5275         274         1\n5276         274         1\n5277         274         1\n5278         274         1\n...          ...       ...\n5086       11461         1\n5087       11461         1\n4694       11462         1\n4695       11462         1\n5208       11463         1\n\n[3245 rows x 2 columns]",
      "text/html": "<div>\n<style scoped>\n    .dataframe tbody tr th:only-of-type {\n        vertical-align: middle;\n    }\n\n    .dataframe tbody tr th {\n        vertical-align: top;\n    }\n\n    .dataframe thead th {\n        text-align: right;\n    }\n</style>\n<table border=\"1\" class=\"dataframe\">\n  <thead>\n    <tr style=\"text-align: right;\">\n      <th></th>\n      <th>machine_id</th>\n      <th>num_gpus</th>\n    </tr>\n  </thead>\n  <tbody>\n    <tr>\n      <th>5274</th>\n      <td>274</td>\n      <td>1</td>\n    </tr>\n    <tr>\n      <th>5275</th>\n      <td>274</td>\n      <td>1</td>\n    </tr>\n    <tr>\n      <th>5276</th>\n      <td>274</td>\n      <td>1</td>\n    </tr>\n    <tr>\n      <th>5277</th>\n      <td>274</td>\n      <td>1</td>\n    </tr>\n    <tr>\n      <th>5278</th>\n      <td>274</td>\n      <td>1</td>\n    </tr>\n    <tr>\n      <th>...</th>\n      <td>...</td>\n      <td>...</td>\n    </tr>\n    <tr>\n      <th>5086</th>\n      <td>11461</td>\n      <td>1</td>\n    </tr>\n    <tr>\n      <th>5087</th>\n      <td>11461</td>\n      <td>1</td>\n    </tr>\n    <tr>\n      <th>4694</th>\n      <td>11462</td>\n      <td>1</td>\n    </tr>\n    <tr>\n      <th>4695</th>\n      <td>11462</td>\n      <td>1</td>\n    </tr>\n    <tr>\n      <th>5208</th>\n      <td>11463</td>\n      <td>1</td>\n    </tr>\n  </tbody>\n</table>\n<p>3245 rows × 2 columns</p>\n</div>"
     },
     "execution_count": 369,
     "metadata": {},
     "output_type": "execute_result"
    }
   ],
   "source": [
    "df = raw.groupby('machine_id', group_keys=False).apply(pd_min_chunk)[['machine_id', 'num_gpus']]\n",
    "df"
   ],
   "metadata": {
    "collapsed": false,
    "ExecuteTime": {
     "end_time": "2023-07-08T14:40:46.146293500Z",
     "start_time": "2023-07-08T14:40:44.031824700Z"
    }
   }
  },
  {
   "cell_type": "code",
   "execution_count": 380,
   "outputs": [
    {
     "data": {
      "text/plain": "True"
     },
     "execution_count": 380,
     "metadata": {},
     "output_type": "execute_result"
    }
   ],
   "source": [
    "all(df == pd.DataFrame(np_arr, columns=df.columns, index=df.index))"
   ],
   "metadata": {
    "collapsed": false,
    "ExecuteTime": {
     "end_time": "2023-07-08T14:43:37.357475500Z",
     "start_time": "2023-07-08T14:43:37.341471900Z"
    }
   }
  },
  {
   "cell_type": "code",
   "execution_count": 14,
   "outputs": [],
   "source": [
    "def np_min_chunk(raw):\n",
    "    lexidx = np.lexsort((raw.num_gpus.values, raw.machine_id.values))\n",
    "\n",
    "    machine_ids, num_gpus = raw.machine_id.values[lexidx], raw.num_gpus.values[lexidx]\n",
    "    slice_idx =  np.r_[0, np.flatnonzero(np.diff(machine_ids)) + 1]\n",
    "    group_count = np.diff(np.concatenate([slice_idx, [len(machine_ids)]])) # groupby('machine_id').count()\n",
    "\n",
    "    min_chunk = num_gpus[slice_idx]\n",
    "    min_chunk_ex = np.repeat(min_chunk, group_count) # expanded min_chunk for each machine_id\n",
    "    min_chunk_count = np.add.reduceat((min_chunk_ex == num_gpus), slice_idx)\n",
    "\n",
    "    # calculate second_min_chunk: second-smallest value\n",
    "    # python loop:\n",
    "    # if gpu_chunks.count(min_chunk) == 1 and len(gpu_chunks) >= 3:\n",
    "    #     min_chunk = gpu_chunks[1]\n",
    "    #\n",
    "    # vectorized:\n",
    "    # second_min_idx = num_gpus[slice_idx + 1]\n",
    "\n",
    "    idx = (min_chunk_count == 1) & (group_count >= 3)\n",
    "\n",
    "    second_min_idx = slice_idx + 1\n",
    "    if second_min_idx[-1] == machine_ids.size:\n",
    "        second_min_idx[-1] -= 1\n",
    "\n",
    "    min_chunk[idx] = num_gpus[second_min_idx][idx]\n",
    "\n",
    "    # update min_chunk_ex\n",
    "    min_chunk_ex = np.repeat(min_chunk, group_count)\n",
    "\n",
    "    return raw.loc[lexidx][num_gpus <= min_chunk_ex].copy()"
   ],
   "metadata": {
    "collapsed": false,
    "ExecuteTime": {
     "end_time": "2023-07-30T04:37:04.059053100Z",
     "start_time": "2023-07-30T04:37:04.051051200Z"
    }
   }
  },
  {
   "cell_type": "code",
   "execution_count": 385,
   "outputs": [
    {
     "data": {
      "text/plain": "      bundle_id  bw_nvlink  compute_cap  cpu_cores  cpu_cores_effective  \\\n5274  314265729        0.0          610       32.0                  4.0   \n5275  314265729        0.0          610       32.0                  4.0   \n5276  314265729        0.0          610       32.0                  4.0   \n5277  314265729        0.0          610       32.0                  4.0   \n5278  314265729        0.0          610       32.0                  4.0   \n...         ...        ...          ...        ...                  ...   \n5086  314312977        0.0          860        2.0                  1.0   \n5087  314312977        0.0          860        2.0                  1.0   \n4694  314315732        0.0          860       24.0                 12.0   \n4695  314315732        0.0          860       24.0                 12.0   \n5208  314316075        0.0          860       28.0                 28.0   \n\n                             cpu_name  cpu_ram credit_balance credit_discount  \\\n5274                Xeon® E5-2650 v2     64377           None            None   \n5275                Xeon® E5-2650 v2     64377           None            None   \n5276                Xeon® E5-2650 v2     64377           None            None   \n5277                Xeon® E5-2650 v2     64377           None            None   \n5278                Xeon® E5-2650 v2     64377           None            None   \n...                               ...      ...            ...             ...   \n5086                  Celeron® G3900      7881           None            None   \n5087                  Celeron® G3900      7881           None            None   \n4694  AMD EPYC 7402 24-Core Processor   515736           None            None   \n4695  AMD EPYC 7402 24-Core Processor   515736           None            None   \n5208                Xeon® E5-2680 v4     31991           None            None   \n\n      credit_discount_max  ...    public_ipaddr  reliability2  rentable  \\\n5274                  0.4  ...    194.44.114.10      0.994629     False   \n5275                  0.4  ...    194.44.114.10      0.994629      True   \n5276                  0.4  ...    194.44.114.10      0.994629      True   \n5277                  0.4  ...    194.44.114.10      0.994629      True   \n5278                  0.4  ...    194.44.114.10      0.994629      True   \n...                   ...  ...              ...           ...       ...   \n5086                  0.4  ...  188.239.100.118      0.729967      True   \n5087                  0.4  ...  188.239.100.118      0.729967      True   \n4694                  0.4  ...    111.30.115.30      0.738135      True   \n4695                  0.4  ...    111.30.115.30      0.738135      True   \n5208                  0.4  ...  123.149.206.204      0.651718      True   \n\n          score    start_date  storage_cost total_flops  verification  \\\n5274  48.819962           NaN          0.15     7.67616    deverified   \n5275  47.335885  1.688827e+09          0.15     7.67616    deverified   \n5276  50.440345  1.688827e+09          0.15     7.67616    deverified   \n5277  48.940285  1.688827e+09          0.15     7.67616    deverified   \n5278  47.053943  1.688827e+09          0.15     7.67616    deverified   \n...         ...           ...           ...         ...           ...   \n5086  28.774001  1.688827e+09          0.15    24.72960    unverified   \n5087  28.787978  1.688827e+09          0.15    24.72960    unverified   \n4694  17.258549  1.688827e+09          0.15    44.08320    unverified   \n4695  16.463501  1.688827e+09          0.15    44.08320    unverified   \n5208  17.359241  1.688827e+09          0.15    15.05280    unverified   \n\n      verified                       timestamp  \n5274     False  2023-07-08T14:35:07.422220185Z  \n5275     False  2023-07-08T14:35:07.422220185Z  \n5276     False  2023-07-08T14:35:07.422220185Z  \n5277     False  2023-07-08T14:35:07.422220185Z  \n5278     False  2023-07-08T14:35:07.422220185Z  \n...        ...                             ...  \n5086     False  2023-07-08T14:35:07.422220185Z  \n5087     False  2023-07-08T14:35:07.422220185Z  \n4694     False  2023-07-08T14:35:07.422220185Z  \n4695     False  2023-07-08T14:35:07.422220185Z  \n5208     False  2023-07-08T14:35:07.422220185Z  \n\n[3245 rows x 57 columns]",
      "text/html": "<div>\n<style scoped>\n    .dataframe tbody tr th:only-of-type {\n        vertical-align: middle;\n    }\n\n    .dataframe tbody tr th {\n        vertical-align: top;\n    }\n\n    .dataframe thead th {\n        text-align: right;\n    }\n</style>\n<table border=\"1\" class=\"dataframe\">\n  <thead>\n    <tr style=\"text-align: right;\">\n      <th></th>\n      <th>bundle_id</th>\n      <th>bw_nvlink</th>\n      <th>compute_cap</th>\n      <th>cpu_cores</th>\n      <th>cpu_cores_effective</th>\n      <th>cpu_name</th>\n      <th>cpu_ram</th>\n      <th>credit_balance</th>\n      <th>credit_discount</th>\n      <th>credit_discount_max</th>\n      <th>...</th>\n      <th>public_ipaddr</th>\n      <th>reliability2</th>\n      <th>rentable</th>\n      <th>score</th>\n      <th>start_date</th>\n      <th>storage_cost</th>\n      <th>total_flops</th>\n      <th>verification</th>\n      <th>verified</th>\n      <th>timestamp</th>\n    </tr>\n  </thead>\n  <tbody>\n    <tr>\n      <th>5274</th>\n      <td>314265729</td>\n      <td>0.0</td>\n      <td>610</td>\n      <td>32.0</td>\n      <td>4.0</td>\n      <td>Xeon® E5-2650 v2</td>\n      <td>64377</td>\n      <td>None</td>\n      <td>None</td>\n      <td>0.4</td>\n      <td>...</td>\n      <td>194.44.114.10</td>\n      <td>0.994629</td>\n      <td>False</td>\n      <td>48.819962</td>\n      <td>NaN</td>\n      <td>0.15</td>\n      <td>7.67616</td>\n      <td>deverified</td>\n      <td>False</td>\n      <td>2023-07-08T14:35:07.422220185Z</td>\n    </tr>\n    <tr>\n      <th>5275</th>\n      <td>314265729</td>\n      <td>0.0</td>\n      <td>610</td>\n      <td>32.0</td>\n      <td>4.0</td>\n      <td>Xeon® E5-2650 v2</td>\n      <td>64377</td>\n      <td>None</td>\n      <td>None</td>\n      <td>0.4</td>\n      <td>...</td>\n      <td>194.44.114.10</td>\n      <td>0.994629</td>\n      <td>True</td>\n      <td>47.335885</td>\n      <td>1.688827e+09</td>\n      <td>0.15</td>\n      <td>7.67616</td>\n      <td>deverified</td>\n      <td>False</td>\n      <td>2023-07-08T14:35:07.422220185Z</td>\n    </tr>\n    <tr>\n      <th>5276</th>\n      <td>314265729</td>\n      <td>0.0</td>\n      <td>610</td>\n      <td>32.0</td>\n      <td>4.0</td>\n      <td>Xeon® E5-2650 v2</td>\n      <td>64377</td>\n      <td>None</td>\n      <td>None</td>\n      <td>0.4</td>\n      <td>...</td>\n      <td>194.44.114.10</td>\n      <td>0.994629</td>\n      <td>True</td>\n      <td>50.440345</td>\n      <td>1.688827e+09</td>\n      <td>0.15</td>\n      <td>7.67616</td>\n      <td>deverified</td>\n      <td>False</td>\n      <td>2023-07-08T14:35:07.422220185Z</td>\n    </tr>\n    <tr>\n      <th>5277</th>\n      <td>314265729</td>\n      <td>0.0</td>\n      <td>610</td>\n      <td>32.0</td>\n      <td>4.0</td>\n      <td>Xeon® E5-2650 v2</td>\n      <td>64377</td>\n      <td>None</td>\n      <td>None</td>\n      <td>0.4</td>\n      <td>...</td>\n      <td>194.44.114.10</td>\n      <td>0.994629</td>\n      <td>True</td>\n      <td>48.940285</td>\n      <td>1.688827e+09</td>\n      <td>0.15</td>\n      <td>7.67616</td>\n      <td>deverified</td>\n      <td>False</td>\n      <td>2023-07-08T14:35:07.422220185Z</td>\n    </tr>\n    <tr>\n      <th>5278</th>\n      <td>314265729</td>\n      <td>0.0</td>\n      <td>610</td>\n      <td>32.0</td>\n      <td>4.0</td>\n      <td>Xeon® E5-2650 v2</td>\n      <td>64377</td>\n      <td>None</td>\n      <td>None</td>\n      <td>0.4</td>\n      <td>...</td>\n      <td>194.44.114.10</td>\n      <td>0.994629</td>\n      <td>True</td>\n      <td>47.053943</td>\n      <td>1.688827e+09</td>\n      <td>0.15</td>\n      <td>7.67616</td>\n      <td>deverified</td>\n      <td>False</td>\n      <td>2023-07-08T14:35:07.422220185Z</td>\n    </tr>\n    <tr>\n      <th>...</th>\n      <td>...</td>\n      <td>...</td>\n      <td>...</td>\n      <td>...</td>\n      <td>...</td>\n      <td>...</td>\n      <td>...</td>\n      <td>...</td>\n      <td>...</td>\n      <td>...</td>\n      <td>...</td>\n      <td>...</td>\n      <td>...</td>\n      <td>...</td>\n      <td>...</td>\n      <td>...</td>\n      <td>...</td>\n      <td>...</td>\n      <td>...</td>\n      <td>...</td>\n      <td>...</td>\n    </tr>\n    <tr>\n      <th>5086</th>\n      <td>314312977</td>\n      <td>0.0</td>\n      <td>860</td>\n      <td>2.0</td>\n      <td>1.0</td>\n      <td>Celeron® G3900</td>\n      <td>7881</td>\n      <td>None</td>\n      <td>None</td>\n      <td>0.4</td>\n      <td>...</td>\n      <td>188.239.100.118</td>\n      <td>0.729967</td>\n      <td>True</td>\n      <td>28.774001</td>\n      <td>1.688827e+09</td>\n      <td>0.15</td>\n      <td>24.72960</td>\n      <td>unverified</td>\n      <td>False</td>\n      <td>2023-07-08T14:35:07.422220185Z</td>\n    </tr>\n    <tr>\n      <th>5087</th>\n      <td>314312977</td>\n      <td>0.0</td>\n      <td>860</td>\n      <td>2.0</td>\n      <td>1.0</td>\n      <td>Celeron® G3900</td>\n      <td>7881</td>\n      <td>None</td>\n      <td>None</td>\n      <td>0.4</td>\n      <td>...</td>\n      <td>188.239.100.118</td>\n      <td>0.729967</td>\n      <td>True</td>\n      <td>28.787978</td>\n      <td>1.688827e+09</td>\n      <td>0.15</td>\n      <td>24.72960</td>\n      <td>unverified</td>\n      <td>False</td>\n      <td>2023-07-08T14:35:07.422220185Z</td>\n    </tr>\n    <tr>\n      <th>4694</th>\n      <td>314315732</td>\n      <td>0.0</td>\n      <td>860</td>\n      <td>24.0</td>\n      <td>12.0</td>\n      <td>AMD EPYC 7402 24-Core Processor</td>\n      <td>515736</td>\n      <td>None</td>\n      <td>None</td>\n      <td>0.4</td>\n      <td>...</td>\n      <td>111.30.115.30</td>\n      <td>0.738135</td>\n      <td>True</td>\n      <td>17.258549</td>\n      <td>1.688827e+09</td>\n      <td>0.15</td>\n      <td>44.08320</td>\n      <td>unverified</td>\n      <td>False</td>\n      <td>2023-07-08T14:35:07.422220185Z</td>\n    </tr>\n    <tr>\n      <th>4695</th>\n      <td>314315732</td>\n      <td>0.0</td>\n      <td>860</td>\n      <td>24.0</td>\n      <td>12.0</td>\n      <td>AMD EPYC 7402 24-Core Processor</td>\n      <td>515736</td>\n      <td>None</td>\n      <td>None</td>\n      <td>0.4</td>\n      <td>...</td>\n      <td>111.30.115.30</td>\n      <td>0.738135</td>\n      <td>True</td>\n      <td>16.463501</td>\n      <td>1.688827e+09</td>\n      <td>0.15</td>\n      <td>44.08320</td>\n      <td>unverified</td>\n      <td>False</td>\n      <td>2023-07-08T14:35:07.422220185Z</td>\n    </tr>\n    <tr>\n      <th>5208</th>\n      <td>314316075</td>\n      <td>0.0</td>\n      <td>860</td>\n      <td>28.0</td>\n      <td>28.0</td>\n      <td>Xeon® E5-2680 v4</td>\n      <td>31991</td>\n      <td>None</td>\n      <td>None</td>\n      <td>0.4</td>\n      <td>...</td>\n      <td>123.149.206.204</td>\n      <td>0.651718</td>\n      <td>True</td>\n      <td>17.359241</td>\n      <td>1.688827e+09</td>\n      <td>0.15</td>\n      <td>15.05280</td>\n      <td>unverified</td>\n      <td>False</td>\n      <td>2023-07-08T14:35:07.422220185Z</td>\n    </tr>\n  </tbody>\n</table>\n<p>3245 rows × 57 columns</p>\n</div>"
     },
     "execution_count": 385,
     "metadata": {},
     "output_type": "execute_result"
    }
   ],
   "source": [
    "df = raw.groupby('machine_id', group_keys=False).apply(pd_min_chunk)\n",
    "df"
   ],
   "metadata": {
    "collapsed": false,
    "ExecuteTime": {
     "end_time": "2023-07-08T14:47:37.816106200Z",
     "start_time": "2023-07-08T14:47:35.470584Z"
    }
   }
  },
  {
   "cell_type": "code",
   "execution_count": 398,
   "outputs": [
    {
     "data": {
      "text/plain": "True"
     },
     "execution_count": 398,
     "metadata": {},
     "output_type": "execute_result"
    }
   ],
   "source": [
    "all(np_min_chunk(raw).sort_index() == df.sort_index())"
   ],
   "metadata": {
    "collapsed": false,
    "ExecuteTime": {
     "end_time": "2023-07-08T15:04:45.027901300Z",
     "start_time": "2023-07-08T15:04:44.993894500Z"
    }
   }
  },
  {
   "cell_type": "code",
   "execution_count": 403,
   "outputs": [
    {
     "name": "stdout",
     "output_type": "stream",
     "text": [
      "4.02 ms ± 281 µs per loop (mean ± std. dev. of 7 runs, 100 loops each)\n",
      "1.87 s ± 7.11 ms per loop (mean ± std. dev. of 7 runs, 1 loop each)\n"
     ]
    }
   ],
   "source": [
    "%timeit np_min_chunk(raw)\n",
    "%timeit raw.groupby('machine_id', group_keys=False).apply(pd_min_chunk)"
   ],
   "metadata": {
    "collapsed": false,
    "ExecuteTime": {
     "end_time": "2023-07-08T15:16:21.681014600Z",
     "start_time": "2023-07-08T15:16:03.406930400Z"
    }
   }
  },
  {
   "cell_type": "markdown",
   "source": [
    "### Tests"
   ],
   "metadata": {
    "collapsed": false
   }
  },
  {
   "cell_type": "code",
   "execution_count": 19,
   "outputs": [
    {
     "data": {
      "text/plain": "1220"
     },
     "execution_count": 19,
     "metadata": {},
     "output_type": "execute_result"
    }
   ],
   "source": [
    "np_min_chunk(raw).machine_id.unique().size"
   ],
   "metadata": {
    "collapsed": false,
    "ExecuteTime": {
     "end_time": "2023-07-30T04:38:14.906764200Z",
     "start_time": "2023-07-30T04:38:14.869754100Z"
    }
   }
  },
  {
   "cell_type": "code",
   "execution_count": 18,
   "outputs": [],
   "source": [
    "from src.vast_api import get_machines\n",
    "\n",
    "machines = get_machines()"
   ],
   "metadata": {
    "collapsed": false,
    "ExecuteTime": {
     "end_time": "2023-07-30T04:38:11.743888Z",
     "start_time": "2023-07-30T04:38:10.732308400Z"
    }
   }
  },
  {
   "cell_type": "code",
   "execution_count": 20,
   "outputs": [
    {
     "data": {
      "text/plain": "1215"
     },
     "execution_count": 20,
     "metadata": {},
     "output_type": "execute_result"
    }
   ],
   "source": [
    "machines.machine_id.size"
   ],
   "metadata": {
    "collapsed": false,
    "ExecuteTime": {
     "end_time": "2023-07-30T04:38:22.909887Z",
     "start_time": "2023-07-30T04:38:22.894883300Z"
    }
   }
  },
  {
   "cell_type": "code",
   "execution_count": 22,
   "outputs": [
    {
     "data": {
      "text/plain": "array([ 3690,  5919,  6312,  8384, 11693], dtype=int64)"
     },
     "execution_count": 22,
     "metadata": {},
     "output_type": "execute_result"
    }
   ],
   "source": [
    "np_ids = np_min_chunk(raw).machine_id.unique()\n",
    "np_ids[~np.isin(np_ids, machines.machine_id)]"
   ],
   "metadata": {
    "collapsed": false,
    "ExecuteTime": {
     "end_time": "2023-07-30T04:39:54.365661700Z",
     "start_time": "2023-07-30T04:39:54.336651200Z"
    }
   }
  },
  {
   "cell_type": "code",
   "execution_count": 80,
   "outputs": [
    {
     "name": "stdout",
     "output_type": "stream",
     "text": [
      "usage: ./vast search offers [--help] [--api-key API_KEY] [--raw] <query>\n",
      "\n",
      "positional arguments:\n",
      "  query                 Query to search for. default: 'external=false\n",
      "                        rentable=true verified=true', pass -n to ignore\n",
      "                        default\n",
      "\n",
      "options:\n",
      "  -h, --help            show this help message and exit\n",
      "  -t TYPE, --type TYPE  Show 'bid'(interruptible) or 'on-demand' offers.\n",
      "                        default: on-demand\n",
      "  -i, --interruptible   Alias for --type=bid\n",
      "  -b, --bid             Alias for --type=bid\n",
      "  -d, --on-demand       Alias for --type=on-demand\n",
      "  -n, --no-default      Disable default query\n",
      "  --disable-bundling    Show identical offers. This request is more heavily\n",
      "                        rate limited.\n",
      "  --storage STORAGE     Amount of storage to use for pricing, in GiB.\n",
      "                        default=5.0GiB\n",
      "  -o ORDER, --order ORDER\n",
      "                        Comma-separated list of fields to sort on. postfix\n",
      "                        field with - to sort desc. ex: -o\n",
      "                        'num_gpus,total_flops-'. default='score-'\n",
      "  --url URL             server REST api url\n",
      "  --raw                 output machine-readable json\n",
      "  --api-key API_KEY     api key. defaults to using the one stored in\n",
      "                        ~/.vast_api_key\n",
      "\n",
      "Query syntax:\n",
      "\n",
      "    query = comparison comparison...\n",
      "    comparison = field op value\n",
      "    field = <name of a field>\n",
      "    op = one of: <, <=, ==, !=, >=, >, in, notin\n",
      "    value = <bool, int, float, etc> | 'any'\n",
      "\n",
      "note: to pass '>' and '<' on the command line, make sure to use quotes\n",
      "note: to encode a string query value (ie for gpu_name), replace any spaces ' ' with underscore '_'\n",
      "\n",
      "Examples:\n",
      "\n",
      "    ./vast search offers 'compute_cap > 610 total_flops < 5 datacenter=true'\n",
      "    ./vast search offers 'reliability > 0.99  num_gpus>=4 verified=false' -o 'num_gpus-'\n",
      "    ./vast search offers 'rentable = any'\n",
      "    ./vast search offers 'reliability > 0.98 num_gpus=1 gpu_name=RTX_3090'\n",
      "\n",
      "Available fields:\n",
      "\n",
      "      Name                  Type       Description\n",
      "\n",
      "    bw_nvlink               float     bandwidth NVLink\n",
      "    compute_cap:            int       cuda compute capability*100  (ie:  650 for 6.5, 700 for 7.0)\n",
      "    cpu_cores:              int       # virtual cpus\n",
      "    cpu_cores_effective:    float     # virtual cpus you pop\n",
      "    cpu_ram:                float     system RAM in gigabytes\n",
      "    cuda_vers:              float     cuda version\n",
      "    datacenter:             bool      show only datacenter offers\n",
      "    direct_port_count       int       open ports on host's router\n",
      "    disk_bw:                float     disk read bandwidth, in MB/s\n",
      "    disk_space:             float     disk storage space, in GB\n",
      "    dlperf:                 float     DL-perf score  (see FAQ for explanation)\n",
      "    dlperf_usd:             float     DL-perf/$\n",
      "    dph:                    float     $/hour rental cost\n",
      "    driver_version          string    driver version in use on a host.\n",
      "    duration:               float     max rental duration in days\n",
      "    external:               bool      show external offers in addition to datacenter offers\n",
      "    flops_usd:              float     TFLOPs/$\n",
      "    gpu_mem_bw:             float     GPU memory bandwidth in GB/s\n",
      "    gpu_name:               string    GPU model name (no quotes, replace spaces with underscores, ie: RTX_3090 rather than 'RTX 3090')\n",
      "    gpu_ram:                float     GPU RAM in GB\n",
      "    gpu_frac:               float     Ratio of GPUs in the offer to gpus in the system\n",
      "    gpu_display_active:     bool      True if the GPU has a display attached\n",
      "    has_avx:                bool      CPU supports AVX instruction set.\n",
      "    id:                     int       instance unique ID\n",
      "    inet_down:              float     internet download speed in Mb/s\n",
      "    inet_down_cost:         float     internet download bandwidth cost in $/GB\n",
      "    inet_up:                float     internet upload speed in Mb/s\n",
      "    inet_up_cost:           float     internet upload bandwidth cost in $/GB\n",
      "    machine_id              int       machine id of instance\n",
      "    min_bid:                float     current minimum bid price in $/hr for interruptible\n",
      "    num_gpus:               int       # of GPUs\n",
      "    pci_gen:                float     PCIE generation\n",
      "    pcie_bw:                float     PCIE bandwidth (CPU to GPU)\n",
      "    reliability:            float     machine reliability score (see FAQ for explanation)\n",
      "    rentable:               bool      is the instance currently rentable\n",
      "    rented:                 bool      is the instance currently rented\n",
      "    storage_cost:           float     storage cost in $/GB/month\n",
      "    total_flops:            float     total TFLOPs from all GPUs\n",
      "    verified:               bool      is the machine verified\n"
     ]
    }
   ],
   "source": [
    "!python vast search offers -h"
   ],
   "metadata": {
    "collapsed": false,
    "ExecuteTime": {
     "end_time": "2023-07-30T06:10:03.890587400Z",
     "start_time": "2023-07-30T06:10:03.339464100Z"
    }
   }
  },
  {
   "cell_type": "code",
   "execution_count": 81,
   "outputs": [
    {
     "name": "stdout",
     "output_type": "stream",
     "text": [
      "https://console.vast.ai/api/v0/bundles?q=%7B%22external%22%3A+%7B%22eq%22%3A+false%7D%2C+%22machine_id%22%3A+%7B%22eq%22%3A+%2211693%22%7D%2C+%22order%22%3A+%5B%5B%22score%22%2C+%22desc%22%5D%5D%2C+%22type%22%3A+%22on-demand%22%2C+%22disable_bundling%22%3A+true%7D&api_key=6bbc6e308dcf1fb7f0ead78eae9dbfc23767871bf2b8b7e1f3c9b54a99bc1579\n",
      "{'external': {'eq': False}, 'machine_id': {'eq': '11693'}, 'order': [['score', 'desc']], 'type': 'on-demand', 'disable_bundling': True}\n",
      "ID       CUDA    N  Model     PCIE  vCPUs    RAM  Disk  $/hr    DLP   DLP/$  NV Driver  Net_up  Net_down  R     Max_Days  mach_id  status      ports  country    \n",
      "6595177  12.2   4x  RTX_3070  6.4   21.3   257.5  1117  0.4800  45.9  95.65  535.54.03  272.0   272.2     96.4  154.8     11693    unverified  333    Estonia,_EE\n",
      "6595179  12.2   6x  RTX_3070  6.4   32.0   257.5  1676  0.7200  58.2  80.77  535.54.03  272.0   272.2     96.4  154.8     11693    unverified  500    Estonia,_EE\n",
      "6595180  12.2   6x  RTX_3070  6.4   32.0   257.5  1676  0.7200  58.2  80.77  535.54.03  272.0   272.2     96.4  154.8     11693    unverified  500    Estonia,_EE\n",
      "6595181  12.2   8x  RTX_3070  6.4   42.7   257.5  2234  0.9600  68.6  71.44  535.54.03  272.0   272.2     96.4  154.8     11693    unverified  667    Estonia,_EE\n",
      "6595178  12.2  12x  RTX_3070  6.4   64.0   257.5  3352  1.4400  88.1  61.21  535.54.03  272.0   272.2     96.4  154.8     11693    unverified  1001   Estonia,_EE\n"
     ]
    }
   ],
   "source": [
    "!python vast search offers \"machine_id=11693 rentable=any verified=any\" -d --disable-bundling"
   ],
   "metadata": {
    "collapsed": false,
    "ExecuteTime": {
     "end_time": "2023-07-30T06:10:46.473153600Z",
     "start_time": "2023-07-30T06:10:44.978479900Z"
    }
   }
  },
  {
   "cell_type": "code",
   "execution_count": null,
   "outputs": [],
   "source": [
    "df_pd = raw.groupby('machine_id', as_index=False).apply(pd_min_chunk).reset_index(drop=True)"
   ],
   "metadata": {
    "collapsed": false
   }
  },
  {
   "cell_type": "code",
   "execution_count": 48,
   "outputs": [
    {
     "data": {
      "text/plain": "          id  num_gpus  rentable\n422  5516879         1     False\n423  5516876         1     False\n424  5516875         1     False\n425  5516874         1     False\n426  5402877         1     False\n427  5402874         1     False\n428  5402873         1     False\n429  5402872         1     False",
      "text/html": "<div>\n<style scoped>\n    .dataframe tbody tr th:only-of-type {\n        vertical-align: middle;\n    }\n\n    .dataframe tbody tr th {\n        vertical-align: top;\n    }\n\n    .dataframe thead th {\n        text-align: right;\n    }\n</style>\n<table border=\"1\" class=\"dataframe\">\n  <thead>\n    <tr style=\"text-align: right;\">\n      <th></th>\n      <th>id</th>\n      <th>num_gpus</th>\n      <th>rentable</th>\n    </tr>\n  </thead>\n  <tbody>\n    <tr>\n      <th>422</th>\n      <td>5516879</td>\n      <td>1</td>\n      <td>False</td>\n    </tr>\n    <tr>\n      <th>423</th>\n      <td>5516876</td>\n      <td>1</td>\n      <td>False</td>\n    </tr>\n    <tr>\n      <th>424</th>\n      <td>5516875</td>\n      <td>1</td>\n      <td>False</td>\n    </tr>\n    <tr>\n      <th>425</th>\n      <td>5516874</td>\n      <td>1</td>\n      <td>False</td>\n    </tr>\n    <tr>\n      <th>426</th>\n      <td>5402877</td>\n      <td>1</td>\n      <td>False</td>\n    </tr>\n    <tr>\n      <th>427</th>\n      <td>5402874</td>\n      <td>1</td>\n      <td>False</td>\n    </tr>\n    <tr>\n      <th>428</th>\n      <td>5402873</td>\n      <td>1</td>\n      <td>False</td>\n    </tr>\n    <tr>\n      <th>429</th>\n      <td>5402872</td>\n      <td>1</td>\n      <td>False</td>\n    </tr>\n  </tbody>\n</table>\n</div>"
     },
     "execution_count": 48,
     "metadata": {},
     "output_type": "execute_result"
    }
   ],
   "source": [
    "df_pd.loc[df_pd.machine_id == 3690, ['id', 'num_gpus', 'rentable']]"
   ],
   "metadata": {
    "collapsed": false,
    "ExecuteTime": {
     "end_time": "2023-07-30T04:53:27.685162200Z",
     "start_time": "2023-07-30T04:53:27.660155900Z"
    }
   }
  },
  {
   "cell_type": "code",
   "execution_count": 68,
   "outputs": [
    {
     "data": {
      "text/plain": "           id  num_gpus  rentable\n4698  6519142         2      True\n4311  6519145         3      True\n4313  6519138         3      True\n4314  6519143         3      True\n4315  6519140         3      True",
      "text/html": "<div>\n<style scoped>\n    .dataframe tbody tr th:only-of-type {\n        vertical-align: middle;\n    }\n\n    .dataframe tbody tr th {\n        vertical-align: top;\n    }\n\n    .dataframe thead th {\n        text-align: right;\n    }\n</style>\n<table border=\"1\" class=\"dataframe\">\n  <thead>\n    <tr style=\"text-align: right;\">\n      <th></th>\n      <th>id</th>\n      <th>num_gpus</th>\n      <th>rentable</th>\n    </tr>\n  </thead>\n  <tbody>\n    <tr>\n      <th>4698</th>\n      <td>6519142</td>\n      <td>2</td>\n      <td>True</td>\n    </tr>\n    <tr>\n      <th>4311</th>\n      <td>6519145</td>\n      <td>3</td>\n      <td>True</td>\n    </tr>\n    <tr>\n      <th>4313</th>\n      <td>6519138</td>\n      <td>3</td>\n      <td>True</td>\n    </tr>\n    <tr>\n      <th>4314</th>\n      <td>6519143</td>\n      <td>3</td>\n      <td>True</td>\n    </tr>\n    <tr>\n      <th>4315</th>\n      <td>6519140</td>\n      <td>3</td>\n      <td>True</td>\n    </tr>\n  </tbody>\n</table>\n</div>"
     },
     "execution_count": 68,
     "metadata": {},
     "output_type": "execute_result"
    }
   ],
   "source": [
    "np_min_chunk(raw).loc[np_min_chunk(raw).machine_id == 8384, ['id', 'num_gpus', 'rentable']]"
   ],
   "metadata": {
    "collapsed": false,
    "ExecuteTime": {
     "end_time": "2023-07-30T06:00:43.330404Z",
     "start_time": "2023-07-30T06:00:43.306399500Z"
    }
   }
  },
  {
   "cell_type": "code",
   "execution_count": 73,
   "outputs": [
    {
     "data": {
      "text/plain": "      machine_id       id  num_gpus  rentable\n4519       11693  6595177         4      True\n4092       11693  6595178        12      True\n4274       11693  6595179         6      True\n4271       11693  6595180         6      True\n4212       11693  6595181         8      True",
      "text/html": "<div>\n<style scoped>\n    .dataframe tbody tr th:only-of-type {\n        vertical-align: middle;\n    }\n\n    .dataframe tbody tr th {\n        vertical-align: top;\n    }\n\n    .dataframe thead th {\n        text-align: right;\n    }\n</style>\n<table border=\"1\" class=\"dataframe\">\n  <thead>\n    <tr style=\"text-align: right;\">\n      <th></th>\n      <th>machine_id</th>\n      <th>id</th>\n      <th>num_gpus</th>\n      <th>rentable</th>\n    </tr>\n  </thead>\n  <tbody>\n    <tr>\n      <th>4519</th>\n      <td>11693</td>\n      <td>6595177</td>\n      <td>4</td>\n      <td>True</td>\n    </tr>\n    <tr>\n      <th>4092</th>\n      <td>11693</td>\n      <td>6595178</td>\n      <td>12</td>\n      <td>True</td>\n    </tr>\n    <tr>\n      <th>4274</th>\n      <td>11693</td>\n      <td>6595179</td>\n      <td>6</td>\n      <td>True</td>\n    </tr>\n    <tr>\n      <th>4271</th>\n      <td>11693</td>\n      <td>6595180</td>\n      <td>6</td>\n      <td>True</td>\n    </tr>\n    <tr>\n      <th>4212</th>\n      <td>11693</td>\n      <td>6595181</td>\n      <td>8</td>\n      <td>True</td>\n    </tr>\n  </tbody>\n</table>\n</div>"
     },
     "execution_count": 73,
     "metadata": {},
     "output_type": "execute_result"
    }
   ],
   "source": [
    "raw.loc[raw.machine_id == 11693, ['machine_id', 'id', 'num_gpus', 'rentable']].sort_values('id')"
   ],
   "metadata": {
    "collapsed": false,
    "ExecuteTime": {
     "end_time": "2023-07-30T06:06:34.949207800Z",
     "start_time": "2023-07-30T06:06:34.925193500Z"
    }
   }
  }
 ],
 "metadata": {
  "kernelspec": {
   "display_name": "Python 3",
   "language": "python",
   "name": "python3"
  },
  "language_info": {
   "codemirror_mode": {
    "name": "ipython",
    "version": 2
   },
   "file_extension": ".py",
   "mimetype": "text/x-python",
   "name": "python",
   "nbconvert_exporter": "python",
   "pygments_lexer": "ipython2",
   "version": "2.7.6"
  }
 },
 "nbformat": 4,
 "nbformat_minor": 0
}
