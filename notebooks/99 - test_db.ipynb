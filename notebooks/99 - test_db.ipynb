{
 "cells": [
  {
   "cell_type": "code",
   "execution_count": 1,
   "outputs": [],
   "source": [
    "import pandas as pd\n",
    "%load_ext autoreload\n",
    "%autoreload 2"
   ],
   "metadata": {
    "collapsed": false,
    "ExecuteTime": {
     "end_time": "2023-10-06T04:20:29.213033100Z",
     "start_time": "2023-10-06T04:20:28.116273Z"
    }
   }
  },
  {
   "cell_type": "code",
   "execution_count": 2,
   "outputs": [],
   "source": [
    "from src.database import VastDB\n",
    "from src.manager import DbManager\n",
    "from src.fetch import fetch\n",
    "from src.preprocess import preprocess, split_raw\n",
    "from src import const\n",
    "import logging\n",
    "\n",
    "\n",
    "logging.basicConfig(format=const.LOG_FORMAT,\n",
    "                    level=logging.DEBUG,\n",
    "                    datefmt='%d-%m-%Y %I:%M:%S')\n",
    "\n",
    "# logger = \n",
    "# logger.setLevel(logging.DEBUG)"
   ],
   "metadata": {
    "collapsed": false,
    "ExecuteTime": {
     "end_time": "2023-10-06T04:20:29.449377Z",
     "start_time": "2023-10-06T04:20:29.216032700Z"
    }
   }
  },
  {
   "cell_type": "code",
   "execution_count": 2,
   "outputs": [],
   "source": [],
   "metadata": {
    "collapsed": false,
    "ExecuteTime": {
     "end_time": "2023-10-06T04:20:29.464307900Z",
     "start_time": "2023-10-06T04:20:29.449377Z"
    }
   }
  },
  {
   "cell_type": "code",
   "execution_count": 2,
   "outputs": [],
   "source": [],
   "metadata": {
    "collapsed": false,
    "ExecuteTime": {
     "end_time": "2023-10-06T04:20:29.490196900Z",
     "start_time": "2023-10-06T04:20:29.465308100Z"
    }
   }
  },
  {
   "cell_type": "code",
   "execution_count": 3,
   "outputs": [
    {
     "name": "stderr",
     "output_type": "stream",
     "text": [
      "[06-10-2023 06:20:29] [INFO] Connected to the database '../data/test.db'\n"
     ]
    }
   ],
   "source": [
    "db = VastDB('../data/test.db')\n",
    "dbm = db.dbm\n",
    "db.connect()"
   ],
   "metadata": {
    "collapsed": false,
    "ExecuteTime": {
     "end_time": "2023-10-06T04:20:29.592164800Z",
     "start_time": "2023-10-06T04:20:29.482192100Z"
    }
   }
  },
  {
   "cell_type": "code",
   "execution_count": 4,
   "outputs": [
    {
     "data": {
      "text/plain": "['tmp_machines',\n 'tmp_offers',\n 'host_mach_map',\n 'mach_offer_map',\n 'chunks_map',\n 'timestamp_idx']"
     },
     "execution_count": 4,
     "metadata": {},
     "output_type": "execute_result"
    }
   ],
   "source": [
    "dbm.get_tables()"
   ],
   "metadata": {
    "collapsed": false,
    "ExecuteTime": {
     "end_time": "2023-10-06T04:20:29.687324Z",
     "start_time": "2023-10-06T04:20:29.590164400Z"
    }
   }
  },
  {
   "cell_type": "code",
   "execution_count": 5,
   "outputs": [
    {
     "data": {
      "text/plain": "                    name     type  notnull dflt_value  pk\ncid                                                      \n0              bw_nvlink  INTEGER        0       None   0\n1        client_run_time     REAL        0       None   0\n2            compute_cap  INTEGER        0       None   0\n3              cpu_cores  INTEGER        0       None   0\n4               cpu_name     TEXT        0       None   0\n5                cpu_ram  INTEGER        0       None   0\n6    credit_discount_max  INTEGER        0       None   0\n7          cuda_max_good     TEXT        0       None   0\n8      direct_port_count  INTEGER        0       None   0\n9                disk_bw  INTEGER        0       None   0\n10             disk_name     TEXT        0       None   0\n11            disk_space  INTEGER        0       None   0\n12                dlperf  INTEGER        0       None   0\n13              dph_base  INTEGER        0       None   0\n14        driver_version     TEXT        0       None   0\n15              end_date  INTEGER        0       None   0\n16    gpu_display_active  INTEGER        0       None   0\n17             gpu_lanes  INTEGER        0       None   0\n18            gpu_mem_bw  INTEGER        0       None   0\n19              gpu_name     TEXT        0       None   0\n20               gpu_ram  INTEGER        0       None   0\n21          gpu_totalram  INTEGER        0       None   0\n22               has_avx  INTEGER        0       None   0\n23               host_id  INTEGER        0       None   0\n24          hosting_type  INTEGER        0       None   0\n25                    id  INTEGER        0       None   0\n26             inet_down  INTEGER        0       None   0\n27        inet_down_cost  INTEGER        0       None   0\n28               inet_up  INTEGER        0       None   0\n29          inet_up_cost  INTEGER        0       None   0\n30            machine_id  INTEGER        0       None   0\n31               min_bid  INTEGER        0       None   0\n32             mobo_name     TEXT        0       None   0\n33              num_gpus  INTEGER        0       None   0\n34               pci_gen  INTEGER        0       None   0\n35               pcie_bw  INTEGER        0       None   0\n36         public_ipaddr     TEXT        0       None   0\n37           reliability  INTEGER        0       None   0\n38                rented  INTEGER        0       None   0\n39                 score  INTEGER        0       None   0\n40             static_ip  INTEGER        0       None   0\n41          storage_cost  INTEGER        0       None   0\n42           total_flops  INTEGER        0       None   0\n43          verification  INTEGER        0       None   0\n44      vram_costperhour     REAL        0       None   0\n45             timestamp  INTEGER        0       None   0\n46               country     TEXT        0       None   0",
      "text/html": "<div>\n<style scoped>\n    .dataframe tbody tr th:only-of-type {\n        vertical-align: middle;\n    }\n\n    .dataframe tbody tr th {\n        vertical-align: top;\n    }\n\n    .dataframe thead th {\n        text-align: right;\n    }\n</style>\n<table border=\"1\" class=\"dataframe\">\n  <thead>\n    <tr style=\"text-align: right;\">\n      <th></th>\n      <th>name</th>\n      <th>type</th>\n      <th>notnull</th>\n      <th>dflt_value</th>\n      <th>pk</th>\n    </tr>\n    <tr>\n      <th>cid</th>\n      <th></th>\n      <th></th>\n      <th></th>\n      <th></th>\n      <th></th>\n    </tr>\n  </thead>\n  <tbody>\n    <tr>\n      <th>0</th>\n      <td>bw_nvlink</td>\n      <td>INTEGER</td>\n      <td>0</td>\n      <td>None</td>\n      <td>0</td>\n    </tr>\n    <tr>\n      <th>1</th>\n      <td>client_run_time</td>\n      <td>REAL</td>\n      <td>0</td>\n      <td>None</td>\n      <td>0</td>\n    </tr>\n    <tr>\n      <th>2</th>\n      <td>compute_cap</td>\n      <td>INTEGER</td>\n      <td>0</td>\n      <td>None</td>\n      <td>0</td>\n    </tr>\n    <tr>\n      <th>3</th>\n      <td>cpu_cores</td>\n      <td>INTEGER</td>\n      <td>0</td>\n      <td>None</td>\n      <td>0</td>\n    </tr>\n    <tr>\n      <th>4</th>\n      <td>cpu_name</td>\n      <td>TEXT</td>\n      <td>0</td>\n      <td>None</td>\n      <td>0</td>\n    </tr>\n    <tr>\n      <th>5</th>\n      <td>cpu_ram</td>\n      <td>INTEGER</td>\n      <td>0</td>\n      <td>None</td>\n      <td>0</td>\n    </tr>\n    <tr>\n      <th>6</th>\n      <td>credit_discount_max</td>\n      <td>INTEGER</td>\n      <td>0</td>\n      <td>None</td>\n      <td>0</td>\n    </tr>\n    <tr>\n      <th>7</th>\n      <td>cuda_max_good</td>\n      <td>TEXT</td>\n      <td>0</td>\n      <td>None</td>\n      <td>0</td>\n    </tr>\n    <tr>\n      <th>8</th>\n      <td>direct_port_count</td>\n      <td>INTEGER</td>\n      <td>0</td>\n      <td>None</td>\n      <td>0</td>\n    </tr>\n    <tr>\n      <th>9</th>\n      <td>disk_bw</td>\n      <td>INTEGER</td>\n      <td>0</td>\n      <td>None</td>\n      <td>0</td>\n    </tr>\n    <tr>\n      <th>10</th>\n      <td>disk_name</td>\n      <td>TEXT</td>\n      <td>0</td>\n      <td>None</td>\n      <td>0</td>\n    </tr>\n    <tr>\n      <th>11</th>\n      <td>disk_space</td>\n      <td>INTEGER</td>\n      <td>0</td>\n      <td>None</td>\n      <td>0</td>\n    </tr>\n    <tr>\n      <th>12</th>\n      <td>dlperf</td>\n      <td>INTEGER</td>\n      <td>0</td>\n      <td>None</td>\n      <td>0</td>\n    </tr>\n    <tr>\n      <th>13</th>\n      <td>dph_base</td>\n      <td>INTEGER</td>\n      <td>0</td>\n      <td>None</td>\n      <td>0</td>\n    </tr>\n    <tr>\n      <th>14</th>\n      <td>driver_version</td>\n      <td>TEXT</td>\n      <td>0</td>\n      <td>None</td>\n      <td>0</td>\n    </tr>\n    <tr>\n      <th>15</th>\n      <td>end_date</td>\n      <td>INTEGER</td>\n      <td>0</td>\n      <td>None</td>\n      <td>0</td>\n    </tr>\n    <tr>\n      <th>16</th>\n      <td>gpu_display_active</td>\n      <td>INTEGER</td>\n      <td>0</td>\n      <td>None</td>\n      <td>0</td>\n    </tr>\n    <tr>\n      <th>17</th>\n      <td>gpu_lanes</td>\n      <td>INTEGER</td>\n      <td>0</td>\n      <td>None</td>\n      <td>0</td>\n    </tr>\n    <tr>\n      <th>18</th>\n      <td>gpu_mem_bw</td>\n      <td>INTEGER</td>\n      <td>0</td>\n      <td>None</td>\n      <td>0</td>\n    </tr>\n    <tr>\n      <th>19</th>\n      <td>gpu_name</td>\n      <td>TEXT</td>\n      <td>0</td>\n      <td>None</td>\n      <td>0</td>\n    </tr>\n    <tr>\n      <th>20</th>\n      <td>gpu_ram</td>\n      <td>INTEGER</td>\n      <td>0</td>\n      <td>None</td>\n      <td>0</td>\n    </tr>\n    <tr>\n      <th>21</th>\n      <td>gpu_totalram</td>\n      <td>INTEGER</td>\n      <td>0</td>\n      <td>None</td>\n      <td>0</td>\n    </tr>\n    <tr>\n      <th>22</th>\n      <td>has_avx</td>\n      <td>INTEGER</td>\n      <td>0</td>\n      <td>None</td>\n      <td>0</td>\n    </tr>\n    <tr>\n      <th>23</th>\n      <td>host_id</td>\n      <td>INTEGER</td>\n      <td>0</td>\n      <td>None</td>\n      <td>0</td>\n    </tr>\n    <tr>\n      <th>24</th>\n      <td>hosting_type</td>\n      <td>INTEGER</td>\n      <td>0</td>\n      <td>None</td>\n      <td>0</td>\n    </tr>\n    <tr>\n      <th>25</th>\n      <td>id</td>\n      <td>INTEGER</td>\n      <td>0</td>\n      <td>None</td>\n      <td>0</td>\n    </tr>\n    <tr>\n      <th>26</th>\n      <td>inet_down</td>\n      <td>INTEGER</td>\n      <td>0</td>\n      <td>None</td>\n      <td>0</td>\n    </tr>\n    <tr>\n      <th>27</th>\n      <td>inet_down_cost</td>\n      <td>INTEGER</td>\n      <td>0</td>\n      <td>None</td>\n      <td>0</td>\n    </tr>\n    <tr>\n      <th>28</th>\n      <td>inet_up</td>\n      <td>INTEGER</td>\n      <td>0</td>\n      <td>None</td>\n      <td>0</td>\n    </tr>\n    <tr>\n      <th>29</th>\n      <td>inet_up_cost</td>\n      <td>INTEGER</td>\n      <td>0</td>\n      <td>None</td>\n      <td>0</td>\n    </tr>\n    <tr>\n      <th>30</th>\n      <td>machine_id</td>\n      <td>INTEGER</td>\n      <td>0</td>\n      <td>None</td>\n      <td>0</td>\n    </tr>\n    <tr>\n      <th>31</th>\n      <td>min_bid</td>\n      <td>INTEGER</td>\n      <td>0</td>\n      <td>None</td>\n      <td>0</td>\n    </tr>\n    <tr>\n      <th>32</th>\n      <td>mobo_name</td>\n      <td>TEXT</td>\n      <td>0</td>\n      <td>None</td>\n      <td>0</td>\n    </tr>\n    <tr>\n      <th>33</th>\n      <td>num_gpus</td>\n      <td>INTEGER</td>\n      <td>0</td>\n      <td>None</td>\n      <td>0</td>\n    </tr>\n    <tr>\n      <th>34</th>\n      <td>pci_gen</td>\n      <td>INTEGER</td>\n      <td>0</td>\n      <td>None</td>\n      <td>0</td>\n    </tr>\n    <tr>\n      <th>35</th>\n      <td>pcie_bw</td>\n      <td>INTEGER</td>\n      <td>0</td>\n      <td>None</td>\n      <td>0</td>\n    </tr>\n    <tr>\n      <th>36</th>\n      <td>public_ipaddr</td>\n      <td>TEXT</td>\n      <td>0</td>\n      <td>None</td>\n      <td>0</td>\n    </tr>\n    <tr>\n      <th>37</th>\n      <td>reliability</td>\n      <td>INTEGER</td>\n      <td>0</td>\n      <td>None</td>\n      <td>0</td>\n    </tr>\n    <tr>\n      <th>38</th>\n      <td>rented</td>\n      <td>INTEGER</td>\n      <td>0</td>\n      <td>None</td>\n      <td>0</td>\n    </tr>\n    <tr>\n      <th>39</th>\n      <td>score</td>\n      <td>INTEGER</td>\n      <td>0</td>\n      <td>None</td>\n      <td>0</td>\n    </tr>\n    <tr>\n      <th>40</th>\n      <td>static_ip</td>\n      <td>INTEGER</td>\n      <td>0</td>\n      <td>None</td>\n      <td>0</td>\n    </tr>\n    <tr>\n      <th>41</th>\n      <td>storage_cost</td>\n      <td>INTEGER</td>\n      <td>0</td>\n      <td>None</td>\n      <td>0</td>\n    </tr>\n    <tr>\n      <th>42</th>\n      <td>total_flops</td>\n      <td>INTEGER</td>\n      <td>0</td>\n      <td>None</td>\n      <td>0</td>\n    </tr>\n    <tr>\n      <th>43</th>\n      <td>verification</td>\n      <td>INTEGER</td>\n      <td>0</td>\n      <td>None</td>\n      <td>0</td>\n    </tr>\n    <tr>\n      <th>44</th>\n      <td>vram_costperhour</td>\n      <td>REAL</td>\n      <td>0</td>\n      <td>None</td>\n      <td>0</td>\n    </tr>\n    <tr>\n      <th>45</th>\n      <td>timestamp</td>\n      <td>INTEGER</td>\n      <td>0</td>\n      <td>None</td>\n      <td>0</td>\n    </tr>\n    <tr>\n      <th>46</th>\n      <td>country</td>\n      <td>TEXT</td>\n      <td>0</td>\n      <td>None</td>\n      <td>0</td>\n    </tr>\n  </tbody>\n</table>\n</div>"
     },
     "execution_count": 5,
     "metadata": {},
     "output_type": "execute_result"
    }
   ],
   "source": [
    "info = dbm.get_tbl_info('tmp_machines')\n",
    "info\n",
    "# 'host_id' in info['name']"
   ],
   "metadata": {
    "collapsed": false,
    "ExecuteTime": {
     "end_time": "2023-10-06T04:20:29.793319500Z",
     "start_time": "2023-10-06T04:20:29.684173200Z"
    }
   }
  },
  {
   "cell_type": "code",
   "execution_count": 6,
   "outputs": [],
   "source": [
    "db.create_map_tables()"
   ],
   "metadata": {
    "collapsed": false,
    "ExecuteTime": {
     "end_time": "2023-10-06T04:20:29.904178800Z",
     "start_time": "2023-10-06T04:20:29.794319500Z"
    }
   }
  },
  {
   "cell_type": "code",
   "execution_count": 7,
   "outputs": [
    {
     "data": {
      "text/plain": "['tmp_machines',\n 'tmp_offers',\n 'host_mach_map',\n 'mach_offer_map',\n 'chunks_map',\n 'timestamp_idx']"
     },
     "execution_count": 7,
     "metadata": {},
     "output_type": "execute_result"
    }
   ],
   "source": [
    "db.dbm.get_tables()"
   ],
   "metadata": {
    "collapsed": false,
    "ExecuteTime": {
     "end_time": "2023-10-06T04:20:29.981688300Z",
     "start_time": "2023-10-06T04:20:29.886320500Z"
    }
   }
  },
  {
   "cell_type": "code",
   "execution_count": 8,
   "outputs": [
    {
     "name": "stderr",
     "output_type": "stream",
     "text": [
      "[06-10-2023 06:20:30] [INFO] Table 'tmp_machines' deleted\n",
      "[06-10-2023 06:20:30] [INFO] Table 'tmp_offers' deleted\n",
      "[06-10-2023 06:20:30] [INFO] Table 'host_mach_map' deleted\n",
      "[06-10-2023 06:20:30] [INFO] Table 'mach_offer_map' deleted\n",
      "[06-10-2023 06:20:30] [INFO] Table 'chunks_map' deleted\n",
      "[06-10-2023 06:20:30] [INFO] Table 'timestamp_idx' deleted\n"
     ]
    }
   ],
   "source": [
    "for tbl in db.dbm.get_tables():\n",
    "    db.dbm.delete_table(tbl)"
   ],
   "metadata": {
    "collapsed": false,
    "ExecuteTime": {
     "end_time": "2023-10-06T04:20:30.134498500Z",
     "start_time": "2023-10-06T04:20:29.980687800Z"
    }
   }
  },
  {
   "cell_type": "code",
   "execution_count": 8,
   "outputs": [],
   "source": [],
   "metadata": {
    "collapsed": false,
    "ExecuteTime": {
     "end_time": "2023-10-06T04:20:30.140502300Z",
     "start_time": "2023-10-06T04:20:30.106145400Z"
    }
   }
  },
  {
   "cell_type": "markdown",
   "source": [],
   "metadata": {
    "collapsed": false
   }
  },
  {
   "cell_type": "code",
   "execution_count": 9,
   "outputs": [
    {
     "name": "stderr",
     "output_type": "stream",
     "text": [
      "[06-10-2023 06:20:30] [INFO] Table 'tmp_machines' created\n",
      "[06-10-2023 06:20:30] [INFO] 3 Rows inserted into 'tmp_machines'\n"
     ]
    }
   ],
   "source": [
    "db.dbm.create_table('tmp_machines', ['host_id', 'machine_id', 'timestamp'])\n",
    "db.dbm.insert('tmp_machines',\n",
    "              [[1, 2, 16],\n",
    "               [1, 3, 16],\n",
    "               [2, 4, 16]])"
   ],
   "metadata": {
    "collapsed": false,
    "ExecuteTime": {
     "end_time": "2023-10-06T04:20:30.230163900Z",
     "start_time": "2023-10-06T04:20:30.120586900Z"
    }
   }
  },
  {
   "cell_type": "code",
   "execution_count": 10,
   "outputs": [
    {
     "name": "stderr",
     "output_type": "stream",
     "text": [
      "[06-10-2023 06:20:30] [INFO] Table 'tmp_offers' created\n",
      "[06-10-2023 06:20:30] [INFO] 3 Rows inserted into 'tmp_offers'\n"
     ]
    }
   ],
   "source": [
    "db.dbm.create_table('tmp_offers', ['machine_id', 'id', 'num_gpus', 'timestamp'])\n",
    "db.dbm.insert('tmp_offers', \n",
    "                  [[1, 1, 1, 16], \n",
    "                   [1, 2, 1, 16], \n",
    "                   [2, 3, 2, 16]])"
   ],
   "metadata": {
    "collapsed": false,
    "ExecuteTime": {
     "end_time": "2023-10-06T04:20:30.341150600Z",
     "start_time": "2023-10-06T04:20:30.230163900Z"
    }
   }
  },
  {
   "cell_type": "code",
   "execution_count": 10,
   "outputs": [],
   "source": [],
   "metadata": {
    "collapsed": false,
    "ExecuteTime": {
     "end_time": "2023-10-06T04:20:30.384616300Z",
     "start_time": "2023-10-06T04:20:30.344151200Z"
    }
   }
  },
  {
   "cell_type": "code",
   "execution_count": 11,
   "outputs": [
    {
     "data": {
      "text/plain": "             name  pages  size  percentage\n0           total      6  0.02      100.00\n1   sqlite_schema      1  0.00       19.53\n2    tmp_machines      1  0.00       19.53\n3      tmp_offers      1  0.00       19.53\n4   host_mach_map      1  0.00       19.53\n5  mach_offer_map      1  0.00       19.53\n6      chunks_map      1  0.00       19.53",
      "text/html": "<div>\n<style scoped>\n    .dataframe tbody tr th:only-of-type {\n        vertical-align: middle;\n    }\n\n    .dataframe tbody tr th {\n        vertical-align: top;\n    }\n\n    .dataframe thead th {\n        text-align: right;\n    }\n</style>\n<table border=\"1\" class=\"dataframe\">\n  <thead>\n    <tr style=\"text-align: right;\">\n      <th></th>\n      <th>name</th>\n      <th>pages</th>\n      <th>size</th>\n      <th>percentage</th>\n    </tr>\n  </thead>\n  <tbody>\n    <tr>\n      <th>0</th>\n      <td>total</td>\n      <td>6</td>\n      <td>0.02</td>\n      <td>100.00</td>\n    </tr>\n    <tr>\n      <th>1</th>\n      <td>sqlite_schema</td>\n      <td>1</td>\n      <td>0.00</td>\n      <td>19.53</td>\n    </tr>\n    <tr>\n      <th>2</th>\n      <td>tmp_machines</td>\n      <td>1</td>\n      <td>0.00</td>\n      <td>19.53</td>\n    </tr>\n    <tr>\n      <th>3</th>\n      <td>tmp_offers</td>\n      <td>1</td>\n      <td>0.00</td>\n      <td>19.53</td>\n    </tr>\n    <tr>\n      <th>4</th>\n      <td>host_mach_map</td>\n      <td>1</td>\n      <td>0.00</td>\n      <td>19.53</td>\n    </tr>\n    <tr>\n      <th>5</th>\n      <td>mach_offer_map</td>\n      <td>1</td>\n      <td>0.00</td>\n      <td>19.53</td>\n    </tr>\n    <tr>\n      <th>6</th>\n      <td>chunks_map</td>\n      <td>1</td>\n      <td>0.00</td>\n      <td>19.53</td>\n    </tr>\n  </tbody>\n</table>\n</div>"
     },
     "execution_count": 11,
     "metadata": {},
     "output_type": "execute_result"
    }
   ],
   "source": [
    "db.create_map_tables()\n",
    "db.update_tables()\n",
    "# db.dbm.commit()\n",
    "db.dbm.get_db_stats()"
   ],
   "metadata": {
    "collapsed": false,
    "ExecuteTime": {
     "end_time": "2023-10-06T04:20:30.469416500Z",
     "start_time": "2023-10-06T04:20:30.355157300Z"
    }
   }
  },
  {
   "cell_type": "code",
   "execution_count": 12,
   "outputs": [
    {
     "data": {
      "text/plain": "   id  num_gpus  timestamp\n0   1         1         16\n1   2         1         16\n2   3         2         16",
      "text/html": "<div>\n<style scoped>\n    .dataframe tbody tr th:only-of-type {\n        vertical-align: middle;\n    }\n\n    .dataframe tbody tr th {\n        vertical-align: top;\n    }\n\n    .dataframe thead th {\n        text-align: right;\n    }\n</style>\n<table border=\"1\" class=\"dataframe\">\n  <thead>\n    <tr style=\"text-align: right;\">\n      <th></th>\n      <th>id</th>\n      <th>num_gpus</th>\n      <th>timestamp</th>\n    </tr>\n  </thead>\n  <tbody>\n    <tr>\n      <th>0</th>\n      <td>1</td>\n      <td>1</td>\n      <td>16</td>\n    </tr>\n    <tr>\n      <th>1</th>\n      <td>2</td>\n      <td>1</td>\n      <td>16</td>\n    </tr>\n    <tr>\n      <th>2</th>\n      <td>3</td>\n      <td>2</td>\n      <td>16</td>\n    </tr>\n  </tbody>\n</table>\n</div>"
     },
     "execution_count": 12,
     "metadata": {},
     "output_type": "execute_result"
    }
   ],
   "source": [
    "# db.dbm.table_to_df('host_mach_map')\n",
    "# db.dbm.table_to_df('mach_offer_map')\n",
    "db.dbm.table_to_df('chunks_map')"
   ],
   "metadata": {
    "collapsed": false,
    "ExecuteTime": {
     "end_time": "2023-10-06T04:20:30.578259700Z",
     "start_time": "2023-10-06T04:20:30.466411100Z"
    }
   }
  },
  {
   "cell_type": "code",
   "execution_count": 13,
   "outputs": [
    {
     "data": {
      "text/plain": "0"
     },
     "execution_count": 13,
     "metadata": {},
     "output_type": "execute_result"
    }
   ],
   "source": [
    "db.update_tables()"
   ],
   "metadata": {
    "collapsed": false,
    "ExecuteTime": {
     "end_time": "2023-10-06T04:20:30.684681700Z",
     "start_time": "2023-10-06T04:20:30.575251600Z"
    }
   }
  },
  {
   "cell_type": "code",
   "execution_count": 52,
   "outputs": [
    {
     "name": "stderr",
     "output_type": "stream",
     "text": [
      "[06-10-2023 06:27:07] [INFO] Table 'tmp_machines' deleted\n",
      "[06-10-2023 06:27:07] [INFO] Table 'tmp_offers' deleted\n",
      "[06-10-2023 06:27:07] [INFO] Table 'host_mach_map' deleted\n",
      "[06-10-2023 06:27:07] [INFO] Table 'mach_offer_map' deleted\n",
      "[06-10-2023 06:27:07] [INFO] Table 'chunks_map' deleted\n",
      "[06-10-2023 06:27:07] [INFO] Table 'timestamp_idx' deleted\n",
      "[06-10-2023 06:27:07] [INFO] Disconnected from the database '../data/test.db'.\n"
     ]
    }
   ],
   "source": [
    "# db.connect()\n",
    "\n",
    "for tbl in db.dbm.get_tables():\n",
    "    db.dbm.delete_table(tbl)\n",
    "\n",
    "db.close()"
   ],
   "metadata": {
    "collapsed": false,
    "ExecuteTime": {
     "end_time": "2023-10-06T04:27:07.421465300Z",
     "start_time": "2023-10-06T04:27:07.268250900Z"
    }
   }
  },
  {
   "cell_type": "code",
   "execution_count": 14,
   "outputs": [],
   "source": [],
   "metadata": {
    "collapsed": false,
    "ExecuteTime": {
     "end_time": "2023-10-06T04:20:30.848613300Z",
     "start_time": "2023-10-06T04:20:30.808130100Z"
    }
   }
  },
  {
   "cell_type": "code",
   "execution_count": 14,
   "outputs": [],
   "source": [],
   "metadata": {
    "collapsed": false,
    "ExecuteTime": {
     "end_time": "2023-10-06T04:20:30.851608Z",
     "start_time": "2023-10-06T04:20:30.823608100Z"
    }
   }
  },
  {
   "cell_type": "code",
   "execution_count": 96,
   "outputs": [],
   "source": [],
   "metadata": {
    "collapsed": false,
    "ExecuteTime": {
     "end_time": "2023-10-06T04:38:25.698464600Z",
     "start_time": "2023-10-06T04:38:25.633616100Z"
    }
   }
  },
  {
   "cell_type": "code",
   "execution_count": 97,
   "outputs": [
    {
     "name": "stderr",
     "output_type": "stream",
     "text": [
      "[06-10-2023 06:38:25] [INFO] [API] fetching data from '500.farm'\n",
      "[06-10-2023 06:38:25] [DEBUG] Starting new HTTPS connection (1): 500.farm:443\n",
      "[06-10-2023 06:38:27] [DEBUG] https://500.farm:443 \"GET /vastai-exporter/offers HTTP/1.1\" 200 None\n"
     ]
    }
   ],
   "source": [
    "raw = fetch()\n",
    "preprocess(raw)\n",
    "machines, offers = split_raw(raw)"
   ],
   "metadata": {
    "collapsed": false,
    "ExecuteTime": {
     "end_time": "2023-10-06T04:38:28.216337300Z",
     "start_time": "2023-10-06T04:38:25.637617Z"
    }
   }
  },
  {
   "cell_type": "code",
   "execution_count": 98,
   "outputs": [
    {
     "name": "stderr",
     "output_type": "stream",
     "text": [
      "[06-10-2023 06:38:28] [INFO] Connected to the database '../data/test.db'\n"
     ]
    }
   ],
   "source": [
    "db.connect()\n",
    "db.create_tmp_tables(machines, offers)\n",
    "db.create_map_tables()"
   ],
   "metadata": {
    "collapsed": false,
    "ExecuteTime": {
     "end_time": "2023-10-06T04:38:28.423487500Z",
     "start_time": "2023-10-06T04:38:28.217347900Z"
    }
   }
  },
  {
   "cell_type": "code",
   "execution_count": 99,
   "outputs": [
    {
     "data": {
      "text/plain": "             name  pages  size  percentage\n0           total     49  0.19      100.00\n1  mach_offer_map     20  0.08       41.12\n2      chunks_map     18  0.07       37.01\n3   host_mach_map      9  0.04       18.50\n4   sqlite_schema      1  0.00        2.06\n5   timestamp_idx      1  0.00        2.06",
      "text/html": "<div>\n<style scoped>\n    .dataframe tbody tr th:only-of-type {\n        vertical-align: middle;\n    }\n\n    .dataframe tbody tr th {\n        vertical-align: top;\n    }\n\n    .dataframe thead th {\n        text-align: right;\n    }\n</style>\n<table border=\"1\" class=\"dataframe\">\n  <thead>\n    <tr style=\"text-align: right;\">\n      <th></th>\n      <th>name</th>\n      <th>pages</th>\n      <th>size</th>\n      <th>percentage</th>\n    </tr>\n  </thead>\n  <tbody>\n    <tr>\n      <th>0</th>\n      <td>total</td>\n      <td>49</td>\n      <td>0.19</td>\n      <td>100.00</td>\n    </tr>\n    <tr>\n      <th>1</th>\n      <td>mach_offer_map</td>\n      <td>20</td>\n      <td>0.08</td>\n      <td>41.12</td>\n    </tr>\n    <tr>\n      <th>2</th>\n      <td>chunks_map</td>\n      <td>18</td>\n      <td>0.07</td>\n      <td>37.01</td>\n    </tr>\n    <tr>\n      <th>3</th>\n      <td>host_mach_map</td>\n      <td>9</td>\n      <td>0.04</td>\n      <td>18.50</td>\n    </tr>\n    <tr>\n      <th>4</th>\n      <td>sqlite_schema</td>\n      <td>1</td>\n      <td>0.00</td>\n      <td>2.06</td>\n    </tr>\n    <tr>\n      <th>5</th>\n      <td>timestamp_idx</td>\n      <td>1</td>\n      <td>0.00</td>\n      <td>2.06</td>\n    </tr>\n  </tbody>\n</table>\n</div>"
     },
     "execution_count": 99,
     "metadata": {},
     "output_type": "execute_result"
    }
   ],
   "source": [
    "db.dbm.get_db_stats()\n",
    "# db.dbm.delete_table('int32')"
   ],
   "metadata": {
    "collapsed": false,
    "ExecuteTime": {
     "end_time": "2023-10-06T04:38:28.535383300Z",
     "start_time": "2023-10-06T04:38:28.425486900Z"
    }
   }
  },
  {
   "cell_type": "code",
   "execution_count": 100,
   "outputs": [],
   "source": [
    "db.create_ts_index()"
   ],
   "metadata": {
    "collapsed": false,
    "ExecuteTime": {
     "end_time": "2023-10-06T04:38:28.656529Z",
     "start_time": "2023-10-06T04:38:28.533382900Z"
    }
   }
  },
  {
   "cell_type": "code",
   "execution_count": 101,
   "outputs": [
    {
     "data": {
      "text/plain": "0"
     },
     "execution_count": 101,
     "metadata": {},
     "output_type": "execute_result"
    }
   ],
   "source": [
    "db.update_tables()"
   ],
   "metadata": {
    "collapsed": false,
    "ExecuteTime": {
     "end_time": "2023-10-06T04:38:28.834596700Z",
     "start_time": "2023-10-06T04:38:28.643522Z"
    }
   }
  },
  {
   "cell_type": "code",
   "execution_count": 102,
   "outputs": [],
   "source": [
    "db.dbm.commit()"
   ],
   "metadata": {
    "collapsed": false,
    "ExecuteTime": {
     "end_time": "2023-10-06T04:38:28.945577Z",
     "start_time": "2023-10-06T04:38:28.831595600Z"
    }
   }
  },
  {
   "cell_type": "code",
   "execution_count": 103,
   "outputs": [
    {
     "data": {
      "text/plain": "             name  pages  size  percentage\n0           total     49  0.19      100.00\n1  mach_offer_map     20  0.08       41.12\n2      chunks_map     18  0.07       37.01\n3   host_mach_map      9  0.04       18.50\n4   sqlite_schema      1  0.00        2.06\n5   timestamp_idx      1  0.00        2.06",
      "text/html": "<div>\n<style scoped>\n    .dataframe tbody tr th:only-of-type {\n        vertical-align: middle;\n    }\n\n    .dataframe tbody tr th {\n        vertical-align: top;\n    }\n\n    .dataframe thead th {\n        text-align: right;\n    }\n</style>\n<table border=\"1\" class=\"dataframe\">\n  <thead>\n    <tr style=\"text-align: right;\">\n      <th></th>\n      <th>name</th>\n      <th>pages</th>\n      <th>size</th>\n      <th>percentage</th>\n    </tr>\n  </thead>\n  <tbody>\n    <tr>\n      <th>0</th>\n      <td>total</td>\n      <td>49</td>\n      <td>0.19</td>\n      <td>100.00</td>\n    </tr>\n    <tr>\n      <th>1</th>\n      <td>mach_offer_map</td>\n      <td>20</td>\n      <td>0.08</td>\n      <td>41.12</td>\n    </tr>\n    <tr>\n      <th>2</th>\n      <td>chunks_map</td>\n      <td>18</td>\n      <td>0.07</td>\n      <td>37.01</td>\n    </tr>\n    <tr>\n      <th>3</th>\n      <td>host_mach_map</td>\n      <td>9</td>\n      <td>0.04</td>\n      <td>18.50</td>\n    </tr>\n    <tr>\n      <th>4</th>\n      <td>sqlite_schema</td>\n      <td>1</td>\n      <td>0.00</td>\n      <td>2.06</td>\n    </tr>\n    <tr>\n      <th>5</th>\n      <td>timestamp_idx</td>\n      <td>1</td>\n      <td>0.00</td>\n      <td>2.06</td>\n    </tr>\n  </tbody>\n</table>\n</div>"
     },
     "execution_count": 103,
     "metadata": {},
     "output_type": "execute_result"
    }
   ],
   "source": [
    "db.dbm.get_db_stats()"
   ],
   "metadata": {
    "collapsed": false,
    "ExecuteTime": {
     "end_time": "2023-10-06T04:38:29.049409200Z",
     "start_time": "2023-10-06T04:38:28.938580800Z"
    }
   }
  },
  {
   "cell_type": "code",
   "execution_count": 104,
   "outputs": [
    {
     "data": {
      "text/plain": "           id  machine_id   timestamp\n0     6612968         162  1696566579\n1     6363233         274  1696566579\n2     6363229         274  1696566579\n3     6363228         274  1696566579\n4     6363227         274  1696566579\n...       ...         ...         ...\n4246  7177116       13757  1696566579\n4247  7177145       13758  1696566579\n4248  7177293       13760  1696566579\n4249  7177800       13761  1696566579\n4250  7177874       13762  1696566579\n\n[4251 rows x 3 columns]",
      "text/html": "<div>\n<style scoped>\n    .dataframe tbody tr th:only-of-type {\n        vertical-align: middle;\n    }\n\n    .dataframe tbody tr th {\n        vertical-align: top;\n    }\n\n    .dataframe thead th {\n        text-align: right;\n    }\n</style>\n<table border=\"1\" class=\"dataframe\">\n  <thead>\n    <tr style=\"text-align: right;\">\n      <th></th>\n      <th>id</th>\n      <th>machine_id</th>\n      <th>timestamp</th>\n    </tr>\n  </thead>\n  <tbody>\n    <tr>\n      <th>0</th>\n      <td>6612968</td>\n      <td>162</td>\n      <td>1696566579</td>\n    </tr>\n    <tr>\n      <th>1</th>\n      <td>6363233</td>\n      <td>274</td>\n      <td>1696566579</td>\n    </tr>\n    <tr>\n      <th>2</th>\n      <td>6363229</td>\n      <td>274</td>\n      <td>1696566579</td>\n    </tr>\n    <tr>\n      <th>3</th>\n      <td>6363228</td>\n      <td>274</td>\n      <td>1696566579</td>\n    </tr>\n    <tr>\n      <th>4</th>\n      <td>6363227</td>\n      <td>274</td>\n      <td>1696566579</td>\n    </tr>\n    <tr>\n      <th>...</th>\n      <td>...</td>\n      <td>...</td>\n      <td>...</td>\n    </tr>\n    <tr>\n      <th>4246</th>\n      <td>7177116</td>\n      <td>13757</td>\n      <td>1696566579</td>\n    </tr>\n    <tr>\n      <th>4247</th>\n      <td>7177145</td>\n      <td>13758</td>\n      <td>1696566579</td>\n    </tr>\n    <tr>\n      <th>4248</th>\n      <td>7177293</td>\n      <td>13760</td>\n      <td>1696566579</td>\n    </tr>\n    <tr>\n      <th>4249</th>\n      <td>7177800</td>\n      <td>13761</td>\n      <td>1696566579</td>\n    </tr>\n    <tr>\n      <th>4250</th>\n      <td>7177874</td>\n      <td>13762</td>\n      <td>1696566579</td>\n    </tr>\n  </tbody>\n</table>\n<p>4251 rows × 3 columns</p>\n</div>"
     },
     "execution_count": 104,
     "metadata": {},
     "output_type": "execute_result"
    }
   ],
   "source": [
    "# db.dbm.table_to_df('mach_offer_map')\n",
    "db.dbm.table_to_df('mach_offer_map').sort_values(by='machine_id')"
   ],
   "metadata": {
    "collapsed": false,
    "ExecuteTime": {
     "end_time": "2023-10-06T04:38:29.185512500Z",
     "start_time": "2023-10-06T04:38:29.049409200Z"
    }
   }
  },
  {
   "cell_type": "code",
   "execution_count": 105,
   "outputs": [
    {
     "data": {
      "text/plain": "           id  num_gpus   timestamp\n429   5381479         1  1696566579\n428   5381480         1  1696566579\n427   5381481         1  1696566579\n426   5381484         1  1696566579\n413   5393995         8  1696566579\n...       ...       ...         ...\n1325  7177591         1  1696566579\n430   7177597         2  1696566579\n2791  7177599         1  1696566579\n4249  7177800         1  1696566579\n4250  7177874         1  1696566579\n\n[4251 rows x 3 columns]",
      "text/html": "<div>\n<style scoped>\n    .dataframe tbody tr th:only-of-type {\n        vertical-align: middle;\n    }\n\n    .dataframe tbody tr th {\n        vertical-align: top;\n    }\n\n    .dataframe thead th {\n        text-align: right;\n    }\n</style>\n<table border=\"1\" class=\"dataframe\">\n  <thead>\n    <tr style=\"text-align: right;\">\n      <th></th>\n      <th>id</th>\n      <th>num_gpus</th>\n      <th>timestamp</th>\n    </tr>\n  </thead>\n  <tbody>\n    <tr>\n      <th>429</th>\n      <td>5381479</td>\n      <td>1</td>\n      <td>1696566579</td>\n    </tr>\n    <tr>\n      <th>428</th>\n      <td>5381480</td>\n      <td>1</td>\n      <td>1696566579</td>\n    </tr>\n    <tr>\n      <th>427</th>\n      <td>5381481</td>\n      <td>1</td>\n      <td>1696566579</td>\n    </tr>\n    <tr>\n      <th>426</th>\n      <td>5381484</td>\n      <td>1</td>\n      <td>1696566579</td>\n    </tr>\n    <tr>\n      <th>413</th>\n      <td>5393995</td>\n      <td>8</td>\n      <td>1696566579</td>\n    </tr>\n    <tr>\n      <th>...</th>\n      <td>...</td>\n      <td>...</td>\n      <td>...</td>\n    </tr>\n    <tr>\n      <th>1325</th>\n      <td>7177591</td>\n      <td>1</td>\n      <td>1696566579</td>\n    </tr>\n    <tr>\n      <th>430</th>\n      <td>7177597</td>\n      <td>2</td>\n      <td>1696566579</td>\n    </tr>\n    <tr>\n      <th>2791</th>\n      <td>7177599</td>\n      <td>1</td>\n      <td>1696566579</td>\n    </tr>\n    <tr>\n      <th>4249</th>\n      <td>7177800</td>\n      <td>1</td>\n      <td>1696566579</td>\n    </tr>\n    <tr>\n      <th>4250</th>\n      <td>7177874</td>\n      <td>1</td>\n      <td>1696566579</td>\n    </tr>\n  </tbody>\n</table>\n<p>4251 rows × 3 columns</p>\n</div>"
     },
     "execution_count": 105,
     "metadata": {},
     "output_type": "execute_result"
    }
   ],
   "source": [
    "db.dbm.table_to_df('chunks_map').sort_values(by='id')"
   ],
   "metadata": {
    "collapsed": false,
    "ExecuteTime": {
     "end_time": "2023-10-06T04:38:29.302526900Z",
     "start_time": "2023-10-06T04:38:29.176509500Z"
    }
   }
  },
  {
   "cell_type": "code",
   "execution_count": 106,
   "outputs": [
    {
     "data": {
      "text/plain": "      bw_nvlink  client_run_time  compute_cap  cpu_cores  \\\n429          60              1.1          860        128   \n428          60              1.1          860        128   \n427          60              1.1          860        128   \n426          60              1.1          860        128   \n413           0              1.1          860        128   \n...         ...              ...          ...        ...   \n1325          0              1.1          890         16   \n430           0              1.1          860         28   \n2791          0              1.1          890         16   \n4249          0              1.1          890         48   \n4250          0              1.1          860         32   \n\n                                 cpu_name  cpu_ram  credit_discount_max  \\\n429                                            252                  400   \n428                                            252                  400   \n427                                            252                  400   \n426                                            252                  400   \n413       AMD EPYC 7502 32-Core Processor      252                    0   \n...                                   ...      ...                  ...   \n1325   AMD Ryzen 7 5700X 8-Core Processor       63                  400   \n430                     Xeon® E5-2680 v4        63                  400   \n2791   AMD Ryzen 7 5700X 8-Core Processor       31                  400   \n4249      AMD EPYC 7402 24-Core Processor      252                    0   \n4250  AMD Ryzen 9 3950X 16-Core Processor       16                  400   \n\n     cuda_max_good  direct_port_count  disk_bw  ... reliability  rented  \\\n429           11.8                500     1283  ...        9990       1   \n428           11.8                500     1283  ...        9990       1   \n427           11.8                500     1283  ...        9990       1   \n426           11.8                500     1283  ...        9990       1   \n413           11.7                100     3366  ...        9996       1   \n...            ...                ...      ...  ...         ...     ...   \n1325          12.0                100     3162  ...        9988       1   \n430           12.0                100      812  ...        9990       1   \n2791          12.0                100     4063  ...        9975       1   \n4249          12.2               1000        0  ...        5727       0   \n4250          12.2                100        0  ...        5727       0   \n\n      score  static_ip storage_cost  total_flops  verification  \\\n429      61          0          150           30             1   \n428      58          0          150           30             1   \n427      57          0          150           30             1   \n426      61          0          150           30             1   \n413      50          1           70          282             1   \n...     ...        ...          ...          ...           ...   \n1325    161          1          200           81             1   \n430     162          1          400           71             1   \n2791    149          1          200           81             1   \n4249      0          0          100           81             0   \n4250      0          0          150           36             0   \n\n      vram_costperhour   timestamp country  \n429           0.000009  1696567050      US  \n428           0.000009  1696567050      US  \n427           0.000009  1696567050      US  \n426           0.000009  1696567050      US  \n413           0.000018  1696567050      RU  \n...                ...         ...     ...  \n1325          0.000016  1696567050      MO  \n430           0.000007  1696567050      MO  \n2791          0.000016  1696567050      MO  \n4249          0.000008  1696567050          \n4250          0.000020  1696567050          \n\n[4251 rows x 47 columns]",
      "text/html": "<div>\n<style scoped>\n    .dataframe tbody tr th:only-of-type {\n        vertical-align: middle;\n    }\n\n    .dataframe tbody tr th {\n        vertical-align: top;\n    }\n\n    .dataframe thead th {\n        text-align: right;\n    }\n</style>\n<table border=\"1\" class=\"dataframe\">\n  <thead>\n    <tr style=\"text-align: right;\">\n      <th></th>\n      <th>bw_nvlink</th>\n      <th>client_run_time</th>\n      <th>compute_cap</th>\n      <th>cpu_cores</th>\n      <th>cpu_name</th>\n      <th>cpu_ram</th>\n      <th>credit_discount_max</th>\n      <th>cuda_max_good</th>\n      <th>direct_port_count</th>\n      <th>disk_bw</th>\n      <th>...</th>\n      <th>reliability</th>\n      <th>rented</th>\n      <th>score</th>\n      <th>static_ip</th>\n      <th>storage_cost</th>\n      <th>total_flops</th>\n      <th>verification</th>\n      <th>vram_costperhour</th>\n      <th>timestamp</th>\n      <th>country</th>\n    </tr>\n  </thead>\n  <tbody>\n    <tr>\n      <th>429</th>\n      <td>60</td>\n      <td>1.1</td>\n      <td>860</td>\n      <td>128</td>\n      <td></td>\n      <td>252</td>\n      <td>400</td>\n      <td>11.8</td>\n      <td>500</td>\n      <td>1283</td>\n      <td>...</td>\n      <td>9990</td>\n      <td>1</td>\n      <td>61</td>\n      <td>0</td>\n      <td>150</td>\n      <td>30</td>\n      <td>1</td>\n      <td>0.000009</td>\n      <td>1696567050</td>\n      <td>US</td>\n    </tr>\n    <tr>\n      <th>428</th>\n      <td>60</td>\n      <td>1.1</td>\n      <td>860</td>\n      <td>128</td>\n      <td></td>\n      <td>252</td>\n      <td>400</td>\n      <td>11.8</td>\n      <td>500</td>\n      <td>1283</td>\n      <td>...</td>\n      <td>9990</td>\n      <td>1</td>\n      <td>58</td>\n      <td>0</td>\n      <td>150</td>\n      <td>30</td>\n      <td>1</td>\n      <td>0.000009</td>\n      <td>1696567050</td>\n      <td>US</td>\n    </tr>\n    <tr>\n      <th>427</th>\n      <td>60</td>\n      <td>1.1</td>\n      <td>860</td>\n      <td>128</td>\n      <td></td>\n      <td>252</td>\n      <td>400</td>\n      <td>11.8</td>\n      <td>500</td>\n      <td>1283</td>\n      <td>...</td>\n      <td>9990</td>\n      <td>1</td>\n      <td>57</td>\n      <td>0</td>\n      <td>150</td>\n      <td>30</td>\n      <td>1</td>\n      <td>0.000009</td>\n      <td>1696567050</td>\n      <td>US</td>\n    </tr>\n    <tr>\n      <th>426</th>\n      <td>60</td>\n      <td>1.1</td>\n      <td>860</td>\n      <td>128</td>\n      <td></td>\n      <td>252</td>\n      <td>400</td>\n      <td>11.8</td>\n      <td>500</td>\n      <td>1283</td>\n      <td>...</td>\n      <td>9990</td>\n      <td>1</td>\n      <td>61</td>\n      <td>0</td>\n      <td>150</td>\n      <td>30</td>\n      <td>1</td>\n      <td>0.000009</td>\n      <td>1696567050</td>\n      <td>US</td>\n    </tr>\n    <tr>\n      <th>413</th>\n      <td>0</td>\n      <td>1.1</td>\n      <td>860</td>\n      <td>128</td>\n      <td>AMD EPYC 7502 32-Core Processor</td>\n      <td>252</td>\n      <td>0</td>\n      <td>11.7</td>\n      <td>100</td>\n      <td>3366</td>\n      <td>...</td>\n      <td>9996</td>\n      <td>1</td>\n      <td>50</td>\n      <td>1</td>\n      <td>70</td>\n      <td>282</td>\n      <td>1</td>\n      <td>0.000018</td>\n      <td>1696567050</td>\n      <td>RU</td>\n    </tr>\n    <tr>\n      <th>...</th>\n      <td>...</td>\n      <td>...</td>\n      <td>...</td>\n      <td>...</td>\n      <td>...</td>\n      <td>...</td>\n      <td>...</td>\n      <td>...</td>\n      <td>...</td>\n      <td>...</td>\n      <td>...</td>\n      <td>...</td>\n      <td>...</td>\n      <td>...</td>\n      <td>...</td>\n      <td>...</td>\n      <td>...</td>\n      <td>...</td>\n      <td>...</td>\n      <td>...</td>\n      <td>...</td>\n    </tr>\n    <tr>\n      <th>1325</th>\n      <td>0</td>\n      <td>1.1</td>\n      <td>890</td>\n      <td>16</td>\n      <td>AMD Ryzen 7 5700X 8-Core Processor</td>\n      <td>63</td>\n      <td>400</td>\n      <td>12.0</td>\n      <td>100</td>\n      <td>3162</td>\n      <td>...</td>\n      <td>9988</td>\n      <td>1</td>\n      <td>161</td>\n      <td>1</td>\n      <td>200</td>\n      <td>81</td>\n      <td>1</td>\n      <td>0.000016</td>\n      <td>1696567050</td>\n      <td>MO</td>\n    </tr>\n    <tr>\n      <th>430</th>\n      <td>0</td>\n      <td>1.1</td>\n      <td>860</td>\n      <td>28</td>\n      <td>Xeon® E5-2680 v4</td>\n      <td>63</td>\n      <td>400</td>\n      <td>12.0</td>\n      <td>100</td>\n      <td>812</td>\n      <td>...</td>\n      <td>9990</td>\n      <td>1</td>\n      <td>162</td>\n      <td>1</td>\n      <td>400</td>\n      <td>71</td>\n      <td>1</td>\n      <td>0.000007</td>\n      <td>1696567050</td>\n      <td>MO</td>\n    </tr>\n    <tr>\n      <th>2791</th>\n      <td>0</td>\n      <td>1.1</td>\n      <td>890</td>\n      <td>16</td>\n      <td>AMD Ryzen 7 5700X 8-Core Processor</td>\n      <td>31</td>\n      <td>400</td>\n      <td>12.0</td>\n      <td>100</td>\n      <td>4063</td>\n      <td>...</td>\n      <td>9975</td>\n      <td>1</td>\n      <td>149</td>\n      <td>1</td>\n      <td>200</td>\n      <td>81</td>\n      <td>1</td>\n      <td>0.000016</td>\n      <td>1696567050</td>\n      <td>MO</td>\n    </tr>\n    <tr>\n      <th>4249</th>\n      <td>0</td>\n      <td>1.1</td>\n      <td>890</td>\n      <td>48</td>\n      <td>AMD EPYC 7402 24-Core Processor</td>\n      <td>252</td>\n      <td>0</td>\n      <td>12.2</td>\n      <td>1000</td>\n      <td>0</td>\n      <td>...</td>\n      <td>5727</td>\n      <td>0</td>\n      <td>0</td>\n      <td>0</td>\n      <td>100</td>\n      <td>81</td>\n      <td>0</td>\n      <td>0.000008</td>\n      <td>1696567050</td>\n      <td></td>\n    </tr>\n    <tr>\n      <th>4250</th>\n      <td>0</td>\n      <td>1.1</td>\n      <td>860</td>\n      <td>32</td>\n      <td>AMD Ryzen 9 3950X 16-Core Processor</td>\n      <td>16</td>\n      <td>400</td>\n      <td>12.2</td>\n      <td>100</td>\n      <td>0</td>\n      <td>...</td>\n      <td>5727</td>\n      <td>0</td>\n      <td>0</td>\n      <td>0</td>\n      <td>150</td>\n      <td>36</td>\n      <td>0</td>\n      <td>0.000020</td>\n      <td>1696567050</td>\n      <td></td>\n    </tr>\n  </tbody>\n</table>\n<p>4251 rows × 47 columns</p>\n</div>"
     },
     "execution_count": 106,
     "metadata": {},
     "output_type": "execute_result"
    }
   ],
   "source": [
    "db.dbm.table_to_df('tmp_offers').sort_values(by='id')"
   ],
   "metadata": {
    "collapsed": false,
    "ExecuteTime": {
     "end_time": "2023-10-06T04:38:29.555330500Z",
     "start_time": "2023-10-06T04:38:29.295524700Z"
    }
   }
  },
  {
   "cell_type": "code",
   "execution_count": 107,
   "outputs": [
    {
     "name": "stderr",
     "output_type": "stream",
     "text": [
      "[06-10-2023 06:38:29] [INFO] Disconnected from the database '../data/test.db'.\n"
     ]
    }
   ],
   "source": [
    "db.close()"
   ],
   "metadata": {
    "collapsed": false,
    "ExecuteTime": {
     "end_time": "2023-10-06T04:38:29.653132200Z",
     "start_time": "2023-10-06T04:38:29.499547600Z"
    }
   }
  }
 ],
 "metadata": {
  "kernelspec": {
   "display_name": "Python 3",
   "language": "python",
   "name": "python3"
  },
  "language_info": {
   "codemirror_mode": {
    "name": "ipython",
    "version": 2
   },
   "file_extension": ".py",
   "mimetype": "text/x-python",
   "name": "python",
   "nbconvert_exporter": "python",
   "pygments_lexer": "ipython2",
   "version": "2.7.6"
  }
 },
 "nbformat": 4,
 "nbformat_minor": 0
}
