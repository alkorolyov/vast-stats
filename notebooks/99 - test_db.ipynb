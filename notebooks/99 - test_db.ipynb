{
 "cells": [
  {
   "cell_type": "code",
   "execution_count": 139,
   "outputs": [
    {
     "name": "stdout",
     "output_type": "stream",
     "text": [
      "The autoreload extension is already loaded. To reload it, use:\n",
      "  %reload_ext autoreload\n"
     ]
    }
   ],
   "source": [
    "import pandas as pd\n",
    "%load_ext autoreload\n",
    "%autoreload 2"
   ],
   "metadata": {
    "collapsed": false,
    "ExecuteTime": {
     "end_time": "2023-10-10T11:57:32.303836500Z",
     "start_time": "2023-10-10T11:57:32.083785600Z"
    }
   }
  },
  {
   "cell_type": "code",
   "execution_count": 140,
   "outputs": [],
   "source": [
    "from src.vastdb import VastDB\n",
    "from src.manager import DbManager\n",
    "from src.fetch import fetch\n",
    "from src.preprocess import preprocess, split_raw\n",
    "from src import const\n",
    "from src.tables import get_machines\n",
    "\n",
    "import logging\n",
    "\n",
    "\n",
    "logging.basicConfig(format=const.LOG_FORMAT,\n",
    "                    level=logging.DEBUG,\n",
    "                    datefmt='%d-%m-%Y %I:%M:%S')\n",
    "\n",
    "# logger = \n",
    "# logger.setLevel(logging.DEBUG)"
   ],
   "metadata": {
    "collapsed": false,
    "ExecuteTime": {
     "end_time": "2023-10-10T11:57:32.441780300Z",
     "start_time": "2023-10-10T11:57:32.306837600Z"
    }
   }
  },
  {
   "cell_type": "code",
   "execution_count": 141,
   "outputs": [
    {
     "name": "stderr",
     "output_type": "stream",
     "text": [
      "[10-10-2023 01:57:32] [INFO] Connected to the database '../data/test.db'\n"
     ]
    }
   ],
   "source": [
    "vast = VastDB('../data/test.db')\n",
    "vast.connect()"
   ],
   "metadata": {
    "collapsed": false,
    "ExecuteTime": {
     "end_time": "2023-10-10T11:57:32.580811500Z",
     "start_time": "2023-10-10T11:57:32.442780Z"
    }
   }
  },
  {
   "cell_type": "code",
   "execution_count": 142,
   "outputs": [
    {
     "data": {
      "text/plain": "['timestamp_idx',\n 'machine_host_map',\n 'online_ts',\n 'online_snp',\n 'hardware_ts',\n 'hardware_snp',\n 'cpu_ram_ts',\n 'cpu_ram_snp',\n 'disk_ts',\n 'disk_snp',\n 'eod_ts',\n 'eod_snp',\n 'reliability_ts',\n 'reliability_snp',\n 'cost_ts',\n 'cost_snp',\n 'rent_ts',\n 'rent_snp',\n 'avg_ts',\n 'avg_snp']"
     },
     "execution_count": 142,
     "metadata": {},
     "output_type": "execute_result"
    }
   ],
   "source": [
    "vast.dbm.get_tables()"
   ],
   "metadata": {
    "collapsed": false,
    "ExecuteTime": {
     "end_time": "2023-10-10T11:57:32.732351100Z",
     "start_time": "2023-10-10T11:57:32.581812Z"
    }
   }
  },
  {
   "cell_type": "code",
   "execution_count": 143,
   "outputs": [
    {
     "data": {
      "text/plain": "Empty DataFrame\nColumns: [name, type, notnull, dflt_value, pk]\nIndex: []",
      "text/html": "<div>\n<style scoped>\n    .dataframe tbody tr th:only-of-type {\n        vertical-align: middle;\n    }\n\n    .dataframe tbody tr th {\n        vertical-align: top;\n    }\n\n    .dataframe thead th {\n        text-align: right;\n    }\n</style>\n<table border=\"1\" class=\"dataframe\">\n  <thead>\n    <tr style=\"text-align: right;\">\n      <th></th>\n      <th>name</th>\n      <th>type</th>\n      <th>notnull</th>\n      <th>dflt_value</th>\n      <th>pk</th>\n    </tr>\n    <tr>\n      <th>cid</th>\n      <th></th>\n      <th></th>\n      <th></th>\n      <th></th>\n      <th></th>\n    </tr>\n  </thead>\n  <tbody>\n  </tbody>\n</table>\n</div>"
     },
     "execution_count": 143,
     "metadata": {},
     "output_type": "execute_result"
    }
   ],
   "source": [
    "info = vast.dbm.get_tbl_info('tmp_machines')\n",
    "info\n",
    "# 'host_id' in info['name']"
   ],
   "metadata": {
    "collapsed": false,
    "ExecuteTime": {
     "end_time": "2023-10-10T11:57:32.861381300Z",
     "start_time": "2023-10-10T11:57:32.723349300Z"
    }
   }
  },
  {
   "cell_type": "code",
   "execution_count": 144,
   "outputs": [],
   "source": [
    "vast.init_tables()"
   ],
   "metadata": {
    "collapsed": false,
    "ExecuteTime": {
     "end_time": "2023-10-10T11:57:33.016415300Z",
     "start_time": "2023-10-10T11:57:32.861381300Z"
    }
   }
  },
  {
   "cell_type": "code",
   "execution_count": 145,
   "outputs": [],
   "source": [
    "vast.create_tables()"
   ],
   "metadata": {
    "collapsed": false,
    "ExecuteTime": {
     "end_time": "2023-10-10T11:57:33.135442100Z",
     "start_time": "2023-10-10T11:57:32.999411700Z"
    }
   }
  },
  {
   "cell_type": "code",
   "execution_count": 146,
   "outputs": [
    {
     "data": {
      "text/plain": "['timestamp_idx',\n 'machine_host_map',\n 'online_ts',\n 'online_snp',\n 'hardware_ts',\n 'hardware_snp',\n 'cpu_ram_ts',\n 'cpu_ram_snp',\n 'disk_ts',\n 'disk_snp',\n 'eod_ts',\n 'eod_snp',\n 'reliability_ts',\n 'reliability_snp',\n 'cost_ts',\n 'cost_snp',\n 'rent_ts',\n 'rent_snp',\n 'avg_ts',\n 'avg_snp']"
     },
     "execution_count": 146,
     "metadata": {},
     "output_type": "execute_result"
    }
   ],
   "source": [
    "vast.dbm.get_tables()"
   ],
   "metadata": {
    "collapsed": false,
    "ExecuteTime": {
     "end_time": "2023-10-10T11:57:33.276473600Z",
     "start_time": "2023-10-10T11:57:33.136442400Z"
    }
   }
  },
  {
   "cell_type": "code",
   "execution_count": 147,
   "outputs": [
    {
     "data": {
      "text/plain": "                name  pages  size  percentage\n0              total    399  1.56      100.00\n1            avg_snp     84  0.33       21.03\n2       hardware_snp     68  0.27       17.03\n3            eod_snp     53  0.21       13.27\n4        hardware_ts     39  0.15        9.77\n5             eod_ts     32  0.13        8.01\n6           cost_snp     17  0.07        4.26\n7            cost_ts     14  0.05        3.51\n8         online_snp     10  0.04        2.50\n9     reliability_ts     10  0.04        2.50\n10           disk_ts      9  0.04        2.25\n11  machine_host_map      8  0.03        2.00\n12         online_ts      8  0.03        2.00\n13        cpu_ram_ts      8  0.03        2.00\n14           rent_ts      8  0.03        2.00\n15          disk_snp      7  0.03        1.75\n16   reliability_snp      7  0.03        1.75\n17       cpu_ram_snp      6  0.02        1.50\n18          rent_snp      6  0.02        1.50\n19     sqlite_schema      3  0.01        0.75\n20     timestamp_idx      1  0.00        0.25\n21            avg_ts      1  0.00        0.25",
      "text/html": "<div>\n<style scoped>\n    .dataframe tbody tr th:only-of-type {\n        vertical-align: middle;\n    }\n\n    .dataframe tbody tr th {\n        vertical-align: top;\n    }\n\n    .dataframe thead th {\n        text-align: right;\n    }\n</style>\n<table border=\"1\" class=\"dataframe\">\n  <thead>\n    <tr style=\"text-align: right;\">\n      <th></th>\n      <th>name</th>\n      <th>pages</th>\n      <th>size</th>\n      <th>percentage</th>\n    </tr>\n  </thead>\n  <tbody>\n    <tr>\n      <th>0</th>\n      <td>total</td>\n      <td>399</td>\n      <td>1.56</td>\n      <td>100.00</td>\n    </tr>\n    <tr>\n      <th>1</th>\n      <td>avg_snp</td>\n      <td>84</td>\n      <td>0.33</td>\n      <td>21.03</td>\n    </tr>\n    <tr>\n      <th>2</th>\n      <td>hardware_snp</td>\n      <td>68</td>\n      <td>0.27</td>\n      <td>17.03</td>\n    </tr>\n    <tr>\n      <th>3</th>\n      <td>eod_snp</td>\n      <td>53</td>\n      <td>0.21</td>\n      <td>13.27</td>\n    </tr>\n    <tr>\n      <th>4</th>\n      <td>hardware_ts</td>\n      <td>39</td>\n      <td>0.15</td>\n      <td>9.77</td>\n    </tr>\n    <tr>\n      <th>5</th>\n      <td>eod_ts</td>\n      <td>32</td>\n      <td>0.13</td>\n      <td>8.01</td>\n    </tr>\n    <tr>\n      <th>6</th>\n      <td>cost_snp</td>\n      <td>17</td>\n      <td>0.07</td>\n      <td>4.26</td>\n    </tr>\n    <tr>\n      <th>7</th>\n      <td>cost_ts</td>\n      <td>14</td>\n      <td>0.05</td>\n      <td>3.51</td>\n    </tr>\n    <tr>\n      <th>8</th>\n      <td>online_snp</td>\n      <td>10</td>\n      <td>0.04</td>\n      <td>2.50</td>\n    </tr>\n    <tr>\n      <th>9</th>\n      <td>reliability_ts</td>\n      <td>10</td>\n      <td>0.04</td>\n      <td>2.50</td>\n    </tr>\n    <tr>\n      <th>10</th>\n      <td>disk_ts</td>\n      <td>9</td>\n      <td>0.04</td>\n      <td>2.25</td>\n    </tr>\n    <tr>\n      <th>11</th>\n      <td>machine_host_map</td>\n      <td>8</td>\n      <td>0.03</td>\n      <td>2.00</td>\n    </tr>\n    <tr>\n      <th>12</th>\n      <td>online_ts</td>\n      <td>8</td>\n      <td>0.03</td>\n      <td>2.00</td>\n    </tr>\n    <tr>\n      <th>13</th>\n      <td>cpu_ram_ts</td>\n      <td>8</td>\n      <td>0.03</td>\n      <td>2.00</td>\n    </tr>\n    <tr>\n      <th>14</th>\n      <td>rent_ts</td>\n      <td>8</td>\n      <td>0.03</td>\n      <td>2.00</td>\n    </tr>\n    <tr>\n      <th>15</th>\n      <td>disk_snp</td>\n      <td>7</td>\n      <td>0.03</td>\n      <td>1.75</td>\n    </tr>\n    <tr>\n      <th>16</th>\n      <td>reliability_snp</td>\n      <td>7</td>\n      <td>0.03</td>\n      <td>1.75</td>\n    </tr>\n    <tr>\n      <th>17</th>\n      <td>cpu_ram_snp</td>\n      <td>6</td>\n      <td>0.02</td>\n      <td>1.50</td>\n    </tr>\n    <tr>\n      <th>18</th>\n      <td>rent_snp</td>\n      <td>6</td>\n      <td>0.02</td>\n      <td>1.50</td>\n    </tr>\n    <tr>\n      <th>19</th>\n      <td>sqlite_schema</td>\n      <td>3</td>\n      <td>0.01</td>\n      <td>0.75</td>\n    </tr>\n    <tr>\n      <th>20</th>\n      <td>timestamp_idx</td>\n      <td>1</td>\n      <td>0.00</td>\n      <td>0.25</td>\n    </tr>\n    <tr>\n      <th>21</th>\n      <td>avg_ts</td>\n      <td>1</td>\n      <td>0.00</td>\n      <td>0.25</td>\n    </tr>\n  </tbody>\n</table>\n</div>"
     },
     "execution_count": 147,
     "metadata": {},
     "output_type": "execute_result"
    }
   ],
   "source": [
    "vast.dbm.get_db_stats()"
   ],
   "metadata": {
    "collapsed": false,
    "ExecuteTime": {
     "end_time": "2023-10-10T11:57:33.444511800Z",
     "start_time": "2023-10-10T11:57:33.277473900Z"
    }
   }
  },
  {
   "cell_type": "code",
   "execution_count": 148,
   "outputs": [],
   "source": [
    "# for tbl in vast.dbm.get_tables():\n",
    "#     vast.dbm.delete_table(tbl)"
   ],
   "metadata": {
    "collapsed": false,
    "ExecuteTime": {
     "end_time": "2023-10-10T11:57:33.598547200Z",
     "start_time": "2023-10-10T11:57:33.431508400Z"
    }
   }
  },
  {
   "cell_type": "code",
   "execution_count": 149,
   "outputs": [
    {
     "name": "stderr",
     "output_type": "stream",
     "text": [
      "[10-10-2023 01:57:33] [DEBUG] Starting new HTTPS connection (1): 500.farm:443\n",
      "[10-10-2023 01:57:34] [DEBUG] https://500.farm:443 \"GET /vastai-exporter/machines HTTP/1.1\" 200 None\n"
     ]
    }
   ],
   "source": [
    "machines = get_machines()"
   ],
   "metadata": {
    "collapsed": false,
    "ExecuteTime": {
     "end_time": "2023-10-10T11:57:35.622630400Z",
     "start_time": "2023-10-10T11:57:33.572540500Z"
    }
   }
  },
  {
   "cell_type": "code",
   "execution_count": 150,
   "outputs": [
    {
     "name": "stderr",
     "output_type": "stream",
     "text": [
      "[10-10-2023 01:57:35] [DEBUG] Temporary tables created: 'tmp_machines'\n"
     ]
    }
   ],
   "source": [
    "vast.create_tmp_tables(machines)"
   ],
   "metadata": {
    "collapsed": false,
    "ExecuteTime": {
     "end_time": "2023-10-10T11:57:35.771662400Z",
     "start_time": "2023-10-10T11:57:35.624629100Z"
    }
   }
  },
  {
   "cell_type": "code",
   "execution_count": 151,
   "outputs": [
    {
     "data": {
      "text/plain": "      bw_nvlink  client_run_time  compute_cap  cpu_cores  \\\n0             0              1.1          860         20   \n1             0              1.1          860         24   \n2             0              1.1          860         24   \n3             0              1.1          860         24   \n4             0              1.1          860         12   \n...         ...              ...          ...        ...   \n1727          0              1.1          610         40   \n1728          0              1.1          610         32   \n1729          0              1.1          610         32   \n1730          0              1.1          750         32   \n1731          0              1.1          750         24   \n\n                                            cpu_name  cpu_ram  \\\n0                                  Xeon® E5-2630 v4       252   \n1                                  Xeon® E5-2680 v3        63   \n2                                  Xeon® E5-2680 v3        63   \n3                                  Xeon® E5-2680 v3        63   \n4                  AMD Ryzen 5 3600 6-Core Processor       16   \n...                                              ...      ...   \n1727                               Xeon® E5-2658 v2        63   \n1728                               Xeon® E5-2650 v2        63   \n1729                               Xeon® E5-2650 v2        63   \n1730  AMD Ryzen Threadripper 1950X 16-Core Processor       63   \n1731                                Xeon® E5-2630 0       354   \n\n      credit_discount_max cuda_max_good  direct_port_count  disk_bw  ...  \\\n0                     400          12.0               1020      514  ...   \n1                     400          12.2                101     2421  ...   \n2                     400          12.2                102     2270  ...   \n3                     400          12.0                101      179  ...   \n4                     400          12.0                100     1689  ...   \n...                   ...           ...                ...      ...  ...   \n1727                  100          12.0               1000      125  ...   \n1728                  100          12.0               1000     1524  ...   \n1729                  100          12.0               1000     1634  ...   \n1730                  400          11.7               1000     1804  ...   \n1731                  400          12.2               1000     1828  ...   \n\n     reliability  score  static_ip  storage_cost total_flops  verification  \\\n0           5727      9          1           150          35             0   \n1           6397     16          1            50          12             0   \n2           6769     50          1            50          13             0   \n3           7141     58          1            50          13             0   \n4           7220    188          1           150          59             0   \n...          ...    ...        ...           ...         ...           ...   \n1727        9894     50          1           150          37             1   \n1728        9963     49          1           150          49             2   \n1729        9960     51          1           150          49             1   \n1730        9979     48          1           150          61             1   \n1731        9982     24          0           150          15             0   \n\n      vram_costperhour   timestamp  \\\n0         8.951823e-06  1696939021   \n1         3.255208e-06  1696939021   \n2         3.255208e-06  1696939021   \n3         3.255208e-06  1696939021   \n4         9.765625e-07  1696939021   \n...                ...         ...   \n1727      6.713867e-06  1696939021   \n1728      6.713867e-06  1696939021   \n1729      6.713867e-06  1696939021   \n1730      1.331676e-05  1696939021   \n1731      2.663352e-05  1696939021   \n\n                                                    isp country  \n0                                     Artnet Sp. z o.o.      PL  \n1                                           CenturyLink      US  \n2                                           CenturyLink      US  \n3                                           CenturyLink      US  \n4                           iFiber Communications Corp.      US  \n...                                                 ...     ...  \n1727  State Enterprise Scientific and Telecommunication      UA  \n1728  State Enterprise Scientific and Telecommunication      UA  \n1729  State Enterprise Scientific and Telecommunication      UA  \n1730                                 Atlantic Broadband      US  \n1731                                 Atlantic Broadband      US  \n\n[1732 rows x 48 columns]",
      "text/html": "<div>\n<style scoped>\n    .dataframe tbody tr th:only-of-type {\n        vertical-align: middle;\n    }\n\n    .dataframe tbody tr th {\n        vertical-align: top;\n    }\n\n    .dataframe thead th {\n        text-align: right;\n    }\n</style>\n<table border=\"1\" class=\"dataframe\">\n  <thead>\n    <tr style=\"text-align: right;\">\n      <th></th>\n      <th>bw_nvlink</th>\n      <th>client_run_time</th>\n      <th>compute_cap</th>\n      <th>cpu_cores</th>\n      <th>cpu_name</th>\n      <th>cpu_ram</th>\n      <th>credit_discount_max</th>\n      <th>cuda_max_good</th>\n      <th>direct_port_count</th>\n      <th>disk_bw</th>\n      <th>...</th>\n      <th>reliability</th>\n      <th>score</th>\n      <th>static_ip</th>\n      <th>storage_cost</th>\n      <th>total_flops</th>\n      <th>verification</th>\n      <th>vram_costperhour</th>\n      <th>timestamp</th>\n      <th>isp</th>\n      <th>country</th>\n    </tr>\n  </thead>\n  <tbody>\n    <tr>\n      <th>0</th>\n      <td>0</td>\n      <td>1.1</td>\n      <td>860</td>\n      <td>20</td>\n      <td>Xeon® E5-2630 v4</td>\n      <td>252</td>\n      <td>400</td>\n      <td>12.0</td>\n      <td>1020</td>\n      <td>514</td>\n      <td>...</td>\n      <td>5727</td>\n      <td>9</td>\n      <td>1</td>\n      <td>150</td>\n      <td>35</td>\n      <td>0</td>\n      <td>8.951823e-06</td>\n      <td>1696939021</td>\n      <td>Artnet Sp. z o.o.</td>\n      <td>PL</td>\n    </tr>\n    <tr>\n      <th>1</th>\n      <td>0</td>\n      <td>1.1</td>\n      <td>860</td>\n      <td>24</td>\n      <td>Xeon® E5-2680 v3</td>\n      <td>63</td>\n      <td>400</td>\n      <td>12.2</td>\n      <td>101</td>\n      <td>2421</td>\n      <td>...</td>\n      <td>6397</td>\n      <td>16</td>\n      <td>1</td>\n      <td>50</td>\n      <td>12</td>\n      <td>0</td>\n      <td>3.255208e-06</td>\n      <td>1696939021</td>\n      <td>CenturyLink</td>\n      <td>US</td>\n    </tr>\n    <tr>\n      <th>2</th>\n      <td>0</td>\n      <td>1.1</td>\n      <td>860</td>\n      <td>24</td>\n      <td>Xeon® E5-2680 v3</td>\n      <td>63</td>\n      <td>400</td>\n      <td>12.2</td>\n      <td>102</td>\n      <td>2270</td>\n      <td>...</td>\n      <td>6769</td>\n      <td>50</td>\n      <td>1</td>\n      <td>50</td>\n      <td>13</td>\n      <td>0</td>\n      <td>3.255208e-06</td>\n      <td>1696939021</td>\n      <td>CenturyLink</td>\n      <td>US</td>\n    </tr>\n    <tr>\n      <th>3</th>\n      <td>0</td>\n      <td>1.1</td>\n      <td>860</td>\n      <td>24</td>\n      <td>Xeon® E5-2680 v3</td>\n      <td>63</td>\n      <td>400</td>\n      <td>12.0</td>\n      <td>101</td>\n      <td>179</td>\n      <td>...</td>\n      <td>7141</td>\n      <td>58</td>\n      <td>1</td>\n      <td>50</td>\n      <td>13</td>\n      <td>0</td>\n      <td>3.255208e-06</td>\n      <td>1696939021</td>\n      <td>CenturyLink</td>\n      <td>US</td>\n    </tr>\n    <tr>\n      <th>4</th>\n      <td>0</td>\n      <td>1.1</td>\n      <td>860</td>\n      <td>12</td>\n      <td>AMD Ryzen 5 3600 6-Core Processor</td>\n      <td>16</td>\n      <td>400</td>\n      <td>12.0</td>\n      <td>100</td>\n      <td>1689</td>\n      <td>...</td>\n      <td>7220</td>\n      <td>188</td>\n      <td>1</td>\n      <td>150</td>\n      <td>59</td>\n      <td>0</td>\n      <td>9.765625e-07</td>\n      <td>1696939021</td>\n      <td>iFiber Communications Corp.</td>\n      <td>US</td>\n    </tr>\n    <tr>\n      <th>...</th>\n      <td>...</td>\n      <td>...</td>\n      <td>...</td>\n      <td>...</td>\n      <td>...</td>\n      <td>...</td>\n      <td>...</td>\n      <td>...</td>\n      <td>...</td>\n      <td>...</td>\n      <td>...</td>\n      <td>...</td>\n      <td>...</td>\n      <td>...</td>\n      <td>...</td>\n      <td>...</td>\n      <td>...</td>\n      <td>...</td>\n      <td>...</td>\n      <td>...</td>\n      <td>...</td>\n    </tr>\n    <tr>\n      <th>1727</th>\n      <td>0</td>\n      <td>1.1</td>\n      <td>610</td>\n      <td>40</td>\n      <td>Xeon® E5-2658 v2</td>\n      <td>63</td>\n      <td>100</td>\n      <td>12.0</td>\n      <td>1000</td>\n      <td>125</td>\n      <td>...</td>\n      <td>9894</td>\n      <td>50</td>\n      <td>1</td>\n      <td>150</td>\n      <td>37</td>\n      <td>1</td>\n      <td>6.713867e-06</td>\n      <td>1696939021</td>\n      <td>State Enterprise Scientific and Telecommunication</td>\n      <td>UA</td>\n    </tr>\n    <tr>\n      <th>1728</th>\n      <td>0</td>\n      <td>1.1</td>\n      <td>610</td>\n      <td>32</td>\n      <td>Xeon® E5-2650 v2</td>\n      <td>63</td>\n      <td>100</td>\n      <td>12.0</td>\n      <td>1000</td>\n      <td>1524</td>\n      <td>...</td>\n      <td>9963</td>\n      <td>49</td>\n      <td>1</td>\n      <td>150</td>\n      <td>49</td>\n      <td>2</td>\n      <td>6.713867e-06</td>\n      <td>1696939021</td>\n      <td>State Enterprise Scientific and Telecommunication</td>\n      <td>UA</td>\n    </tr>\n    <tr>\n      <th>1729</th>\n      <td>0</td>\n      <td>1.1</td>\n      <td>610</td>\n      <td>32</td>\n      <td>Xeon® E5-2650 v2</td>\n      <td>63</td>\n      <td>100</td>\n      <td>12.0</td>\n      <td>1000</td>\n      <td>1634</td>\n      <td>...</td>\n      <td>9960</td>\n      <td>51</td>\n      <td>1</td>\n      <td>150</td>\n      <td>49</td>\n      <td>1</td>\n      <td>6.713867e-06</td>\n      <td>1696939021</td>\n      <td>State Enterprise Scientific and Telecommunication</td>\n      <td>UA</td>\n    </tr>\n    <tr>\n      <th>1730</th>\n      <td>0</td>\n      <td>1.1</td>\n      <td>750</td>\n      <td>32</td>\n      <td>AMD Ryzen Threadripper 1950X 16-Core Processor</td>\n      <td>63</td>\n      <td>400</td>\n      <td>11.7</td>\n      <td>1000</td>\n      <td>1804</td>\n      <td>...</td>\n      <td>9979</td>\n      <td>48</td>\n      <td>1</td>\n      <td>150</td>\n      <td>61</td>\n      <td>1</td>\n      <td>1.331676e-05</td>\n      <td>1696939021</td>\n      <td>Atlantic Broadband</td>\n      <td>US</td>\n    </tr>\n    <tr>\n      <th>1731</th>\n      <td>0</td>\n      <td>1.1</td>\n      <td>750</td>\n      <td>24</td>\n      <td>Xeon® E5-2630 0</td>\n      <td>354</td>\n      <td>400</td>\n      <td>12.2</td>\n      <td>1000</td>\n      <td>1828</td>\n      <td>...</td>\n      <td>9982</td>\n      <td>24</td>\n      <td>0</td>\n      <td>150</td>\n      <td>15</td>\n      <td>0</td>\n      <td>2.663352e-05</td>\n      <td>1696939021</td>\n      <td>Atlantic Broadband</td>\n      <td>US</td>\n    </tr>\n  </tbody>\n</table>\n<p>1732 rows × 48 columns</p>\n</div>"
     },
     "execution_count": 151,
     "metadata": {},
     "output_type": "execute_result"
    }
   ],
   "source": [
    "# vast.dbm.table_to_df('tmp_machines')"
   ],
   "metadata": {
    "collapsed": false,
    "ExecuteTime": {
     "end_time": "2023-10-10T11:57:35.949702800Z",
     "start_time": "2023-10-10T11:57:35.764662100Z"
    }
   }
  },
  {
   "cell_type": "code",
   "execution_count": 152,
   "outputs": [
    {
     "data": {
      "text/plain": "1059"
     },
     "execution_count": 152,
     "metadata": {},
     "output_type": "execute_result"
    }
   ],
   "source": [
    "vast.update_tables()"
   ],
   "metadata": {
    "collapsed": false,
    "ExecuteTime": {
     "end_time": "2023-10-10T11:57:36.265773500Z",
     "start_time": "2023-10-10T11:57:35.953704700Z"
    }
   }
  },
  {
   "cell_type": "code",
   "execution_count": 153,
   "outputs": [],
   "source": [
    "vast.dbm.commit()"
   ],
   "metadata": {
    "collapsed": false,
    "ExecuteTime": {
     "end_time": "2023-10-10T11:57:36.443796300Z",
     "start_time": "2023-10-10T11:57:36.256772900Z"
    }
   }
  },
  {
   "cell_type": "code",
   "execution_count": 155,
   "outputs": [
    {
     "name": "stderr",
     "output_type": "stream",
     "text": [
      "[10-10-2023 02:18:03] [DEBUG] Closed connection to the database '../data/test.db'.\n"
     ]
    }
   ],
   "source": [
    "vast.close()"
   ],
   "metadata": {
    "collapsed": false,
    "ExecuteTime": {
     "end_time": "2023-10-10T12:18:03.207431300Z",
     "start_time": "2023-10-10T12:18:02.932369300Z"
    }
   }
  },
  {
   "cell_type": "markdown",
   "source": [],
   "metadata": {
    "collapsed": false
   }
  },
  {
   "cell_type": "code",
   "execution_count": 138,
   "outputs": [
    {
     "ename": "NameError",
     "evalue": "name 'db' is not defined",
     "output_type": "error",
     "traceback": [
      "\u001B[1;31m---------------------------------------------------------------------------\u001B[0m",
      "\u001B[1;31mNameError\u001B[0m                                 Traceback (most recent call last)",
      "Cell \u001B[1;32mIn[138], line 1\u001B[0m\n\u001B[1;32m----> 1\u001B[0m \u001B[43mdb\u001B[49m\u001B[38;5;241m.\u001B[39mdbm\u001B[38;5;241m.\u001B[39mcreate_table(\u001B[38;5;124m'\u001B[39m\u001B[38;5;124mtmp_machines\u001B[39m\u001B[38;5;124m'\u001B[39m, [\u001B[38;5;124m'\u001B[39m\u001B[38;5;124mhost_id\u001B[39m\u001B[38;5;124m'\u001B[39m, \u001B[38;5;124m'\u001B[39m\u001B[38;5;124mmachine_id\u001B[39m\u001B[38;5;124m'\u001B[39m, \u001B[38;5;124m'\u001B[39m\u001B[38;5;124mtimestamp\u001B[39m\u001B[38;5;124m'\u001B[39m])\n\u001B[0;32m      2\u001B[0m db\u001B[38;5;241m.\u001B[39mdbm\u001B[38;5;241m.\u001B[39minsert(\u001B[38;5;124m'\u001B[39m\u001B[38;5;124mtmp_machines\u001B[39m\u001B[38;5;124m'\u001B[39m,\n\u001B[0;32m      3\u001B[0m               [[\u001B[38;5;241m1\u001B[39m, \u001B[38;5;241m2\u001B[39m, \u001B[38;5;241m16\u001B[39m],\n\u001B[0;32m      4\u001B[0m                [\u001B[38;5;241m1\u001B[39m, \u001B[38;5;241m3\u001B[39m, \u001B[38;5;241m16\u001B[39m],\n\u001B[0;32m      5\u001B[0m                [\u001B[38;5;241m2\u001B[39m, \u001B[38;5;241m4\u001B[39m, \u001B[38;5;241m16\u001B[39m]])\n",
      "\u001B[1;31mNameError\u001B[0m: name 'db' is not defined"
     ]
    }
   ],
   "source": [
    "db.dbm.create_table('tmp_machines', ['host_id', 'machine_id', 'timestamp'])\n",
    "db.dbm.insert('tmp_machines',\n",
    "              [[1, 2, 16],\n",
    "               [1, 3, 16],\n",
    "               [2, 4, 16]])"
   ],
   "metadata": {
    "collapsed": false,
    "ExecuteTime": {
     "end_time": "2023-10-10T10:09:43.126731500Z",
     "start_time": "2023-10-10T10:09:42.946689700Z"
    }
   }
  },
  {
   "cell_type": "code",
   "execution_count": null,
   "outputs": [],
   "source": [
    "db.dbm.create_table('tmp_offers', ['machine_id', 'id', 'num_gpus', 'timestamp'])\n",
    "db.dbm.insert('tmp_offers', \n",
    "                  [[1, 1, 1, 16], \n",
    "                   [1, 2, 1, 16], \n",
    "                   [2, 3, 2, 16]])"
   ],
   "metadata": {
    "collapsed": false,
    "ExecuteTime": {
     "start_time": "2023-10-10T10:09:43.100725200Z"
    }
   }
  },
  {
   "cell_type": "code",
   "execution_count": null,
   "outputs": [],
   "source": [],
   "metadata": {
    "collapsed": false,
    "ExecuteTime": {
     "start_time": "2023-10-10T10:09:43.102724800Z"
    }
   }
  },
  {
   "cell_type": "code",
   "execution_count": null,
   "outputs": [],
   "source": [
    "db.create_map_tables()\n",
    "db.update_tables()\n",
    "# db.dbm.commit()\n",
    "db.dbm.get_db_stats()"
   ],
   "metadata": {
    "collapsed": false,
    "ExecuteTime": {
     "start_time": "2023-10-10T10:09:43.104725400Z"
    }
   }
  },
  {
   "cell_type": "code",
   "execution_count": null,
   "outputs": [],
   "source": [
    "# db.dbm.table_to_df('host_mach_map')\n",
    "# db.dbm.table_to_df('mach_offer_map')\n",
    "db.dbm.table_to_df('chunks_map')"
   ],
   "metadata": {
    "collapsed": false,
    "ExecuteTime": {
     "start_time": "2023-10-10T10:09:43.106726400Z"
    }
   }
  },
  {
   "cell_type": "code",
   "execution_count": null,
   "outputs": [],
   "source": [
    "db.update_tables()"
   ],
   "metadata": {
    "collapsed": false,
    "ExecuteTime": {
     "start_time": "2023-10-10T10:09:43.108726700Z"
    }
   }
  },
  {
   "cell_type": "code",
   "execution_count": null,
   "outputs": [],
   "source": [
    "# db.connect()\n",
    "\n",
    "for tbl in db.dbm.get_tables():\n",
    "    db.dbm.delete_table(tbl)\n",
    "\n",
    "db.close()"
   ],
   "metadata": {
    "collapsed": false,
    "ExecuteTime": {
     "start_time": "2023-10-10T10:09:43.110728700Z"
    }
   }
  },
  {
   "cell_type": "code",
   "execution_count": null,
   "outputs": [],
   "source": [],
   "metadata": {
    "collapsed": false,
    "ExecuteTime": {
     "start_time": "2023-10-10T10:09:43.112727100Z"
    }
   }
  },
  {
   "cell_type": "code",
   "execution_count": null,
   "outputs": [],
   "source": [],
   "metadata": {
    "collapsed": false,
    "ExecuteTime": {
     "start_time": "2023-10-10T10:09:43.114728900Z"
    }
   }
  },
  {
   "cell_type": "code",
   "execution_count": null,
   "outputs": [],
   "source": [],
   "metadata": {
    "collapsed": false,
    "ExecuteTime": {
     "start_time": "2023-10-10T10:09:43.116728400Z"
    }
   }
  },
  {
   "cell_type": "code",
   "execution_count": null,
   "outputs": [],
   "source": [
    "raw = fetch()\n",
    "preprocess(raw)\n",
    "machines, offers = split_raw(raw)"
   ],
   "metadata": {
    "collapsed": false,
    "ExecuteTime": {
     "start_time": "2023-10-10T10:09:43.118728800Z"
    }
   }
  },
  {
   "cell_type": "code",
   "execution_count": null,
   "outputs": [],
   "source": [
    "db.connect()\n",
    "db.create_tmp_tables(machines, offers)\n",
    "db.create_map_tables()"
   ],
   "metadata": {
    "collapsed": false,
    "ExecuteTime": {
     "start_time": "2023-10-10T10:09:43.119729900Z"
    }
   }
  },
  {
   "cell_type": "code",
   "execution_count": null,
   "outputs": [],
   "source": [
    "db.dbm.get_db_stats()\n",
    "# db.dbm.delete_table('int32')"
   ],
   "metadata": {
    "collapsed": false,
    "ExecuteTime": {
     "start_time": "2023-10-10T10:09:43.121730500Z"
    }
   }
  },
  {
   "cell_type": "code",
   "execution_count": null,
   "outputs": [],
   "source": [
    "db.create_ts_index()"
   ],
   "metadata": {
    "collapsed": false,
    "ExecuteTime": {
     "start_time": "2023-10-10T10:09:43.123730700Z"
    }
   }
  },
  {
   "cell_type": "code",
   "execution_count": null,
   "outputs": [],
   "source": [
    "db.update_tables()"
   ],
   "metadata": {
    "collapsed": false,
    "ExecuteTime": {
     "start_time": "2023-10-10T10:09:43.125731600Z"
    }
   }
  },
  {
   "cell_type": "code",
   "execution_count": null,
   "outputs": [],
   "source": [
    "db.dbm.commit()"
   ],
   "metadata": {
    "collapsed": false,
    "ExecuteTime": {
     "end_time": "2023-10-10T10:09:43.166740400Z",
     "start_time": "2023-10-10T10:09:43.127731900Z"
    }
   }
  },
  {
   "cell_type": "code",
   "execution_count": null,
   "outputs": [],
   "source": [
    "db.dbm.get_db_stats()"
   ],
   "metadata": {
    "collapsed": false,
    "ExecuteTime": {
     "start_time": "2023-10-10T10:09:43.128732400Z"
    }
   }
  },
  {
   "cell_type": "code",
   "execution_count": null,
   "outputs": [],
   "source": [
    "# db.dbm.table_to_df('mach_offer_map')\n",
    "db.dbm.table_to_df('mach_offer_map').sort_values(by='machine_id')"
   ],
   "metadata": {
    "collapsed": false,
    "ExecuteTime": {
     "start_time": "2023-10-10T10:09:43.129732300Z"
    }
   }
  },
  {
   "cell_type": "code",
   "execution_count": null,
   "outputs": [],
   "source": [
    "db.dbm.table_to_df('chunks_map').sort_values(by='id')"
   ],
   "metadata": {
    "collapsed": false,
    "ExecuteTime": {
     "start_time": "2023-10-10T10:09:43.131733100Z"
    }
   }
  },
  {
   "cell_type": "code",
   "execution_count": null,
   "outputs": [],
   "source": [
    "db.dbm.table_to_df('tmp_offers').sort_values(by='id')"
   ],
   "metadata": {
    "collapsed": false,
    "ExecuteTime": {
     "start_time": "2023-10-10T10:09:43.132733100Z"
    }
   }
  },
  {
   "cell_type": "code",
   "execution_count": null,
   "outputs": [],
   "source": [
    "db.close()"
   ],
   "metadata": {
    "collapsed": false,
    "ExecuteTime": {
     "start_time": "2023-10-10T10:09:43.133732700Z"
    }
   }
  }
 ],
 "metadata": {
  "kernelspec": {
   "display_name": "Python 3",
   "language": "python",
   "name": "python3"
  },
  "language_info": {
   "codemirror_mode": {
    "name": "ipython",
    "version": 2
   },
   "file_extension": ".py",
   "mimetype": "text/x-python",
   "name": "python",
   "nbconvert_exporter": "python",
   "pygments_lexer": "ipython2",
   "version": "2.7.6"
  }
 },
 "nbformat": 4,
 "nbformat_minor": 0
}
