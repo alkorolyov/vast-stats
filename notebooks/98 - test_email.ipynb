{
 "cells": [
  {
   "cell_type": "code",
   "execution_count": 5,
   "id": "initial_id",
   "metadata": {
    "collapsed": true,
    "ExecuteTime": {
     "end_time": "2024-03-27T08:56:40.888892800Z",
     "start_time": "2024-03-27T08:56:39.050854200Z"
    }
   },
   "outputs": [],
   "source": [
    "import smtplib\n",
    "from email.mime.multipart import MIMEMultipart\n",
    "from email.mime.text import MIMEText\n",
    "import logging\n",
    "\n",
    "def send_error_email(subject, body):\n",
    "    # Email configuration\n",
    "    sender_email = 'ergot.notification@gmail.com'\n",
    "    receiver_email = 'korol.al@gmail.com'\n",
    "    smtp_server = 'smtp.gmail.com'\n",
    "    smtp_port = 587  # Port for TLS\n",
    "\n",
    "    # Create a multipart message and set headers\n",
    "    message = MIMEMultipart()\n",
    "    message['From'] = sender_email\n",
    "    message['To'] = receiver_email\n",
    "    message['Subject'] = subject\n",
    "\n",
    "    # Add body to email\n",
    "    message.attach(MIMEText(body, 'plain'))\n",
    "\n",
    "    # Create SMTP session for sending the mail\n",
    "    try:\n",
    "        server = smtplib.SMTP(smtp_server, smtp_port)\n",
    "        server.starttls()  # Secure the connection\n",
    "        server.login(sender_email, 'czkg kwcw wtwq cdnb')  # Replace 'your_password' with your email password\n",
    "\n",
    "        # Send the email\n",
    "        server.sendmail(sender_email, receiver_email, message.as_string())\n",
    "        logging.info(\"Error email sent successfully!\")\n",
    "\n",
    "    except Exception as e:\n",
    "        logging.warning(f\"Error sending email: {e}\")\n",
    "\n",
    "    finally:\n",
    "        # Close the SMTP server\n",
    "        server.quit()\n",
    "\n",
    "# Example usage\n",
    "subject = \"Error Report\"\n",
    "body = \"An error occurred in the application. Here are the details: <error_message>\"\n",
    "send_error_email(subject, body)"
   ]
  },
  {
   "cell_type": "code",
   "execution_count": 6,
   "outputs": [
    {
     "name": "stdout",
     "output_type": "stream",
     "text": [
      "The machine name is: ALEX-PC\n"
     ]
    }
   ],
   "source": [
    "import socket\n",
    "\n",
    "def get_machine_name():\n",
    "    try:\n",
    "        hostname = socket.gethostname()\n",
    "        return hostname\n",
    "    except Exception as e:\n",
    "        print(f\"Error getting machine name: {e}\")\n",
    "        return None\n",
    "\n",
    "# Example usage\n",
    "machine_name = get_machine_name()\n",
    "if machine_name:\n",
    "    print(f\"The machine name is: {machine_name}\")\n",
    "else:\n",
    "    print(\"Failed to retrieve machine name.\")"
   ],
   "metadata": {
    "collapsed": false,
    "ExecuteTime": {
     "end_time": "2024-03-27T08:59:00.062143100Z",
     "start_time": "2024-03-27T08:59:00.056143300Z"
    }
   },
   "id": "8616f9dabf1525ea"
  }
 ],
 "metadata": {
  "kernelspec": {
   "display_name": "Python 3",
   "language": "python",
   "name": "python3"
  },
  "language_info": {
   "codemirror_mode": {
    "name": "ipython",
    "version": 2
   },
   "file_extension": ".py",
   "mimetype": "text/x-python",
   "name": "python",
   "nbconvert_exporter": "python",
   "pygments_lexer": "ipython2",
   "version": "2.7.6"
  }
 },
 "nbformat": 4,
 "nbformat_minor": 5
}
